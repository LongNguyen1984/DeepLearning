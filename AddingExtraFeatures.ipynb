{
  "nbformat": 4,
  "nbformat_minor": 0,
  "metadata": {
    "colab": {
      "name": "AddingExtraFeatures.ipynb",
      "provenance": [],
      "authorship_tag": "ABX9TyPzGOTsTL12xsi1eu7tJBQl",
      "include_colab_link": true
    },
    "kernelspec": {
      "name": "python3",
      "display_name": "Python 3"
    },
    "accelerator": "GPU"
  },
  "cells": [
    {
      "cell_type": "markdown",
      "metadata": {
        "id": "view-in-github",
        "colab_type": "text"
      },
      "source": [
        "<a href=\"https://colab.research.google.com/github/LongNguyen1984/DeepLearning/blob/master/AddingExtraFeatures.ipynb\" target=\"_parent\"><img src=\"https://colab.research.google.com/assets/colab-badge.svg\" alt=\"Open In Colab\"/></a>"
      ]
    },
    {
      "cell_type": "markdown",
      "metadata": {
        "id": "hzhPSMA4ZC1f",
        "colab_type": "text"
      },
      "source": [
        "# Polynomial Feature Transform"
      ]
    },
    {
      "cell_type": "code",
      "metadata": {
        "id": "-DvzmJ6BYHVA",
        "colab_type": "code",
        "colab": {
          "base_uri": "https://localhost:8080/",
          "height": 119
        },
        "outputId": "11964649-8671-4d6f-c7ae-0014df7661c1"
      },
      "source": [
        "# demonstrate the types of features created\n",
        "from numpy import asarray\n",
        "from sklearn.preprocessing import PolynomialFeatures\n",
        "# define the dataset\n",
        "data = asarray([[2, 3], [2, 3], [2,3]])\n",
        "print(data)\n",
        "# perfomr a polynomial features transform of the dataset\n",
        "trans =PolynomialFeatures(degree=3)\n",
        "data = trans.fit_transform(data)\n",
        "print(data)"
      ],
      "execution_count": 2,
      "outputs": [
        {
          "output_type": "stream",
          "text": [
            "[[2 3]\n",
            " [2 3]\n",
            " [2 3]]\n",
            "[[ 1.  2.  3.  4.  6.  9.  8. 12. 18. 27.]\n",
            " [ 1.  2.  3.  4.  6.  9.  8. 12. 18. 27.]\n",
            " [ 1.  2.  3.  4.  6.  9.  8. 12. 18. 27.]]\n"
          ],
          "name": "stdout"
        }
      ]
    },
    {
      "cell_type": "markdown",
      "metadata": {
        "id": "oQcErq5faKQs",
        "colab_type": "text"
      },
      "source": [
        "# Sonar Dataset"
      ]
    },
    {
      "cell_type": "code",
      "metadata": {
        "id": "1jZcW0TVaJgX",
        "colab_type": "code",
        "colab": {
          "base_uri": "https://localhost:8080/",
          "height": 472
        },
        "outputId": "993db9f9-480c-4831-9110-bbb8289a14ef"
      },
      "source": [
        "from pandas import read_csv\n",
        "from matplotlib import pyplot\n",
        "# load dataset\n",
        "dataset = read_csv('https://raw.githubusercontent.com/jbrownlee/Datasets/master/sonar.csv',header=None)\n",
        "# summarize the shape of the dataset\n",
        "print(dataset.shape)\n",
        "# summarize each variable\n",
        "print(dataset.describe())\n",
        "# histograms of the variables\n",
        "fig = dataset.hist(xlabelsize=4, ylabelsize=4)\n",
        "[x.title.set_size(4) for x in fig.ravel()]\n",
        "# show the plot\n",
        "pyplot.show()"
      ],
      "execution_count": 4,
      "outputs": [
        {
          "output_type": "stream",
          "text": [
            "(208, 61)\n",
            "               0           1           2   ...          57          58          59\n",
            "count  208.000000  208.000000  208.000000  ...  208.000000  208.000000  208.000000\n",
            "mean     0.029164    0.038437    0.043832  ...    0.007949    0.007941    0.006507\n",
            "std      0.022991    0.032960    0.038428  ...    0.006470    0.006181    0.005031\n",
            "min      0.001500    0.000600    0.001500  ...    0.000300    0.000100    0.000600\n",
            "25%      0.013350    0.016450    0.018950  ...    0.003600    0.003675    0.003100\n",
            "50%      0.022800    0.030800    0.034300  ...    0.005800    0.006400    0.005300\n",
            "75%      0.035550    0.047950    0.057950  ...    0.010350    0.010325    0.008525\n",
            "max      0.137100    0.233900    0.305900  ...    0.044000    0.036400    0.043900\n",
            "\n",
            "[8 rows x 60 columns]\n"
          ],
          "name": "stdout"
        },
        {
          "output_type": "display_data",
          "data": {
            "image/png": "[encoded data removed]",
            "text/plain": [
              "<Figure size 432x288 with 64 Axes>"
            ]
          },
          "metadata": {
            "tags": [],
            "needs_background": "light"
          }
        }
      ]
    },
    {
      "cell_type": "markdown",
      "metadata": {
        "id": "s7HV6nREbGQT",
        "colab_type": "text"
      },
      "source": [
        "Evaluate the model from KNN"
      ]
    },
    {
      "cell_type": "code",
      "metadata": {
        "id": "-3qWX_HWa_vm",
        "colab_type": "code",
        "colab": {
          "base_uri": "https://localhost:8080/",
          "height": 34
        },
        "outputId": "4c461d68-8e18-401c-a419-e05c58dac58f"
      },
      "source": [
        "from numpy import mean\n",
        "from numpy import std\n",
        "from pandas import read_csv\n",
        "from sklearn.model_selection import cross_val_score\n",
        "from sklearn.model_selection import RepeatedStratifiedKFold\n",
        "from sklearn.neighbors import KNeighborsClassifier\n",
        "from sklearn.preprocessing import LabelEncoder\n",
        "# load dataset\n",
        "dataset = read_csv('https://raw.githubusercontent.com/jbrownlee/Datasets/master/sonar.csv', header=None)\n",
        "data = dataset.values\n",
        "# seperate into input and output columns\n",
        "X, y = data[:,:-1], data[:,-1]\n",
        "# ensure inputs are floats and output is an integer label\n",
        "X = X.astype('float32')\n",
        "y = LabelEncoder().fit_transform(y.astype('str'))\n",
        "# define and configure the model\n",
        "model = KNeighborsClassifier()\n",
        "# evaluate the model\n",
        "cv = RepeatedStratifiedKFold(n_splits=10, n_repeats=3, random_state=1)\n",
        "n_scores = cross_val_score(model, X, y, scoring='accuracy', cv=cv, n_jobs=-1)\n",
        "# report model performance\n",
        "print('Accuracy: %.3f (%.3f)' % (mean(n_scores), std(n_scores)))\n"
      ],
      "execution_count": 6,
      "outputs": [
        {
          "output_type": "stream",
          "text": [
            "Accuracy: 0.797 (0.073)\n"
          ],
          "name": "stdout"
        }
      ]
    },
    {
      "cell_type": "markdown",
      "metadata": {
        "id": "SGO2Z6ZDcmBU",
        "colab_type": "text"
      },
      "source": [
        "Polynomial Feature Transform"
      ]
    },
    {
      "cell_type": "code",
      "metadata": {
        "id": "jiNohmDvaJit",
        "colab_type": "code",
        "colab": {
          "base_uri": "https://localhost:8080/",
          "height": 34
        },
        "outputId": "f7e3a282-2fa2-48db-bfc7-66a287b65510"
      },
      "source": [
        "from pandas import read_csv\n",
        "from pandas import DataFrame\n",
        "from sklearn.preprocessing import PolynomialFeatures\n",
        "# load dataset\n",
        "dataset = read_csv('https://raw.githubusercontent.com/jbrownlee/Datasets/master/sonar.csv', header=None)\n",
        "# retrieve just the numeric input values\n",
        "data= dataset.values[:,:-1]\n",
        "# perform a polynomial features transform of the dataset\n",
        "trans = PolynomialFeatures(degree=3)\n",
        "data = trans.fit_transform(data)\n",
        "# convert the array back to a dataframe\n",
        "dataset = DataFrame(data)\n",
        "#summrize\n",
        "print(dataset.shape)"
      ],
      "execution_count": 7,
      "outputs": [
        {
          "output_type": "stream",
          "text": [
            "(208, 39711)\n"
          ],
          "name": "stdout"
        }
      ]
    },
    {
      "cell_type": "markdown",
      "metadata": {
        "id": "aZrxs_4edymx",
        "colab_type": "text"
      },
      "source": [
        "# evaluate with new features"
      ]
    },
    {
      "cell_type": "code",
      "metadata": {
        "id": "z6byMMRzdx7F",
        "colab_type": "code",
        "colab": {
          "base_uri": "https://localhost:8080/",
          "height": 34
        },
        "outputId": "050dd616-6da8-43af-e8f6-76658f318b33"
      },
      "source": [
        "from numpy import mean\n",
        "from numpy import std\n",
        "from pandas import read_csv\n",
        "from sklearn.model_selection import cross_val_score\n",
        "from sklearn.model_selection import RepeatedStratifiedKFold\n",
        "from sklearn.neighbors import KNeighborsClassifier\n",
        "from sklearn.preprocessing import LabelEncoder\n",
        "from sklearn.preprocessing import PolynomialFeatures\n",
        "from sklearn.pipeline import Pipeline\n",
        "# load dataset\n",
        "dataset = read_csv('https://raw.githubusercontent.com/jbrownlee/Datasets/master/sonar.csv', header=None)\n",
        "data = dataset.values\n",
        "# seperate into input and output columns\n",
        "X, y = data[:,:-1], data[:,-1]\n",
        "# ensure inputs are floats and output is an integer label\n",
        "X = X.astype('float32')\n",
        "y = LabelEncoder().fit_transform(y.astype('str'))\n",
        "# define the pipeline\n",
        "trans = PolynomialFeatures(degree=3)\n",
        "model = KNeighborsClassifier()\n",
        "pipeline = Pipeline(steps=[('t',trans),('m', model)])\n",
        "# evaluate the pipeline\n",
        "cv = RepeatedStratifiedKFold(n_splits=10, n_repeats=3, random_state=1)\n",
        "n_scores = cross_val_score(pipeline, X, y, scoring='accuracy',cv=cv, n_jobs=-1)\n",
        "# report pipeline performance\n",
        "print('Accuracy: %.3f (%.3f)' % (mean(n_scores), std(n_scores)))"
      ],
      "execution_count": 5,
      "outputs": [
        {
          "output_type": "stream",
          "text": [
            "Accuracy: 0.800 (0.077)\n"
          ],
          "name": "stdout"
        }
      ]
    }
  ]
}