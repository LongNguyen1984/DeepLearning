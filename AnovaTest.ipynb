{
  "nbformat": 4,
  "nbformat_minor": 0,
  "metadata": {
    "colab": {
      "name": "AnovaTest.ipynb",
      "provenance": [],
      "authorship_tag": "ABX9TyO4gedfrUJxD7vKpIGBAbzh",
      "include_colab_link": true
    },
    "kernelspec": {
      "name": "python3",
      "display_name": "Python 3"
    }
  },
  "cells": [
    {
      "cell_type": "markdown",
      "metadata": {
        "id": "view-in-github",
        "colab_type": "text"
      },
      "source": [
        "<a href=\"https://colab.research.google.com/github/LongNguyen1984/DeepLearning/blob/master/AnovaTest.ipynb\" target=\"_parent\"><img src=\"https://colab.research.google.com/assets/colab-badge.svg\" alt=\"Open In Colab\"/></a>"
      ]
    },
    {
      "cell_type": "markdown",
      "metadata": {
        "id": "0JgljeZm6kqM"
      },
      "source": [
        "#ANOVA example"
      ]
    },
    {
      "cell_type": "code",
      "metadata": {
        "colab": {
          "base_uri": "https://localhost:8080/"
        },
        "id": "p_ow8Gxy9Nuh",
        "outputId": "d6e49f00-202f-4021-b7c7-8c93dfd7da06"
      },
      "source": [
        "pip install bioinfokit"
      ],
      "execution_count": 6,
      "outputs": [
        {
          "output_type": "stream",
          "text": [
            "Collecting bioinfokit\n",
            "\u001b[?25l  Downloading https://files.pythonhosted.org/packages/c8/ba/e72c2a6d9d8f8a5ab305603e918ed5bb06b35749ea5727e96f904af16576/bioinfokit-1.0.5.tar.gz (76kB)\n",
            "\r\u001b[K     |████▎                           | 10kB 17.2MB/s eta 0:00:01\r\u001b[K     |████████▋                       | 20kB 19.3MB/s eta 0:00:01\r\u001b[K     |████████████▉                   | 30kB 9.7MB/s eta 0:00:01\r\u001b[K     |█████████████████▏              | 40kB 8.8MB/s eta 0:00:01\r\u001b[K     |█████████████████████▌          | 51kB 4.4MB/s eta 0:00:01\r\u001b[K     |█████████████████████████▊      | 61kB 4.5MB/s eta 0:00:01\r\u001b[K     |██████████████████████████████  | 71kB 4.8MB/s eta 0:00:01\r\u001b[K     |████████████████████████████████| 81kB 3.6MB/s \n",
            "\u001b[?25hRequirement already satisfied: pandas in /usr/local/lib/python3.6/dist-packages (from bioinfokit) (1.1.5)\n",
            "Requirement already satisfied: numpy in /usr/local/lib/python3.6/dist-packages (from bioinfokit) (1.19.4)\n",
            "Requirement already satisfied: matplotlib in /usr/local/lib/python3.6/dist-packages (from bioinfokit) (3.2.2)\n",
            "Requirement already satisfied: scipy in /usr/local/lib/python3.6/dist-packages (from bioinfokit) (1.4.1)\n",
            "Requirement already satisfied: scikit-learn in /usr/local/lib/python3.6/dist-packages (from bioinfokit) (0.22.2.post1)\n",
            "Requirement already satisfied: seaborn in /usr/local/lib/python3.6/dist-packages (from bioinfokit) (0.11.0)\n",
            "Requirement already satisfied: matplotlib_venn in /usr/local/lib/python3.6/dist-packages (from bioinfokit) (0.11.6)\n",
            "Requirement already satisfied: tabulate in /usr/local/lib/python3.6/dist-packages (from bioinfokit) (0.8.7)\n",
            "Requirement already satisfied: statsmodels in /usr/local/lib/python3.6/dist-packages (from bioinfokit) (0.10.2)\n",
            "Collecting textwrap3\n",
            "  Downloading https://files.pythonhosted.org/packages/77/9c/a53e561d496ee5866bbeea4d3a850b3b545ed854f8a21007c1e0d872e94d/textwrap3-0.9.2-py2.py3-none-any.whl\n",
            "Collecting adjustText\n",
            "  Downloading https://files.pythonhosted.org/packages/9e/15/4157718bf323fd5f5b81c891c660d0f388e042d2689a558bf1389632dc44/adjustText-0.7.3.tar.gz\n",
            "Requirement already satisfied: python-dateutil>=2.7.3 in /usr/local/lib/python3.6/dist-packages (from pandas->bioinfokit) (2.8.1)\n",
            "Requirement already satisfied: pytz>=2017.2 in /usr/local/lib/python3.6/dist-packages (from pandas->bioinfokit) (2018.9)\n",
            "Requirement already satisfied: kiwisolver>=1.0.1 in /usr/local/lib/python3.6/dist-packages (from matplotlib->bioinfokit) (1.3.1)\n",
            "Requirement already satisfied: pyparsing!=2.0.4,!=2.1.2,!=2.1.6,>=2.0.1 in /usr/local/lib/python3.6/dist-packages (from matplotlib->bioinfokit) (2.4.7)\n",
            "Requirement already satisfied: cycler>=0.10 in /usr/local/lib/python3.6/dist-packages (from matplotlib->bioinfokit) (0.10.0)\n",
            "Requirement already satisfied: joblib>=0.11 in /usr/local/lib/python3.6/dist-packages (from scikit-learn->bioinfokit) (1.0.0)\n",
            "Requirement already satisfied: patsy>=0.4.0 in /usr/local/lib/python3.6/dist-packages (from statsmodels->bioinfokit) (0.5.1)\n",
            "Requirement already satisfied: six>=1.5 in /usr/local/lib/python3.6/dist-packages (from python-dateutil>=2.7.3->pandas->bioinfokit) (1.15.0)\n",
            "Building wheels for collected packages: bioinfokit, adjustText\n",
            "  Building wheel for bioinfokit (setup.py) ... \u001b[?25l\u001b[?25hdone\n",
            "  Created wheel for bioinfokit: filename=bioinfokit-1.0.5-cp36-none-any.whl size=54217 sha256=c37a941926c78e066acd783fe6aefa224be61671b694accc2330b5346bee0150\n",
            "  Stored in directory: /root/.cache/pip/wheels/4e/b8/ed/3a7e814aec9d917e329eca3a46a320c3690a17b17de64ad6cf\n",
            "  Building wheel for adjustText (setup.py) ... \u001b[?25l\u001b[?25hdone\n",
            "  Created wheel for adjustText: filename=adjustText-0.7.3-cp36-none-any.whl size=7099 sha256=5f9c260a7a64af5d70b904fa30326d943702cf86a2f1df559f57a7bdf37d21ea\n",
            "  Stored in directory: /root/.cache/pip/wheels/41/95/74/7d347e136d672f8bc28e937032bc92baf4f80856763a7e7b72\n",
            "Successfully built bioinfokit adjustText\n",
            "Installing collected packages: textwrap3, adjustText, bioinfokit\n",
            "Successfully installed adjustText-0.7.3 bioinfokit-1.0.5 textwrap3-0.9.2\n"
          ],
          "name": "stdout"
        }
      ]
    },
    {
      "cell_type": "code",
      "metadata": {
        "colab": {
          "base_uri": "https://localhost:8080/",
          "height": 279
        },
        "id": "iDyqHFst6kSu",
        "outputId": "81b7bfe9-a4c1-40c5-c0eb-f5cdc992c53a"
      },
      "source": [
        "# I am using Python 3\r\n",
        "# load packages\r\n",
        "import pandas as pd\r\n",
        "# load data file\r\n",
        "df = pd.read_csv(\"https://reneshbedre.github.io/assets/posts/anova/onewayanova.txt\", sep=\"\\t\")\r\n",
        "# reshape the d datafrane suitable for statsmodels package\r\n",
        "df_melt = pd.melt(df.reset_index(), id_vars=['index'], value_vars=['A', 'B', 'C', 'D'])\r\n",
        "# replace column names\r\n",
        "df_melt.columns = ['index', 'treatments','value']\r\n",
        "\r\n",
        "# generate a boxplot to see the data distribution by treatments. Using boxplot, we can\r\n",
        "# easily detect the differences between different treatments\r\n",
        "import matplotlib.pyplot as plt\r\n",
        "import seaborn as sns\r\n",
        "ax = sns.boxplot(x='treatments', y ='value', data=df_melt,color='#99c2a2')\r\n",
        "ax = sns.swarmplot(x='treatments', y = 'value', data=df_melt, color='#7d0013')\r\n",
        "plt.show()"
      ],
      "execution_count": 2,
      "outputs": [
        {
          "output_type": "display_data",
          "data": {
            "image/png": "[encoded data removed]",
            "text/plain": [
              "<Figure size 432x288 with 1 Axes>"
            ]
          },
          "metadata": {
            "tags": [],
            "needs_background": "light"
          }
        }
      ]
    },
    {
      "cell_type": "code",
      "metadata": {
        "colab": {
          "base_uri": "https://localhost:8080/",
          "height": 128
        },
        "id": "dQF-Cc9B6ZsX",
        "outputId": "fbabfe1c-f356-4482-9982-1824931fd83a"
      },
      "source": [
        "# load packages\r\n",
        "import scipy.stats as stats\r\n",
        "# stats f_oneway functions takes the groups as input and returns F and P-value\r\n",
        "fvalue, pvalue = stats.f_oneway(df['A'], df['B'],df['C'], df['D'])\r\n",
        "print(fvalue, pvalue)\r\n",
        "# get ANOVA table as R like output\r\n",
        "import statsmodels.api as sm\r\n",
        "from statsmodels.formula.api import ols\r\n",
        "\r\n",
        "# Ordinary Least Squares (OLS) model\r\n",
        "model = ols('value ~ C(treatments)', data=df_melt).fit()\r\n",
        "anova_table = sm.stats.anova_lm(model, typ=2)\r\n",
        "anova_table\r\n",
        "# output\r\n",
        "                \r\n",
        "\r\n",
        "# ANOVA table using bioinfokit v1.0.3 or later (it uses wrapper script for anova_lm)\r\n",
        "from bioinfokit.analys import stat\r\n",
        "res = stat()\r\n",
        "res.anova_stat(df=df_melt, res_var='value', anova_model='value ~ C(treatments)')\r\n",
        "res.anova_summary\r\n",
        "\r\n",
        "# note: if the data is balanced (equal sample size for each group), Type 1, 2, and 3 sums of squares\r\n",
        "# (typ parameter) will produce similar results."
      ],
      "execution_count": 7,
      "outputs": [
        {
          "output_type": "stream",
          "text": [
            "17.492810457516338 2.639241146210922e-05\n"
          ],
          "name": "stdout"
        },
        {
          "output_type": "execute_result",
          "data": {
            "text/html": [
              "<div>\n",
              "<style scoped>\n",
              "    .dataframe tbody tr th:only-of-type {\n",
              "        vertical-align: middle;\n",
              "    }\n",
              "\n",
              "    .dataframe tbody tr th {\n",
              "        vertical-align: top;\n",
              "    }\n",
              "\n",
              "    .dataframe thead th {\n",
              "        text-align: right;\n",
              "    }\n",
              "</style>\n",
              "<table border=\"1\" class=\"dataframe\">\n",
              "  <thead>\n",
              "    <tr style=\"text-align: right;\">\n",
              "      <th></th>\n",
              "      <th>df</th>\n",
              "      <th>sum_sq</th>\n",
              "      <th>mean_sq</th>\n",
              "      <th>F</th>\n",
              "      <th>PR(&gt;F)</th>\n",
              "    </tr>\n",
              "  </thead>\n",
              "  <tbody>\n",
              "    <tr>\n",
              "      <th>C(treatments)</th>\n",
              "      <td>3.0</td>\n",
              "      <td>3010.95</td>\n",
              "      <td>1003.650</td>\n",
              "      <td>17.49281</td>\n",
              "      <td>0.000026</td>\n",
              "    </tr>\n",
              "    <tr>\n",
              "      <th>Residual</th>\n",
              "      <td>16.0</td>\n",
              "      <td>918.00</td>\n",
              "      <td>57.375</td>\n",
              "      <td>NaN</td>\n",
              "      <td>NaN</td>\n",
              "    </tr>\n",
              "  </tbody>\n",
              "</table>\n",
              "</div>"
            ],
            "text/plain": [
              "                 df   sum_sq   mean_sq         F    PR(>F)\n",
              "C(treatments)   3.0  3010.95  1003.650  17.49281  0.000026\n",
              "Residual       16.0   918.00    57.375       NaN       NaN"
            ]
          },
          "metadata": {
            "tags": []
          },
          "execution_count": 7
        }
      ]
    },
    {
      "cell_type": "code",
      "metadata": {
        "colab": {
          "base_uri": "https://localhost:8080/",
          "height": 235
        },
        "id": "Hw6V9kSv9kdL",
        "outputId": "7fd9c9c1-6aef-44ef-de4c-8b8042b5fc8b"
      },
      "source": [
        "# we will use bioinfokit (v1.0.3 or later) for performing tukey HSD test\r\n",
        "# check documentation here https://reneshbedre.github.io/blog/howtoinstall.html\r\n",
        "from bioinfokit.analys import stat\r\n",
        "# perform multiple pairwise comparison (Tukey's HSD)\r\n",
        "# unequal sample size data, tukey_hsd uses Tukey-Kramer test\r\n",
        "res = stat()\r\n",
        "res.tukey_hsd(df=df_melt, res_var='value', xfac_var='treatments', anova_model='value ~ C(treatments)')\r\n",
        "res.tukey_summary\r\n"
      ],
      "execution_count": 8,
      "outputs": [
        {
          "output_type": "execute_result",
          "data": {
            "text/html": [
              "<div>\n",
              "<style scoped>\n",
              "    .dataframe tbody tr th:only-of-type {\n",
              "        vertical-align: middle;\n",
              "    }\n",
              "\n",
              "    .dataframe tbody tr th {\n",
              "        vertical-align: top;\n",
              "    }\n",
              "\n",
              "    .dataframe thead th {\n",
              "        text-align: right;\n",
              "    }\n",
              "</style>\n",
              "<table border=\"1\" class=\"dataframe\">\n",
              "  <thead>\n",
              "    <tr style=\"text-align: right;\">\n",
              "      <th></th>\n",
              "      <th>group1</th>\n",
              "      <th>group2</th>\n",
              "      <th>Diff</th>\n",
              "      <th>Lower</th>\n",
              "      <th>Upper</th>\n",
              "      <th>q-value</th>\n",
              "      <th>p-value</th>\n",
              "    </tr>\n",
              "  </thead>\n",
              "  <tbody>\n",
              "    <tr>\n",
              "      <th>0</th>\n",
              "      <td>A</td>\n",
              "      <td>B</td>\n",
              "      <td>15.4</td>\n",
              "      <td>1.692871</td>\n",
              "      <td>29.107129</td>\n",
              "      <td>4.546156</td>\n",
              "      <td>0.025070</td>\n",
              "    </tr>\n",
              "    <tr>\n",
              "      <th>1</th>\n",
              "      <td>A</td>\n",
              "      <td>C</td>\n",
              "      <td>1.6</td>\n",
              "      <td>-12.107129</td>\n",
              "      <td>15.307129</td>\n",
              "      <td>0.472328</td>\n",
              "      <td>0.900000</td>\n",
              "    </tr>\n",
              "    <tr>\n",
              "      <th>2</th>\n",
              "      <td>A</td>\n",
              "      <td>D</td>\n",
              "      <td>30.4</td>\n",
              "      <td>16.692871</td>\n",
              "      <td>44.107129</td>\n",
              "      <td>8.974231</td>\n",
              "      <td>0.001000</td>\n",
              "    </tr>\n",
              "    <tr>\n",
              "      <th>3</th>\n",
              "      <td>B</td>\n",
              "      <td>C</td>\n",
              "      <td>13.8</td>\n",
              "      <td>0.092871</td>\n",
              "      <td>27.507129</td>\n",
              "      <td>4.073828</td>\n",
              "      <td>0.048178</td>\n",
              "    </tr>\n",
              "    <tr>\n",
              "      <th>4</th>\n",
              "      <td>B</td>\n",
              "      <td>D</td>\n",
              "      <td>15.0</td>\n",
              "      <td>1.292871</td>\n",
              "      <td>28.707129</td>\n",
              "      <td>4.428074</td>\n",
              "      <td>0.029578</td>\n",
              "    </tr>\n",
              "    <tr>\n",
              "      <th>5</th>\n",
              "      <td>C</td>\n",
              "      <td>D</td>\n",
              "      <td>28.8</td>\n",
              "      <td>15.092871</td>\n",
              "      <td>42.507129</td>\n",
              "      <td>8.501903</td>\n",
              "      <td>0.001000</td>\n",
              "    </tr>\n",
              "  </tbody>\n",
              "</table>\n",
              "</div>"
            ],
            "text/plain": [
              "  group1 group2  Diff      Lower      Upper   q-value   p-value\n",
              "0      A      B  15.4   1.692871  29.107129  4.546156  0.025070\n",
              "1      A      C   1.6 -12.107129  15.307129  0.472328  0.900000\n",
              "2      A      D  30.4  16.692871  44.107129  8.974231  0.001000\n",
              "3      B      C  13.8   0.092871  27.507129  4.073828  0.048178\n",
              "4      B      D  15.0   1.292871  28.707129  4.428074  0.029578\n",
              "5      C      D  28.8  15.092871  42.507129  8.501903  0.001000"
            ]
          },
          "metadata": {
            "tags": []
          },
          "execution_count": 8
        }
      ]
    },
    {
      "cell_type": "code",
      "metadata": {
        "colab": {
          "base_uri": "https://localhost:8080/",
          "height": 541
        },
        "id": "UPmBzIXyBpNo",
        "outputId": "c2ed5986-9c28-4f37-e30b-8145c8af9470"
      },
      "source": [
        "# QQ-plot\r\n",
        "import statsmodels.api as sm\r\n",
        "import matplotlib.pyplot as plt\r\n",
        "# res.anova_std_residuals are standardized residuals obtained from ANOVA (check above)\r\n",
        "sm.qqplot(res.anova_std_residuals, line='45')\r\n",
        "plt.xlabel(\"Theoretical Quantiles\")\r\n",
        "plt.ylabel(\"Standardized Residuals\")\r\n",
        "plt.show()\r\n",
        "\r\n",
        "# histogram\r\n",
        "plt.hist(res.anova_model_out.resid, bins='auto', histtype='bar', ec='k') \r\n",
        "plt.xlabel(\"Residuals\")\r\n",
        "plt.ylabel('Frequency')\r\n",
        "plt.show()"
      ],
      "execution_count": 9,
      "outputs": [
        {
          "output_type": "display_data",
          "data": {
            "image/png": "[encoded data removed]",
            "text/plain": [
              "<Figure size 432x288 with 1 Axes>"
            ]
          },
          "metadata": {
            "tags": [],
            "needs_background": "light"
          }
        },
        {
          "output_type": "display_data",
          "data": {
            "image/png": "[encoded data removed]",
            "text/plain": [
              "<Figure size 432x288 with 1 Axes>"
            ]
          },
          "metadata": {
            "tags": [],
            "needs_background": "light"
          }
        }
      ]
    },
    {
      "cell_type": "code",
      "metadata": {
        "colab": {
          "base_uri": "https://localhost:8080/"
        },
        "id": "2PCdQcl_B7UL",
        "outputId": "2cac48ea-f80c-4af9-e089-b0dddb91ef6f"
      },
      "source": [
        "# load packages\r\n",
        "import scipy.stats as stats\r\n",
        "w, pvalue = stats.shapiro(model.resid)\r\n",
        "print(w, pvalue)\r\n",
        "# 0.9685019850730896 0.7229772806167603"
      ],
      "execution_count": 10,
      "outputs": [
        {
          "output_type": "stream",
          "text": [
            "0.9685019850730896 0.7229772806167603\n"
          ],
          "name": "stdout"
        }
      ]
    },
    {
      "cell_type": "code",
      "metadata": {
        "colab": {
          "base_uri": "https://localhost:8080/",
          "height": 159
        },
        "id": "Uu_F166bCE_-",
        "outputId": "ecec6de4-4b5c-42d1-a846-0bf2bda730fd"
      },
      "source": [
        "# load packages\r\n",
        "import scipy.stats as stats\r\n",
        "w, pvalue = stats.bartlett(df['A'], df['B'], df['C'], df['D'])\r\n",
        "print(w, pvalue)\r\n",
        "\r\n",
        "\r\n",
        "# if you have a stacked table, you can use bioinfokit v1.0.3 or later for the bartlett's test\r\n",
        "from bioinfokit.analys import stat \r\n",
        "res = stat()\r\n",
        "res.bartlett(df=df_melt, res_var='value', xfac_var='treatments')\r\n",
        "res.bartlett_summary"
      ],
      "execution_count": 13,
      "outputs": [
        {
          "output_type": "stream",
          "text": [
            "5.687843565012841 0.1278253399753447\n"
          ],
          "name": "stdout"
        },
        {
          "output_type": "execute_result",
          "data": {
            "text/html": [
              "<div>\n",
              "<style scoped>\n",
              "    .dataframe tbody tr th:only-of-type {\n",
              "        vertical-align: middle;\n",
              "    }\n",
              "\n",
              "    .dataframe tbody tr th {\n",
              "        vertical-align: top;\n",
              "    }\n",
              "\n",
              "    .dataframe thead th {\n",
              "        text-align: right;\n",
              "    }\n",
              "</style>\n",
              "<table border=\"1\" class=\"dataframe\">\n",
              "  <thead>\n",
              "    <tr style=\"text-align: right;\">\n",
              "      <th></th>\n",
              "      <th>Parameter</th>\n",
              "      <th>Value</th>\n",
              "    </tr>\n",
              "  </thead>\n",
              "  <tbody>\n",
              "    <tr>\n",
              "      <th>0</th>\n",
              "      <td>Test statistics (T)</td>\n",
              "      <td>5.6878</td>\n",
              "    </tr>\n",
              "    <tr>\n",
              "      <th>1</th>\n",
              "      <td>Degrees of freedom (Df)</td>\n",
              "      <td>3.0000</td>\n",
              "    </tr>\n",
              "    <tr>\n",
              "      <th>2</th>\n",
              "      <td>p value</td>\n",
              "      <td>0.1278</td>\n",
              "    </tr>\n",
              "  </tbody>\n",
              "</table>\n",
              "</div>"
            ],
            "text/plain": [
              "                 Parameter   Value\n",
              "0      Test statistics (T)  5.6878\n",
              "1  Degrees of freedom (Df)  3.0000\n",
              "2                  p value  0.1278"
            ]
          },
          "metadata": {
            "tags": []
          },
          "execution_count": 13
        }
      ]
    },
    {
      "cell_type": "code",
      "metadata": {
        "colab": {
          "base_uri": "https://localhost:8080/",
          "height": 142
        },
        "id": "CWRWFlylCJ9r",
        "outputId": "ca52eb68-e0e9-43d7-8581-a2fd0d345c5f"
      },
      "source": [
        "# if you have a stacked table, you can use bioinfokit v1.0.3 or later for the Levene's test\r\n",
        "from bioinfokit.analys import stat \r\n",
        "res = stat()\r\n",
        "res.levene(df=df_melt, res_var='value', xfac_var='treatments')\r\n",
        "res.levene_summary"
      ],
      "execution_count": 14,
      "outputs": [
        {
          "output_type": "execute_result",
          "data": {
            "text/html": [
              "<div>\n",
              "<style scoped>\n",
              "    .dataframe tbody tr th:only-of-type {\n",
              "        vertical-align: middle;\n",
              "    }\n",
              "\n",
              "    .dataframe tbody tr th {\n",
              "        vertical-align: top;\n",
              "    }\n",
              "\n",
              "    .dataframe thead th {\n",
              "        text-align: right;\n",
              "    }\n",
              "</style>\n",
              "<table border=\"1\" class=\"dataframe\">\n",
              "  <thead>\n",
              "    <tr style=\"text-align: right;\">\n",
              "      <th></th>\n",
              "      <th>Parameter</th>\n",
              "      <th>Value</th>\n",
              "    </tr>\n",
              "  </thead>\n",
              "  <tbody>\n",
              "    <tr>\n",
              "      <th>0</th>\n",
              "      <td>Test statistics (W)</td>\n",
              "      <td>1.9220</td>\n",
              "    </tr>\n",
              "    <tr>\n",
              "      <th>1</th>\n",
              "      <td>Degrees of freedom (Df)</td>\n",
              "      <td>3.0000</td>\n",
              "    </tr>\n",
              "    <tr>\n",
              "      <th>2</th>\n",
              "      <td>p value</td>\n",
              "      <td>0.1667</td>\n",
              "    </tr>\n",
              "  </tbody>\n",
              "</table>\n",
              "</div>"
            ],
            "text/plain": [
              "                 Parameter   Value\n",
              "0      Test statistics (W)  1.9220\n",
              "1  Degrees of freedom (Df)  3.0000\n",
              "2                  p value  0.1667"
            ]
          },
          "metadata": {
            "tags": []
          },
          "execution_count": 14
        }
      ]
    },
    {
      "cell_type": "markdown",
      "metadata": {
        "id": "Sv6fDmKlDICE"
      },
      "source": [
        "#Two-way ANOVA with Python"
      ]
    },
    {
      "cell_type": "code",
      "metadata": {
        "colab": {
          "base_uri": "https://localhost:8080/",
          "height": 296
        },
        "id": "CgcBUM16CUG7",
        "outputId": "8354f028-2d48-4709-8b3d-50cb90dbb59d"
      },
      "source": [
        "# load packages\r\n",
        "import pandas as pd\r\n",
        "import seaborn as sns\r\n",
        "# load data file\r\n",
        "d = pd.read_csv(\"https://reneshbedre.github.io/assets/posts/anova/twowayanova.txt\", sep=\"\\t\")\r\n",
        "# reshape the d dataframe suitable for statsmodels package \r\n",
        "# you do not need to reshape if your data is already in stacked format. Compare d and d_melt tables for detail \r\n",
        "# understanding \r\n",
        "d_melt = pd.melt(d, id_vars=['Genotype'], value_vars=['1_year', '2_year', '3_year'])\r\n",
        "# replace column names\r\n",
        "d_melt.columns = ['Genotype', 'years', 'value']\r\n",
        "d_melt.head()\r\n",
        "\r\n",
        "\r\n",
        "# generate a boxplot to see the data distribution by genotypes and years. Using boxplot, we can easily detect the \r\n",
        "# differences between different groups\r\n",
        "sns.boxplot(x=\"Genotype\", y=\"value\", hue=\"years\", data=d_melt, palette=\"Set3\") "
      ],
      "execution_count": 16,
      "outputs": [
        {
          "output_type": "execute_result",
          "data": {
            "text/plain": [
              "<matplotlib.axes._subplots.AxesSubplot at 0x7efbd6b0f2e8>"
            ]
          },
          "metadata": {
            "tags": []
          },
          "execution_count": 16
        },
        {
          "output_type": "display_data",
          "data": {
            "image/png": "[encoded data removed]",
            "text/plain": [
              "<Figure size 432x288 with 1 Axes>"
            ]
          },
          "metadata": {
            "tags": [],
            "needs_background": "light"
          }
        }
      ]
    },
    {
      "cell_type": "code",
      "metadata": {
        "colab": {
          "base_uri": "https://localhost:8080/",
          "height": 173
        },
        "id": "3DIIwEYrF5Ha",
        "outputId": "34271842-0f89-476c-8188-8d4f0ca1adc4"
      },
      "source": [
        "# load packages\r\n",
        "import statsmodels.api as sm\r\n",
        "from statsmodels.formula.api import ols\r\n",
        "# Ordinary Least Squares (OLS) model\r\n",
        "# C(Genotype):C(years) represent interaction term\r\n",
        "model = ols('value ~ C(Genotype) + C(years) + C(Genotype):C(years)', data=d_melt).fit()\r\n",
        "anova_table = sm.stats.anova_lm(model, typ=2)\r\n",
        "anova_table"
      ],
      "execution_count": 17,
      "outputs": [
        {
          "output_type": "execute_result",
          "data": {
            "text/html": [
              "<div>\n",
              "<style scoped>\n",
              "    .dataframe tbody tr th:only-of-type {\n",
              "        vertical-align: middle;\n",
              "    }\n",
              "\n",
              "    .dataframe tbody tr th {\n",
              "        vertical-align: top;\n",
              "    }\n",
              "\n",
              "    .dataframe thead th {\n",
              "        text-align: right;\n",
              "    }\n",
              "</style>\n",
              "<table border=\"1\" class=\"dataframe\">\n",
              "  <thead>\n",
              "    <tr style=\"text-align: right;\">\n",
              "      <th></th>\n",
              "      <th>sum_sq</th>\n",
              "      <th>df</th>\n",
              "      <th>F</th>\n",
              "      <th>PR(&gt;F)</th>\n",
              "    </tr>\n",
              "  </thead>\n",
              "  <tbody>\n",
              "    <tr>\n",
              "      <th>C(Genotype)</th>\n",
              "      <td>58.551733</td>\n",
              "      <td>5.0</td>\n",
              "      <td>32.748581</td>\n",
              "      <td>1.931655e-12</td>\n",
              "    </tr>\n",
              "    <tr>\n",
              "      <th>C(years)</th>\n",
              "      <td>278.925633</td>\n",
              "      <td>2.0</td>\n",
              "      <td>390.014868</td>\n",
              "      <td>4.006243e-25</td>\n",
              "    </tr>\n",
              "    <tr>\n",
              "      <th>C(Genotype):C(years)</th>\n",
              "      <td>17.122967</td>\n",
              "      <td>10.0</td>\n",
              "      <td>4.788525</td>\n",
              "      <td>2.230094e-04</td>\n",
              "    </tr>\n",
              "    <tr>\n",
              "      <th>Residual</th>\n",
              "      <td>12.873000</td>\n",
              "      <td>36.0</td>\n",
              "      <td>NaN</td>\n",
              "      <td>NaN</td>\n",
              "    </tr>\n",
              "  </tbody>\n",
              "</table>\n",
              "</div>"
            ],
            "text/plain": [
              "                          sum_sq    df           F        PR(>F)\n",
              "C(Genotype)            58.551733   5.0   32.748581  1.931655e-12\n",
              "C(years)              278.925633   2.0  390.014868  4.006243e-25\n",
              "C(Genotype):C(years)   17.122967  10.0    4.788525  2.230094e-04\n",
              "Residual               12.873000  36.0         NaN           NaN"
            ]
          },
          "metadata": {
            "tags": []
          },
          "execution_count": 17
        }
      ]
    },
    {
      "cell_type": "code",
      "metadata": {
        "colab": {
          "base_uri": "https://localhost:8080/",
          "height": 173
        },
        "id": "XEYBPd1UF62T",
        "outputId": "d05ee8ae-2035-4b5b-e3e1-5b3460f985cc"
      },
      "source": [
        "# ANOVA table using bioinfokit v1.0.3 or later (it uses wrapper script for anova_lm)\r\n",
        "from bioinfokit.analys import stat\r\n",
        "res = stat()\r\n",
        "res.anova_stat(df=d_melt, res_var='value', anova_model='value~C(Genotype)+C(years)+C(Genotype):C(years)')\r\n",
        "res.anova_summary"
      ],
      "execution_count": 18,
      "outputs": [
        {
          "output_type": "execute_result",
          "data": {
            "text/html": [
              "<div>\n",
              "<style scoped>\n",
              "    .dataframe tbody tr th:only-of-type {\n",
              "        vertical-align: middle;\n",
              "    }\n",
              "\n",
              "    .dataframe tbody tr th {\n",
              "        vertical-align: top;\n",
              "    }\n",
              "\n",
              "    .dataframe thead th {\n",
              "        text-align: right;\n",
              "    }\n",
              "</style>\n",
              "<table border=\"1\" class=\"dataframe\">\n",
              "  <thead>\n",
              "    <tr style=\"text-align: right;\">\n",
              "      <th></th>\n",
              "      <th>df</th>\n",
              "      <th>sum_sq</th>\n",
              "      <th>mean_sq</th>\n",
              "      <th>F</th>\n",
              "      <th>PR(&gt;F)</th>\n",
              "    </tr>\n",
              "  </thead>\n",
              "  <tbody>\n",
              "    <tr>\n",
              "      <th>C(Genotype)</th>\n",
              "      <td>5.0</td>\n",
              "      <td>58.551733</td>\n",
              "      <td>11.710347</td>\n",
              "      <td>32.748581</td>\n",
              "      <td>1.931655e-12</td>\n",
              "    </tr>\n",
              "    <tr>\n",
              "      <th>C(years)</th>\n",
              "      <td>2.0</td>\n",
              "      <td>278.925633</td>\n",
              "      <td>139.462817</td>\n",
              "      <td>390.014868</td>\n",
              "      <td>4.006243e-25</td>\n",
              "    </tr>\n",
              "    <tr>\n",
              "      <th>C(Genotype):C(years)</th>\n",
              "      <td>10.0</td>\n",
              "      <td>17.122967</td>\n",
              "      <td>1.712297</td>\n",
              "      <td>4.788525</td>\n",
              "      <td>2.230094e-04</td>\n",
              "    </tr>\n",
              "    <tr>\n",
              "      <th>Residual</th>\n",
              "      <td>36.0</td>\n",
              "      <td>12.873000</td>\n",
              "      <td>0.357583</td>\n",
              "      <td>NaN</td>\n",
              "      <td>NaN</td>\n",
              "    </tr>\n",
              "  </tbody>\n",
              "</table>\n",
              "</div>"
            ],
            "text/plain": [
              "                        df      sum_sq     mean_sq           F        PR(>F)\n",
              "C(Genotype)            5.0   58.551733   11.710347   32.748581  1.931655e-12\n",
              "C(years)               2.0  278.925633  139.462817  390.014868  4.006243e-25\n",
              "C(Genotype):C(years)  10.0   17.122967    1.712297    4.788525  2.230094e-04\n",
              "Residual              36.0   12.873000    0.357583         NaN           NaN"
            ]
          },
          "metadata": {
            "tags": []
          },
          "execution_count": 18
        }
      ]
    },
    {
      "cell_type": "code",
      "metadata": {
        "colab": {
          "base_uri": "https://localhost:8080/",
          "height": 279
        },
        "id": "OUK-iHAsGUFr",
        "outputId": "d1d37982-9585-4d73-b6bc-837ff5c7e19b"
      },
      "source": [
        "from statsmodels.graphics.factorplots import interaction_plot\r\n",
        "import matplotlib.pyplot as plt\r\n",
        "fig = interaction_plot(x=d_melt['Genotype'], trace=d_melt['years'], response=d_melt['value'], \r\n",
        "    colors=['#4c061d','#d17a22', '#b4c292'])\r\n",
        "plt.show()"
      ],
      "execution_count": 19,
      "outputs": [
        {
          "output_type": "display_data",
          "data": {
            "image/png": "[encoded data removed]",
            "text/plain": [
              "<Figure size 432x288 with 1 Axes>"
            ]
          },
          "metadata": {
            "tags": [],
            "needs_background": "light"
          }
        }
      ]
    }
  ]
}