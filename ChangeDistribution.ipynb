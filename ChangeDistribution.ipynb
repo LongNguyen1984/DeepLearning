{
  "nbformat": 4,
  "nbformat_minor": 0,
  "metadata": {
    "colab": {
      "name": "ChangeDistribution.ipynb",
      "provenance": [],
      "mount_file_id": "1kDlc5xVOTIu-hpeNH6h-InWF1dSxcoDk",
      "authorship_tag": "ABX9TyMUEX4/N67lPwDDkehcC90I",
      "include_colab_link": true
    },
    "kernelspec": {
      "name": "python3",
      "display_name": "Python 3"
    }
  },
  "cells": [
    {
      "cell_type": "markdown",
      "metadata": {
        "id": "view-in-github",
        "colab_type": "text"
      },
      "source": [
        "<a href=\"https://colab.research.google.com/github/LongNguyen1984/DeepLearning/blob/master/ChangeDistribution.ipynb\" target=\"_parent\"><img src=\"https://colab.research.google.com/assets/colab-badge.svg\" alt=\"Open In Colab\"/></a>"
      ]
    },
    {
      "cell_type": "markdown",
      "metadata": {
        "id": "op81z8QAQxT9",
        "colab_type": "text"
      },
      "source": [
        "# Quantile Transforms"
      ]
    },
    {
      "cell_type": "code",
      "metadata": {
        "id": "KyI3uRiGJ_BF",
        "colab_type": "code",
        "colab": {
          "base_uri": "https://localhost:8080/",
          "height": 513
        },
        "outputId": "ab907d59-f264-4ce4-867e-5432867527a9"
      },
      "source": [
        "# demonstration of the quantile transform\n",
        "from numpy import exp\n",
        "from numpy.random import randn\n",
        "from sklearn.preprocessing import QuantileTransformer\n",
        "from matplotlib import pyplot\n",
        "\n",
        "# gererate gaussian data sample\n",
        "data = randn(1000)\n",
        "# add a skew to the data distribution\n",
        "data = exp(data)\n",
        "# histogram of the raw data with a skew\n",
        "pyplot.hist(data, bins=25)\n",
        "pyplot.show()\n",
        "# reshape data to have rows and columns\n",
        "data = data.reshape((len(data),1))\n",
        "# quantile transform the raw data\n",
        "quantile = QuantileTransformer(output_distribution='normal')\n",
        "data_trans = quantile.fit_transform(data)\n",
        "# histogram of data transformed data\n",
        "pyplot.hist(data_trans, bins=25)\n",
        "pyplot.show()\n"
      ],
      "execution_count": 3,
      "outputs": [
        {
          "output_type": "display_data",
          "data": {
            "image/png": "[encoded data removed]",
            "text/plain": [
              "<Figure size 432x288 with 1 Axes>"
            ]
          },
          "metadata": {
            "tags": [],
            "needs_background": "light"
          }
        },
        {
          "output_type": "display_data",
          "data": {
            "image/png": "[encoded data removed]",
            "text/plain": [
              "<Figure size 432x288 with 1 Axes>"
            ]
          },
          "metadata": {
            "tags": [],
            "needs_background": "light"
          }
        }
      ]
    },
    {
      "cell_type": "markdown",
      "metadata": {
        "id": "h_ouQUmvcjDy",
        "colab_type": "text"
      },
      "source": [
        "# Sonar Dataset"
      ]
    },
    {
      "cell_type": "code",
      "metadata": {
        "id": "KTbfH-OyciX1",
        "colab_type": "code",
        "colab": {
          "base_uri": "https://localhost:8080/",
          "height": 472
        },
        "outputId": "09536b9a-9344-48b5-cd63-aca469f4f038"
      },
      "source": [
        "# load and summarize the sonar dataset\n",
        "from pandas import read_csv\n",
        "from matplotlib import pyplot\n",
        "# laod dataset\n",
        "dataset = read_csv('https://raw.githubusercontent.com/jbrownlee/Datasets/master/sonar.csv', header=None)\n",
        "# summarize the shape of the dataset\n",
        "print(dataset.shape)\n",
        "# summarize each variable\n",
        "print(dataset.describe())\n",
        "# histograms of the variables\n",
        "fig = dataset.hist(xlabelsize=4, ylabelsize=4)\n",
        "[x.title.set_size(4) for x in fig.ravel()]\n",
        "# show the plot\n",
        "pyplot.show()"
      ],
      "execution_count": 4,
      "outputs": [
        {
          "output_type": "stream",
          "text": [
            "(208, 61)\n",
            "               0           1           2   ...          57          58          59\n",
            "count  208.000000  208.000000  208.000000  ...  208.000000  208.000000  208.000000\n",
            "mean     0.029164    0.038437    0.043832  ...    0.007949    0.007941    0.006507\n",
            "std      0.022991    0.032960    0.038428  ...    0.006470    0.006181    0.005031\n",
            "min      0.001500    0.000600    0.001500  ...    0.000300    0.000100    0.000600\n",
            "25%      0.013350    0.016450    0.018950  ...    0.003600    0.003675    0.003100\n",
            "50%      0.022800    0.030800    0.034300  ...    0.005800    0.006400    0.005300\n",
            "75%      0.035550    0.047950    0.057950  ...    0.010350    0.010325    0.008525\n",
            "max      0.137100    0.233900    0.305900  ...    0.044000    0.036400    0.043900\n",
            "\n",
            "[8 rows x 60 columns]\n"
          ],
          "name": "stdout"
        },
        {
          "output_type": "display_data",
          "data": {
            "image/png": "[encoded data removed]",
            "text/plain": [
              "<Figure size 432x288 with 64 Axes>"
            ]
          },
          "metadata": {
            "tags": [],
            "needs_background": "light"
          }
        }
      ]
    },
    {
      "cell_type": "code",
      "metadata": {
        "id": "ftRLq7fkeGGL",
        "colab_type": "code",
        "colab": {
          "base_uri": "https://localhost:8080/",
          "height": 472
        },
        "outputId": "a44f79f0-c2ba-4399-88e4-c99182fe1288"
      },
      "source": [
        "dataset2 = read_csv('drive/My Drive/InvertPhaseLong2.csv', header=0)\n",
        "\n",
        "print(dataset2.shape)\n",
        "\n",
        "print(dataset2.describe())\n",
        "\n",
        "# histograms of the variables\n",
        "fig1 = dataset2.hist(xlabelsize=4, ylabelsize=4)\n",
        "[x.title.set_size(4) for x in fig1.ravel()]\n",
        "# show the plot\n",
        "pyplot.show()"
      ],
      "execution_count": 17,
      "outputs": [
        {
          "output_type": "stream",
          "text": [
            "(20665, 8)\n",
            "               850nm          640nm  ...  Channel 7  Channel 8\n",
            "count   20665.000000   20665.000000  ...    20665.0    20665.0\n",
            "mean   817663.068764 -777540.398306  ...        0.0        0.0\n",
            "std     26649.696060   13677.458630  ...        0.0        0.0\n",
            "min         0.000000 -823380.000000  ...        0.0        0.0\n",
            "25%    808706.000000 -785469.000000  ...        0.0        0.0\n",
            "50%    826957.000000 -773174.000000  ...        0.0        0.0\n",
            "75%    834737.000000 -767922.000000  ...        0.0        0.0\n",
            "max    857234.000000 -752898.000000  ...        0.0        0.0\n",
            "\n",
            "[8 rows x 8 columns]\n"
          ],
          "name": "stdout"
        },
        {
          "output_type": "display_data",
          "data": {
            "image/png": "[encoded data removed]",
            "text/plain": [
              "<Figure size 432x288 with 9 Axes>"
            ]
          },
          "metadata": {
            "tags": [],
            "needs_background": "light"
          }
        }
      ]
    },
    {
      "cell_type": "code",
      "metadata": {
        "id": "Gl9WrmSzijtJ",
        "colab_type": "code",
        "colab": {
          "base_uri": "https://localhost:8080/",
          "height": 282
        },
        "outputId": "cad7f027-6063-4284-d7f8-dcf1bb5fd3b3"
      },
      "source": [
        "x = dataset2.values[:,0]\n",
        "pyplot.plot(x)"
      ],
      "execution_count": 23,
      "outputs": [
        {
          "output_type": "execute_result",
          "data": {
            "text/plain": [
              "[<matplotlib.lines.Line2D at 0x7fb685c84710>]"
            ]
          },
          "metadata": {
            "tags": []
          },
          "execution_count": 23
        },
        {
          "output_type": "display_data",
          "data": {
            "image/png": "[encoded data removed]",
            "text/plain": [
              "<Figure size 432x288 with 1 Axes>"
            ]
          },
          "metadata": {
            "tags": [],
            "needs_background": "light"
          }
        }
      ]
    },
    {
      "cell_type": "markdown",
      "metadata": {
        "id": "LlzQ42ezkIJl",
        "colab_type": "text"
      },
      "source": [
        "Evaluate with K-NN classifier with raw data"
      ]
    },
    {
      "cell_type": "code",
      "metadata": {
        "id": "UDqPfHtojBsu",
        "colab_type": "code",
        "colab": {
          "base_uri": "https://localhost:8080/",
          "height": 34
        },
        "outputId": "0b694a52-743d-46b0-aa4a-16d31af7dae8"
      },
      "source": [
        "from numpy import mean\n",
        "from numpy import std\n",
        "from pandas import read_csv\n",
        "from sklearn.model_selection import cross_val_score\n",
        "from sklearn.model_selection import RepeatedStratifiedKFold\n",
        "from sklearn.neighbors import KNeighborsClassifier\n",
        "from sklearn.preprocessing import LabelEncoder\n",
        "# load dataset\n",
        "dataset = read_csv('https://raw.githubusercontent.com/jbrownlee/Datasets/master/sonar.csv',header=None)\n",
        "data = dataset.values\n",
        "# seperate into input and output columns\n",
        "X, y = data[:,:-1], data[:,-1]\n",
        "# ensure inputs are floats and output is an integer label\n",
        "X = X.astype('float32')\n",
        "y = LabelEncoder().fit_transform(y.astype('str'))\n",
        "# define and configure the model\n",
        "model = KNeighborsClassifier()\n",
        "# evaluate the model\n",
        "cv = RepeatedStratifiedKFold(n_splits=10, n_repeats=3, random_state=1)\n",
        "n_scores = cross_val_score(model, X, y, scoring='accuracy', cv=cv, n_jobs=-1)\n",
        "# report model performance\n",
        "print('Accuracy: %.3f (%.3f)' % (mean(n_scores), std(n_scores)))\n"
      ],
      "execution_count": 24,
      "outputs": [
        {
          "output_type": "stream",
          "text": [
            "Accuracy: 0.797 (0.073)\n"
          ],
          "name": "stdout"
        }
      ]
    },
    {
      "cell_type": "markdown",
      "metadata": {
        "id": "kkmMVp2NApui",
        "colab_type": "text"
      },
      "source": [
        "# Normal Quantile Transform"
      ]
    },
    {
      "cell_type": "code",
      "metadata": {
        "id": "bKYi2fvVAorP",
        "colab_type": "code",
        "colab": {
          "base_uri": "https://localhost:8080/",
          "height": 268
        },
        "outputId": "b539eadc-b346-4827-8cb1-cbc32bffc860"
      },
      "source": [
        "# vissualize a normal quantile transofrm of the sonar dataset\n",
        "from pandas import read_csv\n",
        "from pandas import DataFrame\n",
        "from sklearn.preprocessing import QuantileTransformer\n",
        "from matplotlib import pyplot\n",
        "# load dataset\n",
        "dataset = read_csv('https://raw.githubusercontent.com/jbrownlee/Datasets/master/sonar.csv',header=None)\n",
        "# retrieve just the numeric input values\n",
        "data = dataset.values[:,:-1]\n",
        "# perform a normal quantile transform of the dataset\n",
        "trans = QuantileTransformer(n_quantiles=100, output_distribution='normal')\n",
        "data = trans.fit_transform(data)\n",
        "# convert the array back to a dataframe\n",
        "dataset = DataFrame(data)\n",
        "# histograms of the variables\n",
        "fig = dataset.hist(xlabelsize=4, ylabelsize=4)\n",
        "[x.title.set_size(4) for x in fig.ravel()]\n",
        "pyplot.show()"
      ],
      "execution_count": 29,
      "outputs": [
        {
          "output_type": "display_data",
          "data": {
            "image/png": "[encoded data removed]",
            "text/plain": [
              "<Figure size 432x288 with 64 Axes>"
            ]
          },
          "metadata": {
            "tags": [],
            "needs_background": "light"
          }
        }
      ]
    },
    {
      "cell_type": "markdown",
      "metadata": {
        "id": "GTB1G3IGOTlS",
        "colab_type": "text"
      },
      "source": [
        "Evaluate the model after Quantile Transform"
      ]
    },
    {
      "cell_type": "code",
      "metadata": {
        "id": "bPVuYlBwOOgb",
        "colab_type": "code",
        "colab": {
          "base_uri": "https://localhost:8080/",
          "height": 34
        },
        "outputId": "fb9794af-8f39-4f42-e53b-663a39db0eaa"
      },
      "source": [
        "from pandas import read_csv\n",
        "from numpy import mean\n",
        "from numpy import std\n",
        "from sklearn.model_selection import cross_val_score\n",
        "from sklearn.neighbors import KNeighborsClassifier\n",
        "from sklearn.preprocessing import LabelEncoder\n",
        "from sklearn.preprocessing import QuantileTransformer\n",
        "from sklearn.pipeline import Pipeline\n",
        "\n",
        "#load dataset\n",
        "dataset = read_csv('https://raw.githubusercontent.com/jbrownlee/Datasets/master/sonar.csv',header=None)\n",
        "data = dataset.values\n",
        "# seperate into input and output columns\n",
        "X, y = data[:,:-1], data[:,-1]\n",
        "# ensure inputs and output is an integer label\n",
        "X = X.astype('float32')\n",
        "y = LabelEncoder().fit_transform(y.astype('str'))\n",
        "# define the pipeline\n",
        "trans = QuantileTransformer(n_quantiles=100, output_distribution='normal')\n",
        "model = KNeighborsClassifier()\n",
        "pipeline = Pipeline(steps=[('t', trans),('m', model)])\n",
        "# evaluate the pipeline\n",
        "cv = RepeatedStratifiedKFold(n_splits=10, n_repeats=3, random_state=1)\n",
        "n_scores = cross_val_score(pipeline, X, y, scoring='accuracy', cv=cv, n_jobs=-1)\n",
        "# report pipeline perforamance\n",
        "print('Accuracy: %.3f (%.3f)' % (mean(n_scores), std(n_scores)))"
      ],
      "execution_count": 30,
      "outputs": [
        {
          "output_type": "stream",
          "text": [
            "Accuracy: 0.817 (0.087)\n"
          ],
          "name": "stdout"
        }
      ]
    },
    {
      "cell_type": "markdown",
      "metadata": {
        "id": "liYiD34eVBPU",
        "colab_type": "text"
      },
      "source": [
        "Uniform Quantile Transform "
      ]
    },
    {
      "cell_type": "code",
      "metadata": {
        "id": "T1-hMfgOVAcw",
        "colab_type": "code",
        "colab": {
          "base_uri": "https://localhost:8080/",
          "height": 34
        },
        "outputId": "e5bc00fd-e174-4008-be10-56cf6cdc82a3"
      },
      "source": [
        "# perform a uniform quantile transform of the dataset\n",
        "from pandas import read_csv\n",
        "from numpy import mean\n",
        "from numpy import std\n",
        "from sklearn.model_selection import cross_val_score\n",
        "from sklearn.neighbors import KNeighborsClassifier\n",
        "from sklearn.preprocessing import LabelEncoder\n",
        "from sklearn.preprocessing import QuantileTransformer\n",
        "from sklearn.pipeline import Pipeline\n",
        "#load dataset\n",
        "dataset = read_csv('https://raw.githubusercontent.com/jbrownlee/Datasets/master/sonar.csv',header=None)\n",
        "data = dataset.values\n",
        "# seperate into input and output columns\n",
        "X, y = data[:,:-1], data[:,-1]\n",
        "# ensure inputs and output is an integer label\n",
        "X = X.astype('float32')\n",
        "y = LabelEncoder().fit_transform(y.astype('str'))\n",
        "# define the pipeline\n",
        "trans = QuantileTransformer(n_quantiles=100, output_distribution='uniform')\n",
        "model = KNeighborsClassifier()\n",
        "pipeline = Pipeline(steps=[('t', trans),('m', model)])\n",
        "# evaluate the pipeline\n",
        "cv = RepeatedStratifiedKFold(n_repeats=3, n_splits=10, random_state=1)\n",
        "n_scores = cross_val_score(pipeline,X, y, scoring='accuracy', cv=cv, n_jobs=-1)\n",
        "# report pipeline performance\n",
        "print('Accuracy: %.3f (%.3f)' %(mean(n_scores),std(n_scores)))\n"
      ],
      "execution_count": 34,
      "outputs": [
        {
          "output_type": "stream",
          "text": [
            "Accuracy: 0.845 (0.074)\n"
          ],
          "name": "stdout"
        }
      ]
    }
  ]
}