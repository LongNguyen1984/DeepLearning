{
  "nbformat": 4,
  "nbformat_minor": 0,
  "metadata": {
    "colab": {
      "name": "DiscretizerDataset.ipynb",
      "provenance": [],
      "authorship_tag": "ABX9TyOdv+CxOanQwhu3PplCT0tj",
      "include_colab_link": true
    },
    "kernelspec": {
      "name": "python3",
      "display_name": "Python 3"
    }
  },
  "cells": [
    {
      "cell_type": "markdown",
      "metadata": {
        "id": "view-in-github",
        "colab_type": "text"
      },
      "source": [
        "<a href=\"https://colab.research.google.com/github/LongNguyen1984/DeepLearning/blob/master/DiscretizerDataset.ipynb\" target=\"_parent\"><img src=\"https://colab.research.google.com/assets/colab-badge.svg\" alt=\"Open In Colab\"/></a>"
      ]
    },
    {
      "cell_type": "code",
      "metadata": {
        "id": "Lugq2k3FbPGe",
        "colab_type": "code",
        "colab": {
          "base_uri": "https://localhost:8080/",
          "height": 853
        },
        "outputId": "36a7d7a3-e209-4c11-9711-ab4e17824afd"
      },
      "source": [
        "# demonstration of the discretization transform\n",
        "from numpy.random import randn\n",
        "from sklearn.preprocessing import KBinsDiscretizer\n",
        "from matplotlib import pyplot\n",
        "# generate gaussian data sample\n",
        "data = randn(1000)\n",
        "# histogram of the data\n",
        "pyplot.hist(data, bins=25)\n",
        "pyplot.show()\n",
        "# reshape data to have rows and columns\n",
        "data = data.reshape((len(data),1))\n",
        "# discretization transform the raw data\n",
        "kbins = KBinsDiscretizer(n_bins=10, encode='ordinal', strategy='uniform')\n",
        "data_trans = kbins.fit_transform(data)\n",
        "# summarize firts few ros\n",
        "print(data[:10,:])\n",
        "print(data_trans[:10,:])\n",
        "# histogram of transformed data\n",
        "pyplot.hist(data_trans, bins=10)\n",
        "pyplot.show()"
      ],
      "execution_count": null,
      "outputs": [
        {
          "output_type": "display_data",
          "data": {
            "image/png": "[encoded data removed]",
            "text/plain": [
              "<Figure size 432x288 with 1 Axes>"
            ]
          },
          "metadata": {
            "tags": [],
            "needs_background": "light"
          }
        },
        {
          "output_type": "stream",
          "text": [
            "[[-1.10474864]\n",
            " [ 0.36800264]\n",
            " [-0.06654562]\n",
            " [-0.14955838]\n",
            " [-0.67219475]\n",
            " [-1.00270756]\n",
            " [ 1.61847618]\n",
            " [-0.03177142]\n",
            " [ 0.1344391 ]\n",
            " [-0.39576116]]\n",
            "[[3.]\n",
            " [5.]\n",
            " [5.]\n",
            " [5.]\n",
            " [4.]\n",
            " [3.]\n",
            " [7.]\n",
            " [5.]\n",
            " [5.]\n",
            " [4.]]\n"
          ],
          "name": "stdout"
        },
        {
          "output_type": "display_data",
          "data": {
            "image/png": "[encoded data removed]",
            "text/plain": [
              "<Figure size 432x288 with 1 Axes>"
            ]
          },
          "metadata": {
            "tags": [],
            "needs_background": "light"
          }
        }
      ]
    },
    {
      "cell_type": "markdown",
      "metadata": {
        "id": "tLWZ3cfwdyxT",
        "colab_type": "text"
      },
      "source": [
        "# Sonar Dataset"
      ]
    },
    {
      "cell_type": "markdown",
      "metadata": {
        "id": "GoWsdflzd10v",
        "colab_type": "text"
      },
      "source": [
        "# Sonar Dataset"
      ]
    },
    {
      "cell_type": "code",
      "metadata": {
        "id": "G1k6jOEEdsai",
        "colab_type": "code",
        "colab": {
          "base_uri": "https://localhost:8080/",
          "height": 472
        },
        "outputId": "29984cb5-1a67-4943-e65b-f48a4505e501"
      },
      "source": [
        "from pandas import read_csv\n",
        "from matplotlib import pyplot\n",
        "# laod dataset\n",
        "dataset = read_csv('https://raw.githubusercontent.com/jbrownlee/Datasets/master/sonar.csv', header=None)\n",
        "# summarize the shape of the dataset\n",
        "print(dataset.shape)\n",
        "# summarize each variable\n",
        "print(dataset.describe())\n",
        "# histograms of the variables\n",
        "fig = dataset.hist(xlabelsize=4, ylabelsize=4)\n",
        "[x.title.set_size(4) for x in fig.ravel()]\n",
        "# show the plot\n",
        "pyplot.show()"
      ],
      "execution_count": null,
      "outputs": [
        {
          "output_type": "stream",
          "text": [
            "(208, 61)\n",
            "               0           1           2   ...          57          58          59\n",
            "count  208.000000  208.000000  208.000000  ...  208.000000  208.000000  208.000000\n",
            "mean     0.029164    0.038437    0.043832  ...    0.007949    0.007941    0.006507\n",
            "std      0.022991    0.032960    0.038428  ...    0.006470    0.006181    0.005031\n",
            "min      0.001500    0.000600    0.001500  ...    0.000300    0.000100    0.000600\n",
            "25%      0.013350    0.016450    0.018950  ...    0.003600    0.003675    0.003100\n",
            "50%      0.022800    0.030800    0.034300  ...    0.005800    0.006400    0.005300\n",
            "75%      0.035550    0.047950    0.057950  ...    0.010350    0.010325    0.008525\n",
            "max      0.137100    0.233900    0.305900  ...    0.044000    0.036400    0.043900\n",
            "\n",
            "[8 rows x 60 columns]\n"
          ],
          "name": "stdout"
        },
        {
          "output_type": "display_data",
          "data": {
            "image/png": "[encoded data removed]",
            "text/plain": [
              "<Figure size 432x288 with 64 Axes>"
            ]
          },
          "metadata": {
            "tags": [],
            "needs_background": "light"
          }
        }
      ]
    },
    {
      "cell_type": "markdown",
      "metadata": {
        "id": "3Eh8AXjoeDtG",
        "colab_type": "text"
      },
      "source": [
        "# Uniform Discretization Transform"
      ]
    },
    {
      "cell_type": "code",
      "metadata": {
        "id": "HRzFwIasdsdX",
        "colab_type": "code",
        "colab": {
          "base_uri": "https://localhost:8080/",
          "height": 268
        },
        "outputId": "f3aa859d-d759-4438-c46a-315587713b36"
      },
      "source": [
        "from pandas import read_csv\n",
        "from pandas import DataFrame\n",
        "from sklearn.preprocessing  import KBinsDiscretizer\n",
        "from matplotlib import pyplot\n",
        "\n",
        "#load dataset\n",
        "dataset = read_csv('https://raw.githubusercontent.com/jbrownlee/Datasets/master/sonar.csv', header=None)\n",
        "data =dataset.values[:, :-1]\n",
        "# perfomr a uniform discretization transform of the dataset\n",
        "trans = KBinsDiscretizer(n_bins=10, encode='ordinal', strategy='uniform')\n",
        "data = trans.fit_transform(data)\n",
        "# convert the array back to a dataframe\n",
        "dataset = DataFrame(data)\n",
        "# histogram of the variables\n",
        "fig = dataset.hist(xlabelsize=4, ylabelsize=4)\n",
        "[x.title.set_size(4) for x in fig.ravel()]\n",
        "# show the plot\n",
        "pyplot.show()"
      ],
      "execution_count": null,
      "outputs": [
        {
          "output_type": "display_data",
          "data": {
            "image/png": "[encoded data removed]",
            "text/plain": [
              "<Figure size 432x288 with 64 Axes>"
            ]
          },
          "metadata": {
            "tags": [],
            "needs_background": "light"
          }
        }
      ]
    },
    {
      "cell_type": "markdown",
      "metadata": {
        "id": "qowRjBRKg8Ol",
        "colab_type": "text"
      },
      "source": [
        "Evaluate with KNN model for discretization transform of the dataset"
      ]
    },
    {
      "cell_type": "code",
      "metadata": {
        "id": "3SPUB0yjgiwI",
        "colab_type": "code",
        "colab": {
          "base_uri": "https://localhost:8080/",
          "height": 34
        },
        "outputId": "329b10e2-c8c1-45cb-98b4-e2e7d228a6c1"
      },
      "source": [
        "from pandas import read_csv\n",
        "from numpy import std\n",
        "from numpy import mean\n",
        "from sklearn.preprocessing import KBinsDiscretizer\n",
        "from sklearn.model_selection import cross_val_score\n",
        "from sklearn.model_selection import RepeatedStratifiedKFold\n",
        "from sklearn.neighbors import KNeighborsClassifier\n",
        "from sklearn.preprocessing import LabelEncoder\n",
        "from sklearn.pipeline import Pipeline\n",
        "\n",
        "# load the dataset\n",
        "dataset = read_csv('https://raw.githubusercontent.com/jbrownlee/Datasets/master/sonar.csv', header=None)\n",
        "data = dataset.values\n",
        "# sepeerate into input and output columns\n",
        "X, y = data[:,:-1], data[:,-1]\n",
        "# ensure inputs are floats and output is an integer label\n",
        "X = X.astype('float32')\n",
        "y = LabelEncoder().fit_transform(y.astype('str'))\n",
        "# define the pipeline\n",
        "trans = KBinsDiscretizer(n_bins=10, encode='ordinal', strategy='quantile')\n",
        "model = KNeighborsClassifier()\n",
        "pipeline = Pipeline(steps=[('t', trans), ('m', model)])\n",
        "# evaluate the pipeline\n",
        "cv = RepeatedStratifiedKFold(n_splits=10, n_repeats=3, random_state=1)\n",
        "n_scores = cross_val_score(pipeline, X, y, scoring='accuracy', cv=cv, n_jobs=-1)\n",
        "# report pipeline performance\n",
        "print('Accuracy: %.3f (%.3f)' % (mean(n_scores), std(n_scores)))"
      ],
      "execution_count": null,
      "outputs": [
        {
          "output_type": "stream",
          "text": [
            "Accuracy: 0.840 (0.072)\n"
          ],
          "name": "stdout"
        }
      ]
    }
  ]
}