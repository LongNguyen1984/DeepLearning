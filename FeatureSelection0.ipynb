{
  "nbformat": 4,
  "nbformat_minor": 0,
  "metadata": {
    "colab": {
      "name": "FeatureSelection0.ipynb",
      "provenance": [],
      "authorship_tag": "ABX9TyOVzy+72DwT+NuNAfM03T2f",
      "include_colab_link": true
    },
    "kernelspec": {
      "name": "python3",
      "display_name": "Python 3"
    }
  },
  "cells": [
    {
      "cell_type": "markdown",
      "metadata": {
        "id": "view-in-github",
        "colab_type": "text"
      },
      "source": [
        "<a href=\"https://colab.research.google.com/github/LongNguyen1984/DeepLearning/blob/master/FeatureSelection0.ipynb\" target=\"_parent\"><img src=\"https://colab.research.google.com/assets/colab-badge.svg\" alt=\"Open In Colab\"/></a>"
      ]
    },
    {
      "cell_type": "code",
      "metadata": {
        "id": "QFLLpAXVyDg6",
        "colab_type": "code",
        "colab": {}
      },
      "source": [
        "import numpy as np\n",
        "import pandas as pd\n",
        "\n",
        "df = pd.read_csv('https://raw.githubusercontent.com/jbrownlee/Datasets/master/breast-cancer.csv', header = None, na_values='?')"
      ],
      "execution_count": 90,
      "outputs": []
    },
    {
      "cell_type": "code",
      "metadata": {
        "id": "l7IsjYbqFgYz",
        "colab_type": "code",
        "colab": {
          "base_uri": "https://localhost:8080/",
          "height": 153
        },
        "outputId": "9401e0e3-4a39-49ed-971b-db8e1544973e"
      },
      "source": [
        "print(df.head())"
      ],
      "execution_count": 77,
      "outputs": [
        {
          "output_type": "stream",
          "text": [
            "         0          1        2  ...           7      8                       9\n",
            "0  '40-49'  'premeno'  '15-19'  ...   'left_up'   'no'     'recurrence-events'\n",
            "1  '50-59'     'ge40'  '15-19'  ...   'central'   'no'  'no-recurrence-events'\n",
            "2  '50-59'     'ge40'  '35-39'  ...  'left_low'   'no'     'recurrence-events'\n",
            "3  '40-49'  'premeno'  '35-39'  ...  'left_low'  'yes'  'no-recurrence-events'\n",
            "4  '40-49'  'premeno'  '30-34'  ...  'right_up'   'no'     'recurrence-events'\n",
            "\n",
            "[5 rows x 10 columns]\n"
          ],
          "name": "stdout"
        }
      ]
    },
    {
      "cell_type": "code",
      "metadata": {
        "id": "3NrUkjinFyWj",
        "colab_type": "code",
        "colab": {
          "base_uri": "https://localhost:8080/",
          "height": 187
        },
        "outputId": "688c9fc3-188b-4128-eef7-e5104022d29a"
      },
      "source": [
        "# checking for mising data\n",
        "for i in range(df.shape[1]):\n",
        "  n_miss = df[[i]].isnull().sum()\n",
        "  perc = n_miss/df.shape[0]\n",
        "  print('> %d Missing: %d (%.1f%%)' %(i, n_miss, perc))\n"
      ],
      "execution_count": 97,
      "outputs": [
        {
          "output_type": "stream",
          "text": [
            "> 0 Missing: 0 (0.0%)\n",
            "> 1 Missing: 0 (0.0%)\n",
            "> 2 Missing: 0 (0.0%)\n",
            "> 3 Missing: 0 (0.0%)\n",
            "> 4 Missing: 8 (0.0%)\n",
            "> 5 Missing: 0 (0.0%)\n",
            "> 6 Missing: 0 (0.0%)\n",
            "> 7 Missing: 1 (0.0%)\n",
            "> 8 Missing: 0 (0.0%)\n",
            "> 9 Missing: 0 (0.0%)\n"
          ],
          "name": "stdout"
        }
      ]
    },
    {
      "cell_type": "markdown",
      "metadata": {
        "id": "uavN7y6HvoOu",
        "colab_type": "text"
      },
      "source": [
        "# Missing imputation"
      ]
    },
    {
      "cell_type": "code",
      "metadata": {
        "id": "okklI4i5x9G4",
        "colab_type": "code",
        "colab": {
          "base_uri": "https://localhost:8080/",
          "height": 561
        },
        "outputId": "6fdb1d7f-efb8-46cc-e972-c2340eab1f82"
      },
      "source": [
        "from numpy import nan\n",
        "# report the missing\n",
        "print(df.isnull().sum())\n",
        "# remove rows with missing values\n",
        "df.dropna(inplace=True)\n",
        "print(df.isnull().sum())\n",
        "print(df.describe())"
      ],
      "execution_count": 78,
      "outputs": [
        {
          "output_type": "stream",
          "text": [
            "4    0\n",
            "7    0\n",
            "dtype: int64\n",
            "0    0\n",
            "1    0\n",
            "2    0\n",
            "3    0\n",
            "4    8\n",
            "5    0\n",
            "6    0\n",
            "7    1\n",
            "8    0\n",
            "9    0\n",
            "dtype: int64\n",
            "0    0\n",
            "1    0\n",
            "2    0\n",
            "3    0\n",
            "4    0\n",
            "5    0\n",
            "6    0\n",
            "7    0\n",
            "8    0\n",
            "9    0\n",
            "dtype: int64\n",
            "              0          1        2  ...           7     8                       9\n",
            "count       277        277      277  ...         277   277                     277\n",
            "unique        6          3       11  ...           5     2                       2\n",
            "top     '50-59'  'premeno'  '30-34'  ...  'left_low'  'no'  'no-recurrence-events'\n",
            "freq         91        149       57  ...         106   215                     196\n",
            "\n",
            "[4 rows x 10 columns]\n"
          ],
          "name": "stdout"
        }
      ]
    },
    {
      "cell_type": "code",
      "metadata": {
        "id": "WzlwXon7GW6o",
        "colab_type": "code",
        "colab": {}
      },
      "source": [
        "dataset = df.values\n",
        "# split data into input and output variables\n",
        "X = dataset[:,:-1]\n",
        "y = dataset[:,-1]"
      ],
      "execution_count": 91,
      "outputs": []
    },
    {
      "cell_type": "code",
      "metadata": {
        "id": "ka_VR2jZHut5",
        "colab_type": "code",
        "colab": {}
      },
      "source": [
        "# format all fieds as string\n",
        "X = X.astype(str)"
      ],
      "execution_count": 92,
      "outputs": []
    },
    {
      "cell_type": "code",
      "metadata": {
        "id": "urysum5MIBRD",
        "colab_type": "code",
        "colab": {
          "base_uri": "https://localhost:8080/",
          "height": 51
        },
        "outputId": "1a3f3f09-c3c9-49a8-f416-f2b30605960a"
      },
      "source": [
        "from pandas import read_csv\n",
        "from sklearn.model_selection import train_test_split\n",
        "\n",
        "# split intou train and test sets\n",
        "X_train, X_test, y_train, y_test = train_test_split(X, y, test_size=.33, random_state=1)\n",
        "# summarize\n",
        "print('Train', X_train.shape, y_train.shape)\n",
        "print('Test', X_test.shape, y_test.shape)\n"
      ],
      "execution_count": 93,
      "outputs": [
        {
          "output_type": "stream",
          "text": [
            "Train (191, 9) (191,)\n",
            "Test (95, 9) (95,)\n"
          ],
          "name": "stdout"
        }
      ]
    },
    {
      "cell_type": "markdown",
      "metadata": {
        "id": "3KFpcVp9JKut",
        "colab_type": "text"
      },
      "source": [
        "# Prepare input data"
      ]
    },
    {
      "cell_type": "code",
      "metadata": {
        "id": "9d9H2cwVJAcv",
        "colab_type": "code",
        "colab": {}
      },
      "source": [
        "def prepare_inputs(X_train, X_test):\n",
        "  oe = OrdinalEncoder()\n",
        "  oe.fit(X_train)\n",
        "  X_train_enc = oe.transform(X_train)\n",
        "  X_test_enc = oe.transform(X_test)\n",
        "  return X_train_enc, X_test_enc"
      ],
      "execution_count": 83,
      "outputs": []
    },
    {
      "cell_type": "code",
      "metadata": {
        "id": "pT8c3-0IJmbH",
        "colab_type": "code",
        "colab": {}
      },
      "source": [
        "# prepare target\n",
        "def prepare_targets(y_train, y_test):\n",
        "  le = LabelEncoder()\n",
        "  le.fit(y_train)\n",
        "  y_train_enc = le.transform(y_train)\n",
        "  y_test_enc = le.transform(y_test)\n",
        "  return y_train_enc, y_test_enc"
      ],
      "execution_count": 84,
      "outputs": []
    },
    {
      "cell_type": "code",
      "metadata": {
        "id": "kptCmg9GvnpJ",
        "colab_type": "code",
        "colab": {
          "base_uri": "https://localhost:8080/",
          "height": 136
        },
        "outputId": "e1ae9a1c-5ed9-4d52-e02e-a04f3c372ee2"
      },
      "source": [
        "#from numpy import isnan\n",
        "\n",
        "#print('Missing: %d' % sum(isnan(X).flatten()))\n",
        "\n",
        "print(df.describe())"
      ],
      "execution_count": 96,
      "outputs": [
        {
          "output_type": "stream",
          "text": [
            "              0          1        2  ...           7     8                       9\n",
            "count       286        286      286  ...         285   286                     286\n",
            "unique        6          3       11  ...           5     2                       2\n",
            "top     '50-59'  'premeno'  '30-34'  ...  'left_low'  'no'  'no-recurrence-events'\n",
            "freq         96        150       60  ...         110   218                     201\n",
            "\n",
            "[4 rows x 10 columns]\n"
          ],
          "name": "stdout"
        }
      ]
    },
    {
      "cell_type": "code",
      "metadata": {
        "id": "KAJxs3LkKtsU",
        "colab_type": "code",
        "colab": {
          "base_uri": "https://localhost:8080/",
          "height": 51
        },
        "outputId": "a0be315a-b87c-445f-d626-0f4e225cfe08"
      },
      "source": [
        "from sklearn.preprocessing import LabelEncoder\n",
        "from sklearn.preprocessing import OrdinalEncoder\n",
        "# prepare input data\n",
        "X_train_enc, X_test_enc = prepare_inputs(X_train, X_test)\n",
        "# prepare output data\n",
        "y_train_enc, y_test_enc = prepare_targets(y_train, y_test)\n",
        "# summarize\n",
        "print('Train', X_train_enc.shape, y_train_enc.shape)\n",
        "print('Test', X_test_enc.shape, y_test_enc.shape)"
      ],
      "execution_count": 98,
      "outputs": [
        {
          "output_type": "stream",
          "text": [
            "Train (191, 9) (191,)\n",
            "Test (95, 9) (95,)\n"
          ],
          "name": "stdout"
        }
      ]
    },
    {
      "cell_type": "markdown",
      "metadata": {
        "id": "UGkmkcrn5wjW",
        "colab_type": "text"
      },
      "source": [
        "# Categorical Feature Selection"
      ]
    },
    {
      "cell_type": "code",
      "metadata": {
        "id": "FvkpA2MH3PbD",
        "colab_type": "code",
        "colab": {
          "base_uri": "https://localhost:8080/",
          "height": 418
        },
        "outputId": "8f3583a5-5e10-41ae-dc37-057e6038a946"
      },
      "source": [
        "from pandas import  read_csv\n",
        "from sklearn.model_selection import train_test_split\n",
        "from sklearn.preprocessing import LabelEncoder\n",
        "from sklearn.preprocessing import OrdinalEncoder\n",
        "from sklearn.feature_selection import SelectKBest\n",
        "from sklearn.feature_selection import chi2\n",
        "from matplotlib import pyplot\n",
        "\n",
        "# load the dataset\n",
        "def load_dataset(filename):\n",
        "  # load the dataset as a pandas DataFrame\n",
        "  data = read_csv(filename, header=None)\n",
        "  # retrieve numpy array\n",
        "  dataset = data.values\n",
        "  # split into input (X) and output (y) variables\n",
        "  X = dataset[:, :-1]\n",
        "  y = dataset[:,-1]\n",
        "  # format all fields as string\n",
        "  X = X.astype(str)\n",
        "  return X, y\n",
        "\n",
        "# prepare input data\n",
        "def prepare_inputs(X_train, X_test):\n",
        "  oe = OrdinalEncoder()\n",
        "  oe.fit(X_train)\n",
        "  X_train_enc = oe.transform(X_train)\n",
        "  X_test_enc = oe.transform(X_test)\n",
        "  return X_train_enc, X_test_enc\n",
        "\n",
        "# prepare target\n",
        "def prepare_targets(y_train, y_test):\n",
        "  le = LabelEncoder()\n",
        "  le.fit(y_train)\n",
        "  y_train_enc = le.transform(y_train)\n",
        "  y_test_enc = le.transform(y_test)\n",
        "  return  y_train_enc, y_test_enc\n",
        "# feature selection\n",
        "def select_features(X_train, y_train, X_test):\n",
        "  fs = SelectKBest(score_func=chi2, k='all')\n",
        "  fs.fit(X_train, y_train)\n",
        "  X_train_fs = fs.transform(X_train)\n",
        "  X_test_fs = fs.transform(X_test)\n",
        "  return X_train_fs, X_test_fs, fs  \n",
        "\n",
        "# load the dataset\n",
        "X, y = load_dataset('https://raw.githubusercontent.com/jbrownlee/Datasets/master/breast-cancer.csv')\n",
        "# split into train and test sets\n",
        "X_train, X_test, y_train, y_test = train_test_split(X, y, test_size = 0.33, random_state=1)\n",
        "# prepare input data\n",
        "X_train_enc, X_test_enc = prepare_inputs(X_train, X_test)\n",
        "# prepare output data\n",
        "y_train_enc, y_test_enc = prepare_targets(y_train, y_test)\n",
        "# feature selection\n",
        "X_train_fs, X_test_fs, fs = select_features(X_train_enc, y_train_enc, X_test_enc)\n",
        "# what are scores for the features\n",
        "for i in range(len(fs.scores_)):\n",
        "  print('Feature %d: %f' %(i, fs.scores_[i]))\n",
        "# plot the scores\n",
        "pyplot.bar([i for i in range(len(fs.scores_))], fs.scores_)\n",
        "pyplot.show()\n",
        "\n"
      ],
      "execution_count": 126,
      "outputs": [
        {
          "output_type": "stream",
          "text": [
            "Feature 0: 0.472553\n",
            "Feature 1: 0.029193\n",
            "Feature 2: 2.137658\n",
            "Feature 3: 29.381059\n",
            "Feature 4: 8.222601\n",
            "Feature 5: 8.100183\n",
            "Feature 6: 1.273822\n",
            "Feature 7: 0.950682\n",
            "Feature 8: 3.699989\n"
          ],
          "name": "stdout"
        },
        {
          "output_type": "display_data",
          "data": {
            "image/png": "[encoded data removed]",
            "text/plain": [
              "<Figure size 432x288 with 1 Axes>"
            ]
          },
          "metadata": {
            "tags": [],
            "needs_background": "light"
          }
        }
      ]
    },
    {
      "cell_type": "markdown",
      "metadata": {
        "id": "RivV-C0nDzG-",
        "colab_type": "text"
      },
      "source": [
        "# Mutual Information Feature Selection"
      ]
    },
    {
      "cell_type": "code",
      "metadata": {
        "id": "4_zlI2apD4ul",
        "colab_type": "code",
        "colab": {
          "base_uri": "https://localhost:8080/",
          "height": 418
        },
        "outputId": "d0679786-ccae-44b0-c15d-9aa1c6745677"
      },
      "source": [
        "# feature selection \n",
        "from pandas import read_csv\n",
        "from sklearn.model_selection import train_test_split\n",
        "from sklearn.preprocessing import LabelEncoder\n",
        "from sklearn.preprocessing import OrdinalEncoder\n",
        "from sklearn.feature_selection import SelectKBest\n",
        "from sklearn.feature_selection import mutual_info_classif\n",
        "from matplotlib import pyplot\n",
        "\n",
        "# load the dataset\n",
        "def load_datatset(filename):\n",
        "  # load the dataset as a pandas DataFrame\n",
        "  data = read_csv(filename, header= None)\n",
        "  # retrieve numpy array\n",
        "  dataset = data.values\n",
        "  # split into input(X) and output (y) variables\n",
        "  X = dataset[:, :-1]\n",
        "  y = dataset[:,-1]\n",
        "  # format all feilds as string\n",
        "  X = X.astype(str)\n",
        "  return X, y\n",
        "\n",
        "# prepare input data\n",
        "def prepare_input(X_train, X_test):\n",
        "  oe = OrdinalEncoder()\n",
        "  oe.fit(X_train)\n",
        "  X_train_enc = oe.transform(X_train)\n",
        "  X_test_enc = oe.transform(X_test)\n",
        "  return X_train_enc, X_test_enc\n",
        "\n",
        "# prepare target\n",
        "def prepare_targets(y_train, y_test):\n",
        "  le = LabelEncoder()\n",
        "  le.fit(y_train)\n",
        "  y_train_enc = le.transform(y_train)\n",
        "  y_test_enc = le.transform(y_test)\n",
        "  return y_train_enc, y_test_enc\n",
        "\n",
        "# feature selection\n",
        "def select_features(X_train, y_train, X_test):\n",
        "  fs = SelectKBest(score_func=mutual_info_classif, k='all')\n",
        "  fs.fit(X_train, y_train)\n",
        "  X_train_fs = fs.transform(X_train)\n",
        "  X_test_fs =fs.transform(X_test)\n",
        "  return X_train_fs, X_test_fs, fs\n",
        "\n",
        "# load the dataset\n",
        "X, y = load_dataset('https://raw.githubusercontent.com/jbrownlee/Datasets/master/breast-cancer.csv')\n",
        "# split into train and test sets\n",
        "X_train, X_test, y_train, y_test = train_test_split(X, y, test_size=0.33, random_state=1)\n",
        "# prepare input data\n",
        "X_train_enc, X_test_enc = prepare_inputs(X_train, X_test)\n",
        "# prepare output data\n",
        "y_train_enc, y_test_enc = prepare_targets(y_train, y_test)\n",
        "# features selection\n",
        "X_train_fs, X_test_fs, fs = select_features(X_train_enc, y_train_enc, X_test_enc)\n",
        "# what are scores for the features\n",
        "for i in range(len(fs.scores_)):\n",
        "  print('Feature %d: %f' %(i, fs.scores_[i]))\n",
        "# plot the scores\n",
        "pyplot.bar([i for i in range(len(fs.scores_))], fs.scores_)\n",
        "pyplot.show()"
      ],
      "execution_count": 132,
      "outputs": [
        {
          "output_type": "stream",
          "text": [
            "Feature 0: 0.000901\n",
            "Feature 1: 0.000000\n",
            "Feature 2: 0.034466\n",
            "Feature 3: 0.009592\n",
            "Feature 4: 0.019374\n",
            "Feature 5: 0.032979\n",
            "Feature 6: 0.010592\n",
            "Feature 7: 0.090366\n",
            "Feature 8: 0.000000\n"
          ],
          "name": "stdout"
        },
        {
          "output_type": "display_data",
          "data": {
            "image/png": "[encoded data removed]",
            "text/plain": [
              "<Figure size 432x288 with 1 Axes>"
            ]
          },
          "metadata": {
            "tags": [],
            "needs_background": "light"
          }
        }
      ]
    },
    {
      "cell_type": "markdown",
      "metadata": {
        "id": "GBo6DRJZRkUn",
        "colab_type": "text"
      },
      "source": [
        "# Modeling with Selected Features"
      ]
    },
    {
      "cell_type": "markdown",
      "metadata": {
        "id": "XyQiIVWBRql4",
        "colab_type": "text"
      },
      "source": [
        "Model Built using all Features"
      ]
    },
    {
      "cell_type": "code",
      "metadata": {
        "id": "c2e8qX5qRdvV",
        "colab_type": "code",
        "colab": {
          "base_uri": "https://localhost:8080/",
          "height": 34
        },
        "outputId": "4fb75fc2-e46e-4284-f531-847443c429df"
      },
      "source": [
        "from pandas import read_csv\n",
        "from sklearn.preprocessing import LabelEncoder\n",
        "from sklearn.preprocessing import OrdinalEncoder\n",
        "from sklearn.model_selection import train_test_split\n",
        "from sklearn.linear_model import LogisticRegression\n",
        "from sklearn.feature_selection import SelectKBest\n",
        "from sklearn.feature_selection import mutual_info_classif\n",
        "from sklearn.feature_selection import chi2\n",
        "from sklearn.metrics import accuracy_score\n",
        "\n",
        "# load the dataset\n",
        "def load_dataset(filename):\n",
        "  # load the dataset as a pandas Dataframe\n",
        "  data = read_csv(filename, header=None)\n",
        "  # retrieve numpy array\n",
        "  dataset = data.values\n",
        "  # split into input(X) and output(y) variables\n",
        "  X = dataset[:,:-1]\n",
        "  y = dataset[:,-1]\n",
        "  # format all fields as string\n",
        "  X = X.astype(str)\n",
        "  return X, y\n",
        "\n",
        "# prepare input data\n",
        "def prepare_inputs(X_train, X_test):\n",
        "  oe = OrdinalEncoder()\n",
        "  oe.fit(X_train)\n",
        "  X_train_enc = oe.transform(X_train)\n",
        "  X_test_enc = oe.transform(X_test)\n",
        "  return X_train_enc, X_test_enc\n",
        "\n",
        "# prepare target\n",
        "def prepare_targets(y_train, y_test):\n",
        "  le = LabelEncoder()\n",
        "  le.fit(y_train)\n",
        "  y_train_enc = le.transform(y_train)\n",
        "  y_test_enc = le.transform(y_test)\n",
        "  return y_train_enc, y_test_enc\n",
        "\n",
        "# feature selection\n",
        "def select_features(X_train, y_train, X_test, option = 'chi2'):\n",
        "  if option == 'chi2':\n",
        "    fs = SelectKBest(score_func=chi2, k =4)\n",
        "  elif option == 'muif':\n",
        "    fs = SelectKBest(score_func=mutual_info_classif, k=4)\n",
        "  fs.fit(X_train, y_train)\n",
        "  X_train_fs = fs.transform(X_train)\n",
        "  X_test_fs = fs.transform(X_test)\n",
        "  return X_train_fs, X_test_fs\n",
        "\n",
        "\n",
        "# load the dataset\n",
        "X, y = load_dataset('https://raw.githubusercontent.com/jbrownlee/Datasets/master/breast-cancer.csv')\n",
        "# split into train and test sets\n",
        "X_train, X_test, y_train, y_test = train_test_split(X, y, test_size=0.33, random_state=1)\n",
        "# prepare input data\n",
        "X_train_enc, X_test_enc = prepare_inputs(X_train, X_test)\n",
        "# prepare output data\n",
        "y_train_enc, y_test_enc = prepare_targets(y_train, y_test)\n",
        "# feature selection\n",
        "X_train_fs, X_test_fs = select_features(X_train_enc, y_train_enc, X_test_enc)\n",
        "X_train_fs2, X_test_fs2 = select_features(X_train_enc, y_train_enc, X_test_enc,option = 'muif')\n",
        "# fit the model1 \n",
        "model1 = LogisticRegression(solver='lbfgs')\n",
        "model1.fit(X_train_enc, y_train_enc)\n",
        "# 2nd model with 4 feature\n",
        "model2 = LogisticRegression(solver='lbfgs')\n",
        "model2.fit(X_train_fs, y_train_enc)\n",
        "# 3rd model with 4 feature\n",
        "model3 = LogisticRegression(solver='lbfgs')\n",
        "model3.fit(X_train_fs2, y_train_enc)\n",
        "# evaluate the model\n",
        "yhat1 = model.predict(X_test_enc)\n",
        "yhat2 = model2.predict(X_test_fs)\n",
        "yhat3  = model3.predict(X_test_fs2)\n",
        "# evaluate predictions\n",
        "acc1 = accuracy_score(y_test_enc, yhat)\n",
        "acc2 = accuracy_score(y_test_enc, yhat2)\n",
        "acc3 = accuracy_score(y_test_enc, yhat3)\n",
        "print('Accuracy of Model 1: %.2f, Model 2: %.2f, Model 3: %.2f' % (acc1*100, acc2*100, acc3*100))"
      ],
      "execution_count": 160,
      "outputs": [
        {
          "output_type": "stream",
          "text": [
            "Accuracy of Model 1: 75.79, Model 2: 74.74, Model 3: 74.74\n"
          ],
          "name": "stdout"
        }
      ]
    },
    {
      "cell_type": "markdown",
      "metadata": {
        "id": "Uh8neM_6ffpq",
        "colab_type": "text"
      },
      "source": [
        "Model Built Using CHi-Squared Features"
      ]
    },
    {
      "cell_type": "code",
      "metadata": {
        "id": "4cBr9KGXffG3",
        "colab_type": "code",
        "colab": {}
      },
      "source": [
        ""
      ],
      "execution_count": null,
      "outputs": []
    }
  ]
}