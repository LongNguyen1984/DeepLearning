{
  "nbformat": 4,
  "nbformat_minor": 0,
  "metadata": {
    "colab": {
      "name": "GANexample.ipynb",
      "provenance": [],
      "toc_visible": true,
      "authorship_tag": "ABX9TyP8l/bM6JXUsE0vhlzU+YPg",
      "include_colab_link": true
    },
    "kernelspec": {
      "name": "python3",
      "display_name": "Python 3"
    },
    "language_info": {
      "name": "python"
    },
    "accelerator": "GPU"
  },
  "cells": [
    {
      "cell_type": "markdown",
      "metadata": {
        "id": "view-in-github",
        "colab_type": "text"
      },
      "source": [
        "<a href=\"https://colab.research.google.com/github/LongNguyen1984/DeepLearning/blob/master/GANexample.ipynb\" target=\"_parent\"><img src=\"https://colab.research.google.com/assets/colab-badge.svg\" alt=\"Open In Colab\"/></a>"
      ]
    },
    {
      "cell_type": "code",
      "metadata": {
        "id": "MksxQaPmcP5I"
      },
      "source": [
        "def calculate(x):\n",
        "  return x*x"
      ],
      "execution_count": 2,
      "outputs": []
    },
    {
      "cell_type": "code",
      "metadata": {
        "colab": {
          "base_uri": "https://localhost:8080/",
          "height": 282
        },
        "id": "KlsDvrZ1ccRE",
        "outputId": "60f5aafa-5e6a-49f2-d8ce-93139775bc23"
      },
      "source": [
        "from matplotlib import pyplot\n",
        "import numpy as np\n",
        "\n",
        "\n",
        "inputs = [i for i in np.arange(-0.5,0.6, .1)]\n",
        "\n",
        "# calculate outputs\n",
        "outputs = [calculate(x) for x in inputs]\n",
        "# plot the result\n",
        "pyplot.plot(inputs, outputs)"
      ],
      "execution_count": 7,
      "outputs": [
        {
          "output_type": "execute_result",
          "data": {
            "text/plain": [
              "[<matplotlib.lines.Line2D at 0x7f00c10ee950>]"
            ]
          },
          "metadata": {
            "tags": []
          },
          "execution_count": 7
        },
        {
          "output_type": "display_data",
          "data": {
            "image/png": "[encoded data removed]",
            "text/plain": [
              "<Figure size 432x288 with 1 Axes>"
            ]
          },
          "metadata": {
            "tags": [],
            "needs_background": "light"
          }
        }
      ]
    },
    {
      "cell_type": "markdown",
      "metadata": {
        "id": "V5G3_EXLdkod"
      },
      "source": [
        "## generate a uniformly random values between 0-1"
      ]
    },
    {
      "cell_type": "code",
      "metadata": {
        "colab": {
          "base_uri": "https://localhost:8080/",
          "height": 264
        },
        "id": "Z5i_9FXWddJc",
        "outputId": "38f55cfe-bd59-4588-b9f7-04120be7cbbf"
      },
      "source": [
        "from numpy.random import rand\n",
        "from numpy import hstack\n",
        "from matplotlib import pyplot\n",
        "\n",
        "# generate randoms sample from x^2\n",
        "def generate_samples(n=100):\n",
        "  # generate random inputs in [-0.5, 0.5]\n",
        "  X1 = rand(n) - 0.5\n",
        "  # generate output X^2 (quadratic)\n",
        "  X2 = X1*X1\n",
        "  # stack arrays\n",
        "  X1 = X1.reshape(n, 1)\n",
        "  X2 = X2.reshape(n, 1)\n",
        "  return hstack((X1, X2))\n",
        "\n",
        "# generate samples\n",
        "data = generate_samples()\n",
        "#plot_samples\n",
        "pyplot.scatter(data[:, 0], data[:, 1])\n",
        "pyplot.show()"
      ],
      "execution_count": 8,
      "outputs": [
        {
          "output_type": "display_data",
          "data": {
            "image/png": "[encoded data removed]",
            "text/plain": [
              "<Figure size 432x288 with 1 Axes>"
            ]
          },
          "metadata": {
            "tags": [],
            "needs_background": "light"
          }
        }
      ]
    },
    {
      "cell_type": "markdown",
      "metadata": {
        "id": "Ihy7X-pZe9AN"
      },
      "source": [
        "## Define a Discriminator Model\n"
      ]
    },
    {
      "cell_type": "code",
      "metadata": {
        "id": "6sGQU8CafAKD"
      },
      "source": [
        "# define the standalone discriminator model\n",
        "def define_discriminator(n_inputs=2):\n",
        "  model = Sequential()\n",
        "  model.add(Dense(25, activation='relu', kernel_initializer='he_uniform', input_dim=n_inputs))\n",
        "  model.add(Dense(1, activation='sigmoid'))\n",
        "  # compile model\n",
        "  model.compile(loss='binary_crossentropy', optimizer='adam', metrics=['accuracy'])\n",
        "  return model"
      ],
      "execution_count": 9,
      "outputs": []
    },
    {
      "cell_type": "code",
      "metadata": {
        "colab": {
          "base_uri": "https://localhost:8080/",
          "height": 525
        },
        "id": "EwTeEgx-fzfz",
        "outputId": "32f7a8c6-604a-4ca6-b50f-ecdd1991787f"
      },
      "source": [
        "# define the discrimator model\n",
        "from keras.models import Sequential\n",
        "from keras.layers import Dense\n",
        "from keras.utils.vis_utils import plot_model\n",
        "\n",
        "# define the discriminator model\n",
        "model = define_discriminator()\n",
        "# summary the model\n",
        "model.summary()\n",
        "# plot the model\n",
        "plot_model(model, to_file='discriminator_plot.png', show_shapes=True, show_layer_names=True)\n"
      ],
      "execution_count": 10,
      "outputs": [
        {
          "output_type": "stream",
          "text": [
            "Model: \"sequential\"\n",
            "_________________________________________________________________\n",
            "Layer (type)                 Output Shape              Param #   \n",
            "=================================================================\n",
            "dense (Dense)                (None, 25)                75        \n",
            "_________________________________________________________________\n",
            "dense_1 (Dense)              (None, 1)                 26        \n",
            "=================================================================\n",
            "Total params: 101\n",
            "Trainable params: 101\n",
            "Non-trainable params: 0\n",
            "_________________________________________________________________\n"
          ],
          "name": "stdout"
        },
        {
          "output_type": "execute_result",
          "data": {
            "image/png": "[encoded data removed]",
            "text/plain": [
              "<IPython.core.display.Image object>"
            ]
          },
          "metadata": {
            "tags": []
          },
          "execution_count": 10
        }
      ]
    },
    {
      "cell_type": "markdown",
      "metadata": {
        "id": "TaHGQTjHg8nW"
      },
      "source": [
        "## Generate the model"
      ]
    },
    {
      "cell_type": "code",
      "metadata": {
        "id": "eubta5n2iIVx"
      },
      "source": [
        "from numpy import zeros\n",
        "from numpy import ones\n",
        "from numpy import hstack\n",
        "from numpy.random import rand\n",
        "from numpy.random import randn\n",
        "from keras.models import Sequential\n",
        "from keras.layers import Dense"
      ],
      "execution_count": 17,
      "outputs": []
    },
    {
      "cell_type": "code",
      "metadata": {
        "id": "M7gLVcSPg_ip"
      },
      "source": [
        "# generate n real samples with class labels\n",
        "def generate_real_samples(n):\n",
        "\t# generate inputs in [-0.5, 0.5]\n",
        "\tX1 = rand(n) - 0.5\n",
        "\t# generate outputs X^2\n",
        "\tX2 = X1 * X1\n",
        "\t# stack arrays\n",
        "\tX1 = X1.reshape(n, 1)\n",
        "\tX2 = X2.reshape(n, 1)\n",
        "\tX = hstack((X1, X2))\n",
        "\t# generate class labels\n",
        "\ty = ones((n, 1))\n",
        "\treturn X, y"
      ],
      "execution_count": 12,
      "outputs": []
    },
    {
      "cell_type": "code",
      "metadata": {
        "id": "QWDne01UhcE5"
      },
      "source": [
        "# generate n fake samples with class labels\n",
        "def generate_fake_samples(n):\n",
        "\t# generate inputs in [-1, 1]\n",
        "\tX1 = -1 + rand(n) * 2\n",
        "\t# generate outputs in [-1, 1]\n",
        "\tX2 = -1 + rand(n) * 2\n",
        "\t# stack arrays\n",
        "\tX1 = X1.reshape(n, 1)\n",
        "\tX2 = X2.reshape(n, 1)\n",
        "\tX = hstack((X1, X2))\n",
        "\t# generate class labels\n",
        "\ty = zeros((n, 1))\n",
        "\treturn X, y"
      ],
      "execution_count": 13,
      "outputs": []
    },
    {
      "cell_type": "code",
      "metadata": {
        "id": "zGdkkW1fhuBZ"
      },
      "source": [
        "# train the discriminator model\n",
        "def train_discriminator(model, n_epochs=1000, n_batch=128):\n",
        "\thalf_batch = int(n_batch / 2)\n",
        "\t# run epochs manually\n",
        "\tfor i in range(n_epochs):\n",
        "\t\t# generate real examples\n",
        "\t\tX_real, y_real = generate_real_samples(half_batch)\n",
        "\t\t# update model\n",
        "\t\tmodel.train_on_batch(X_real, y_real)\n",
        "\t\t# generate fake examples\n",
        "\t\tX_fake, y_fake = generate_fake_samples(half_batch)\n",
        "\t\t# update model\n",
        "\t\tmodel.train_on_batch(X_fake, y_fake)\n",
        "\t\t# evaluate the model\n",
        "\t\t_, acc_real = model.evaluate(X_real, y_real, verbose=0)\n",
        "\t\t_, acc_fake = model.evaluate(X_fake, y_fake, verbose=0)\n",
        "\t\tprint(i, acc_real, acc_fake)"
      ],
      "execution_count": 15,
      "outputs": []
    },
    {
      "cell_type": "code",
      "metadata": {
        "colab": {
          "base_uri": "https://localhost:8080/"
        },
        "id": "NUa6N9ath4v0",
        "outputId": "5d07a1e9-58e0-46d4-bd73-eddd37dbf9a0"
      },
      "source": [
        "model = define_discriminator()\n",
        "# fit the model\n",
        "train_discriminator(model)"
      ],
      "execution_count": 18,
      "outputs": [
        {
          "output_type": "stream",
          "text": [
            "0 0.203125 0.578125\n",
            "1 0.203125 0.703125\n",
            "2 0.15625 0.515625\n",
            "3 0.125 0.5625\n",
            "4 0.21875 0.671875\n",
            "5 0.109375 0.59375\n",
            "6 0.234375 0.640625\n",
            "7 0.203125 0.671875\n",
            "8 0.1875 0.6875\n",
            "9 0.1875 0.5625\n",
            "10 0.171875 0.453125\n",
            "11 0.1875 0.578125\n",
            "12 0.171875 0.640625\n",
            "13 0.265625 0.671875\n",
            "14 0.171875 0.640625\n",
            "15 0.234375 0.703125\n",
            "16 0.265625 0.65625\n",
            "17 0.21875 0.65625\n",
            "18 0.21875 0.671875\n",
            "19 0.296875 0.703125\n",
            "20 0.28125 0.6875\n",
            "21 0.25 0.78125\n",
            "22 0.25 0.671875\n",
            "23 0.15625 0.75\n",
            "24 0.390625 0.75\n",
            "25 0.28125 0.78125\n",
            "26 0.265625 0.765625\n",
            "27 0.34375 0.75\n",
            "28 0.359375 0.6875\n",
            "29 0.203125 0.6875\n",
            "30 0.296875 0.671875\n",
            "31 0.296875 0.703125\n",
            "32 0.1875 0.8125\n",
            "33 0.296875 0.78125\n",
            "34 0.265625 0.703125\n",
            "35 0.234375 0.796875\n",
            "36 0.296875 0.75\n",
            "37 0.3125 0.8125\n",
            "38 0.296875 0.6875\n",
            "39 0.234375 0.828125\n",
            "40 0.359375 0.6875\n",
            "41 0.3125 0.78125\n",
            "42 0.359375 0.828125\n",
            "43 0.3125 0.796875\n",
            "44 0.296875 0.765625\n",
            "45 0.375 0.765625\n",
            "46 0.3125 0.75\n",
            "47 0.4375 0.734375\n",
            "48 0.4375 0.8125\n",
            "49 0.359375 0.75\n",
            "50 0.375 0.8125\n",
            "51 0.421875 0.8125\n",
            "52 0.3125 0.859375\n",
            "53 0.359375 0.765625\n",
            "54 0.3125 0.875\n",
            "55 0.328125 0.8125\n",
            "56 0.359375 0.859375\n",
            "57 0.421875 0.84375\n",
            "58 0.328125 0.78125\n",
            "59 0.390625 0.84375\n",
            "60 0.4375 0.859375\n",
            "61 0.375 0.78125\n",
            "62 0.40625 0.859375\n",
            "63 0.46875 0.875\n",
            "64 0.484375 0.90625\n",
            "65 0.53125 0.953125\n",
            "66 0.46875 0.828125\n",
            "67 0.40625 0.859375\n",
            "68 0.5625 0.953125\n",
            "69 0.453125 0.921875\n",
            "70 0.546875 0.9375\n",
            "71 0.46875 0.953125\n",
            "72 0.5625 0.984375\n",
            "73 0.328125 1.0\n",
            "74 0.359375 0.96875\n",
            "75 0.515625 1.0\n",
            "76 0.46875 1.0\n",
            "77 0.53125 0.984375\n",
            "78 0.5 0.984375\n",
            "79 0.53125 0.984375\n",
            "80 0.453125 0.984375\n",
            "81 0.421875 1.0\n",
            "82 0.375 0.96875\n",
            "83 0.484375 0.984375\n",
            "84 0.546875 1.0\n",
            "85 0.5625 0.96875\n",
            "86 0.46875 0.9375\n",
            "87 0.578125 0.984375\n",
            "88 0.515625 0.953125\n",
            "89 0.65625 0.984375\n",
            "90 0.5 0.953125\n",
            "91 0.53125 0.96875\n",
            "92 0.53125 0.984375\n",
            "93 0.5625 0.953125\n",
            "94 0.4375 0.96875\n",
            "95 0.609375 0.953125\n",
            "96 0.546875 0.9375\n",
            "97 0.515625 1.0\n",
            "98 0.53125 0.984375\n",
            "99 0.59375 1.0\n",
            "100 0.5625 0.984375\n",
            "101 0.65625 1.0\n",
            "102 0.5 0.96875\n",
            "103 0.53125 0.96875\n",
            "104 0.53125 0.96875\n",
            "105 0.59375 0.96875\n",
            "106 0.53125 1.0\n",
            "107 0.671875 0.953125\n",
            "108 0.5625 0.9375\n",
            "109 0.5625 0.96875\n",
            "110 0.546875 1.0\n",
            "111 0.609375 0.96875\n",
            "112 0.625 1.0\n",
            "113 0.578125 0.984375\n",
            "114 0.5625 1.0\n",
            "115 0.609375 0.96875\n",
            "116 0.546875 0.953125\n",
            "117 0.5625 0.984375\n",
            "118 0.609375 0.984375\n",
            "119 0.5625 0.921875\n",
            "120 0.578125 1.0\n",
            "121 0.53125 0.984375\n",
            "122 0.671875 0.96875\n",
            "123 0.671875 0.984375\n",
            "124 0.625 0.96875\n",
            "125 0.484375 0.984375\n",
            "126 0.640625 0.96875\n",
            "127 0.65625 0.96875\n",
            "128 0.59375 0.984375\n",
            "129 0.6875 1.0\n",
            "130 0.625 0.96875\n",
            "131 0.546875 0.96875\n",
            "132 0.53125 0.96875\n",
            "133 0.609375 0.9375\n",
            "134 0.65625 0.96875\n",
            "135 0.59375 0.96875\n",
            "136 0.625 0.96875\n",
            "137 0.59375 0.96875\n",
            "138 0.65625 1.0\n",
            "139 0.625 0.984375\n",
            "140 0.8125 0.9375\n",
            "141 0.671875 1.0\n",
            "142 0.671875 0.96875\n",
            "143 0.65625 0.96875\n",
            "144 0.734375 0.96875\n",
            "145 0.671875 0.921875\n",
            "146 0.71875 0.96875\n",
            "147 0.6875 0.9375\n",
            "148 0.6875 0.984375\n",
            "149 0.6875 0.953125\n",
            "150 0.671875 0.984375\n",
            "151 0.78125 0.9375\n",
            "152 0.640625 0.9375\n",
            "153 0.765625 0.984375\n",
            "154 0.578125 0.9375\n",
            "155 0.71875 0.9375\n",
            "156 0.734375 0.953125\n",
            "157 0.71875 1.0\n",
            "158 0.78125 0.984375\n",
            "159 0.703125 0.953125\n",
            "160 0.828125 0.96875\n",
            "161 0.6875 0.953125\n",
            "162 0.671875 0.921875\n",
            "163 0.703125 0.90625\n",
            "164 0.78125 0.96875\n",
            "165 0.765625 0.96875\n",
            "166 0.78125 0.984375\n",
            "167 0.765625 0.953125\n",
            "168 0.796875 0.9375\n",
            "169 0.734375 0.984375\n",
            "170 0.640625 0.984375\n",
            "171 0.703125 0.96875\n",
            "172 0.75 0.890625\n",
            "173 0.703125 0.984375\n",
            "174 0.859375 0.90625\n",
            "175 0.75 0.96875\n",
            "176 0.765625 0.96875\n",
            "177 0.734375 0.90625\n",
            "178 0.8125 0.9375\n",
            "179 0.796875 0.921875\n",
            "180 0.75 0.9375\n",
            "181 0.71875 0.9375\n",
            "182 0.765625 0.921875\n",
            "183 0.6875 0.96875\n",
            "184 0.734375 0.890625\n",
            "185 0.671875 0.875\n",
            "186 0.71875 0.9375\n",
            "187 0.765625 0.9375\n",
            "188 0.859375 0.984375\n",
            "189 0.8125 0.96875\n",
            "190 0.65625 0.875\n",
            "191 0.828125 0.921875\n",
            "192 0.828125 0.9375\n",
            "193 0.75 0.96875\n",
            "194 0.796875 0.9375\n",
            "195 0.84375 0.984375\n",
            "196 0.71875 0.921875\n",
            "197 0.734375 0.984375\n",
            "198 0.765625 0.953125\n",
            "199 0.734375 0.921875\n",
            "200 0.71875 0.953125\n",
            "201 0.71875 0.890625\n",
            "202 0.75 0.9375\n",
            "203 0.828125 0.921875\n",
            "204 0.765625 0.96875\n",
            "205 0.84375 0.921875\n",
            "206 0.75 1.0\n",
            "207 0.796875 0.96875\n",
            "208 0.765625 0.953125\n",
            "209 0.796875 0.96875\n",
            "210 0.890625 0.90625\n",
            "211 0.84375 0.890625\n",
            "212 0.828125 0.890625\n",
            "213 0.8125 0.96875\n",
            "214 0.78125 0.9375\n",
            "215 0.84375 0.953125\n",
            "216 0.8125 0.96875\n",
            "217 0.859375 0.953125\n",
            "218 0.8125 0.953125\n",
            "219 0.828125 0.90625\n",
            "220 0.828125 0.9375\n",
            "221 0.796875 0.921875\n",
            "222 0.828125 1.0\n",
            "223 0.859375 0.84375\n",
            "224 0.859375 0.9375\n",
            "225 0.90625 0.984375\n",
            "226 0.78125 0.96875\n",
            "227 0.859375 0.875\n",
            "228 0.796875 0.96875\n",
            "229 0.78125 0.96875\n",
            "230 0.84375 0.9375\n",
            "231 0.84375 0.875\n",
            "232 0.8125 0.90625\n",
            "233 0.859375 0.9375\n",
            "234 0.8125 0.90625\n",
            "235 0.953125 0.875\n",
            "236 0.890625 0.90625\n",
            "237 0.8125 0.9375\n",
            "238 0.84375 0.90625\n",
            "239 0.84375 0.921875\n",
            "240 0.90625 0.96875\n",
            "241 0.859375 0.90625\n",
            "242 0.90625 0.9375\n",
            "243 0.78125 0.9375\n",
            "244 0.828125 0.921875\n",
            "245 0.953125 0.890625\n",
            "246 0.90625 0.9375\n",
            "247 0.875 0.90625\n",
            "248 0.875 0.921875\n",
            "249 0.890625 0.9375\n",
            "250 0.875 0.90625\n",
            "251 0.890625 0.921875\n",
            "252 0.859375 0.875\n",
            "253 0.84375 0.96875\n",
            "254 0.859375 0.859375\n",
            "255 0.8125 0.9375\n",
            "256 0.859375 0.9375\n",
            "257 0.8125 0.9375\n",
            "258 0.84375 0.9375\n",
            "259 0.90625 0.890625\n",
            "260 0.921875 0.9375\n",
            "261 0.84375 0.90625\n",
            "262 0.921875 0.90625\n",
            "263 0.890625 0.984375\n",
            "264 0.90625 0.921875\n",
            "265 0.90625 0.921875\n",
            "266 0.921875 0.953125\n",
            "267 0.875 0.875\n",
            "268 0.84375 0.859375\n",
            "269 0.953125 0.859375\n",
            "270 0.921875 0.9375\n",
            "271 0.953125 0.96875\n",
            "272 0.84375 0.9375\n",
            "273 0.9375 0.875\n",
            "274 0.890625 0.9375\n",
            "275 0.90625 0.9375\n",
            "276 0.875 0.9375\n",
            "277 0.875 0.9375\n",
            "278 0.90625 0.9375\n",
            "279 0.90625 0.96875\n",
            "280 0.96875 0.984375\n",
            "281 0.90625 0.90625\n",
            "282 0.859375 0.875\n",
            "283 0.796875 0.96875\n",
            "284 0.9375 0.890625\n",
            "285 0.96875 0.921875\n",
            "286 0.859375 0.921875\n",
            "287 0.84375 0.953125\n",
            "288 0.96875 0.921875\n",
            "289 0.9375 0.875\n",
            "290 0.921875 0.96875\n",
            "291 0.90625 0.9375\n",
            "292 0.9375 0.921875\n",
            "293 0.9375 0.953125\n",
            "294 0.890625 0.890625\n",
            "295 0.890625 0.90625\n",
            "296 0.96875 0.9375\n",
            "297 0.9375 0.921875\n",
            "298 0.9375 0.875\n",
            "299 0.890625 0.953125\n",
            "300 0.921875 0.96875\n",
            "301 0.9375 0.921875\n",
            "302 0.90625 0.984375\n",
            "303 0.90625 0.9375\n",
            "304 0.921875 0.9375\n",
            "305 0.9375 0.9375\n",
            "306 0.96875 0.875\n",
            "307 0.890625 0.96875\n",
            "308 0.921875 0.890625\n",
            "309 0.953125 0.890625\n",
            "310 0.921875 0.890625\n",
            "311 0.96875 0.875\n",
            "312 1.0 0.9375\n",
            "313 0.953125 0.8125\n",
            "314 0.921875 0.9375\n",
            "315 0.96875 0.90625\n",
            "316 0.96875 0.890625\n",
            "317 0.984375 0.9375\n",
            "318 0.984375 0.875\n",
            "319 0.96875 0.921875\n",
            "320 0.890625 0.953125\n",
            "321 0.953125 0.890625\n",
            "322 0.984375 0.90625\n",
            "323 0.984375 0.859375\n",
            "324 0.953125 0.90625\n",
            "325 0.984375 0.859375\n",
            "326 0.953125 0.9375\n",
            "327 0.9375 0.90625\n",
            "328 1.0 0.859375\n",
            "329 1.0 0.875\n",
            "330 0.96875 0.90625\n",
            "331 0.96875 0.921875\n",
            "332 0.953125 0.953125\n",
            "333 0.96875 0.890625\n",
            "334 0.9375 0.84375\n",
            "335 0.9375 0.90625\n",
            "336 0.953125 0.9375\n",
            "337 0.96875 0.890625\n",
            "338 0.953125 0.84375\n",
            "339 0.96875 0.84375\n",
            "340 0.953125 0.890625\n",
            "341 1.0 0.890625\n",
            "342 0.921875 0.8125\n",
            "343 0.984375 0.828125\n",
            "344 0.984375 0.921875\n",
            "345 0.9375 0.84375\n",
            "346 0.96875 0.90625\n",
            "347 0.953125 0.90625\n",
            "348 0.953125 0.9375\n",
            "349 0.96875 0.921875\n",
            "350 1.0 0.9375\n",
            "351 1.0 0.9375\n",
            "352 0.953125 0.875\n",
            "353 0.9375 0.859375\n",
            "354 0.984375 0.875\n",
            "355 0.984375 0.90625\n",
            "356 0.96875 0.8125\n",
            "357 0.96875 0.90625\n",
            "358 0.984375 0.921875\n",
            "359 0.953125 0.890625\n",
            "360 1.0 0.875\n",
            "361 0.953125 0.921875\n",
            "362 0.96875 0.90625\n",
            "363 0.96875 0.90625\n",
            "364 0.984375 0.953125\n",
            "365 0.984375 0.9375\n",
            "366 1.0 0.9375\n",
            "367 1.0 0.90625\n",
            "368 0.953125 0.828125\n",
            "369 1.0 0.859375\n",
            "370 0.984375 0.921875\n",
            "371 0.96875 0.8125\n",
            "372 0.96875 0.90625\n",
            "373 1.0 0.953125\n",
            "374 0.984375 0.921875\n",
            "375 0.96875 0.875\n",
            "376 0.96875 0.859375\n",
            "377 0.984375 0.921875\n",
            "378 0.984375 0.875\n",
            "379 0.984375 0.84375\n",
            "380 1.0 0.90625\n",
            "381 0.984375 0.859375\n",
            "382 0.984375 0.953125\n",
            "383 1.0 0.859375\n",
            "384 0.953125 0.875\n",
            "385 0.921875 0.84375\n",
            "386 1.0 0.875\n",
            "387 0.96875 0.859375\n",
            "388 0.96875 0.90625\n",
            "389 0.9375 0.84375\n",
            "390 1.0 0.859375\n",
            "391 0.984375 0.859375\n",
            "392 0.953125 0.8125\n",
            "393 1.0 0.921875\n",
            "394 1.0 0.84375\n",
            "395 0.984375 0.875\n",
            "396 1.0 0.828125\n",
            "397 0.984375 0.90625\n",
            "398 0.984375 0.90625\n",
            "399 0.984375 0.90625\n",
            "400 0.984375 0.921875\n",
            "401 0.96875 0.90625\n",
            "402 0.96875 0.875\n",
            "403 0.984375 0.90625\n",
            "404 0.984375 0.890625\n",
            "405 1.0 0.84375\n",
            "406 0.96875 0.84375\n",
            "407 1.0 0.890625\n",
            "408 0.984375 0.859375\n",
            "409 1.0 0.90625\n",
            "410 1.0 0.859375\n",
            "411 1.0 0.9375\n",
            "412 1.0 0.90625\n",
            "413 0.984375 0.921875\n",
            "414 0.96875 0.90625\n",
            "415 1.0 0.90625\n",
            "416 1.0 0.859375\n",
            "417 1.0 0.828125\n",
            "418 0.984375 0.90625\n",
            "419 0.984375 0.875\n",
            "420 1.0 0.875\n",
            "421 0.984375 0.90625\n",
            "422 1.0 0.90625\n",
            "423 1.0 0.9375\n",
            "424 1.0 0.921875\n",
            "425 1.0 0.890625\n",
            "426 1.0 0.859375\n",
            "427 1.0 0.875\n",
            "428 1.0 0.90625\n",
            "429 0.984375 0.875\n",
            "430 1.0 0.921875\n",
            "431 0.984375 0.875\n",
            "432 0.96875 0.828125\n",
            "433 1.0 0.828125\n",
            "434 1.0 0.859375\n",
            "435 1.0 0.859375\n",
            "436 1.0 0.8125\n",
            "437 1.0 0.875\n",
            "438 1.0 0.828125\n",
            "439 1.0 0.9375\n",
            "440 1.0 0.765625\n",
            "441 1.0 0.921875\n",
            "442 1.0 0.96875\n",
            "443 1.0 0.890625\n",
            "444 1.0 0.921875\n",
            "445 1.0 0.90625\n",
            "446 1.0 0.90625\n",
            "447 1.0 0.859375\n",
            "448 1.0 0.859375\n",
            "449 1.0 0.859375\n",
            "450 1.0 0.890625\n",
            "451 1.0 0.875\n",
            "452 1.0 0.875\n",
            "453 1.0 0.796875\n",
            "454 1.0 0.921875\n",
            "455 1.0 0.859375\n",
            "456 1.0 0.828125\n",
            "457 1.0 0.84375\n",
            "458 1.0 0.84375\n",
            "459 1.0 0.90625\n",
            "460 1.0 0.828125\n",
            "461 1.0 0.84375\n",
            "462 1.0 0.859375\n",
            "463 1.0 0.875\n",
            "464 1.0 0.84375\n",
            "465 1.0 0.890625\n",
            "466 1.0 0.953125\n",
            "467 1.0 0.859375\n",
            "468 1.0 0.921875\n",
            "469 1.0 0.796875\n",
            "470 1.0 0.9375\n",
            "471 1.0 0.890625\n",
            "472 1.0 0.84375\n",
            "473 1.0 0.875\n",
            "474 1.0 0.875\n",
            "475 1.0 0.890625\n",
            "476 1.0 0.96875\n",
            "477 1.0 0.875\n",
            "478 1.0 0.890625\n",
            "479 1.0 0.859375\n",
            "480 1.0 0.921875\n",
            "481 1.0 0.875\n",
            "482 1.0 0.875\n",
            "483 1.0 0.859375\n",
            "484 1.0 0.890625\n",
            "485 1.0 0.84375\n",
            "486 1.0 0.859375\n",
            "487 1.0 0.84375\n",
            "488 1.0 0.9375\n",
            "489 1.0 0.859375\n",
            "490 1.0 0.921875\n",
            "491 1.0 0.875\n",
            "492 1.0 0.84375\n",
            "493 1.0 0.859375\n",
            "494 1.0 0.796875\n",
            "495 1.0 0.84375\n",
            "496 1.0 0.78125\n",
            "497 1.0 0.859375\n",
            "498 1.0 0.765625\n",
            "499 1.0 0.84375\n",
            "500 1.0 0.953125\n",
            "501 1.0 0.8125\n",
            "502 1.0 0.828125\n",
            "503 1.0 0.828125\n",
            "504 1.0 0.90625\n",
            "505 1.0 0.859375\n",
            "506 1.0 0.859375\n",
            "507 1.0 0.828125\n",
            "508 1.0 0.84375\n",
            "509 1.0 0.875\n",
            "510 1.0 0.84375\n",
            "511 1.0 0.84375\n",
            "512 1.0 0.84375\n",
            "513 1.0 0.84375\n",
            "514 1.0 0.875\n",
            "515 1.0 0.890625\n",
            "516 1.0 0.859375\n",
            "517 1.0 0.921875\n",
            "518 1.0 0.8125\n",
            "519 1.0 0.890625\n",
            "520 1.0 0.90625\n",
            "521 1.0 0.890625\n",
            "522 1.0 0.828125\n",
            "523 1.0 0.859375\n",
            "524 1.0 0.765625\n",
            "525 1.0 0.859375\n",
            "526 1.0 0.875\n",
            "527 1.0 0.875\n",
            "528 1.0 0.890625\n",
            "529 1.0 0.96875\n",
            "530 1.0 0.78125\n",
            "531 1.0 0.796875\n",
            "532 1.0 0.8125\n",
            "533 1.0 0.890625\n",
            "534 1.0 0.890625\n",
            "535 1.0 0.796875\n",
            "536 1.0 0.921875\n",
            "537 1.0 0.859375\n",
            "538 1.0 0.9375\n",
            "539 1.0 0.890625\n",
            "540 1.0 0.90625\n",
            "541 1.0 0.859375\n",
            "542 1.0 0.8125\n",
            "543 1.0 0.859375\n",
            "544 1.0 0.84375\n",
            "545 1.0 0.9375\n",
            "546 1.0 0.8125\n",
            "547 1.0 0.8125\n",
            "548 1.0 0.90625\n",
            "549 1.0 0.890625\n",
            "550 1.0 0.953125\n",
            "551 1.0 0.921875\n",
            "552 1.0 0.875\n",
            "553 1.0 0.828125\n",
            "554 1.0 0.84375\n",
            "555 1.0 0.890625\n",
            "556 1.0 0.921875\n",
            "557 1.0 0.859375\n",
            "558 1.0 0.828125\n",
            "559 1.0 0.890625\n",
            "560 1.0 0.859375\n",
            "561 1.0 0.796875\n",
            "562 1.0 0.90625\n",
            "563 1.0 0.9375\n",
            "564 1.0 0.875\n",
            "565 1.0 0.84375\n",
            "566 1.0 0.921875\n",
            "567 1.0 0.8125\n",
            "568 1.0 0.84375\n",
            "569 1.0 0.921875\n",
            "570 1.0 0.828125\n",
            "571 1.0 0.875\n",
            "572 1.0 0.875\n",
            "573 1.0 0.84375\n",
            "574 1.0 0.90625\n",
            "575 1.0 0.859375\n",
            "576 1.0 0.9375\n",
            "577 1.0 0.78125\n",
            "578 1.0 0.953125\n",
            "579 1.0 0.90625\n",
            "580 1.0 0.875\n",
            "581 1.0 0.921875\n",
            "582 1.0 0.8125\n",
            "583 1.0 0.875\n",
            "584 1.0 0.90625\n",
            "585 1.0 0.8125\n",
            "586 1.0 0.859375\n",
            "587 1.0 0.890625\n",
            "588 1.0 0.84375\n",
            "589 1.0 0.921875\n",
            "590 1.0 0.875\n",
            "591 1.0 0.78125\n",
            "592 1.0 0.921875\n",
            "593 1.0 0.875\n",
            "594 1.0 0.953125\n",
            "595 1.0 0.84375\n",
            "596 1.0 0.875\n",
            "597 1.0 0.875\n",
            "598 1.0 0.875\n",
            "599 1.0 0.90625\n",
            "600 1.0 0.8125\n",
            "601 1.0 0.859375\n",
            "602 1.0 0.859375\n",
            "603 1.0 0.84375\n",
            "604 1.0 0.875\n",
            "605 1.0 0.921875\n",
            "606 1.0 0.890625\n",
            "607 1.0 0.796875\n",
            "608 1.0 0.828125\n",
            "609 1.0 0.84375\n",
            "610 1.0 0.84375\n",
            "611 1.0 0.875\n",
            "612 1.0 0.8125\n",
            "613 1.0 0.953125\n",
            "614 1.0 0.890625\n",
            "615 1.0 0.84375\n",
            "616 1.0 0.9375\n",
            "617 1.0 0.9375\n",
            "618 1.0 0.8125\n",
            "619 1.0 0.875\n",
            "620 1.0 0.71875\n",
            "621 1.0 0.875\n",
            "622 1.0 0.875\n",
            "623 1.0 0.90625\n",
            "624 1.0 0.90625\n",
            "625 1.0 0.828125\n",
            "626 1.0 0.8125\n",
            "627 1.0 0.875\n",
            "628 1.0 0.859375\n",
            "629 1.0 0.859375\n",
            "630 1.0 0.890625\n",
            "631 1.0 0.875\n",
            "632 1.0 0.921875\n",
            "633 1.0 0.859375\n",
            "634 1.0 0.8125\n",
            "635 1.0 0.875\n",
            "636 1.0 0.859375\n",
            "637 1.0 0.859375\n",
            "638 1.0 0.828125\n",
            "639 1.0 0.84375\n",
            "640 1.0 0.9375\n",
            "641 1.0 0.8125\n",
            "642 1.0 0.859375\n",
            "643 1.0 0.796875\n",
            "644 1.0 0.828125\n",
            "645 1.0 0.859375\n",
            "646 1.0 0.890625\n",
            "647 1.0 0.78125\n",
            "648 1.0 0.78125\n",
            "649 1.0 0.828125\n",
            "650 1.0 0.875\n",
            "651 1.0 0.828125\n",
            "652 1.0 0.765625\n",
            "653 1.0 0.78125\n",
            "654 1.0 0.828125\n",
            "655 1.0 0.84375\n",
            "656 1.0 0.796875\n",
            "657 1.0 0.890625\n",
            "658 1.0 0.90625\n",
            "659 1.0 0.921875\n",
            "660 1.0 0.828125\n",
            "661 1.0 0.859375\n",
            "662 1.0 0.796875\n",
            "663 1.0 0.828125\n",
            "664 1.0 0.875\n",
            "665 1.0 0.90625\n",
            "666 1.0 0.890625\n",
            "667 1.0 0.859375\n",
            "668 1.0 0.84375\n",
            "669 1.0 0.8125\n",
            "670 1.0 0.96875\n",
            "671 1.0 0.84375\n",
            "672 1.0 0.828125\n",
            "673 1.0 0.890625\n",
            "674 1.0 0.921875\n",
            "675 1.0 0.890625\n",
            "676 1.0 0.875\n",
            "677 1.0 0.796875\n",
            "678 1.0 0.84375\n",
            "679 1.0 0.828125\n",
            "680 1.0 0.8125\n",
            "681 1.0 0.875\n",
            "682 1.0 0.890625\n",
            "683 1.0 0.9375\n",
            "684 1.0 0.84375\n",
            "685 1.0 0.828125\n",
            "686 1.0 0.90625\n",
            "687 1.0 0.859375\n",
            "688 1.0 0.765625\n",
            "689 1.0 0.875\n",
            "690 1.0 0.8125\n",
            "691 1.0 0.84375\n",
            "692 1.0 0.859375\n",
            "693 1.0 0.8125\n",
            "694 1.0 0.75\n",
            "695 1.0 0.859375\n",
            "696 1.0 0.859375\n",
            "697 1.0 0.84375\n",
            "698 1.0 0.828125\n",
            "699 1.0 0.890625\n",
            "700 1.0 0.84375\n",
            "701 1.0 0.875\n",
            "702 1.0 0.890625\n",
            "703 1.0 0.828125\n",
            "704 1.0 0.796875\n",
            "705 1.0 0.890625\n",
            "706 1.0 0.90625\n",
            "707 1.0 0.8125\n",
            "708 1.0 0.859375\n",
            "709 1.0 0.84375\n",
            "710 1.0 0.859375\n",
            "711 1.0 0.765625\n",
            "712 1.0 0.90625\n",
            "713 1.0 0.859375\n",
            "714 1.0 0.78125\n",
            "715 1.0 0.890625\n",
            "716 1.0 0.890625\n",
            "717 1.0 0.796875\n",
            "718 1.0 0.921875\n",
            "719 1.0 0.875\n",
            "720 1.0 0.90625\n",
            "721 1.0 0.890625\n",
            "722 1.0 0.828125\n",
            "723 1.0 0.890625\n",
            "724 1.0 0.875\n",
            "725 1.0 0.890625\n",
            "726 1.0 0.890625\n",
            "727 1.0 0.890625\n",
            "728 1.0 0.875\n",
            "729 1.0 0.84375\n",
            "730 1.0 0.8125\n",
            "731 1.0 0.921875\n",
            "732 1.0 0.859375\n",
            "733 1.0 0.84375\n",
            "734 1.0 0.859375\n",
            "735 1.0 0.84375\n",
            "736 1.0 0.859375\n",
            "737 1.0 0.796875\n",
            "738 1.0 0.890625\n",
            "739 1.0 0.859375\n",
            "740 1.0 0.828125\n",
            "741 1.0 0.828125\n",
            "742 1.0 0.875\n",
            "743 1.0 0.890625\n",
            "744 1.0 0.890625\n",
            "745 1.0 0.90625\n",
            "746 1.0 0.859375\n",
            "747 1.0 0.859375\n",
            "748 1.0 0.9375\n",
            "749 1.0 0.90625\n",
            "750 1.0 0.859375\n",
            "751 1.0 0.890625\n",
            "752 1.0 0.875\n",
            "753 1.0 0.828125\n",
            "754 1.0 0.796875\n",
            "755 1.0 0.8125\n",
            "756 1.0 0.9375\n",
            "757 1.0 0.875\n",
            "758 1.0 0.8125\n",
            "759 1.0 0.890625\n",
            "760 1.0 0.765625\n",
            "761 1.0 0.8125\n",
            "762 1.0 0.890625\n",
            "763 1.0 0.859375\n",
            "764 1.0 0.8125\n",
            "765 1.0 0.859375\n",
            "766 1.0 0.875\n",
            "767 1.0 0.859375\n",
            "768 1.0 0.9375\n",
            "769 1.0 0.890625\n",
            "770 1.0 0.84375\n",
            "771 1.0 0.84375\n",
            "772 1.0 0.890625\n",
            "773 1.0 0.921875\n",
            "774 1.0 0.890625\n",
            "775 1.0 0.890625\n",
            "776 1.0 0.859375\n",
            "777 1.0 0.859375\n",
            "778 1.0 0.890625\n",
            "779 1.0 0.890625\n",
            "780 1.0 0.8125\n",
            "781 1.0 0.890625\n",
            "782 1.0 0.84375\n",
            "783 1.0 0.8125\n",
            "784 1.0 0.828125\n",
            "785 1.0 0.890625\n",
            "786 1.0 0.890625\n",
            "787 1.0 0.84375\n",
            "788 1.0 0.90625\n",
            "789 1.0 0.84375\n",
            "790 1.0 0.90625\n",
            "791 1.0 0.859375\n",
            "792 1.0 0.890625\n",
            "793 1.0 0.796875\n",
            "794 1.0 0.9375\n",
            "795 1.0 0.84375\n",
            "796 1.0 0.8125\n",
            "797 1.0 0.890625\n",
            "798 1.0 0.828125\n",
            "799 1.0 0.8125\n",
            "800 1.0 0.84375\n",
            "801 1.0 0.859375\n",
            "802 1.0 0.90625\n",
            "803 1.0 0.8125\n",
            "804 1.0 0.875\n",
            "805 1.0 0.78125\n",
            "806 1.0 0.875\n",
            "807 1.0 0.84375\n",
            "808 1.0 0.8125\n",
            "809 1.0 0.9375\n",
            "810 1.0 0.921875\n",
            "811 1.0 0.859375\n",
            "812 1.0 0.8125\n",
            "813 1.0 0.90625\n",
            "814 1.0 0.828125\n",
            "815 1.0 0.859375\n",
            "816 1.0 0.828125\n",
            "817 1.0 0.875\n",
            "818 1.0 0.921875\n",
            "819 1.0 0.84375\n",
            "820 1.0 0.890625\n",
            "821 1.0 0.8125\n",
            "822 1.0 0.921875\n",
            "823 1.0 0.875\n",
            "824 1.0 0.890625\n",
            "825 1.0 0.921875\n",
            "826 1.0 0.875\n",
            "827 1.0 0.859375\n",
            "828 1.0 0.796875\n",
            "829 1.0 0.84375\n",
            "830 1.0 0.828125\n",
            "831 1.0 0.9375\n",
            "832 1.0 0.796875\n",
            "833 1.0 0.78125\n",
            "834 1.0 0.78125\n",
            "835 1.0 0.875\n",
            "836 1.0 0.8125\n",
            "837 1.0 0.8125\n",
            "838 1.0 0.90625\n",
            "839 1.0 0.84375\n",
            "840 1.0 0.9375\n",
            "841 1.0 0.90625\n",
            "842 1.0 0.890625\n",
            "843 1.0 0.765625\n",
            "844 1.0 0.75\n",
            "845 1.0 0.90625\n",
            "846 1.0 0.84375\n",
            "847 1.0 0.890625\n",
            "848 1.0 0.890625\n",
            "849 1.0 0.859375\n",
            "850 1.0 0.921875\n",
            "851 1.0 0.890625\n",
            "852 1.0 0.890625\n",
            "853 1.0 0.859375\n",
            "854 1.0 0.90625\n",
            "855 1.0 0.84375\n",
            "856 1.0 0.84375\n",
            "857 1.0 0.890625\n",
            "858 1.0 0.828125\n",
            "859 1.0 0.796875\n",
            "860 1.0 0.828125\n",
            "861 1.0 0.796875\n",
            "862 1.0 0.75\n",
            "863 1.0 0.796875\n",
            "864 1.0 0.859375\n",
            "865 1.0 0.921875\n",
            "866 1.0 0.96875\n",
            "867 1.0 0.796875\n",
            "868 1.0 0.890625\n",
            "869 1.0 0.90625\n",
            "870 1.0 0.890625\n",
            "871 1.0 0.75\n",
            "872 1.0 0.859375\n",
            "873 1.0 0.875\n",
            "874 1.0 0.90625\n",
            "875 1.0 0.90625\n",
            "876 1.0 0.875\n",
            "877 1.0 0.90625\n",
            "878 1.0 0.8125\n",
            "879 1.0 0.875\n",
            "880 1.0 0.875\n",
            "881 1.0 0.828125\n",
            "882 1.0 0.90625\n",
            "883 1.0 0.8125\n",
            "884 1.0 0.890625\n",
            "885 1.0 0.84375\n",
            "886 1.0 0.921875\n",
            "887 1.0 0.890625\n",
            "888 1.0 0.875\n",
            "889 1.0 0.953125\n",
            "890 1.0 0.84375\n",
            "891 1.0 0.84375\n",
            "892 1.0 0.921875\n",
            "893 1.0 0.859375\n",
            "894 1.0 0.890625\n",
            "895 1.0 0.78125\n",
            "896 1.0 0.9375\n",
            "897 1.0 0.828125\n",
            "898 1.0 0.90625\n",
            "899 1.0 0.890625\n",
            "900 1.0 0.875\n",
            "901 1.0 0.859375\n",
            "902 1.0 0.828125\n",
            "903 1.0 0.890625\n",
            "904 1.0 0.859375\n",
            "905 1.0 0.90625\n",
            "906 1.0 0.765625\n",
            "907 1.0 0.84375\n",
            "908 1.0 0.875\n",
            "909 1.0 0.828125\n",
            "910 1.0 0.859375\n",
            "911 1.0 0.890625\n",
            "912 1.0 0.875\n",
            "913 1.0 0.875\n",
            "914 1.0 0.84375\n",
            "915 1.0 0.84375\n",
            "916 1.0 0.9375\n",
            "917 1.0 0.828125\n",
            "918 1.0 0.859375\n",
            "919 1.0 0.890625\n",
            "920 1.0 0.953125\n",
            "921 1.0 0.8125\n",
            "922 1.0 0.8125\n",
            "923 1.0 0.78125\n",
            "924 1.0 0.96875\n",
            "925 1.0 0.84375\n",
            "926 1.0 0.875\n",
            "927 1.0 0.890625\n",
            "928 1.0 0.890625\n",
            "929 1.0 0.890625\n",
            "930 1.0 0.875\n",
            "931 1.0 0.875\n",
            "932 1.0 0.921875\n",
            "933 1.0 0.875\n",
            "934 1.0 0.875\n",
            "935 1.0 0.890625\n",
            "936 1.0 0.921875\n",
            "937 1.0 0.90625\n",
            "938 1.0 0.890625\n",
            "939 1.0 0.875\n",
            "940 1.0 0.859375\n",
            "941 1.0 0.875\n",
            "942 1.0 0.890625\n",
            "943 1.0 0.9375\n",
            "944 1.0 0.921875\n",
            "945 1.0 0.828125\n",
            "946 1.0 0.921875\n",
            "947 1.0 0.90625\n",
            "948 1.0 0.90625\n",
            "949 1.0 0.921875\n",
            "950 1.0 0.84375\n",
            "951 1.0 0.828125\n",
            "952 1.0 0.890625\n",
            "953 1.0 0.875\n",
            "954 1.0 0.84375\n",
            "955 1.0 0.84375\n",
            "956 1.0 0.890625\n",
            "957 1.0 0.875\n",
            "958 1.0 0.796875\n",
            "959 1.0 0.859375\n",
            "960 1.0 0.875\n",
            "961 1.0 0.90625\n",
            "962 1.0 0.921875\n",
            "963 1.0 0.8125\n",
            "964 1.0 0.828125\n",
            "965 1.0 0.828125\n",
            "966 1.0 0.890625\n",
            "967 1.0 0.921875\n",
            "968 1.0 0.890625\n",
            "969 1.0 0.859375\n",
            "970 1.0 0.875\n",
            "971 1.0 0.875\n",
            "972 1.0 0.78125\n",
            "973 1.0 0.90625\n",
            "974 1.0 0.921875\n",
            "975 1.0 0.859375\n",
            "976 1.0 0.78125\n",
            "977 1.0 0.828125\n",
            "978 1.0 0.9375\n",
            "979 1.0 0.875\n",
            "980 1.0 0.84375\n",
            "981 1.0 0.953125\n",
            "982 1.0 0.890625\n",
            "983 1.0 0.9375\n",
            "984 1.0 0.828125\n",
            "985 1.0 0.828125\n",
            "986 1.0 0.90625\n",
            "987 1.0 0.859375\n",
            "988 1.0 0.875\n",
            "989 1.0 0.890625\n",
            "990 1.0 0.890625\n",
            "991 1.0 0.921875\n",
            "992 1.0 0.859375\n",
            "993 1.0 0.890625\n",
            "994 1.0 0.890625\n",
            "995 1.0 0.859375\n",
            "996 1.0 0.9375\n",
            "997 1.0 0.859375\n",
            "998 1.0 0.828125\n",
            "999 1.0 0.921875\n"
          ],
          "name": "stdout"
        }
      ]
    },
    {
      "cell_type": "markdown",
      "metadata": {
        "id": "iFDcbtC_i_9k"
      },
      "source": [
        "## Define a Generator Model"
      ]
    },
    {
      "cell_type": "code",
      "metadata": {
        "colab": {
          "base_uri": "https://localhost:8080/",
          "height": 264
        },
        "id": "4213_ZaOjEiT",
        "outputId": "9217699f-a7e5-4818-c812-10ac9d166f0a"
      },
      "source": [
        "# define and use the generator model\n",
        "from numpy.random import randn\n",
        "from keras.models import Sequential\n",
        "from keras.layers import Dense\n",
        "from matplotlib import pyplot\n",
        " \n",
        "# define the standalone generator model\n",
        "def define_generator(latent_dim, n_outputs=2):\n",
        "\tmodel = Sequential()\n",
        "\tmodel.add(Dense(15, activation='relu', kernel_initializer='he_uniform', input_dim=latent_dim))\n",
        "\tmodel.add(Dense(n_outputs, activation='linear'))\n",
        "\treturn model\n",
        " \n",
        "# generate points in latent space as input for the generator\n",
        "def generate_latent_points(latent_dim, n):\n",
        "\t# generate points in the latent space\n",
        "\tx_input = randn(latent_dim * n)\n",
        "\t# reshape into a batch of inputs for the network\n",
        "\tx_input = x_input.reshape(n, latent_dim)\n",
        "\treturn x_input\n",
        " \n",
        "# use the generator to generate n fake examples and plot the results\n",
        "def generate_fake_samples(generator, latent_dim, n):\n",
        "\t# generate points in latent space\n",
        "\tx_input = generate_latent_points(latent_dim, n)\n",
        "\t# predict outputs\n",
        "\tX = generator.predict(x_input)\n",
        "\t# plot the results\n",
        "\tpyplot.scatter(X[:, 0], X[:, 1])\n",
        "\tpyplot.show()\n",
        " \n",
        "# size of the latent space\n",
        "latent_dim = 5\n",
        "# define the discriminator model\n",
        "model = define_generator(latent_dim)\n",
        "# generate and plot generated samples\n",
        "generate_fake_samples(model, latent_dim, 100)"
      ],
      "execution_count": 19,
      "outputs": [
        {
          "output_type": "display_data",
          "data": {
            "image/png": "[encoded data removed]",
            "text/plain": [
              "<Figure size 432x288 with 1 Axes>"
            ]
          },
          "metadata": {
            "tags": [],
            "needs_background": "light"
          }
        }
      ]
    },
    {
      "cell_type": "markdown",
      "metadata": {
        "id": "6YiV9MDSjhcS"
      },
      "source": [
        "Training the Generator Model"
      ]
    },
    {
      "cell_type": "code",
      "metadata": {
        "colab": {
          "base_uri": "https://localhost:8080/",
          "height": 525
        },
        "id": "zgHyAKhJjlL_",
        "outputId": "e6213536-9e4e-46e2-bb8d-2909e36c7887"
      },
      "source": [
        "\n",
        "from keras.models import Sequential\n",
        "from keras.layers import Dense\n",
        "from keras.utils.vis_utils import plot_model\n",
        " \n",
        "# define the standalone discriminator model\n",
        "def define_discriminator(n_inputs=2):\n",
        "\tmodel = Sequential()\n",
        "\tmodel.add(Dense(25, activation='relu', kernel_initializer='he_uniform', input_dim=n_inputs))\n",
        "\tmodel.add(Dense(1, activation='sigmoid'))\n",
        "\t# compile model\n",
        "\tmodel.compile(loss='binary_crossentropy', optimizer='adam', metrics=['accuracy'])\n",
        "\treturn model\n",
        " \n",
        "# define the standalone generator model\n",
        "def define_generator(latent_dim, n_outputs=2):\n",
        "\tmodel = Sequential()\n",
        "\tmodel.add(Dense(15, activation='relu', kernel_initializer='he_uniform', input_dim=latent_dim))\n",
        "\tmodel.add(Dense(n_outputs, activation='linear'))\n",
        "\treturn model\n",
        " \n",
        "# define the combined generator and discriminator model, for updating the generator\n",
        "def define_gan(generator, discriminator):\n",
        "\t# make weights in the discriminator not trainable\n",
        "\tdiscriminator.trainable = False\n",
        "\t# connect them\n",
        "\tmodel = Sequential()\n",
        "\t# add generator\n",
        "\tmodel.add(generator)\n",
        "\t# add the discriminator\n",
        "\tmodel.add(discriminator)\n",
        "\t# compile model\n",
        "\tmodel.compile(loss='binary_crossentropy', optimizer='adam')\n",
        "\treturn model\n",
        " \n",
        "# size of the latent space\n",
        "latent_dim = 5\n",
        "# create the discriminator\n",
        "discriminator = define_discriminator()\n",
        "# create the generator\n",
        "generator = define_generator(latent_dim)\n",
        "# create the gan\n",
        "gan_model = define_gan(generator, discriminator)\n",
        "# summarize gan model\n",
        "gan_model.summary()\n",
        "# plot gan model\n",
        "plot_model(gan_model, to_file='gan_plot.png', show_shapes=True, show_layer_names=True)"
      ],
      "execution_count": 10,
      "outputs": [
        {
          "output_type": "stream",
          "text": [
            "Model: \"sequential_5\"\n",
            "_________________________________________________________________\n",
            "Layer (type)                 Output Shape              Param #   \n",
            "=================================================================\n",
            "sequential_4 (Sequential)    (None, 2)                 122       \n",
            "_________________________________________________________________\n",
            "sequential_3 (Sequential)    (None, 1)                 101       \n",
            "=================================================================\n",
            "Total params: 223\n",
            "Trainable params: 122\n",
            "Non-trainable params: 101\n",
            "_________________________________________________________________\n"
          ],
          "name": "stdout"
        },
        {
          "output_type": "execute_result",
          "data": {
            "image/png": "[encoded data removed]",
            "text/plain": [
              "<IPython.core.display.Image object>"
            ]
          },
          "metadata": {
            "tags": []
          },
          "execution_count": 10
        }
      ]
    },
    {
      "cell_type": "code",
      "metadata": {
        "id": "vEiYe-TfkNsl"
      },
      "source": [
        "# train the composite model\n",
        "def train_gan(gan_model, latent_dim, n_epochs=10000, n_batch=128):\n",
        "\t# manually enumerate epochs\n",
        "\tfor i in range(n_epochs):\n",
        "\t\t# prepare points in latent space as input for the generator\n",
        "\t\tx_gan = generate_latent_points(latent_dim, n_batch)\n",
        "\t\t# create inverted labels for the fake samples\n",
        "\t\ty_gan = ones((n_batch, 1))\n",
        "\t\t# update the generator via the discriminator's error\n",
        "\t\tgan_model.train_on_batch(x_gan, y_gan)"
      ],
      "execution_count": 9,
      "outputs": []
    },
    {
      "cell_type": "code",
      "metadata": {
        "id": "CIguwRpTkOe_"
      },
      "source": [
        "# train the generator and discriminator\n",
        "def train(g_model, d_model, gan_model, latent_dim, n_epochs=10000, n_batch=128):\n",
        "\t# determine half the size of one batch, for updating the discriminator\n",
        "\thalf_batch = int(n_batch / 2)\n",
        "\t# manually enumerate epochs\n",
        "\tfor i in range(n_epochs):\n",
        "\t\t# prepare real samples\n",
        "\t\tx_real, y_real = generate_real_samples(half_batch)\n",
        "\t\t# prepare fake examples\n",
        "\t\tx_fake, y_fake = generate_fake_samples(g_model, latent_dim, half_batch)\n",
        "\t\t# update discriminator\n",
        "\t\td_model.train_on_batch(x_real, y_real)\n",
        "\t\td_model.train_on_batch(x_fake, y_fake)\n",
        "\t\t# prepare points in latent space as input for the generator\n",
        "\t\tx_gan = generate_latent_points(latent_dim, n_batch)\n",
        "\t\t# create inverted labels for the fake samples\n",
        "\t\ty_gan = ones((n_batch, 1))\n",
        "\t\t# update the generator via the discriminator's error\n",
        "\t\tgan_model.train_on_batch(x_gan, y_gan)"
      ],
      "execution_count": 23,
      "outputs": []
    },
    {
      "cell_type": "markdown",
      "metadata": {
        "id": "tRdi7rOykTjb"
      },
      "source": [
        "Evaluating the Performance of the GAN"
      ]
    },
    {
      "cell_type": "code",
      "metadata": {
        "id": "BLpRfedEkXN6"
      },
      "source": [
        "# generate n real samples with class labels\n",
        "def generate_real_samples(n):\n",
        "\t# generate inputs in [-0.5, 0.5]\n",
        "\tX1 = rand(n) - 0.5\n",
        "\t# generate outputs X^2\n",
        "\tX2 = X1 * X1\n",
        "\t# stack arrays\n",
        "\tX1 = X1.reshape(n, 1)\n",
        "\tX2 = X2.reshape(n, 1)\n",
        "\tX = hstack((X1, X2))\n",
        "\t# generate class labels\n",
        "\ty = ones((n, 1))\n",
        "\treturn X, y"
      ],
      "execution_count": 1,
      "outputs": []
    },
    {
      "cell_type": "code",
      "metadata": {
        "id": "nN7PXFaPkYon"
      },
      "source": [
        "# generate points in latent space as input for the generator\n",
        "def generate_latent_points(latent_dim, n):\n",
        "\t# generate points in the latent space\n",
        "\tx_input = randn(latent_dim * n)\n",
        "\t# reshape into a batch of inputs for the network\n",
        "\tx_input = x_input.reshape(n, latent_dim)\n",
        "\treturn x_input"
      ],
      "execution_count": 2,
      "outputs": []
    },
    {
      "cell_type": "code",
      "metadata": {
        "id": "mDY0RR2qkbKC"
      },
      "source": [
        "# use the generator to generate n fake examples, with class labels\n",
        "def generate_fake_samples(generator, latent_dim, n):\n",
        "\t# generate points in latent space\n",
        "\tx_input = generate_latent_points(latent_dim, n)\n",
        "\t# predict outputs\n",
        "\tX = generator.predict(x_input)\n",
        "\t# create class labels\n",
        "\ty = zeros((n, 1))\n",
        "\treturn X, y"
      ],
      "execution_count": 3,
      "outputs": []
    },
    {
      "cell_type": "code",
      "metadata": {
        "id": "2pPXmNm1kfLF"
      },
      "source": [
        "# plot real and fake points\n",
        "def summarize_performance(generator, latent_dim, n=100):\n",
        "\t# prepare real samples\n",
        "\tx_real, y_real = generate_real_samples(n)\n",
        "\t# prepare fake examples\n",
        "\tx_fake, y_fake = generate_fake_samples(generator, latent_dim, n)\n",
        "\t# scatter plot real and fake data points\n",
        "\tpyplot.scatter(x_real[:, 0], x_real[:, 1], color='red')\n",
        "\tpyplot.scatter(x_fake[:, 0], x_fake[:, 1], color='blue')\n",
        "\tpyplot.show()"
      ],
      "execution_count": 4,
      "outputs": []
    },
    {
      "cell_type": "code",
      "metadata": {
        "id": "nLqDnXQUkia4"
      },
      "source": [
        "# evaluate the discriminator and plot real and fake points\n",
        "def summarize_performance(epoch, generator, discriminator, latent_dim, n=100):\n",
        "\t# prepare real samples\n",
        "\tx_real, y_real = generate_real_samples(n)\n",
        "\t# evaluate discriminator on real examples\n",
        "\t_, acc_real = discriminator.evaluate(x_real, y_real, verbose=0)\n",
        "\t# prepare fake examples\n",
        "\tx_fake, y_fake = generate_fake_samples(generator, latent_dim, n)\n",
        "\t# evaluate discriminator on fake examples\n",
        "\t_, acc_fake = discriminator.evaluate(x_fake, y_fake, verbose=0)\n",
        "\t# summarize discriminator performance\n",
        "\tprint(epoch, acc_real, acc_fake)\n",
        "\t# scatter plot real and fake data points\n",
        "\tpyplot.scatter(x_real[:, 0], x_real[:, 1], color='red')\n",
        "\tpyplot.scatter(x_fake[:, 0], x_fake[:, 1], color='blue')\n",
        "\tpyplot.show()"
      ],
      "execution_count": 5,
      "outputs": []
    },
    {
      "cell_type": "code",
      "metadata": {
        "id": "wFCcSjwiklLu"
      },
      "source": [
        "# train the generator and discriminator\n",
        "def train(g_model, d_model, gan_model, latent_dim, n_epochs=10000, n_batch=128, n_eval=2000):\n",
        "\t# determine half the size of one batch, for updating the discriminator\n",
        "\thalf_batch = int(n_batch / 2)\n",
        "\t# manually enumerate epochs\n",
        "\tfor i in range(n_epochs):\n",
        "\t\t# prepare real samples\n",
        "\t\tx_real, y_real = generate_real_samples(half_batch)\n",
        "\t\t# prepare fake examples\n",
        "\t\tx_fake, y_fake = generate_fake_samples(g_model, latent_dim, half_batch)\n",
        "\t\t# update discriminator\n",
        "\t\td_model.train_on_batch(x_real, y_real)\n",
        "\t\td_model.train_on_batch(x_fake, y_fake)\n",
        "\t\t# prepare points in latent space as input for the generator\n",
        "\t\tx_gan = generate_latent_points(latent_dim, n_batch)\n",
        "\t\t# create inverted labels for the fake samples\n",
        "\t\ty_gan = ones((n_batch, 1))\n",
        "\t\t# update the generator via the discriminator's error\n",
        "\t\tgan_model.train_on_batch(x_gan, y_gan)\n",
        "\t\t# evaluate the model every n_eval epochs\n",
        "\t\tif (i+1) % n_eval == 0:\n",
        "\t\t\tsummarize_performance(i, g_model, d_model, latent_dim)"
      ],
      "execution_count": 6,
      "outputs": []
    },
    {
      "cell_type": "code",
      "metadata": {
        "colab": {
          "base_uri": "https://localhost:8080/",
          "height": 1000
        },
        "id": "InD-Q3Pdkobu",
        "outputId": "5cda6c6e-f095-4405-8eeb-5588e8dd1d50"
      },
      "source": [
        "# train a generative adversarial network on a one-dimensional function\n",
        "from numpy import hstack\n",
        "from numpy import zeros\n",
        "from numpy import ones\n",
        "from numpy.random import rand\n",
        "from numpy.random import randn\n",
        "from keras.models import Sequential\n",
        "from keras.layers import Dense\n",
        "from matplotlib import pyplot\n",
        "\n",
        "# size of the latent space\n",
        "latent_dim = 5\n",
        "# create the discriminator\n",
        "discriminator = define_discriminator()\n",
        "# create the generator\n",
        "generator = define_generator(latent_dim)\n",
        "# create the gan\n",
        "gan_model = define_gan(generator, discriminator)\n",
        "# train model\n",
        "train(generator, discriminator, gan_model, latent_dim)\n"
      ],
      "execution_count": 11,
      "outputs": [
        {
          "output_type": "stream",
          "text": [
            "1999 0.47999998927116394 0.46000000834465027\n"
          ],
          "name": "stdout"
        },
        {
          "output_type": "display_data",
          "data": {
            "image/png": "[encoded data removed]",
            "text/plain": [
              "<Figure size 432x288 with 1 Axes>"
            ]
          },
          "metadata": {
            "tags": [],
            "needs_background": "light"
          }
        },
        {
          "output_type": "stream",
          "text": [
            "3999 0.46000000834465027 0.6000000238418579\n"
          ],
          "name": "stdout"
        },
        {
          "output_type": "display_data",
          "data": {
            "image/png": "[encoded data removed]",
            "text/plain": [
              "<Figure size 432x288 with 1 Axes>"
            ]
          },
          "metadata": {
            "tags": [],
            "needs_background": "light"
          }
        },
        {
          "output_type": "stream",
          "text": [
            "5999 0.7099999785423279 0.3499999940395355\n"
          ],
          "name": "stdout"
        },
        {
          "output_type": "display_data",
          "data": {
            "image/png": "[encoded data removed]",
            "text/plain": [
              "<Figure size 432x288 with 1 Axes>"
            ]
          },
          "metadata": {
            "tags": [],
            "needs_background": "light"
          }
        },
        {
          "output_type": "stream",
          "text": [
            "7999 0.5299999713897705 0.44999998807907104\n"
          ],
          "name": "stdout"
        },
        {
          "output_type": "display_data",
          "data": {
            "image/png": "[encoded data removed]",
            "text/plain": [
              "<Figure size 432x288 with 1 Axes>"
            ]
          },
          "metadata": {
            "tags": [],
            "needs_background": "light"
          }
        },
        {
          "output_type": "stream",
          "text": [
            "9999 0.36000001430511475 0.6800000071525574\n"
          ],
          "name": "stdout"
        },
        {
          "output_type": "display_data",
          "data": {
            "image/png": "[encoded data removed]",
            "text/plain": [
              "<Figure size 432x288 with 1 Axes>"
            ]
          },
          "metadata": {
            "tags": [],
            "needs_background": "light"
          }
        }
      ]
    },
    {
      "cell_type": "markdown",
      "metadata": {
        "id": "1rscCDFft0mE"
      },
      "source": [
        "# Example from Dive in Deep Learning"
      ]
    },
    {
      "cell_type": "markdown",
      "metadata": {
        "id": "1mMxOBVMuB9w"
      },
      "source": [
        "### Generate some 'Real' Data"
      ]
    },
    {
      "cell_type": "code",
      "metadata": {
        "colab": {
          "base_uri": "https://localhost:8080/"
        },
        "id": "ELD6A2HqucR3",
        "outputId": "2a64e343-c71e-4070-95ba-f5d6a7fe9bf2"
      },
      "source": [
        "!pip install mxnet"
      ],
      "execution_count": 13,
      "outputs": [
        {
          "output_type": "stream",
          "text": [
            "Collecting mxnet\n",
            "\u001b[?25l  Downloading https://files.pythonhosted.org/packages/30/07/66174e78c12a3048db9039aaa09553e35035ef3a008ba3e0ed8d2aa3c47b/mxnet-1.8.0.post0-py2.py3-none-manylinux2014_x86_64.whl (46.9MB)\n",
            "\u001b[K     |████████████████████████████████| 46.9MB 65kB/s \n",
            "\u001b[?25hRequirement already satisfied: requests<3,>=2.20.0 in /usr/local/lib/python3.7/dist-packages (from mxnet) (2.23.0)\n",
            "Collecting graphviz<0.9.0,>=0.8.1\n",
            "  Downloading https://files.pythonhosted.org/packages/53/39/4ab213673844e0c004bed8a0781a0721a3f6bb23eb8854ee75c236428892/graphviz-0.8.4-py2.py3-none-any.whl\n",
            "Requirement already satisfied: numpy<2.0.0,>1.16.0 in /usr/local/lib/python3.7/dist-packages (from mxnet) (1.19.5)\n",
            "Requirement already satisfied: urllib3!=1.25.0,!=1.25.1,<1.26,>=1.21.1 in /usr/local/lib/python3.7/dist-packages (from requests<3,>=2.20.0->mxnet) (1.24.3)\n",
            "Requirement already satisfied: chardet<4,>=3.0.2 in /usr/local/lib/python3.7/dist-packages (from requests<3,>=2.20.0->mxnet) (3.0.4)\n",
            "Requirement already satisfied: certifi>=2017.4.17 in /usr/local/lib/python3.7/dist-packages (from requests<3,>=2.20.0->mxnet) (2021.5.30)\n",
            "Requirement already satisfied: idna<3,>=2.5 in /usr/local/lib/python3.7/dist-packages (from requests<3,>=2.20.0->mxnet) (2.10)\n",
            "Installing collected packages: graphviz, mxnet\n",
            "  Found existing installation: graphviz 0.10.1\n",
            "    Uninstalling graphviz-0.10.1:\n",
            "      Successfully uninstalled graphviz-0.10.1\n",
            "Successfully installed graphviz-0.8.4 mxnet-1.8.0.post0\n"
          ],
          "name": "stdout"
        }
      ]
    },
    {
      "cell_type": "code",
      "metadata": {
        "colab": {
          "base_uri": "https://localhost:8080/"
        },
        "id": "YS-SLV1ivN7X",
        "outputId": "98226c05-5800-4042-a926-dd1c5099eef8"
      },
      "source": [
        "!pip install d2l"
      ],
      "execution_count": 15,
      "outputs": [
        {
          "output_type": "stream",
          "text": [
            "Collecting d2l\n",
            "\u001b[?25l  Downloading https://files.pythonhosted.org/packages/5a/7c/8fd06c0cb983a4d584c2b79d0d18ae13f5e02e530391dd792891d5a73c8d/d2l-0.16.6-py3-none-any.whl (82kB)\n",
            "\r\u001b[K     |████                            | 10kB 23.7MB/s eta 0:00:01\r\u001b[K     |████████                        | 20kB 25.9MB/s eta 0:00:01\r\u001b[K     |████████████                    | 30kB 19.8MB/s eta 0:00:01\r\u001b[K     |████████████████                | 40kB 16.2MB/s eta 0:00:01\r\u001b[K     |████████████████████            | 51kB 7.7MB/s eta 0:00:01\r\u001b[K     |████████████████████████        | 61kB 8.1MB/s eta 0:00:01\r\u001b[K     |████████████████████████████    | 71kB 8.7MB/s eta 0:00:01\r\u001b[K     |████████████████████████████████| 81kB 8.3MB/s eta 0:00:01\r\u001b[K     |████████████████████████████████| 92kB 5.7MB/s \n",
            "\u001b[?25hRequirement already satisfied: numpy in /usr/local/lib/python3.7/dist-packages (from d2l) (1.19.5)\n",
            "Requirement already satisfied: jupyter in /usr/local/lib/python3.7/dist-packages (from d2l) (1.0.0)\n",
            "Requirement already satisfied: matplotlib in /usr/local/lib/python3.7/dist-packages (from d2l) (3.2.2)\n",
            "Requirement already satisfied: requests in /usr/local/lib/python3.7/dist-packages (from d2l) (2.23.0)\n",
            "Requirement already satisfied: pandas in /usr/local/lib/python3.7/dist-packages (from d2l) (1.1.5)\n",
            "Requirement already satisfied: notebook in /usr/local/lib/python3.7/dist-packages (from jupyter->d2l) (5.3.1)\n",
            "Requirement already satisfied: nbconvert in /usr/local/lib/python3.7/dist-packages (from jupyter->d2l) (5.6.1)\n",
            "Requirement already satisfied: qtconsole in /usr/local/lib/python3.7/dist-packages (from jupyter->d2l) (5.1.1)\n",
            "Requirement already satisfied: jupyter-console in /usr/local/lib/python3.7/dist-packages (from jupyter->d2l) (5.2.0)\n",
            "Requirement already satisfied: ipywidgets in /usr/local/lib/python3.7/dist-packages (from jupyter->d2l) (7.6.3)\n",
            "Requirement already satisfied: ipykernel in /usr/local/lib/python3.7/dist-packages (from jupyter->d2l) (4.10.1)\n",
            "Requirement already satisfied: python-dateutil>=2.1 in /usr/local/lib/python3.7/dist-packages (from matplotlib->d2l) (2.8.1)\n",
            "Requirement already satisfied: kiwisolver>=1.0.1 in /usr/local/lib/python3.7/dist-packages (from matplotlib->d2l) (1.3.1)\n",
            "Requirement already satisfied: pyparsing!=2.0.4,!=2.1.2,!=2.1.6,>=2.0.1 in /usr/local/lib/python3.7/dist-packages (from matplotlib->d2l) (2.4.7)\n",
            "Requirement already satisfied: cycler>=0.10 in /usr/local/lib/python3.7/dist-packages (from matplotlib->d2l) (0.10.0)\n",
            "Requirement already satisfied: urllib3!=1.25.0,!=1.25.1,<1.26,>=1.21.1 in /usr/local/lib/python3.7/dist-packages (from requests->d2l) (1.24.3)\n",
            "Requirement already satisfied: idna<3,>=2.5 in /usr/local/lib/python3.7/dist-packages (from requests->d2l) (2.10)\n",
            "Requirement already satisfied: certifi>=2017.4.17 in /usr/local/lib/python3.7/dist-packages (from requests->d2l) (2021.5.30)\n",
            "Requirement already satisfied: chardet<4,>=3.0.2 in /usr/local/lib/python3.7/dist-packages (from requests->d2l) (3.0.4)\n",
            "Requirement already satisfied: pytz>=2017.2 in /usr/local/lib/python3.7/dist-packages (from pandas->d2l) (2018.9)\n",
            "Requirement already satisfied: jupyter-core>=4.4.0 in /usr/local/lib/python3.7/dist-packages (from notebook->jupyter->d2l) (4.7.1)\n",
            "Requirement already satisfied: jinja2 in /usr/local/lib/python3.7/dist-packages (from notebook->jupyter->d2l) (2.11.3)\n",
            "Requirement already satisfied: tornado>=4 in /usr/local/lib/python3.7/dist-packages (from notebook->jupyter->d2l) (5.1.1)\n",
            "Requirement already satisfied: jupyter-client>=5.2.0 in /usr/local/lib/python3.7/dist-packages (from notebook->jupyter->d2l) (5.3.5)\n",
            "Requirement already satisfied: traitlets>=4.2.1 in /usr/local/lib/python3.7/dist-packages (from notebook->jupyter->d2l) (5.0.5)\n",
            "Requirement already satisfied: Send2Trash in /usr/local/lib/python3.7/dist-packages (from notebook->jupyter->d2l) (1.7.1)\n",
            "Requirement already satisfied: ipython-genutils in /usr/local/lib/python3.7/dist-packages (from notebook->jupyter->d2l) (0.2.0)\n",
            "Requirement already satisfied: terminado>=0.8.1 in /usr/local/lib/python3.7/dist-packages (from notebook->jupyter->d2l) (0.10.1)\n",
            "Requirement already satisfied: nbformat in /usr/local/lib/python3.7/dist-packages (from notebook->jupyter->d2l) (5.1.3)\n",
            "Requirement already satisfied: pygments in /usr/local/lib/python3.7/dist-packages (from nbconvert->jupyter->d2l) (2.6.1)\n",
            "Requirement already satisfied: mistune<2,>=0.8.1 in /usr/local/lib/python3.7/dist-packages (from nbconvert->jupyter->d2l) (0.8.4)\n",
            "Requirement already satisfied: testpath in /usr/local/lib/python3.7/dist-packages (from nbconvert->jupyter->d2l) (0.5.0)\n",
            "Requirement already satisfied: entrypoints>=0.2.2 in /usr/local/lib/python3.7/dist-packages (from nbconvert->jupyter->d2l) (0.3)\n",
            "Requirement already satisfied: pandocfilters>=1.4.1 in /usr/local/lib/python3.7/dist-packages (from nbconvert->jupyter->d2l) (1.4.3)\n",
            "Requirement already satisfied: bleach in /usr/local/lib/python3.7/dist-packages (from nbconvert->jupyter->d2l) (3.3.0)\n",
            "Requirement already satisfied: defusedxml in /usr/local/lib/python3.7/dist-packages (from nbconvert->jupyter->d2l) (0.7.1)\n",
            "Requirement already satisfied: qtpy in /usr/local/lib/python3.7/dist-packages (from qtconsole->jupyter->d2l) (1.9.0)\n",
            "Requirement already satisfied: pyzmq>=17.1 in /usr/local/lib/python3.7/dist-packages (from qtconsole->jupyter->d2l) (22.1.0)\n",
            "Requirement already satisfied: ipython in /usr/local/lib/python3.7/dist-packages (from jupyter-console->jupyter->d2l) (5.5.0)\n",
            "Requirement already satisfied: prompt-toolkit<2.0.0,>=1.0.0 in /usr/local/lib/python3.7/dist-packages (from jupyter-console->jupyter->d2l) (1.0.18)\n",
            "Requirement already satisfied: widgetsnbextension~=3.5.0 in /usr/local/lib/python3.7/dist-packages (from ipywidgets->jupyter->d2l) (3.5.1)\n",
            "Requirement already satisfied: jupyterlab-widgets>=1.0.0; python_version >= \"3.6\" in /usr/local/lib/python3.7/dist-packages (from ipywidgets->jupyter->d2l) (1.0.0)\n",
            "Requirement already satisfied: six>=1.5 in /usr/local/lib/python3.7/dist-packages (from python-dateutil>=2.1->matplotlib->d2l) (1.15.0)\n",
            "Requirement already satisfied: MarkupSafe>=0.23 in /usr/local/lib/python3.7/dist-packages (from jinja2->notebook->jupyter->d2l) (2.0.1)\n",
            "Requirement already satisfied: ptyprocess; os_name != \"nt\" in /usr/local/lib/python3.7/dist-packages (from terminado>=0.8.1->notebook->jupyter->d2l) (0.7.0)\n",
            "Requirement already satisfied: jsonschema!=2.5.0,>=2.4 in /usr/local/lib/python3.7/dist-packages (from nbformat->notebook->jupyter->d2l) (2.6.0)\n",
            "Requirement already satisfied: webencodings in /usr/local/lib/python3.7/dist-packages (from bleach->nbconvert->jupyter->d2l) (0.5.1)\n",
            "Requirement already satisfied: packaging in /usr/local/lib/python3.7/dist-packages (from bleach->nbconvert->jupyter->d2l) (20.9)\n",
            "Requirement already satisfied: simplegeneric>0.8 in /usr/local/lib/python3.7/dist-packages (from ipython->jupyter-console->jupyter->d2l) (0.8.1)\n",
            "Requirement already satisfied: pexpect; sys_platform != \"win32\" in /usr/local/lib/python3.7/dist-packages (from ipython->jupyter-console->jupyter->d2l) (4.8.0)\n",
            "Requirement already satisfied: decorator in /usr/local/lib/python3.7/dist-packages (from ipython->jupyter-console->jupyter->d2l) (4.4.2)\n",
            "Requirement already satisfied: pickleshare in /usr/local/lib/python3.7/dist-packages (from ipython->jupyter-console->jupyter->d2l) (0.7.5)\n",
            "Requirement already satisfied: setuptools>=18.5 in /usr/local/lib/python3.7/dist-packages (from ipython->jupyter-console->jupyter->d2l) (57.0.0)\n",
            "Requirement already satisfied: wcwidth in /usr/local/lib/python3.7/dist-packages (from prompt-toolkit<2.0.0,>=1.0.0->jupyter-console->jupyter->d2l) (0.2.5)\n",
            "Installing collected packages: d2l\n",
            "Successfully installed d2l-0.16.6\n"
          ],
          "name": "stdout"
        }
      ]
    },
    {
      "cell_type": "code",
      "metadata": {
        "id": "_kXjWtlhuJr6"
      },
      "source": [
        "%matplotlib inline\n",
        "from mxnet import autograd, gluon, init, np, npx\n",
        "from mxnet.gluon import nn\n",
        "from d2l import mxnet as d2l\n",
        "\n",
        "npx.set_np()"
      ],
      "execution_count": 16,
      "outputs": []
    },
    {
      "cell_type": "code",
      "metadata": {
        "id": "2HAWPaGzvM46"
      },
      "source": [
        "X = np.random.normal(0.0, 1, (1000,2))\n",
        "A = np.array([[1,2], [-0.1, 0.5]])\n",
        "b = np.array([1,2])\n",
        "data= np.dot(X,A) + b"
      ],
      "execution_count": 17,
      "outputs": []
    },
    {
      "cell_type": "code",
      "metadata": {
        "colab": {
          "base_uri": "https://localhost:8080/",
          "height": 551
        },
        "id": "WbFfJurRt5OL",
        "outputId": "5f80a4a6-1a49-4fb3-c5e4-d637cdef9b0b"
      },
      "source": [
        "d2l.set_figsize((10, 6))\n",
        "d2l.plt.scatter(data[:100,(0)].asnumpy(), data[:100, (1)].asnumpy())\n",
        "print(f'The covariance matrix is\\n{np.dot(A.T, A)}')"
      ],
      "execution_count": 19,
      "outputs": [
        {
          "output_type": "stream",
          "text": [
            "The covariance matrix is\n",
            "[[1.01 1.95]\n",
            " [1.95 4.25]]\n"
          ],
          "name": "stdout"
        },
        {
          "output_type": "display_data",
          "data": {
            "text/plain": [
              "<Figure size 720x432 with 1 Axes>"
            ],
            "image/svg+xml": "<?xml version=\"1.0\" encoding=\"utf-8\" standalone=\"no\"?>\n<!DOCTYPE svg PUBLIC \"-//W3C//DTD SVG 1.1//EN\"\n  \"http://www.w3.org/Graphics/SVG/1.1/DTD/svg11.dtd\">\n<!-- Created with matplotlib (https://matplotlib.org/) -->\n<svg height=\"357.238125pt\" version=\"1.1\" viewBox=\"0 0 594.142187 357.238125\" width=\"594.142187pt\" xmlns=\"http://www.w3.org/2000/svg\" xmlns:xlink=\"http://www.w3.org/1999/xlink\">\n <defs>\n  <style type=\"text/css\">\n*{stroke-linecap:butt;stroke-linejoin:round;}\n  </style>\n </defs>\n <g id=\"figure_1\">\n  <g id=\"patch_1\">\n   <path d=\"M 0 357.238125 \nL 594.142187 357.238125 \nL 594.142187 0 \nL 0 0 \nz\n\" style=\"fill:none;\"/>\n  </g>\n  <g id=\"axes_1\">\n   <g id=\"patch_2\">\n    <path d=\"M 28.942188 333.36 \nL 586.942188 333.36 \nL 586.942188 7.2 \nL 28.942188 7.2 \nz\n\" style=\"fill:#ffffff;\"/>\n   </g>\n   <g id=\"PathCollection_1\">\n    <defs>\n     <path d=\"M 0 3 \nC 0.795609 3 1.55874 2.683901 2.12132 2.12132 \nC 2.683901 1.55874 3 0.795609 3 0 \nC 3 -0.795609 2.683901 -1.55874 2.12132 -2.12132 \nC 1.55874 -2.683901 0.795609 -3 0 -3 \nC -0.795609 -3 -1.55874 -2.683901 -2.12132 -2.12132 \nC -2.683901 -1.55874 -3 -0.795609 -3 0 \nC -3 0.795609 -2.683901 1.55874 -2.12132 2.12132 \nC -1.55874 2.683901 -0.795609 3 0 3 \nz\n\" id=\"m3ee4834e08\" style=\"stroke:#1f77b4;\"/>\n    </defs>\n    <g clip-path=\"url(#p244b8c677a)\">\n     <use style=\"fill:#1f77b4;stroke:#1f77b4;\" x=\"450.621531\" xlink:href=\"#m3ee4834e08\" y=\"63.664778\"/>\n     <use style=\"fill:#1f77b4;stroke:#1f77b4;\" x=\"321.928814\" xlink:href=\"#m3ee4834e08\" y=\"145.291142\"/>\n     <use style=\"fill:#1f77b4;stroke:#1f77b4;\" x=\"348.963947\" xlink:href=\"#m3ee4834e08\" y=\"133.952116\"/>\n     <use style=\"fill:#1f77b4;stroke:#1f77b4;\" x=\"363.534201\" xlink:href=\"#m3ee4834e08\" y=\"128.680451\"/>\n     <use style=\"fill:#1f77b4;stroke:#1f77b4;\" x=\"442.422018\" xlink:href=\"#m3ee4834e08\" y=\"109.526628\"/>\n     <use style=\"fill:#1f77b4;stroke:#1f77b4;\" x=\"123.18337\" xlink:href=\"#m3ee4834e08\" y=\"233.626088\"/>\n     <use style=\"fill:#1f77b4;stroke:#1f77b4;\" x=\"92.577003\" xlink:href=\"#m3ee4834e08\" y=\"287.55013\"/>\n     <use style=\"fill:#1f77b4;stroke:#1f77b4;\" x=\"233.510726\" xlink:href=\"#m3ee4834e08\" y=\"243.528143\"/>\n     <use style=\"fill:#1f77b4;stroke:#1f77b4;\" x=\"303.109272\" xlink:href=\"#m3ee4834e08\" y=\"154.439029\"/>\n     <use style=\"fill:#1f77b4;stroke:#1f77b4;\" x=\"54.305824\" xlink:href=\"#m3ee4834e08\" y=\"250.947686\"/>\n     <use style=\"fill:#1f77b4;stroke:#1f77b4;\" x=\"56.333456\" xlink:href=\"#m3ee4834e08\" y=\"275.14927\"/>\n     <use style=\"fill:#1f77b4;stroke:#1f77b4;\" x=\"239.397443\" xlink:href=\"#m3ee4834e08\" y=\"208.244532\"/>\n     <use style=\"fill:#1f77b4;stroke:#1f77b4;\" x=\"283.13198\" xlink:href=\"#m3ee4834e08\" y=\"186.956553\"/>\n     <use style=\"fill:#1f77b4;stroke:#1f77b4;\" x=\"251.560946\" xlink:href=\"#m3ee4834e08\" y=\"194.324419\"/>\n     <use style=\"fill:#1f77b4;stroke:#1f77b4;\" x=\"204.429046\" xlink:href=\"#m3ee4834e08\" y=\"210.692755\"/>\n     <use style=\"fill:#1f77b4;stroke:#1f77b4;\" x=\"247.80381\" xlink:href=\"#m3ee4834e08\" y=\"186.663749\"/>\n     <use style=\"fill:#1f77b4;stroke:#1f77b4;\" x=\"302.381207\" xlink:href=\"#m3ee4834e08\" y=\"154.302602\"/>\n     <use style=\"fill:#1f77b4;stroke:#1f77b4;\" x=\"417.377011\" xlink:href=\"#m3ee4834e08\" y=\"151.297271\"/>\n     <use style=\"fill:#1f77b4;stroke:#1f77b4;\" x=\"308.126616\" xlink:href=\"#m3ee4834e08\" y=\"142.224839\"/>\n     <use style=\"fill:#1f77b4;stroke:#1f77b4;\" x=\"292.884937\" xlink:href=\"#m3ee4834e08\" y=\"180.495959\"/>\n     <use style=\"fill:#1f77b4;stroke:#1f77b4;\" x=\"337.375389\" xlink:href=\"#m3ee4834e08\" y=\"113.011283\"/>\n     <use style=\"fill:#1f77b4;stroke:#1f77b4;\" x=\"275.837135\" xlink:href=\"#m3ee4834e08\" y=\"199.17409\"/>\n     <use style=\"fill:#1f77b4;stroke:#1f77b4;\" x=\"162.070314\" xlink:href=\"#m3ee4834e08\" y=\"239.333111\"/>\n     <use style=\"fill:#1f77b4;stroke:#1f77b4;\" x=\"204.478302\" xlink:href=\"#m3ee4834e08\" y=\"261.917941\"/>\n     <use style=\"fill:#1f77b4;stroke:#1f77b4;\" x=\"185.309377\" xlink:href=\"#m3ee4834e08\" y=\"238.240678\"/>\n     <use style=\"fill:#1f77b4;stroke:#1f77b4;\" x=\"315.381728\" xlink:href=\"#m3ee4834e08\" y=\"142.170849\"/>\n     <use style=\"fill:#1f77b4;stroke:#1f77b4;\" x=\"117.538824\" xlink:href=\"#m3ee4834e08\" y=\"268.4085\"/>\n     <use style=\"fill:#1f77b4;stroke:#1f77b4;\" x=\"151.107306\" xlink:href=\"#m3ee4834e08\" y=\"242.638395\"/>\n     <use style=\"fill:#1f77b4;stroke:#1f77b4;\" x=\"152.5852\" xlink:href=\"#m3ee4834e08\" y=\"239.196984\"/>\n     <use style=\"fill:#1f77b4;stroke:#1f77b4;\" x=\"124.034119\" xlink:href=\"#m3ee4834e08\" y=\"251.324168\"/>\n     <use style=\"fill:#1f77b4;stroke:#1f77b4;\" x=\"100.984859\" xlink:href=\"#m3ee4834e08\" y=\"246.310568\"/>\n     <use style=\"fill:#1f77b4;stroke:#1f77b4;\" x=\"186.671355\" xlink:href=\"#m3ee4834e08\" y=\"193.163513\"/>\n     <use style=\"fill:#1f77b4;stroke:#1f77b4;\" x=\"387.480986\" xlink:href=\"#m3ee4834e08\" y=\"146.41096\"/>\n     <use style=\"fill:#1f77b4;stroke:#1f77b4;\" x=\"339.157843\" xlink:href=\"#m3ee4834e08\" y=\"147.063266\"/>\n     <use style=\"fill:#1f77b4;stroke:#1f77b4;\" x=\"194.493378\" xlink:href=\"#m3ee4834e08\" y=\"217.493705\"/>\n     <use style=\"fill:#1f77b4;stroke:#1f77b4;\" x=\"354.547576\" xlink:href=\"#m3ee4834e08\" y=\"112.960839\"/>\n     <use style=\"fill:#1f77b4;stroke:#1f77b4;\" x=\"157.836112\" xlink:href=\"#m3ee4834e08\" y=\"233.631066\"/>\n     <use style=\"fill:#1f77b4;stroke:#1f77b4;\" x=\"210.238333\" xlink:href=\"#m3ee4834e08\" y=\"235.387523\"/>\n     <use style=\"fill:#1f77b4;stroke:#1f77b4;\" x=\"293.857429\" xlink:href=\"#m3ee4834e08\" y=\"178.834708\"/>\n     <use style=\"fill:#1f77b4;stroke:#1f77b4;\" x=\"356.074508\" xlink:href=\"#m3ee4834e08\" y=\"163.713514\"/>\n     <use style=\"fill:#1f77b4;stroke:#1f77b4;\" x=\"130.583366\" xlink:href=\"#m3ee4834e08\" y=\"276.997162\"/>\n     <use style=\"fill:#1f77b4;stroke:#1f77b4;\" x=\"204.427271\" xlink:href=\"#m3ee4834e08\" y=\"215.997266\"/>\n     <use style=\"fill:#1f77b4;stroke:#1f77b4;\" x=\"451.071424\" xlink:href=\"#m3ee4834e08\" y=\"100.405525\"/>\n     <use style=\"fill:#1f77b4;stroke:#1f77b4;\" x=\"287.673043\" xlink:href=\"#m3ee4834e08\" y=\"185.650743\"/>\n     <use style=\"fill:#1f77b4;stroke:#1f77b4;\" x=\"317.763092\" xlink:href=\"#m3ee4834e08\" y=\"177.602021\"/>\n     <use style=\"fill:#1f77b4;stroke:#1f77b4;\" x=\"327.820654\" xlink:href=\"#m3ee4834e08\" y=\"118.473067\"/>\n     <use style=\"fill:#1f77b4;stroke:#1f77b4;\" x=\"218.442458\" xlink:href=\"#m3ee4834e08\" y=\"236.874833\"/>\n     <use style=\"fill:#1f77b4;stroke:#1f77b4;\" x=\"99.984175\" xlink:href=\"#m3ee4834e08\" y=\"318.534545\"/>\n     <use style=\"fill:#1f77b4;stroke:#1f77b4;\" x=\"328.001623\" xlink:href=\"#m3ee4834e08\" y=\"174.6771\"/>\n     <use style=\"fill:#1f77b4;stroke:#1f77b4;\" x=\"220.057687\" xlink:href=\"#m3ee4834e08\" y=\"225.959022\"/>\n     <use style=\"fill:#1f77b4;stroke:#1f77b4;\" x=\"291.121101\" xlink:href=\"#m3ee4834e08\" y=\"183.416487\"/>\n     <use style=\"fill:#1f77b4;stroke:#1f77b4;\" x=\"121.222196\" xlink:href=\"#m3ee4834e08\" y=\"242.611951\"/>\n     <use style=\"fill:#1f77b4;stroke:#1f77b4;\" x=\"292.827402\" xlink:href=\"#m3ee4834e08\" y=\"178.113271\"/>\n     <use style=\"fill:#1f77b4;stroke:#1f77b4;\" x=\"401.307635\" xlink:href=\"#m3ee4834e08\" y=\"131.84003\"/>\n     <use style=\"fill:#1f77b4;stroke:#1f77b4;\" x=\"283.905086\" xlink:href=\"#m3ee4834e08\" y=\"188.51293\"/>\n     <use style=\"fill:#1f77b4;stroke:#1f77b4;\" x=\"290.01062\" xlink:href=\"#m3ee4834e08\" y=\"154.577991\"/>\n     <use style=\"fill:#1f77b4;stroke:#1f77b4;\" x=\"374.410368\" xlink:href=\"#m3ee4834e08\" y=\"181.588377\"/>\n     <use style=\"fill:#1f77b4;stroke:#1f77b4;\" x=\"137.211925\" xlink:href=\"#m3ee4834e08\" y=\"214.753708\"/>\n     <use style=\"fill:#1f77b4;stroke:#1f77b4;\" x=\"252.440077\" xlink:href=\"#m3ee4834e08\" y=\"201.014142\"/>\n     <use style=\"fill:#1f77b4;stroke:#1f77b4;\" x=\"231.937739\" xlink:href=\"#m3ee4834e08\" y=\"217.826066\"/>\n     <use style=\"fill:#1f77b4;stroke:#1f77b4;\" x=\"254.889209\" xlink:href=\"#m3ee4834e08\" y=\"223.549775\"/>\n     <use style=\"fill:#1f77b4;stroke:#1f77b4;\" x=\"294.034066\" xlink:href=\"#m3ee4834e08\" y=\"181.76591\"/>\n     <use style=\"fill:#1f77b4;stroke:#1f77b4;\" x=\"327.016312\" xlink:href=\"#m3ee4834e08\" y=\"157.462205\"/>\n     <use style=\"fill:#1f77b4;stroke:#1f77b4;\" x=\"328.41691\" xlink:href=\"#m3ee4834e08\" y=\"153.21623\"/>\n     <use style=\"fill:#1f77b4;stroke:#1f77b4;\" x=\"294.074237\" xlink:href=\"#m3ee4834e08\" y=\"137.007333\"/>\n     <use style=\"fill:#1f77b4;stroke:#1f77b4;\" x=\"352.823642\" xlink:href=\"#m3ee4834e08\" y=\"133.706844\"/>\n     <use style=\"fill:#1f77b4;stroke:#1f77b4;\" x=\"276.338384\" xlink:href=\"#m3ee4834e08\" y=\"209.400324\"/>\n     <use style=\"fill:#1f77b4;stroke:#1f77b4;\" x=\"333.04305\" xlink:href=\"#m3ee4834e08\" y=\"147.038347\"/>\n     <use style=\"fill:#1f77b4;stroke:#1f77b4;\" x=\"177.241073\" xlink:href=\"#m3ee4834e08\" y=\"229.499349\"/>\n     <use style=\"fill:#1f77b4;stroke:#1f77b4;\" x=\"234.862622\" xlink:href=\"#m3ee4834e08\" y=\"195.152863\"/>\n     <use style=\"fill:#1f77b4;stroke:#1f77b4;\" x=\"337.417373\" xlink:href=\"#m3ee4834e08\" y=\"137.380263\"/>\n     <use style=\"fill:#1f77b4;stroke:#1f77b4;\" x=\"295.748998\" xlink:href=\"#m3ee4834e08\" y=\"183.924857\"/>\n     <use style=\"fill:#1f77b4;stroke:#1f77b4;\" x=\"322.334641\" xlink:href=\"#m3ee4834e08\" y=\"144.893499\"/>\n     <use style=\"fill:#1f77b4;stroke:#1f77b4;\" x=\"167.388009\" xlink:href=\"#m3ee4834e08\" y=\"253.482625\"/>\n     <use style=\"fill:#1f77b4;stroke:#1f77b4;\" x=\"228.40691\" xlink:href=\"#m3ee4834e08\" y=\"226.005151\"/>\n     <use style=\"fill:#1f77b4;stroke:#1f77b4;\" x=\"357.181149\" xlink:href=\"#m3ee4834e08\" y=\"96.52077\"/>\n     <use style=\"fill:#1f77b4;stroke:#1f77b4;\" x=\"202.847909\" xlink:href=\"#m3ee4834e08\" y=\"198.815895\"/>\n     <use style=\"fill:#1f77b4;stroke:#1f77b4;\" x=\"303.804824\" xlink:href=\"#m3ee4834e08\" y=\"131.220376\"/>\n     <use style=\"fill:#1f77b4;stroke:#1f77b4;\" x=\"350.504045\" xlink:href=\"#m3ee4834e08\" y=\"157.002288\"/>\n     <use style=\"fill:#1f77b4;stroke:#1f77b4;\" x=\"159.339309\" xlink:href=\"#m3ee4834e08\" y=\"223.888539\"/>\n     <use style=\"fill:#1f77b4;stroke:#1f77b4;\" x=\"241.906524\" xlink:href=\"#m3ee4834e08\" y=\"187.945633\"/>\n     <use style=\"fill:#1f77b4;stroke:#1f77b4;\" x=\"338.609471\" xlink:href=\"#m3ee4834e08\" y=\"159.207436\"/>\n     <use style=\"fill:#1f77b4;stroke:#1f77b4;\" x=\"64.42372\" xlink:href=\"#m3ee4834e08\" y=\"268.604248\"/>\n     <use style=\"fill:#1f77b4;stroke:#1f77b4;\" x=\"335.046432\" xlink:href=\"#m3ee4834e08\" y=\"143.138833\"/>\n     <use style=\"fill:#1f77b4;stroke:#1f77b4;\" x=\"423.999569\" xlink:href=\"#m3ee4834e08\" y=\"81.051549\"/>\n     <use style=\"fill:#1f77b4;stroke:#1f77b4;\" x=\"287.308954\" xlink:href=\"#m3ee4834e08\" y=\"176.788139\"/>\n     <use style=\"fill:#1f77b4;stroke:#1f77b4;\" x=\"262.134681\" xlink:href=\"#m3ee4834e08\" y=\"180.896235\"/>\n     <use style=\"fill:#1f77b4;stroke:#1f77b4;\" x=\"92.235642\" xlink:href=\"#m3ee4834e08\" y=\"313.536545\"/>\n     <use style=\"fill:#1f77b4;stroke:#1f77b4;\" x=\"187.033182\" xlink:href=\"#m3ee4834e08\" y=\"220.558783\"/>\n     <use style=\"fill:#1f77b4;stroke:#1f77b4;\" x=\"355.605067\" xlink:href=\"#m3ee4834e08\" y=\"149.267053\"/>\n     <use style=\"fill:#1f77b4;stroke:#1f77b4;\" x=\"208.713326\" xlink:href=\"#m3ee4834e08\" y=\"192.703263\"/>\n     <use style=\"fill:#1f77b4;stroke:#1f77b4;\" x=\"416.134185\" xlink:href=\"#m3ee4834e08\" y=\"120.077993\"/>\n     <use style=\"fill:#1f77b4;stroke:#1f77b4;\" x=\"217.682687\" xlink:href=\"#m3ee4834e08\" y=\"201.204982\"/>\n     <use style=\"fill:#1f77b4;stroke:#1f77b4;\" x=\"83.464817\" xlink:href=\"#m3ee4834e08\" y=\"269.340885\"/>\n     <use style=\"fill:#1f77b4;stroke:#1f77b4;\" x=\"310.632602\" xlink:href=\"#m3ee4834e08\" y=\"130.074429\"/>\n     <use style=\"fill:#1f77b4;stroke:#1f77b4;\" x=\"325.676641\" xlink:href=\"#m3ee4834e08\" y=\"129.521849\"/>\n     <use style=\"fill:#1f77b4;stroke:#1f77b4;\" x=\"561.578551\" xlink:href=\"#m3ee4834e08\" y=\"22.025455\"/>\n     <use style=\"fill:#1f77b4;stroke:#1f77b4;\" x=\"125.897105\" xlink:href=\"#m3ee4834e08\" y=\"230.69836\"/>\n     <use style=\"fill:#1f77b4;stroke:#1f77b4;\" x=\"443.048895\" xlink:href=\"#m3ee4834e08\" y=\"109.987084\"/>\n     <use style=\"fill:#1f77b4;stroke:#1f77b4;\" x=\"177.995874\" xlink:href=\"#m3ee4834e08\" y=\"189.042377\"/>\n    </g>\n   </g>\n   <g id=\"matplotlib.axis_1\">\n    <g id=\"xtick_1\">\n     <g id=\"line2d_1\">\n      <defs>\n       <path d=\"M 0 0 \nL 0 3.5 \n\" id=\"m4c5bf768c9\" style=\"stroke:#000000;stroke-width:0.8;\"/>\n      </defs>\n      <g>\n       <use style=\"stroke:#000000;stroke-width:0.8;\" x=\"65.945256\" xlink:href=\"#m4c5bf768c9\" y=\"333.36\"/>\n      </g>\n     </g>\n     <g id=\"text_1\">\n      <!-- −1 -->\n      <defs>\n       <path d=\"M 10.59375 35.5 \nL 73.1875 35.5 \nL 73.1875 27.203125 \nL 10.59375 27.203125 \nz\n\" id=\"DejaVuSans-8722\"/>\n       <path d=\"M 12.40625 8.296875 \nL 28.515625 8.296875 \nL 28.515625 63.921875 \nL 10.984375 60.40625 \nL 10.984375 69.390625 \nL 28.421875 72.90625 \nL 38.28125 72.90625 \nL 38.28125 8.296875 \nL 54.390625 8.296875 \nL 54.390625 0 \nL 12.40625 0 \nz\n\" id=\"DejaVuSans-49\"/>\n      </defs>\n      <g transform=\"translate(58.574162 347.958438)scale(0.1 -0.1)\">\n       <use xlink:href=\"#DejaVuSans-8722\"/>\n       <use x=\"83.789062\" xlink:href=\"#DejaVuSans-49\"/>\n      </g>\n     </g>\n    </g>\n    <g id=\"xtick_2\">\n     <g id=\"line2d_2\">\n      <g>\n       <use style=\"stroke:#000000;stroke-width:0.8;\" x=\"159.862692\" xlink:href=\"#m4c5bf768c9\" y=\"333.36\"/>\n      </g>\n     </g>\n     <g id=\"text_2\">\n      <!-- 0 -->\n      <defs>\n       <path d=\"M 31.78125 66.40625 \nQ 24.171875 66.40625 20.328125 58.90625 \nQ 16.5 51.421875 16.5 36.375 \nQ 16.5 21.390625 20.328125 13.890625 \nQ 24.171875 6.390625 31.78125 6.390625 \nQ 39.453125 6.390625 43.28125 13.890625 \nQ 47.125 21.390625 47.125 36.375 \nQ 47.125 51.421875 43.28125 58.90625 \nQ 39.453125 66.40625 31.78125 66.40625 \nz\nM 31.78125 74.21875 \nQ 44.046875 74.21875 50.515625 64.515625 \nQ 56.984375 54.828125 56.984375 36.375 \nQ 56.984375 17.96875 50.515625 8.265625 \nQ 44.046875 -1.421875 31.78125 -1.421875 \nQ 19.53125 -1.421875 13.0625 8.265625 \nQ 6.59375 17.96875 6.59375 36.375 \nQ 6.59375 54.828125 13.0625 64.515625 \nQ 19.53125 74.21875 31.78125 74.21875 \nz\n\" id=\"DejaVuSans-48\"/>\n      </defs>\n      <g transform=\"translate(156.681442 347.958438)scale(0.1 -0.1)\">\n       <use xlink:href=\"#DejaVuSans-48\"/>\n      </g>\n     </g>\n    </g>\n    <g id=\"xtick_3\">\n     <g id=\"line2d_3\">\n      <g>\n       <use style=\"stroke:#000000;stroke-width:0.8;\" x=\"253.780128\" xlink:href=\"#m4c5bf768c9\" y=\"333.36\"/>\n      </g>\n     </g>\n     <g id=\"text_3\">\n      <!-- 1 -->\n      <g transform=\"translate(250.598878 347.958438)scale(0.1 -0.1)\">\n       <use xlink:href=\"#DejaVuSans-49\"/>\n      </g>\n     </g>\n    </g>\n    <g id=\"xtick_4\">\n     <g id=\"line2d_4\">\n      <g>\n       <use style=\"stroke:#000000;stroke-width:0.8;\" x=\"347.697564\" xlink:href=\"#m4c5bf768c9\" y=\"333.36\"/>\n      </g>\n     </g>\n     <g id=\"text_4\">\n      <!-- 2 -->\n      <defs>\n       <path d=\"M 19.1875 8.296875 \nL 53.609375 8.296875 \nL 53.609375 0 \nL 7.328125 0 \nL 7.328125 8.296875 \nQ 12.9375 14.109375 22.625 23.890625 \nQ 32.328125 33.6875 34.8125 36.53125 \nQ 39.546875 41.84375 41.421875 45.53125 \nQ 43.3125 49.21875 43.3125 52.78125 \nQ 43.3125 58.59375 39.234375 62.25 \nQ 35.15625 65.921875 28.609375 65.921875 \nQ 23.96875 65.921875 18.8125 64.3125 \nQ 13.671875 62.703125 7.8125 59.421875 \nL 7.8125 69.390625 \nQ 13.765625 71.78125 18.9375 73 \nQ 24.125 74.21875 28.421875 74.21875 \nQ 39.75 74.21875 46.484375 68.546875 \nQ 53.21875 62.890625 53.21875 53.421875 \nQ 53.21875 48.921875 51.53125 44.890625 \nQ 49.859375 40.875 45.40625 35.40625 \nQ 44.1875 33.984375 37.640625 27.21875 \nQ 31.109375 20.453125 19.1875 8.296875 \nz\n\" id=\"DejaVuSans-50\"/>\n      </defs>\n      <g transform=\"translate(344.516314 347.958438)scale(0.1 -0.1)\">\n       <use xlink:href=\"#DejaVuSans-50\"/>\n      </g>\n     </g>\n    </g>\n    <g id=\"xtick_5\">\n     <g id=\"line2d_5\">\n      <g>\n       <use style=\"stroke:#000000;stroke-width:0.8;\" x=\"441.615\" xlink:href=\"#m4c5bf768c9\" y=\"333.36\"/>\n      </g>\n     </g>\n     <g id=\"text_5\">\n      <!-- 3 -->\n      <defs>\n       <path d=\"M 40.578125 39.3125 \nQ 47.65625 37.796875 51.625 33 \nQ 55.609375 28.21875 55.609375 21.1875 \nQ 55.609375 10.40625 48.1875 4.484375 \nQ 40.765625 -1.421875 27.09375 -1.421875 \nQ 22.515625 -1.421875 17.65625 -0.515625 \nQ 12.796875 0.390625 7.625 2.203125 \nL 7.625 11.71875 \nQ 11.71875 9.328125 16.59375 8.109375 \nQ 21.484375 6.890625 26.8125 6.890625 \nQ 36.078125 6.890625 40.9375 10.546875 \nQ 45.796875 14.203125 45.796875 21.1875 \nQ 45.796875 27.640625 41.28125 31.265625 \nQ 36.765625 34.90625 28.71875 34.90625 \nL 20.21875 34.90625 \nL 20.21875 43.015625 \nL 29.109375 43.015625 \nQ 36.375 43.015625 40.234375 45.921875 \nQ 44.09375 48.828125 44.09375 54.296875 \nQ 44.09375 59.90625 40.109375 62.90625 \nQ 36.140625 65.921875 28.71875 65.921875 \nQ 24.65625 65.921875 20.015625 65.03125 \nQ 15.375 64.15625 9.8125 62.3125 \nL 9.8125 71.09375 \nQ 15.4375 72.65625 20.34375 73.4375 \nQ 25.25 74.21875 29.59375 74.21875 \nQ 40.828125 74.21875 47.359375 69.109375 \nQ 53.90625 64.015625 53.90625 55.328125 \nQ 53.90625 49.265625 50.4375 45.09375 \nQ 46.96875 40.921875 40.578125 39.3125 \nz\n\" id=\"DejaVuSans-51\"/>\n      </defs>\n      <g transform=\"translate(438.43375 347.958438)scale(0.1 -0.1)\">\n       <use xlink:href=\"#DejaVuSans-51\"/>\n      </g>\n     </g>\n    </g>\n    <g id=\"xtick_6\">\n     <g id=\"line2d_6\">\n      <g>\n       <use style=\"stroke:#000000;stroke-width:0.8;\" x=\"535.532436\" xlink:href=\"#m4c5bf768c9\" y=\"333.36\"/>\n      </g>\n     </g>\n     <g id=\"text_6\">\n      <!-- 4 -->\n      <defs>\n       <path d=\"M 37.796875 64.3125 \nL 12.890625 25.390625 \nL 37.796875 25.390625 \nz\nM 35.203125 72.90625 \nL 47.609375 72.90625 \nL 47.609375 25.390625 \nL 58.015625 25.390625 \nL 58.015625 17.1875 \nL 47.609375 17.1875 \nL 47.609375 0 \nL 37.796875 0 \nL 37.796875 17.1875 \nL 4.890625 17.1875 \nL 4.890625 26.703125 \nz\n\" id=\"DejaVuSans-52\"/>\n      </defs>\n      <g transform=\"translate(532.351186 347.958438)scale(0.1 -0.1)\">\n       <use xlink:href=\"#DejaVuSans-52\"/>\n      </g>\n     </g>\n    </g>\n   </g>\n   <g id=\"matplotlib.axis_2\">\n    <g id=\"ytick_1\">\n     <g id=\"line2d_7\">\n      <defs>\n       <path d=\"M 0 0 \nL -3.5 0 \n\" id=\"m32f1b88fd9\" style=\"stroke:#000000;stroke-width:0.8;\"/>\n      </defs>\n      <g>\n       <use style=\"stroke:#000000;stroke-width:0.8;\" x=\"28.942188\" xlink:href=\"#m32f1b88fd9\" y=\"292.244845\"/>\n      </g>\n     </g>\n     <g id=\"text_7\">\n      <!-- −2 -->\n      <g transform=\"translate(7.2 296.044064)scale(0.1 -0.1)\">\n       <use xlink:href=\"#DejaVuSans-8722\"/>\n       <use x=\"83.789062\" xlink:href=\"#DejaVuSans-50\"/>\n      </g>\n     </g>\n    </g>\n    <g id=\"ytick_2\">\n     <g id=\"line2d_8\">\n      <g>\n       <use style=\"stroke:#000000;stroke-width:0.8;\" x=\"28.942188\" xlink:href=\"#m32f1b88fd9\" y=\"241.482845\"/>\n      </g>\n     </g>\n     <g id=\"text_8\">\n      <!-- 0 -->\n      <g transform=\"translate(15.579688 245.282064)scale(0.1 -0.1)\">\n       <use xlink:href=\"#DejaVuSans-48\"/>\n      </g>\n     </g>\n    </g>\n    <g id=\"ytick_3\">\n     <g id=\"line2d_9\">\n      <g>\n       <use style=\"stroke:#000000;stroke-width:0.8;\" x=\"28.942188\" xlink:href=\"#m32f1b88fd9\" y=\"190.720844\"/>\n      </g>\n     </g>\n     <g id=\"text_9\">\n      <!-- 2 -->\n      <g transform=\"translate(15.579688 194.520063)scale(0.1 -0.1)\">\n       <use xlink:href=\"#DejaVuSans-50\"/>\n      </g>\n     </g>\n    </g>\n    <g id=\"ytick_4\">\n     <g id=\"line2d_10\">\n      <g>\n       <use style=\"stroke:#000000;stroke-width:0.8;\" x=\"28.942188\" xlink:href=\"#m32f1b88fd9\" y=\"139.958844\"/>\n      </g>\n     </g>\n     <g id=\"text_10\">\n      <!-- 4 -->\n      <g transform=\"translate(15.579688 143.758063)scale(0.1 -0.1)\">\n       <use xlink:href=\"#DejaVuSans-52\"/>\n      </g>\n     </g>\n    </g>\n    <g id=\"ytick_5\">\n     <g id=\"line2d_11\">\n      <g>\n       <use style=\"stroke:#000000;stroke-width:0.8;\" x=\"28.942188\" xlink:href=\"#m32f1b88fd9\" y=\"89.196843\"/>\n      </g>\n     </g>\n     <g id=\"text_11\">\n      <!-- 6 -->\n      <defs>\n       <path d=\"M 33.015625 40.375 \nQ 26.375 40.375 22.484375 35.828125 \nQ 18.609375 31.296875 18.609375 23.390625 \nQ 18.609375 15.53125 22.484375 10.953125 \nQ 26.375 6.390625 33.015625 6.390625 \nQ 39.65625 6.390625 43.53125 10.953125 \nQ 47.40625 15.53125 47.40625 23.390625 \nQ 47.40625 31.296875 43.53125 35.828125 \nQ 39.65625 40.375 33.015625 40.375 \nz\nM 52.59375 71.296875 \nL 52.59375 62.3125 \nQ 48.875 64.0625 45.09375 64.984375 \nQ 41.3125 65.921875 37.59375 65.921875 \nQ 27.828125 65.921875 22.671875 59.328125 \nQ 17.53125 52.734375 16.796875 39.40625 \nQ 19.671875 43.65625 24.015625 45.921875 \nQ 28.375 48.1875 33.59375 48.1875 \nQ 44.578125 48.1875 50.953125 41.515625 \nQ 57.328125 34.859375 57.328125 23.390625 \nQ 57.328125 12.15625 50.6875 5.359375 \nQ 44.046875 -1.421875 33.015625 -1.421875 \nQ 20.359375 -1.421875 13.671875 8.265625 \nQ 6.984375 17.96875 6.984375 36.375 \nQ 6.984375 53.65625 15.1875 63.9375 \nQ 23.390625 74.21875 37.203125 74.21875 \nQ 40.921875 74.21875 44.703125 73.484375 \nQ 48.484375 72.75 52.59375 71.296875 \nz\n\" id=\"DejaVuSans-54\"/>\n      </defs>\n      <g transform=\"translate(15.579688 92.996062)scale(0.1 -0.1)\">\n       <use xlink:href=\"#DejaVuSans-54\"/>\n      </g>\n     </g>\n    </g>\n    <g id=\"ytick_6\">\n     <g id=\"line2d_12\">\n      <g>\n       <use style=\"stroke:#000000;stroke-width:0.8;\" x=\"28.942188\" xlink:href=\"#m32f1b88fd9\" y=\"38.434843\"/>\n      </g>\n     </g>\n     <g id=\"text_12\">\n      <!-- 8 -->\n      <defs>\n       <path d=\"M 31.78125 34.625 \nQ 24.75 34.625 20.71875 30.859375 \nQ 16.703125 27.09375 16.703125 20.515625 \nQ 16.703125 13.921875 20.71875 10.15625 \nQ 24.75 6.390625 31.78125 6.390625 \nQ 38.8125 6.390625 42.859375 10.171875 \nQ 46.921875 13.96875 46.921875 20.515625 \nQ 46.921875 27.09375 42.890625 30.859375 \nQ 38.875 34.625 31.78125 34.625 \nz\nM 21.921875 38.8125 \nQ 15.578125 40.375 12.03125 44.71875 \nQ 8.5 49.078125 8.5 55.328125 \nQ 8.5 64.0625 14.71875 69.140625 \nQ 20.953125 74.21875 31.78125 74.21875 \nQ 42.671875 74.21875 48.875 69.140625 \nQ 55.078125 64.0625 55.078125 55.328125 \nQ 55.078125 49.078125 51.53125 44.71875 \nQ 48 40.375 41.703125 38.8125 \nQ 48.828125 37.15625 52.796875 32.3125 \nQ 56.78125 27.484375 56.78125 20.515625 \nQ 56.78125 9.90625 50.3125 4.234375 \nQ 43.84375 -1.421875 31.78125 -1.421875 \nQ 19.734375 -1.421875 13.25 4.234375 \nQ 6.78125 9.90625 6.78125 20.515625 \nQ 6.78125 27.484375 10.78125 32.3125 \nQ 14.796875 37.15625 21.921875 38.8125 \nz\nM 18.3125 54.390625 \nQ 18.3125 48.734375 21.84375 45.5625 \nQ 25.390625 42.390625 31.78125 42.390625 \nQ 38.140625 42.390625 41.71875 45.5625 \nQ 45.3125 48.734375 45.3125 54.390625 \nQ 45.3125 60.0625 41.71875 63.234375 \nQ 38.140625 66.40625 31.78125 66.40625 \nQ 25.390625 66.40625 21.84375 63.234375 \nQ 18.3125 60.0625 18.3125 54.390625 \nz\n\" id=\"DejaVuSans-56\"/>\n      </defs>\n      <g transform=\"translate(15.579688 42.234062)scale(0.1 -0.1)\">\n       <use xlink:href=\"#DejaVuSans-56\"/>\n      </g>\n     </g>\n    </g>\n   </g>\n   <g id=\"patch_3\">\n    <path d=\"M 28.942188 333.36 \nL 28.942188 7.2 \n\" style=\"fill:none;stroke:#000000;stroke-linecap:square;stroke-linejoin:miter;stroke-width:0.8;\"/>\n   </g>\n   <g id=\"patch_4\">\n    <path d=\"M 586.942188 333.36 \nL 586.942188 7.2 \n\" style=\"fill:none;stroke:#000000;stroke-linecap:square;stroke-linejoin:miter;stroke-width:0.8;\"/>\n   </g>\n   <g id=\"patch_5\">\n    <path d=\"M 28.942188 333.36 \nL 586.942187 333.36 \n\" style=\"fill:none;stroke:#000000;stroke-linecap:square;stroke-linejoin:miter;stroke-width:0.8;\"/>\n   </g>\n   <g id=\"patch_6\">\n    <path d=\"M 28.942188 7.2 \nL 586.942187 7.2 \n\" style=\"fill:none;stroke:#000000;stroke-linecap:square;stroke-linejoin:miter;stroke-width:0.8;\"/>\n   </g>\n  </g>\n </g>\n <defs>\n  <clipPath id=\"p244b8c677a\">\n   <rect height=\"326.16\" width=\"558\" x=\"28.942188\" y=\"7.2\"/>\n  </clipPath>\n </defs>\n</svg>\n"
          },
          "metadata": {
            "tags": [],
            "needs_background": "light"
          }
        }
      ]
    },
    {
      "cell_type": "code",
      "metadata": {
        "colab": {
          "base_uri": "https://localhost:8080/"
        },
        "id": "VujJAi18w8Wy",
        "outputId": "81fde05b-f75a-4153-8f87-37c0f83a0c08"
      },
      "source": [
        "data[:10,1]"
      ],
      "execution_count": 24,
      "outputs": [
        {
          "output_type": "execute_result",
          "data": {
            "text/plain": [
              "array([ 7.005952  ,  3.7899098 ,  4.2366624 ,  4.4443636 ,  5.1990156 ,\n",
              "        0.30955267, -1.8150303 , -0.08058381,  3.4294872 , -0.3729105 ])"
            ]
          },
          "metadata": {
            "tags": []
          },
          "execution_count": 24
        }
      ]
    },
    {
      "cell_type": "code",
      "metadata": {
        "id": "erMi-FT4wuqB"
      },
      "source": [
        "batch_size = 8\n",
        "data_iter = d2l.load_array((data,), batch_size)"
      ],
      "execution_count": 60,
      "outputs": []
    },
    {
      "cell_type": "code",
      "metadata": {
        "colab": {
          "base_uri": "https://localhost:8080/"
        },
        "id": "eAWoSbvn-0u6",
        "outputId": "49c67d22-9068-42d3-b5ce-868e33b2486f"
      },
      "source": [
        ""
      ],
      "execution_count": 58,
      "outputs": [
        {
          "output_type": "execute_result",
          "data": {
            "text/plain": [
              "<mxnet.gluon.data.dataloader.DataLoader at 0x7ff3e70b4a10>"
            ]
          },
          "metadata": {
            "tags": []
          },
          "execution_count": 58
        }
      ]
    },
    {
      "cell_type": "markdown",
      "metadata": {
        "id": "mT-BTqM1xRXu"
      },
      "source": [
        "### Generator"
      ]
    },
    {
      "cell_type": "code",
      "metadata": {
        "id": "32d09PH-xQiZ"
      },
      "source": [
        "net_G = nn.Sequential()\n",
        "net_G.add(nn.Dense(2))"
      ],
      "execution_count": 40,
      "outputs": []
    },
    {
      "cell_type": "code",
      "metadata": {
        "id": "1vqccGYI1pyv"
      },
      "source": [
        "Z = np.random.normal(0, 1, size=(100, latent_dim))\n",
        "fake_X = net_G(Z)\n",
        "fake_X.asnumpy()"
      ],
      "execution_count": null,
      "outputs": []
    },
    {
      "cell_type": "markdown",
      "metadata": {
        "id": "1f5-d2I5yBdk"
      },
      "source": [
        "### Discriminator\n",
        "Use a MLP with 3 Layers to make things a bit more interesting"
      ]
    },
    {
      "cell_type": "code",
      "metadata": {
        "id": "TAbHUCFixi_4"
      },
      "source": [
        "net_D = nn.Sequential()\n",
        "net_D.add(nn.Dense(5, activation='relu'), nn.Dense(3, activation='relu'),nn.Dense(1))"
      ],
      "execution_count": 43,
      "outputs": []
    },
    {
      "cell_type": "markdown",
      "metadata": {
        "id": "88-FlspkyIjG"
      },
      "source": [
        "### Training"
      ]
    },
    {
      "cell_type": "code",
      "metadata": {
        "id": "P8O2QkWMyEvC"
      },
      "source": [
        "def update_D(X, Z, net_D, net_G, loss, trainer_D):\n",
        "  \"\"\"Update discriminator.\"\"\"\n",
        "  batch_size = X.shape[0]\n",
        "  ones = np.ones((batch_size,), ctx=X.ctx)\n",
        "  zeros = np.zeros((batch_size,), ctx=X.ctx)\n",
        "  with autograd.record():\n",
        "    real_Y = net_D(X)\n",
        "    fake_X = net_G(Z)\n",
        "    fake_Y = net_D(fake_X.detach())\n",
        "    loss_D = (loss(real_Y, ones) + loss(fake_Y, zeros))/2\n",
        "  loss_D.backward()\n",
        "  trainer_D.step(batch_size)\n",
        "  return float(loss_D.sum())"
      ],
      "execution_count": 27,
      "outputs": []
    },
    {
      "cell_type": "code",
      "metadata": {
        "colab": {
          "base_uri": "https://localhost:8080/"
        },
        "id": "Abf-r3Q22ps3",
        "outputId": "8fd9f0bd-c6c4-4e59-e501-e25d50d97fee"
      },
      "source": [
        "X.shape"
      ],
      "execution_count": 45,
      "outputs": [
        {
          "output_type": "execute_result",
          "data": {
            "text/plain": [
              "(1000, 2)"
            ]
          },
          "metadata": {
            "tags": []
          },
          "execution_count": 45
        }
      ]
    },
    {
      "cell_type": "code",
      "metadata": {
        "id": "xAwuVXzyyHe6"
      },
      "source": [
        "def update_G(Z, net_D, net_G, loss, trainer_G):\n",
        "    \"\"\"Update generator.\"\"\"\n",
        "    batch_size = Z.shape[0]\n",
        "    ones = np.ones((batch_size,), ctx=Z.ctx)\n",
        "    with autograd.record():\n",
        "        # We could reuse `fake_X` from `update_D` to save computation\n",
        "        fake_X = net_G(Z)\n",
        "        # Recomputing `fake_Y` is needed since `net_D` is changed\n",
        "        fake_Y = net_D(fake_X)\n",
        "        loss_G = loss(fake_Y, ones)\n",
        "    loss_G.backward()\n",
        "    trainer_G.step(batch_size)\n",
        "    return float(loss_G.sum())"
      ],
      "execution_count": 28,
      "outputs": []
    },
    {
      "cell_type": "code",
      "metadata": {
        "id": "PyHVg1QezfjT"
      },
      "source": [
        "def train(net_D, net_G, data_iter, num_epochs, lr_D, lr_G, latent_dim, data):\n",
        "    loss = gluon.loss.SigmoidBCELoss()\n",
        "    net_D.initialize(init=init.Normal(0.02), force_reinit=True)\n",
        "    net_G.initialize(init=init.Normal(0.02), force_reinit=True)\n",
        "    trainer_D = gluon.Trainer(net_D.collect_params(), 'adam',\n",
        "                              {'learning_rate': lr_D})\n",
        "    trainer_G = gluon.Trainer(net_G.collect_params(), 'adam',\n",
        "                              {'learning_rate': lr_G})\n",
        "    animator = d2l.Animator(xlabel='epoch', ylabel='loss',\n",
        "                            xlim=[1, num_epochs], nrows=2, figsize=(5, 5),\n",
        "                            legend=['discriminator', 'generator'])\n",
        "    animator.fig.subplots_adjust(hspace=0.3)\n",
        "    for epoch in range(num_epochs):\n",
        "        # Train one epoch\n",
        "        timer = d2l.Timer()\n",
        "        metric = d2l.Accumulator(3)  # loss_D, loss_G, num_examples\n",
        "        for X in data_iter:\n",
        "            batch_size = X.shape[0]\n",
        "            Z = np.random.normal(0, 1, size=(batch_size, latent_dim))\n",
        "            metric.add(update_D(X, Z, net_D, net_G, loss, trainer_D),\n",
        "                       update_G(Z, net_D, net_G, loss, trainer_G), batch_size)\n",
        "        # Visualize generated examples\n",
        "        Z = np.random.normal(0, 1, size=(100, latent_dim))\n",
        "        fake_X = net_G(Z).asnumpy()\n",
        "        animator.axes[1].cla()\n",
        "        animator.axes[1].scatter(data[:, 0], data[:, 1])\n",
        "        animator.axes[1].scatter(fake_X[:, 0], fake_X[:, 1])\n",
        "        animator.axes[1].legend(['real', 'generated'])\n",
        "        # Show the losses\n",
        "        loss_D, loss_G = metric[0] / metric[2], metric[1] / metric[2]\n",
        "        animator.add(epoch + 1, (loss_D, loss_G))\n",
        "    print(f'loss_D {loss_D:.3f}, loss_G {loss_G:.3f}, '\n",
        "          f'{metric[2] / timer.stop():.1f} examples/sec')"
      ],
      "execution_count": 37,
      "outputs": []
    },
    {
      "cell_type": "code",
      "metadata": {
        "colab": {
          "base_uri": "https://localhost:8080/",
          "height": 443
        },
        "id": "YZlbPaQJzinW",
        "outputId": "1ed6dc5f-5212-4124-b67b-307898166718"
      },
      "source": [
        "lr_D, lr_G, latent_dim, num_epochs = 0.05, 0.005,2, 20\n",
        "train(net_D, net_G, data_iter, num_epochs, lr_D, lr_G, latent_dim,\n",
        "      data[:100].asnumpy())"
      ],
      "execution_count": 61,
      "outputs": [
        {
          "output_type": "stream",
          "text": [
            "loss_D 0.693, loss_G 0.693, 620.4 examples/sec\n"
          ],
          "name": "stdout"
        },
        {
          "output_type": "display_data",
          "data": {
            "text/plain": [
              "<Figure size 360x360 with 2 Axes>"
            ],
            "image/svg+xml": "<?xml version=\"1.0\" encoding=\"utf-8\" standalone=\"no\"?>\n<!DOCTYPE svg PUBLIC \"-//W3C//DTD SVG 1.1//EN\"\n  \"http://www.w3.org/Graphics/SVG/1.1/DTD/svg11.dtd\">\n<!-- Created with matplotlib (https://matplotlib.org/) -->\n<svg height=\"302.878125pt\" version=\"1.1\" viewBox=\"0 0 347.476562 302.878125\" width=\"347.476562pt\" xmlns=\"http://www.w3.org/2000/svg\" xmlns:xlink=\"http://www.w3.org/1999/xlink\">\n <defs>\n  <style type=\"text/css\">\n*{stroke-linecap:butt;stroke-linejoin:round;}\n  </style>\n </defs>\n <g id=\"figure_1\">\n  <g id=\"patch_1\">\n   <path d=\"M 0 302.878125 \nL 347.476562 302.878125 \nL 347.476562 0 \nL 0 0 \nz\n\" style=\"fill:none;\"/>\n  </g>\n  <g id=\"axes_1\">\n   <g id=\"patch_2\">\n    <path d=\"M 50.14375 125.373913 \nL 329.14375 125.373913 \nL 329.14375 7.2 \nL 50.14375 7.2 \nz\n\" style=\"fill:#ffffff;\"/>\n   </g>\n   <g id=\"matplotlib.axis_1\">\n    <g id=\"xtick_1\">\n     <g id=\"line2d_1\">\n      <path clip-path=\"url(#p2d242afeed)\" d=\"M 72.170066 125.373913 \nL 72.170066 7.2 \n\" style=\"fill:none;stroke:#b0b0b0;stroke-linecap:square;stroke-width:0.8;\"/>\n     </g>\n     <g id=\"line2d_2\">\n      <defs>\n       <path d=\"M 0 0 \nL 0 3.5 \n\" id=\"m44a4c4656a\" style=\"stroke:#000000;stroke-width:0.8;\"/>\n      </defs>\n      <g>\n       <use style=\"stroke:#000000;stroke-width:0.8;\" x=\"72.170066\" xlink:href=\"#m44a4c4656a\" y=\"125.373913\"/>\n      </g>\n     </g>\n     <g id=\"text_1\">\n      <!-- 2.5 -->\n      <defs>\n       <path d=\"M 19.1875 8.296875 \nL 53.609375 8.296875 \nL 53.609375 0 \nL 7.328125 0 \nL 7.328125 8.296875 \nQ 12.9375 14.109375 22.625 23.890625 \nQ 32.328125 33.6875 34.8125 36.53125 \nQ 39.546875 41.84375 41.421875 45.53125 \nQ 43.3125 49.21875 43.3125 52.78125 \nQ 43.3125 58.59375 39.234375 62.25 \nQ 35.15625 65.921875 28.609375 65.921875 \nQ 23.96875 65.921875 18.8125 64.3125 \nQ 13.671875 62.703125 7.8125 59.421875 \nL 7.8125 69.390625 \nQ 13.765625 71.78125 18.9375 73 \nQ 24.125 74.21875 28.421875 74.21875 \nQ 39.75 74.21875 46.484375 68.546875 \nQ 53.21875 62.890625 53.21875 53.421875 \nQ 53.21875 48.921875 51.53125 44.890625 \nQ 49.859375 40.875 45.40625 35.40625 \nQ 44.1875 33.984375 37.640625 27.21875 \nQ 31.109375 20.453125 19.1875 8.296875 \nz\n\" id=\"DejaVuSans-50\"/>\n       <path d=\"M 10.6875 12.40625 \nL 21 12.40625 \nL 21 0 \nL 10.6875 0 \nz\n\" id=\"DejaVuSans-46\"/>\n       <path d=\"M 10.796875 72.90625 \nL 49.515625 72.90625 \nL 49.515625 64.59375 \nL 19.828125 64.59375 \nL 19.828125 46.734375 \nQ 21.96875 47.46875 24.109375 47.828125 \nQ 26.265625 48.1875 28.421875 48.1875 \nQ 40.625 48.1875 47.75 41.5 \nQ 54.890625 34.8125 54.890625 23.390625 \nQ 54.890625 11.625 47.5625 5.09375 \nQ 40.234375 -1.421875 26.90625 -1.421875 \nQ 22.3125 -1.421875 17.546875 -0.640625 \nQ 12.796875 0.140625 7.71875 1.703125 \nL 7.71875 11.625 \nQ 12.109375 9.234375 16.796875 8.0625 \nQ 21.484375 6.890625 26.703125 6.890625 \nQ 35.15625 6.890625 40.078125 11.328125 \nQ 45.015625 15.765625 45.015625 23.390625 \nQ 45.015625 31 40.078125 35.4375 \nQ 35.15625 39.890625 26.703125 39.890625 \nQ 22.75 39.890625 18.8125 39.015625 \nQ 14.890625 38.140625 10.796875 36.28125 \nz\n\" id=\"DejaVuSans-53\"/>\n      </defs>\n      <g transform=\"translate(64.218503 139.972351)scale(0.1 -0.1)\">\n       <use xlink:href=\"#DejaVuSans-50\"/>\n       <use x=\"63.623047\" xlink:href=\"#DejaVuSans-46\"/>\n       <use x=\"95.410156\" xlink:href=\"#DejaVuSans-53\"/>\n      </g>\n     </g>\n    </g>\n    <g id=\"xtick_2\">\n     <g id=\"line2d_3\">\n      <path clip-path=\"url(#p2d242afeed)\" d=\"M 108.880592 125.373913 \nL 108.880592 7.2 \n\" style=\"fill:none;stroke:#b0b0b0;stroke-linecap:square;stroke-width:0.8;\"/>\n     </g>\n     <g id=\"line2d_4\">\n      <g>\n       <use style=\"stroke:#000000;stroke-width:0.8;\" x=\"108.880592\" xlink:href=\"#m44a4c4656a\" y=\"125.373913\"/>\n      </g>\n     </g>\n     <g id=\"text_2\">\n      <!-- 5.0 -->\n      <defs>\n       <path d=\"M 31.78125 66.40625 \nQ 24.171875 66.40625 20.328125 58.90625 \nQ 16.5 51.421875 16.5 36.375 \nQ 16.5 21.390625 20.328125 13.890625 \nQ 24.171875 6.390625 31.78125 6.390625 \nQ 39.453125 6.390625 43.28125 13.890625 \nQ 47.125 21.390625 47.125 36.375 \nQ 47.125 51.421875 43.28125 58.90625 \nQ 39.453125 66.40625 31.78125 66.40625 \nz\nM 31.78125 74.21875 \nQ 44.046875 74.21875 50.515625 64.515625 \nQ 56.984375 54.828125 56.984375 36.375 \nQ 56.984375 17.96875 50.515625 8.265625 \nQ 44.046875 -1.421875 31.78125 -1.421875 \nQ 19.53125 -1.421875 13.0625 8.265625 \nQ 6.59375 17.96875 6.59375 36.375 \nQ 6.59375 54.828125 13.0625 64.515625 \nQ 19.53125 74.21875 31.78125 74.21875 \nz\n\" id=\"DejaVuSans-48\"/>\n      </defs>\n      <g transform=\"translate(100.92903 139.972351)scale(0.1 -0.1)\">\n       <use xlink:href=\"#DejaVuSans-53\"/>\n       <use x=\"63.623047\" xlink:href=\"#DejaVuSans-46\"/>\n       <use x=\"95.410156\" xlink:href=\"#DejaVuSans-48\"/>\n      </g>\n     </g>\n    </g>\n    <g id=\"xtick_3\">\n     <g id=\"line2d_5\">\n      <path clip-path=\"url(#p2d242afeed)\" d=\"M 145.591118 125.373913 \nL 145.591118 7.2 \n\" style=\"fill:none;stroke:#b0b0b0;stroke-linecap:square;stroke-width:0.8;\"/>\n     </g>\n     <g id=\"line2d_6\">\n      <g>\n       <use style=\"stroke:#000000;stroke-width:0.8;\" x=\"145.591118\" xlink:href=\"#m44a4c4656a\" y=\"125.373913\"/>\n      </g>\n     </g>\n     <g id=\"text_3\">\n      <!-- 7.5 -->\n      <defs>\n       <path d=\"M 8.203125 72.90625 \nL 55.078125 72.90625 \nL 55.078125 68.703125 \nL 28.609375 0 \nL 18.3125 0 \nL 43.21875 64.59375 \nL 8.203125 64.59375 \nz\n\" id=\"DejaVuSans-55\"/>\n      </defs>\n      <g transform=\"translate(137.639556 139.972351)scale(0.1 -0.1)\">\n       <use xlink:href=\"#DejaVuSans-55\"/>\n       <use x=\"63.623047\" xlink:href=\"#DejaVuSans-46\"/>\n       <use x=\"95.410156\" xlink:href=\"#DejaVuSans-53\"/>\n      </g>\n     </g>\n    </g>\n    <g id=\"xtick_4\">\n     <g id=\"line2d_7\">\n      <path clip-path=\"url(#p2d242afeed)\" d=\"M 182.301645 125.373913 \nL 182.301645 7.2 \n\" style=\"fill:none;stroke:#b0b0b0;stroke-linecap:square;stroke-width:0.8;\"/>\n     </g>\n     <g id=\"line2d_8\">\n      <g>\n       <use style=\"stroke:#000000;stroke-width:0.8;\" x=\"182.301645\" xlink:href=\"#m44a4c4656a\" y=\"125.373913\"/>\n      </g>\n     </g>\n     <g id=\"text_4\">\n      <!-- 10.0 -->\n      <defs>\n       <path d=\"M 12.40625 8.296875 \nL 28.515625 8.296875 \nL 28.515625 63.921875 \nL 10.984375 60.40625 \nL 10.984375 69.390625 \nL 28.421875 72.90625 \nL 38.28125 72.90625 \nL 38.28125 8.296875 \nL 54.390625 8.296875 \nL 54.390625 0 \nL 12.40625 0 \nz\n\" id=\"DejaVuSans-49\"/>\n      </defs>\n      <g transform=\"translate(171.168832 139.972351)scale(0.1 -0.1)\">\n       <use xlink:href=\"#DejaVuSans-49\"/>\n       <use x=\"63.623047\" xlink:href=\"#DejaVuSans-48\"/>\n       <use x=\"127.246094\" xlink:href=\"#DejaVuSans-46\"/>\n       <use x=\"159.033203\" xlink:href=\"#DejaVuSans-48\"/>\n      </g>\n     </g>\n    </g>\n    <g id=\"xtick_5\">\n     <g id=\"line2d_9\">\n      <path clip-path=\"url(#p2d242afeed)\" d=\"M 219.012171 125.373913 \nL 219.012171 7.2 \n\" style=\"fill:none;stroke:#b0b0b0;stroke-linecap:square;stroke-width:0.8;\"/>\n     </g>\n     <g id=\"line2d_10\">\n      <g>\n       <use style=\"stroke:#000000;stroke-width:0.8;\" x=\"219.012171\" xlink:href=\"#m44a4c4656a\" y=\"125.373913\"/>\n      </g>\n     </g>\n     <g id=\"text_5\">\n      <!-- 12.5 -->\n      <g transform=\"translate(207.879359 139.972351)scale(0.1 -0.1)\">\n       <use xlink:href=\"#DejaVuSans-49\"/>\n       <use x=\"63.623047\" xlink:href=\"#DejaVuSans-50\"/>\n       <use x=\"127.246094\" xlink:href=\"#DejaVuSans-46\"/>\n       <use x=\"159.033203\" xlink:href=\"#DejaVuSans-53\"/>\n      </g>\n     </g>\n    </g>\n    <g id=\"xtick_6\">\n     <g id=\"line2d_11\">\n      <path clip-path=\"url(#p2d242afeed)\" d=\"M 255.722697 125.373913 \nL 255.722697 7.2 \n\" style=\"fill:none;stroke:#b0b0b0;stroke-linecap:square;stroke-width:0.8;\"/>\n     </g>\n     <g id=\"line2d_12\">\n      <g>\n       <use style=\"stroke:#000000;stroke-width:0.8;\" x=\"255.722697\" xlink:href=\"#m44a4c4656a\" y=\"125.373913\"/>\n      </g>\n     </g>\n     <g id=\"text_6\">\n      <!-- 15.0 -->\n      <g transform=\"translate(244.589885 139.972351)scale(0.1 -0.1)\">\n       <use xlink:href=\"#DejaVuSans-49\"/>\n       <use x=\"63.623047\" xlink:href=\"#DejaVuSans-53\"/>\n       <use x=\"127.246094\" xlink:href=\"#DejaVuSans-46\"/>\n       <use x=\"159.033203\" xlink:href=\"#DejaVuSans-48\"/>\n      </g>\n     </g>\n    </g>\n    <g id=\"xtick_7\">\n     <g id=\"line2d_13\">\n      <path clip-path=\"url(#p2d242afeed)\" d=\"M 292.433224 125.373913 \nL 292.433224 7.2 \n\" style=\"fill:none;stroke:#b0b0b0;stroke-linecap:square;stroke-width:0.8;\"/>\n     </g>\n     <g id=\"line2d_14\">\n      <g>\n       <use style=\"stroke:#000000;stroke-width:0.8;\" x=\"292.433224\" xlink:href=\"#m44a4c4656a\" y=\"125.373913\"/>\n      </g>\n     </g>\n     <g id=\"text_7\">\n      <!-- 17.5 -->\n      <g transform=\"translate(281.300411 139.972351)scale(0.1 -0.1)\">\n       <use xlink:href=\"#DejaVuSans-49\"/>\n       <use x=\"63.623047\" xlink:href=\"#DejaVuSans-55\"/>\n       <use x=\"127.246094\" xlink:href=\"#DejaVuSans-46\"/>\n       <use x=\"159.033203\" xlink:href=\"#DejaVuSans-53\"/>\n      </g>\n     </g>\n    </g>\n    <g id=\"xtick_8\">\n     <g id=\"line2d_15\">\n      <path clip-path=\"url(#p2d242afeed)\" d=\"M 329.14375 125.373913 \nL 329.14375 7.2 \n\" style=\"fill:none;stroke:#b0b0b0;stroke-linecap:square;stroke-width:0.8;\"/>\n     </g>\n     <g id=\"line2d_16\">\n      <g>\n       <use style=\"stroke:#000000;stroke-width:0.8;\" x=\"329.14375\" xlink:href=\"#m44a4c4656a\" y=\"125.373913\"/>\n      </g>\n     </g>\n     <g id=\"text_8\">\n      <!-- 20.0 -->\n      <g transform=\"translate(318.010938 139.972351)scale(0.1 -0.1)\">\n       <use xlink:href=\"#DejaVuSans-50\"/>\n       <use x=\"63.623047\" xlink:href=\"#DejaVuSans-48\"/>\n       <use x=\"127.246094\" xlink:href=\"#DejaVuSans-46\"/>\n       <use x=\"159.033203\" xlink:href=\"#DejaVuSans-48\"/>\n      </g>\n     </g>\n    </g>\n    <g id=\"text_9\">\n     <!-- epoch -->\n     <defs>\n      <path d=\"M 56.203125 29.59375 \nL 56.203125 25.203125 \nL 14.890625 25.203125 \nQ 15.484375 15.921875 20.484375 11.0625 \nQ 25.484375 6.203125 34.421875 6.203125 \nQ 39.59375 6.203125 44.453125 7.46875 \nQ 49.3125 8.734375 54.109375 11.28125 \nL 54.109375 2.78125 \nQ 49.265625 0.734375 44.1875 -0.34375 \nQ 39.109375 -1.421875 33.890625 -1.421875 \nQ 20.796875 -1.421875 13.15625 6.1875 \nQ 5.515625 13.8125 5.515625 26.8125 \nQ 5.515625 40.234375 12.765625 48.109375 \nQ 20.015625 56 32.328125 56 \nQ 43.359375 56 49.78125 48.890625 \nQ 56.203125 41.796875 56.203125 29.59375 \nz\nM 47.21875 32.234375 \nQ 47.125 39.59375 43.09375 43.984375 \nQ 39.0625 48.390625 32.421875 48.390625 \nQ 24.90625 48.390625 20.390625 44.140625 \nQ 15.875 39.890625 15.1875 32.171875 \nz\n\" id=\"DejaVuSans-101\"/>\n      <path d=\"M 18.109375 8.203125 \nL 18.109375 -20.796875 \nL 9.078125 -20.796875 \nL 9.078125 54.6875 \nL 18.109375 54.6875 \nL 18.109375 46.390625 \nQ 20.953125 51.265625 25.265625 53.625 \nQ 29.59375 56 35.59375 56 \nQ 45.5625 56 51.78125 48.09375 \nQ 58.015625 40.1875 58.015625 27.296875 \nQ 58.015625 14.40625 51.78125 6.484375 \nQ 45.5625 -1.421875 35.59375 -1.421875 \nQ 29.59375 -1.421875 25.265625 0.953125 \nQ 20.953125 3.328125 18.109375 8.203125 \nz\nM 48.6875 27.296875 \nQ 48.6875 37.203125 44.609375 42.84375 \nQ 40.53125 48.484375 33.40625 48.484375 \nQ 26.265625 48.484375 22.1875 42.84375 \nQ 18.109375 37.203125 18.109375 27.296875 \nQ 18.109375 17.390625 22.1875 11.75 \nQ 26.265625 6.109375 33.40625 6.109375 \nQ 40.53125 6.109375 44.609375 11.75 \nQ 48.6875 17.390625 48.6875 27.296875 \nz\n\" id=\"DejaVuSans-112\"/>\n      <path d=\"M 30.609375 48.390625 \nQ 23.390625 48.390625 19.1875 42.75 \nQ 14.984375 37.109375 14.984375 27.296875 \nQ 14.984375 17.484375 19.15625 11.84375 \nQ 23.34375 6.203125 30.609375 6.203125 \nQ 37.796875 6.203125 41.984375 11.859375 \nQ 46.1875 17.53125 46.1875 27.296875 \nQ 46.1875 37.015625 41.984375 42.703125 \nQ 37.796875 48.390625 30.609375 48.390625 \nz\nM 30.609375 56 \nQ 42.328125 56 49.015625 48.375 \nQ 55.71875 40.765625 55.71875 27.296875 \nQ 55.71875 13.875 49.015625 6.21875 \nQ 42.328125 -1.421875 30.609375 -1.421875 \nQ 18.84375 -1.421875 12.171875 6.21875 \nQ 5.515625 13.875 5.515625 27.296875 \nQ 5.515625 40.765625 12.171875 48.375 \nQ 18.84375 56 30.609375 56 \nz\n\" id=\"DejaVuSans-111\"/>\n      <path d=\"M 48.78125 52.59375 \nL 48.78125 44.1875 \nQ 44.96875 46.296875 41.140625 47.34375 \nQ 37.3125 48.390625 33.40625 48.390625 \nQ 24.65625 48.390625 19.8125 42.84375 \nQ 14.984375 37.3125 14.984375 27.296875 \nQ 14.984375 17.28125 19.8125 11.734375 \nQ 24.65625 6.203125 33.40625 6.203125 \nQ 37.3125 6.203125 41.140625 7.25 \nQ 44.96875 8.296875 48.78125 10.40625 \nL 48.78125 2.09375 \nQ 45.015625 0.34375 40.984375 -0.53125 \nQ 36.96875 -1.421875 32.421875 -1.421875 \nQ 20.0625 -1.421875 12.78125 6.34375 \nQ 5.515625 14.109375 5.515625 27.296875 \nQ 5.515625 40.671875 12.859375 48.328125 \nQ 20.21875 56 33.015625 56 \nQ 37.15625 56 41.109375 55.140625 \nQ 45.0625 54.296875 48.78125 52.59375 \nz\n\" id=\"DejaVuSans-99\"/>\n      <path d=\"M 54.890625 33.015625 \nL 54.890625 0 \nL 45.90625 0 \nL 45.90625 32.71875 \nQ 45.90625 40.484375 42.875 44.328125 \nQ 39.84375 48.1875 33.796875 48.1875 \nQ 26.515625 48.1875 22.3125 43.546875 \nQ 18.109375 38.921875 18.109375 30.90625 \nL 18.109375 0 \nL 9.078125 0 \nL 9.078125 75.984375 \nL 18.109375 75.984375 \nL 18.109375 46.1875 \nQ 21.34375 51.125 25.703125 53.5625 \nQ 30.078125 56 35.796875 56 \nQ 45.21875 56 50.046875 50.171875 \nQ 54.890625 44.34375 54.890625 33.015625 \nz\n\" id=\"DejaVuSans-104\"/>\n     </defs>\n     <g transform=\"translate(174.415625 153.650476)scale(0.1 -0.1)\">\n      <use xlink:href=\"#DejaVuSans-101\"/>\n      <use x=\"61.523438\" xlink:href=\"#DejaVuSans-112\"/>\n      <use x=\"125\" xlink:href=\"#DejaVuSans-111\"/>\n      <use x=\"186.181641\" xlink:href=\"#DejaVuSans-99\"/>\n      <use x=\"241.162109\" xlink:href=\"#DejaVuSans-104\"/>\n     </g>\n    </g>\n   </g>\n   <g id=\"matplotlib.axis_2\">\n    <g id=\"ytick_1\">\n     <g id=\"line2d_17\">\n      <path clip-path=\"url(#p2d242afeed)\" d=\"M 50.14375 116.883824 \nL 329.14375 116.883824 \n\" style=\"fill:none;stroke:#b0b0b0;stroke-linecap:square;stroke-width:0.8;\"/>\n     </g>\n     <g id=\"line2d_18\">\n      <defs>\n       <path d=\"M 0 0 \nL -3.5 0 \n\" id=\"m3b14cfbe9d\" style=\"stroke:#000000;stroke-width:0.8;\"/>\n      </defs>\n      <g>\n       <use style=\"stroke:#000000;stroke-width:0.8;\" x=\"50.14375\" xlink:href=\"#m3b14cfbe9d\" y=\"116.883824\"/>\n      </g>\n     </g>\n     <g id=\"text_10\">\n      <!-- 0.50 -->\n      <g transform=\"translate(20.878125 120.683043)scale(0.1 -0.1)\">\n       <use xlink:href=\"#DejaVuSans-48\"/>\n       <use x=\"63.623047\" xlink:href=\"#DejaVuSans-46\"/>\n       <use x=\"95.410156\" xlink:href=\"#DejaVuSans-53\"/>\n       <use x=\"159.033203\" xlink:href=\"#DejaVuSans-48\"/>\n      </g>\n     </g>\n    </g>\n    <g id=\"ytick_2\">\n     <g id=\"line2d_19\">\n      <path clip-path=\"url(#p2d242afeed)\" d=\"M 50.14375 90.568108 \nL 329.14375 90.568108 \n\" style=\"fill:none;stroke:#b0b0b0;stroke-linecap:square;stroke-width:0.8;\"/>\n     </g>\n     <g id=\"line2d_20\">\n      <g>\n       <use style=\"stroke:#000000;stroke-width:0.8;\" x=\"50.14375\" xlink:href=\"#m3b14cfbe9d\" y=\"90.568108\"/>\n      </g>\n     </g>\n     <g id=\"text_11\">\n      <!-- 0.75 -->\n      <g transform=\"translate(20.878125 94.367327)scale(0.1 -0.1)\">\n       <use xlink:href=\"#DejaVuSans-48\"/>\n       <use x=\"63.623047\" xlink:href=\"#DejaVuSans-46\"/>\n       <use x=\"95.410156\" xlink:href=\"#DejaVuSans-55\"/>\n       <use x=\"159.033203\" xlink:href=\"#DejaVuSans-53\"/>\n      </g>\n     </g>\n    </g>\n    <g id=\"ytick_3\">\n     <g id=\"line2d_21\">\n      <path clip-path=\"url(#p2d242afeed)\" d=\"M 50.14375 64.252392 \nL 329.14375 64.252392 \n\" style=\"fill:none;stroke:#b0b0b0;stroke-linecap:square;stroke-width:0.8;\"/>\n     </g>\n     <g id=\"line2d_22\">\n      <g>\n       <use style=\"stroke:#000000;stroke-width:0.8;\" x=\"50.14375\" xlink:href=\"#m3b14cfbe9d\" y=\"64.252392\"/>\n      </g>\n     </g>\n     <g id=\"text_12\">\n      <!-- 1.00 -->\n      <g transform=\"translate(20.878125 68.051611)scale(0.1 -0.1)\">\n       <use xlink:href=\"#DejaVuSans-49\"/>\n       <use x=\"63.623047\" xlink:href=\"#DejaVuSans-46\"/>\n       <use x=\"95.410156\" xlink:href=\"#DejaVuSans-48\"/>\n       <use x=\"159.033203\" xlink:href=\"#DejaVuSans-48\"/>\n      </g>\n     </g>\n    </g>\n    <g id=\"ytick_4\">\n     <g id=\"line2d_23\">\n      <path clip-path=\"url(#p2d242afeed)\" d=\"M 50.14375 37.936676 \nL 329.14375 37.936676 \n\" style=\"fill:none;stroke:#b0b0b0;stroke-linecap:square;stroke-width:0.8;\"/>\n     </g>\n     <g id=\"line2d_24\">\n      <g>\n       <use style=\"stroke:#000000;stroke-width:0.8;\" x=\"50.14375\" xlink:href=\"#m3b14cfbe9d\" y=\"37.936676\"/>\n      </g>\n     </g>\n     <g id=\"text_13\">\n      <!-- 1.25 -->\n      <g transform=\"translate(20.878125 41.735895)scale(0.1 -0.1)\">\n       <use xlink:href=\"#DejaVuSans-49\"/>\n       <use x=\"63.623047\" xlink:href=\"#DejaVuSans-46\"/>\n       <use x=\"95.410156\" xlink:href=\"#DejaVuSans-50\"/>\n       <use x=\"159.033203\" xlink:href=\"#DejaVuSans-53\"/>\n      </g>\n     </g>\n    </g>\n    <g id=\"ytick_5\">\n     <g id=\"line2d_25\">\n      <path clip-path=\"url(#p2d242afeed)\" d=\"M 50.14375 11.620961 \nL 329.14375 11.620961 \n\" style=\"fill:none;stroke:#b0b0b0;stroke-linecap:square;stroke-width:0.8;\"/>\n     </g>\n     <g id=\"line2d_26\">\n      <g>\n       <use style=\"stroke:#000000;stroke-width:0.8;\" x=\"50.14375\" xlink:href=\"#m3b14cfbe9d\" y=\"11.620961\"/>\n      </g>\n     </g>\n     <g id=\"text_14\">\n      <!-- 1.50 -->\n      <g transform=\"translate(20.878125 15.420179)scale(0.1 -0.1)\">\n       <use xlink:href=\"#DejaVuSans-49\"/>\n       <use x=\"63.623047\" xlink:href=\"#DejaVuSans-46\"/>\n       <use x=\"95.410156\" xlink:href=\"#DejaVuSans-53\"/>\n       <use x=\"159.033203\" xlink:href=\"#DejaVuSans-48\"/>\n      </g>\n     </g>\n    </g>\n    <g id=\"text_15\">\n     <!-- loss -->\n     <defs>\n      <path d=\"M 9.421875 75.984375 \nL 18.40625 75.984375 \nL 18.40625 0 \nL 9.421875 0 \nz\n\" id=\"DejaVuSans-108\"/>\n      <path d=\"M 44.28125 53.078125 \nL 44.28125 44.578125 \nQ 40.484375 46.53125 36.375 47.5 \nQ 32.28125 48.484375 27.875 48.484375 \nQ 21.1875 48.484375 17.84375 46.4375 \nQ 14.5 44.390625 14.5 40.28125 \nQ 14.5 37.15625 16.890625 35.375 \nQ 19.28125 33.59375 26.515625 31.984375 \nL 29.59375 31.296875 \nQ 39.15625 29.25 43.1875 25.515625 \nQ 47.21875 21.78125 47.21875 15.09375 \nQ 47.21875 7.46875 41.1875 3.015625 \nQ 35.15625 -1.421875 24.609375 -1.421875 \nQ 20.21875 -1.421875 15.453125 -0.5625 \nQ 10.6875 0.296875 5.421875 2 \nL 5.421875 11.28125 \nQ 10.40625 8.6875 15.234375 7.390625 \nQ 20.0625 6.109375 24.8125 6.109375 \nQ 31.15625 6.109375 34.5625 8.28125 \nQ 37.984375 10.453125 37.984375 14.40625 \nQ 37.984375 18.0625 35.515625 20.015625 \nQ 33.0625 21.96875 24.703125 23.78125 \nL 21.578125 24.515625 \nQ 13.234375 26.265625 9.515625 29.90625 \nQ 5.8125 33.546875 5.8125 39.890625 \nQ 5.8125 47.609375 11.28125 51.796875 \nQ 16.75 56 26.8125 56 \nQ 31.78125 56 36.171875 55.265625 \nQ 40.578125 54.546875 44.28125 53.078125 \nz\n\" id=\"DejaVuSans-115\"/>\n     </defs>\n     <g transform=\"translate(14.798438 75.944769)rotate(-90)scale(0.1 -0.1)\">\n      <use xlink:href=\"#DejaVuSans-108\"/>\n      <use x=\"27.783203\" xlink:href=\"#DejaVuSans-111\"/>\n      <use x=\"88.964844\" xlink:href=\"#DejaVuSans-115\"/>\n      <use x=\"141.064453\" xlink:href=\"#DejaVuSans-115\"/>\n     </g>\n    </g>\n   </g>\n   <g id=\"line2d_27\">\n    <path clip-path=\"url(#p2d242afeed)\" d=\"M 50.14375 120.002372 \nL 64.827961 114.539299 \nL 79.512171 109.583944 \nL 94.196382 104.319402 \nL 108.880592 101.823599 \nL 123.564803 101.203936 \nL 138.249013 100.681446 \nL 152.933224 97.752963 \nL 167.617434 97.559047 \nL 182.301645 96.925525 \nL 196.985855 97.041152 \nL 211.670066 96.777777 \nL 226.354276 96.652062 \nL 241.038487 96.455818 \nL 255.722697 96.61132 \nL 270.406908 96.46213 \nL 285.091118 96.474206 \nL 299.775329 96.515137 \nL 314.459539 96.502892 \nL 329.14375 96.545965 \n\" style=\"fill:none;stroke:#1f77b4;stroke-linecap:square;stroke-width:1.5;\"/>\n   </g>\n   <g id=\"line2d_28\">\n    <path clip-path=\"url(#p2d242afeed)\" d=\"M 50.14375 12.571542 \nL 64.827961 43.662433 \nL 79.512171 57.529138 \nL 94.196382 74.725027 \nL 108.880592 82.007774 \nL 123.564803 83.421068 \nL 138.249013 84.625985 \nL 152.933224 88.962543 \nL 167.617434 93.647297 \nL 182.301645 94.514759 \nL 196.985855 94.799498 \nL 211.670066 95.4008 \nL 226.354276 96.03558 \nL 241.038487 96.964709 \nL 255.722697 96.199884 \nL 270.406908 96.81996 \nL 285.091118 96.374756 \nL 299.775329 96.268452 \nL 314.459539 96.863876 \nL 329.14375 96.583739 \n\" style=\"fill:none;stroke:#bf00bf;stroke-dasharray:5.55,2.4;stroke-dashoffset:0;stroke-width:1.5;\"/>\n   </g>\n   <g id=\"patch_3\">\n    <path d=\"M 50.14375 125.373913 \nL 50.14375 7.2 \n\" style=\"fill:none;stroke:#000000;stroke-linecap:square;stroke-linejoin:miter;stroke-width:0.8;\"/>\n   </g>\n   <g id=\"patch_4\">\n    <path d=\"M 329.14375 125.373913 \nL 329.14375 7.2 \n\" style=\"fill:none;stroke:#000000;stroke-linecap:square;stroke-linejoin:miter;stroke-width:0.8;\"/>\n   </g>\n   <g id=\"patch_5\">\n    <path d=\"M 50.14375 125.373913 \nL 329.14375 125.373913 \n\" style=\"fill:none;stroke:#000000;stroke-linecap:square;stroke-linejoin:miter;stroke-width:0.8;\"/>\n   </g>\n   <g id=\"patch_6\">\n    <path d=\"M 50.14375 7.2 \nL 329.14375 7.2 \n\" style=\"fill:none;stroke:#000000;stroke-linecap:square;stroke-linejoin:miter;stroke-width:0.8;\"/>\n   </g>\n   <g id=\"legend_1\">\n    <g id=\"patch_7\">\n     <path d=\"M 224.285937 44.55625 \nL 322.14375 44.55625 \nQ 324.14375 44.55625 324.14375 42.55625 \nL 324.14375 14.2 \nQ 324.14375 12.2 322.14375 12.2 \nL 224.285937 12.2 \nQ 222.285937 12.2 222.285937 14.2 \nL 222.285937 42.55625 \nQ 222.285937 44.55625 224.285937 44.55625 \nz\n\" style=\"fill:#ffffff;opacity:0.8;stroke:#cccccc;stroke-linejoin:miter;\"/>\n    </g>\n    <g id=\"line2d_29\">\n     <path d=\"M 226.285937 20.298437 \nL 246.285937 20.298437 \n\" style=\"fill:none;stroke:#1f77b4;stroke-linecap:square;stroke-width:1.5;\"/>\n    </g>\n    <g id=\"line2d_30\"/>\n    <g id=\"text_16\">\n     <!-- discriminator -->\n     <defs>\n      <path d=\"M 45.40625 46.390625 \nL 45.40625 75.984375 \nL 54.390625 75.984375 \nL 54.390625 0 \nL 45.40625 0 \nL 45.40625 8.203125 \nQ 42.578125 3.328125 38.25 0.953125 \nQ 33.9375 -1.421875 27.875 -1.421875 \nQ 17.96875 -1.421875 11.734375 6.484375 \nQ 5.515625 14.40625 5.515625 27.296875 \nQ 5.515625 40.1875 11.734375 48.09375 \nQ 17.96875 56 27.875 56 \nQ 33.9375 56 38.25 53.625 \nQ 42.578125 51.265625 45.40625 46.390625 \nz\nM 14.796875 27.296875 \nQ 14.796875 17.390625 18.875 11.75 \nQ 22.953125 6.109375 30.078125 6.109375 \nQ 37.203125 6.109375 41.296875 11.75 \nQ 45.40625 17.390625 45.40625 27.296875 \nQ 45.40625 37.203125 41.296875 42.84375 \nQ 37.203125 48.484375 30.078125 48.484375 \nQ 22.953125 48.484375 18.875 42.84375 \nQ 14.796875 37.203125 14.796875 27.296875 \nz\n\" id=\"DejaVuSans-100\"/>\n      <path d=\"M 9.421875 54.6875 \nL 18.40625 54.6875 \nL 18.40625 0 \nL 9.421875 0 \nz\nM 9.421875 75.984375 \nL 18.40625 75.984375 \nL 18.40625 64.59375 \nL 9.421875 64.59375 \nz\n\" id=\"DejaVuSans-105\"/>\n      <path d=\"M 41.109375 46.296875 \nQ 39.59375 47.171875 37.8125 47.578125 \nQ 36.03125 48 33.890625 48 \nQ 26.265625 48 22.1875 43.046875 \nQ 18.109375 38.09375 18.109375 28.8125 \nL 18.109375 0 \nL 9.078125 0 \nL 9.078125 54.6875 \nL 18.109375 54.6875 \nL 18.109375 46.1875 \nQ 20.953125 51.171875 25.484375 53.578125 \nQ 30.03125 56 36.53125 56 \nQ 37.453125 56 38.578125 55.875 \nQ 39.703125 55.765625 41.0625 55.515625 \nz\n\" id=\"DejaVuSans-114\"/>\n      <path d=\"M 52 44.1875 \nQ 55.375 50.25 60.0625 53.125 \nQ 64.75 56 71.09375 56 \nQ 79.640625 56 84.28125 50.015625 \nQ 88.921875 44.046875 88.921875 33.015625 \nL 88.921875 0 \nL 79.890625 0 \nL 79.890625 32.71875 \nQ 79.890625 40.578125 77.09375 44.375 \nQ 74.3125 48.1875 68.609375 48.1875 \nQ 61.625 48.1875 57.5625 43.546875 \nQ 53.515625 38.921875 53.515625 30.90625 \nL 53.515625 0 \nL 44.484375 0 \nL 44.484375 32.71875 \nQ 44.484375 40.625 41.703125 44.40625 \nQ 38.921875 48.1875 33.109375 48.1875 \nQ 26.21875 48.1875 22.15625 43.53125 \nQ 18.109375 38.875 18.109375 30.90625 \nL 18.109375 0 \nL 9.078125 0 \nL 9.078125 54.6875 \nL 18.109375 54.6875 \nL 18.109375 46.1875 \nQ 21.1875 51.21875 25.484375 53.609375 \nQ 29.78125 56 35.6875 56 \nQ 41.65625 56 45.828125 52.96875 \nQ 50 49.953125 52 44.1875 \nz\n\" id=\"DejaVuSans-109\"/>\n      <path d=\"M 54.890625 33.015625 \nL 54.890625 0 \nL 45.90625 0 \nL 45.90625 32.71875 \nQ 45.90625 40.484375 42.875 44.328125 \nQ 39.84375 48.1875 33.796875 48.1875 \nQ 26.515625 48.1875 22.3125 43.546875 \nQ 18.109375 38.921875 18.109375 30.90625 \nL 18.109375 0 \nL 9.078125 0 \nL 9.078125 54.6875 \nL 18.109375 54.6875 \nL 18.109375 46.1875 \nQ 21.34375 51.125 25.703125 53.5625 \nQ 30.078125 56 35.796875 56 \nQ 45.21875 56 50.046875 50.171875 \nQ 54.890625 44.34375 54.890625 33.015625 \nz\n\" id=\"DejaVuSans-110\"/>\n      <path d=\"M 34.28125 27.484375 \nQ 23.390625 27.484375 19.1875 25 \nQ 14.984375 22.515625 14.984375 16.5 \nQ 14.984375 11.71875 18.140625 8.90625 \nQ 21.296875 6.109375 26.703125 6.109375 \nQ 34.1875 6.109375 38.703125 11.40625 \nQ 43.21875 16.703125 43.21875 25.484375 \nL 43.21875 27.484375 \nz\nM 52.203125 31.203125 \nL 52.203125 0 \nL 43.21875 0 \nL 43.21875 8.296875 \nQ 40.140625 3.328125 35.546875 0.953125 \nQ 30.953125 -1.421875 24.3125 -1.421875 \nQ 15.921875 -1.421875 10.953125 3.296875 \nQ 6 8.015625 6 15.921875 \nQ 6 25.140625 12.171875 29.828125 \nQ 18.359375 34.515625 30.609375 34.515625 \nL 43.21875 34.515625 \nL 43.21875 35.40625 \nQ 43.21875 41.609375 39.140625 45 \nQ 35.0625 48.390625 27.6875 48.390625 \nQ 23 48.390625 18.546875 47.265625 \nQ 14.109375 46.140625 10.015625 43.890625 \nL 10.015625 52.203125 \nQ 14.9375 54.109375 19.578125 55.046875 \nQ 24.21875 56 28.609375 56 \nQ 40.484375 56 46.34375 49.84375 \nQ 52.203125 43.703125 52.203125 31.203125 \nz\n\" id=\"DejaVuSans-97\"/>\n      <path d=\"M 18.3125 70.21875 \nL 18.3125 54.6875 \nL 36.8125 54.6875 \nL 36.8125 47.703125 \nL 18.3125 47.703125 \nL 18.3125 18.015625 \nQ 18.3125 11.328125 20.140625 9.421875 \nQ 21.96875 7.515625 27.59375 7.515625 \nL 36.8125 7.515625 \nL 36.8125 0 \nL 27.59375 0 \nQ 17.1875 0 13.234375 3.875 \nQ 9.28125 7.765625 9.28125 18.015625 \nL 9.28125 47.703125 \nL 2.6875 47.703125 \nL 2.6875 54.6875 \nL 9.28125 54.6875 \nL 9.28125 70.21875 \nz\n\" id=\"DejaVuSans-116\"/>\n     </defs>\n     <g transform=\"translate(254.285937 23.798437)scale(0.1 -0.1)\">\n      <use xlink:href=\"#DejaVuSans-100\"/>\n      <use x=\"63.476562\" xlink:href=\"#DejaVuSans-105\"/>\n      <use x=\"91.259766\" xlink:href=\"#DejaVuSans-115\"/>\n      <use x=\"143.359375\" xlink:href=\"#DejaVuSans-99\"/>\n      <use x=\"198.339844\" xlink:href=\"#DejaVuSans-114\"/>\n      <use x=\"239.453125\" xlink:href=\"#DejaVuSans-105\"/>\n      <use x=\"267.236328\" xlink:href=\"#DejaVuSans-109\"/>\n      <use x=\"364.648438\" xlink:href=\"#DejaVuSans-105\"/>\n      <use x=\"392.431641\" xlink:href=\"#DejaVuSans-110\"/>\n      <use x=\"455.810547\" xlink:href=\"#DejaVuSans-97\"/>\n      <use x=\"517.089844\" xlink:href=\"#DejaVuSans-116\"/>\n      <use x=\"556.298828\" xlink:href=\"#DejaVuSans-111\"/>\n      <use x=\"617.480469\" xlink:href=\"#DejaVuSans-114\"/>\n     </g>\n    </g>\n    <g id=\"line2d_31\">\n     <path d=\"M 226.285937 34.976562 \nL 246.285937 34.976562 \n\" style=\"fill:none;stroke:#bf00bf;stroke-dasharray:5.55,2.4;stroke-dashoffset:0;stroke-width:1.5;\"/>\n    </g>\n    <g id=\"line2d_32\"/>\n    <g id=\"text_17\">\n     <!-- generator -->\n     <defs>\n      <path d=\"M 45.40625 27.984375 \nQ 45.40625 37.75 41.375 43.109375 \nQ 37.359375 48.484375 30.078125 48.484375 \nQ 22.859375 48.484375 18.828125 43.109375 \nQ 14.796875 37.75 14.796875 27.984375 \nQ 14.796875 18.265625 18.828125 12.890625 \nQ 22.859375 7.515625 30.078125 7.515625 \nQ 37.359375 7.515625 41.375 12.890625 \nQ 45.40625 18.265625 45.40625 27.984375 \nz\nM 54.390625 6.78125 \nQ 54.390625 -7.171875 48.1875 -13.984375 \nQ 42 -20.796875 29.203125 -20.796875 \nQ 24.46875 -20.796875 20.265625 -20.09375 \nQ 16.0625 -19.390625 12.109375 -17.921875 \nL 12.109375 -9.1875 \nQ 16.0625 -11.328125 19.921875 -12.34375 \nQ 23.78125 -13.375 27.78125 -13.375 \nQ 36.625 -13.375 41.015625 -8.765625 \nQ 45.40625 -4.15625 45.40625 5.171875 \nL 45.40625 9.625 \nQ 42.625 4.78125 38.28125 2.390625 \nQ 33.9375 0 27.875 0 \nQ 17.828125 0 11.671875 7.65625 \nQ 5.515625 15.328125 5.515625 27.984375 \nQ 5.515625 40.671875 11.671875 48.328125 \nQ 17.828125 56 27.875 56 \nQ 33.9375 56 38.28125 53.609375 \nQ 42.625 51.21875 45.40625 46.390625 \nL 45.40625 54.6875 \nL 54.390625 54.6875 \nz\n\" id=\"DejaVuSans-103\"/>\n     </defs>\n     <g transform=\"translate(254.285937 38.476562)scale(0.1 -0.1)\">\n      <use xlink:href=\"#DejaVuSans-103\"/>\n      <use x=\"63.476562\" xlink:href=\"#DejaVuSans-101\"/>\n      <use x=\"125\" xlink:href=\"#DejaVuSans-110\"/>\n      <use x=\"188.378906\" xlink:href=\"#DejaVuSans-101\"/>\n      <use x=\"249.902344\" xlink:href=\"#DejaVuSans-114\"/>\n      <use x=\"291.015625\" xlink:href=\"#DejaVuSans-97\"/>\n      <use x=\"352.294922\" xlink:href=\"#DejaVuSans-116\"/>\n      <use x=\"391.503906\" xlink:href=\"#DejaVuSans-111\"/>\n      <use x=\"452.685547\" xlink:href=\"#DejaVuSans-114\"/>\n     </g>\n    </g>\n   </g>\n  </g>\n  <g id=\"axes_2\">\n   <g id=\"patch_8\">\n    <path d=\"M 50.14375 279 \nL 329.14375 279 \nL 329.14375 160.826087 \nL 50.14375 160.826087 \nz\n\" style=\"fill:#ffffff;\"/>\n   </g>\n   <g id=\"PathCollection_1\">\n    <defs>\n     <path d=\"M 0 3 \nC 0.795609 3 1.55874 2.683901 2.12132 2.12132 \nC 2.683901 1.55874 3 0.795609 3 0 \nC 3 -0.795609 2.683901 -1.55874 2.12132 -2.12132 \nC 1.55874 -2.683901 0.795609 -3 0 -3 \nC -0.795609 -3 -1.55874 -2.683901 -2.12132 -2.12132 \nC -2.683901 -1.55874 -3 -0.795609 -3 0 \nC -3 0.795609 -2.683901 1.55874 -2.12132 2.12132 \nC -1.55874 2.683901 -0.795609 3 0 3 \nz\n\" id=\"m751ec1b6cd\" style=\"stroke:#1f77b4;\"/>\n    </defs>\n    <g clip-path=\"url(#p4d0c24cf03)\">\n     <use style=\"fill:#1f77b4;stroke:#1f77b4;\" x=\"261.00014\" xlink:href=\"#m751ec1b6cd\" y=\"181.28434\"/>\n     <use style=\"fill:#1f77b4;stroke:#1f77b4;\" x=\"196.673173\" xlink:href=\"#m751ec1b6cd\" y=\"210.85911\"/>\n     <use style=\"fill:#1f77b4;stroke:#1f77b4;\" x=\"210.186665\" xlink:href=\"#m751ec1b6cd\" y=\"206.750767\"/>\n     <use style=\"fill:#1f77b4;stroke:#1f77b4;\" x=\"217.469597\" xlink:href=\"#m751ec1b6cd\" y=\"204.840743\"/>\n     <use style=\"fill:#1f77b4;stroke:#1f77b4;\" x=\"256.901619\" xlink:href=\"#m751ec1b6cd\" y=\"197.900952\"/>\n     <use style=\"fill:#1f77b4;stroke:#1f77b4;\" x=\"97.330396\" xlink:href=\"#m751ec1b6cd\" y=\"242.864525\"/>\n     <use style=\"fill:#1f77b4;stroke:#1f77b4;\" x=\"82.031824\" xlink:href=\"#m751ec1b6cd\" y=\"262.402221\"/>\n     <use style=\"fill:#1f77b4;stroke:#1f77b4;\" x=\"152.477451\" xlink:href=\"#m751ec1b6cd\" y=\"246.452226\"/>\n     <use style=\"fill:#1f77b4;stroke:#1f77b4;\" x=\"187.266237\" xlink:href=\"#m751ec1b6cd\" y=\"214.173561\"/>\n     <use style=\"fill:#1f77b4;stroke:#1f77b4;\" x=\"62.902001\" xlink:href=\"#m751ec1b6cd\" y=\"249.140466\"/>\n     <use style=\"fill:#1f77b4;stroke:#1f77b4;\" x=\"63.915512\" xlink:href=\"#m751ec1b6cd\" y=\"257.909156\"/>\n     <use style=\"fill:#1f77b4;stroke:#1f77b4;\" x=\"155.419922\" xlink:href=\"#m751ec1b6cd\" y=\"233.668309\"/>\n     <use style=\"fill:#1f77b4;stroke:#1f77b4;\" x=\"177.280601\" xlink:href=\"#m751ec1b6cd\" y=\"225.955273\"/>\n     <use style=\"fill:#1f77b4;stroke:#1f77b4;\" x=\"161.499841\" xlink:href=\"#m751ec1b6cd\" y=\"228.624789\"/>\n     <use style=\"fill:#1f77b4;stroke:#1f77b4;\" x=\"137.940993\" xlink:href=\"#m751ec1b6cd\" y=\"234.555346\"/>\n     <use style=\"fill:#1f77b4;stroke:#1f77b4;\" x=\"159.621839\" xlink:href=\"#m751ec1b6cd\" y=\"225.849184\"/>\n     <use style=\"fill:#1f77b4;stroke:#1f77b4;\" x=\"186.902314\" xlink:href=\"#m751ec1b6cd\" y=\"214.124131\"/>\n     <use style=\"fill:#1f77b4;stroke:#1f77b4;\" x=\"244.38289\" xlink:href=\"#m751ec1b6cd\" y=\"213.035243\"/>\n     <use style=\"fill:#1f77b4;stroke:#1f77b4;\" x=\"189.774153\" xlink:href=\"#m751ec1b6cd\" y=\"209.74813\"/>\n     <use style=\"fill:#1f77b4;stroke:#1f77b4;\" x=\"182.15561\" xlink:href=\"#m751ec1b6cd\" y=\"223.614478\"/>\n     <use style=\"fill:#1f77b4;stroke:#1f77b4;\" x=\"204.394132\" xlink:href=\"#m751ec1b6cd\" y=\"199.163508\"/>\n     <use style=\"fill:#1f77b4;stroke:#1f77b4;\" x=\"173.634278\" xlink:href=\"#m751ec1b6cd\" y=\"230.381917\"/>\n     <use style=\"fill:#1f77b4;stroke:#1f77b4;\" x=\"116.768009\" xlink:href=\"#m751ec1b6cd\" y=\"244.932287\"/>\n     <use style=\"fill:#1f77b4;stroke:#1f77b4;\" x=\"137.965613\" xlink:href=\"#m751ec1b6cd\" y=\"253.115196\"/>\n     <use style=\"fill:#1f77b4;stroke:#1f77b4;\" x=\"128.384039\" xlink:href=\"#m751ec1b6cd\" y=\"244.536478\"/>\n     <use style=\"fill:#1f77b4;stroke:#1f77b4;\" x=\"193.400616\" xlink:href=\"#m751ec1b6cd\" y=\"209.728568\"/>\n     <use style=\"fill:#1f77b4;stroke:#1f77b4;\" x=\"94.508974\" xlink:href=\"#m751ec1b6cd\" y=\"255.466848\"/>\n     <use style=\"fill:#1f77b4;stroke:#1f77b4;\" x=\"111.288157\" xlink:href=\"#m751ec1b6cd\" y=\"246.129853\"/>\n     <use style=\"fill:#1f77b4;stroke:#1f77b4;\" x=\"112.026881\" xlink:href=\"#m751ec1b6cd\" y=\"244.882965\"/>\n     <use style=\"fill:#1f77b4;stroke:#1f77b4;\" x=\"97.755643\" xlink:href=\"#m751ec1b6cd\" y=\"249.276873\"/>\n     <use style=\"fill:#1f77b4;stroke:#1f77b4;\" x=\"86.234486\" xlink:href=\"#m751ec1b6cd\" y=\"247.460351\"/>\n     <use style=\"fill:#1f77b4;stroke:#1f77b4;\" x=\"129.064823\" xlink:href=\"#m751ec1b6cd\" y=\"228.204171\"/>\n     <use style=\"fill:#1f77b4;stroke:#1f77b4;\" x=\"229.439381\" xlink:href=\"#m751ec1b6cd\" y=\"211.264841\"/>\n     <use style=\"fill:#1f77b4;stroke:#1f77b4;\" x=\"205.285091\" xlink:href=\"#m751ec1b6cd\" y=\"211.501183\"/>\n     <use style=\"fill:#1f77b4;stroke:#1f77b4;\" x=\"132.974656\" xlink:href=\"#m751ec1b6cd\" y=\"237.019458\"/>\n     <use style=\"fill:#1f77b4;stroke:#1f77b4;\" x=\"212.977639\" xlink:href=\"#m751ec1b6cd\" y=\"199.145231\"/>\n     <use style=\"fill:#1f77b4;stroke:#1f77b4;\" x=\"114.651546\" xlink:href=\"#m751ec1b6cd\" y=\"242.866328\"/>\n     <use style=\"fill:#1f77b4;stroke:#1f77b4;\" x=\"140.844761\" xlink:href=\"#m751ec1b6cd\" y=\"243.502726\"/>\n     <use style=\"fill:#1f77b4;stroke:#1f77b4;\" x=\"182.64171\" xlink:href=\"#m751ec1b6cd\" y=\"223.012575\"/>\n     <use style=\"fill:#1f77b4;stroke:#1f77b4;\" x=\"213.740875\" xlink:href=\"#m751ec1b6cd\" y=\"217.533882\"/>\n     <use style=\"fill:#1f77b4;stroke:#1f77b4;\" x=\"101.02928\" xlink:href=\"#m751ec1b6cd\" y=\"258.578682\"/>\n     <use style=\"fill:#1f77b4;stroke:#1f77b4;\" x=\"137.940106\" xlink:href=\"#m751ec1b6cd\" y=\"236.47727\"/>\n     <use style=\"fill:#1f77b4;stroke:#1f77b4;\" x=\"261.225019\" xlink:href=\"#m751ec1b6cd\" y=\"194.596205\"/>\n     <use style=\"fill:#1f77b4;stroke:#1f77b4;\" x=\"179.550448\" xlink:href=\"#m751ec1b6cd\" y=\"225.482153\"/>\n     <use style=\"fill:#1f77b4;stroke:#1f77b4;\" x=\"194.590939\" xlink:href=\"#m751ec1b6cd\" y=\"222.56595\"/>\n     <use style=\"fill:#1f77b4;stroke:#1f77b4;\" x=\"199.618205\" xlink:href=\"#m751ec1b6cd\" y=\"201.142415\"/>\n     <use style=\"fill:#1f77b4;stroke:#1f77b4;\" x=\"144.945587\" xlink:href=\"#m751ec1b6cd\" y=\"244.041606\"/>\n     <use style=\"fill:#1f77b4;stroke:#1f77b4;\" x=\"85.734295\" xlink:href=\"#m751ec1b6cd\" y=\"273.628458\"/>\n     <use style=\"fill:#1f77b4;stroke:#1f77b4;\" x=\"199.708662\" xlink:href=\"#m751ec1b6cd\" y=\"221.506196\"/>\n     <use style=\"fill:#1f77b4;stroke:#1f77b4;\" x=\"145.752958\" xlink:href=\"#m751ec1b6cd\" y=\"240.086602\"/>\n     <use style=\"fill:#1f77b4;stroke:#1f77b4;\" x=\"181.273958\" xlink:href=\"#m751ec1b6cd\" y=\"224.67264\"/>\n     <use style=\"fill:#1f77b4;stroke:#1f77b4;\" x=\"96.350105\" xlink:href=\"#m751ec1b6cd\" y=\"246.120272\"/>\n     <use style=\"fill:#1f77b4;stroke:#1f77b4;\" x=\"182.126851\" xlink:href=\"#m751ec1b6cd\" y=\"222.751185\"/>\n     <use style=\"fill:#1f77b4;stroke:#1f77b4;\" x=\"236.350623\" xlink:href=\"#m751ec1b6cd\" y=\"205.985518\"/>\n     <use style=\"fill:#1f77b4;stroke:#1f77b4;\" x=\"177.667038\" xlink:href=\"#m751ec1b6cd\" y=\"226.519178\"/>\n     <use style=\"fill:#1f77b4;stroke:#1f77b4;\" x=\"180.718885\" xlink:href=\"#m751ec1b6cd\" y=\"214.22391\"/>\n     <use style=\"fill:#1f77b4;stroke:#1f77b4;\" x=\"222.906042\" xlink:href=\"#m751ec1b6cd\" y=\"224.010281\"/>\n     <use style=\"fill:#1f77b4;stroke:#1f77b4;\" x=\"104.34256\" xlink:href=\"#m751ec1b6cd\" y=\"236.026706\"/>\n     <use style=\"fill:#1f77b4;stroke:#1f77b4;\" x=\"161.939274\" xlink:href=\"#m751ec1b6cd\" y=\"231.048602\"/>\n     <use style=\"fill:#1f77b4;stroke:#1f77b4;\" x=\"151.691195\" xlink:href=\"#m751ec1b6cd\" y=\"237.139879\"/>\n     <use style=\"fill:#1f77b4;stroke:#1f77b4;\" x=\"163.163471\" xlink:href=\"#m751ec1b6cd\" y=\"239.213687\"/>\n     <use style=\"fill:#1f77b4;stroke:#1f77b4;\" x=\"182.730001\" xlink:href=\"#m751ec1b6cd\" y=\"224.074605\"/>\n     <use style=\"fill:#1f77b4;stroke:#1f77b4;\" x=\"199.216155\" xlink:href=\"#m751ec1b6cd\" y=\"215.268915\"/>\n     <use style=\"fill:#1f77b4;stroke:#1f77b4;\" x=\"199.916243\" xlink:href=\"#m751ec1b6cd\" y=\"213.730518\"/>\n     <use style=\"fill:#1f77b4;stroke:#1f77b4;\" x=\"182.750081\" xlink:href=\"#m751ec1b6cd\" y=\"207.857729\"/>\n     <use style=\"fill:#1f77b4;stroke:#1f77b4;\" x=\"212.115932\" xlink:href=\"#m751ec1b6cd\" y=\"206.6619\"/>\n     <use style=\"fill:#1f77b4;stroke:#1f77b4;\" x=\"173.884827\" xlink:href=\"#m751ec1b6cd\" y=\"234.087074\"/>\n     <use style=\"fill:#1f77b4;stroke:#1f77b4;\" x=\"202.228616\" xlink:href=\"#m751ec1b6cd\" y=\"211.492155\"/>\n     <use style=\"fill:#1f77b4;stroke:#1f77b4;\" x=\"124.351103\" xlink:href=\"#m751ec1b6cd\" y=\"241.369329\"/>\n     <use style=\"fill:#1f77b4;stroke:#1f77b4;\" x=\"153.153195\" xlink:href=\"#m751ec1b6cd\" y=\"228.92495\"/>\n     <use style=\"fill:#1f77b4;stroke:#1f77b4;\" x=\"204.415118\" xlink:href=\"#m751ec1b6cd\" y=\"207.992849\"/>\n     <use style=\"fill:#1f77b4;stroke:#1f77b4;\" x=\"183.587209\" xlink:href=\"#m751ec1b6cd\" y=\"224.856832\"/>\n     <use style=\"fill:#1f77b4;stroke:#1f77b4;\" x=\"196.876025\" xlink:href=\"#m751ec1b6cd\" y=\"210.715036\"/>\n     <use style=\"fill:#1f77b4;stroke:#1f77b4;\" x=\"119.426055\" xlink:href=\"#m751ec1b6cd\" y=\"250.058922\"/>\n     <use style=\"fill:#1f77b4;stroke:#1f77b4;\" x=\"149.926312\" xlink:href=\"#m751ec1b6cd\" y=\"240.103316\"/>\n     <use style=\"fill:#1f77b4;stroke:#1f77b4;\" x=\"214.294028\" xlink:href=\"#m751ec1b6cd\" y=\"193.188685\"/>\n     <use style=\"fill:#1f77b4;stroke:#1f77b4;\" x=\"137.150662\" xlink:href=\"#m751ec1b6cd\" y=\"230.252136\"/>\n     <use style=\"fill:#1f77b4;stroke:#1f77b4;\" x=\"187.613908\" xlink:href=\"#m751ec1b6cd\" y=\"205.761006\"/>\n     <use style=\"fill:#1f77b4;stroke:#1f77b4;\" x=\"210.956483\" xlink:href=\"#m751ec1b6cd\" y=\"215.102278\"/>\n     <use style=\"fill:#1f77b4;stroke:#1f77b4;\" x=\"115.402918\" xlink:href=\"#m751ec1b6cd\" y=\"239.336427\"/>\n     <use style=\"fill:#1f77b4;stroke:#1f77b4;\" x=\"156.674085\" xlink:href=\"#m751ec1b6cd\" y=\"226.313635\"/>\n     <use style=\"fill:#1f77b4;stroke:#1f77b4;\" x=\"205.010988\" xlink:href=\"#m751ec1b6cd\" y=\"215.901245\"/>\n     <use style=\"fill:#1f77b4;stroke:#1f77b4;\" x=\"67.959425\" xlink:href=\"#m751ec1b6cd\" y=\"255.537771\"/>\n     <use style=\"fill:#1f77b4;stroke:#1f77b4;\" x=\"203.230005\" xlink:href=\"#m751ec1b6cd\" y=\"210.079287\"/>\n     <use style=\"fill:#1f77b4;stroke:#1f77b4;\" x=\"247.693171\" xlink:href=\"#m751ec1b6cd\" y=\"187.583894\"/>\n     <use style=\"fill:#1f77b4;stroke:#1f77b4;\" x=\"179.368459\" xlink:href=\"#m751ec1b6cd\" y=\"222.271065\"/>\n     <use style=\"fill:#1f77b4;stroke:#1f77b4;\" x=\"166.785115\" xlink:href=\"#m751ec1b6cd\" y=\"223.759505\"/>\n     <use style=\"fill:#1f77b4;stroke:#1f77b4;\" x=\"81.861195\" xlink:href=\"#m751ec1b6cd\" y=\"271.817589\"/>\n     <use style=\"fill:#1f77b4;stroke:#1f77b4;\" x=\"129.245682\" xlink:href=\"#m751ec1b6cd\" y=\"238.129994\"/>\n     <use style=\"fill:#1f77b4;stroke:#1f77b4;\" x=\"213.506225\" xlink:href=\"#m751ec1b6cd\" y=\"212.299657\"/>\n     <use style=\"fill:#1f77b4;stroke:#1f77b4;\" x=\"140.082487\" xlink:href=\"#m751ec1b6cd\" y=\"228.037414\"/>\n     <use style=\"fill:#1f77b4;stroke:#1f77b4;\" x=\"243.761663\" xlink:href=\"#m751ec1b6cd\" y=\"201.723911\"/>\n     <use style=\"fill:#1f77b4;stroke:#1f77b4;\" x=\"144.565816\" xlink:href=\"#m751ec1b6cd\" y=\"231.117747\"/>\n     <use style=\"fill:#1f77b4;stroke:#1f77b4;\" x=\"77.477104\" xlink:href=\"#m751ec1b6cd\" y=\"255.804669\"/>\n     <use style=\"fill:#1f77b4;stroke:#1f77b4;\" x=\"191.026768\" xlink:href=\"#m751ec1b6cd\" y=\"205.345808\"/>\n     <use style=\"fill:#1f77b4;stroke:#1f77b4;\" x=\"198.546521\" xlink:href=\"#m751ec1b6cd\" y=\"205.145597\"/>\n     <use style=\"fill:#1f77b4;stroke:#1f77b4;\" x=\"316.461932\" xlink:href=\"#m751ec1b6cd\" y=\"166.197628\"/>\n     <use style=\"fill:#1f77b4;stroke:#1f77b4;\" x=\"98.686855\" xlink:href=\"#m751ec1b6cd\" y=\"241.803753\"/>\n     <use style=\"fill:#1f77b4;stroke:#1f77b4;\" x=\"257.214963\" xlink:href=\"#m751ec1b6cd\" y=\"198.067784\"/>\n     <use style=\"fill:#1f77b4;stroke:#1f77b4;\" x=\"124.728389\" xlink:href=\"#m751ec1b6cd\" y=\"226.711006\"/>\n    </g>\n   </g>\n   <g id=\"PathCollection_2\">\n    <defs>\n     <path d=\"M 0 3 \nC 0.795609 3 1.55874 2.683901 2.12132 2.12132 \nC 2.683901 1.55874 3 0.795609 3 0 \nC 3 -0.795609 2.683901 -1.55874 2.12132 -2.12132 \nC 1.55874 -2.683901 0.795609 -3 0 -3 \nC -0.795609 -3 -1.55874 -2.683901 -2.12132 -2.12132 \nC -2.683901 -1.55874 -3 -0.795609 -3 0 \nC -3 0.795609 -2.683901 1.55874 -2.12132 2.12132 \nC -1.55874 2.683901 -0.795609 3 0 3 \nz\n\" id=\"ma1c3b07b11\" style=\"stroke:#ff7f0e;\"/>\n    </defs>\n    <g clip-path=\"url(#p4d0c24cf03)\">\n     <use style=\"fill:#ff7f0e;stroke:#ff7f0e;\" x=\"161.511722\" xlink:href=\"#ma1c3b07b11\" y=\"232.435955\"/>\n     <use style=\"fill:#ff7f0e;stroke:#ff7f0e;\" x=\"119.485258\" xlink:href=\"#ma1c3b07b11\" y=\"238.861161\"/>\n     <use style=\"fill:#ff7f0e;stroke:#ff7f0e;\" x=\"123.997665\" xlink:href=\"#ma1c3b07b11\" y=\"240.203675\"/>\n     <use style=\"fill:#ff7f0e;stroke:#ff7f0e;\" x=\"208.368809\" xlink:href=\"#ma1c3b07b11\" y=\"212.199508\"/>\n     <use style=\"fill:#ff7f0e;stroke:#ff7f0e;\" x=\"182.406668\" xlink:href=\"#ma1c3b07b11\" y=\"215.899743\"/>\n     <use style=\"fill:#ff7f0e;stroke:#ff7f0e;\" x=\"90.231399\" xlink:href=\"#ma1c3b07b11\" y=\"255.053312\"/>\n     <use style=\"fill:#ff7f0e;stroke:#ff7f0e;\" x=\"109.342424\" xlink:href=\"#ma1c3b07b11\" y=\"242.205406\"/>\n     <use style=\"fill:#ff7f0e;stroke:#ff7f0e;\" x=\"165.572256\" xlink:href=\"#ma1c3b07b11\" y=\"215.247744\"/>\n     <use style=\"fill:#ff7f0e;stroke:#ff7f0e;\" x=\"127.308782\" xlink:href=\"#ma1c3b07b11\" y=\"243.237449\"/>\n     <use style=\"fill:#ff7f0e;stroke:#ff7f0e;\" x=\"229.47156\" xlink:href=\"#ma1c3b07b11\" y=\"213.562827\"/>\n     <use style=\"fill:#ff7f0e;stroke:#ff7f0e;\" x=\"199.256291\" xlink:href=\"#ma1c3b07b11\" y=\"202.238802\"/>\n     <use style=\"fill:#ff7f0e;stroke:#ff7f0e;\" x=\"190.402744\" xlink:href=\"#ma1c3b07b11\" y=\"217.446645\"/>\n     <use style=\"fill:#ff7f0e;stroke:#ff7f0e;\" x=\"185.222506\" xlink:href=\"#ma1c3b07b11\" y=\"214.710323\"/>\n     <use style=\"fill:#ff7f0e;stroke:#ff7f0e;\" x=\"92.786111\" xlink:href=\"#ma1c3b07b11\" y=\"246.377238\"/>\n     <use style=\"fill:#ff7f0e;stroke:#ff7f0e;\" x=\"177.066618\" xlink:href=\"#ma1c3b07b11\" y=\"219.22134\"/>\n     <use style=\"fill:#ff7f0e;stroke:#ff7f0e;\" x=\"177.654261\" xlink:href=\"#ma1c3b07b11\" y=\"221.388388\"/>\n     <use style=\"fill:#ff7f0e;stroke:#ff7f0e;\" x=\"131.061664\" xlink:href=\"#ma1c3b07b11\" y=\"236.361199\"/>\n     <use style=\"fill:#ff7f0e;stroke:#ff7f0e;\" x=\"193.788865\" xlink:href=\"#ma1c3b07b11\" y=\"218.270665\"/>\n     <use style=\"fill:#ff7f0e;stroke:#ff7f0e;\" x=\"121.94644\" xlink:href=\"#ma1c3b07b11\" y=\"241.486324\"/>\n     <use style=\"fill:#ff7f0e;stroke:#ff7f0e;\" x=\"201.685647\" xlink:href=\"#ma1c3b07b11\" y=\"222.373902\"/>\n     <use style=\"fill:#ff7f0e;stroke:#ff7f0e;\" x=\"167.380476\" xlink:href=\"#ma1c3b07b11\" y=\"225.664775\"/>\n     <use style=\"fill:#ff7f0e;stroke:#ff7f0e;\" x=\"200.699569\" xlink:href=\"#ma1c3b07b11\" y=\"217.498046\"/>\n     <use style=\"fill:#ff7f0e;stroke:#ff7f0e;\" x=\"141.29486\" xlink:href=\"#ma1c3b07b11\" y=\"242.835868\"/>\n     <use style=\"fill:#ff7f0e;stroke:#ff7f0e;\" x=\"164.928544\" xlink:href=\"#ma1c3b07b11\" y=\"226.503067\"/>\n     <use style=\"fill:#ff7f0e;stroke:#ff7f0e;\" x=\"138.67655\" xlink:href=\"#ma1c3b07b11\" y=\"239.48625\"/>\n     <use style=\"fill:#ff7f0e;stroke:#ff7f0e;\" x=\"184.75625\" xlink:href=\"#ma1c3b07b11\" y=\"216.446145\"/>\n     <use style=\"fill:#ff7f0e;stroke:#ff7f0e;\" x=\"174.129662\" xlink:href=\"#ma1c3b07b11\" y=\"216.290127\"/>\n     <use style=\"fill:#ff7f0e;stroke:#ff7f0e;\" x=\"179.894174\" xlink:href=\"#ma1c3b07b11\" y=\"224.723765\"/>\n     <use style=\"fill:#ff7f0e;stroke:#ff7f0e;\" x=\"224.363166\" xlink:href=\"#ma1c3b07b11\" y=\"205.485163\"/>\n     <use style=\"fill:#ff7f0e;stroke:#ff7f0e;\" x=\"256.714269\" xlink:href=\"#ma1c3b07b11\" y=\"197.825539\"/>\n     <use style=\"fill:#ff7f0e;stroke:#ff7f0e;\" x=\"192.01091\" xlink:href=\"#ma1c3b07b11\" y=\"225.438084\"/>\n     <use style=\"fill:#ff7f0e;stroke:#ff7f0e;\" x=\"240.428281\" xlink:href=\"#ma1c3b07b11\" y=\"203.7443\"/>\n     <use style=\"fill:#ff7f0e;stroke:#ff7f0e;\" x=\"170.169155\" xlink:href=\"#ma1c3b07b11\" y=\"220.604082\"/>\n     <use style=\"fill:#ff7f0e;stroke:#ff7f0e;\" x=\"210.593948\" xlink:href=\"#ma1c3b07b11\" y=\"215.495819\"/>\n     <use style=\"fill:#ff7f0e;stroke:#ff7f0e;\" x=\"151.821715\" xlink:href=\"#ma1c3b07b11\" y=\"223.490374\"/>\n     <use style=\"fill:#ff7f0e;stroke:#ff7f0e;\" x=\"151.63035\" xlink:href=\"#ma1c3b07b11\" y=\"227.246632\"/>\n     <use style=\"fill:#ff7f0e;stroke:#ff7f0e;\" x=\"146.184772\" xlink:href=\"#ma1c3b07b11\" y=\"242.297274\"/>\n     <use style=\"fill:#ff7f0e;stroke:#ff7f0e;\" x=\"210.577327\" xlink:href=\"#ma1c3b07b11\" y=\"202.388887\"/>\n     <use style=\"fill:#ff7f0e;stroke:#ff7f0e;\" x=\"213.29931\" xlink:href=\"#ma1c3b07b11\" y=\"201.156053\"/>\n     <use style=\"fill:#ff7f0e;stroke:#ff7f0e;\" x=\"91.96295\" xlink:href=\"#ma1c3b07b11\" y=\"252.768296\"/>\n     <use style=\"fill:#ff7f0e;stroke:#ff7f0e;\" x=\"178.54156\" xlink:href=\"#ma1c3b07b11\" y=\"219.656429\"/>\n     <use style=\"fill:#ff7f0e;stroke:#ff7f0e;\" x=\"93.607463\" xlink:href=\"#ma1c3b07b11\" y=\"255.309356\"/>\n     <use style=\"fill:#ff7f0e;stroke:#ff7f0e;\" x=\"219.838828\" xlink:href=\"#ma1c3b07b11\" y=\"198.428271\"/>\n     <use style=\"fill:#ff7f0e;stroke:#ff7f0e;\" x=\"82.887597\" xlink:href=\"#ma1c3b07b11\" y=\"260.330683\"/>\n     <use style=\"fill:#ff7f0e;stroke:#ff7f0e;\" x=\"66.189864\" xlink:href=\"#ma1c3b07b11\" y=\"254.060916\"/>\n     <use style=\"fill:#ff7f0e;stroke:#ff7f0e;\" x=\"198.442269\" xlink:href=\"#ma1c3b07b11\" y=\"206.695682\"/>\n     <use style=\"fill:#ff7f0e;stroke:#ff7f0e;\" x=\"117.572652\" xlink:href=\"#ma1c3b07b11\" y=\"246.402693\"/>\n     <use style=\"fill:#ff7f0e;stroke:#ff7f0e;\" x=\"89.698901\" xlink:href=\"#ma1c3b07b11\" y=\"246.433195\"/>\n     <use style=\"fill:#ff7f0e;stroke:#ff7f0e;\" x=\"84.492226\" xlink:href=\"#ma1c3b07b11\" y=\"268.832835\"/>\n     <use style=\"fill:#ff7f0e;stroke:#ff7f0e;\" x=\"184.775602\" xlink:href=\"#ma1c3b07b11\" y=\"211.513257\"/>\n     <use style=\"fill:#ff7f0e;stroke:#ff7f0e;\" x=\"73.978401\" xlink:href=\"#ma1c3b07b11\" y=\"252.788184\"/>\n     <use style=\"fill:#ff7f0e;stroke:#ff7f0e;\" x=\"149.453322\" xlink:href=\"#ma1c3b07b11\" y=\"237.285876\"/>\n     <use style=\"fill:#ff7f0e;stroke:#ff7f0e;\" x=\"225.79758\" xlink:href=\"#ma1c3b07b11\" y=\"200.446691\"/>\n     <use style=\"fill:#ff7f0e;stroke:#ff7f0e;\" x=\"212.197547\" xlink:href=\"#ma1c3b07b11\" y=\"207.547543\"/>\n     <use style=\"fill:#ff7f0e;stroke:#ff7f0e;\" x=\"206.040834\" xlink:href=\"#ma1c3b07b11\" y=\"213.229852\"/>\n     <use style=\"fill:#ff7f0e;stroke:#ff7f0e;\" x=\"133.168229\" xlink:href=\"#ma1c3b07b11\" y=\"234.543681\"/>\n     <use style=\"fill:#ff7f0e;stroke:#ff7f0e;\" x=\"62.825568\" xlink:href=\"#ma1c3b07b11\" y=\"263.152977\"/>\n     <use style=\"fill:#ff7f0e;stroke:#ff7f0e;\" x=\"217.073675\" xlink:href=\"#ma1c3b07b11\" y=\"208.145193\"/>\n     <use style=\"fill:#ff7f0e;stroke:#ff7f0e;\" x=\"113.599911\" xlink:href=\"#ma1c3b07b11\" y=\"241.89312\"/>\n     <use style=\"fill:#ff7f0e;stroke:#ff7f0e;\" x=\"130.921453\" xlink:href=\"#ma1c3b07b11\" y=\"235.838319\"/>\n     <use style=\"fill:#ff7f0e;stroke:#ff7f0e;\" x=\"184.565827\" xlink:href=\"#ma1c3b07b11\" y=\"230.982157\"/>\n     <use style=\"fill:#ff7f0e;stroke:#ff7f0e;\" x=\"225.710514\" xlink:href=\"#ma1c3b07b11\" y=\"209.893655\"/>\n     <use style=\"fill:#ff7f0e;stroke:#ff7f0e;\" x=\"154.254908\" xlink:href=\"#ma1c3b07b11\" y=\"229.526168\"/>\n     <use style=\"fill:#ff7f0e;stroke:#ff7f0e;\" x=\"121.523519\" xlink:href=\"#ma1c3b07b11\" y=\"238.594428\"/>\n     <use style=\"fill:#ff7f0e;stroke:#ff7f0e;\" x=\"107.39863\" xlink:href=\"#ma1c3b07b11\" y=\"240.153232\"/>\n     <use style=\"fill:#ff7f0e;stroke:#ff7f0e;\" x=\"215.552486\" xlink:href=\"#ma1c3b07b11\" y=\"210.030502\"/>\n     <use style=\"fill:#ff7f0e;stroke:#ff7f0e;\" x=\"169.316726\" xlink:href=\"#ma1c3b07b11\" y=\"224.621228\"/>\n     <use style=\"fill:#ff7f0e;stroke:#ff7f0e;\" x=\"83.466728\" xlink:href=\"#ma1c3b07b11\" y=\"254.193669\"/>\n     <use style=\"fill:#ff7f0e;stroke:#ff7f0e;\" x=\"157.141521\" xlink:href=\"#ma1c3b07b11\" y=\"232.575402\"/>\n     <use style=\"fill:#ff7f0e;stroke:#ff7f0e;\" x=\"228.471133\" xlink:href=\"#ma1c3b07b11\" y=\"198.06332\"/>\n     <use style=\"fill:#ff7f0e;stroke:#ff7f0e;\" x=\"150.614125\" xlink:href=\"#ma1c3b07b11\" y=\"236.917731\"/>\n     <use style=\"fill:#ff7f0e;stroke:#ff7f0e;\" x=\"150.558607\" xlink:href=\"#ma1c3b07b11\" y=\"231.651419\"/>\n     <use style=\"fill:#ff7f0e;stroke:#ff7f0e;\" x=\"130.853904\" xlink:href=\"#ma1c3b07b11\" y=\"244.130411\"/>\n     <use style=\"fill:#ff7f0e;stroke:#ff7f0e;\" x=\"181.866985\" xlink:href=\"#ma1c3b07b11\" y=\"212.412922\"/>\n     <use style=\"fill:#ff7f0e;stroke:#ff7f0e;\" x=\"169.128945\" xlink:href=\"#ma1c3b07b11\" y=\"224.502064\"/>\n     <use style=\"fill:#ff7f0e;stroke:#ff7f0e;\" x=\"179.60481\" xlink:href=\"#ma1c3b07b11\" y=\"215.139713\"/>\n     <use style=\"fill:#ff7f0e;stroke:#ff7f0e;\" x=\"125.184594\" xlink:href=\"#ma1c3b07b11\" y=\"238.219383\"/>\n     <use style=\"fill:#ff7f0e;stroke:#ff7f0e;\" x=\"287.82133\" xlink:href=\"#ma1c3b07b11\" y=\"180.254926\"/>\n     <use style=\"fill:#ff7f0e;stroke:#ff7f0e;\" x=\"172.727806\" xlink:href=\"#ma1c3b07b11\" y=\"228.465151\"/>\n     <use style=\"fill:#ff7f0e;stroke:#ff7f0e;\" x=\"99.6649\" xlink:href=\"#ma1c3b07b11\" y=\"255.868508\"/>\n     <use style=\"fill:#ff7f0e;stroke:#ff7f0e;\" x=\"177.049818\" xlink:href=\"#ma1c3b07b11\" y=\"222.77675\"/>\n     <use style=\"fill:#ff7f0e;stroke:#ff7f0e;\" x=\"197.101306\" xlink:href=\"#ma1c3b07b11\" y=\"220.160899\"/>\n     <use style=\"fill:#ff7f0e;stroke:#ff7f0e;\" x=\"175.691491\" xlink:href=\"#ma1c3b07b11\" y=\"210.706143\"/>\n     <use style=\"fill:#ff7f0e;stroke:#ff7f0e;\" x=\"166.216656\" xlink:href=\"#ma1c3b07b11\" y=\"227.64443\"/>\n     <use style=\"fill:#ff7f0e;stroke:#ff7f0e;\" x=\"183.214299\" xlink:href=\"#ma1c3b07b11\" y=\"226.414236\"/>\n     <use style=\"fill:#ff7f0e;stroke:#ff7f0e;\" x=\"214.679127\" xlink:href=\"#ma1c3b07b11\" y=\"203.849693\"/>\n     <use style=\"fill:#ff7f0e;stroke:#ff7f0e;\" x=\"193.749669\" xlink:href=\"#ma1c3b07b11\" y=\"211.344902\"/>\n     <use style=\"fill:#ff7f0e;stroke:#ff7f0e;\" x=\"172.706429\" xlink:href=\"#ma1c3b07b11\" y=\"211.69967\"/>\n     <use style=\"fill:#ff7f0e;stroke:#ff7f0e;\" x=\"90.865138\" xlink:href=\"#ma1c3b07b11\" y=\"262.256983\"/>\n     <use style=\"fill:#ff7f0e;stroke:#ff7f0e;\" x=\"181.962994\" xlink:href=\"#ma1c3b07b11\" y=\"217.585579\"/>\n     <use style=\"fill:#ff7f0e;stroke:#ff7f0e;\" x=\"134.483466\" xlink:href=\"#ma1c3b07b11\" y=\"239.89645\"/>\n     <use style=\"fill:#ff7f0e;stroke:#ff7f0e;\" x=\"233.368359\" xlink:href=\"#ma1c3b07b11\" y=\"199.220934\"/>\n     <use style=\"fill:#ff7f0e;stroke:#ff7f0e;\" x=\"188.857916\" xlink:href=\"#ma1c3b07b11\" y=\"218.673524\"/>\n     <use style=\"fill:#ff7f0e;stroke:#ff7f0e;\" x=\"166.245074\" xlink:href=\"#ma1c3b07b11\" y=\"218.829262\"/>\n     <use style=\"fill:#ff7f0e;stroke:#ff7f0e;\" x=\"185.325196\" xlink:href=\"#ma1c3b07b11\" y=\"220.416457\"/>\n     <use style=\"fill:#ff7f0e;stroke:#ff7f0e;\" x=\"78.507317\" xlink:href=\"#ma1c3b07b11\" y=\"254.992321\"/>\n     <use style=\"fill:#ff7f0e;stroke:#ff7f0e;\" x=\"185.596558\" xlink:href=\"#ma1c3b07b11\" y=\"222.098986\"/>\n     <use style=\"fill:#ff7f0e;stroke:#ff7f0e;\" x=\"172.602859\" xlink:href=\"#ma1c3b07b11\" y=\"211.5754\"/>\n     <use style=\"fill:#ff7f0e;stroke:#ff7f0e;\" x=\"147.593197\" xlink:href=\"#ma1c3b07b11\" y=\"226.783069\"/>\n     <use style=\"fill:#ff7f0e;stroke:#ff7f0e;\" x=\"154.828703\" xlink:href=\"#ma1c3b07b11\" y=\"226.814558\"/>\n    </g>\n   </g>\n   <g id=\"matplotlib.axis_3\">\n    <g id=\"xtick_9\">\n     <g id=\"line2d_33\">\n      <g>\n       <use style=\"stroke:#000000;stroke-width:0.8;\" x=\"68.719964\" xlink:href=\"#m44a4c4656a\" y=\"279\"/>\n      </g>\n     </g>\n     <g id=\"text_18\">\n      <!-- −1 -->\n      <defs>\n       <path d=\"M 10.59375 35.5 \nL 73.1875 35.5 \nL 73.1875 27.203125 \nL 10.59375 27.203125 \nz\n\" id=\"DejaVuSans-8722\"/>\n      </defs>\n      <g transform=\"translate(61.34887 293.598437)scale(0.1 -0.1)\">\n       <use xlink:href=\"#DejaVuSans-8722\"/>\n       <use x=\"83.789062\" xlink:href=\"#DejaVuSans-49\"/>\n      </g>\n     </g>\n    </g>\n    <g id=\"xtick_10\">\n     <g id=\"line2d_34\">\n      <g>\n       <use style=\"stroke:#000000;stroke-width:0.8;\" x=\"115.664531\" xlink:href=\"#m44a4c4656a\" y=\"279\"/>\n      </g>\n     </g>\n     <g id=\"text_19\">\n      <!-- 0 -->\n      <g transform=\"translate(112.483281 293.598437)scale(0.1 -0.1)\">\n       <use xlink:href=\"#DejaVuSans-48\"/>\n      </g>\n     </g>\n    </g>\n    <g id=\"xtick_11\">\n     <g id=\"line2d_35\">\n      <g>\n       <use style=\"stroke:#000000;stroke-width:0.8;\" x=\"162.609098\" xlink:href=\"#m44a4c4656a\" y=\"279\"/>\n      </g>\n     </g>\n     <g id=\"text_20\">\n      <!-- 1 -->\n      <g transform=\"translate(159.427848 293.598437)scale(0.1 -0.1)\">\n       <use xlink:href=\"#DejaVuSans-49\"/>\n      </g>\n     </g>\n    </g>\n    <g id=\"xtick_12\">\n     <g id=\"line2d_36\">\n      <g>\n       <use style=\"stroke:#000000;stroke-width:0.8;\" x=\"209.553665\" xlink:href=\"#m44a4c4656a\" y=\"279\"/>\n      </g>\n     </g>\n     <g id=\"text_21\">\n      <!-- 2 -->\n      <g transform=\"translate(206.372415 293.598437)scale(0.1 -0.1)\">\n       <use xlink:href=\"#DejaVuSans-50\"/>\n      </g>\n     </g>\n    </g>\n    <g id=\"xtick_13\">\n     <g id=\"line2d_37\">\n      <g>\n       <use style=\"stroke:#000000;stroke-width:0.8;\" x=\"256.498232\" xlink:href=\"#m44a4c4656a\" y=\"279\"/>\n      </g>\n     </g>\n     <g id=\"text_22\">\n      <!-- 3 -->\n      <defs>\n       <path d=\"M 40.578125 39.3125 \nQ 47.65625 37.796875 51.625 33 \nQ 55.609375 28.21875 55.609375 21.1875 \nQ 55.609375 10.40625 48.1875 4.484375 \nQ 40.765625 -1.421875 27.09375 -1.421875 \nQ 22.515625 -1.421875 17.65625 -0.515625 \nQ 12.796875 0.390625 7.625 2.203125 \nL 7.625 11.71875 \nQ 11.71875 9.328125 16.59375 8.109375 \nQ 21.484375 6.890625 26.8125 6.890625 \nQ 36.078125 6.890625 40.9375 10.546875 \nQ 45.796875 14.203125 45.796875 21.1875 \nQ 45.796875 27.640625 41.28125 31.265625 \nQ 36.765625 34.90625 28.71875 34.90625 \nL 20.21875 34.90625 \nL 20.21875 43.015625 \nL 29.109375 43.015625 \nQ 36.375 43.015625 40.234375 45.921875 \nQ 44.09375 48.828125 44.09375 54.296875 \nQ 44.09375 59.90625 40.109375 62.90625 \nQ 36.140625 65.921875 28.71875 65.921875 \nQ 24.65625 65.921875 20.015625 65.03125 \nQ 15.375 64.15625 9.8125 62.3125 \nL 9.8125 71.09375 \nQ 15.4375 72.65625 20.34375 73.4375 \nQ 25.25 74.21875 29.59375 74.21875 \nQ 40.828125 74.21875 47.359375 69.109375 \nQ 53.90625 64.015625 53.90625 55.328125 \nQ 53.90625 49.265625 50.4375 45.09375 \nQ 46.96875 40.921875 40.578125 39.3125 \nz\n\" id=\"DejaVuSans-51\"/>\n      </defs>\n      <g transform=\"translate(253.316982 293.598437)scale(0.1 -0.1)\">\n       <use xlink:href=\"#DejaVuSans-51\"/>\n      </g>\n     </g>\n    </g>\n    <g id=\"xtick_14\">\n     <g id=\"line2d_38\">\n      <g>\n       <use style=\"stroke:#000000;stroke-width:0.8;\" x=\"303.442799\" xlink:href=\"#m44a4c4656a\" y=\"279\"/>\n      </g>\n     </g>\n     <g id=\"text_23\">\n      <!-- 4 -->\n      <defs>\n       <path d=\"M 37.796875 64.3125 \nL 12.890625 25.390625 \nL 37.796875 25.390625 \nz\nM 35.203125 72.90625 \nL 47.609375 72.90625 \nL 47.609375 25.390625 \nL 58.015625 25.390625 \nL 58.015625 17.1875 \nL 47.609375 17.1875 \nL 47.609375 0 \nL 37.796875 0 \nL 37.796875 17.1875 \nL 4.890625 17.1875 \nL 4.890625 26.703125 \nz\n\" id=\"DejaVuSans-52\"/>\n      </defs>\n      <g transform=\"translate(300.261549 293.598437)scale(0.1 -0.1)\">\n       <use xlink:href=\"#DejaVuSans-52\"/>\n      </g>\n     </g>\n    </g>\n   </g>\n   <g id=\"matplotlib.axis_4\">\n    <g id=\"ytick_6\">\n     <g id=\"line2d_39\">\n      <g>\n       <use style=\"stroke:#000000;stroke-width:0.8;\" x=\"50.14375\" xlink:href=\"#m3b14cfbe9d\" y=\"245.711176\"/>\n      </g>\n     </g>\n     <g id=\"text_24\">\n      <!-- 0 -->\n      <g transform=\"translate(36.78125 249.510394)scale(0.1 -0.1)\">\n       <use xlink:href=\"#DejaVuSans-48\"/>\n      </g>\n     </g>\n    </g>\n    <g id=\"ytick_7\">\n     <g id=\"line2d_40\">\n      <g>\n       <use style=\"stroke:#000000;stroke-width:0.8;\" x=\"50.14375\" xlink:href=\"#m3b14cfbe9d\" y=\"199.731103\"/>\n      </g>\n     </g>\n     <g id=\"text_25\">\n      <!-- 5 -->\n      <g transform=\"translate(36.78125 203.530322)scale(0.1 -0.1)\">\n       <use xlink:href=\"#DejaVuSans-53\"/>\n      </g>\n     </g>\n    </g>\n   </g>\n   <g id=\"patch_9\">\n    <path d=\"M 50.14375 279 \nL 50.14375 160.826087 \n\" style=\"fill:none;stroke:#000000;stroke-linecap:square;stroke-linejoin:miter;stroke-width:0.8;\"/>\n   </g>\n   <g id=\"patch_10\">\n    <path d=\"M 329.14375 279 \nL 329.14375 160.826087 \n\" style=\"fill:none;stroke:#000000;stroke-linecap:square;stroke-linejoin:miter;stroke-width:0.8;\"/>\n   </g>\n   <g id=\"patch_11\">\n    <path d=\"M 50.14375 279 \nL 329.14375 279 \n\" style=\"fill:none;stroke:#000000;stroke-linecap:square;stroke-linejoin:miter;stroke-width:0.8;\"/>\n   </g>\n   <g id=\"patch_12\">\n    <path d=\"M 50.14375 160.826087 \nL 329.14375 160.826087 \n\" style=\"fill:none;stroke:#000000;stroke-linecap:square;stroke-linejoin:miter;stroke-width:0.8;\"/>\n   </g>\n   <g id=\"legend_2\">\n    <g id=\"patch_13\">\n     <path d=\"M 57.14375 198.182337 \nL 140.796875 198.182337 \nQ 142.796875 198.182337 142.796875 196.182337 \nL 142.796875 167.826087 \nQ 142.796875 165.826087 140.796875 165.826087 \nL 57.14375 165.826087 \nQ 55.14375 165.826087 55.14375 167.826087 \nL 55.14375 196.182337 \nQ 55.14375 198.182337 57.14375 198.182337 \nz\n\" style=\"fill:#ffffff;opacity:0.8;stroke:#cccccc;stroke-linejoin:miter;\"/>\n    </g>\n    <g id=\"PathCollection_3\">\n     <g>\n      <use style=\"fill:#1f77b4;stroke:#1f77b4;\" x=\"69.14375\" xlink:href=\"#m751ec1b6cd\" y=\"174.799524\"/>\n     </g>\n    </g>\n    <g id=\"text_26\">\n     <!-- real -->\n     <g transform=\"translate(87.14375 177.424524)scale(0.1 -0.1)\">\n      <use xlink:href=\"#DejaVuSans-114\"/>\n      <use x=\"38.863281\" xlink:href=\"#DejaVuSans-101\"/>\n      <use x=\"100.386719\" xlink:href=\"#DejaVuSans-97\"/>\n      <use x=\"161.666016\" xlink:href=\"#DejaVuSans-108\"/>\n     </g>\n    </g>\n    <g id=\"PathCollection_4\">\n     <g>\n      <use style=\"fill:#ff7f0e;stroke:#ff7f0e;\" x=\"69.14375\" xlink:href=\"#ma1c3b07b11\" y=\"189.477649\"/>\n     </g>\n    </g>\n    <g id=\"text_27\">\n     <!-- generated -->\n     <g transform=\"translate(87.14375 192.102649)scale(0.1 -0.1)\">\n      <use xlink:href=\"#DejaVuSans-103\"/>\n      <use x=\"63.476562\" xlink:href=\"#DejaVuSans-101\"/>\n      <use x=\"125\" xlink:href=\"#DejaVuSans-110\"/>\n      <use x=\"188.378906\" xlink:href=\"#DejaVuSans-101\"/>\n      <use x=\"249.902344\" xlink:href=\"#DejaVuSans-114\"/>\n      <use x=\"291.015625\" xlink:href=\"#DejaVuSans-97\"/>\n      <use x=\"352.294922\" xlink:href=\"#DejaVuSans-116\"/>\n      <use x=\"391.503906\" xlink:href=\"#DejaVuSans-101\"/>\n      <use x=\"453.027344\" xlink:href=\"#DejaVuSans-100\"/>\n     </g>\n    </g>\n   </g>\n  </g>\n </g>\n <defs>\n  <clipPath id=\"p2d242afeed\">\n   <rect height=\"118.173913\" width=\"279\" x=\"50.14375\" y=\"7.2\"/>\n  </clipPath>\n  <clipPath id=\"p4d0c24cf03\">\n   <rect height=\"118.173913\" width=\"279\" x=\"50.14375\" y=\"160.826087\"/>\n  </clipPath>\n </defs>\n</svg>\n"
          },
          "metadata": {
            "tags": [],
            "needs_background": "light"
          }
        }
      ]
    }
  ]
}