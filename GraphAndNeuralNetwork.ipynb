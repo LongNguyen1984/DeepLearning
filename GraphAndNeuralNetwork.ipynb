{
  "nbformat": 4,
  "nbformat_minor": 0,
  "metadata": {
    "colab": {
      "name": "Untitled6.ipynb",
      "provenance": [],
      "toc_visible": true,
      "authorship_tag": "ABX9TyPb/Fn0RIgjA7RvI84o95b9",
      "include_colab_link": true
    },
    "kernelspec": {
      "name": "python3",
      "display_name": "Python 3"
    }
  },
  "cells": [
    {
      "cell_type": "markdown",
      "metadata": {
        "id": "view-in-github",
        "colab_type": "text"
      },
      "source": [
        "<a href=\"https://colab.research.google.com/github/LongNguyen1984/DeepLearning/blob/master/GraphAndNeuralNetwork.ipynb\" target=\"_parent\"><img src=\"https://colab.research.google.com/assets/colab-badge.svg\" alt=\"Open In Colab\"/></a>"
      ]
    },
    {
      "cell_type": "code",
      "metadata": {
        "id": "VAnjh4zo9jdt",
        "colab_type": "code",
        "colab": {}
      },
      "source": [
        "import csv\n",
        "import numpy as np\n",
        "import torch \n",
        "\n",
        "wine_path = 'winequality-white.csv'\n",
        "wineq_numpy = np.loadtxt(wine_path, dtype=np.float32, delimiter=\";\", skiprows=1)\n",
        "\n"
      ],
      "execution_count": 0,
      "outputs": []
    },
    {
      "cell_type": "code",
      "metadata": {
        "id": "vDLYeOWM-G7V",
        "colab_type": "code",
        "outputId": "6de20e31-e0f7-4410-8826-01c54b67becc",
        "colab": {
          "base_uri": "https://localhost:8080/",
          "height": 134
        }
      },
      "source": [
        "wineq_numpy"
      ],
      "execution_count": 0,
      "outputs": [
        {
          "output_type": "execute_result",
          "data": {
            "text/plain": [
              "array([[ 7.  ,  0.27,  0.36, ...,  0.45,  8.8 ,  6.  ],\n",
              "       [ 6.3 ,  0.3 ,  0.34, ...,  0.49,  9.5 ,  6.  ],\n",
              "       [ 8.1 ,  0.28,  0.4 , ...,  0.44, 10.1 ,  6.  ],\n",
              "       ...,\n",
              "       [ 6.5 ,  0.24,  0.19, ...,  0.46,  9.4 ,  6.  ],\n",
              "       [ 5.5 ,  0.29,  0.3 , ...,  0.38, 12.8 ,  7.  ],\n",
              "       [ 6.  ,  0.21,  0.38, ...,  0.32, 11.8 ,  6.  ]], dtype=float32)"
            ]
          },
          "metadata": {
            "tags": []
          },
          "execution_count": 3
        }
      ]
    },
    {
      "cell_type": "code",
      "metadata": {
        "id": "0ApXi4Xo-eGH",
        "colab_type": "code",
        "outputId": "7f38d5d0-d7fc-42bd-debb-e16725534f61",
        "colab": {
          "base_uri": "https://localhost:8080/",
          "height": 235
        }
      },
      "source": [
        "col_list = next(csv.reader(open(wine_path), delimiter=';'))\n",
        "\n",
        "wineq_numpy.shape, col_list"
      ],
      "execution_count": 0,
      "outputs": [
        {
          "output_type": "execute_result",
          "data": {
            "text/plain": [
              "((4898, 12),\n",
              " ['fixed acidity',\n",
              "  'volatile acidity',\n",
              "  'citric acid',\n",
              "  'residual sugar',\n",
              "  'chlorides',\n",
              "  'free sulfur dioxide',\n",
              "  'total sulfur dioxide',\n",
              "  'density',\n",
              "  'pH',\n",
              "  'sulphates',\n",
              "  'alcohol',\n",
              "  'quality'])"
            ]
          },
          "metadata": {
            "tags": []
          },
          "execution_count": 4
        }
      ]
    },
    {
      "cell_type": "code",
      "metadata": {
        "id": "CLvAPHmyUBY0",
        "colab_type": "code",
        "outputId": "70a80e03-6c71-4ee6-ed00-4f2518504f3a",
        "colab": {
          "base_uri": "https://localhost:8080/",
          "height": 278
        }
      },
      "source": [
        "import pandas as pd\n",
        "import numpy as np\n",
        "\n",
        "\n",
        "df = pd.DataFrame(wineq_numpy)\n",
        "corr = df.corr()\n",
        "corr.style.background_gradient(cmap='coolwarm').set_precision(2)"
      ],
      "execution_count": 0,
      "outputs": [
        {
          "output_type": "execute_result",
          "data": {
            "text/html": [
              "<style  type=\"text/css\" >\n",
              "    #T_ad67caf6_89d6_11ea_8584_0242ac1c0002row0_col0 {\n",
              "            background-color:  #b40426;\n",
              "            color:  #f1f1f1;\n",
              "        }    #T_ad67caf6_89d6_11ea_8584_0242ac1c0002row0_col1 {\n",
              "            background-color:  #6788ee;\n",
              "            color:  #000000;\n",
              "        }    #T_ad67caf6_89d6_11ea_8584_0242ac1c0002row0_col2 {\n",
              "            background-color:  #bcd2f7;\n",
              "            color:  #000000;\n",
              "        }    #T_ad67caf6_89d6_11ea_8584_0242ac1c0002row0_col3 {\n",
              "            background-color:  #b7cff9;\n",
              "            color:  #000000;\n",
              "        }    #T_ad67caf6_89d6_11ea_8584_0242ac1c0002row0_col4 {\n",
              "            background-color:  #98b9ff;\n",
              "            color:  #000000;\n",
              "        }    #T_ad67caf6_89d6_11ea_8584_0242ac1c0002row0_col5 {\n",
              "            background-color:  #6e90f2;\n",
              "            color:  #000000;\n",
              "        }    #T_ad67caf6_89d6_11ea_8584_0242ac1c0002row0_col6 {\n",
              "            background-color:  #b7cff9;\n",
              "            color:  #000000;\n",
              "        }    #T_ad67caf6_89d6_11ea_8584_0242ac1c0002row0_col7 {\n",
              "            background-color:  #f0cdbb;\n",
              "            color:  #000000;\n",
              "        }    #T_ad67caf6_89d6_11ea_8584_0242ac1c0002row0_col8 {\n",
              "            background-color:  #3b4cc0;\n",
              "            color:  #f1f1f1;\n",
              "        }    #T_ad67caf6_89d6_11ea_8584_0242ac1c0002row0_col9 {\n",
              "            background-color:  #3f53c6;\n",
              "            color:  #f1f1f1;\n",
              "        }    #T_ad67caf6_89d6_11ea_8584_0242ac1c0002row0_col10 {\n",
              "            background-color:  #b6cefa;\n",
              "            color:  #000000;\n",
              "        }    #T_ad67caf6_89d6_11ea_8584_0242ac1c0002row0_col11 {\n",
              "            background-color:  #688aef;\n",
              "            color:  #000000;\n",
              "        }    #T_ad67caf6_89d6_11ea_8584_0242ac1c0002row1_col0 {\n",
              "            background-color:  #98b9ff;\n",
              "            color:  #000000;\n",
              "        }    #T_ad67caf6_89d6_11ea_8584_0242ac1c0002row1_col1 {\n",
              "            background-color:  #b40426;\n",
              "            color:  #f1f1f1;\n",
              "        }    #T_ad67caf6_89d6_11ea_8584_0242ac1c0002row1_col2 {\n",
              "            background-color:  #3e51c5;\n",
              "            color:  #f1f1f1;\n",
              "        }    #T_ad67caf6_89d6_11ea_8584_0242ac1c0002row1_col3 {\n",
              "            background-color:  #b1cbfc;\n",
              "            color:  #000000;\n",
              "        }    #T_ad67caf6_89d6_11ea_8584_0242ac1c0002row1_col4 {\n",
              "            background-color:  #a5c3fe;\n",
              "            color:  #000000;\n",
              "        }    #T_ad67caf6_89d6_11ea_8584_0242ac1c0002row1_col5 {\n",
              "            background-color:  #6180e9;\n",
              "            color:  #000000;\n",
              "        }    #T_ad67caf6_89d6_11ea_8584_0242ac1c0002row1_col6 {\n",
              "            background-color:  #b7cff9;\n",
              "            color:  #000000;\n",
              "        }    #T_ad67caf6_89d6_11ea_8584_0242ac1c0002row1_col7 {\n",
              "            background-color:  #d1dae9;\n",
              "            color:  #000000;\n",
              "        }    #T_ad67caf6_89d6_11ea_8584_0242ac1c0002row1_col8 {\n",
              "            background-color:  #96b7ff;\n",
              "            color:  #000000;\n",
              "        }    #T_ad67caf6_89d6_11ea_8584_0242ac1c0002row1_col9 {\n",
              "            background-color:  #3b4cc0;\n",
              "            color:  #f1f1f1;\n",
              "        }    #T_ad67caf6_89d6_11ea_8584_0242ac1c0002row1_col10 {\n",
              "            background-color:  #d6dce4;\n",
              "            color:  #000000;\n",
              "        }    #T_ad67caf6_89d6_11ea_8584_0242ac1c0002row1_col11 {\n",
              "            background-color:  #5572df;\n",
              "            color:  #000000;\n",
              "        }    #T_ad67caf6_89d6_11ea_8584_0242ac1c0002row2_col0 {\n",
              "            background-color:  #dddcdc;\n",
              "            color:  #000000;\n",
              "        }    #T_ad67caf6_89d6_11ea_8584_0242ac1c0002row2_col1 {\n",
              "            background-color:  #455cce;\n",
              "            color:  #f1f1f1;\n",
              "        }    #T_ad67caf6_89d6_11ea_8584_0242ac1c0002row2_col2 {\n",
              "            background-color:  #b40426;\n",
              "            color:  #f1f1f1;\n",
              "        }    #T_ad67caf6_89d6_11ea_8584_0242ac1c0002row2_col3 {\n",
              "            background-color:  #b9d0f9;\n",
              "            color:  #000000;\n",
              "        }    #T_ad67caf6_89d6_11ea_8584_0242ac1c0002row2_col4 {\n",
              "            background-color:  #afcafc;\n",
              "            color:  #000000;\n",
              "        }    #T_ad67caf6_89d6_11ea_8584_0242ac1c0002row2_col5 {\n",
              "            background-color:  #96b7ff;\n",
              "            color:  #000000;\n",
              "        }    #T_ad67caf6_89d6_11ea_8584_0242ac1c0002row2_col6 {\n",
              "            background-color:  #bed2f6;\n",
              "            color:  #000000;\n",
              "        }    #T_ad67caf6_89d6_11ea_8584_0242ac1c0002row2_col7 {\n",
              "            background-color:  #e2dad5;\n",
              "            color:  #000000;\n",
              "        }    #T_ad67caf6_89d6_11ea_8584_0242ac1c0002row2_col8 {\n",
              "            background-color:  #7699f6;\n",
              "            color:  #000000;\n",
              "        }    #T_ad67caf6_89d6_11ea_8584_0242ac1c0002row2_col9 {\n",
              "            background-color:  #5875e1;\n",
              "            color:  #000000;\n",
              "        }    #T_ad67caf6_89d6_11ea_8584_0242ac1c0002row2_col10 {\n",
              "            background-color:  #bfd3f6;\n",
              "            color:  #000000;\n",
              "        }    #T_ad67caf6_89d6_11ea_8584_0242ac1c0002row2_col11 {\n",
              "            background-color:  #85a8fc;\n",
              "            color:  #000000;\n",
              "        }    #T_ad67caf6_89d6_11ea_8584_0242ac1c0002row3_col0 {\n",
              "            background-color:  #b3cdfb;\n",
              "            color:  #000000;\n",
              "        }    #T_ad67caf6_89d6_11ea_8584_0242ac1c0002row3_col1 {\n",
              "            background-color:  #81a4fb;\n",
              "            color:  #000000;\n",
              "        }    #T_ad67caf6_89d6_11ea_8584_0242ac1c0002row3_col2 {\n",
              "            background-color:  #82a6fb;\n",
              "            color:  #000000;\n",
              "        }    #T_ad67caf6_89d6_11ea_8584_0242ac1c0002row3_col3 {\n",
              "            background-color:  #b40426;\n",
              "            color:  #f1f1f1;\n",
              "        }    #T_ad67caf6_89d6_11ea_8584_0242ac1c0002row3_col4 {\n",
              "            background-color:  #a9c6fd;\n",
              "            color:  #000000;\n",
              "        }    #T_ad67caf6_89d6_11ea_8584_0242ac1c0002row3_col5 {\n",
              "            background-color:  #ccd9ed;\n",
              "            color:  #000000;\n",
              "        }    #T_ad67caf6_89d6_11ea_8584_0242ac1c0002row3_col6 {\n",
              "            background-color:  #f0cdbb;\n",
              "            color:  #000000;\n",
              "        }    #T_ad67caf6_89d6_11ea_8584_0242ac1c0002row3_col7 {\n",
              "            background-color:  #d44e41;\n",
              "            color:  #000000;\n",
              "        }    #T_ad67caf6_89d6_11ea_8584_0242ac1c0002row3_col8 {\n",
              "            background-color:  #6e90f2;\n",
              "            color:  #000000;\n",
              "        }    #T_ad67caf6_89d6_11ea_8584_0242ac1c0002row3_col9 {\n",
              "            background-color:  #3d50c3;\n",
              "            color:  #f1f1f1;\n",
              "        }    #T_ad67caf6_89d6_11ea_8584_0242ac1c0002row3_col10 {\n",
              "            background-color:  #7699f6;\n",
              "            color:  #000000;\n",
              "        }    #T_ad67caf6_89d6_11ea_8584_0242ac1c0002row3_col11 {\n",
              "            background-color:  #6e90f2;\n",
              "            color:  #000000;\n",
              "        }    #T_ad67caf6_89d6_11ea_8584_0242ac1c0002row4_col0 {\n",
              "            background-color:  #a3c2fe;\n",
              "            color:  #000000;\n",
              "        }    #T_ad67caf6_89d6_11ea_8584_0242ac1c0002row4_col1 {\n",
              "            background-color:  #82a6fb;\n",
              "            color:  #000000;\n",
              "        }    #T_ad67caf6_89d6_11ea_8584_0242ac1c0002row4_col2 {\n",
              "            background-color:  #89acfd;\n",
              "            color:  #000000;\n",
              "        }    #T_ad67caf6_89d6_11ea_8584_0242ac1c0002row4_col3 {\n",
              "            background-color:  #b7cff9;\n",
              "            color:  #000000;\n",
              "        }    #T_ad67caf6_89d6_11ea_8584_0242ac1c0002row4_col4 {\n",
              "            background-color:  #b40426;\n",
              "            color:  #f1f1f1;\n",
              "        }    #T_ad67caf6_89d6_11ea_8584_0242ac1c0002row4_col5 {\n",
              "            background-color:  #97b8ff;\n",
              "            color:  #000000;\n",
              "        }    #T_ad67caf6_89d6_11ea_8584_0242ac1c0002row4_col6 {\n",
              "            background-color:  #cedaeb;\n",
              "            color:  #000000;\n",
              "        }    #T_ad67caf6_89d6_11ea_8584_0242ac1c0002row4_col7 {\n",
              "            background-color:  #efcebd;\n",
              "            color:  #000000;\n",
              "        }    #T_ad67caf6_89d6_11ea_8584_0242ac1c0002row4_col8 {\n",
              "            background-color:  #88abfd;\n",
              "            color:  #000000;\n",
              "        }    #T_ad67caf6_89d6_11ea_8584_0242ac1c0002row4_col9 {\n",
              "            background-color:  #4961d2;\n",
              "            color:  #f1f1f1;\n",
              "        }    #T_ad67caf6_89d6_11ea_8584_0242ac1c0002row4_col10 {\n",
              "            background-color:  #88abfd;\n",
              "            color:  #000000;\n",
              "        }    #T_ad67caf6_89d6_11ea_8584_0242ac1c0002row4_col11 {\n",
              "            background-color:  #516ddb;\n",
              "            color:  #000000;\n",
              "        }    #T_ad67caf6_89d6_11ea_8584_0242ac1c0002row5_col0 {\n",
              "            background-color:  #92b4fe;\n",
              "            color:  #000000;\n",
              "        }    #T_ad67caf6_89d6_11ea_8584_0242ac1c0002row5_col1 {\n",
              "            background-color:  #536edd;\n",
              "            color:  #000000;\n",
              "        }    #T_ad67caf6_89d6_11ea_8584_0242ac1c0002row5_col2 {\n",
              "            background-color:  #82a6fb;\n",
              "            color:  #000000;\n",
              "        }    #T_ad67caf6_89d6_11ea_8584_0242ac1c0002row5_col3 {\n",
              "            background-color:  #e1dad6;\n",
              "            color:  #000000;\n",
              "        }    #T_ad67caf6_89d6_11ea_8584_0242ac1c0002row5_col4 {\n",
              "            background-color:  #abc8fd;\n",
              "            color:  #000000;\n",
              "        }    #T_ad67caf6_89d6_11ea_8584_0242ac1c0002row5_col5 {\n",
              "            background-color:  #b40426;\n",
              "            color:  #f1f1f1;\n",
              "        }    #T_ad67caf6_89d6_11ea_8584_0242ac1c0002row5_col6 {\n",
              "            background-color:  #f59f80;\n",
              "            color:  #000000;\n",
              "        }    #T_ad67caf6_89d6_11ea_8584_0242ac1c0002row5_col7 {\n",
              "            background-color:  #f2cab5;\n",
              "            color:  #000000;\n",
              "        }    #T_ad67caf6_89d6_11ea_8584_0242ac1c0002row5_col8 {\n",
              "            background-color:  #9ebeff;\n",
              "            color:  #000000;\n",
              "        }    #T_ad67caf6_89d6_11ea_8584_0242ac1c0002row5_col9 {\n",
              "            background-color:  #5673e0;\n",
              "            color:  #000000;\n",
              "        }    #T_ad67caf6_89d6_11ea_8584_0242ac1c0002row5_col10 {\n",
              "            background-color:  #9ebeff;\n",
              "            color:  #000000;\n",
              "        }    #T_ad67caf6_89d6_11ea_8584_0242ac1c0002row5_col11 {\n",
              "            background-color:  #89acfd;\n",
              "            color:  #000000;\n",
              "        }    #T_ad67caf6_89d6_11ea_8584_0242ac1c0002row6_col0 {\n",
              "            background-color:  #b3cdfb;\n",
              "            color:  #000000;\n",
              "        }    #T_ad67caf6_89d6_11ea_8584_0242ac1c0002row6_col1 {\n",
              "            background-color:  #88abfd;\n",
              "            color:  #000000;\n",
              "        }    #T_ad67caf6_89d6_11ea_8584_0242ac1c0002row6_col2 {\n",
              "            background-color:  #8badfd;\n",
              "            color:  #000000;\n",
              "        }    #T_ad67caf6_89d6_11ea_8584_0242ac1c0002row6_col3 {\n",
              "            background-color:  #f0cdbb;\n",
              "            color:  #000000;\n",
              "        }    #T_ad67caf6_89d6_11ea_8584_0242ac1c0002row6_col4 {\n",
              "            background-color:  #c4d5f3;\n",
              "            color:  #000000;\n",
              "        }    #T_ad67caf6_89d6_11ea_8584_0242ac1c0002row6_col5 {\n",
              "            background-color:  #f7af91;\n",
              "            color:  #000000;\n",
              "        }    #T_ad67caf6_89d6_11ea_8584_0242ac1c0002row6_col6 {\n",
              "            background-color:  #b40426;\n",
              "            color:  #f1f1f1;\n",
              "        }    #T_ad67caf6_89d6_11ea_8584_0242ac1c0002row6_col7 {\n",
              "            background-color:  #f59f80;\n",
              "            color:  #000000;\n",
              "        }    #T_ad67caf6_89d6_11ea_8584_0242ac1c0002row6_col8 {\n",
              "            background-color:  #9ebeff;\n",
              "            color:  #000000;\n",
              "        }    #T_ad67caf6_89d6_11ea_8584_0242ac1c0002row6_col9 {\n",
              "            background-color:  #6f92f3;\n",
              "            color:  #000000;\n",
              "        }    #T_ad67caf6_89d6_11ea_8584_0242ac1c0002row6_col10 {\n",
              "            background-color:  #7699f6;\n",
              "            color:  #000000;\n",
              "        }    #T_ad67caf6_89d6_11ea_8584_0242ac1c0002row6_col11 {\n",
              "            background-color:  #5977e3;\n",
              "            color:  #000000;\n",
              "        }    #T_ad67caf6_89d6_11ea_8584_0242ac1c0002row7_col0 {\n",
              "            background-color:  #d9dce1;\n",
              "            color:  #000000;\n",
              "        }    #T_ad67caf6_89d6_11ea_8584_0242ac1c0002row7_col1 {\n",
              "            background-color:  #7699f6;\n",
              "            color:  #000000;\n",
              "        }    #T_ad67caf6_89d6_11ea_8584_0242ac1c0002row7_col2 {\n",
              "            background-color:  #93b5fe;\n",
              "            color:  #000000;\n",
              "        }    #T_ad67caf6_89d6_11ea_8584_0242ac1c0002row7_col3 {\n",
              "            background-color:  #d95847;\n",
              "            color:  #000000;\n",
              "        }    #T_ad67caf6_89d6_11ea_8584_0242ac1c0002row7_col4 {\n",
              "            background-color:  #d1dae9;\n",
              "            color:  #000000;\n",
              "        }    #T_ad67caf6_89d6_11ea_8584_0242ac1c0002row7_col5 {\n",
              "            background-color:  #cbd8ee;\n",
              "            color:  #000000;\n",
              "        }    #T_ad67caf6_89d6_11ea_8584_0242ac1c0002row7_col6 {\n",
              "            background-color:  #f7b599;\n",
              "            color:  #000000;\n",
              "        }    #T_ad67caf6_89d6_11ea_8584_0242ac1c0002row7_col7 {\n",
              "            background-color:  #b40426;\n",
              "            color:  #f1f1f1;\n",
              "        }    #T_ad67caf6_89d6_11ea_8584_0242ac1c0002row7_col8 {\n",
              "            background-color:  #86a9fc;\n",
              "            color:  #000000;\n",
              "        }    #T_ad67caf6_89d6_11ea_8584_0242ac1c0002row7_col9 {\n",
              "            background-color:  #5b7ae5;\n",
              "            color:  #000000;\n",
              "        }    #T_ad67caf6_89d6_11ea_8584_0242ac1c0002row7_col10 {\n",
              "            background-color:  #3b4cc0;\n",
              "            color:  #f1f1f1;\n",
              "        }    #T_ad67caf6_89d6_11ea_8584_0242ac1c0002row7_col11 {\n",
              "            background-color:  #3b4cc0;\n",
              "            color:  #f1f1f1;\n",
              "        }    #T_ad67caf6_89d6_11ea_8584_0242ac1c0002row8_col0 {\n",
              "            background-color:  #3b4cc0;\n",
              "            color:  #f1f1f1;\n",
              "        }    #T_ad67caf6_89d6_11ea_8584_0242ac1c0002row8_col1 {\n",
              "            background-color:  #6485ec;\n",
              "            color:  #000000;\n",
              "        }    #T_ad67caf6_89d6_11ea_8584_0242ac1c0002row8_col2 {\n",
              "            background-color:  #3b4cc0;\n",
              "            color:  #f1f1f1;\n",
              "        }    #T_ad67caf6_89d6_11ea_8584_0242ac1c0002row8_col3 {\n",
              "            background-color:  #7396f5;\n",
              "            color:  #000000;\n",
              "        }    #T_ad67caf6_89d6_11ea_8584_0242ac1c0002row8_col4 {\n",
              "            background-color:  #7a9df8;\n",
              "            color:  #000000;\n",
              "        }    #T_ad67caf6_89d6_11ea_8584_0242ac1c0002row8_col5 {\n",
              "            background-color:  #7b9ff9;\n",
              "            color:  #000000;\n",
              "        }    #T_ad67caf6_89d6_11ea_8584_0242ac1c0002row8_col6 {\n",
              "            background-color:  #a2c1ff;\n",
              "            color:  #000000;\n",
              "        }    #T_ad67caf6_89d6_11ea_8584_0242ac1c0002row8_col7 {\n",
              "            background-color:  #bbd1f8;\n",
              "            color:  #000000;\n",
              "        }    #T_ad67caf6_89d6_11ea_8584_0242ac1c0002row8_col8 {\n",
              "            background-color:  #b40426;\n",
              "            color:  #f1f1f1;\n",
              "        }    #T_ad67caf6_89d6_11ea_8584_0242ac1c0002row8_col9 {\n",
              "            background-color:  #7699f6;\n",
              "            color:  #000000;\n",
              "        }    #T_ad67caf6_89d6_11ea_8584_0242ac1c0002row8_col10 {\n",
              "            background-color:  #dedcdb;\n",
              "            color:  #000000;\n",
              "        }    #T_ad67caf6_89d6_11ea_8584_0242ac1c0002row8_col11 {\n",
              "            background-color:  #a2c1ff;\n",
              "            color:  #000000;\n",
              "        }    #T_ad67caf6_89d6_11ea_8584_0242ac1c0002row9_col0 {\n",
              "            background-color:  #9abbff;\n",
              "            color:  #000000;\n",
              "        }    #T_ad67caf6_89d6_11ea_8584_0242ac1c0002row9_col1 {\n",
              "            background-color:  #6485ec;\n",
              "            color:  #000000;\n",
              "        }    #T_ad67caf6_89d6_11ea_8584_0242ac1c0002row9_col2 {\n",
              "            background-color:  #799cf8;\n",
              "            color:  #000000;\n",
              "        }    #T_ad67caf6_89d6_11ea_8584_0242ac1c0002row9_col3 {\n",
              "            background-color:  #9bbcff;\n",
              "            color:  #000000;\n",
              "        }    #T_ad67caf6_89d6_11ea_8584_0242ac1c0002row9_col4 {\n",
              "            background-color:  #96b7ff;\n",
              "            color:  #000000;\n",
              "        }    #T_ad67caf6_89d6_11ea_8584_0242ac1c0002row9_col5 {\n",
              "            background-color:  #8caffe;\n",
              "            color:  #000000;\n",
              "        }    #T_ad67caf6_89d6_11ea_8584_0242ac1c0002row9_col6 {\n",
              "            background-color:  #c1d4f4;\n",
              "            color:  #000000;\n",
              "        }    #T_ad67caf6_89d6_11ea_8584_0242ac1c0002row9_col7 {\n",
              "            background-color:  #d7dce3;\n",
              "            color:  #000000;\n",
              "        }    #T_ad67caf6_89d6_11ea_8584_0242ac1c0002row9_col8 {\n",
              "            background-color:  #c3d5f4;\n",
              "            color:  #000000;\n",
              "        }    #T_ad67caf6_89d6_11ea_8584_0242ac1c0002row9_col9 {\n",
              "            background-color:  #b40426;\n",
              "            color:  #f1f1f1;\n",
              "        }    #T_ad67caf6_89d6_11ea_8584_0242ac1c0002row9_col10 {\n",
              "            background-color:  #c9d7f0;\n",
              "            color:  #000000;\n",
              "        }    #T_ad67caf6_89d6_11ea_8584_0242ac1c0002row9_col11 {\n",
              "            background-color:  #96b7ff;\n",
              "            color:  #000000;\n",
              "        }    #T_ad67caf6_89d6_11ea_8584_0242ac1c0002row10_col0 {\n",
              "            background-color:  #80a3fa;\n",
              "            color:  #000000;\n",
              "        }    #T_ad67caf6_89d6_11ea_8584_0242ac1c0002row10_col1 {\n",
              "            background-color:  #82a6fb;\n",
              "            color:  #000000;\n",
              "        }    #T_ad67caf6_89d6_11ea_8584_0242ac1c0002row10_col2 {\n",
              "            background-color:  #516ddb;\n",
              "            color:  #000000;\n",
              "        }    #T_ad67caf6_89d6_11ea_8584_0242ac1c0002row10_col3 {\n",
              "            background-color:  #3b4cc0;\n",
              "            color:  #f1f1f1;\n",
              "        }    #T_ad67caf6_89d6_11ea_8584_0242ac1c0002row10_col4 {\n",
              "            background-color:  #3b4cc0;\n",
              "            color:  #f1f1f1;\n",
              "        }    #T_ad67caf6_89d6_11ea_8584_0242ac1c0002row10_col5 {\n",
              "            background-color:  #3b4cc0;\n",
              "            color:  #f1f1f1;\n",
              "        }    #T_ad67caf6_89d6_11ea_8584_0242ac1c0002row10_col6 {\n",
              "            background-color:  #3b4cc0;\n",
              "            color:  #f1f1f1;\n",
              "        }    #T_ad67caf6_89d6_11ea_8584_0242ac1c0002row10_col7 {\n",
              "            background-color:  #3b4cc0;\n",
              "            color:  #f1f1f1;\n",
              "        }    #T_ad67caf6_89d6_11ea_8584_0242ac1c0002row10_col8 {\n",
              "            background-color:  #bbd1f8;\n",
              "            color:  #000000;\n",
              "        }    #T_ad67caf6_89d6_11ea_8584_0242ac1c0002row10_col9 {\n",
              "            background-color:  #3f53c6;\n",
              "            color:  #f1f1f1;\n",
              "        }    #T_ad67caf6_89d6_11ea_8584_0242ac1c0002row10_col10 {\n",
              "            background-color:  #b40426;\n",
              "            color:  #f1f1f1;\n",
              "        }    #T_ad67caf6_89d6_11ea_8584_0242ac1c0002row10_col11 {\n",
              "            background-color:  #edd2c3;\n",
              "            color:  #000000;\n",
              "        }    #T_ad67caf6_89d6_11ea_8584_0242ac1c0002row11_col0 {\n",
              "            background-color:  #82a6fb;\n",
              "            color:  #000000;\n",
              "        }    #T_ad67caf6_89d6_11ea_8584_0242ac1c0002row11_col1 {\n",
              "            background-color:  #3b4cc0;\n",
              "            color:  #f1f1f1;\n",
              "        }    #T_ad67caf6_89d6_11ea_8584_0242ac1c0002row11_col2 {\n",
              "            background-color:  #6384eb;\n",
              "            color:  #000000;\n",
              "        }    #T_ad67caf6_89d6_11ea_8584_0242ac1c0002row11_col3 {\n",
              "            background-color:  #8badfd;\n",
              "            color:  #000000;\n",
              "        }    #T_ad67caf6_89d6_11ea_8584_0242ac1c0002row11_col4 {\n",
              "            background-color:  #5d7ce6;\n",
              "            color:  #000000;\n",
              "        }    #T_ad67caf6_89d6_11ea_8584_0242ac1c0002row11_col5 {\n",
              "            background-color:  #7da0f9;\n",
              "            color:  #000000;\n",
              "        }    #T_ad67caf6_89d6_11ea_8584_0242ac1c0002row11_col6 {\n",
              "            background-color:  #779af7;\n",
              "            color:  #000000;\n",
              "        }    #T_ad67caf6_89d6_11ea_8584_0242ac1c0002row11_col7 {\n",
              "            background-color:  #93b5fe;\n",
              "            color:  #000000;\n",
              "        }    #T_ad67caf6_89d6_11ea_8584_0242ac1c0002row11_col8 {\n",
              "            background-color:  #b6cefa;\n",
              "            color:  #000000;\n",
              "        }    #T_ad67caf6_89d6_11ea_8584_0242ac1c0002row11_col9 {\n",
              "            background-color:  #5572df;\n",
              "            color:  #000000;\n",
              "        }    #T_ad67caf6_89d6_11ea_8584_0242ac1c0002row11_col10 {\n",
              "            background-color:  #f7b396;\n",
              "            color:  #000000;\n",
              "        }    #T_ad67caf6_89d6_11ea_8584_0242ac1c0002row11_col11 {\n",
              "            background-color:  #b40426;\n",
              "            color:  #f1f1f1;\n",
              "        }</style><table id=\"T_ad67caf6_89d6_11ea_8584_0242ac1c0002\" ><thead>    <tr>        <th class=\"blank level0\" ></th>        <th class=\"col_heading level0 col0\" >0</th>        <th class=\"col_heading level0 col1\" >1</th>        <th class=\"col_heading level0 col2\" >2</th>        <th class=\"col_heading level0 col3\" >3</th>        <th class=\"col_heading level0 col4\" >4</th>        <th class=\"col_heading level0 col5\" >5</th>        <th class=\"col_heading level0 col6\" >6</th>        <th class=\"col_heading level0 col7\" >7</th>        <th class=\"col_heading level0 col8\" >8</th>        <th class=\"col_heading level0 col9\" >9</th>        <th class=\"col_heading level0 col10\" >10</th>        <th class=\"col_heading level0 col11\" >11</th>    </tr></thead><tbody>\n",
              "                <tr>\n",
              "                        <th id=\"T_ad67caf6_89d6_11ea_8584_0242ac1c0002level0_row0\" class=\"row_heading level0 row0\" >0</th>\n",
              "                        <td id=\"T_ad67caf6_89d6_11ea_8584_0242ac1c0002row0_col0\" class=\"data row0 col0\" >1.00</td>\n",
              "                        <td id=\"T_ad67caf6_89d6_11ea_8584_0242ac1c0002row0_col1\" class=\"data row0 col1\" >-0.02</td>\n",
              "                        <td id=\"T_ad67caf6_89d6_11ea_8584_0242ac1c0002row0_col2\" class=\"data row0 col2\" >0.29</td>\n",
              "                        <td id=\"T_ad67caf6_89d6_11ea_8584_0242ac1c0002row0_col3\" class=\"data row0 col3\" >0.09</td>\n",
              "                        <td id=\"T_ad67caf6_89d6_11ea_8584_0242ac1c0002row0_col4\" class=\"data row0 col4\" >0.02</td>\n",
              "                        <td id=\"T_ad67caf6_89d6_11ea_8584_0242ac1c0002row0_col5\" class=\"data row0 col5\" >-0.05</td>\n",
              "                        <td id=\"T_ad67caf6_89d6_11ea_8584_0242ac1c0002row0_col6\" class=\"data row0 col6\" >0.09</td>\n",
              "                        <td id=\"T_ad67caf6_89d6_11ea_8584_0242ac1c0002row0_col7\" class=\"data row0 col7\" >0.27</td>\n",
              "                        <td id=\"T_ad67caf6_89d6_11ea_8584_0242ac1c0002row0_col8\" class=\"data row0 col8\" >-0.43</td>\n",
              "                        <td id=\"T_ad67caf6_89d6_11ea_8584_0242ac1c0002row0_col9\" class=\"data row0 col9\" >-0.02</td>\n",
              "                        <td id=\"T_ad67caf6_89d6_11ea_8584_0242ac1c0002row0_col10\" class=\"data row0 col10\" >-0.12</td>\n",
              "                        <td id=\"T_ad67caf6_89d6_11ea_8584_0242ac1c0002row0_col11\" class=\"data row0 col11\" >-0.11</td>\n",
              "            </tr>\n",
              "            <tr>\n",
              "                        <th id=\"T_ad67caf6_89d6_11ea_8584_0242ac1c0002level0_row1\" class=\"row_heading level0 row1\" >1</th>\n",
              "                        <td id=\"T_ad67caf6_89d6_11ea_8584_0242ac1c0002row1_col0\" class=\"data row1 col0\" >-0.02</td>\n",
              "                        <td id=\"T_ad67caf6_89d6_11ea_8584_0242ac1c0002row1_col1\" class=\"data row1 col1\" >1.00</td>\n",
              "                        <td id=\"T_ad67caf6_89d6_11ea_8584_0242ac1c0002row1_col2\" class=\"data row1 col2\" >-0.15</td>\n",
              "                        <td id=\"T_ad67caf6_89d6_11ea_8584_0242ac1c0002row1_col3\" class=\"data row1 col3\" >0.06</td>\n",
              "                        <td id=\"T_ad67caf6_89d6_11ea_8584_0242ac1c0002row1_col4\" class=\"data row1 col4\" >0.07</td>\n",
              "                        <td id=\"T_ad67caf6_89d6_11ea_8584_0242ac1c0002row1_col5\" class=\"data row1 col5\" >-0.10</td>\n",
              "                        <td id=\"T_ad67caf6_89d6_11ea_8584_0242ac1c0002row1_col6\" class=\"data row1 col6\" >0.09</td>\n",
              "                        <td id=\"T_ad67caf6_89d6_11ea_8584_0242ac1c0002row1_col7\" class=\"data row1 col7\" >0.03</td>\n",
              "                        <td id=\"T_ad67caf6_89d6_11ea_8584_0242ac1c0002row1_col8\" class=\"data row1 col8\" >-0.03</td>\n",
              "                        <td id=\"T_ad67caf6_89d6_11ea_8584_0242ac1c0002row1_col9\" class=\"data row1 col9\" >-0.04</td>\n",
              "                        <td id=\"T_ad67caf6_89d6_11ea_8584_0242ac1c0002row1_col10\" class=\"data row1 col10\" >0.07</td>\n",
              "                        <td id=\"T_ad67caf6_89d6_11ea_8584_0242ac1c0002row1_col11\" class=\"data row1 col11\" >-0.19</td>\n",
              "            </tr>\n",
              "            <tr>\n",
              "                        <th id=\"T_ad67caf6_89d6_11ea_8584_0242ac1c0002level0_row2\" class=\"row_heading level0 row2\" >2</th>\n",
              "                        <td id=\"T_ad67caf6_89d6_11ea_8584_0242ac1c0002row2_col0\" class=\"data row2 col0\" >0.29</td>\n",
              "                        <td id=\"T_ad67caf6_89d6_11ea_8584_0242ac1c0002row2_col1\" class=\"data row2 col1\" >-0.15</td>\n",
              "                        <td id=\"T_ad67caf6_89d6_11ea_8584_0242ac1c0002row2_col2\" class=\"data row2 col2\" >1.00</td>\n",
              "                        <td id=\"T_ad67caf6_89d6_11ea_8584_0242ac1c0002row2_col3\" class=\"data row2 col3\" >0.09</td>\n",
              "                        <td id=\"T_ad67caf6_89d6_11ea_8584_0242ac1c0002row2_col4\" class=\"data row2 col4\" >0.11</td>\n",
              "                        <td id=\"T_ad67caf6_89d6_11ea_8584_0242ac1c0002row2_col5\" class=\"data row2 col5\" >0.09</td>\n",
              "                        <td id=\"T_ad67caf6_89d6_11ea_8584_0242ac1c0002row2_col6\" class=\"data row2 col6\" >0.12</td>\n",
              "                        <td id=\"T_ad67caf6_89d6_11ea_8584_0242ac1c0002row2_col7\" class=\"data row2 col7\" >0.15</td>\n",
              "                        <td id=\"T_ad67caf6_89d6_11ea_8584_0242ac1c0002row2_col8\" class=\"data row2 col8\" >-0.16</td>\n",
              "                        <td id=\"T_ad67caf6_89d6_11ea_8584_0242ac1c0002row2_col9\" class=\"data row2 col9\" >0.06</td>\n",
              "                        <td id=\"T_ad67caf6_89d6_11ea_8584_0242ac1c0002row2_col10\" class=\"data row2 col10\" >-0.08</td>\n",
              "                        <td id=\"T_ad67caf6_89d6_11ea_8584_0242ac1c0002row2_col11\" class=\"data row2 col11\" >-0.01</td>\n",
              "            </tr>\n",
              "            <tr>\n",
              "                        <th id=\"T_ad67caf6_89d6_11ea_8584_0242ac1c0002level0_row3\" class=\"row_heading level0 row3\" >3</th>\n",
              "                        <td id=\"T_ad67caf6_89d6_11ea_8584_0242ac1c0002row3_col0\" class=\"data row3 col0\" >0.09</td>\n",
              "                        <td id=\"T_ad67caf6_89d6_11ea_8584_0242ac1c0002row3_col1\" class=\"data row3 col1\" >0.06</td>\n",
              "                        <td id=\"T_ad67caf6_89d6_11ea_8584_0242ac1c0002row3_col2\" class=\"data row3 col2\" >0.09</td>\n",
              "                        <td id=\"T_ad67caf6_89d6_11ea_8584_0242ac1c0002row3_col3\" class=\"data row3 col3\" >1.00</td>\n",
              "                        <td id=\"T_ad67caf6_89d6_11ea_8584_0242ac1c0002row3_col4\" class=\"data row3 col4\" >0.09</td>\n",
              "                        <td id=\"T_ad67caf6_89d6_11ea_8584_0242ac1c0002row3_col5\" class=\"data row3 col5\" >0.30</td>\n",
              "                        <td id=\"T_ad67caf6_89d6_11ea_8584_0242ac1c0002row3_col6\" class=\"data row3 col6\" >0.40</td>\n",
              "                        <td id=\"T_ad67caf6_89d6_11ea_8584_0242ac1c0002row3_col7\" class=\"data row3 col7\" >0.84</td>\n",
              "                        <td id=\"T_ad67caf6_89d6_11ea_8584_0242ac1c0002row3_col8\" class=\"data row3 col8\" >-0.19</td>\n",
              "                        <td id=\"T_ad67caf6_89d6_11ea_8584_0242ac1c0002row3_col9\" class=\"data row3 col9\" >-0.03</td>\n",
              "                        <td id=\"T_ad67caf6_89d6_11ea_8584_0242ac1c0002row3_col10\" class=\"data row3 col10\" >-0.45</td>\n",
              "                        <td id=\"T_ad67caf6_89d6_11ea_8584_0242ac1c0002row3_col11\" class=\"data row3 col11\" >-0.10</td>\n",
              "            </tr>\n",
              "            <tr>\n",
              "                        <th id=\"T_ad67caf6_89d6_11ea_8584_0242ac1c0002level0_row4\" class=\"row_heading level0 row4\" >4</th>\n",
              "                        <td id=\"T_ad67caf6_89d6_11ea_8584_0242ac1c0002row4_col0\" class=\"data row4 col0\" >0.02</td>\n",
              "                        <td id=\"T_ad67caf6_89d6_11ea_8584_0242ac1c0002row4_col1\" class=\"data row4 col1\" >0.07</td>\n",
              "                        <td id=\"T_ad67caf6_89d6_11ea_8584_0242ac1c0002row4_col2\" class=\"data row4 col2\" >0.11</td>\n",
              "                        <td id=\"T_ad67caf6_89d6_11ea_8584_0242ac1c0002row4_col3\" class=\"data row4 col3\" >0.09</td>\n",
              "                        <td id=\"T_ad67caf6_89d6_11ea_8584_0242ac1c0002row4_col4\" class=\"data row4 col4\" >1.00</td>\n",
              "                        <td id=\"T_ad67caf6_89d6_11ea_8584_0242ac1c0002row4_col5\" class=\"data row4 col5\" >0.10</td>\n",
              "                        <td id=\"T_ad67caf6_89d6_11ea_8584_0242ac1c0002row4_col6\" class=\"data row4 col6\" >0.20</td>\n",
              "                        <td id=\"T_ad67caf6_89d6_11ea_8584_0242ac1c0002row4_col7\" class=\"data row4 col7\" >0.26</td>\n",
              "                        <td id=\"T_ad67caf6_89d6_11ea_8584_0242ac1c0002row4_col8\" class=\"data row4 col8\" >-0.09</td>\n",
              "                        <td id=\"T_ad67caf6_89d6_11ea_8584_0242ac1c0002row4_col9\" class=\"data row4 col9\" >0.02</td>\n",
              "                        <td id=\"T_ad67caf6_89d6_11ea_8584_0242ac1c0002row4_col10\" class=\"data row4 col10\" >-0.36</td>\n",
              "                        <td id=\"T_ad67caf6_89d6_11ea_8584_0242ac1c0002row4_col11\" class=\"data row4 col11\" >-0.21</td>\n",
              "            </tr>\n",
              "            <tr>\n",
              "                        <th id=\"T_ad67caf6_89d6_11ea_8584_0242ac1c0002level0_row5\" class=\"row_heading level0 row5\" >5</th>\n",
              "                        <td id=\"T_ad67caf6_89d6_11ea_8584_0242ac1c0002row5_col0\" class=\"data row5 col0\" >-0.05</td>\n",
              "                        <td id=\"T_ad67caf6_89d6_11ea_8584_0242ac1c0002row5_col1\" class=\"data row5 col1\" >-0.10</td>\n",
              "                        <td id=\"T_ad67caf6_89d6_11ea_8584_0242ac1c0002row5_col2\" class=\"data row5 col2\" >0.09</td>\n",
              "                        <td id=\"T_ad67caf6_89d6_11ea_8584_0242ac1c0002row5_col3\" class=\"data row5 col3\" >0.30</td>\n",
              "                        <td id=\"T_ad67caf6_89d6_11ea_8584_0242ac1c0002row5_col4\" class=\"data row5 col4\" >0.10</td>\n",
              "                        <td id=\"T_ad67caf6_89d6_11ea_8584_0242ac1c0002row5_col5\" class=\"data row5 col5\" >1.00</td>\n",
              "                        <td id=\"T_ad67caf6_89d6_11ea_8584_0242ac1c0002row5_col6\" class=\"data row5 col6\" >0.62</td>\n",
              "                        <td id=\"T_ad67caf6_89d6_11ea_8584_0242ac1c0002row5_col7\" class=\"data row5 col7\" >0.29</td>\n",
              "                        <td id=\"T_ad67caf6_89d6_11ea_8584_0242ac1c0002row5_col8\" class=\"data row5 col8\" >-0.00</td>\n",
              "                        <td id=\"T_ad67caf6_89d6_11ea_8584_0242ac1c0002row5_col9\" class=\"data row5 col9\" >0.06</td>\n",
              "                        <td id=\"T_ad67caf6_89d6_11ea_8584_0242ac1c0002row5_col10\" class=\"data row5 col10\" >-0.25</td>\n",
              "                        <td id=\"T_ad67caf6_89d6_11ea_8584_0242ac1c0002row5_col11\" class=\"data row5 col11\" >0.01</td>\n",
              "            </tr>\n",
              "            <tr>\n",
              "                        <th id=\"T_ad67caf6_89d6_11ea_8584_0242ac1c0002level0_row6\" class=\"row_heading level0 row6\" >6</th>\n",
              "                        <td id=\"T_ad67caf6_89d6_11ea_8584_0242ac1c0002row6_col0\" class=\"data row6 col0\" >0.09</td>\n",
              "                        <td id=\"T_ad67caf6_89d6_11ea_8584_0242ac1c0002row6_col1\" class=\"data row6 col1\" >0.09</td>\n",
              "                        <td id=\"T_ad67caf6_89d6_11ea_8584_0242ac1c0002row6_col2\" class=\"data row6 col2\" >0.12</td>\n",
              "                        <td id=\"T_ad67caf6_89d6_11ea_8584_0242ac1c0002row6_col3\" class=\"data row6 col3\" >0.40</td>\n",
              "                        <td id=\"T_ad67caf6_89d6_11ea_8584_0242ac1c0002row6_col4\" class=\"data row6 col4\" >0.20</td>\n",
              "                        <td id=\"T_ad67caf6_89d6_11ea_8584_0242ac1c0002row6_col5\" class=\"data row6 col5\" >0.62</td>\n",
              "                        <td id=\"T_ad67caf6_89d6_11ea_8584_0242ac1c0002row6_col6\" class=\"data row6 col6\" >1.00</td>\n",
              "                        <td id=\"T_ad67caf6_89d6_11ea_8584_0242ac1c0002row6_col7\" class=\"data row6 col7\" >0.53</td>\n",
              "                        <td id=\"T_ad67caf6_89d6_11ea_8584_0242ac1c0002row6_col8\" class=\"data row6 col8\" >0.00</td>\n",
              "                        <td id=\"T_ad67caf6_89d6_11ea_8584_0242ac1c0002row6_col9\" class=\"data row6 col9\" >0.13</td>\n",
              "                        <td id=\"T_ad67caf6_89d6_11ea_8584_0242ac1c0002row6_col10\" class=\"data row6 col10\" >-0.45</td>\n",
              "                        <td id=\"T_ad67caf6_89d6_11ea_8584_0242ac1c0002row6_col11\" class=\"data row6 col11\" >-0.17</td>\n",
              "            </tr>\n",
              "            <tr>\n",
              "                        <th id=\"T_ad67caf6_89d6_11ea_8584_0242ac1c0002level0_row7\" class=\"row_heading level0 row7\" >7</th>\n",
              "                        <td id=\"T_ad67caf6_89d6_11ea_8584_0242ac1c0002row7_col0\" class=\"data row7 col0\" >0.27</td>\n",
              "                        <td id=\"T_ad67caf6_89d6_11ea_8584_0242ac1c0002row7_col1\" class=\"data row7 col1\" >0.03</td>\n",
              "                        <td id=\"T_ad67caf6_89d6_11ea_8584_0242ac1c0002row7_col2\" class=\"data row7 col2\" >0.15</td>\n",
              "                        <td id=\"T_ad67caf6_89d6_11ea_8584_0242ac1c0002row7_col3\" class=\"data row7 col3\" >0.84</td>\n",
              "                        <td id=\"T_ad67caf6_89d6_11ea_8584_0242ac1c0002row7_col4\" class=\"data row7 col4\" >0.26</td>\n",
              "                        <td id=\"T_ad67caf6_89d6_11ea_8584_0242ac1c0002row7_col5\" class=\"data row7 col5\" >0.29</td>\n",
              "                        <td id=\"T_ad67caf6_89d6_11ea_8584_0242ac1c0002row7_col6\" class=\"data row7 col6\" >0.53</td>\n",
              "                        <td id=\"T_ad67caf6_89d6_11ea_8584_0242ac1c0002row7_col7\" class=\"data row7 col7\" >1.00</td>\n",
              "                        <td id=\"T_ad67caf6_89d6_11ea_8584_0242ac1c0002row7_col8\" class=\"data row7 col8\" >-0.09</td>\n",
              "                        <td id=\"T_ad67caf6_89d6_11ea_8584_0242ac1c0002row7_col9\" class=\"data row7 col9\" >0.07</td>\n",
              "                        <td id=\"T_ad67caf6_89d6_11ea_8584_0242ac1c0002row7_col10\" class=\"data row7 col10\" >-0.78</td>\n",
              "                        <td id=\"T_ad67caf6_89d6_11ea_8584_0242ac1c0002row7_col11\" class=\"data row7 col11\" >-0.31</td>\n",
              "            </tr>\n",
              "            <tr>\n",
              "                        <th id=\"T_ad67caf6_89d6_11ea_8584_0242ac1c0002level0_row8\" class=\"row_heading level0 row8\" >8</th>\n",
              "                        <td id=\"T_ad67caf6_89d6_11ea_8584_0242ac1c0002row8_col0\" class=\"data row8 col0\" >-0.43</td>\n",
              "                        <td id=\"T_ad67caf6_89d6_11ea_8584_0242ac1c0002row8_col1\" class=\"data row8 col1\" >-0.03</td>\n",
              "                        <td id=\"T_ad67caf6_89d6_11ea_8584_0242ac1c0002row8_col2\" class=\"data row8 col2\" >-0.16</td>\n",
              "                        <td id=\"T_ad67caf6_89d6_11ea_8584_0242ac1c0002row8_col3\" class=\"data row8 col3\" >-0.19</td>\n",
              "                        <td id=\"T_ad67caf6_89d6_11ea_8584_0242ac1c0002row8_col4\" class=\"data row8 col4\" >-0.09</td>\n",
              "                        <td id=\"T_ad67caf6_89d6_11ea_8584_0242ac1c0002row8_col5\" class=\"data row8 col5\" >-0.00</td>\n",
              "                        <td id=\"T_ad67caf6_89d6_11ea_8584_0242ac1c0002row8_col6\" class=\"data row8 col6\" >0.00</td>\n",
              "                        <td id=\"T_ad67caf6_89d6_11ea_8584_0242ac1c0002row8_col7\" class=\"data row8 col7\" >-0.09</td>\n",
              "                        <td id=\"T_ad67caf6_89d6_11ea_8584_0242ac1c0002row8_col8\" class=\"data row8 col8\" >1.00</td>\n",
              "                        <td id=\"T_ad67caf6_89d6_11ea_8584_0242ac1c0002row8_col9\" class=\"data row8 col9\" >0.16</td>\n",
              "                        <td id=\"T_ad67caf6_89d6_11ea_8584_0242ac1c0002row8_col10\" class=\"data row8 col10\" >0.12</td>\n",
              "                        <td id=\"T_ad67caf6_89d6_11ea_8584_0242ac1c0002row8_col11\" class=\"data row8 col11\" >0.10</td>\n",
              "            </tr>\n",
              "            <tr>\n",
              "                        <th id=\"T_ad67caf6_89d6_11ea_8584_0242ac1c0002level0_row9\" class=\"row_heading level0 row9\" >9</th>\n",
              "                        <td id=\"T_ad67caf6_89d6_11ea_8584_0242ac1c0002row9_col0\" class=\"data row9 col0\" >-0.02</td>\n",
              "                        <td id=\"T_ad67caf6_89d6_11ea_8584_0242ac1c0002row9_col1\" class=\"data row9 col1\" >-0.04</td>\n",
              "                        <td id=\"T_ad67caf6_89d6_11ea_8584_0242ac1c0002row9_col2\" class=\"data row9 col2\" >0.06</td>\n",
              "                        <td id=\"T_ad67caf6_89d6_11ea_8584_0242ac1c0002row9_col3\" class=\"data row9 col3\" >-0.03</td>\n",
              "                        <td id=\"T_ad67caf6_89d6_11ea_8584_0242ac1c0002row9_col4\" class=\"data row9 col4\" >0.02</td>\n",
              "                        <td id=\"T_ad67caf6_89d6_11ea_8584_0242ac1c0002row9_col5\" class=\"data row9 col5\" >0.06</td>\n",
              "                        <td id=\"T_ad67caf6_89d6_11ea_8584_0242ac1c0002row9_col6\" class=\"data row9 col6\" >0.13</td>\n",
              "                        <td id=\"T_ad67caf6_89d6_11ea_8584_0242ac1c0002row9_col7\" class=\"data row9 col7\" >0.07</td>\n",
              "                        <td id=\"T_ad67caf6_89d6_11ea_8584_0242ac1c0002row9_col8\" class=\"data row9 col8\" >0.16</td>\n",
              "                        <td id=\"T_ad67caf6_89d6_11ea_8584_0242ac1c0002row9_col9\" class=\"data row9 col9\" >1.00</td>\n",
              "                        <td id=\"T_ad67caf6_89d6_11ea_8584_0242ac1c0002row9_col10\" class=\"data row9 col10\" >-0.02</td>\n",
              "                        <td id=\"T_ad67caf6_89d6_11ea_8584_0242ac1c0002row9_col11\" class=\"data row9 col11\" >0.05</td>\n",
              "            </tr>\n",
              "            <tr>\n",
              "                        <th id=\"T_ad67caf6_89d6_11ea_8584_0242ac1c0002level0_row10\" class=\"row_heading level0 row10\" >10</th>\n",
              "                        <td id=\"T_ad67caf6_89d6_11ea_8584_0242ac1c0002row10_col0\" class=\"data row10 col0\" >-0.12</td>\n",
              "                        <td id=\"T_ad67caf6_89d6_11ea_8584_0242ac1c0002row10_col1\" class=\"data row10 col1\" >0.07</td>\n",
              "                        <td id=\"T_ad67caf6_89d6_11ea_8584_0242ac1c0002row10_col2\" class=\"data row10 col2\" >-0.08</td>\n",
              "                        <td id=\"T_ad67caf6_89d6_11ea_8584_0242ac1c0002row10_col3\" class=\"data row10 col3\" >-0.45</td>\n",
              "                        <td id=\"T_ad67caf6_89d6_11ea_8584_0242ac1c0002row10_col4\" class=\"data row10 col4\" >-0.36</td>\n",
              "                        <td id=\"T_ad67caf6_89d6_11ea_8584_0242ac1c0002row10_col5\" class=\"data row10 col5\" >-0.25</td>\n",
              "                        <td id=\"T_ad67caf6_89d6_11ea_8584_0242ac1c0002row10_col6\" class=\"data row10 col6\" >-0.45</td>\n",
              "                        <td id=\"T_ad67caf6_89d6_11ea_8584_0242ac1c0002row10_col7\" class=\"data row10 col7\" >-0.78</td>\n",
              "                        <td id=\"T_ad67caf6_89d6_11ea_8584_0242ac1c0002row10_col8\" class=\"data row10 col8\" >0.12</td>\n",
              "                        <td id=\"T_ad67caf6_89d6_11ea_8584_0242ac1c0002row10_col9\" class=\"data row10 col9\" >-0.02</td>\n",
              "                        <td id=\"T_ad67caf6_89d6_11ea_8584_0242ac1c0002row10_col10\" class=\"data row10 col10\" >1.00</td>\n",
              "                        <td id=\"T_ad67caf6_89d6_11ea_8584_0242ac1c0002row10_col11\" class=\"data row10 col11\" >0.44</td>\n",
              "            </tr>\n",
              "            <tr>\n",
              "                        <th id=\"T_ad67caf6_89d6_11ea_8584_0242ac1c0002level0_row11\" class=\"row_heading level0 row11\" >11</th>\n",
              "                        <td id=\"T_ad67caf6_89d6_11ea_8584_0242ac1c0002row11_col0\" class=\"data row11 col0\" >-0.11</td>\n",
              "                        <td id=\"T_ad67caf6_89d6_11ea_8584_0242ac1c0002row11_col1\" class=\"data row11 col1\" >-0.19</td>\n",
              "                        <td id=\"T_ad67caf6_89d6_11ea_8584_0242ac1c0002row11_col2\" class=\"data row11 col2\" >-0.01</td>\n",
              "                        <td id=\"T_ad67caf6_89d6_11ea_8584_0242ac1c0002row11_col3\" class=\"data row11 col3\" >-0.10</td>\n",
              "                        <td id=\"T_ad67caf6_89d6_11ea_8584_0242ac1c0002row11_col4\" class=\"data row11 col4\" >-0.21</td>\n",
              "                        <td id=\"T_ad67caf6_89d6_11ea_8584_0242ac1c0002row11_col5\" class=\"data row11 col5\" >0.01</td>\n",
              "                        <td id=\"T_ad67caf6_89d6_11ea_8584_0242ac1c0002row11_col6\" class=\"data row11 col6\" >-0.17</td>\n",
              "                        <td id=\"T_ad67caf6_89d6_11ea_8584_0242ac1c0002row11_col7\" class=\"data row11 col7\" >-0.31</td>\n",
              "                        <td id=\"T_ad67caf6_89d6_11ea_8584_0242ac1c0002row11_col8\" class=\"data row11 col8\" >0.10</td>\n",
              "                        <td id=\"T_ad67caf6_89d6_11ea_8584_0242ac1c0002row11_col9\" class=\"data row11 col9\" >0.05</td>\n",
              "                        <td id=\"T_ad67caf6_89d6_11ea_8584_0242ac1c0002row11_col10\" class=\"data row11 col10\" >0.44</td>\n",
              "                        <td id=\"T_ad67caf6_89d6_11ea_8584_0242ac1c0002row11_col11\" class=\"data row11 col11\" >1.00</td>\n",
              "            </tr>\n",
              "    </tbody></table>"
            ],
            "text/plain": [
              "<pandas.io.formats.style.Styler at 0x7f4e88c8d898>"
            ]
          },
          "metadata": {
            "tags": []
          },
          "execution_count": 6
        }
      ]
    },
    {
      "cell_type": "code",
      "metadata": {
        "id": "mR4OtS_bUU_L",
        "colab_type": "code",
        "outputId": "594eb8dc-da8a-4739-8a84-a9b90dad947a",
        "colab": {
          "base_uri": "https://localhost:8080/",
          "height": 500
        }
      },
      "source": [
        "import seaborn as sns\n",
        "import matplotlib.pyplot as plt\n",
        "\n",
        "f, ax = plt.subplots(figsize=(10, 8))\n",
        "df = pd.DataFrame(wineq_numpy)\n",
        "corr = df.corr()\n",
        "sns.heatmap(corr, mask=np.zeros_like(corr, dtype=np.bool), cmap=sns.diverging_palette(240, 10, as_cmap=True),\n",
        "            square=True, ax=ax,annot=True)"
      ],
      "execution_count": 0,
      "outputs": [
        {
          "output_type": "execute_result",
          "data": {
            "text/plain": [
              "<matplotlib.axes._subplots.AxesSubplot at 0x7f4e797136a0>"
            ]
          },
          "metadata": {
            "tags": []
          },
          "execution_count": 31
        },
        {
          "output_type": "display_data",
          "data": {
            "image/png": "[encoded data removed]",
            "text/plain": [
              "<Figure size 720x576 with 2 Axes>"
            ]
          },
          "metadata": {
            "tags": []
          }
        }
      ]
    },
    {
      "cell_type": "code",
      "metadata": {
        "id": "Ug5r_CNNYNTp",
        "colab_type": "code",
        "outputId": "bab2b5ad-6f98-4dda-e213-f955c2d6127c",
        "colab": {
          "base_uri": "https://localhost:8080/",
          "height": 571
        }
      },
      "source": [
        "# Using pandas library for calculate correalation\n",
        "import pandas as pd\n",
        "\n",
        "#normalized data before apply corr function\n",
        "wine_mean = wineq_numpy.mean();\n",
        "wine_var = wineq_numpy.var();\n",
        "wineq_numpy_normalized = (wineq_numpy - wine_mean)/np.sqrt(wine_var)\n",
        "#rs = np.random.RandomState(0)\n",
        "dataframe = pd.DataFrame(wineq_numpy_normalized, columns=col_list)\n",
        "\n",
        "f, ax = plt.subplots(figsize=(10, 8))\n",
        "corr = dataframe.corr()\n",
        "#Draw the matrix with labels using heatmap\n",
        "sns.heatmap(corr, mask=np.zeros_like(corr, dtype=np.bool), cmap=sns.diverging_palette(240, 10, as_cmap=True),\n",
        "square=True, ax=ax,  xticklabels=corr.columns, yticklabels=corr.columns, annot=True)"
      ],
      "execution_count": 0,
      "outputs": [
        {
          "output_type": "execute_result",
          "data": {
            "text/plain": [
              "<matplotlib.axes._subplots.AxesSubplot at 0x7f4e79865080>"
            ]
          },
          "metadata": {
            "tags": []
          },
          "execution_count": 30
        },
        {
          "output_type": "display_data",
          "data": {
            "image/png": "[encoded data removed]",
            "text/plain": [
              "<Figure size 720x576 with 2 Axes>"
            ]
          },
          "metadata": {
            "tags": []
          }
        }
      ]
    },
    {
      "cell_type": "code",
      "metadata": {
        "id": "oLdDzgOu3nHv",
        "colab_type": "code",
        "outputId": "db21fd75-e2cc-491c-92aa-6289fc0040ba",
        "colab": {
          "base_uri": "https://localhost:8080/",
          "height": 34
        }
      },
      "source": [
        "#convert to Pytorch Tensor from NumPy\n",
        "wineq = torch.from_numpy(wineq_numpy)\n",
        "\n",
        "wineq.shape, wineq.dtype"
      ],
      "execution_count": 0,
      "outputs": [
        {
          "output_type": "execute_result",
          "data": {
            "text/plain": [
              "(torch.Size([4898, 12]), torch.float32)"
            ]
          },
          "metadata": {
            "tags": []
          },
          "execution_count": 10
        }
      ]
    },
    {
      "cell_type": "code",
      "metadata": {
        "id": "DQUFue6Z7kn5",
        "colab_type": "code",
        "outputId": "a8e20ec5-7c8f-4110-d8c7-3619f1ab1fed",
        "colab": {
          "base_uri": "https://localhost:8080/",
          "height": 151
        }
      },
      "source": [
        "#data \n",
        "data = wineq[:,:-1]\n",
        "data, data.shape"
      ],
      "execution_count": 0,
      "outputs": [
        {
          "output_type": "execute_result",
          "data": {
            "text/plain": [
              "(tensor([[ 7.0000,  0.2700,  0.3600,  ...,  3.0000,  0.4500,  8.8000],\n",
              "         [ 6.3000,  0.3000,  0.3400,  ...,  3.3000,  0.4900,  9.5000],\n",
              "         [ 8.1000,  0.2800,  0.4000,  ...,  3.2600,  0.4400, 10.1000],\n",
              "         ...,\n",
              "         [ 6.5000,  0.2400,  0.1900,  ...,  2.9900,  0.4600,  9.4000],\n",
              "         [ 5.5000,  0.2900,  0.3000,  ...,  3.3400,  0.3800, 12.8000],\n",
              "         [ 6.0000,  0.2100,  0.3800,  ...,  3.2600,  0.3200, 11.8000]]),\n",
              " torch.Size([4898, 11]))"
            ]
          },
          "metadata": {
            "tags": []
          },
          "execution_count": 16
        }
      ]
    },
    {
      "cell_type": "code",
      "metadata": {
        "id": "R0Kq_wNQ779x",
        "colab_type": "code",
        "outputId": "f9231d48-6e4d-4caf-96f0-1a7ed91495c9",
        "colab": {
          "base_uri": "https://localhost:8080/",
          "height": 34
        }
      },
      "source": [
        "#target = wineq[:, -1].long()\n",
        "target = wineq[:, -1]\n",
        "target, target.shape"
      ],
      "execution_count": 0,
      "outputs": [
        {
          "output_type": "execute_result",
          "data": {
            "text/plain": [
              "(tensor([6., 6., 6.,  ..., 6., 7., 6.]), torch.Size([4898]))"
            ]
          },
          "metadata": {
            "tags": []
          },
          "execution_count": 15
        }
      ]
    },
    {
      "cell_type": "code",
      "metadata": {
        "id": "6ABkPCyZ-iMC",
        "colab_type": "code",
        "outputId": "ffd057a4-a14f-4d6c-b288-16b0df830013",
        "colab": {
          "base_uri": "https://localhost:8080/",
          "height": 50
        }
      },
      "source": [
        "#caluculate mean and variance of data\n",
        "data_mean = torch.mean(data, dim = 0)\n",
        "data_mean"
      ],
      "execution_count": 0,
      "outputs": [
        {
          "output_type": "execute_result",
          "data": {
            "text/plain": [
              "tensor([6.8548e+00, 2.7824e-01, 3.3419e-01, 6.3914e+00, 4.5772e-02, 3.5308e+01,\n",
              "        1.3836e+02, 9.9403e-01, 3.1883e+00, 4.8985e-01, 1.0514e+01])"
            ]
          },
          "metadata": {
            "tags": []
          },
          "execution_count": 18
        }
      ]
    },
    {
      "cell_type": "code",
      "metadata": {
        "id": "14gZ7fRp-yCX",
        "colab_type": "code",
        "outputId": "c1d812e2-21a5-4ea0-d879-e241ecd9dd11",
        "colab": {
          "base_uri": "https://localhost:8080/",
          "height": 50
        }
      },
      "source": [
        "data_var = torch.var(data, dim = 0)\n",
        "data_var"
      ],
      "execution_count": 0,
      "outputs": [
        {
          "output_type": "execute_result",
          "data": {
            "text/plain": [
              "tensor([7.1211e-01, 1.0160e-02, 1.4646e-02, 2.5726e+01, 4.7733e-04, 2.8924e+02,\n",
              "        1.8061e+03, 8.9455e-06, 2.2801e-02, 1.3025e-02, 1.5144e+00])"
            ]
          },
          "metadata": {
            "tags": []
          },
          "execution_count": 17
        }
      ]
    },
    {
      "cell_type": "code",
      "metadata": {
        "id": "qgCcSr7V_AGu",
        "colab_type": "code",
        "outputId": "17394319-26d0-4a85-8d21-9bb498a87c82",
        "colab": {
          "base_uri": "https://localhost:8080/",
          "height": 235
        }
      },
      "source": [
        "#normalized data\n",
        "data_normalized = (data - data_mean)/torch.sqrt(data_var)\n",
        "data_normalized"
      ],
      "execution_count": 0,
      "outputs": [
        {
          "output_type": "execute_result",
          "data": {
            "text/plain": [
              "tensor([[ 1.7209e-01, -8.1764e-02,  2.1325e-01,  ..., -1.2468e+00,\n",
              "         -3.4914e-01, -1.3930e+00],\n",
              "        [-6.5743e-01,  2.1587e-01,  4.7991e-02,  ...,  7.3992e-01,\n",
              "          1.3467e-03, -8.2418e-01],\n",
              "        [ 1.4756e+00,  1.7448e-02,  5.4378e-01,  ...,  4.7502e-01,\n",
              "         -4.3677e-01, -3.3662e-01],\n",
              "        ...,\n",
              "        [-4.2042e-01, -3.7940e-01, -1.1915e+00,  ..., -1.3131e+00,\n",
              "         -2.6152e-01, -9.0544e-01],\n",
              "        [-1.6054e+00,  1.1666e-01, -2.8253e-01,  ...,  1.0048e+00,\n",
              "         -9.6250e-01,  1.8574e+00],\n",
              "        [-1.0129e+00, -6.7703e-01,  3.7852e-01,  ...,  4.7502e-01,\n",
              "         -1.4882e+00,  1.0448e+00]])"
            ]
          },
          "metadata": {
            "tags": []
          },
          "execution_count": 19
        }
      ]
    },
    {
      "cell_type": "code",
      "metadata": {
        "id": "vpHVSMtY_P2W",
        "colab_type": "code",
        "outputId": "1a3268c5-8c75-4c97-9e84-138caadaa79d",
        "colab": {
          "base_uri": "https://localhost:8080/",
          "height": 34
        }
      },
      "source": [
        "bad_indexes = target <= 3\n",
        "bad_indexes.shape, bad_indexes.dtype, bad_indexes.sum()"
      ],
      "execution_count": 0,
      "outputs": [
        {
          "output_type": "execute_result",
          "data": {
            "text/plain": [
              "(torch.Size([4898]), torch.bool, tensor(20))"
            ]
          },
          "metadata": {
            "tags": []
          },
          "execution_count": 20
        }
      ]
    },
    {
      "cell_type": "code",
      "metadata": {
        "id": "vZQhmydvAgvJ",
        "colab_type": "code",
        "outputId": "b98f1bee-4b30-4864-949b-108e74c399ac",
        "colab": {
          "base_uri": "https://localhost:8080/",
          "height": 202
        }
      },
      "source": [
        "bad_data = data[target <= 3]\n",
        "mid_data = data[(target > 3) & (target < 7)]\n",
        "good_data = data[target >= 7]\n",
        "\n",
        "bad_mean = torch.mean(bad_data, dim=0)\n",
        "mid_mean = torch.mean(mid_data, dim=0)\n",
        "good_mean = torch.mean(good_data, dim=0)\n",
        "\n",
        "for i, args in enumerate(zip(col_list, bad_mean, mid_mean, good_mean)):\n",
        "    print('{:2} {:20} {:6.2f} {:6.2f} {:6.2f}'.format(i, *args))"
      ],
      "execution_count": 0,
      "outputs": [
        {
          "output_type": "stream",
          "text": [
            " 0 fixed acidity          7.60   6.89   6.73\n",
            " 1 volatile acidity       0.33   0.28   0.27\n",
            " 2 citric acid            0.34   0.34   0.33\n",
            " 3 residual sugar         6.39   6.71   5.26\n",
            " 4 chlorides              0.05   0.05   0.04\n",
            " 5 free sulfur dioxide   53.33  35.42  34.55\n",
            " 6 total sulfur dioxide 170.60 141.83 125.25\n",
            " 7 density                0.99   0.99   0.99\n",
            " 8 pH                     3.19   3.18   3.22\n",
            " 9 sulphates              0.47   0.49   0.50\n",
            "10 alcohol               10.34  10.26  11.42\n"
          ],
          "name": "stdout"
        }
      ]
    },
    {
      "cell_type": "code",
      "metadata": {
        "id": "d4WfcxcJCydk",
        "colab_type": "code",
        "outputId": "364e45f7-3359-40f6-f9f4-d9f0f7c0b68c",
        "colab": {
          "base_uri": "https://localhost:8080/",
          "height": 34
        }
      },
      "source": [
        "data.shape, target.shape\n"
      ],
      "execution_count": 0,
      "outputs": [
        {
          "output_type": "execute_result",
          "data": {
            "text/plain": [
              "(torch.Size([4898, 11]), torch.Size([4898]))"
            ]
          },
          "metadata": {
            "tags": []
          },
          "execution_count": 22
        }
      ]
    },
    {
      "cell_type": "code",
      "metadata": {
        "id": "yce9utcXHnnW",
        "colab_type": "code",
        "outputId": "e5ee9c55-dadb-490b-bfe3-75fd6eae4d72",
        "colab": {
          "base_uri": "https://localhost:8080/",
          "height": 50
        }
      },
      "source": [
        "data[1,:]"
      ],
      "execution_count": 0,
      "outputs": [
        {
          "output_type": "execute_result",
          "data": {
            "text/plain": [
              "tensor([6.3000e+00, 3.0000e-01, 3.4000e-01, 1.6000e+00, 4.9000e-02, 1.4000e+01,\n",
              "        1.3200e+02, 9.9400e-01, 3.3000e+00, 4.9000e-01, 9.5000e+00])"
            ]
          },
          "metadata": {
            "tags": []
          },
          "execution_count": 23
        }
      ]
    },
    {
      "cell_type": "code",
      "metadata": {
        "id": "-l-3OZNxG4Kx",
        "colab_type": "code",
        "outputId": "ab35ab5c-ddc1-4c61-dd2f-06bbbf964feb",
        "colab": {
          "base_uri": "https://localhost:8080/",
          "height": 277
        }
      },
      "source": [
        "import matplotlib.pyplot as plt\n",
        "plt.style.use('seaborn-white')\n",
        "y = target\n",
        "fig = plt.figure()\n",
        "fig.subplots_adjust(hspace=0.8, wspace=0.3)\n",
        "for i in range(1, 12):\n",
        "\tplt.subplot(4, 3, i)\n",
        "\tx = data[:,i-1]\n",
        "\tplt.scatter(x,y)\n",
        "\n",
        "\tm, b = np.polyfit(x, y, 1)\n",
        "\tplt.plot(x, m*x + b,'r--')\n",
        "\tplt.title(col_list[i-1])"
      ],
      "execution_count": 0,
      "outputs": [
        {
          "output_type": "display_data",
          "data": {
            "image/png": "[encoded data removed]",
            "text/plain": [
              "<Figure size 432x288 with 11 Axes>"
            ]
          },
          "metadata": {
            "tags": []
          }
        }
      ]
    },
    {
      "cell_type": "code",
      "metadata": {
        "id": "d1fAhRq5Umvc",
        "colab_type": "code",
        "colab": {}
      },
      "source": [
        "import matplotlib.pyplot as plt"
      ],
      "execution_count": 0,
      "outputs": []
    },
    {
      "cell_type": "code",
      "metadata": {
        "id": "k5dw72_-K64z",
        "colab_type": "code",
        "colab": {}
      },
      "source": [
        "import torch.nn as nn\n",
        "import torch.optim as optim\n",
        "\n",
        "\n",
        "\n",
        "#seperate data for traning and validate set\n",
        "n_samples = target.shape[0]\n",
        "n_val = int(0.2*n_samples)\n",
        "\n",
        "shuffled_indices = torch.randperm(n_samples)\n",
        "\n",
        "train_indices = shuffled_indices[:n_val]\n",
        "val_indices = shuffled_indices[-n_val:]\n",
        "\n",
        "# data for training\n",
        "train_data = data[train_indices]\n",
        "train_data_n = data_normalized[train_indices]\n",
        "train_target = target[train_indices]\n",
        "# data for validation\n",
        "val_data = data[val_indices]\n",
        "val_data_n = data_normalized[val_indices]\n",
        "val_target = target[val_indices]\n"
      ],
      "execution_count": 0,
      "outputs": []
    },
    {
      "cell_type": "code",
      "metadata": {
        "id": "zHBuEqnCVtsC",
        "colab_type": "code",
        "colab": {}
      },
      "source": [
        "num_features = 11\n",
        "model = nn.Linear(num_features,1) #\n",
        "#model(train_data).shape\n",
        "#model.weight, model.bias\n",
        "optimizer = optim.SGD(\n",
        "    model.parameters(),\n",
        "    lr=1e-2\n",
        ")"
      ],
      "execution_count": 0,
      "outputs": []
    },
    {
      "cell_type": "code",
      "metadata": {
        "id": "ljyPCE5QcYEj",
        "colab_type": "code",
        "outputId": "5b52bc69-491b-4782-cb77-c4d62dc3bbbe",
        "colab": {
          "base_uri": "https://localhost:8080/",
          "height": 102
        }
      },
      "source": [
        "model.parameters()\n",
        "list(model.parameters())"
      ],
      "execution_count": 0,
      "outputs": [
        {
          "output_type": "execute_result",
          "data": {
            "text/plain": [
              "[Parameter containing:\n",
              " tensor([[ 0.0835, -0.2269,  0.1669, -0.1559,  0.2006,  0.1495,  0.2227,  0.0961,\n",
              "           0.1960,  0.2933, -0.0413]], requires_grad=True),\n",
              " Parameter containing:\n",
              " tensor([0.1286], requires_grad=True)]"
            ]
          },
          "metadata": {
            "tags": []
          },
          "execution_count": 58
        }
      ]
    },
    {
      "cell_type": "code",
      "metadata": {
        "id": "uW5nvKaEelQn",
        "colab_type": "code",
        "colab": {}
      },
      "source": [
        "def training_loop(n_epochs, optimizer, model, loss_fn, train_data, train_target, val_data, val_target):\n",
        "    tl = [] # training loss\n",
        "    vl = [] # validation loss\n",
        "    n  = []\n",
        "    for epoch in range(1, n_epochs+1): # one epoch: entire dataset is passed through NN once\n",
        "\n",
        "        # Attatching model and loss function\n",
        "        train_pred = model(train_data)  \n",
        "        loss_train = loss_fn(train_pred, train_target)\n",
        "\n",
        "        # To validate the model, we measure the testing error with testing data\n",
        "        val_pred = model(val_data)\n",
        "        loss_val = loss_fn(val_pred, val_target)\n",
        "\n",
        "        # Attach optimizer to train the model\n",
        "        optimizer.zero_grad() # should initialize gradient value at each iteration\n",
        "        loss_train.backward() # gradinet is calculated\n",
        "        optimizer.step() # parameter updates using gradient\n",
        "        \n",
        "        \n",
        "        if epoch==1 or epoch % 1000 ==0:\n",
        "          print('Epoch {}, Training loss {}, Validation loss {}'. format(\n",
        "              epoch, float(loss_train), float(loss_val)\n",
        "              ))\n",
        "          tl.append(float(loss_train))#.unsqueeze(0)\n",
        "          vl.append(float(loss_val)) #.unsqueeze(0)\n",
        "          n.append(epoch)\n",
        "        \n",
        "    return tl, vl, n"
      ],
      "execution_count": 0,
      "outputs": []
    },
    {
      "cell_type": "code",
      "metadata": {
        "id": "m51tGFKpY6b-",
        "colab_type": "code",
        "outputId": "edd43889-bada-42b8-ad42-511ca7b1196d",
        "colab": {
          "base_uri": "https://localhost:8080/",
          "height": 34
        }
      },
      "source": [
        "var = [] \n",
        "for I in range(0, 10):\n",
        "    new_stuff = torch.tensor(I)# do stuff \n",
        "    var.append(new_stuff.unsqueeze(0))\n",
        "var_tensor = torch.cat(var)\n",
        "var_tensor"
      ],
      "execution_count": 0,
      "outputs": [
        {
          "output_type": "execute_result",
          "data": {
            "text/plain": [
              "tensor([0, 1, 2, 3, 4, 5, 6, 7, 8, 9])"
            ]
          },
          "metadata": {
            "tags": []
          },
          "execution_count": 67
        }
      ]
    },
    {
      "cell_type": "code",
      "metadata": {
        "id": "76tttHkrgnCz",
        "colab_type": "code",
        "outputId": "787f5ea5-44a8-4e8b-e362-b782d2198147",
        "colab": {
          "base_uri": "https://localhost:8080/",
          "height": 171
        }
      },
      "source": [
        "# Learning simple linear model\n",
        "import torch.nn as nn\n",
        "import torch.optim as optim\n",
        "\n",
        "# Simple Linear Model\n",
        "num_features = 11\n",
        "model = nn.Linear(num_features,1) # Simple Linear Model without Activation Function\n",
        "optimizer= optim.SGD(model.parameters(), lr=1e-3) # Stochastic Gradient Descent\n",
        "loss_fn =nn.MSELoss() # Mean Squared Error\n",
        "\n",
        "train_loss, val_loss, n = training_loop(\n",
        "    n_epochs = 5000,\n",
        "    optimizer = optimizer,\n",
        "    model=model,\n",
        "    loss_fn= loss_fn,\n",
        "    train_data = train_data_n,\n",
        "    train_target = train_target,\n",
        "    val_data = val_data_n,\n",
        "    val_target = val_target\n",
        ")\n"
      ],
      "execution_count": 0,
      "outputs": [
        {
          "output_type": "stream",
          "text": [
            "/usr/local/lib/python3.6/dist-packages/torch/nn/modules/loss.py:431: UserWarning: Using a target size (torch.Size([979])) that is different to the input size (torch.Size([979, 1])). This will likely lead to incorrect results due to broadcasting. Please ensure they have the same size.\n",
            "  return F.mse_loss(input, target, reduction=self.reduction)\n"
          ],
          "name": "stderr"
        },
        {
          "output_type": "stream",
          "text": [
            "Epoch 1, Training loss 38.3662223815918, Validation loss 38.047237396240234\n",
            "Epoch 1000, Training loss 1.5705317258834839, Validation loss 1.5505905151367188\n",
            "Epoch 2000, Training loss 0.8700019121170044, Validation loss 0.8196046948432922\n",
            "Epoch 3000, Training loss 0.8518056273460388, Validation loss 0.8016180992126465\n",
            "Epoch 4000, Training loss 0.8503388166427612, Validation loss 0.8004306554794312\n",
            "Epoch 5000, Training loss 0.850006103515625, Validation loss 0.8002088069915771\n"
          ],
          "name": "stdout"
        }
      ]
    },
    {
      "cell_type": "code",
      "metadata": {
        "id": "0fvknjenk3I0",
        "colab_type": "code",
        "outputId": "3e712f95-f98b-48d8-86be-e356a1c9480e",
        "colab": {
          "base_uri": "https://localhost:8080/",
          "height": 282
        }
      },
      "source": [
        "import matplotlib.pyplot as plt\n",
        "\n",
        "#n = range(1, 5000 + 1)\n",
        "plt.plot(n, train_loss,'b-')\n",
        "plt.plot(n, val_loss,'r-')\n",
        "plt.yscale('log')\n"
      ],
      "execution_count": 0,
      "outputs": [
        {
          "output_type": "execute_result",
          "data": {
            "text/plain": [
              "(0.8499341607093811, 0.7999579906463623)"
            ]
          },
          "metadata": {
            "tags": []
          },
          "execution_count": 127
        },
        {
          "output_type": "display_data",
          "data": {
            "image/png": "[encoded data removed]",
            "text/plain": [
              "<Figure size 432x288 with 1 Axes>"
            ]
          },
          "metadata": {
            "tags": [],
            "needs_background": "light"
          }
        }
      ]
    },
    {
      "cell_type": "code",
      "metadata": {
        "id": "DDgpTJZqlwd1",
        "colab_type": "code",
        "outputId": "4f8ad0f7-4e95-46ee-9dac-62395cb01714",
        "colab": {
          "base_uri": "https://localhost:8080/",
          "height": 34
        }
      },
      "source": [
        "len(train_loss),len(n), "
      ],
      "execution_count": 0,
      "outputs": [
        {
          "output_type": "execute_result",
          "data": {
            "text/plain": [
              "(6, 6)"
            ]
          },
          "metadata": {
            "tags": []
          },
          "execution_count": 135
        }
      ]
    },
    {
      "cell_type": "markdown",
      "metadata": {
        "id": "wF0jwiBZoxY9",
        "colab_type": "text"
      },
      "source": [
        "#Model Training with Neural Network"
      ]
    },
    {
      "cell_type": "code",
      "metadata": {
        "id": "XwGrmV2mo6yC",
        "colab_type": "code",
        "outputId": "e61bd681-1e96-45c4-e0fe-bdc0e0bcd08e",
        "colab": {
          "base_uri": "https://localhost:8080/",
          "height": 101
        }
      },
      "source": [
        "seq_model = nn.Sequential(\n",
        "    nn.Linear(num_features, 16),\n",
        "    nn.Tanh(),\n",
        "    #nn.Linear(8, 4),\n",
        "    #nn.ReLU(),\n",
        "    nn.Linear(16,1)\n",
        ")\n",
        "seq_model"
      ],
      "execution_count": 0,
      "outputs": [
        {
          "output_type": "execute_result",
          "data": {
            "text/plain": [
              "Sequential(\n",
              "  (0): Linear(in_features=11, out_features=16, bias=True)\n",
              "  (1): Tanh()\n",
              "  (2): Linear(in_features=16, out_features=1, bias=True)\n",
              ")"
            ]
          },
          "metadata": {
            "tags": []
          },
          "execution_count": 120
        }
      ]
    },
    {
      "cell_type": "code",
      "metadata": {
        "id": "eoMGngaxrbox",
        "colab_type": "code",
        "colab": {}
      },
      "source": [
        "optimizer = optim.SGD(seq_model.parameters(), lr=1e-2)\n",
        "training_loop(\n",
        "    n_epochs = 5000,\n",
        "    optimizer = optimizer,\n",
        "    model=seq_model,\n",
        "    loss_fn= loss_fn,\n",
        "    train_data = train_data_n,\n",
        "    train_target = train_target,\n",
        "    val_data = val_data_n,\n",
        "    val_target = val_target\n",
        ")"
      ],
      "execution_count": 0,
      "outputs": []
    },
    {
      "cell_type": "markdown",
      "metadata": {
        "id": "Mo0K64IUx3kk",
        "colab_type": "text"
      },
      "source": [
        "#Alternate features for training"
      ]
    },
    {
      "cell_type": "code",
      "metadata": {
        "id": "9kQEr0ltuVgd",
        "colab_type": "code",
        "colab": {}
      },
      "source": [
        "Selected_features = [1, 4, 7, 10]\n",
        "# data for training\n",
        "train_X = data[:,Selected_features]\n",
        "train_X = train_X[train_indices]\n",
        "train_Xn = data_normalized[:, Selected_features]\n",
        "train_Xn = train_Xn[train_indices]\n",
        "train_Y = target[train_indices]\n",
        "# data for validation\n",
        "val_X = data[:,Selected_features]\n",
        "val_X = val_X[val_indices]\n",
        "val_Xn = data_normalized[:, Selected_features]\n",
        "val_Xn = val_Xn[val_indices]\n",
        "val_Y = target[val_indices]"
      ],
      "execution_count": 0,
      "outputs": []
    },
    {
      "cell_type": "code",
      "metadata": {
        "id": "U2yQZJ1kyCBz",
        "colab_type": "code",
        "outputId": "c0c4a219-0752-4427-d243-a74ef8910a79",
        "colab": {
          "base_uri": "https://localhost:8080/",
          "height": 168
        }
      },
      "source": [
        "num_features = len(Selected_features)\n",
        "seq_model = nn.Sequential(\n",
        "    nn.Linear(num_features, 16),\n",
        "    nn.Tanh(),\n",
        "    nn.Linear(16, 4),\n",
        "    nn.LeakyReLU(),\n",
        "    nn.Linear(4, 2),\n",
        "    nn.ReLU(),\n",
        "    nn.Linear(2,1)\n",
        ")\n",
        "seq_model"
      ],
      "execution_count": 0,
      "outputs": [
        {
          "output_type": "execute_result",
          "data": {
            "text/plain": [
              "Sequential(\n",
              "  (0): Linear(in_features=4, out_features=16, bias=True)\n",
              "  (1): Tanhshrink()\n",
              "  (2): Linear(in_features=16, out_features=4, bias=True)\n",
              "  (3): LeakyReLU(negative_slope=0.01)\n",
              "  (4): Linear(in_features=4, out_features=2, bias=True)\n",
              "  (5): ReLU()\n",
              "  (6): Linear(in_features=2, out_features=1, bias=True)\n",
              ")"
            ]
          },
          "metadata": {
            "tags": []
          },
          "execution_count": 224
        }
      ]
    },
    {
      "cell_type": "markdown",
      "metadata": {
        "id": "ubST1xpYzp68",
        "colab_type": "text"
      },
      "source": [
        "#Training and Validation"
      ]
    },
    {
      "cell_type": "markdown",
      "metadata": {
        "id": "hVP59vcIxx2B",
        "colab_type": "text"
      },
      "source": [
        "# New Section"
      ]
    },
    {
      "cell_type": "code",
      "metadata": {
        "id": "5DlopGJVzpCq",
        "colab_type": "code",
        "outputId": "8a2b58b1-9b1b-4dcc-83d5-51a9acf2e3f6",
        "colab": {
          "base_uri": "https://localhost:8080/",
          "height": 171
        }
      },
      "source": [
        "optimizer = optim.SGD(seq_model.parameters(), lr=1e-3)\n",
        "traing_loss, val_loss, n = training_loop(\n",
        "    n_epochs = 5000,\n",
        "    optimizer = optimizer,\n",
        "    model=seq_model,\n",
        "    loss_fn= loss_fn,\n",
        "    train_data = train_Xn,\n",
        "    train_target = train_Y,\n",
        "    val_data = val_Xn,\n",
        "    val_target = val_Y\n",
        ")"
      ],
      "execution_count": 0,
      "outputs": [
        {
          "output_type": "stream",
          "text": [
            "/usr/local/lib/python3.6/dist-packages/torch/nn/modules/loss.py:431: UserWarning: Using a target size (torch.Size([979])) that is different to the input size (torch.Size([979, 1])). This will likely lead to incorrect results due to broadcasting. Please ensure they have the same size.\n",
            "  return F.mse_loss(input, target, reduction=self.reduction)\n"
          ],
          "name": "stderr"
        },
        {
          "output_type": "stream",
          "text": [
            "Epoch 1, Training loss 0.8499754667282104, Validation loss 0.8005884289741516\n",
            "Epoch 1000, Training loss 0.8499779105186462, Validation loss 0.8005820512771606\n",
            "Epoch 2000, Training loss 0.8499730825424194, Validation loss 0.8005678057670593\n",
            "Epoch 3000, Training loss 0.8499730229377747, Validation loss 0.8005536198616028\n",
            "Epoch 4000, Training loss 0.8499731421470642, Validation loss 0.8005473017692566\n",
            "Epoch 5000, Training loss 0.8499701023101807, Validation loss 0.8005382418632507\n"
          ],
          "name": "stdout"
        }
      ]
    },
    {
      "cell_type": "code",
      "metadata": {
        "id": "TYLDHyhSyMJf",
        "colab_type": "code",
        "outputId": "fbfc33a7-d0c7-4c19-89a4-2d4ea1321c8e",
        "colab": {
          "base_uri": "https://localhost:8080/",
          "height": 382
        }
      },
      "source": [
        "import matplotlib.pyplot as plt\n",
        "\n",
        "#n = range(1, 5000 + 1)\n",
        "plt.plot(n, train_loss,'b-')\n",
        "plt.plot(n, val_loss,'r-')\n",
        "plt.yscale('log')\n",
        "print('num\\t epoch\\t training_loss\\t validation_loss ')\n",
        "for i, args in enumerate(zip(n, train_loss, val_loss)):\n",
        "    print('{:2}\\t {:4}\\t {:6.6f}\\t {:6.6f}'.format(i, *args))"
      ],
      "execution_count": 0,
      "outputs": [
        {
          "output_type": "stream",
          "text": [
            "num\t epoch\t training_loss\t validation_loss \n",
            " 0\t    1\t 38.366222\t 44.334671\n",
            " 1\t 1000\t 1.570532\t 0.860687\n",
            " 2\t 2000\t 0.870002\t 0.841134\n",
            " 3\t 3000\t 0.851806\t 0.830232\n",
            " 4\t 4000\t 0.850339\t 0.823280\n",
            " 5\t 5000\t 0.850006\t 0.818547\n"
          ],
          "name": "stdout"
        },
        {
          "output_type": "display_data",
          "data": {
            "image/png": "[encoded data removed]",
            "text/plain": [
              "<Figure size 432x288 with 1 Axes>"
            ]
          },
          "metadata": {
            "tags": [],
            "needs_background": "light"
          }
        }
      ]
    }
  ]
}