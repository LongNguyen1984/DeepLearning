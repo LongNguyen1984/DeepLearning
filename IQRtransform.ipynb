{
  "nbformat": 4,
  "nbformat_minor": 0,
  "metadata": {
    "colab": {
      "name": "Untitled18.ipynb",
      "provenance": [],
      "authorship_tag": "ABX9TyPffcQ+xpFqtO7ioXW2LwFq",
      "include_colab_link": true
    },
    "kernelspec": {
      "name": "python3",
      "display_name": "Python 3"
    }
  },
  "cells": [
    {
      "cell_type": "markdown",
      "metadata": {
        "id": "view-in-github",
        "colab_type": "text"
      },
      "source": [
        "<a href=\"https://colab.research.google.com/github/LongNguyen1984/DeepLearning/blob/master/IQRtransform.ipynb\" target=\"_parent\"><img src=\"https://colab.research.google.com/assets/colab-badge.svg\" alt=\"Open In Colab\"/></a>"
      ]
    },
    {
      "cell_type": "markdown",
      "metadata": {
        "id": "Wjgxh5Q-WEjD",
        "colab_type": "text"
      },
      "source": [
        "# Scale Data With Outliners"
      ]
    },
    {
      "cell_type": "markdown",
      "metadata": {
        "id": "EHb44A7uWKNF",
        "colab_type": "text"
      },
      "source": [
        "Load Diabetes Dataset"
      ]
    },
    {
      "cell_type": "code",
      "metadata": {
        "id": "PnEryzULV_Rv",
        "colab_type": "code",
        "colab": {
          "base_uri": "https://localhost:8080/",
          "height": 486
        },
        "outputId": "52c1a1d4-72b0-4b3e-df22-cf3e65afb3a8"
      },
      "source": [
        "from pandas import read_csv\n",
        "from matplotlib import pyplot\n",
        "# load dataset\n",
        "dataset = read_csv('https://rioultf.users.greyc.fr/uci/files/pima-indians-diabetes/pima-indians-diabetes.csv',header=None)\n",
        "# summarize  the shape of the dataset\n",
        "print(dataset.shape)\n",
        "# summraize each variable\n",
        "print(dataset.describe())\n",
        "# histograms of the variables\n",
        "fig = dataset.hist(xlabelsize=4, ylabelsize=4)\n",
        "[x.title.set_size(4) for x in fig.ravel()]\n",
        "# show the plot\n",
        "pyplot.show()"
      ],
      "execution_count": 1,
      "outputs": [
        {
          "output_type": "stream",
          "text": [
            "(768, 9)\n",
            "                0           1           2  ...           6           7           8\n",
            "count  768.000000  768.000000  768.000000  ...  768.000000  768.000000  768.000000\n",
            "mean     0.348958    3.845052  120.894531  ...   31.992578    0.471876   33.240885\n",
            "std      0.476951    3.369578   31.972618  ...    7.884160    0.331329   11.760232\n",
            "min      0.000000    0.000000    0.000000  ...    0.000000    0.078000   21.000000\n",
            "25%      0.000000    1.000000   99.000000  ...   27.300000    0.243750   24.000000\n",
            "50%      0.000000    3.000000  117.000000  ...   32.000000    0.372500   29.000000\n",
            "75%      1.000000    6.000000  140.250000  ...   36.600000    0.626250   41.000000\n",
            "max      1.000000   17.000000  199.000000  ...   67.100000    2.420000   81.000000\n",
            "\n",
            "[8 rows x 9 columns]\n"
          ],
          "name": "stdout"
        },
        {
          "output_type": "display_data",
          "data": {
            "image/png": "[encoded data removed]",
            "text/plain": [
              "<Figure size 432x288 with 9 Axes>"
            ]
          },
          "metadata": {
            "tags": [],
            "needs_background": "light"
          }
        }
      ]
    },
    {
      "cell_type": "code",
      "metadata": {
        "id": "VZEIDuinXOBp",
        "colab_type": "code",
        "colab": {
          "base_uri": "https://localhost:8080/",
          "height": 486
        },
        "outputId": "c398b5f0-89bc-4753-cf9b-fa7a5aacaf4f"
      },
      "source": [
        "mydata = read_csv('fits.csv', header=0)\n",
        "\n",
        "print(mydata.shape)\n",
        "print(mydata.describe())\n",
        "fig1 = mydata.hist(xlabelsize=4, ylabelsize=4)\n",
        "[x.title.set_size(4) for x in fig1.ravel()]\n",
        "pyplot.show()"
      ],
      "execution_count": 5,
      "outputs": [
        {
          "output_type": "stream",
          "text": [
            "(8434, 8)\n",
            "              850nm         640nm  ...  Channel 7  Channel 8\n",
            "count  8.434000e+03  8.434000e+03  ...     8434.0     8434.0\n",
            "mean  -7.178769e+04 -1.008243e+06  ...        0.0        0.0\n",
            "std    2.138527e+05  1.162708e+05  ...        0.0        0.0\n",
            "min   -1.923690e+06 -1.649130e+06  ...        0.0        0.0\n",
            "25%   -2.185098e+05 -1.106795e+06  ...        0.0        0.0\n",
            "50%   -1.313200e+05 -9.512110e+05  ...        0.0        0.0\n",
            "75%    4.686000e+03 -9.302318e+05  ...        0.0        0.0\n",
            "max    4.593000e+05 -8.789390e+05  ...        0.0        0.0\n",
            "\n",
            "[8 rows x 8 columns]\n"
          ],
          "name": "stdout"
        },
        {
          "output_type": "display_data",
          "data": {
            "image/png": "[encoded data removed]",
            "text/plain": [
              "<Figure size 432x288 with 9 Axes>"
            ]
          },
          "metadata": {
            "tags": [],
            "needs_background": "light"
          }
        }
      ]
    },
    {
      "cell_type": "code",
      "metadata": {
        "id": "32el5M2JZmMB",
        "colab_type": "code",
        "colab": {
          "base_uri": "https://localhost:8080/",
          "height": 35
        },
        "outputId": "68f41b0b-166c-4714-d0e9-01d0bbd5162d"
      },
      "source": [
        "# evaluate knn on the raw diabetes dataset\n",
        "from numpy import mean\n",
        "from numpy import std\n",
        "from pandas import read_csv\n",
        "from sklearn.model_selection import cross_val_score\n",
        "from sklearn.model_selection import RepeatedStratifiedKFold\n",
        "from sklearn.neighbors import KNeighborsClassifier\n",
        "from sklearn.preprocessing import LabelEncoder\n",
        "\n",
        "# load dataset\n",
        "dataset = read_csv('https://rioultf.users.greyc.fr/uci/files/pima-indians-diabetes/pima-indians-diabetes.csv', header=None)\n",
        "data = dataset.values\n",
        "# seperate into input and output columns\n",
        "X, y = data[:, 1:], data[:,0]\n",
        "# ensure inputs are floats and output is an integer label\n",
        "X = X.astype('float32')\n",
        "y = LabelEncoder().fit_transform(y.astype('str'))\n",
        "# define and configure the model\n",
        "model = KNeighborsClassifier()\n",
        "# evaluate the model\n",
        "cv = RepeatedStratifiedKFold(n_splits=10, n_repeats=3, random_state=1)\n",
        "n_scores = cross_val_score(model, X, y, scoring='accuracy', cv=cv, n_jobs=-1)\n",
        "# report model performance\n",
        "print('Accuracy: %.3f (%.3f)'% (mean(n_scores), std(n_scores)))"
      ],
      "execution_count": 6,
      "outputs": [
        {
          "output_type": "stream",
          "text": [
            "Accuracy: 0.717 (0.040)\n"
          ],
          "name": "stdout"
        }
      ]
    },
    {
      "cell_type": "markdown",
      "metadata": {
        "id": "_CAX6-Bnc1xk",
        "colab_type": "text"
      },
      "source": [
        "# IQR Robust Scaler Transform"
      ]
    },
    {
      "cell_type": "code",
      "metadata": {
        "id": "F7DPlcr-csgH",
        "colab_type": "code",
        "colab": {
          "base_uri": "https://localhost:8080/",
          "height": 468
        },
        "outputId": "56b8b046-62fc-4f2a-f7bf-2b7b22d7fc5a"
      },
      "source": [
        "from numpy import mean\n",
        "from numpy import std\n",
        "from pandas import read_csv\n",
        "from pandas import DataFrame\n",
        "from sklearn.model_selection import cross_val_score\n",
        "from sklearn.model_selection import RepeatedStratifiedKFold\n",
        "from sklearn.neighbors import KNeighborsClassifier\n",
        "from sklearn.preprocessing import LabelEncoder\n",
        "from sklearn.preprocessing import RobustScaler\n",
        "\n",
        "# load dataset\n",
        "dataset = read_csv('https://rioultf.users.greyc.fr/uci/files/pima-indians-diabetes/pima-indians-diabetes.csv', header=None)\n",
        "data = dataset.values[:,1:]\n",
        "# perform a robust scaler transform of the dataset\n",
        "trans = RobustScaler()\n",
        "data = trans.fit_transform(data)\n",
        "# convert back to a dataframe\n",
        "dataset = DataFrame(data)\n",
        "# summarize\n",
        "print(dataset.describe())\n",
        "# histogram of the variables\n",
        "fig = dataset.hist(xlabelsize=4, ylabelsize=4)\n",
        "[x.title.set_size(4) for x in fig.ravel()]\n",
        "# show the plot\n",
        "pyplot.show()"
      ],
      "execution_count": 7,
      "outputs": [
        {
          "output_type": "stream",
          "text": [
            "                0           1           2  ...           5           6           7\n",
            "count  768.000000  768.000000  768.000000  ...  768.000000  768.000000  768.000000\n",
            "mean     0.169010    0.094413   -0.160807  ...   -0.000798    0.259807    0.249464\n",
            "std      0.673916    0.775094    1.075323  ...    0.847759    0.866219    0.691778\n",
            "min     -0.600000   -2.836364   -4.000000  ...   -3.440860   -0.769935   -0.470588\n",
            "25%     -0.400000   -0.436364   -0.555556  ...   -0.505376   -0.336601   -0.294118\n",
            "50%      0.000000    0.000000    0.000000  ...    0.000000    0.000000    0.000000\n",
            "75%      0.600000    0.563636    0.444444  ...    0.494624    0.663399    0.705882\n",
            "max      2.800000    1.987879    2.777778  ...    3.774194    5.352941    3.058824\n",
            "\n",
            "[8 rows x 8 columns]\n"
          ],
          "name": "stdout"
        },
        {
          "output_type": "display_data",
          "data": {
            "image/png": "[encoded data removed]",
            "text/plain": [
              "<Figure size 432x288 with 9 Axes>"
            ]
          },
          "metadata": {
            "tags": [],
            "needs_background": "light"
          }
        }
      ]
    },
    {
      "cell_type": "code",
      "metadata": {
        "id": "1u3tNxgpjMyf",
        "colab_type": "code",
        "colab": {
          "base_uri": "https://localhost:8080/",
          "height": 35
        },
        "outputId": "45638773-7050-4814-be64-729e9639ec3e"
      },
      "source": [
        "# evaluate knn on the diabetes dataset with robust scaler transform\n",
        "from numpy import mean\n",
        "from numpy import std\n",
        "from pandas import read_csv\n",
        "from sklearn.model_selection import cross_val_score\n",
        "from sklearn.model_selection import RepeatedStratifiedKFold\n",
        "from sklearn.neighbors import KNeighborsClassifier\n",
        "from sklearn.preprocessing import LabelEncoder\n",
        "from sklearn.preprocessing import RobustScaler\n",
        "from sklearn.pipeline import Pipeline\n",
        "\n",
        "# load dataset\n",
        "dataset = read_csv('https://rioultf.users.greyc.fr/uci/files/pima-indians-diabetes/pima-indians-diabetes.csv', header=None)\n",
        "data = dataset.values\n",
        "# seperate into input and output columns\n",
        "X, y = data[:,1:], data[:,0]\n",
        "# ensure inputs are floats and output is an integer label\n",
        "X = X.astype('float32')\n",
        "y = LabelEncoder().fit_transform(y.astype('str'))\n",
        "# define the pipeline\n",
        "trans = RobustScaler()\n",
        "model = KNeighborsClassifier()\n",
        "pipeline = Pipeline(steps=[('t', trans), ('m', model)])\n",
        "# evaluate the model\n",
        "cv = RepeatedStratifiedKFold(n_splits=10, n_repeats=3, random_state=1)\n",
        "n_scores = cross_val_score(pipeline, X, y, scoring='accuracy', cv=cv, n_jobs=-1)\n",
        "# report pipeline performance\n",
        "print('Accuracy: %.3f(%.3f)'% (mean(n_scores),std(n_scores)))"
      ],
      "execution_count": 8,
      "outputs": [
        {
          "output_type": "stream",
          "text": [
            "Accuracy: 0.734(0.044)\n"
          ],
          "name": "stdout"
        }
      ]
    },
    {
      "cell_type": "markdown",
      "metadata": {
        "id": "7bHsx4I8iMT4",
        "colab_type": "text"
      },
      "source": [
        "# Explore Robust Scaler Range"
      ]
    },
    {
      "cell_type": "code",
      "metadata": {
        "id": "UzziiY1giIU0",
        "colab_type": "code",
        "colab": {
          "base_uri": "https://localhost:8080/",
          "height": 392
        },
        "outputId": "ded5a772-ec26-488c-92d8-1ff28e2ecffd"
      },
      "source": [
        "# explore the scaling range of the robust scaler transform\n",
        "from numpy import mean\n",
        "from numpy import std\n",
        "from pandas import read_csv\n",
        "from sklearn.model_selection import cross_val_score\n",
        "from sklearn.model_selection import RepeatedStratifiedKFold\n",
        "from sklearn.neighbors import KNeighborsClassifier\n",
        "from sklearn.preprocessing import RobustScaler\n",
        "from sklearn.preprocessing import LabelEncoder\n",
        "from sklearn.pipeline import Pipeline\n",
        "from matplotlib import pyplot\n",
        "\n",
        "# get the dataset\n",
        "def get_dataset():\n",
        "  #load dataset\n",
        "  dataset = read_csv('https://rioultf.users.greyc.fr/uci/files/pima-indians-diabetes/pima-indians-diabetes.csv', header=None)\n",
        "  data = dataset.values\n",
        "  # seperate into input and output columns\n",
        "  X, y = data[:,1:], data[:,0]\n",
        "  # ensure inputs are floats and output is an integer label\n",
        "  X = X.astype('float32')\n",
        "  y = LabelEncoder().fit_transform(y.astype('str'))\n",
        "  return X, y\n",
        "\n",
        "# get a list of models to evaluate\n",
        "def get_models():\n",
        "  models = dict()\n",
        "  for value in [1, 5, 10, 15, 20, 25, 30]:\n",
        "    #define the pipeline\n",
        "    trans = RobustScaler(quantile_range=(value, 100-value))\n",
        "    model = KNeighborsClassifier()\n",
        "    models[str(value)]= Pipeline(steps=[('t', trans), ('m', model)])\n",
        "  return models\n",
        "# evaluate a given model using cross-validation\n",
        "def evaluate_model(model, X, y):\n",
        "  cv = RepeatedStratifiedKFold(n_splits=10, n_repeats=3, random_state=1)\n",
        "  scores = cross_val_score(model, X, y, scoring='accuracy', cv=cv, n_jobs=-1)\n",
        "  return scores\n",
        "\n",
        "# define dataset\n",
        "X, y = get_dataset()\n",
        "# get the models to evaluate\n",
        "models = get_models()\n",
        "# evaluate the models and store results\n",
        "results, names = list(), list()\n",
        "for name, model in models.items():\n",
        "  scores = evaluate_model(model, X, y)\n",
        "  results.append(scores)\n",
        "  names.append(name)\n",
        "  print('>%s %.3f (%.3f)'% (name, mean(scores), std(scores)))\n",
        "# print model performance for comparison\n",
        "pyplot.boxplot(results, labels=names, showmeans= True)\n",
        "pyplot.show()"
      ],
      "execution_count": 13,
      "outputs": [
        {
          "output_type": "stream",
          "text": [
            ">1 0.734 (0.054)\n",
            ">5 0.736 (0.051)\n",
            ">10 0.739 (0.047)\n",
            ">15 0.740 (0.045)\n",
            ">20 0.734 (0.050)\n",
            ">25 0.734 (0.044)\n",
            ">30 0.735 (0.042)\n"
          ],
          "name": "stdout"
        },
        {
          "output_type": "display_data",
          "data": {
            "image/png": "[encoded data removed]",
            "text/plain": [
              "<Figure size 432x288 with 1 Axes>"
            ]
          },
          "metadata": {
            "tags": [],
            "needs_background": "light"
          }
        }
      ]
    }
  ]
}