{
  "nbformat": 4,
  "nbformat_minor": 0,
  "metadata": {
    "colab": {
      "name": "ImportRawData.ipynb",
      "provenance": [],
      "mount_file_id": "https://github.com/LongNguyen1984/DeepLearning/blob/master/ImportRawData.ipynb",
      "authorship_tag": "ABX9TyPZMKQ1C4LKfkB8lP7rOtyP",
      "include_colab_link": true
    },
    "kernelspec": {
      "name": "python3",
      "display_name": "Python 3"
    },
    "widgets": {
      "application/vnd.jupyter.widget-state+json": {
        "d3c27d55784d4e10aeba2623314ebedb": {
          "model_module": "@jupyter-widgets/controls",
          "model_name": "HBoxModel",
          "state": {
            "_view_name": "HBoxView",
            "_dom_classes": [],
            "_model_name": "HBoxModel",
            "_view_module": "@jupyter-widgets/controls",
            "_model_module_version": "1.5.0",
            "_view_count": null,
            "_view_module_version": "1.5.0",
            "box_style": "",
            "layout": "IPY_MODEL_03bc2119f08b48c8b4ca56dde9074d69",
            "_model_module": "@jupyter-widgets/controls",
            "children": [
              "IPY_MODEL_c3e15031a4da44a8bafb11884b084d18",
              "IPY_MODEL_ff3c0bc9199f4ebabb2aaf5e8dd00c7c"
            ]
          }
        },
        "03bc2119f08b48c8b4ca56dde9074d69": {
          "model_module": "@jupyter-widgets/base",
          "model_name": "LayoutModel",
          "state": {
            "_view_name": "LayoutView",
            "grid_template_rows": null,
            "right": null,
            "justify_content": null,
            "_view_module": "@jupyter-widgets/base",
            "overflow": null,
            "_model_module_version": "1.2.0",
            "_view_count": null,
            "flex_flow": null,
            "width": null,
            "min_width": null,
            "border": null,
            "align_items": null,
            "bottom": null,
            "_model_module": "@jupyter-widgets/base",
            "top": null,
            "grid_column": null,
            "overflow_y": null,
            "overflow_x": null,
            "grid_auto_flow": null,
            "grid_area": null,
            "grid_template_columns": null,
            "flex": null,
            "_model_name": "LayoutModel",
            "justify_items": null,
            "grid_row": null,
            "max_height": null,
            "align_content": null,
            "visibility": null,
            "align_self": null,
            "height": null,
            "min_height": null,
            "padding": null,
            "grid_auto_rows": null,
            "grid_gap": null,
            "max_width": null,
            "order": null,
            "_view_module_version": "1.2.0",
            "grid_template_areas": null,
            "object_position": null,
            "object_fit": null,
            "grid_auto_columns": null,
            "margin": null,
            "display": null,
            "left": null
          }
        },
        "c3e15031a4da44a8bafb11884b084d18": {
          "model_module": "@jupyter-widgets/controls",
          "model_name": "FloatProgressModel",
          "state": {
            "_view_name": "ProgressView",
            "style": "IPY_MODEL_43779280e80b4afc995795e6ed61fbff",
            "_dom_classes": [],
            "description": "100%",
            "_model_name": "FloatProgressModel",
            "bar_style": "success",
            "max": 6,
            "_view_module": "@jupyter-widgets/controls",
            "_model_module_version": "1.5.0",
            "value": 6,
            "_view_count": null,
            "_view_module_version": "1.5.0",
            "orientation": "horizontal",
            "min": 0,
            "description_tooltip": null,
            "_model_module": "@jupyter-widgets/controls",
            "layout": "IPY_MODEL_b7ce05b030c54514b7ec5f34456f13b9"
          }
        },
        "ff3c0bc9199f4ebabb2aaf5e8dd00c7c": {
          "model_module": "@jupyter-widgets/controls",
          "model_name": "HTMLModel",
          "state": {
            "_view_name": "HTMLView",
            "style": "IPY_MODEL_b3e4cf68e1dd49c39007dd958a9c3603",
            "_dom_classes": [],
            "description": "",
            "_model_name": "HTMLModel",
            "placeholder": "​",
            "_view_module": "@jupyter-widgets/controls",
            "_model_module_version": "1.5.0",
            "value": " 6/6 [03:03&lt;00:00, 30.51s/it]",
            "_view_count": null,
            "_view_module_version": "1.5.0",
            "description_tooltip": null,
            "_model_module": "@jupyter-widgets/controls",
            "layout": "IPY_MODEL_acbe37525d78424f83ad064a2d04e423"
          }
        },
        "43779280e80b4afc995795e6ed61fbff": {
          "model_module": "@jupyter-widgets/controls",
          "model_name": "ProgressStyleModel",
          "state": {
            "_view_name": "StyleView",
            "_model_name": "ProgressStyleModel",
            "description_width": "initial",
            "_view_module": "@jupyter-widgets/base",
            "_model_module_version": "1.5.0",
            "_view_count": null,
            "_view_module_version": "1.2.0",
            "bar_color": null,
            "_model_module": "@jupyter-widgets/controls"
          }
        },
        "b7ce05b030c54514b7ec5f34456f13b9": {
          "model_module": "@jupyter-widgets/base",
          "model_name": "LayoutModel",
          "state": {
            "_view_name": "LayoutView",
            "grid_template_rows": null,
            "right": null,
            "justify_content": null,
            "_view_module": "@jupyter-widgets/base",
            "overflow": null,
            "_model_module_version": "1.2.0",
            "_view_count": null,
            "flex_flow": null,
            "width": null,
            "min_width": null,
            "border": null,
            "align_items": null,
            "bottom": null,
            "_model_module": "@jupyter-widgets/base",
            "top": null,
            "grid_column": null,
            "overflow_y": null,
            "overflow_x": null,
            "grid_auto_flow": null,
            "grid_area": null,
            "grid_template_columns": null,
            "flex": null,
            "_model_name": "LayoutModel",
            "justify_items": null,
            "grid_row": null,
            "max_height": null,
            "align_content": null,
            "visibility": null,
            "align_self": null,
            "height": null,
            "min_height": null,
            "padding": null,
            "grid_auto_rows": null,
            "grid_gap": null,
            "max_width": null,
            "order": null,
            "_view_module_version": "1.2.0",
            "grid_template_areas": null,
            "object_position": null,
            "object_fit": null,
            "grid_auto_columns": null,
            "margin": null,
            "display": null,
            "left": null
          }
        },
        "b3e4cf68e1dd49c39007dd958a9c3603": {
          "model_module": "@jupyter-widgets/controls",
          "model_name": "DescriptionStyleModel",
          "state": {
            "_view_name": "StyleView",
            "_model_name": "DescriptionStyleModel",
            "description_width": "",
            "_view_module": "@jupyter-widgets/base",
            "_model_module_version": "1.5.0",
            "_view_count": null,
            "_view_module_version": "1.2.0",
            "_model_module": "@jupyter-widgets/controls"
          }
        },
        "acbe37525d78424f83ad064a2d04e423": {
          "model_module": "@jupyter-widgets/base",
          "model_name": "LayoutModel",
          "state": {
            "_view_name": "LayoutView",
            "grid_template_rows": null,
            "right": null,
            "justify_content": null,
            "_view_module": "@jupyter-widgets/base",
            "overflow": null,
            "_model_module_version": "1.2.0",
            "_view_count": null,
            "flex_flow": null,
            "width": null,
            "min_width": null,
            "border": null,
            "align_items": null,
            "bottom": null,
            "_model_module": "@jupyter-widgets/base",
            "top": null,
            "grid_column": null,
            "overflow_y": null,
            "overflow_x": null,
            "grid_auto_flow": null,
            "grid_area": null,
            "grid_template_columns": null,
            "flex": null,
            "_model_name": "LayoutModel",
            "justify_items": null,
            "grid_row": null,
            "max_height": null,
            "align_content": null,
            "visibility": null,
            "align_self": null,
            "height": null,
            "min_height": null,
            "padding": null,
            "grid_auto_rows": null,
            "grid_gap": null,
            "max_width": null,
            "order": null,
            "_view_module_version": "1.2.0",
            "grid_template_areas": null,
            "object_position": null,
            "object_fit": null,
            "grid_auto_columns": null,
            "margin": null,
            "display": null,
            "left": null
          }
        }
      }
    }
  },
  "cells": [
    {
      "cell_type": "markdown",
      "metadata": {
        "id": "view-in-github",
        "colab_type": "text"
      },
      "source": [
        "<a href=\"https://colab.research.google.com/github/LongNguyen1984/DeepLearning/blob/master/ImportRawData.ipynb\" target=\"_parent\"><img src=\"https://colab.research.google.com/assets/colab-badge.svg\" alt=\"Open In Colab\"/></a>"
      ]
    },
    {
      "cell_type": "code",
      "metadata": {
        "colab": {
          "base_uri": "https://localhost:8080/"
        },
        "id": "2BBqHEdhPMXF",
        "outputId": "71fe397d-72e8-47b0-ddad-3d154ab7bbbd"
      },
      "source": [
        "!pip install sinfo"
      ],
      "execution_count": 1,
      "outputs": [
        {
          "output_type": "stream",
          "text": [
            "Collecting sinfo\n",
            "  Downloading https://files.pythonhosted.org/packages/e1/4c/aef8456284f1a1c3645b938d9ca72388c9c4878e6e67b8a349c7d22fac78/sinfo-0.3.1.tar.gz\n",
            "Collecting stdlib_list\n",
            "\u001b[?25l  Downloading https://files.pythonhosted.org/packages/7a/b1/52f59dcf31ead2f0ceff8976288449608d912972b911f55dff712cef5719/stdlib_list-0.8.0-py3-none-any.whl (63kB)\n",
            "\u001b[K     |████████████████████████████████| 71kB 3.8MB/s \n",
            "\u001b[?25hBuilding wheels for collected packages: sinfo\n",
            "  Building wheel for sinfo (setup.py) ... \u001b[?25l\u001b[?25hdone\n",
            "  Created wheel for sinfo: filename=sinfo-0.3.1-cp36-none-any.whl size=7018 sha256=e826d4f9a27ba77f8d97fcac43cecc4ed469303ff84582e9486ae9e42dc6b082\n",
            "  Stored in directory: /root/.cache/pip/wheels/11/f0/23/347d6d8e59787c2bc272162d18223dc3b45bd6dc40aceee6af\n",
            "Successfully built sinfo\n",
            "Installing collected packages: stdlib-list, sinfo\n",
            "Successfully installed sinfo-0.3.1 stdlib-list-0.8.0\n"
          ],
          "name": "stdout"
        }
      ]
    },
    {
      "cell_type": "markdown",
      "metadata": {
        "id": "wDDPSTIpVznW"
      },
      "source": [
        "###Import git module"
      ]
    },
    {
      "cell_type": "code",
      "metadata": {
        "colab": {
          "base_uri": "https://localhost:8080/"
        },
        "id": "DjtTPjZ4P5TN",
        "outputId": "9d13b18a-423c-472b-9213-27abb604c4d5"
      },
      "source": [
        "! git clone https://github.com/taile2007/Biosignal-analysis.git"
      ],
      "execution_count": 2,
      "outputs": [
        {
          "output_type": "stream",
          "text": [
            "Cloning into 'Biosignal-analysis'...\n",
            "remote: Enumerating objects: 150, done.\u001b[K\n",
            "remote: Counting objects: 100% (150/150), done.\u001b[K\n",
            "remote: Compressing objects: 100% (133/133), done.\u001b[K\n",
            "remote: Total 150 (delta 69), reused 17 (delta 5), pack-reused 0\u001b[K\n",
            "Receiving objects: 100% (150/150), 6.48 MiB | 16.98 MiB/s, done.\n",
            "Resolving deltas: 100% (69/69), done.\n"
          ],
          "name": "stdout"
        }
      ]
    },
    {
      "cell_type": "code",
      "metadata": {
        "colab": {
          "base_uri": "https://localhost:8080/",
          "height": 35
        },
        "id": "hutuXDLRVYkf",
        "outputId": "a6b14682-fd74-42fb-d1b8-7642350de43d"
      },
      "source": [
        "pwd"
      ],
      "execution_count": 3,
      "outputs": [
        {
          "output_type": "execute_result",
          "data": {
            "application/vnd.google.colaboratory.intrinsic+json": {
              "type": "string"
            },
            "text/plain": [
              "'/content'"
            ]
          },
          "metadata": {
            "tags": []
          },
          "execution_count": 3
        }
      ]
    },
    {
      "cell_type": "code",
      "metadata": {
        "colab": {
          "base_uri": "https://localhost:8080/"
        },
        "id": "DME0SBt1VLdR",
        "outputId": "79434c13-e584-4b4a-ee28-778099b25d8d"
      },
      "source": [
        "%cd Biosignal-analysis/Data\\ wrangling-01-Importation"
      ],
      "execution_count": 4,
      "outputs": [
        {
          "output_type": "stream",
          "text": [
            "/content/Biosignal-analysis/Data wrangling-01-Importation\n"
          ],
          "name": "stdout"
        }
      ]
    },
    {
      "cell_type": "code",
      "metadata": {
        "id": "Rx3cHW7yOIj1"
      },
      "source": [
        "import os\r\n",
        "import sys\r\n",
        "import re\r\n",
        "import numpy as np\r\n",
        "import pandas as pd\r\n",
        "from module1.raw_data_parser import *"
      ],
      "execution_count": 5,
      "outputs": []
    },
    {
      "cell_type": "code",
      "metadata": {
        "colab": {
          "base_uri": "https://localhost:8080/",
          "height": 35
        },
        "id": "2fVynzPfP2zH",
        "outputId": "aceec613-34f5-41f4-b60b-417f2741bb15"
      },
      "source": [
        "pwd"
      ],
      "execution_count": 6,
      "outputs": [
        {
          "output_type": "execute_result",
          "data": {
            "application/vnd.google.colaboratory.intrinsic+json": {
              "type": "string"
            },
            "text/plain": [
              "'/content/Biosignal-analysis/Data wrangling-01-Importation'"
            ]
          },
          "metadata": {
            "tags": []
          },
          "execution_count": 6
        }
      ]
    },
    {
      "cell_type": "code",
      "metadata": {
        "colab": {
          "base_uri": "https://localhost:8080/"
        },
        "id": "1Gq4knU4O4jO",
        "outputId": "e0c58e9d-3bcb-47a6-c6a4-a4d26cc29e69"
      },
      "source": [
        "from sinfo import sinfo\r\n",
        "sinfo()"
      ],
      "execution_count": 7,
      "outputs": [
        {
          "output_type": "stream",
          "text": [
            "-----\n",
            "module1     0.1\n",
            "numpy       1.19.5\n",
            "pandas      1.1.5\n",
            "pytz        2018.9\n",
            "sinfo       0.3.1\n",
            "tqdm        4.41.1\n",
            "-----\n",
            "IPython             5.5.0\n",
            "jupyter_client      5.3.5\n",
            "jupyter_core        4.7.0\n",
            "notebook            5.3.1\n",
            "-----\n",
            "Python 3.6.9 (default, Oct  8 2020, 12:12:24) [GCC 8.4.0]\n",
            "Linux-4.19.112+-x86_64-with-Ubuntu-18.04-bionic\n",
            "2 logical CPU cores, x86_64\n",
            "-----\n",
            "Session information updated at 2021-01-12 06:15\n"
          ],
          "name": "stdout"
        }
      ]
    },
    {
      "cell_type": "code",
      "metadata": {
        "id": "olgz7nspZjcl"
      },
      "source": [
        "PACK_FOLDER = '/content/drive/MyDrive/Dataset/Packs'"
      ],
      "execution_count": 8,
      "outputs": []
    },
    {
      "cell_type": "code",
      "metadata": {
        "id": "693esZOdaNve"
      },
      "source": [
        "pack = Paths_Info_Summary(PACK_FOLDER)\r\n"
      ],
      "execution_count": 9,
      "outputs": []
    },
    {
      "cell_type": "code",
      "metadata": {
        "colab": {
          "base_uri": "https://localhost:8080/",
          "height": 35
        },
        "id": "SFn_KQW_aTD6",
        "outputId": "b52c9d65-5b8c-492d-a8d8-2d0724437e84"
      },
      "source": [
        "pack.data_folder"
      ],
      "execution_count": 10,
      "outputs": [
        {
          "output_type": "execute_result",
          "data": {
            "application/vnd.google.colaboratory.intrinsic+json": {
              "type": "string"
            },
            "text/plain": [
              "'/content/drive/MyDrive/Dataset/Packs'"
            ]
          },
          "metadata": {
            "tags": []
          },
          "execution_count": 10
        }
      ]
    },
    {
      "cell_type": "markdown",
      "metadata": {
        "id": "yWuJ6BNyajMK"
      },
      "source": [
        "## Liệt kê cây thư mục của gói Packs"
      ]
    },
    {
      "cell_type": "code",
      "metadata": {
        "colab": {
          "base_uri": "https://localhost:8080/"
        },
        "id": "AXLxy8YRaVyj",
        "outputId": "7cf43d72-ebef-4a49-870a-2144549e53e3"
      },
      "source": [
        "pack.print_directory_tree(pack.data_folder)"
      ],
      "execution_count": 11,
      "outputs": [
        {
          "output_type": "stream",
          "text": [
            "|__Packs/\n",
            "    |__fileId=1NqZJd4jsfNFQUZHQC4O6h2uqR53dcCpZ-requirements.txt\n",
            "   |__Res_signal_samp/\n",
            "        |__Profile.txt\n",
            "      |__Raw data/\n",
            "            |__Abd RIP.txt\n",
            "            |__Avg AP.txt\n",
            "            |__Dia AP.txt\n",
            "            |__ECG.txt\n",
            "            |__EMG1.txt\n",
            "            |__EMG2.txt\n",
            "            |__EMG3.txt\n",
            "            |__EMG4.txt\n",
            "            |__EMG5.txt\n",
            "            |__EMG6.txt\n",
            "            |__Flow Pressure.txt\n",
            "            |__Flow Th.txt\n",
            "            |__Microphone.txt\n",
            "            |__HMM.txt\n",
            "            |__VMM.txt\n",
            "            |__OESP.txt\n",
            "            |__Pleth Flowrate.txt\n",
            "            |__PLMl.txt\n",
            "            |__PLMr.txt\n",
            "            |__Pulse.txt\n",
            "            |__Snoring P.txt\n",
            "            |__SpO2.txt\n",
            "            |__Sys AP.txt\n",
            "            |__Tx RIP.txt\n",
            "      |__Scoring sequences/\n",
            "            |__Respiratory events.txt\n",
            "            |__SpO2.txt\n",
            "            |__Desaturations.txt\n",
            "            |__Micro Arousals.txt\n",
            "            |__Hypnogramme.txt\n"
          ],
          "name": "stdout"
        }
      ]
    },
    {
      "cell_type": "markdown",
      "metadata": {
        "id": "8js9V2uictKX"
      },
      "source": [
        "##Gán dataframe cho 1 object tên là pinfo"
      ]
    },
    {
      "cell_type": "code",
      "metadata": {
        "colab": {
          "base_uri": "https://localhost:8080/",
          "height": 204
        },
        "id": "lAtdLQTYbMpC",
        "outputId": "5925db20-661c-4fc5-b887-f9b862183663"
      },
      "source": [
        "pinfo = pack.create_signal_summary()\r\n",
        "\r\n",
        "pinfo.head()"
      ],
      "execution_count": 12,
      "outputs": [
        {
          "output_type": "execute_result",
          "data": {
            "text/html": [
              "<div>\n",
              "<style scoped>\n",
              "    .dataframe tbody tr th:only-of-type {\n",
              "        vertical-align: middle;\n",
              "    }\n",
              "\n",
              "    .dataframe tbody tr th {\n",
              "        vertical-align: top;\n",
              "    }\n",
              "\n",
              "    .dataframe thead th {\n",
              "        text-align: right;\n",
              "    }\n",
              "</style>\n",
              "<table border=\"1\" class=\"dataframe\">\n",
              "  <thead>\n",
              "    <tr style=\"text-align: right;\">\n",
              "      <th></th>\n",
              "      <th>full_paths</th>\n",
              "      <th>pack</th>\n",
              "      <th>filename</th>\n",
              "      <th>signal_type</th>\n",
              "      <th>Size (Mb)</th>\n",
              "    </tr>\n",
              "  </thead>\n",
              "  <tbody>\n",
              "    <tr>\n",
              "      <th>0</th>\n",
              "      <td>/content/drive/MyDrive/Dataset/Packs/Res_signa...</td>\n",
              "      <td>Res_signal_samp</td>\n",
              "      <td>Abd RIP.txt</td>\n",
              "      <td>abd rip</td>\n",
              "      <td>3.304411</td>\n",
              "    </tr>\n",
              "    <tr>\n",
              "      <th>1</th>\n",
              "      <td>/content/drive/MyDrive/Dataset/Packs/Res_signa...</td>\n",
              "      <td>Res_signal_samp</td>\n",
              "      <td>Avg AP.txt</td>\n",
              "      <td>avg ap</td>\n",
              "      <td>4.410931</td>\n",
              "    </tr>\n",
              "    <tr>\n",
              "      <th>2</th>\n",
              "      <td>/content/drive/MyDrive/Dataset/Packs/Res_signa...</td>\n",
              "      <td>Res_signal_samp</td>\n",
              "      <td>Dia AP.txt</td>\n",
              "      <td>dia ap</td>\n",
              "      <td>4.401841</td>\n",
              "    </tr>\n",
              "    <tr>\n",
              "      <th>3</th>\n",
              "      <td>/content/drive/MyDrive/Dataset/Packs/Res_signa...</td>\n",
              "      <td>Res_signal_samp</td>\n",
              "      <td>ECG.txt</td>\n",
              "      <td>ecg</td>\n",
              "      <td>67.016486</td>\n",
              "    </tr>\n",
              "    <tr>\n",
              "      <th>4</th>\n",
              "      <td>/content/drive/MyDrive/Dataset/Packs/Res_signa...</td>\n",
              "      <td>Res_signal_samp</td>\n",
              "      <td>EMG1.txt</td>\n",
              "      <td>emg1</td>\n",
              "      <td>48.448591</td>\n",
              "    </tr>\n",
              "  </tbody>\n",
              "</table>\n",
              "</div>"
            ],
            "text/plain": [
              "                                          full_paths  ...  Size (Mb)\n",
              "0  /content/drive/MyDrive/Dataset/Packs/Res_signa...  ...   3.304411\n",
              "1  /content/drive/MyDrive/Dataset/Packs/Res_signa...  ...   4.410931\n",
              "2  /content/drive/MyDrive/Dataset/Packs/Res_signa...  ...   4.401841\n",
              "3  /content/drive/MyDrive/Dataset/Packs/Res_signa...  ...  67.016486\n",
              "4  /content/drive/MyDrive/Dataset/Packs/Res_signa...  ...  48.448591\n",
              "\n",
              "[5 rows x 5 columns]"
            ]
          },
          "metadata": {
            "tags": []
          },
          "execution_count": 12
        }
      ]
    },
    {
      "cell_type": "code",
      "metadata": {
        "colab": {
          "base_uri": "https://localhost:8080/"
        },
        "id": "gb9LEin7sjNK",
        "outputId": "0840c55f-0a1c-43e6-c7a4-289a08b262aa"
      },
      "source": [
        "len(pinfo.signal_type.unique())"
      ],
      "execution_count": 13,
      "outputs": [
        {
          "output_type": "execute_result",
          "data": {
            "text/plain": [
              "31"
            ]
          },
          "metadata": {
            "tags": []
          },
          "execution_count": 13
        }
      ]
    },
    {
      "cell_type": "markdown",
      "metadata": {
        "id": "7HPzEQ3EdihO"
      },
      "source": [
        "### Số lượng kiểu dữ liệu trong gói"
      ]
    },
    {
      "cell_type": "code",
      "metadata": {
        "colab": {
          "base_uri": "https://localhost:8080/"
        },
        "id": "omPDVSOPc2lc",
        "outputId": "62c8e332-0ef7-4645-ecba-a44ec4bff471"
      },
      "source": [
        "len(pinfo.signal_type.unique())"
      ],
      "execution_count": 15,
      "outputs": [
        {
          "output_type": "execute_result",
          "data": {
            "text/plain": [
              "31"
            ]
          },
          "metadata": {
            "tags": []
          },
          "execution_count": 15
        }
      ]
    },
    {
      "cell_type": "markdown",
      "metadata": {
        "id": "JkiN9Lovdv3Q"
      },
      "source": [
        "### Kiểu tín hiệu trong gói"
      ]
    },
    {
      "cell_type": "code",
      "metadata": {
        "colab": {
          "base_uri": "https://localhost:8080/"
        },
        "id": "Om6EJKY_dpDm",
        "outputId": "e00d4ab8-c4b6-4e2f-ea53-cf93d7d23f63"
      },
      "source": [
        "print(pinfo.signal_type.values)"
      ],
      "execution_count": 14,
      "outputs": [
        {
          "output_type": "stream",
          "text": [
            "['abd rip' 'avg ap' 'dia ap' 'ecg' 'emg1' 'emg2' 'emg3' 'emg4' 'emg5'\n",
            " 'emg6' 'flow pressure' 'flow th' 'microphone' 'hmm' 'vmm' 'oesp'\n",
            " 'pleth flowrate' 'plml' 'plmr' 'pulse' 'snoring p' 'spo2' 'sys ap'\n",
            " 'tx rip' 'respi_evt' 'raw_spo2' 'evt_spo2' 'ma' 'hypno' 'profile'\n",
            " 'fileid=1nqzjd4jsfnfquzhqc4o6h2uqr53dccpz-requirements']\n"
          ],
          "name": "stdout"
        }
      ]
    },
    {
      "cell_type": "markdown",
      "metadata": {
        "id": "6UGLEJ6Xd5mO"
      },
      "source": [
        "### Mô tả thông tin dữ liệu"
      ]
    },
    {
      "cell_type": "code",
      "metadata": {
        "colab": {
          "base_uri": "https://localhost:8080/"
        },
        "id": "2tWTQh6Md08S",
        "outputId": "b22ce34e-6b5d-44d5-b7eb-57b2b1929d94"
      },
      "source": [
        "pinfo[\"Size (Mb)\"].describe()"
      ],
      "execution_count": 16,
      "outputs": [
        {
          "output_type": "execute_result",
          "data": {
            "text/plain": [
              "count    31.000000\n",
              "mean     19.025112\n",
              "std      21.302178\n",
              "min       0.000046\n",
              "25%       3.368794\n",
              "50%       6.283715\n",
              "75%      46.365494\n",
              "max      67.016486\n",
              "Name: Size (Mb), dtype: float64"
            ]
          },
          "metadata": {
            "tags": []
          },
          "execution_count": 16
        }
      ]
    },
    {
      "cell_type": "markdown",
      "metadata": {
        "id": "hQtSAjKjeFVu"
      },
      "source": [
        "# DataImporter class"
      ]
    },
    {
      "cell_type": "markdown",
      "metadata": {
        "id": "ATujXTHNeRzd"
      },
      "source": [
        "* Sử dụng pandas thay vì numpy để xác định thời gian (thời điểm, thời lượng)\r\n",
        "* Dùng OOP (Class) dùng mỗi instance là một thực thể riêng"
      ]
    },
    {
      "cell_type": "code",
      "metadata": {
        "colab": {
          "base_uri": "https://localhost:8080/"
        },
        "id": "BtZR6wGpeD0f",
        "outputId": "bca3e12a-7f49-415d-a8c6-b5ab1e85524c"
      },
      "source": [
        "case = DataImporter(signal_summary = pinfo, \r\n",
        "                    data_path = PACK_FOLDER,\r\n",
        "                    pack_folder= 'Res_signal_samp')\r\n",
        "\r\n",
        "case"
      ],
      "execution_count": 17,
      "outputs": [
        {
          "output_type": "execute_result",
          "data": {
            "text/plain": [
              "Đây là data paser cho pack dữ liệu Res_signal_samp"
            ]
          },
          "metadata": {
            "tags": []
          },
          "execution_count": 17
        }
      ]
    },
    {
      "cell_type": "markdown",
      "metadata": {
        "id": "F03_aPuKfBTU"
      },
      "source": [
        "Thông tin về Import_pack_profile"
      ]
    },
    {
      "cell_type": "code",
      "metadata": {
        "colab": {
          "base_uri": "https://localhost:8080/"
        },
        "id": "Mx1v2Oz1e-Xg",
        "outputId": "9fcb9b8c-9bd7-456d-ebc4-e527f8506a57"
      },
      "source": [
        "help(case.Import_pack_profile)"
      ],
      "execution_count": 18,
      "outputs": [
        {
          "output_type": "stream",
          "text": [
            "Help on method Import_pack_profile in module module1.raw_data_parser:\n",
            "\n",
            "Import_pack_profile() method of module1.raw_data_parser.DataImporter instance\n",
            "    Hàm truy xuất thông tin bệnh nhân:\n",
            "    Đọc file Profile.txt và tạo ra 1 dict gồm Giới tính, chiều cao, \n",
            "    cân nặng, BMI cho bệnh nhân.\n",
            "\n"
          ],
          "name": "stdout"
        }
      ]
    },
    {
      "cell_type": "code",
      "metadata": {
        "colab": {
          "base_uri": "https://localhost:8080/"
        },
        "id": "xmT4tlsXfUbf",
        "outputId": "81055566-f23e-4442-b919-a3b2e3041268"
      },
      "source": [
        "patient_info = case.Import_pack_profile()\r\n",
        "\r\n",
        "patient_info"
      ],
      "execution_count": 19,
      "outputs": [
        {
          "output_type": "execute_result",
          "data": {
            "text/plain": [
              "{'Chiều cao': 176.0, 'Cân nặng': 84.0, 'Giới tính': 'F', 'Tuổi': 36.32}"
            ]
          },
          "metadata": {
            "tags": []
          },
          "execution_count": 19
        }
      ]
    },
    {
      "cell_type": "code",
      "metadata": {
        "colab": {
          "base_uri": "https://localhost:8080/"
        },
        "id": "QmOBGGgQgQsn",
        "outputId": "e12033af-f214-42e9-e2e1-9e68df75450e"
      },
      "source": [
        "%cd '/content/drive/MyDrive/Dataset/Packs/'"
      ],
      "execution_count": 20,
      "outputs": [
        {
          "output_type": "stream",
          "text": [
            "/content/drive/MyDrive/Dataset/Packs\n"
          ],
          "name": "stdout"
        }
      ]
    },
    {
      "cell_type": "code",
      "metadata": {
        "colab": {
          "base_uri": "https://localhost:8080/",
          "height": 35
        },
        "id": "R8RjmHELiCHc",
        "outputId": "3664133a-61f2-4e06-cff4-b208c57346ca"
      },
      "source": [
        "pwd"
      ],
      "execution_count": 21,
      "outputs": [
        {
          "output_type": "execute_result",
          "data": {
            "application/vnd.google.colaboratory.intrinsic+json": {
              "type": "string"
            },
            "text/plain": [
              "'/content/drive/MyDrive/Dataset/Packs'"
            ]
          },
          "metadata": {
            "tags": []
          },
          "execution_count": 21
        }
      ]
    },
    {
      "cell_type": "markdown",
      "metadata": {
        "id": "2Q7bWFZxi82u"
      },
      "source": [
        "# Dữ liệu chuỗi"
      ]
    },
    {
      "cell_type": "code",
      "metadata": {
        "colab": {
          "base_uri": "https://localhost:8080/"
        },
        "id": "qVBOwgE4xc3j",
        "outputId": "f0e660e2-5620-431e-b3c8-fddcfd5708e1"
      },
      "source": [
        "case = DataImporter(signal_summary = pinfo, \r\n",
        "                    data_path = PACK_FOLDER,\r\n",
        "                    pack_folder= 'Res_signal_samp')\r\n",
        "\r\n",
        "case"
      ],
      "execution_count": 22,
      "outputs": [
        {
          "output_type": "execute_result",
          "data": {
            "text/plain": [
              "Đây là data paser cho pack dữ liệu Res_signal_samp"
            ]
          },
          "metadata": {
            "tags": []
          },
          "execution_count": 22
        }
      ]
    },
    {
      "cell_type": "code",
      "metadata": {
        "colab": {
          "base_uri": "https://localhost:8080/"
        },
        "id": "1kKv-5qoi8e1",
        "outputId": "1a0b4dab-9032-4775-d1f4-5ba28b96c8fa"
      },
      "source": [
        "help(case.import_raw_data)"
      ],
      "execution_count": null,
      "outputs": [
        {
          "output_type": "stream",
          "text": [
            "Help on method import_raw_data in module module1.raw_data_parser:\n",
            "\n",
            "import_raw_data(signal_type:str, n_lines=None, samp_freq=None) method of module1.raw_data_parser.DataImporter instance\n",
            "    Hàm cho phép tải bất kì dữ liệu nào thuộc loại 1 (raw data), \n",
            "    áp dụng tổng quát cho tất cả raw data\n",
            "    \n",
            "    :signal_type: tên viết tắt của loại dữ liệu, chú ý: luôn là chữ thường\n",
            "    :n_lines: số nguyên, giới hạn số hàng cần tải, thấp nhất là 5;\n",
            "    \n",
            "    Ghi chú: \n",
            "    1) Nếu n_lines = None, hàm sẽ xuất ra 3 kết quả:\n",
            "    :return 1: df_data, tín hiệu gốc, \n",
            "               pd.Series liên tục, có datetime index\n",
            "    :return 2: df_resampled, tín hiệu tái chọn mẫu; \n",
            "               pd.Series liên tục, có datetime index\n",
            "    :return 3: fs, giá trị tần số lấy mẫu gốc, int\n",
            "    \n",
            "    2) Nếu n_lines = 5, hàm chỉ xuất ra 2 kết quả:\n",
            "    :return 1: pd.Series gồm 2 hàng: thới điểm bắt đầu và kết thúc xét nghiệm\n",
            "    :return 2: fs: giá trị tần số lấy mẫu gốc, int\n",
            "    \n",
            "    3) Nếu không tìm thấy đường dẫn của loại tín hiệu:\n",
            "    Xuất ra 3 kết quả tương tự (1), nhưng tất cả đều rỗng (None)\n",
            "\n"
          ],
          "name": "stdout"
        }
      ]
    },
    {
      "cell_type": "markdown",
      "metadata": {
        "id": "IFMHJKrKjMco"
      },
      "source": [
        "Tra bảng kiểu tín hiệu có thể lựa chọn"
      ]
    },
    {
      "cell_type": "code",
      "metadata": {
        "colab": {
          "base_uri": "https://localhost:8080/"
        },
        "id": "UEMGRfLv6ie4",
        "outputId": "034551e1-9c77-462b-eee4-5fe37727456b"
      },
      "source": [
        "print(pinfo.signal_type.values)"
      ],
      "execution_count": null,
      "outputs": [
        {
          "output_type": "stream",
          "text": [
            "['abd rip' 'avg ap' 'dia ap' 'ecg' 'emg1' 'emg2' 'emg3' 'emg4' 'emg5'\n",
            " 'emg6' 'flow pressure' 'flow th' 'microphone' 'hmm' 'vmm' 'oesp'\n",
            " 'pleth flowrate' 'plml' 'plmr' 'pulse' 'snoring p' 'spo2' 'sys ap'\n",
            " 'tx rip' 'respi_evt' 'raw_spo2' 'evt_spo2' 'ma' 'hypno' 'profile'\n",
            " 'fileid=1nqzjd4jsfnfquzhqc4o6h2uqr53dccpz-requirements']\n"
          ],
          "name": "stdout"
        }
      ]
    },
    {
      "cell_type": "code",
      "metadata": {
        "colab": {
          "base_uri": "https://localhost:8080/"
        },
        "id": "DoHmftKjjQrC",
        "outputId": "649a24fd-99b1-4a99-9f40-fe8b6f84fe18"
      },
      "source": [
        "sample_df, resampled_df, fs = case.import_raw_data(signal_type='some strange type', \r\n",
        "                                                   samp_freq=None)"
      ],
      "execution_count": 23,
      "outputs": [
        {
          "output_type": "stream",
          "text": [
            "Không tìm thấy data cho tín hiệu  some strange type ở bệnh nhân này !\n"
          ],
          "name": "stdout"
        }
      ]
    },
    {
      "cell_type": "code",
      "metadata": {
        "id": "VwaFHGu2jYxL"
      },
      "source": [
        "sample_df, resampled_df, fs = case.import_raw_data(signal_type='abd rip', \r\n",
        "                                                   samp_freq=None)"
      ],
      "execution_count": 25,
      "outputs": []
    },
    {
      "cell_type": "code",
      "metadata": {
        "id": "UyJumnpDLyy8",
        "colab": {
          "base_uri": "https://localhost:8080/"
        },
        "outputId": "a52a6912-1815-4240-877d-14ae25c83f75"
      },
      "source": [
        "fs"
      ],
      "execution_count": 26,
      "outputs": [
        {
          "output_type": "execute_result",
          "data": {
            "text/plain": [
              "32"
            ]
          },
          "metadata": {
            "tags": []
          },
          "execution_count": 26
        }
      ]
    },
    {
      "cell_type": "code",
      "metadata": {
        "id": "KBNYFEU_L49W",
        "colab": {
          "base_uri": "https://localhost:8080/"
        },
        "outputId": "6c3a7292-f19a-4401-d11d-7e2ce91bebc1"
      },
      "source": [
        "sample_df"
      ],
      "execution_count": 27,
      "outputs": [
        {
          "output_type": "execute_result",
          "data": {
            "text/plain": [
              "2017-09-30 22:52:18+02:00           -22.0\n",
              "2017-09-30 22:52:18.031250+02:00    -22.0\n",
              "2017-09-30 22:52:18.062500+02:00    -22.0\n",
              "2017-09-30 22:52:18.093750+02:00    -21.0\n",
              "2017-09-30 22:52:18.125000+02:00    -20.0\n",
              "                                    ...  \n",
              "2017-10-01 06:19:23.843750+02:00    -38.0\n",
              "2017-10-01 06:19:23.875000+02:00    -68.0\n",
              "2017-10-01 06:19:23.906250+02:00    -88.0\n",
              "2017-10-01 06:19:23.937500+02:00   -114.0\n",
              "2017-10-01 06:19:23.968750+02:00   -130.0\n",
              "Name: abd rip, Length: 858432, dtype: float64"
            ]
          },
          "metadata": {
            "tags": []
          },
          "execution_count": 27
        }
      ]
    },
    {
      "cell_type": "code",
      "metadata": {
        "id": "N4voiOIWjsTC",
        "outputId": "7892a945-5c1b-49e7-d16e-b71cf8e61487",
        "colab": {
          "base_uri": "https://localhost:8080/"
        }
      },
      "source": [
        "pinfo.full_paths"
      ],
      "execution_count": 28,
      "outputs": [
        {
          "output_type": "execute_result",
          "data": {
            "text/plain": [
              "0     /content/drive/MyDrive/Dataset/Packs/Res_signa...\n",
              "1     /content/drive/MyDrive/Dataset/Packs/Res_signa...\n",
              "2     /content/drive/MyDrive/Dataset/Packs/Res_signa...\n",
              "3     /content/drive/MyDrive/Dataset/Packs/Res_signa...\n",
              "4     /content/drive/MyDrive/Dataset/Packs/Res_signa...\n",
              "5     /content/drive/MyDrive/Dataset/Packs/Res_signa...\n",
              "6     /content/drive/MyDrive/Dataset/Packs/Res_signa...\n",
              "7     /content/drive/MyDrive/Dataset/Packs/Res_signa...\n",
              "8     /content/drive/MyDrive/Dataset/Packs/Res_signa...\n",
              "9     /content/drive/MyDrive/Dataset/Packs/Res_signa...\n",
              "10    /content/drive/MyDrive/Dataset/Packs/Res_signa...\n",
              "11    /content/drive/MyDrive/Dataset/Packs/Res_signa...\n",
              "12    /content/drive/MyDrive/Dataset/Packs/Res_signa...\n",
              "13    /content/drive/MyDrive/Dataset/Packs/Res_signa...\n",
              "14    /content/drive/MyDrive/Dataset/Packs/Res_signa...\n",
              "15    /content/drive/MyDrive/Dataset/Packs/Res_signa...\n",
              "16    /content/drive/MyDrive/Dataset/Packs/Res_signa...\n",
              "17    /content/drive/MyDrive/Dataset/Packs/Res_signa...\n",
              "18    /content/drive/MyDrive/Dataset/Packs/Res_signa...\n",
              "19    /content/drive/MyDrive/Dataset/Packs/Res_signa...\n",
              "20    /content/drive/MyDrive/Dataset/Packs/Res_signa...\n",
              "21    /content/drive/MyDrive/Dataset/Packs/Res_signa...\n",
              "22    /content/drive/MyDrive/Dataset/Packs/Res_signa...\n",
              "23    /content/drive/MyDrive/Dataset/Packs/Res_signa...\n",
              "24    /content/drive/MyDrive/Dataset/Packs/Res_signa...\n",
              "25    /content/drive/MyDrive/Dataset/Packs/Res_signa...\n",
              "26    /content/drive/MyDrive/Dataset/Packs/Res_signa...\n",
              "27    /content/drive/MyDrive/Dataset/Packs/Res_signa...\n",
              "28    /content/drive/MyDrive/Dataset/Packs/Res_signa...\n",
              "29    /content/drive/MyDrive/Dataset/Packs/Res_signa...\n",
              "30    /content/drive/MyDrive/Dataset/Packs/fileId=1N...\n",
              "Name: full_paths, dtype: object"
            ]
          },
          "metadata": {
            "tags": []
          },
          "execution_count": 28
        }
      ]
    },
    {
      "cell_type": "code",
      "metadata": {
        "colab": {
          "base_uri": "https://localhost:8080/"
        },
        "id": "PpUcjxA1vPk3",
        "outputId": "ceaff2da-92d3-4542-8d7c-eefd608a4a94"
      },
      "source": [
        "help(case.import_adjacent_window_evt)"
      ],
      "execution_count": null,
      "outputs": [
        {
          "output_type": "stream",
          "text": [
            "Help on method import_adjacent_window_evt in module module1.raw_data_parser:\n",
            "\n",
            "import_adjacent_window_evt(signal_type='hypno', samp_freq=None, reshape=True) method of module1.raw_data_parser.DataImporter instance\n",
            "    Hàm tải dữ liệu chuỗi biến cố liên tục (loại 2A), thí dụ hypno; \n",
            "    hỗ trợ tái chọn mẫu và hoán chuyển ngược về loại 2B (danh sách biến cố không liên tục)\n",
            "    \n",
            "    :signal_type: tên viết tắt loại dữ liệu, Lưu ý: hàm này chỉ dùng cho 'hypno' hoặc 'spo2'\n",
            "    :reshape = True có nghĩa là sẽ hoán chuyển 2A thành 2B, và xuất ra cả 2; \n",
            "    : reshape = False có nghĩa là không cần hoán chuyển, chỉ xuất ra dữ liệu chuỗi liên tục 2A\n",
            "    :return 1: df_data: 1 pd.Series chứa dữ liệu chuỗi liên tục (gốc), có datetime index\n",
            "    :return 2: df_resampled: 1 pd.Series chứa dữ liệu chuỗi liên tục (đã được tái chọn mẫu), có datetime index\n",
            "    :return 3: dict_map: dictionary cho biết ý nghĩa các nhãn biến cố\n",
            "    :return 4: df_event: chỉ khi reshape = True, dataframe danh sách biến cố không liên tục (2B), \n",
            "    có cấu trúc mỗi hàng là 1 biến cố, và 4 cột:'evt_start, 'evt_stop', 'evt_info'(thời gian mỗi biến cố) \n",
            "    và 'evt_value' (nhãn kết quả).\n",
            "    :return 5: window_len: Độ dài của cửa sổ quan sát nếu cố định, = None nếu không cố định\n",
            "\n"
          ],
          "name": "stdout"
        }
      ]
    },
    {
      "cell_type": "code",
      "metadata": {
        "colab": {
          "base_uri": "https://localhost:8080/",
          "height": 35
        },
        "id": "hGvpV9ud1gnT",
        "outputId": "22679dd0-901d-492f-deef-0e3eb5e8f55f"
      },
      "source": [
        "file_summary = pinfo\r\n",
        "selected_paths = file_summary.loc[file_summary['signal_type']\r\n",
        "                                      == 'ecg', 'full_paths']\r\n",
        "selected_paths.values[0]                                     "
      ],
      "execution_count": null,
      "outputs": [
        {
          "output_type": "execute_result",
          "data": {
            "application/vnd.google.colaboratory.intrinsic+json": {
              "type": "string"
            },
            "text/plain": [
              "'/content/drive/MyDrive/Dataset/Packs/Res_signal_samp/Raw data/ECG.txt'"
            ]
          },
          "metadata": {
            "tags": []
          },
          "execution_count": 27
        }
      ]
    },
    {
      "cell_type": "code",
      "metadata": {
        "id": "gOnQ-a2K01s-",
        "colab": {
          "base_uri": "https://localhost:8080/",
          "height": 35
        },
        "outputId": "f620c673-8547-4ec4-f4a4-659efbdcbfe1"
      },
      "source": [
        "case.data_path"
      ],
      "execution_count": null,
      "outputs": [
        {
          "output_type": "execute_result",
          "data": {
            "application/vnd.google.colaboratory.intrinsic+json": {
              "type": "string"
            },
            "text/plain": [
              "'/content/drive/MyDrive/Dataset/Packs/Res_signal_samp'"
            ]
          },
          "metadata": {
            "tags": []
          },
          "execution_count": 62
        }
      ]
    },
    {
      "cell_type": "code",
      "metadata": {
        "id": "J2FiRAl_1H7O",
        "colab": {
          "base_uri": "https://localhost:8080/",
          "height": 948
        },
        "outputId": "2748c34d-eb2a-452b-f431-bef03acc09c1"
      },
      "source": [
        "case.signal_summary"
      ],
      "execution_count": 29,
      "outputs": [
        {
          "output_type": "execute_result",
          "data": {
            "text/html": [
              "<div>\n",
              "<style scoped>\n",
              "    .dataframe tbody tr th:only-of-type {\n",
              "        vertical-align: middle;\n",
              "    }\n",
              "\n",
              "    .dataframe tbody tr th {\n",
              "        vertical-align: top;\n",
              "    }\n",
              "\n",
              "    .dataframe thead th {\n",
              "        text-align: right;\n",
              "    }\n",
              "</style>\n",
              "<table border=\"1\" class=\"dataframe\">\n",
              "  <thead>\n",
              "    <tr style=\"text-align: right;\">\n",
              "      <th></th>\n",
              "      <th>full_paths</th>\n",
              "      <th>pack</th>\n",
              "      <th>filename</th>\n",
              "      <th>signal_type</th>\n",
              "      <th>Size (Mb)</th>\n",
              "    </tr>\n",
              "  </thead>\n",
              "  <tbody>\n",
              "    <tr>\n",
              "      <th>0</th>\n",
              "      <td>/content/drive/MyDrive/Dataset/Packs/Res_signa...</td>\n",
              "      <td>Res_signal_samp</td>\n",
              "      <td>Abd RIP.txt</td>\n",
              "      <td>abd rip</td>\n",
              "      <td>3.304411</td>\n",
              "    </tr>\n",
              "    <tr>\n",
              "      <th>1</th>\n",
              "      <td>/content/drive/MyDrive/Dataset/Packs/Res_signa...</td>\n",
              "      <td>Res_signal_samp</td>\n",
              "      <td>Avg AP.txt</td>\n",
              "      <td>avg ap</td>\n",
              "      <td>4.410931</td>\n",
              "    </tr>\n",
              "    <tr>\n",
              "      <th>2</th>\n",
              "      <td>/content/drive/MyDrive/Dataset/Packs/Res_signa...</td>\n",
              "      <td>Res_signal_samp</td>\n",
              "      <td>Dia AP.txt</td>\n",
              "      <td>dia ap</td>\n",
              "      <td>4.401841</td>\n",
              "    </tr>\n",
              "    <tr>\n",
              "      <th>3</th>\n",
              "      <td>/content/drive/MyDrive/Dataset/Packs/Res_signa...</td>\n",
              "      <td>Res_signal_samp</td>\n",
              "      <td>ECG.txt</td>\n",
              "      <td>ecg</td>\n",
              "      <td>67.016486</td>\n",
              "    </tr>\n",
              "    <tr>\n",
              "      <th>4</th>\n",
              "      <td>/content/drive/MyDrive/Dataset/Packs/Res_signa...</td>\n",
              "      <td>Res_signal_samp</td>\n",
              "      <td>EMG1.txt</td>\n",
              "      <td>emg1</td>\n",
              "      <td>48.448591</td>\n",
              "    </tr>\n",
              "    <tr>\n",
              "      <th>5</th>\n",
              "      <td>/content/drive/MyDrive/Dataset/Packs/Res_signa...</td>\n",
              "      <td>Res_signal_samp</td>\n",
              "      <td>EMG2.txt</td>\n",
              "      <td>emg2</td>\n",
              "      <td>46.274706</td>\n",
              "    </tr>\n",
              "    <tr>\n",
              "      <th>6</th>\n",
              "      <td>/content/drive/MyDrive/Dataset/Packs/Res_signa...</td>\n",
              "      <td>Res_signal_samp</td>\n",
              "      <td>EMG3.txt</td>\n",
              "      <td>emg3</td>\n",
              "      <td>46.902450</td>\n",
              "    </tr>\n",
              "    <tr>\n",
              "      <th>7</th>\n",
              "      <td>/content/drive/MyDrive/Dataset/Packs/Res_signa...</td>\n",
              "      <td>Res_signal_samp</td>\n",
              "      <td>EMG4.txt</td>\n",
              "      <td>emg4</td>\n",
              "      <td>46.719885</td>\n",
              "    </tr>\n",
              "    <tr>\n",
              "      <th>8</th>\n",
              "      <td>/content/drive/MyDrive/Dataset/Packs/Res_signa...</td>\n",
              "      <td>Res_signal_samp</td>\n",
              "      <td>EMG5.txt</td>\n",
              "      <td>emg5</td>\n",
              "      <td>46.485726</td>\n",
              "    </tr>\n",
              "    <tr>\n",
              "      <th>9</th>\n",
              "      <td>/content/drive/MyDrive/Dataset/Packs/Res_signa...</td>\n",
              "      <td>Res_signal_samp</td>\n",
              "      <td>EMG6.txt</td>\n",
              "      <td>emg6</td>\n",
              "      <td>48.036753</td>\n",
              "    </tr>\n",
              "    <tr>\n",
              "      <th>10</th>\n",
              "      <td>/content/drive/MyDrive/Dataset/Packs/Res_signa...</td>\n",
              "      <td>Res_signal_samp</td>\n",
              "      <td>Flow Pressure.txt</td>\n",
              "      <td>flow pressure</td>\n",
              "      <td>33.335078</td>\n",
              "    </tr>\n",
              "    <tr>\n",
              "      <th>11</th>\n",
              "      <td>/content/drive/MyDrive/Dataset/Packs/Res_signa...</td>\n",
              "      <td>Res_signal_samp</td>\n",
              "      <td>Flow Th.txt</td>\n",
              "      <td>flow th</td>\n",
              "      <td>4.412445</td>\n",
              "    </tr>\n",
              "    <tr>\n",
              "      <th>12</th>\n",
              "      <td>/content/drive/MyDrive/Dataset/Packs/Res_signa...</td>\n",
              "      <td>Res_signal_samp</td>\n",
              "      <td>Microphone.txt</td>\n",
              "      <td>microphone</td>\n",
              "      <td>20.748214</td>\n",
              "    </tr>\n",
              "    <tr>\n",
              "      <th>13</th>\n",
              "      <td>/content/drive/MyDrive/Dataset/Packs/Res_signa...</td>\n",
              "      <td>Res_signal_samp</td>\n",
              "      <td>HMM.txt</td>\n",
              "      <td>hmm</td>\n",
              "      <td>6.867572</td>\n",
              "    </tr>\n",
              "    <tr>\n",
              "      <th>14</th>\n",
              "      <td>/content/drive/MyDrive/Dataset/Packs/Res_signa...</td>\n",
              "      <td>Res_signal_samp</td>\n",
              "      <td>VMM.txt</td>\n",
              "      <td>vmm</td>\n",
              "      <td>6.867570</td>\n",
              "    </tr>\n",
              "    <tr>\n",
              "      <th>15</th>\n",
              "      <td>/content/drive/MyDrive/Dataset/Packs/Res_signa...</td>\n",
              "      <td>Res_signal_samp</td>\n",
              "      <td>OESP.txt</td>\n",
              "      <td>oesp</td>\n",
              "      <td>6.283715</td>\n",
              "    </tr>\n",
              "    <tr>\n",
              "      <th>16</th>\n",
              "      <td>/content/drive/MyDrive/Dataset/Packs/Res_signa...</td>\n",
              "      <td>Res_signal_samp</td>\n",
              "      <td>Pleth Flowrate.txt</td>\n",
              "      <td>pleth flowrate</td>\n",
              "      <td>17.170740</td>\n",
              "    </tr>\n",
              "    <tr>\n",
              "      <th>17</th>\n",
              "      <td>/content/drive/MyDrive/Dataset/Packs/Res_signa...</td>\n",
              "      <td>Res_signal_samp</td>\n",
              "      <td>PLMl.txt</td>\n",
              "      <td>plml</td>\n",
              "      <td>46.865162</td>\n",
              "    </tr>\n",
              "    <tr>\n",
              "      <th>18</th>\n",
              "      <td>/content/drive/MyDrive/Dataset/Packs/Res_signa...</td>\n",
              "      <td>Res_signal_samp</td>\n",
              "      <td>PLMr.txt</td>\n",
              "      <td>plmr</td>\n",
              "      <td>46.456282</td>\n",
              "    </tr>\n",
              "    <tr>\n",
              "      <th>19</th>\n",
              "      <td>/content/drive/MyDrive/Dataset/Packs/Res_signa...</td>\n",
              "      <td>Res_signal_samp</td>\n",
              "      <td>Pulse.txt</td>\n",
              "      <td>pulse</td>\n",
              "      <td>3.433177</td>\n",
              "    </tr>\n",
              "    <tr>\n",
              "      <th>20</th>\n",
              "      <td>/content/drive/MyDrive/Dataset/Packs/Res_signa...</td>\n",
              "      <td>Res_signal_samp</td>\n",
              "      <td>Snoring P.txt</td>\n",
              "      <td>snoring p</td>\n",
              "      <td>23.467052</td>\n",
              "    </tr>\n",
              "    <tr>\n",
              "      <th>21</th>\n",
              "      <td>/content/drive/MyDrive/Dataset/Packs/Res_signa...</td>\n",
              "      <td>Res_signal_samp</td>\n",
              "      <td>SpO2.txt</td>\n",
              "      <td>spo2</td>\n",
              "      <td>3.433461</td>\n",
              "    </tr>\n",
              "    <tr>\n",
              "      <th>22</th>\n",
              "      <td>/content/drive/MyDrive/Dataset/Packs/Res_signa...</td>\n",
              "      <td>Res_signal_samp</td>\n",
              "      <td>Sys AP.txt</td>\n",
              "      <td>sys ap</td>\n",
              "      <td>4.383133</td>\n",
              "    </tr>\n",
              "    <tr>\n",
              "      <th>23</th>\n",
              "      <td>/content/drive/MyDrive/Dataset/Packs/Res_signa...</td>\n",
              "      <td>Res_signal_samp</td>\n",
              "      <td>Tx RIP.txt</td>\n",
              "      <td>tx rip</td>\n",
              "      <td>3.951251</td>\n",
              "    </tr>\n",
              "    <tr>\n",
              "      <th>24</th>\n",
              "      <td>/content/drive/MyDrive/Dataset/Packs/Res_signa...</td>\n",
              "      <td>Res_signal_samp</td>\n",
              "      <td>Respiratory events.txt</td>\n",
              "      <td>respi_evt</td>\n",
              "      <td>0.003075</td>\n",
              "    </tr>\n",
              "    <tr>\n",
              "      <th>25</th>\n",
              "      <td>/content/drive/MyDrive/Dataset/Packs/Res_signa...</td>\n",
              "      <td>Res_signal_samp</td>\n",
              "      <td>SpO2.txt</td>\n",
              "      <td>raw_spo2</td>\n",
              "      <td>0.078435</td>\n",
              "    </tr>\n",
              "    <tr>\n",
              "      <th>26</th>\n",
              "      <td>/content/drive/MyDrive/Dataset/Packs/Res_signa...</td>\n",
              "      <td>Res_signal_samp</td>\n",
              "      <td>Desaturations.txt</td>\n",
              "      <td>evt_spo2</td>\n",
              "      <td>0.001096</td>\n",
              "    </tr>\n",
              "    <tr>\n",
              "      <th>27</th>\n",
              "      <td>/content/drive/MyDrive/Dataset/Packs/Res_signa...</td>\n",
              "      <td>Res_signal_samp</td>\n",
              "      <td>Micro Arousals.txt</td>\n",
              "      <td>ma</td>\n",
              "      <td>0.002846</td>\n",
              "    </tr>\n",
              "    <tr>\n",
              "      <th>28</th>\n",
              "      <td>/content/drive/MyDrive/Dataset/Packs/Res_signa...</td>\n",
              "      <td>Res_signal_samp</td>\n",
              "      <td>Hypnogramme.txt</td>\n",
              "      <td>hypno</td>\n",
              "      <td>0.016198</td>\n",
              "    </tr>\n",
              "  </tbody>\n",
              "</table>\n",
              "</div>"
            ],
            "text/plain": [
              "                                           full_paths  ...  Size (Mb)\n",
              "0   /content/drive/MyDrive/Dataset/Packs/Res_signa...  ...   3.304411\n",
              "1   /content/drive/MyDrive/Dataset/Packs/Res_signa...  ...   4.410931\n",
              "2   /content/drive/MyDrive/Dataset/Packs/Res_signa...  ...   4.401841\n",
              "3   /content/drive/MyDrive/Dataset/Packs/Res_signa...  ...  67.016486\n",
              "4   /content/drive/MyDrive/Dataset/Packs/Res_signa...  ...  48.448591\n",
              "5   /content/drive/MyDrive/Dataset/Packs/Res_signa...  ...  46.274706\n",
              "6   /content/drive/MyDrive/Dataset/Packs/Res_signa...  ...  46.902450\n",
              "7   /content/drive/MyDrive/Dataset/Packs/Res_signa...  ...  46.719885\n",
              "8   /content/drive/MyDrive/Dataset/Packs/Res_signa...  ...  46.485726\n",
              "9   /content/drive/MyDrive/Dataset/Packs/Res_signa...  ...  48.036753\n",
              "10  /content/drive/MyDrive/Dataset/Packs/Res_signa...  ...  33.335078\n",
              "11  /content/drive/MyDrive/Dataset/Packs/Res_signa...  ...   4.412445\n",
              "12  /content/drive/MyDrive/Dataset/Packs/Res_signa...  ...  20.748214\n",
              "13  /content/drive/MyDrive/Dataset/Packs/Res_signa...  ...   6.867572\n",
              "14  /content/drive/MyDrive/Dataset/Packs/Res_signa...  ...   6.867570\n",
              "15  /content/drive/MyDrive/Dataset/Packs/Res_signa...  ...   6.283715\n",
              "16  /content/drive/MyDrive/Dataset/Packs/Res_signa...  ...  17.170740\n",
              "17  /content/drive/MyDrive/Dataset/Packs/Res_signa...  ...  46.865162\n",
              "18  /content/drive/MyDrive/Dataset/Packs/Res_signa...  ...  46.456282\n",
              "19  /content/drive/MyDrive/Dataset/Packs/Res_signa...  ...   3.433177\n",
              "20  /content/drive/MyDrive/Dataset/Packs/Res_signa...  ...  23.467052\n",
              "21  /content/drive/MyDrive/Dataset/Packs/Res_signa...  ...   3.433461\n",
              "22  /content/drive/MyDrive/Dataset/Packs/Res_signa...  ...   4.383133\n",
              "23  /content/drive/MyDrive/Dataset/Packs/Res_signa...  ...   3.951251\n",
              "24  /content/drive/MyDrive/Dataset/Packs/Res_signa...  ...   0.003075\n",
              "25  /content/drive/MyDrive/Dataset/Packs/Res_signa...  ...   0.078435\n",
              "26  /content/drive/MyDrive/Dataset/Packs/Res_signa...  ...   0.001096\n",
              "27  /content/drive/MyDrive/Dataset/Packs/Res_signa...  ...   0.002846\n",
              "28  /content/drive/MyDrive/Dataset/Packs/Res_signa...  ...   0.016198\n",
              "\n",
              "[29 rows x 5 columns]"
            ]
          },
          "metadata": {
            "tags": []
          },
          "execution_count": 29
        }
      ]
    },
    {
      "cell_type": "code",
      "metadata": {
        "id": "yXiwShfw5FpJ",
        "colab": {
          "base_uri": "https://localhost:8080/"
        },
        "outputId": "73347d15-7574-4b7d-8f93-5f7588be5407"
      },
      "source": [
        "type(pinfo)"
      ],
      "execution_count": null,
      "outputs": [
        {
          "output_type": "execute_result",
          "data": {
            "text/plain": [
              "pandas.core.frame.DataFrame"
            ]
          },
          "metadata": {
            "tags": []
          },
          "execution_count": 64
        }
      ]
    },
    {
      "cell_type": "code",
      "metadata": {
        "id": "GBbAKtcO74tu",
        "colab": {
          "base_uri": "https://localhost:8080/"
        },
        "outputId": "b450e708-a46f-4225-efdb-9c52806d74b0"
      },
      "source": [
        "type(case.signal_summary)"
      ],
      "execution_count": null,
      "outputs": [
        {
          "output_type": "execute_result",
          "data": {
            "text/plain": [
              "pandas.core.frame.DataFrame"
            ]
          },
          "metadata": {
            "tags": []
          },
          "execution_count": 66
        }
      ]
    },
    {
      "cell_type": "code",
      "metadata": {
        "id": "IK2pnXLM1Wf6",
        "colab": {
          "base_uri": "https://localhost:8080/",
          "height": 35
        },
        "outputId": "9aa78ce7-fd47-4468-b509-3908d56b7eb6"
      },
      "source": [
        "case.pack_folder"
      ],
      "execution_count": null,
      "outputs": [
        {
          "output_type": "execute_result",
          "data": {
            "application/vnd.google.colaboratory.intrinsic+json": {
              "type": "string"
            },
            "text/plain": [
              "'Res_signal_samp'"
            ]
          },
          "metadata": {
            "tags": []
          },
          "execution_count": 28
        }
      ]
    },
    {
      "cell_type": "code",
      "metadata": {
        "id": "AsA6wE6F_OHK",
        "colab": {
          "base_uri": "https://localhost:8080/",
          "height": 204
        },
        "outputId": "b255605e-2eb4-47c3-b46f-7b3bbdde6d2d"
      },
      "source": [
        "pinfo.head()"
      ],
      "execution_count": null,
      "outputs": [
        {
          "output_type": "execute_result",
          "data": {
            "text/html": [
              "<div>\n",
              "<style scoped>\n",
              "    .dataframe tbody tr th:only-of-type {\n",
              "        vertical-align: middle;\n",
              "    }\n",
              "\n",
              "    .dataframe tbody tr th {\n",
              "        vertical-align: top;\n",
              "    }\n",
              "\n",
              "    .dataframe thead th {\n",
              "        text-align: right;\n",
              "    }\n",
              "</style>\n",
              "<table border=\"1\" class=\"dataframe\">\n",
              "  <thead>\n",
              "    <tr style=\"text-align: right;\">\n",
              "      <th></th>\n",
              "      <th>full_paths</th>\n",
              "      <th>pack</th>\n",
              "      <th>filename</th>\n",
              "      <th>signal_type</th>\n",
              "      <th>Size (Mb)</th>\n",
              "    </tr>\n",
              "  </thead>\n",
              "  <tbody>\n",
              "    <tr>\n",
              "      <th>0</th>\n",
              "      <td>/content/drive/MyDrive/Dataset/Packs/Res_signa...</td>\n",
              "      <td>Res_signal_samp</td>\n",
              "      <td>Abd RIP.txt</td>\n",
              "      <td>abd rip</td>\n",
              "      <td>3.304411</td>\n",
              "    </tr>\n",
              "    <tr>\n",
              "      <th>1</th>\n",
              "      <td>/content/drive/MyDrive/Dataset/Packs/Res_signa...</td>\n",
              "      <td>Res_signal_samp</td>\n",
              "      <td>Avg AP.txt</td>\n",
              "      <td>avg ap</td>\n",
              "      <td>4.410931</td>\n",
              "    </tr>\n",
              "    <tr>\n",
              "      <th>2</th>\n",
              "      <td>/content/drive/MyDrive/Dataset/Packs/Res_signa...</td>\n",
              "      <td>Res_signal_samp</td>\n",
              "      <td>Dia AP.txt</td>\n",
              "      <td>dia ap</td>\n",
              "      <td>4.401841</td>\n",
              "    </tr>\n",
              "    <tr>\n",
              "      <th>3</th>\n",
              "      <td>/content/drive/MyDrive/Dataset/Packs/Res_signa...</td>\n",
              "      <td>Res_signal_samp</td>\n",
              "      <td>ECG.txt</td>\n",
              "      <td>ecg</td>\n",
              "      <td>67.016486</td>\n",
              "    </tr>\n",
              "    <tr>\n",
              "      <th>4</th>\n",
              "      <td>/content/drive/MyDrive/Dataset/Packs/Res_signa...</td>\n",
              "      <td>Res_signal_samp</td>\n",
              "      <td>EMG1.txt</td>\n",
              "      <td>emg1</td>\n",
              "      <td>48.448591</td>\n",
              "    </tr>\n",
              "  </tbody>\n",
              "</table>\n",
              "</div>"
            ],
            "text/plain": [
              "                                          full_paths  ...  Size (Mb)\n",
              "0  /content/drive/MyDrive/Dataset/Packs/Res_signa...  ...   3.304411\n",
              "1  /content/drive/MyDrive/Dataset/Packs/Res_signa...  ...   4.410931\n",
              "2  /content/drive/MyDrive/Dataset/Packs/Res_signa...  ...   4.401841\n",
              "3  /content/drive/MyDrive/Dataset/Packs/Res_signa...  ...  67.016486\n",
              "4  /content/drive/MyDrive/Dataset/Packs/Res_signa...  ...  48.448591\n",
              "\n",
              "[5 rows x 5 columns]"
            ]
          },
          "metadata": {
            "tags": []
          },
          "execution_count": 29
        }
      ]
    },
    {
      "cell_type": "code",
      "metadata": {
        "id": "NhISsgr0ECFa",
        "colab": {
          "base_uri": "https://localhost:8080/"
        },
        "outputId": "c71734fc-2be7-4b75-bbbd-4c928420232f"
      },
      "source": [
        "list(pinfo.columns)"
      ],
      "execution_count": null,
      "outputs": [
        {
          "output_type": "execute_result",
          "data": {
            "text/plain": [
              "['full_paths', 'pack', 'filename', 'signal_type', 'Size (Mb)']"
            ]
          },
          "metadata": {
            "tags": []
          },
          "execution_count": 30
        }
      ]
    },
    {
      "cell_type": "code",
      "metadata": {
        "id": "iPu9DsqNFL9L"
      },
      "source": [
        "path = pinfo['full_paths'][0]"
      ],
      "execution_count": null,
      "outputs": []
    },
    {
      "cell_type": "code",
      "metadata": {
        "id": "lYZFeMbGFqA3",
        "colab": {
          "base_uri": "https://localhost:8080/"
        },
        "outputId": "104b8b3d-f5c0-4434-bdca-9c43db6fd623"
      },
      "source": [
        "split_path = path.split(os.sep)\r\n",
        "split_path"
      ],
      "execution_count": null,
      "outputs": [
        {
          "output_type": "execute_result",
          "data": {
            "text/plain": [
              "['',\n",
              " 'content',\n",
              " 'drive',\n",
              " 'MyDrive',\n",
              " 'Dataset',\n",
              " 'Packs',\n",
              " 'Res_signal_samp',\n",
              " 'Raw data',\n",
              " 'Abd RIP.txt']"
            ]
          },
          "metadata": {
            "tags": []
          },
          "execution_count": 32
        }
      ]
    },
    {
      "cell_type": "code",
      "metadata": {
        "id": "R4mjfZREG_wj",
        "colab": {
          "base_uri": "https://localhost:8080/",
          "height": 35
        },
        "outputId": "ba550dcd-9229-4586-ac34-b8d90ada7cf1"
      },
      "source": [
        "apack = split_path[-3]\r\n",
        "apack"
      ],
      "execution_count": null,
      "outputs": [
        {
          "output_type": "execute_result",
          "data": {
            "application/vnd.google.colaboratory.intrinsic+json": {
              "type": "string"
            },
            "text/plain": [
              "'Res_signal_samp'"
            ]
          },
          "metadata": {
            "tags": []
          },
          "execution_count": 115
        }
      ]
    },
    {
      "cell_type": "code",
      "metadata": {
        "id": "yDa_txxiIWcE",
        "colab": {
          "base_uri": "https://localhost:8080/"
        },
        "outputId": "dbe94f09-eb5d-4fd1-c016-8275c6739a5d"
      },
      "source": [
        "pack.get_info_from_path(path)"
      ],
      "execution_count": null,
      "outputs": [
        {
          "output_type": "execute_result",
          "data": {
            "text/plain": [
              "0        MyDrive\n",
              "1    Abd RIP.txt\n",
              "dtype: object"
            ]
          },
          "metadata": {
            "tags": []
          },
          "execution_count": 127
        }
      ]
    },
    {
      "cell_type": "markdown",
      "metadata": {
        "id": "x3Vmw12fPzGq"
      },
      "source": [
        "#Test Import Raw Data"
      ]
    },
    {
      "cell_type": "code",
      "metadata": {
        "id": "wbAFKShvMhQk"
      },
      "source": [
        "sample_df, resampled_df, fs = case.import_raw_data(signal_type='flow th', \r\n",
        "                                                   samp_freq=16)"
      ],
      "execution_count": 30,
      "outputs": []
    },
    {
      "cell_type": "code",
      "metadata": {
        "id": "LOT97AxuMqlI",
        "colab": {
          "base_uri": "https://localhost:8080/"
        },
        "outputId": "543ca43c-f5a8-4cb4-bab0-45fdcd5bbcb2"
      },
      "source": [
        "resampled_df"
      ],
      "execution_count": null,
      "outputs": [
        {
          "output_type": "execute_result",
          "data": {
            "text/plain": [
              "2017-09-30 22:52:18+02:00           133.0\n",
              "2017-09-30 22:52:18.062500+02:00     96.0\n",
              "2017-09-30 22:52:18.125000+02:00     48.0\n",
              "2017-09-30 22:52:18.187500+02:00      2.0\n",
              "2017-09-30 22:52:18.250000+02:00    -43.0\n",
              "                                    ...  \n",
              "2017-10-01 06:19:23.687500+02:00     13.0\n",
              "2017-10-01 06:19:23.750000+02:00    -27.0\n",
              "2017-10-01 06:19:23.812500+02:00    -65.0\n",
              "2017-10-01 06:19:23.875000+02:00    -97.0\n",
              "2017-10-01 06:19:23.937500+02:00   -127.0\n",
              "Freq: 62500U, Name: flow th, Length: 429216, dtype: float64"
            ]
          },
          "metadata": {
            "tags": []
          },
          "execution_count": 40
        }
      ]
    },
    {
      "cell_type": "code",
      "metadata": {
        "id": "rIAnkL9mMtqt",
        "colab": {
          "base_uri": "https://localhost:8080/"
        },
        "outputId": "9e1db5b1-41f1-45fe-df8b-2766ebf712d1"
      },
      "source": [
        "sample_df.shape[0] / resampled_df.shape[0]"
      ],
      "execution_count": 31,
      "outputs": [
        {
          "output_type": "execute_result",
          "data": {
            "text/plain": [
              "2.0"
            ]
          },
          "metadata": {
            "tags": []
          },
          "execution_count": 31
        }
      ]
    },
    {
      "cell_type": "code",
      "metadata": {
        "id": "HCz06w6fMwTh",
        "colab": {
          "base_uri": "https://localhost:8080/",
          "height": 174
        },
        "outputId": "03fa25be-a7e4-4fea-ad09-7bc62ce993f8"
      },
      "source": [
        "import matplotlib.pyplot as plt\r\n",
        "\r\n",
        "plt.figure(figsize=(20,3))\r\n",
        "plt.plot(resampled_df[0:2000], 'b-', label = '16 Hz')\r\n",
        "plt.legend()"
      ],
      "execution_count": 32,
      "outputs": [
        {
          "output_type": "execute_result",
          "data": {
            "text/plain": [
              "<matplotlib.legend.Legend at 0x7f8e5b0ebe10>"
            ]
          },
          "metadata": {
            "tags": []
          },
          "execution_count": 32
        },
        {
          "output_type": "display_data",
          "data": {
            "image/png": "[encoded data removed]",
            "text/plain": [
              "<Figure size 1440x216 with 1 Axes>"
            ]
          },
          "metadata": {
            "tags": [],
            "needs_background": "light"
          }
        }
      ]
    },
    {
      "cell_type": "code",
      "metadata": {
        "id": "S2kFdg1dMzYW",
        "colab": {
          "base_uri": "https://localhost:8080/",
          "height": 174
        },
        "outputId": "d25a43d3-b28c-4fa6-ca06-2f0a0d082ce9"
      },
      "source": [
        "plt.figure(figsize=(20,3))\r\n",
        "plt.plot(sample_df[0:4000], 'r-', label = '32 Hz')\r\n",
        "plt.legend()"
      ],
      "execution_count": 33,
      "outputs": [
        {
          "output_type": "execute_result",
          "data": {
            "text/plain": [
              "<matplotlib.legend.Legend at 0x7f8e55a31860>"
            ]
          },
          "metadata": {
            "tags": []
          },
          "execution_count": 33
        },
        {
          "output_type": "display_data",
          "data": {
            "image/png": "[encoded data removed]",
            "text/plain": [
              "<Figure size 1440x216 with 1 Axes>"
            ]
          },
          "metadata": {
            "tags": [],
            "needs_background": "light"
          }
        }
      ]
    },
    {
      "cell_type": "markdown",
      "metadata": {
        "id": "b6c0A6N0QO3S"
      },
      "source": [
        "# Loại 2A: Dữ liệu chuỗi định tính liên tục"
      ]
    },
    {
      "cell_type": "code",
      "metadata": {
        "id": "azn6WREfQXjm"
      },
      "source": [
        "help(case.import_adjacent_window_evt)"
      ],
      "execution_count": null,
      "outputs": []
    },
    {
      "cell_type": "code",
      "metadata": {
        "id": "cXxdJ-w1SHfz"
      },
      "source": [
        "df_data, df_resampled, dict_map, window_len = \\\r\n",
        "case.import_adjacent_window_evt(signal_type='hypno', \r\n",
        "                                samp_freq = 16, \r\n",
        "                                reshape = False)"
      ],
      "execution_count": 35,
      "outputs": []
    },
    {
      "cell_type": "code",
      "metadata": {
        "id": "jvE08v_3SK-M",
        "outputId": "a8054b46-c82d-4ced-94f3-014b7369267a",
        "colab": {
          "base_uri": "https://localhost:8080/"
        }
      },
      "source": [
        "df_data"
      ],
      "execution_count": 36,
      "outputs": [
        {
          "output_type": "execute_result",
          "data": {
            "text/plain": [
              "2017-09-30 23:00:00+02:00    0\n",
              "2017-09-30 23:00:30+02:00    0\n",
              "2017-09-30 23:01:00+02:00    0\n",
              "2017-09-30 23:01:30+02:00    0\n",
              "2017-09-30 23:02:00+02:00    0\n",
              "                            ..\n",
              "2017-10-01 06:14:00+02:00    2\n",
              "2017-10-01 06:14:30+02:00    2\n",
              "2017-10-01 06:15:00+02:00    2\n",
              "2017-10-01 06:15:30+02:00    0\n",
              "2017-10-01 06:16:00+02:00    0\n",
              "Name: hypno, Length: 873, dtype: int64"
            ]
          },
          "metadata": {
            "tags": []
          },
          "execution_count": 36
        }
      ]
    },
    {
      "cell_type": "markdown",
      "metadata": {
        "id": "bXK4PMx1SSac"
      },
      "source": [
        "df_data chứa label gốc, chưa lấy mẫu lại. \r\n",
        "Độ dài 873 cửa sổ phân đoạn (epoches).\r\n",
        "* Số phút của dữ liệu"
      ]
    },
    {
      "cell_type": "code",
      "metadata": {
        "id": "dVoZYRlsSlvh",
        "outputId": "b6379a62-b86f-477a-bd3a-fab24f430d4f",
        "colab": {
          "base_uri": "https://localhost:8080/"
        }
      },
      "source": [
        "873*30/60"
      ],
      "execution_count": 37,
      "outputs": [
        {
          "output_type": "execute_result",
          "data": {
            "text/plain": [
              "436.5"
            ]
          },
          "metadata": {
            "tags": []
          },
          "execution_count": 37
        }
      ]
    },
    {
      "cell_type": "code",
      "metadata": {
        "id": "LNTYd2DVSwmT",
        "outputId": "6e481f40-9662-4c83-e5c6-df71fe631e6b",
        "colab": {
          "base_uri": "https://localhost:8080/"
        }
      },
      "source": [
        "dict_map"
      ],
      "execution_count": 38,
      "outputs": [
        {
          "output_type": "execute_result",
          "data": {
            "text/plain": [
              "{'Mvt': -1, 'N1': 1, 'N2': 2, 'N3': 3, 'N4': -1, 'REM': 4, 'Wake': 0}"
            ]
          },
          "metadata": {
            "tags": []
          },
          "execution_count": 38
        }
      ]
    },
    {
      "cell_type": "code",
      "metadata": {
        "id": "8dLC1NFuSzYC",
        "outputId": "e90bd24e-b5c8-4853-87b6-733dc3908df9",
        "colab": {
          "base_uri": "https://localhost:8080/"
        }
      },
      "source": [
        "window_len"
      ],
      "execution_count": 39,
      "outputs": [
        {
          "output_type": "execute_result",
          "data": {
            "text/plain": [
              "30.0"
            ]
          },
          "metadata": {
            "tags": []
          },
          "execution_count": 39
        }
      ]
    },
    {
      "cell_type": "code",
      "metadata": {
        "id": "dge0tPfTS-yN",
        "outputId": "793d2327-3d27-47eb-eca7-ee12e1fc9294",
        "colab": {
          "base_uri": "https://localhost:8080/"
        }
      },
      "source": [
        "df_resampled"
      ],
      "execution_count": 40,
      "outputs": [
        {
          "output_type": "execute_result",
          "data": {
            "text/plain": [
              "2017-09-30 23:00:00+02:00           0\n",
              "2017-09-30 23:00:00.062500+02:00    0\n",
              "2017-09-30 23:00:00.125000+02:00    0\n",
              "2017-09-30 23:00:00.187500+02:00    0\n",
              "2017-09-30 23:00:00.250000+02:00    0\n",
              "                                   ..\n",
              "2017-10-01 06:15:59.750000+02:00    0\n",
              "2017-10-01 06:15:59.812500+02:00    0\n",
              "2017-10-01 06:15:59.875000+02:00    0\n",
              "2017-10-01 06:15:59.937500+02:00    0\n",
              "2017-10-01 06:16:00+02:00           0\n",
              "Freq: 62500U, Name: hypno, Length: 418561, dtype: int64"
            ]
          },
          "metadata": {
            "tags": []
          },
          "execution_count": 40
        }
      ]
    },
    {
      "cell_type": "markdown",
      "metadata": {
        "id": "HsZhWsz4TEpG"
      },
      "source": [
        "Thời gian ước tính sau khi lấy mẫu lại"
      ]
    },
    {
      "cell_type": "code",
      "metadata": {
        "id": "76I_jqVRTKA0",
        "outputId": "88e519f9-b697-4e2b-f3c2-58df8c4d6122",
        "colab": {
          "base_uri": "https://localhost:8080/"
        }
      },
      "source": [
        "418561*(1/16)/60"
      ],
      "execution_count": 41,
      "outputs": [
        {
          "output_type": "execute_result",
          "data": {
            "text/plain": [
              "436.00104166666665"
            ]
          },
          "metadata": {
            "tags": []
          },
          "execution_count": 41
        }
      ]
    },
    {
      "cell_type": "markdown",
      "metadata": {
        "id": "lqiyk8v9X2MU"
      },
      "source": [
        "# Loại 2b: Danh sách biến cố"
      ]
    },
    {
      "cell_type": "code",
      "metadata": {
        "id": "UHlME27UUxsn",
        "outputId": "d8541b76-5687-443d-e186-bd02e232b309",
        "colab": {
          "base_uri": "https://localhost:8080/"
        }
      },
      "source": [
        "help(case.import_irregular_window_evt)"
      ],
      "execution_count": 42,
      "outputs": [
        {
          "output_type": "stream",
          "text": [
            "Help on method import_irregular_window_evt in module module1.raw_data_parser:\n",
            "\n",
            "import_irregular_window_evt(signal_type:str, samp_freq=None, get_true_stop_time=False) method of module1.raw_data_parser.DataImporter instance\n",
            "    Hàm cho phép tải dữ liệu chuỗi biến cố thuộc loại 2B : không liên tục;\n",
            "    hỗ trợ tái chọn mẫu với tần số tùy chọn\n",
            "    \n",
            "    :signal_type: tên viết tắt của loại dữ liệu, thí dụ 'respi_evt', 'ma' hoặc 'evt_spo2'\n",
            "    :samp_freq: tần số lấy mẫu hoặc datetime array dùng để tái chọn mẫu\n",
            "    :get_true_stop_time: Đồng bộ hóa với 1 raw data, \n",
            "    giá trị mặc định là False, khi đó chỉ sử dụng timestamps từ chuỗi biến cố,\n",
            "    nếu True, sẽ dùng timestamps của tín hiệu thô tương ứng, \n",
            "    thí dụ respi_evt sẽ dùng Nasal flow Thermistor, desaturation sẽ dùng SpO2, ...\n",
            "    Cách làm này cho phép tối ưu hóa về đồng bộ giữa chuỗi biến cố và tín hiệu thô.\n",
            "    \n",
            "    :return 1: 1 dataframe (chuỗi loại 2B) có cấu trúc mỗi hàng là 1 biến cố, \n",
            "    và 4 cột:'evt_start, 'evt_stop', 'evt_info'(thời gian mỗi biến cố) và 'evt_value' (nhãn kết quả)\n",
            "    :return: 1 dataframe (chuỗi loại 2A) có cấu trúc chuỗi liên tục, với datetime index, \n",
            "    đã được tái chọn mẫu theo tần số tùy chọn.\n",
            "    \n",
            "    :return 2: 1 dictionary cho biết ý nghĩa của các label,\n",
            "    :return 3: Thời điểm bắt đầu xét nghiệm;\n",
            "    :return 4: Thời điểm kết thúc xét nghiệm\n",
            "    \n",
            "    Ghi chú: Nếu không tìm thấy đường dẫn, sẽ xuất ra 3 object rỗng (None)\n",
            "\n"
          ],
          "name": "stdout"
        }
      ]
    },
    {
      "cell_type": "code",
      "metadata": {
        "id": "4KNCMdMHYClB"
      },
      "source": [
        "resp_data, resp_resampled, resp_map, \\\r\n",
        "start_datetime, stop_datetime = \\\r\n",
        "case.import_irregular_window_evt(signal_type = 'respi_evt',\r\n",
        "                                 samp_freq=16,\r\n",
        "                                 get_true_stop_time=True)"
      ],
      "execution_count": 43,
      "outputs": []
    },
    {
      "cell_type": "code",
      "metadata": {
        "id": "O6mBVdgZYGix",
        "outputId": "881adf83-1417-453d-9586-d9f8ab5b6b30",
        "colab": {
          "base_uri": "https://localhost:8080/",
          "height": 419
        }
      },
      "source": [
        "resp_data"
      ],
      "execution_count": 44,
      "outputs": [
        {
          "output_type": "execute_result",
          "data": {
            "text/html": [
              "<div>\n",
              "<style scoped>\n",
              "    .dataframe tbody tr th:only-of-type {\n",
              "        vertical-align: middle;\n",
              "    }\n",
              "\n",
              "    .dataframe tbody tr th {\n",
              "        vertical-align: top;\n",
              "    }\n",
              "\n",
              "    .dataframe thead th {\n",
              "        text-align: right;\n",
              "    }\n",
              "</style>\n",
              "<table border=\"1\" class=\"dataframe\">\n",
              "  <thead>\n",
              "    <tr style=\"text-align: right;\">\n",
              "      <th></th>\n",
              "      <th>evt_start</th>\n",
              "      <th>evt_stop</th>\n",
              "      <th>evt_info</th>\n",
              "      <th>evt_value</th>\n",
              "    </tr>\n",
              "  </thead>\n",
              "  <tbody>\n",
              "    <tr>\n",
              "      <th>0</th>\n",
              "      <td>2017-09-30 23:20:53.919000+02:00</td>\n",
              "      <td>2017-09-30 23:21:04.718000+02:00</td>\n",
              "      <td>11</td>\n",
              "      <td>4</td>\n",
              "    </tr>\n",
              "    <tr>\n",
              "      <th>1</th>\n",
              "      <td>2017-09-30 23:22:36.417000+02:00</td>\n",
              "      <td>2017-09-30 23:23:03.798000+02:00</td>\n",
              "      <td>27</td>\n",
              "      <td>3</td>\n",
              "    </tr>\n",
              "    <tr>\n",
              "      <th>2</th>\n",
              "      <td>2017-09-30 23:23:20.564000+02:00</td>\n",
              "      <td>2017-09-30 23:23:30.088000+02:00</td>\n",
              "      <td>10</td>\n",
              "      <td>4</td>\n",
              "    </tr>\n",
              "    <tr>\n",
              "      <th>3</th>\n",
              "      <td>2017-09-30 23:25:38.441000+02:00</td>\n",
              "      <td>2017-09-30 23:26:07.409000+02:00</td>\n",
              "      <td>29</td>\n",
              "      <td>2</td>\n",
              "    </tr>\n",
              "    <tr>\n",
              "      <th>4</th>\n",
              "      <td>2017-09-30 23:26:12.072000+02:00</td>\n",
              "      <td>2017-09-30 23:26:56.715000+02:00</td>\n",
              "      <td>45</td>\n",
              "      <td>2</td>\n",
              "    </tr>\n",
              "    <tr>\n",
              "      <th>...</th>\n",
              "      <td>...</td>\n",
              "      <td>...</td>\n",
              "      <td>...</td>\n",
              "      <td>...</td>\n",
              "    </tr>\n",
              "    <tr>\n",
              "      <th>81</th>\n",
              "      <td>2017-10-01 05:43:48.937000+02:00</td>\n",
              "      <td>2017-10-01 05:46:37.985000+02:00</td>\n",
              "      <td>169</td>\n",
              "      <td>1</td>\n",
              "    </tr>\n",
              "    <tr>\n",
              "      <th>82</th>\n",
              "      <td>2017-10-01 05:46:38.381000+02:00</td>\n",
              "      <td>2017-10-01 05:46:55.048000+02:00</td>\n",
              "      <td>17</td>\n",
              "      <td>3</td>\n",
              "    </tr>\n",
              "    <tr>\n",
              "      <th>83</th>\n",
              "      <td>2017-10-01 05:47:17.270000+02:00</td>\n",
              "      <td>2017-10-01 06:06:20.921000+02:00</td>\n",
              "      <td>1144</td>\n",
              "      <td>2</td>\n",
              "    </tr>\n",
              "    <tr>\n",
              "      <th>84</th>\n",
              "      <td>2017-10-01 06:06:28.362000+02:00</td>\n",
              "      <td>2017-10-01 06:06:40.266000+02:00</td>\n",
              "      <td>12</td>\n",
              "      <td>4</td>\n",
              "    </tr>\n",
              "    <tr>\n",
              "      <th>85</th>\n",
              "      <td>2017-10-01 06:08:02.489000+02:00</td>\n",
              "      <td>2017-10-01 06:15:30.901000+02:00</td>\n",
              "      <td>448</td>\n",
              "      <td>2</td>\n",
              "    </tr>\n",
              "  </tbody>\n",
              "</table>\n",
              "<p>86 rows × 4 columns</p>\n",
              "</div>"
            ],
            "text/plain": [
              "                          evt_start  ... evt_value\n",
              "0  2017-09-30 23:20:53.919000+02:00  ...         4\n",
              "1  2017-09-30 23:22:36.417000+02:00  ...         3\n",
              "2  2017-09-30 23:23:20.564000+02:00  ...         4\n",
              "3  2017-09-30 23:25:38.441000+02:00  ...         2\n",
              "4  2017-09-30 23:26:12.072000+02:00  ...         2\n",
              "..                              ...  ...       ...\n",
              "81 2017-10-01 05:43:48.937000+02:00  ...         1\n",
              "82 2017-10-01 05:46:38.381000+02:00  ...         3\n",
              "83 2017-10-01 05:47:17.270000+02:00  ...         2\n",
              "84 2017-10-01 06:06:28.362000+02:00  ...         4\n",
              "85 2017-10-01 06:08:02.489000+02:00  ...         2\n",
              "\n",
              "[86 rows x 4 columns]"
            ]
          },
          "metadata": {
            "tags": []
          },
          "execution_count": 44
        }
      ]
    },
    {
      "cell_type": "code",
      "metadata": {
        "id": "VfqWxQAwYkM7",
        "outputId": "27ad8ba4-4fcf-4bca-ed54-33b124d1c877",
        "colab": {
          "base_uri": "https://localhost:8080/"
        }
      },
      "source": [
        "from collections import Counter\r\n",
        "\r\n",
        "Counter(resp_data.evt_value)\r\n"
      ],
      "execution_count": 45,
      "outputs": [
        {
          "output_type": "execute_result",
          "data": {
            "text/plain": [
              "Counter({1: 6, 2: 21, 3: 10, 4: 42, 5: 2, 6: 5})"
            ]
          },
          "metadata": {
            "tags": []
          },
          "execution_count": 45
        }
      ]
    },
    {
      "cell_type": "code",
      "metadata": {
        "id": "cK94Irk_Y3EY",
        "outputId": "325b144d-22ae-4d0b-b367-4cafd42be294",
        "colab": {
          "base_uri": "https://localhost:8080/",
          "height": 266
        }
      },
      "source": [
        "resp_data.groupby('evt_value').describe()['evt_info']"
      ],
      "execution_count": 46,
      "outputs": [
        {
          "output_type": "execute_result",
          "data": {
            "text/html": [
              "<div>\n",
              "<style scoped>\n",
              "    .dataframe tbody tr th:only-of-type {\n",
              "        vertical-align: middle;\n",
              "    }\n",
              "\n",
              "    .dataframe tbody tr th {\n",
              "        vertical-align: top;\n",
              "    }\n",
              "\n",
              "    .dataframe thead th {\n",
              "        text-align: right;\n",
              "    }\n",
              "</style>\n",
              "<table border=\"1\" class=\"dataframe\">\n",
              "  <thead>\n",
              "    <tr style=\"text-align: right;\">\n",
              "      <th></th>\n",
              "      <th>count</th>\n",
              "      <th>mean</th>\n",
              "      <th>std</th>\n",
              "      <th>min</th>\n",
              "      <th>25%</th>\n",
              "      <th>50%</th>\n",
              "      <th>75%</th>\n",
              "      <th>max</th>\n",
              "    </tr>\n",
              "    <tr>\n",
              "      <th>evt_value</th>\n",
              "      <th></th>\n",
              "      <th></th>\n",
              "      <th></th>\n",
              "      <th></th>\n",
              "      <th></th>\n",
              "      <th></th>\n",
              "      <th></th>\n",
              "      <th></th>\n",
              "    </tr>\n",
              "  </thead>\n",
              "  <tbody>\n",
              "    <tr>\n",
              "      <th>1</th>\n",
              "      <td>6.0</td>\n",
              "      <td>102.166667</td>\n",
              "      <td>68.476030</td>\n",
              "      <td>36.0</td>\n",
              "      <td>54.0</td>\n",
              "      <td>77.0</td>\n",
              "      <td>148.75</td>\n",
              "      <td>204.0</td>\n",
              "    </tr>\n",
              "    <tr>\n",
              "      <th>2</th>\n",
              "      <td>21.0</td>\n",
              "      <td>412.142857</td>\n",
              "      <td>340.997403</td>\n",
              "      <td>29.0</td>\n",
              "      <td>145.0</td>\n",
              "      <td>342.0</td>\n",
              "      <td>514.00</td>\n",
              "      <td>1144.0</td>\n",
              "    </tr>\n",
              "    <tr>\n",
              "      <th>3</th>\n",
              "      <td>10.0</td>\n",
              "      <td>24.300000</td>\n",
              "      <td>11.804425</td>\n",
              "      <td>15.0</td>\n",
              "      <td>17.5</td>\n",
              "      <td>21.5</td>\n",
              "      <td>24.75</td>\n",
              "      <td>56.0</td>\n",
              "    </tr>\n",
              "    <tr>\n",
              "      <th>4</th>\n",
              "      <td>42.0</td>\n",
              "      <td>13.642857</td>\n",
              "      <td>2.911888</td>\n",
              "      <td>10.0</td>\n",
              "      <td>11.0</td>\n",
              "      <td>13.0</td>\n",
              "      <td>16.00</td>\n",
              "      <td>22.0</td>\n",
              "    </tr>\n",
              "    <tr>\n",
              "      <th>5</th>\n",
              "      <td>2.0</td>\n",
              "      <td>15.000000</td>\n",
              "      <td>7.071068</td>\n",
              "      <td>10.0</td>\n",
              "      <td>12.5</td>\n",
              "      <td>15.0</td>\n",
              "      <td>17.50</td>\n",
              "      <td>20.0</td>\n",
              "    </tr>\n",
              "    <tr>\n",
              "      <th>6</th>\n",
              "      <td>5.0</td>\n",
              "      <td>11.200000</td>\n",
              "      <td>2.167948</td>\n",
              "      <td>10.0</td>\n",
              "      <td>10.0</td>\n",
              "      <td>10.0</td>\n",
              "      <td>11.00</td>\n",
              "      <td>15.0</td>\n",
              "    </tr>\n",
              "  </tbody>\n",
              "</table>\n",
              "</div>"
            ],
            "text/plain": [
              "           count        mean         std   min    25%    50%     75%     max\n",
              "evt_value                                                                   \n",
              "1            6.0  102.166667   68.476030  36.0   54.0   77.0  148.75   204.0\n",
              "2           21.0  412.142857  340.997403  29.0  145.0  342.0  514.00  1144.0\n",
              "3           10.0   24.300000   11.804425  15.0   17.5   21.5   24.75    56.0\n",
              "4           42.0   13.642857    2.911888  10.0   11.0   13.0   16.00    22.0\n",
              "5            2.0   15.000000    7.071068  10.0   12.5   15.0   17.50    20.0\n",
              "6            5.0   11.200000    2.167948  10.0   10.0   10.0   11.00    15.0"
            ]
          },
          "metadata": {
            "tags": []
          },
          "execution_count": 46
        }
      ]
    },
    {
      "cell_type": "code",
      "metadata": {
        "id": "79cpnMm8Y85b",
        "outputId": "085bbf58-ba62-4ffe-ff43-5fbde042bc16",
        "colab": {
          "base_uri": "https://localhost:8080/"
        }
      },
      "source": [
        "resp_map"
      ],
      "execution_count": 47,
      "outputs": [
        {
          "output_type": "execute_result",
          "data": {
            "text/plain": [
              "{'CA': 6, 'CH': 4, 'FL': 1, 'OA': 5, 'OH': 3, 'RERA': 2}"
            ]
          },
          "metadata": {
            "tags": []
          },
          "execution_count": 47
        }
      ]
    },
    {
      "cell_type": "code",
      "metadata": {
        "id": "kFB2mBw7ZFpR",
        "outputId": "b4ff7167-4e9d-4464-f229-3ac27d5202d0",
        "colab": {
          "base_uri": "https://localhost:8080/"
        }
      },
      "source": [
        "print(start_datetime)\r\n",
        "print(stop_datetime)"
      ],
      "execution_count": 48,
      "outputs": [
        {
          "output_type": "stream",
          "text": [
            "2017-09-30 23:00:00+02:00\n",
            "2017-10-01 06:19:24+02:00\n"
          ],
          "name": "stdout"
        }
      ]
    },
    {
      "cell_type": "code",
      "metadata": {
        "id": "_tixaKEYZRbX",
        "outputId": "eadeb486-f79a-496f-f4f5-501795354db1",
        "colab": {
          "base_uri": "https://localhost:8080/",
          "height": 419
        }
      },
      "source": [
        "resp_resampled"
      ],
      "execution_count": 49,
      "outputs": [
        {
          "output_type": "execute_result",
          "data": {
            "text/html": [
              "<div>\n",
              "<style scoped>\n",
              "    .dataframe tbody tr th:only-of-type {\n",
              "        vertical-align: middle;\n",
              "    }\n",
              "\n",
              "    .dataframe tbody tr th {\n",
              "        vertical-align: top;\n",
              "    }\n",
              "\n",
              "    .dataframe thead th {\n",
              "        text-align: right;\n",
              "    }\n",
              "</style>\n",
              "<table border=\"1\" class=\"dataframe\">\n",
              "  <thead>\n",
              "    <tr style=\"text-align: right;\">\n",
              "      <th></th>\n",
              "      <th>value</th>\n",
              "    </tr>\n",
              "  </thead>\n",
              "  <tbody>\n",
              "    <tr>\n",
              "      <th>2017-09-30 23:00:00+02:00</th>\n",
              "      <td>0</td>\n",
              "    </tr>\n",
              "    <tr>\n",
              "      <th>2017-09-30 23:00:00.062500+02:00</th>\n",
              "      <td>0</td>\n",
              "    </tr>\n",
              "    <tr>\n",
              "      <th>2017-09-30 23:00:00.125000+02:00</th>\n",
              "      <td>0</td>\n",
              "    </tr>\n",
              "    <tr>\n",
              "      <th>2017-09-30 23:00:00.187500+02:00</th>\n",
              "      <td>0</td>\n",
              "    </tr>\n",
              "    <tr>\n",
              "      <th>2017-09-30 23:00:00.250000+02:00</th>\n",
              "      <td>0</td>\n",
              "    </tr>\n",
              "    <tr>\n",
              "      <th>...</th>\n",
              "      <td>...</td>\n",
              "    </tr>\n",
              "    <tr>\n",
              "      <th>2017-10-01 06:15:30.562500+02:00</th>\n",
              "      <td>2</td>\n",
              "    </tr>\n",
              "    <tr>\n",
              "      <th>2017-10-01 06:15:30.625000+02:00</th>\n",
              "      <td>2</td>\n",
              "    </tr>\n",
              "    <tr>\n",
              "      <th>2017-10-01 06:15:30.687500+02:00</th>\n",
              "      <td>2</td>\n",
              "    </tr>\n",
              "    <tr>\n",
              "      <th>2017-10-01 06:15:30.750000+02:00</th>\n",
              "      <td>2</td>\n",
              "    </tr>\n",
              "    <tr>\n",
              "      <th>2017-10-01 06:15:30.812500+02:00</th>\n",
              "      <td>2</td>\n",
              "    </tr>\n",
              "  </tbody>\n",
              "</table>\n",
              "<p>418094 rows × 1 columns</p>\n",
              "</div>"
            ],
            "text/plain": [
              "                                  value\n",
              "2017-09-30 23:00:00+02:00             0\n",
              "2017-09-30 23:00:00.062500+02:00      0\n",
              "2017-09-30 23:00:00.125000+02:00      0\n",
              "2017-09-30 23:00:00.187500+02:00      0\n",
              "2017-09-30 23:00:00.250000+02:00      0\n",
              "...                                 ...\n",
              "2017-10-01 06:15:30.562500+02:00      2\n",
              "2017-10-01 06:15:30.625000+02:00      2\n",
              "2017-10-01 06:15:30.687500+02:00      2\n",
              "2017-10-01 06:15:30.750000+02:00      2\n",
              "2017-10-01 06:15:30.812500+02:00      2\n",
              "\n",
              "[418094 rows x 1 columns]"
            ]
          },
          "metadata": {
            "tags": []
          },
          "execution_count": 49
        }
      ]
    },
    {
      "cell_type": "markdown",
      "metadata": {
        "id": "huVy9VY0ZXnr"
      },
      "source": [
        "Độ dài chuỗi (phút)"
      ]
    },
    {
      "cell_type": "code",
      "metadata": {
        "id": "LWUbfEl6ZWiF",
        "outputId": "394a6cb8-c2e1-4b5f-e731-32350b89d7d9",
        "colab": {
          "base_uri": "https://localhost:8080/"
        }
      },
      "source": [
        "resp_resampled.shape[0]*(1/16)/60"
      ],
      "execution_count": 50,
      "outputs": [
        {
          "output_type": "execute_result",
          "data": {
            "text/plain": [
              "435.51458333333335"
            ]
          },
          "metadata": {
            "tags": []
          },
          "execution_count": 50
        }
      ]
    },
    {
      "cell_type": "markdown",
      "metadata": {
        "id": "FyFD3FIhZibq"
      },
      "source": [
        "## Hoán chuyển chuỗi định tính thành danh sách biến cố"
      ]
    },
    {
      "cell_type": "code",
      "metadata": {
        "id": "OQZ5yXXlZcBq",
        "outputId": "3345bd70-2d06-443d-bf24-8f9e28f0e84c",
        "colab": {
          "base_uri": "https://localhost:8080/"
        }
      },
      "source": [
        "help(case.adjacent_to_irregular)"
      ],
      "execution_count": 51,
      "outputs": [
        {
          "output_type": "stream",
          "text": [
            "Help on function adjacent_to_irregular in module module1.raw_data_parser:\n",
            "\n",
            "adjacent_to_irregular(df_resampled:pandas.core.series.Series, samp_freq:int)\n",
            "    Hàm chuyển đổi từ loại dữ liệu chuỗi 2A (sau tái chọn mẫu), sang loại dữ liệu chuỗi 2B\n",
            "    Chỉ áp dụng cho chuỗi kết quả Hypnogram\n",
            "    : df_resample: pandas Series, có nội dung là 1 chuỗi liên tục các label, có datetime index,\n",
            "    : samp_freq: tần số lấy mẫu, 1 số nguyên, thí dụ 10, 30\n",
            "    : return: 1 dataframe có cấu trúc: mỗi hàng là 1 biến cố,\n",
            "    4 cột: evt_start/stop = thời điểm bắt đầu, thời điểm kết thúc;\n",
            "    evt_info: độ dài của biến cố, tính bằng giây,\n",
            "    evt_value: Nhãn của biến cố, quy định trong dictionary\n",
            "\n"
          ],
          "name": "stdout"
        }
      ]
    },
    {
      "cell_type": "code",
      "metadata": {
        "id": "arwkEcpgZhXP",
        "outputId": "ec1316a9-75cb-4420-9b7e-c4a8f55185b8",
        "colab": {
          "base_uri": "https://localhost:8080/",
          "height": 419
        }
      },
      "source": [
        "sleep_states = case.adjacent_to_irregular(df_resampled, samp_freq = 16)\r\n",
        "\r\n",
        "sleep_states"
      ],
      "execution_count": 52,
      "outputs": [
        {
          "output_type": "execute_result",
          "data": {
            "text/html": [
              "<div>\n",
              "<style scoped>\n",
              "    .dataframe tbody tr th:only-of-type {\n",
              "        vertical-align: middle;\n",
              "    }\n",
              "\n",
              "    .dataframe tbody tr th {\n",
              "        vertical-align: top;\n",
              "    }\n",
              "\n",
              "    .dataframe thead th {\n",
              "        text-align: right;\n",
              "    }\n",
              "</style>\n",
              "<table border=\"1\" class=\"dataframe\">\n",
              "  <thead>\n",
              "    <tr style=\"text-align: right;\">\n",
              "      <th></th>\n",
              "      <th>evt_start</th>\n",
              "      <th>evt_stop</th>\n",
              "      <th>evt_info</th>\n",
              "      <th>evt_value</th>\n",
              "    </tr>\n",
              "  </thead>\n",
              "  <tbody>\n",
              "    <tr>\n",
              "      <th>0</th>\n",
              "      <td>2017-09-30 23:00:00+02:00</td>\n",
              "      <td>2017-09-30 23:19:59.937500+02:00</td>\n",
              "      <td>1200.0000</td>\n",
              "      <td>0.0</td>\n",
              "    </tr>\n",
              "    <tr>\n",
              "      <th>1</th>\n",
              "      <td>2017-09-30 23:20:00+02:00</td>\n",
              "      <td>2017-09-30 23:20:29.937500+02:00</td>\n",
              "      <td>30.0000</td>\n",
              "      <td>1.0</td>\n",
              "    </tr>\n",
              "    <tr>\n",
              "      <th>2</th>\n",
              "      <td>2017-09-30 23:20:30+02:00</td>\n",
              "      <td>2017-09-30 23:23:29.937500+02:00</td>\n",
              "      <td>180.0000</td>\n",
              "      <td>2.0</td>\n",
              "    </tr>\n",
              "    <tr>\n",
              "      <th>3</th>\n",
              "      <td>2017-09-30 23:23:30+02:00</td>\n",
              "      <td>2017-09-30 23:23:59.937500+02:00</td>\n",
              "      <td>30.0000</td>\n",
              "      <td>0.0</td>\n",
              "    </tr>\n",
              "    <tr>\n",
              "      <th>4</th>\n",
              "      <td>2017-09-30 23:24:00+02:00</td>\n",
              "      <td>2017-09-30 23:25:29.937500+02:00</td>\n",
              "      <td>90.0000</td>\n",
              "      <td>1.0</td>\n",
              "    </tr>\n",
              "    <tr>\n",
              "      <th>...</th>\n",
              "      <td>...</td>\n",
              "      <td>...</td>\n",
              "      <td>...</td>\n",
              "      <td>...</td>\n",
              "    </tr>\n",
              "    <tr>\n",
              "      <th>79</th>\n",
              "      <td>2017-10-01 06:04:30+02:00</td>\n",
              "      <td>2017-10-01 06:06:59.937500+02:00</td>\n",
              "      <td>150.0000</td>\n",
              "      <td>2.0</td>\n",
              "    </tr>\n",
              "    <tr>\n",
              "      <th>80</th>\n",
              "      <td>2017-10-01 06:07:00+02:00</td>\n",
              "      <td>2017-10-01 06:07:59.937500+02:00</td>\n",
              "      <td>60.0000</td>\n",
              "      <td>0.0</td>\n",
              "    </tr>\n",
              "    <tr>\n",
              "      <th>81</th>\n",
              "      <td>2017-10-01 06:08:00+02:00</td>\n",
              "      <td>2017-10-01 06:08:59.937500+02:00</td>\n",
              "      <td>60.0000</td>\n",
              "      <td>1.0</td>\n",
              "    </tr>\n",
              "    <tr>\n",
              "      <th>82</th>\n",
              "      <td>2017-10-01 06:09:00+02:00</td>\n",
              "      <td>2017-10-01 06:15:29.937500+02:00</td>\n",
              "      <td>390.0000</td>\n",
              "      <td>2.0</td>\n",
              "    </tr>\n",
              "    <tr>\n",
              "      <th>83</th>\n",
              "      <td>2017-10-01 06:15:30+02:00</td>\n",
              "      <td>2017-10-01 06:16:00+02:00</td>\n",
              "      <td>30.0625</td>\n",
              "      <td>0.0</td>\n",
              "    </tr>\n",
              "  </tbody>\n",
              "</table>\n",
              "<p>84 rows × 4 columns</p>\n",
              "</div>"
            ],
            "text/plain": [
              "                   evt_start  ... evt_value\n",
              "0  2017-09-30 23:00:00+02:00  ...       0.0\n",
              "1  2017-09-30 23:20:00+02:00  ...       1.0\n",
              "2  2017-09-30 23:20:30+02:00  ...       2.0\n",
              "3  2017-09-30 23:23:30+02:00  ...       0.0\n",
              "4  2017-09-30 23:24:00+02:00  ...       1.0\n",
              "..                       ...  ...       ...\n",
              "79 2017-10-01 06:04:30+02:00  ...       2.0\n",
              "80 2017-10-01 06:07:00+02:00  ...       0.0\n",
              "81 2017-10-01 06:08:00+02:00  ...       1.0\n",
              "82 2017-10-01 06:09:00+02:00  ...       2.0\n",
              "83 2017-10-01 06:15:30+02:00  ...       0.0\n",
              "\n",
              "[84 rows x 4 columns]"
            ]
          },
          "metadata": {
            "tags": []
          },
          "execution_count": 52
        }
      ]
    },
    {
      "cell_type": "markdown",
      "metadata": {
        "id": "n0Dw6yYtdlWW"
      },
      "source": [
        "Đánh giá mức độ trạng thái ngủ"
      ]
    },
    {
      "cell_type": "code",
      "metadata": {
        "id": "2FZzBy7hdSma",
        "outputId": "e5804a5e-88e2-43fb-c386-8fb3b78831cc",
        "colab": {
          "base_uri": "https://localhost:8080/"
        }
      },
      "source": [
        "100*sleep_states.groupby('evt_value')['evt_info'].sum()/(sleep_states.evt_info.sum())"
      ],
      "execution_count": 53,
      "outputs": [
        {
          "output_type": "execute_result",
          "data": {
            "text/plain": [
              "evt_value\n",
              "0.0     7.339671\n",
              "1.0     7.110075\n",
              "2.0    44.036592\n",
              "3.0    16.169686\n",
              "4.0    25.343976\n",
              "Name: evt_info, dtype: float64"
            ]
          },
          "metadata": {
            "tags": []
          },
          "execution_count": 53
        }
      ]
    },
    {
      "cell_type": "code",
      "metadata": {
        "id": "3oMJyZQFdkb7",
        "outputId": "71e0223f-dbc5-4bf9-ce6c-5433d131896f",
        "colab": {
          "base_uri": "https://localhost:8080/",
          "height": 280
        }
      },
      "source": [
        "import seaborn as sns\r\n",
        "\r\n",
        "sns.boxplot(data = sleep_states, x = 'evt_value', y = 'evt_info')\r\n",
        "plt.show()"
      ],
      "execution_count": 54,
      "outputs": [
        {
          "output_type": "display_data",
          "data": {
            "image/png": "[encoded data removed]",
            "text/plain": [
              "<Figure size 432x288 with 1 Axes>"
            ]
          },
          "metadata": {
            "tags": [],
            "needs_background": "light"
          }
        }
      ]
    },
    {
      "cell_type": "markdown",
      "metadata": {
        "id": "Jf_ck6Kbdxf9"
      },
      "source": [
        "## Tải đồng thời nhiều tín hiệu"
      ]
    },
    {
      "cell_type": "code",
      "metadata": {
        "id": "K49gLJw_dw-I",
        "outputId": "bb0e9588-74e4-4214-d796-2117356705e0",
        "colab": {
          "base_uri": "https://localhost:8080/"
        }
      },
      "source": [
        "help(case.import_multiple_raw_data)"
      ],
      "execution_count": 55,
      "outputs": [
        {
          "output_type": "stream",
          "text": [
            "Help on method import_multiple_raw_data in module module1.raw_data_parser:\n",
            "\n",
            "import_multiple_raw_data(type_list:list, samp_freq:int, n_jobs:int) method of module1.raw_data_parser.DataImporter instance\n",
            "    Hàm cho phép tải đồng thời nhiều kênh tín hiệu thô từ 1 list, \n",
            "    và đồng bộ hóa tất cả theo cùng 1 tần số lấy mẫu\n",
            "    :type_list: 1 list nhiều tên viết tắt của loại tín hiệu;\n",
            "    \n",
            "    Ghi chú: Chỉ áp dụng cho raw data (Loại 1), không áp dụng được cho loại 2A và 2B\n",
            "    :samp_freq: 1 giá trị tần số lấy mẫu duy nhất, dùng để tái chọn mẫu\n",
            "    :n_jobs: Số tác vụ thi hành song song (threads)\n",
            "    \n",
            "    :return: 1 dictionary với keys là tên loại tín hiệu, \n",
            "    value là pd.Series chứa chuỗi tín hiệu tương ứng, đã được tái chọn mẫu,\n",
            "    có datetime index.\n",
            "\n"
          ],
          "name": "stdout"
        }
      ]
    },
    {
      "cell_type": "markdown",
      "metadata": {
        "id": "IRbJjtkYeTtF"
      },
      "source": [
        "Tải nhiều kênh và đồng bộ. \r\n",
        "Lưu ý: Quá trình này mất nhiều thời gian."
      ]
    },
    {
      "cell_type": "code",
      "metadata": {
        "id": "f9e1MeVJd66-",
        "outputId": "4e9b01b9-174a-4a90-a2a7-f32f50d587c5",
        "colab": {
          "base_uri": "https://localhost:8080/",
          "height": 219,
          "referenced_widgets": [
            "d3c27d55784d4e10aeba2623314ebedb",
            "03bc2119f08b48c8b4ca56dde9074d69",
            "c3e15031a4da44a8bafb11884b084d18",
            "ff3c0bc9199f4ebabb2aaf5e8dd00c7c",
            "43779280e80b4afc995795e6ed61fbff",
            "b7ce05b030c54514b7ec5f34456f13b9",
            "b3e4cf68e1dd49c39007dd958a9c3603",
            "acbe37525d78424f83ad064a2d04e423"
          ]
        }
      },
      "source": [
        "import time\r\n",
        "\r\n",
        "start = time.perf_counter()\r\n",
        "\r\n",
        "signal_pack = case.import_multiple_raw_data(['tx rip', 'flow th', 'abd rip', \r\n",
        "                                             'hmm', 'sys ap', 'oesp'], \r\n",
        "                                            10, \r\n",
        "                                            n_jobs = 6)\r\n",
        "\r\n",
        "end = time.perf_counter()\r\n",
        "\r\n",
        "print(f'Thi hành mất {round(end - start, 2)} giây')"
      ],
      "execution_count": 56,
      "outputs": [
        {
          "output_type": "stream",
          "text": [
            "Khởi động tác vụ song song, tải 6 kênh tín hiệu\n"
          ],
          "name": "stdout"
        },
        {
          "output_type": "display_data",
          "data": {
            "application/vnd.jupyter.widget-view+json": {
              "model_id": "d3c27d55784d4e10aeba2623314ebedb",
              "version_minor": 0,
              "version_major": 2
            },
            "text/plain": [
              "HBox(children=(FloatProgress(value=0.0, max=6.0), HTML(value='')))"
            ]
          },
          "metadata": {
            "tags": []
          }
        },
        {
          "output_type": "stream",
          "text": [
            "Tải và tái chọn mẫu thành công kênh tx rip\n",
            "Tải và tái chọn mẫu thành công kênh flow th\n",
            "Tải và tái chọn mẫu thành công kênh abd rip\n",
            "Tải và tái chọn mẫu thành công kênh hmm\n",
            "Tải và tái chọn mẫu thành công kênh sys ap\n",
            "Tải và tái chọn mẫu thành công kênh oesp\n",
            "\n",
            "Đã tải xong 6 kênh tín hiệu\n",
            "Thi hành mất 126.9 giây\n"
          ],
          "name": "stdout"
        }
      ]
    },
    {
      "cell_type": "code",
      "metadata": {
        "id": "zYKPTO0YegRS",
        "outputId": "50f5270b-c4cd-4713-d1dd-9cc173d82a62",
        "colab": {
          "base_uri": "https://localhost:8080/"
        }
      },
      "source": [
        "signal_pack"
      ],
      "execution_count": 57,
      "outputs": [
        {
          "output_type": "execute_result",
          "data": {
            "text/plain": [
              "{'abd rip': 2017-09-30 22:52:18+02:00           -22.0\n",
              " 2017-09-30 22:52:18.100000+02:00    -20.0\n",
              " 2017-09-30 22:52:18.200000+02:00    -16.0\n",
              " 2017-09-30 22:52:18.300000+02:00    -12.0\n",
              " 2017-09-30 22:52:18.400000+02:00     -8.0\n",
              "                                     ...  \n",
              " 2017-10-01 06:19:23.500000+02:00    260.0\n",
              " 2017-10-01 06:19:23.600000+02:00    148.0\n",
              " 2017-10-01 06:19:23.700000+02:00     64.0\n",
              " 2017-10-01 06:19:23.800000+02:00    -12.0\n",
              " 2017-10-01 06:19:23.900000+02:00    -88.0\n",
              " Freq: 100L, Name: abd rip, Length: 268260, dtype: float64,\n",
              " 'flow th': 2017-09-30 22:52:18+02:00           133.0\n",
              " 2017-09-30 22:52:18.100000+02:00     48.0\n",
              " 2017-09-30 22:52:18.200000+02:00    -22.0\n",
              " 2017-09-30 22:52:18.300000+02:00    -91.0\n",
              " 2017-09-30 22:52:18.400000+02:00   -160.0\n",
              "                                     ...  \n",
              " 2017-10-01 06:19:23.500000+02:00    135.0\n",
              " 2017-10-01 06:19:23.600000+02:00     55.0\n",
              " 2017-10-01 06:19:23.700000+02:00     -8.0\n",
              " 2017-10-01 06:19:23.800000+02:00    -65.0\n",
              " 2017-10-01 06:19:23.900000+02:00   -113.0\n",
              " Freq: 100L, Name: flow th, Length: 268260, dtype: float64,\n",
              " 'hmm': 2017-09-30 22:52:18+02:00          -154.8\n",
              " 2017-09-30 22:52:18.100000+02:00   -154.9\n",
              " 2017-09-30 22:52:18.200000+02:00   -154.8\n",
              " 2017-09-30 22:52:18.300000+02:00   -154.8\n",
              " 2017-09-30 22:52:18.400000+02:00   -154.9\n",
              "                                     ...  \n",
              " 2017-10-01 06:19:23.500000+02:00   -154.9\n",
              " 2017-10-01 06:19:23.600000+02:00   -154.8\n",
              " 2017-10-01 06:19:23.700000+02:00   -154.8\n",
              " 2017-10-01 06:19:23.800000+02:00   -154.8\n",
              " 2017-10-01 06:19:23.900000+02:00   -154.8\n",
              " Freq: 100L, Name: hmm, Length: 268260, dtype: float64,\n",
              " 'oesp': 2017-09-30 22:52:18+02:00           -99.3\n",
              " 2017-09-30 22:52:18.100000+02:00    -99.4\n",
              " 2017-09-30 22:52:18.200000+02:00    -99.4\n",
              " 2017-09-30 22:52:18.300000+02:00   -100.4\n",
              " 2017-09-30 22:52:18.400000+02:00    -99.8\n",
              "                                     ...  \n",
              " 2017-10-01 06:19:23.500000+02:00   -100.3\n",
              " 2017-10-01 06:19:23.600000+02:00    -99.6\n",
              " 2017-10-01 06:19:23.700000+02:00    -99.4\n",
              " 2017-10-01 06:19:23.800000+02:00    -99.8\n",
              " 2017-10-01 06:19:23.900000+02:00    -98.5\n",
              " Freq: 100L, Name: oesp, Length: 268260, dtype: float64,\n",
              " 'sys ap': 2017-09-30 22:52:18+02:00           0.2\n",
              " 2017-09-30 22:52:18.100000+02:00    0.5\n",
              " 2017-09-30 22:52:18.200000+02:00    0.2\n",
              " 2017-09-30 22:52:18.300000+02:00   -0.1\n",
              " 2017-09-30 22:52:18.400000+02:00    0.1\n",
              "                                    ... \n",
              " 2017-10-01 06:19:23.500000+02:00    0.2\n",
              " 2017-10-01 06:19:23.600000+02:00    0.2\n",
              " 2017-10-01 06:19:23.700000+02:00    0.0\n",
              " 2017-10-01 06:19:23.800000+02:00    0.2\n",
              " 2017-10-01 06:19:23.900000+02:00    0.7\n",
              " Freq: 100L, Name: sys ap, Length: 268260, dtype: float64,\n",
              " 'tx rip': 2017-09-30 22:52:18+02:00          -351.0\n",
              " 2017-09-30 22:52:18.100000+02:00   -670.0\n",
              " 2017-09-30 22:52:18.200000+02:00   -813.0\n",
              " 2017-09-30 22:52:18.300000+02:00   -908.0\n",
              " 2017-09-30 22:52:18.400000+02:00   -946.0\n",
              "                                     ...  \n",
              " 2017-10-01 06:19:23.500000+02:00   -111.0\n",
              " 2017-10-01 06:19:23.600000+02:00    -94.0\n",
              " 2017-10-01 06:19:23.700000+02:00    -74.0\n",
              " 2017-10-01 06:19:23.800000+02:00    -50.0\n",
              " 2017-10-01 06:19:23.900000+02:00    -24.0\n",
              " Freq: 100L, Name: tx rip, Length: 268260, dtype: float64}"
            ]
          },
          "metadata": {
            "tags": []
          },
          "execution_count": 57
        }
      ]
    },
    {
      "cell_type": "markdown",
      "metadata": {
        "id": "OJb3M7Eneong"
      },
      "source": [
        "##Biểu diễn 6 loại tín hiệu "
      ]
    },
    {
      "cell_type": "code",
      "metadata": {
        "id": "1HOpVFxUem3Z",
        "outputId": "0e1dc248-d60d-4b34-a825-b75d2e1094bb",
        "colab": {
          "base_uri": "https://localhost:8080/",
          "height": 328
        }
      },
      "source": [
        "import matplotlib.dates as md\r\n",
        "\r\n",
        "fig, axs = plt.subplots(nrows=3,ncols=2,\r\n",
        "                        sharex=True, \r\n",
        "                        sharey=False,\r\n",
        "                        figsize=(16,6))\r\n",
        "\r\n",
        "fig.subplots_adjust(hspace=0.2)\r\n",
        "colors = ['#a60202','#a60254','#910188','#3b0191','#0467d1','#038a9c']\r\n",
        "\r\n",
        "for i, (ax, color) in enumerate(zip(axs.flatten(), colors)):\r\n",
        "    k = list(signal_pack.keys())[i]\r\n",
        "    s = list(signal_pack.values())[i][16500:17000]\r\n",
        "\r\n",
        "    ax.plot(s,color = color,label =  f\"{k}-10Hz\")\r\n",
        "\r\n",
        "    ax.legend(loc = 'upper right')\r\n",
        "    xfmt = md.DateFormatter('%H:%M:%S')\r\n",
        "    ax.xaxis.set_major_formatter(xfmt)\r\n",
        "    ax.set_xlabel('Thời gian')\r\n",
        "plt.tight_layout()\r\n",
        "plt.show()"
      ],
      "execution_count": 58,
      "outputs": [
        {
          "output_type": "display_data",
          "data": {
            "image/png": "[encoded data removed]",
            "text/plain": [
              "<Figure size 1152x432 with 6 Axes>"
            ]
          },
          "metadata": {
            "tags": [],
            "needs_background": "light"
          }
        }
      ]
    }
  ]
}