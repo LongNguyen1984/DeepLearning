{
  "nbformat": 4,
  "nbformat_minor": 0,
  "metadata": {
    "colab": {
      "name": "ImportRawData.ipynb",
      "provenance": [],
      "mount_file_id": "1NqZJd4jsfNFQUZHQC4O6h2uqR53dcCpZ",
      "authorship_tag": "ABX9TyOWMoFYOZUkiIdh1QD1tqYz",
      "include_colab_link": true
    },
    "kernelspec": {
      "name": "python3",
      "display_name": "Python 3"
    }
  },
  "cells": [
    {
      "cell_type": "markdown",
      "metadata": {
        "id": "view-in-github",
        "colab_type": "text"
      },
      "source": [
        "<a href=\"https://colab.research.google.com/github/LongNguyen1984/DeepLearning/blob/master/ImportRawData.ipynb\" target=\"_parent\"><img src=\"https://colab.research.google.com/assets/colab-badge.svg\" alt=\"Open In Colab\"/></a>"
      ]
    },
    {
      "cell_type": "code",
      "metadata": {
        "colab": {
          "base_uri": "https://localhost:8080/"
        },
        "id": "2BBqHEdhPMXF",
        "outputId": "cbc82302-e037-4f99-d333-97695e58e4ec"
      },
      "source": [
        "!pip install sinfo"
      ],
      "execution_count": 2,
      "outputs": [
        {
          "output_type": "stream",
          "text": [
            "Collecting sinfo\n",
            "  Downloading https://files.pythonhosted.org/packages/e1/4c/aef8456284f1a1c3645b938d9ca72388c9c4878e6e67b8a349c7d22fac78/sinfo-0.3.1.tar.gz\n",
            "Collecting stdlib_list\n",
            "\u001b[?25l  Downloading https://files.pythonhosted.org/packages/7a/b1/52f59dcf31ead2f0ceff8976288449608d912972b911f55dff712cef5719/stdlib_list-0.8.0-py3-none-any.whl (63kB)\n",
            "\u001b[K     |████████████████████████████████| 71kB 6.8MB/s \n",
            "\u001b[?25hBuilding wheels for collected packages: sinfo\n",
            "  Building wheel for sinfo (setup.py) ... \u001b[?25l\u001b[?25hdone\n",
            "  Created wheel for sinfo: filename=sinfo-0.3.1-cp36-none-any.whl size=7018 sha256=aabfb79e2b7e3047a0974c7a370ca0cdaa84835df9e1df3503caab89f970c8f5\n",
            "  Stored in directory: /root/.cache/pip/wheels/11/f0/23/347d6d8e59787c2bc272162d18223dc3b45bd6dc40aceee6af\n",
            "Successfully built sinfo\n",
            "Installing collected packages: stdlib-list, sinfo\n",
            "Successfully installed sinfo-0.3.1 stdlib-list-0.8.0\n"
          ],
          "name": "stdout"
        }
      ]
    },
    {
      "cell_type": "markdown",
      "metadata": {
        "id": "wDDPSTIpVznW"
      },
      "source": [
        "###Import git module"
      ]
    },
    {
      "cell_type": "code",
      "metadata": {
        "colab": {
          "base_uri": "https://localhost:8080/"
        },
        "id": "DjtTPjZ4P5TN",
        "outputId": "f9c122d2-4fb4-4c8c-8488-2fd54106b077"
      },
      "source": [
        "! git clone https://github.com/taile2007/Biosignal-analysis.git"
      ],
      "execution_count": 6,
      "outputs": [
        {
          "output_type": "stream",
          "text": [
            "Cloning into 'Biosignal-analysis'...\n",
            "remote: Enumerating objects: 145, done.\u001b[K\n",
            "remote: Counting objects: 100% (145/145), done.\u001b[K\n",
            "remote: Compressing objects: 100% (128/128), done.\u001b[K\n",
            "remote: Total 145 (delta 65), reused 17 (delta 5), pack-reused 0\u001b[K\n",
            "Receiving objects: 100% (145/145), 6.48 MiB | 3.66 MiB/s, done.\n",
            "Resolving deltas: 100% (65/65), done.\n"
          ],
          "name": "stdout"
        }
      ]
    },
    {
      "cell_type": "code",
      "metadata": {
        "colab": {
          "base_uri": "https://localhost:8080/",
          "height": 35
        },
        "id": "hutuXDLRVYkf",
        "outputId": "32956f26-a661-416f-c360-0f50c39d529b"
      },
      "source": [
        "pwd"
      ],
      "execution_count": 19,
      "outputs": [
        {
          "output_type": "execute_result",
          "data": {
            "application/vnd.google.colaboratory.intrinsic+json": {
              "type": "string"
            },
            "text/plain": [
              "'/content/Biosignal-analysis/Data wrangling-01-Importation'"
            ]
          },
          "metadata": {
            "tags": []
          },
          "execution_count": 19
        }
      ]
    },
    {
      "cell_type": "code",
      "metadata": {
        "colab": {
          "base_uri": "https://localhost:8080/"
        },
        "id": "DME0SBt1VLdR",
        "outputId": "57d0b364-85e7-40c7-883c-928bf2a4ffb2"
      },
      "source": [
        "%cd Biosignal-analysis/Data\\ wrangling-01-Importation"
      ],
      "execution_count": 14,
      "outputs": [
        {
          "output_type": "stream",
          "text": [
            "/content/Biosignal-analysis/Data wrangling-01-Importation\n"
          ],
          "name": "stdout"
        }
      ]
    },
    {
      "cell_type": "code",
      "metadata": {
        "id": "Rx3cHW7yOIj1"
      },
      "source": [
        "import os\r\n",
        "import sys\r\n",
        "import re\r\n",
        "import numpy as np\r\n",
        "import pandas as pd\r\n",
        "from module1.raw_data_parser import *"
      ],
      "execution_count": 75,
      "outputs": []
    },
    {
      "cell_type": "code",
      "metadata": {
        "colab": {
          "base_uri": "https://localhost:8080/",
          "height": 35
        },
        "id": "2fVynzPfP2zH",
        "outputId": "0d686afb-3a84-4b43-fa9e-d46bd0b48319"
      },
      "source": [
        "pwd"
      ],
      "execution_count": 77,
      "outputs": [
        {
          "output_type": "execute_result",
          "data": {
            "application/vnd.google.colaboratory.intrinsic+json": {
              "type": "string"
            },
            "text/plain": [
              "'/content/drive/My Drive/Dataset/Packs'"
            ]
          },
          "metadata": {
            "tags": []
          },
          "execution_count": 77
        }
      ]
    },
    {
      "cell_type": "code",
      "metadata": {
        "colab": {
          "base_uri": "https://localhost:8080/"
        },
        "id": "1Gq4knU4O4jO",
        "outputId": "81e022d0-67f0-41d7-d9b6-77f6f9036048"
      },
      "source": [
        "from sinfo import sinfo\r\n",
        "sinfo()"
      ],
      "execution_count": 76,
      "outputs": [
        {
          "output_type": "stream",
          "text": [
            "-----\n",
            "module1     0.1\n",
            "numpy       1.19.4\n",
            "pandas      1.1.5\n",
            "pytz        2018.9\n",
            "sinfo       0.3.1\n",
            "tqdm        4.41.1\n",
            "-----\n",
            "IPython             5.5.0\n",
            "jupyter_client      5.3.5\n",
            "jupyter_core        4.7.0\n",
            "notebook            5.3.1\n",
            "-----\n",
            "Python 3.6.9 (default, Oct  8 2020, 12:12:24) [GCC 8.4.0]\n",
            "Linux-4.19.112+-x86_64-with-Ubuntu-18.04-bionic\n",
            "2 logical CPU cores, x86_64\n",
            "-----\n",
            "Session information updated at 2021-01-10 09:13\n"
          ],
          "name": "stdout"
        }
      ]
    },
    {
      "cell_type": "code",
      "metadata": {
        "id": "olgz7nspZjcl"
      },
      "source": [
        "PACK_FOLDER = '/content/drive/MyDrive/Dataset/Packs'"
      ],
      "execution_count": 89,
      "outputs": []
    },
    {
      "cell_type": "code",
      "metadata": {
        "id": "693esZOdaNve"
      },
      "source": [
        "pack = Paths_Info_Summary(PACK_FOLDER)\r\n"
      ],
      "execution_count": 90,
      "outputs": []
    },
    {
      "cell_type": "code",
      "metadata": {
        "colab": {
          "base_uri": "https://localhost:8080/",
          "height": 35
        },
        "id": "SFn_KQW_aTD6",
        "outputId": "0e7c3d78-f607-4ff6-8eb0-ceb63b617529"
      },
      "source": [
        "pack.data_folder"
      ],
      "execution_count": 91,
      "outputs": [
        {
          "output_type": "execute_result",
          "data": {
            "application/vnd.google.colaboratory.intrinsic+json": {
              "type": "string"
            },
            "text/plain": [
              "'/content/drive/MyDrive/Dataset/Packs'"
            ]
          },
          "metadata": {
            "tags": []
          },
          "execution_count": 91
        }
      ]
    },
    {
      "cell_type": "markdown",
      "metadata": {
        "id": "yWuJ6BNyajMK"
      },
      "source": [
        "## Liệt kê cây thư mục của gói Packs"
      ]
    },
    {
      "cell_type": "code",
      "metadata": {
        "colab": {
          "base_uri": "https://localhost:8080/"
        },
        "id": "AXLxy8YRaVyj",
        "outputId": "c2b6e20c-a79b-47a5-a0eb-a2cd2271f63c"
      },
      "source": [
        "pack.print_directory_tree(pack.data_folder)"
      ],
      "execution_count": 123,
      "outputs": [
        {
          "output_type": "stream",
          "text": [
            "|__Packs/\n",
            "    |__fileId=1NqZJd4jsfNFQUZHQC4O6h2uqR53dcCpZ-requirements.txt\n",
            "   |__Res_signal_samp/\n",
            "        |__Profile.txt\n",
            "      |__Raw data/\n",
            "            |__Abd RIP.txt\n",
            "            |__Avg AP.txt\n",
            "            |__Dia AP.txt\n",
            "            |__ECG.txt\n",
            "            |__EMG1.txt\n",
            "            |__EMG2.txt\n",
            "            |__EMG3.txt\n",
            "            |__EMG4.txt\n",
            "            |__EMG5.txt\n",
            "            |__EMG6.txt\n",
            "            |__Flow Pressure.txt\n",
            "            |__Flow Th.txt\n",
            "            |__Microphone.txt\n",
            "            |__HMM.txt\n",
            "            |__VMM.txt\n",
            "            |__OESP.txt\n",
            "            |__Pleth Flowrate.txt\n",
            "            |__PLMl.txt\n",
            "            |__PLMr.txt\n",
            "            |__Pulse.txt\n",
            "            |__Snoring P.txt\n",
            "            |__SpO2.txt\n",
            "            |__Sys AP.txt\n",
            "            |__Tx RIP.txt\n",
            "      |__Scoring sequences/\n",
            "            |__Respiratory events.txt\n",
            "            |__SpO2.txt\n",
            "            |__Desaturations.txt\n",
            "            |__Micro Arousals.txt\n",
            "            |__Hypnogramme.txt\n"
          ],
          "name": "stdout"
        }
      ]
    },
    {
      "cell_type": "markdown",
      "metadata": {
        "id": "8js9V2uictKX"
      },
      "source": [
        "##Gán dataframe cho 1 object tên là pinfo"
      ]
    },
    {
      "cell_type": "code",
      "metadata": {
        "colab": {
          "base_uri": "https://localhost:8080/",
          "height": 275
        },
        "id": "lAtdLQTYbMpC",
        "outputId": "9181a69d-5afb-4abc-9b2c-39fefa31af11"
      },
      "source": [
        "pinfo = pack.create_signal_summary()\r\n",
        "\r\n",
        "pinfo.head()"
      ],
      "execution_count": 136,
      "outputs": [
        {
          "output_type": "execute_result",
          "data": {
            "text/html": [
              "<div>\n",
              "<style scoped>\n",
              "    .dataframe tbody tr th:only-of-type {\n",
              "        vertical-align: middle;\n",
              "    }\n",
              "\n",
              "    .dataframe tbody tr th {\n",
              "        vertical-align: top;\n",
              "    }\n",
              "\n",
              "    .dataframe thead th {\n",
              "        text-align: right;\n",
              "    }\n",
              "</style>\n",
              "<table border=\"1\" class=\"dataframe\">\n",
              "  <thead>\n",
              "    <tr style=\"text-align: right;\">\n",
              "      <th></th>\n",
              "      <th>full_paths</th>\n",
              "      <th>pack</th>\n",
              "      <th>filename</th>\n",
              "      <th>signal_type</th>\n",
              "      <th>Size (Mb)</th>\n",
              "    </tr>\n",
              "  </thead>\n",
              "  <tbody>\n",
              "    <tr>\n",
              "      <th>0</th>\n",
              "      <td>/content/drive/MyDrive/Dataset/Packs/Res_signa...</td>\n",
              "      <td>MyDrive</td>\n",
              "      <td>Abd RIP.txt</td>\n",
              "      <td>abd rip</td>\n",
              "      <td>3.304411</td>\n",
              "    </tr>\n",
              "    <tr>\n",
              "      <th>1</th>\n",
              "      <td>/content/drive/MyDrive/Dataset/Packs/Res_signa...</td>\n",
              "      <td>MyDrive</td>\n",
              "      <td>Avg AP.txt</td>\n",
              "      <td>avg ap</td>\n",
              "      <td>4.410931</td>\n",
              "    </tr>\n",
              "    <tr>\n",
              "      <th>2</th>\n",
              "      <td>/content/drive/MyDrive/Dataset/Packs/Res_signa...</td>\n",
              "      <td>MyDrive</td>\n",
              "      <td>Dia AP.txt</td>\n",
              "      <td>dia ap</td>\n",
              "      <td>4.401841</td>\n",
              "    </tr>\n",
              "    <tr>\n",
              "      <th>3</th>\n",
              "      <td>/content/drive/MyDrive/Dataset/Packs/Res_signa...</td>\n",
              "      <td>MyDrive</td>\n",
              "      <td>ECG.txt</td>\n",
              "      <td>ecg</td>\n",
              "      <td>67.016486</td>\n",
              "    </tr>\n",
              "    <tr>\n",
              "      <th>4</th>\n",
              "      <td>/content/drive/MyDrive/Dataset/Packs/Res_signa...</td>\n",
              "      <td>MyDrive</td>\n",
              "      <td>EMG1.txt</td>\n",
              "      <td>emg1</td>\n",
              "      <td>48.448591</td>\n",
              "    </tr>\n",
              "  </tbody>\n",
              "</table>\n",
              "</div>"
            ],
            "text/plain": [
              "                                          full_paths  ...  Size (Mb)\n",
              "0  /content/drive/MyDrive/Dataset/Packs/Res_signa...  ...   3.304411\n",
              "1  /content/drive/MyDrive/Dataset/Packs/Res_signa...  ...   4.410931\n",
              "2  /content/drive/MyDrive/Dataset/Packs/Res_signa...  ...   4.401841\n",
              "3  /content/drive/MyDrive/Dataset/Packs/Res_signa...  ...  67.016486\n",
              "4  /content/drive/MyDrive/Dataset/Packs/Res_signa...  ...  48.448591\n",
              "\n",
              "[5 rows x 5 columns]"
            ]
          },
          "metadata": {
            "tags": []
          },
          "execution_count": 136
        }
      ]
    },
    {
      "cell_type": "code",
      "metadata": {
        "colab": {
          "base_uri": "https://localhost:8080/"
        },
        "id": "gb9LEin7sjNK",
        "outputId": "e65e5010-6ed8-44b3-e07b-1ba25fd3d28a"
      },
      "source": [
        "len(pinfo.signal_type.unique())"
      ],
      "execution_count": 97,
      "outputs": [
        {
          "output_type": "execute_result",
          "data": {
            "text/plain": [
              "31"
            ]
          },
          "metadata": {
            "tags": []
          },
          "execution_count": 97
        }
      ]
    },
    {
      "cell_type": "markdown",
      "metadata": {
        "id": "7HPzEQ3EdihO"
      },
      "source": [
        "### Số lượng kiểu dữ liệu trong gói"
      ]
    },
    {
      "cell_type": "code",
      "metadata": {
        "colab": {
          "base_uri": "https://localhost:8080/"
        },
        "id": "omPDVSOPc2lc",
        "outputId": "f6b34ac0-2113-40c6-fd05-59c3dd7bc716"
      },
      "source": [
        "len(pinfo.signal_type.unique())"
      ],
      "execution_count": 134,
      "outputs": [
        {
          "output_type": "execute_result",
          "data": {
            "text/plain": [
              "31"
            ]
          },
          "metadata": {
            "tags": []
          },
          "execution_count": 134
        }
      ]
    },
    {
      "cell_type": "markdown",
      "metadata": {
        "id": "JkiN9Lovdv3Q"
      },
      "source": [
        "### Kiểu tín hiệu trong gói"
      ]
    },
    {
      "cell_type": "code",
      "metadata": {
        "colab": {
          "base_uri": "https://localhost:8080/"
        },
        "id": "Om6EJKY_dpDm",
        "outputId": "92ec71fc-9ff6-4f74-d6ce-baa68bf35932"
      },
      "source": [
        "print(pinfo.signal_type.values)"
      ],
      "execution_count": 135,
      "outputs": [
        {
          "output_type": "stream",
          "text": [
            "['abd rip' 'avg ap' 'dia ap' 'ecg' 'emg1' 'emg2' 'emg3' 'emg4' 'emg5'\n",
            " 'emg6' 'flow pressure' 'flow th' 'microphone' 'hmm' 'vmm' 'oesp'\n",
            " 'pleth flowrate' 'plml' 'plmr' 'pulse' 'snoring p' 'spo2' 'sys ap'\n",
            " 'tx rip' 'respi_evt' 'raw_spo2' 'evt_spo2' 'ma' 'hypno' 'profile'\n",
            " 'fileid=1nqzjd4jsfnfquzhqc4o6h2uqr53dccpz-requirements']\n"
          ],
          "name": "stdout"
        }
      ]
    },
    {
      "cell_type": "markdown",
      "metadata": {
        "id": "6UGLEJ6Xd5mO"
      },
      "source": [
        "### Mô tả thông tin dữ liệu"
      ]
    },
    {
      "cell_type": "code",
      "metadata": {
        "colab": {
          "base_uri": "https://localhost:8080/"
        },
        "id": "2tWTQh6Md08S",
        "outputId": "7198315a-85e3-4ca6-8a02-2d5a35fc68a3"
      },
      "source": [
        "pinfo[\"Size (Mb)\"].describe()"
      ],
      "execution_count": 100,
      "outputs": [
        {
          "output_type": "execute_result",
          "data": {
            "text/plain": [
              "count    31.000000\n",
              "mean     19.025112\n",
              "std      21.302178\n",
              "min       0.000046\n",
              "25%       3.368794\n",
              "50%       6.283715\n",
              "75%      46.365494\n",
              "max      67.016486\n",
              "Name: Size (Mb), dtype: float64"
            ]
          },
          "metadata": {
            "tags": []
          },
          "execution_count": 100
        }
      ]
    },
    {
      "cell_type": "markdown",
      "metadata": {
        "id": "hQtSAjKjeFVu"
      },
      "source": [
        "# DataImporter class"
      ]
    },
    {
      "cell_type": "markdown",
      "metadata": {
        "id": "ATujXTHNeRzd"
      },
      "source": [
        "* Sử dụng pandas thay vì numpy để xác định thời gian (thời điểm, thời lượng)\r\n",
        "* Dùng OOP (Class) dùng mỗi instance là một thực thể riêng"
      ]
    },
    {
      "cell_type": "code",
      "metadata": {
        "colab": {
          "base_uri": "https://localhost:8080/"
        },
        "id": "BtZR6wGpeD0f",
        "outputId": "3761172c-137b-4319-fab0-6d2ca7015631"
      },
      "source": [
        "case = DataImporter(signal_summary = pinfo, \r\n",
        "                    data_path = PACK_FOLDER,\r\n",
        "                    pack_folder= 'Res_signal_samp')\r\n",
        "\r\n",
        "case"
      ],
      "execution_count": 129,
      "outputs": [
        {
          "output_type": "execute_result",
          "data": {
            "text/plain": [
              "Đây là data paser cho pack dữ liệu Res_signal_samp"
            ]
          },
          "metadata": {
            "tags": []
          },
          "execution_count": 129
        }
      ]
    },
    {
      "cell_type": "markdown",
      "metadata": {
        "id": "F03_aPuKfBTU"
      },
      "source": [
        "Thông tin về Import_pack_profile"
      ]
    },
    {
      "cell_type": "code",
      "metadata": {
        "colab": {
          "base_uri": "https://localhost:8080/"
        },
        "id": "Mx1v2Oz1e-Xg",
        "outputId": "15ffd179-474d-4d6d-c9df-87e051fae6e0"
      },
      "source": [
        "help(case.Import_pack_profile)"
      ],
      "execution_count": 132,
      "outputs": [
        {
          "output_type": "stream",
          "text": [
            "Help on method Import_pack_profile in module module1.raw_data_parser:\n",
            "\n",
            "Import_pack_profile() method of module1.raw_data_parser.DataImporter instance\n",
            "    Hàm truy xuất thông tin bệnh nhân:\n",
            "    Đọc file Profile.txt và tạo ra 1 dict gồm Giới tính, chiều cao, \n",
            "    cân nặng, BMI cho bệnh nhân.\n",
            "\n"
          ],
          "name": "stdout"
        }
      ]
    },
    {
      "cell_type": "code",
      "metadata": {
        "colab": {
          "base_uri": "https://localhost:8080/"
        },
        "id": "xmT4tlsXfUbf",
        "outputId": "c7c1264d-ce06-4daa-85f6-745e29650b71"
      },
      "source": [
        "patient_info = case.Import_pack_profile()\r\n",
        "\r\n",
        "patient_info"
      ],
      "execution_count": 130,
      "outputs": [
        {
          "output_type": "execute_result",
          "data": {
            "text/plain": [
              "{'Chiều cao': 176.0, 'Cân nặng': 84.0, 'Giới tính': 'F', 'Tuổi': 36.32}"
            ]
          },
          "metadata": {
            "tags": []
          },
          "execution_count": 130
        }
      ]
    },
    {
      "cell_type": "code",
      "metadata": {
        "colab": {
          "base_uri": "https://localhost:8080/"
        },
        "id": "QmOBGGgQgQsn",
        "outputId": "c69d5805-e38f-4419-b86b-3b2d569b0bf3"
      },
      "source": [
        "%cd '/content/drive/MyDrive/Dataset/Packs/'"
      ],
      "execution_count": 131,
      "outputs": [
        {
          "output_type": "stream",
          "text": [
            "/content/drive/MyDrive/Dataset/Packs\n"
          ],
          "name": "stdout"
        }
      ]
    },
    {
      "cell_type": "code",
      "metadata": {
        "colab": {
          "base_uri": "https://localhost:8080/",
          "height": 35
        },
        "id": "R8RjmHELiCHc",
        "outputId": "ecd5106c-ddbe-4d0f-c781-980d604021e1"
      },
      "source": [
        "pwd"
      ],
      "execution_count": 109,
      "outputs": [
        {
          "output_type": "execute_result",
          "data": {
            "application/vnd.google.colaboratory.intrinsic+json": {
              "type": "string"
            },
            "text/plain": [
              "'/content/drive/My Drive/Dataset/Packs'"
            ]
          },
          "metadata": {
            "tags": []
          },
          "execution_count": 109
        }
      ]
    },
    {
      "cell_type": "markdown",
      "metadata": {
        "id": "2Q7bWFZxi82u"
      },
      "source": [
        "# Dữ liệu chuỗi"
      ]
    },
    {
      "cell_type": "code",
      "metadata": {
        "colab": {
          "base_uri": "https://localhost:8080/"
        },
        "id": "qVBOwgE4xc3j",
        "outputId": "79caeb58-79d4-4b1c-eeee-9941978a0a83"
      },
      "source": [
        "case = DataImporter(signal_summary = pinfo, \r\n",
        "                    data_path = PACK_FOLDER,\r\n",
        "                    pack_folder= 'Res_signal_samp')\r\n",
        "\r\n",
        "case"
      ],
      "execution_count": 160,
      "outputs": [
        {
          "output_type": "execute_result",
          "data": {
            "text/plain": [
              "Đây là data paser cho pack dữ liệu Res_signal_samp"
            ]
          },
          "metadata": {
            "tags": []
          },
          "execution_count": 160
        }
      ]
    },
    {
      "cell_type": "code",
      "metadata": {
        "colab": {
          "base_uri": "https://localhost:8080/"
        },
        "id": "1kKv-5qoi8e1",
        "outputId": "6db8c9b3-297a-4833-b901-89aa8d15c291"
      },
      "source": [
        "help(case.import_raw_data)"
      ],
      "execution_count": 125,
      "outputs": [
        {
          "output_type": "stream",
          "text": [
            "Help on method import_raw_data in module module1.raw_data_parser:\n",
            "\n",
            "import_raw_data(signal_type:str, n_lines=None, samp_freq=None) method of module1.raw_data_parser.DataImporter instance\n",
            "    Hàm cho phép tải bất kì dữ liệu nào thuộc loại 1 (raw data), \n",
            "    áp dụng tổng quát cho tất cả raw data\n",
            "    \n",
            "    :signal_type: tên viết tắt của loại dữ liệu, chú ý: luôn là chữ thường\n",
            "    :n_lines: số nguyên, giới hạn số hàng cần tải, thấp nhất là 5;\n",
            "    \n",
            "    Ghi chú: \n",
            "    1) Nếu n_lines = None, hàm sẽ xuất ra 3 kết quả:\n",
            "    :return 1: df_data, tín hiệu gốc, \n",
            "               pd.Series liên tục, có datetime index\n",
            "    :return 2: df_resampled, tín hiệu tái chọn mẫu; \n",
            "               pd.Series liên tục, có datetime index\n",
            "    :return 3: fs, giá trị tần số lấy mẫu gốc, int\n",
            "    \n",
            "    2) Nếu n_lines = 5, hàm chỉ xuất ra 2 kết quả:\n",
            "    :return 1: pd.Series gồm 2 hàng: thới điểm bắt đầu và kết thúc xét nghiệm\n",
            "    :return 2: fs: giá trị tần số lấy mẫu gốc, int\n",
            "    \n",
            "    3) Nếu không tìm thấy đường dẫn của loại tín hiệu:\n",
            "    Xuất ra 3 kết quả tương tự (1), nhưng tất cả đều rỗng (None)\n",
            "\n"
          ],
          "name": "stdout"
        }
      ]
    },
    {
      "cell_type": "markdown",
      "metadata": {
        "id": "IFMHJKrKjMco"
      },
      "source": [
        "Tra bảng kiểu tín hiệu có thể lựa chọn"
      ]
    },
    {
      "cell_type": "markdown",
      "metadata": {
        "id": "-gnw0EwB6hMU"
      },
      "source": [
        ""
      ]
    },
    {
      "cell_type": "code",
      "metadata": {
        "colab": {
          "base_uri": "https://localhost:8080/"
        },
        "id": "UEMGRfLv6ie4",
        "outputId": "c54118c8-dc15-4b43-addf-fe531f411230"
      },
      "source": [
        "print(pinfo.signal_type.values)"
      ],
      "execution_count": 161,
      "outputs": [
        {
          "output_type": "stream",
          "text": [
            "['abd rip' 'avg ap' 'dia ap' 'ecg' 'emg1' 'emg2' 'emg3' 'emg4' 'emg5'\n",
            " 'emg6' 'flow pressure' 'flow th' 'microphone' 'hmm' 'vmm' 'oesp'\n",
            " 'pleth flowrate' 'plml' 'plmr' 'pulse' 'snoring p' 'spo2' 'sys ap'\n",
            " 'tx rip' 'respi_evt' 'raw_spo2' 'evt_spo2' 'ma' 'hypno' 'profile'\n",
            " 'fileid=1nqzjd4jsfnfquzhqc4o6h2uqr53dccpz-requirements']\n"
          ],
          "name": "stdout"
        }
      ]
    },
    {
      "cell_type": "code",
      "metadata": {
        "colab": {
          "base_uri": "https://localhost:8080/"
        },
        "id": "DoHmftKjjQrC",
        "outputId": "ed72e697-e133-44a7-a536-eac01bf0f010"
      },
      "source": [
        "sample_df, resampled_df, fs = case.import_raw_data(signal_type='some strange type', \r\n",
        "                                                   samp_freq=None)"
      ],
      "execution_count": 159,
      "outputs": [
        {
          "output_type": "stream",
          "text": [
            "Không tìm thấy data cho tín hiệu  some strange type ở bệnh nhân này !\n"
          ],
          "name": "stdout"
        }
      ]
    },
    {
      "cell_type": "code",
      "metadata": {
        "colab": {
          "base_uri": "https://localhost:8080/"
        },
        "id": "VwaFHGu2jYxL",
        "outputId": "9b7682d8-0835-4fac-ea06-f77e0ad2828e"
      },
      "source": [
        "sample_df, resampled_df, fs = case.import_raw_data(signal_type='ecg', \r\n",
        "                                                   samp_freq=None)"
      ],
      "execution_count": 162,
      "outputs": [
        {
          "output_type": "stream",
          "text": [
            "Không tìm thấy data cho tín hiệu  ecg ở bệnh nhân này !\n"
          ],
          "name": "stdout"
        }
      ]
    },
    {
      "cell_type": "code",
      "metadata": {
        "id": "N4voiOIWjsTC"
      },
      "source": [
        "pinfo.full_paths"
      ],
      "execution_count": null,
      "outputs": []
    },
    {
      "cell_type": "code",
      "metadata": {
        "colab": {
          "base_uri": "https://localhost:8080/"
        },
        "id": "PpUcjxA1vPk3",
        "outputId": "ceaff2da-92d3-4542-8d7c-eefd608a4a94"
      },
      "source": [
        "help(case.import_adjacent_window_evt)"
      ],
      "execution_count": 145,
      "outputs": [
        {
          "output_type": "stream",
          "text": [
            "Help on method import_adjacent_window_evt in module module1.raw_data_parser:\n",
            "\n",
            "import_adjacent_window_evt(signal_type='hypno', samp_freq=None, reshape=True) method of module1.raw_data_parser.DataImporter instance\n",
            "    Hàm tải dữ liệu chuỗi biến cố liên tục (loại 2A), thí dụ hypno; \n",
            "    hỗ trợ tái chọn mẫu và hoán chuyển ngược về loại 2B (danh sách biến cố không liên tục)\n",
            "    \n",
            "    :signal_type: tên viết tắt loại dữ liệu, Lưu ý: hàm này chỉ dùng cho 'hypno' hoặc 'spo2'\n",
            "    :reshape = True có nghĩa là sẽ hoán chuyển 2A thành 2B, và xuất ra cả 2; \n",
            "    : reshape = False có nghĩa là không cần hoán chuyển, chỉ xuất ra dữ liệu chuỗi liên tục 2A\n",
            "    :return 1: df_data: 1 pd.Series chứa dữ liệu chuỗi liên tục (gốc), có datetime index\n",
            "    :return 2: df_resampled: 1 pd.Series chứa dữ liệu chuỗi liên tục (đã được tái chọn mẫu), có datetime index\n",
            "    :return 3: dict_map: dictionary cho biết ý nghĩa các nhãn biến cố\n",
            "    :return 4: df_event: chỉ khi reshape = True, dataframe danh sách biến cố không liên tục (2B), \n",
            "    có cấu trúc mỗi hàng là 1 biến cố, và 4 cột:'evt_start, 'evt_stop', 'evt_info'(thời gian mỗi biến cố) \n",
            "    và 'evt_value' (nhãn kết quả).\n",
            "    :return 5: window_len: Độ dài của cửa sổ quan sát nếu cố định, = None nếu không cố định\n",
            "\n"
          ],
          "name": "stdout"
        }
      ]
    },
    {
      "cell_type": "code",
      "metadata": {
        "colab": {
          "base_uri": "https://localhost:8080/",
          "height": 35
        },
        "id": "hGvpV9ud1gnT",
        "outputId": "a93fb2f6-2433-4e21-f2b0-acf3c46e009c"
      },
      "source": [
        "file_summary = pinfo\r\n",
        "selected_paths = file_summary.loc[file_summary['signal_type']\r\n",
        "                                      == 'ecg', 'full_paths']\r\n",
        "selected_paths.values[0]                                     "
      ],
      "execution_count": 158,
      "outputs": [
        {
          "output_type": "execute_result",
          "data": {
            "application/vnd.google.colaboratory.intrinsic+json": {
              "type": "string"
            },
            "text/plain": [
              "'/content/drive/MyDrive/Dataset/Packs/Res_signal_samp/Raw data/ECG.txt'"
            ]
          },
          "metadata": {
            "tags": []
          },
          "execution_count": 158
        }
      ]
    }
  ]
}