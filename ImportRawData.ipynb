{
  "nbformat": 4,
  "nbformat_minor": 0,
  "metadata": {
    "colab": {
      "name": "ImportRawData.ipynb",
      "provenance": [],
      "mount_file_id": "https://github.com/LongNguyen1984/DeepLearning/blob/master/ImportRawData.ipynb",
      "authorship_tag": "ABX9TyPMUxx55oZqLUootoNV7FSU",
      "include_colab_link": true
    },
    "kernelspec": {
      "name": "python3",
      "display_name": "Python 3"
    }
  },
  "cells": [
    {
      "cell_type": "markdown",
      "metadata": {
        "id": "view-in-github",
        "colab_type": "text"
      },
      "source": [
        "<a href=\"https://colab.research.google.com/github/LongNguyen1984/DeepLearning/blob/master/ImportRawData.ipynb\" target=\"_parent\"><img src=\"https://colab.research.google.com/assets/colab-badge.svg\" alt=\"Open In Colab\"/></a>"
      ]
    },
    {
      "cell_type": "code",
      "metadata": {
        "colab": {
          "base_uri": "https://localhost:8080/"
        },
        "id": "2BBqHEdhPMXF",
        "outputId": "69a63869-e972-408e-f9ec-56377f365515"
      },
      "source": [
        "!pip install sinfo"
      ],
      "execution_count": 1,
      "outputs": [
        {
          "output_type": "stream",
          "text": [
            "Collecting sinfo\n",
            "  Downloading https://files.pythonhosted.org/packages/e1/4c/aef8456284f1a1c3645b938d9ca72388c9c4878e6e67b8a349c7d22fac78/sinfo-0.3.1.tar.gz\n",
            "Collecting stdlib_list\n",
            "\u001b[?25l  Downloading https://files.pythonhosted.org/packages/7a/b1/52f59dcf31ead2f0ceff8976288449608d912972b911f55dff712cef5719/stdlib_list-0.8.0-py3-none-any.whl (63kB)\n",
            "\u001b[K     |████████████████████████████████| 71kB 6.4MB/s \n",
            "\u001b[?25hBuilding wheels for collected packages: sinfo\n",
            "  Building wheel for sinfo (setup.py) ... \u001b[?25l\u001b[?25hdone\n",
            "  Created wheel for sinfo: filename=sinfo-0.3.1-cp36-none-any.whl size=7018 sha256=3aa283a177622d71bec620660808862a790f7c6133e5286dedeabedf49d3d0bd\n",
            "  Stored in directory: /root/.cache/pip/wheels/11/f0/23/347d6d8e59787c2bc272162d18223dc3b45bd6dc40aceee6af\n",
            "Successfully built sinfo\n",
            "Installing collected packages: stdlib-list, sinfo\n",
            "Successfully installed sinfo-0.3.1 stdlib-list-0.8.0\n"
          ],
          "name": "stdout"
        }
      ]
    },
    {
      "cell_type": "markdown",
      "metadata": {
        "id": "wDDPSTIpVznW"
      },
      "source": [
        "###Import git module"
      ]
    },
    {
      "cell_type": "code",
      "metadata": {
        "colab": {
          "base_uri": "https://localhost:8080/"
        },
        "id": "DjtTPjZ4P5TN",
        "outputId": "698a2cd0-92b1-4ae3-b89e-ae5bbafc1378"
      },
      "source": [
        "! git clone https://github.com/taile2007/Biosignal-analysis.git"
      ],
      "execution_count": 2,
      "outputs": [
        {
          "output_type": "stream",
          "text": [
            "Cloning into 'Biosignal-analysis'...\n",
            "remote: Enumerating objects: 150, done.\u001b[K\n",
            "remote: Counting objects: 100% (150/150), done.\u001b[K\n",
            "remote: Compressing objects: 100% (133/133), done.\u001b[K\n",
            "remote: Total 150 (delta 69), reused 17 (delta 5), pack-reused 0\u001b[K\n",
            "Receiving objects: 100% (150/150), 6.48 MiB | 9.82 MiB/s, done.\n",
            "Resolving deltas: 100% (69/69), done.\n"
          ],
          "name": "stdout"
        }
      ]
    },
    {
      "cell_type": "code",
      "metadata": {
        "colab": {
          "base_uri": "https://localhost:8080/",
          "height": 35
        },
        "id": "hutuXDLRVYkf",
        "outputId": "a801f4a6-fd9d-4599-c707-2c1df1c5bf23"
      },
      "source": [
        "pwd"
      ],
      "execution_count": 3,
      "outputs": [
        {
          "output_type": "execute_result",
          "data": {
            "application/vnd.google.colaboratory.intrinsic+json": {
              "type": "string"
            },
            "text/plain": [
              "'/content'"
            ]
          },
          "metadata": {
            "tags": []
          },
          "execution_count": 3
        }
      ]
    },
    {
      "cell_type": "code",
      "metadata": {
        "colab": {
          "base_uri": "https://localhost:8080/"
        },
        "id": "DME0SBt1VLdR",
        "outputId": "da6ecdc7-4be5-4ab9-a911-df30c4b63625"
      },
      "source": [
        "%cd Biosignal-analysis/Data\\ wrangling-01-Importation"
      ],
      "execution_count": 4,
      "outputs": [
        {
          "output_type": "stream",
          "text": [
            "/content/Biosignal-analysis/Data wrangling-01-Importation\n"
          ],
          "name": "stdout"
        }
      ]
    },
    {
      "cell_type": "code",
      "metadata": {
        "id": "Rx3cHW7yOIj1"
      },
      "source": [
        "import os\r\n",
        "import sys\r\n",
        "import re\r\n",
        "import numpy as np\r\n",
        "import pandas as pd\r\n",
        "from module1.raw_data_parser import *"
      ],
      "execution_count": 8,
      "outputs": []
    },
    {
      "cell_type": "code",
      "metadata": {
        "colab": {
          "base_uri": "https://localhost:8080/",
          "height": 35
        },
        "id": "2fVynzPfP2zH",
        "outputId": "bd7ffda9-dd23-4146-aa32-f1c5a6445c07"
      },
      "source": [
        "pwd"
      ],
      "execution_count": 81,
      "outputs": [
        {
          "output_type": "execute_result",
          "data": {
            "application/vnd.google.colaboratory.intrinsic+json": {
              "type": "string"
            },
            "text/plain": [
              "'/content/Biosignal-analysis/Data wrangling-01-Importation'"
            ]
          },
          "metadata": {
            "tags": []
          },
          "execution_count": 81
        }
      ]
    },
    {
      "cell_type": "code",
      "metadata": {
        "colab": {
          "base_uri": "https://localhost:8080/"
        },
        "id": "1Gq4knU4O4jO",
        "outputId": "0c47ea78-65ec-4d5e-aca8-99adf62fd0ef"
      },
      "source": [
        "from sinfo import sinfo\r\n",
        "sinfo()"
      ],
      "execution_count": 9,
      "outputs": [
        {
          "output_type": "stream",
          "text": [
            "-----\n",
            "module1     0.1\n",
            "numpy       1.19.4\n",
            "pandas      1.1.5\n",
            "pytz        2018.9\n",
            "sinfo       0.3.1\n",
            "tqdm        4.41.1\n",
            "-----\n",
            "IPython             5.5.0\n",
            "jupyter_client      5.3.5\n",
            "jupyter_core        4.7.0\n",
            "notebook            5.3.1\n",
            "-----\n",
            "Python 3.6.9 (default, Oct  8 2020, 12:12:24) [GCC 8.4.0]\n",
            "Linux-4.19.112+-x86_64-with-Ubuntu-18.04-bionic\n",
            "2 logical CPU cores, x86_64\n",
            "-----\n",
            "Session information updated at 2021-01-11 15:55\n"
          ],
          "name": "stdout"
        }
      ]
    },
    {
      "cell_type": "code",
      "metadata": {
        "id": "olgz7nspZjcl"
      },
      "source": [
        "PACK_FOLDER = '/content/drive/MyDrive/Dataset/Packs'"
      ],
      "execution_count": 10,
      "outputs": []
    },
    {
      "cell_type": "code",
      "metadata": {
        "id": "693esZOdaNve"
      },
      "source": [
        "pack = Paths_Info_Summary(PACK_FOLDER)\r\n"
      ],
      "execution_count": 11,
      "outputs": []
    },
    {
      "cell_type": "code",
      "metadata": {
        "colab": {
          "base_uri": "https://localhost:8080/",
          "height": 35
        },
        "id": "SFn_KQW_aTD6",
        "outputId": "a9895707-2257-486a-80f0-0dca9df09fbb"
      },
      "source": [
        "pack.data_folder"
      ],
      "execution_count": 12,
      "outputs": [
        {
          "output_type": "execute_result",
          "data": {
            "application/vnd.google.colaboratory.intrinsic+json": {
              "type": "string"
            },
            "text/plain": [
              "'/content/drive/MyDrive/Dataset/Packs'"
            ]
          },
          "metadata": {
            "tags": []
          },
          "execution_count": 12
        }
      ]
    },
    {
      "cell_type": "markdown",
      "metadata": {
        "id": "yWuJ6BNyajMK"
      },
      "source": [
        "## Liệt kê cây thư mục của gói Packs"
      ]
    },
    {
      "cell_type": "code",
      "metadata": {
        "colab": {
          "base_uri": "https://localhost:8080/"
        },
        "id": "AXLxy8YRaVyj",
        "outputId": "6d58e63b-9e7b-4037-a5e6-d136a8d49679"
      },
      "source": [
        "pack.print_directory_tree(pack.data_folder)"
      ],
      "execution_count": 13,
      "outputs": [
        {
          "output_type": "stream",
          "text": [
            "|__Packs/\n",
            "    |__fileId=1NqZJd4jsfNFQUZHQC4O6h2uqR53dcCpZ-requirements.txt\n",
            "   |__Res_signal_samp/\n",
            "        |__Profile.txt\n",
            "      |__Raw data/\n",
            "            |__Abd RIP.txt\n",
            "            |__Avg AP.txt\n",
            "            |__Dia AP.txt\n",
            "            |__ECG.txt\n",
            "            |__EMG1.txt\n",
            "            |__EMG2.txt\n",
            "            |__EMG3.txt\n",
            "            |__EMG4.txt\n",
            "            |__EMG5.txt\n",
            "            |__EMG6.txt\n",
            "            |__Flow Pressure.txt\n",
            "            |__Flow Th.txt\n",
            "            |__Microphone.txt\n",
            "            |__HMM.txt\n",
            "            |__VMM.txt\n",
            "            |__OESP.txt\n",
            "            |__Pleth Flowrate.txt\n",
            "            |__PLMl.txt\n",
            "            |__PLMr.txt\n",
            "            |__Pulse.txt\n",
            "            |__Snoring P.txt\n",
            "            |__SpO2.txt\n",
            "            |__Sys AP.txt\n",
            "            |__Tx RIP.txt\n",
            "      |__Scoring sequences/\n",
            "            |__Respiratory events.txt\n",
            "            |__SpO2.txt\n",
            "            |__Desaturations.txt\n",
            "            |__Micro Arousals.txt\n",
            "            |__Hypnogramme.txt\n"
          ],
          "name": "stdout"
        }
      ]
    },
    {
      "cell_type": "markdown",
      "metadata": {
        "id": "8js9V2uictKX"
      },
      "source": [
        "##Gán dataframe cho 1 object tên là pinfo"
      ]
    },
    {
      "cell_type": "code",
      "metadata": {
        "colab": {
          "base_uri": "https://localhost:8080/",
          "height": 204
        },
        "id": "lAtdLQTYbMpC",
        "outputId": "18ad7e6e-6305-4cad-aebb-d0783c8dcc2b"
      },
      "source": [
        "pinfo = pack.create_signal_summary()\r\n",
        "\r\n",
        "pinfo.head()"
      ],
      "execution_count": 14,
      "outputs": [
        {
          "output_type": "execute_result",
          "data": {
            "text/html": [
              "<div>\n",
              "<style scoped>\n",
              "    .dataframe tbody tr th:only-of-type {\n",
              "        vertical-align: middle;\n",
              "    }\n",
              "\n",
              "    .dataframe tbody tr th {\n",
              "        vertical-align: top;\n",
              "    }\n",
              "\n",
              "    .dataframe thead th {\n",
              "        text-align: right;\n",
              "    }\n",
              "</style>\n",
              "<table border=\"1\" class=\"dataframe\">\n",
              "  <thead>\n",
              "    <tr style=\"text-align: right;\">\n",
              "      <th></th>\n",
              "      <th>full_paths</th>\n",
              "      <th>pack</th>\n",
              "      <th>filename</th>\n",
              "      <th>signal_type</th>\n",
              "      <th>Size (Mb)</th>\n",
              "    </tr>\n",
              "  </thead>\n",
              "  <tbody>\n",
              "    <tr>\n",
              "      <th>0</th>\n",
              "      <td>/content/drive/MyDrive/Dataset/Packs/Res_signa...</td>\n",
              "      <td>Res_signal_samp</td>\n",
              "      <td>Abd RIP.txt</td>\n",
              "      <td>abd rip</td>\n",
              "      <td>3.304411</td>\n",
              "    </tr>\n",
              "    <tr>\n",
              "      <th>1</th>\n",
              "      <td>/content/drive/MyDrive/Dataset/Packs/Res_signa...</td>\n",
              "      <td>Res_signal_samp</td>\n",
              "      <td>Avg AP.txt</td>\n",
              "      <td>avg ap</td>\n",
              "      <td>4.410931</td>\n",
              "    </tr>\n",
              "    <tr>\n",
              "      <th>2</th>\n",
              "      <td>/content/drive/MyDrive/Dataset/Packs/Res_signa...</td>\n",
              "      <td>Res_signal_samp</td>\n",
              "      <td>Dia AP.txt</td>\n",
              "      <td>dia ap</td>\n",
              "      <td>4.401841</td>\n",
              "    </tr>\n",
              "    <tr>\n",
              "      <th>3</th>\n",
              "      <td>/content/drive/MyDrive/Dataset/Packs/Res_signa...</td>\n",
              "      <td>Res_signal_samp</td>\n",
              "      <td>ECG.txt</td>\n",
              "      <td>ecg</td>\n",
              "      <td>67.016486</td>\n",
              "    </tr>\n",
              "    <tr>\n",
              "      <th>4</th>\n",
              "      <td>/content/drive/MyDrive/Dataset/Packs/Res_signa...</td>\n",
              "      <td>Res_signal_samp</td>\n",
              "      <td>EMG1.txt</td>\n",
              "      <td>emg1</td>\n",
              "      <td>48.448591</td>\n",
              "    </tr>\n",
              "  </tbody>\n",
              "</table>\n",
              "</div>"
            ],
            "text/plain": [
              "                                          full_paths  ...  Size (Mb)\n",
              "0  /content/drive/MyDrive/Dataset/Packs/Res_signa...  ...   3.304411\n",
              "1  /content/drive/MyDrive/Dataset/Packs/Res_signa...  ...   4.410931\n",
              "2  /content/drive/MyDrive/Dataset/Packs/Res_signa...  ...   4.401841\n",
              "3  /content/drive/MyDrive/Dataset/Packs/Res_signa...  ...  67.016486\n",
              "4  /content/drive/MyDrive/Dataset/Packs/Res_signa...  ...  48.448591\n",
              "\n",
              "[5 rows x 5 columns]"
            ]
          },
          "metadata": {
            "tags": []
          },
          "execution_count": 14
        }
      ]
    },
    {
      "cell_type": "code",
      "metadata": {
        "colab": {
          "base_uri": "https://localhost:8080/"
        },
        "id": "gb9LEin7sjNK",
        "outputId": "ae0da7f8-823e-4ece-b426-3f0958623f1c"
      },
      "source": [
        "len(pinfo.signal_type.unique())"
      ],
      "execution_count": 13,
      "outputs": [
        {
          "output_type": "execute_result",
          "data": {
            "text/plain": [
              "31"
            ]
          },
          "metadata": {
            "tags": []
          },
          "execution_count": 13
        }
      ]
    },
    {
      "cell_type": "markdown",
      "metadata": {
        "id": "7HPzEQ3EdihO"
      },
      "source": [
        "### Số lượng kiểu dữ liệu trong gói"
      ]
    },
    {
      "cell_type": "code",
      "metadata": {
        "colab": {
          "base_uri": "https://localhost:8080/"
        },
        "id": "omPDVSOPc2lc",
        "outputId": "c50ce777-50fc-4916-cef2-719df996ec66"
      },
      "source": [
        "len(pinfo.signal_type.unique())"
      ],
      "execution_count": 49,
      "outputs": [
        {
          "output_type": "execute_result",
          "data": {
            "text/plain": [
              "31"
            ]
          },
          "metadata": {
            "tags": []
          },
          "execution_count": 49
        }
      ]
    },
    {
      "cell_type": "markdown",
      "metadata": {
        "id": "JkiN9Lovdv3Q"
      },
      "source": [
        "### Kiểu tín hiệu trong gói"
      ]
    },
    {
      "cell_type": "code",
      "metadata": {
        "colab": {
          "base_uri": "https://localhost:8080/"
        },
        "id": "Om6EJKY_dpDm",
        "outputId": "c23a70d3-046a-4120-aba9-28a52567eb22"
      },
      "source": [
        "print(pinfo.signal_type.values)"
      ],
      "execution_count": 15,
      "outputs": [
        {
          "output_type": "stream",
          "text": [
            "['abd rip' 'avg ap' 'dia ap' 'ecg' 'emg1' 'emg2' 'emg3' 'emg4' 'emg5'\n",
            " 'emg6' 'flow pressure' 'flow th' 'microphone' 'hmm' 'vmm' 'oesp'\n",
            " 'pleth flowrate' 'plml' 'plmr' 'pulse' 'snoring p' 'spo2' 'sys ap'\n",
            " 'tx rip' 'respi_evt' 'raw_spo2' 'evt_spo2' 'ma' 'hypno' 'profile'\n",
            " 'fileid=1nqzjd4jsfnfquzhqc4o6h2uqr53dccpz-requirements']\n"
          ],
          "name": "stdout"
        }
      ]
    },
    {
      "cell_type": "markdown",
      "metadata": {
        "id": "6UGLEJ6Xd5mO"
      },
      "source": [
        "### Mô tả thông tin dữ liệu"
      ]
    },
    {
      "cell_type": "code",
      "metadata": {
        "colab": {
          "base_uri": "https://localhost:8080/"
        },
        "id": "2tWTQh6Md08S",
        "outputId": "e5b492f8-c479-413b-a29d-e88cde364655"
      },
      "source": [
        "pinfo[\"Size (Mb)\"].describe()"
      ],
      "execution_count": 16,
      "outputs": [
        {
          "output_type": "execute_result",
          "data": {
            "text/plain": [
              "count    31.000000\n",
              "mean     19.025112\n",
              "std      21.302178\n",
              "min       0.000046\n",
              "25%       3.368794\n",
              "50%       6.283715\n",
              "75%      46.365494\n",
              "max      67.016486\n",
              "Name: Size (Mb), dtype: float64"
            ]
          },
          "metadata": {
            "tags": []
          },
          "execution_count": 16
        }
      ]
    },
    {
      "cell_type": "markdown",
      "metadata": {
        "id": "hQtSAjKjeFVu"
      },
      "source": [
        "# DataImporter class"
      ]
    },
    {
      "cell_type": "markdown",
      "metadata": {
        "id": "ATujXTHNeRzd"
      },
      "source": [
        "* Sử dụng pandas thay vì numpy để xác định thời gian (thời điểm, thời lượng)\r\n",
        "* Dùng OOP (Class) dùng mỗi instance là một thực thể riêng"
      ]
    },
    {
      "cell_type": "code",
      "metadata": {
        "colab": {
          "base_uri": "https://localhost:8080/"
        },
        "id": "BtZR6wGpeD0f",
        "outputId": "93cf6011-d44c-4607-c82a-eb9104e9a4c9"
      },
      "source": [
        "case = DataImporter(signal_summary = pinfo, \r\n",
        "                    data_path = PACK_FOLDER,\r\n",
        "                    pack_folder= 'Res_signal_samp')\r\n",
        "\r\n",
        "case"
      ],
      "execution_count": 17,
      "outputs": [
        {
          "output_type": "execute_result",
          "data": {
            "text/plain": [
              "Đây là data paser cho pack dữ liệu Res_signal_samp"
            ]
          },
          "metadata": {
            "tags": []
          },
          "execution_count": 17
        }
      ]
    },
    {
      "cell_type": "markdown",
      "metadata": {
        "id": "F03_aPuKfBTU"
      },
      "source": [
        "Thông tin về Import_pack_profile"
      ]
    },
    {
      "cell_type": "code",
      "metadata": {
        "colab": {
          "base_uri": "https://localhost:8080/"
        },
        "id": "Mx1v2Oz1e-Xg",
        "outputId": "4303409a-2004-4c48-f974-3fafef7e4eb1"
      },
      "source": [
        "help(case.Import_pack_profile)"
      ],
      "execution_count": 18,
      "outputs": [
        {
          "output_type": "stream",
          "text": [
            "Help on method Import_pack_profile in module module1.raw_data_parser:\n",
            "\n",
            "Import_pack_profile() method of module1.raw_data_parser.DataImporter instance\n",
            "    Hàm truy xuất thông tin bệnh nhân:\n",
            "    Đọc file Profile.txt và tạo ra 1 dict gồm Giới tính, chiều cao, \n",
            "    cân nặng, BMI cho bệnh nhân.\n",
            "\n"
          ],
          "name": "stdout"
        }
      ]
    },
    {
      "cell_type": "code",
      "metadata": {
        "colab": {
          "base_uri": "https://localhost:8080/"
        },
        "id": "xmT4tlsXfUbf",
        "outputId": "6a9a8e84-b2b8-4d9a-e663-e97ac8015781"
      },
      "source": [
        "patient_info = case.Import_pack_profile()\r\n",
        "\r\n",
        "patient_info"
      ],
      "execution_count": 19,
      "outputs": [
        {
          "output_type": "execute_result",
          "data": {
            "text/plain": [
              "{'Chiều cao': 176.0, 'Cân nặng': 84.0, 'Giới tính': 'F', 'Tuổi': 36.32}"
            ]
          },
          "metadata": {
            "tags": []
          },
          "execution_count": 19
        }
      ]
    },
    {
      "cell_type": "code",
      "metadata": {
        "colab": {
          "base_uri": "https://localhost:8080/"
        },
        "id": "QmOBGGgQgQsn",
        "outputId": "8769a2e8-31f5-49e0-dd9a-68120b115cf0"
      },
      "source": [
        "%cd '/content/drive/MyDrive/Dataset/Packs/'"
      ],
      "execution_count": 20,
      "outputs": [
        {
          "output_type": "stream",
          "text": [
            "/content/drive/MyDrive/Dataset/Packs\n"
          ],
          "name": "stdout"
        }
      ]
    },
    {
      "cell_type": "code",
      "metadata": {
        "colab": {
          "base_uri": "https://localhost:8080/",
          "height": 35
        },
        "id": "R8RjmHELiCHc",
        "outputId": "ecd5106c-ddbe-4d0f-c781-980d604021e1"
      },
      "source": [
        "pwd"
      ],
      "execution_count": null,
      "outputs": [
        {
          "output_type": "execute_result",
          "data": {
            "application/vnd.google.colaboratory.intrinsic+json": {
              "type": "string"
            },
            "text/plain": [
              "'/content/drive/My Drive/Dataset/Packs'"
            ]
          },
          "metadata": {
            "tags": []
          },
          "execution_count": 109
        }
      ]
    },
    {
      "cell_type": "markdown",
      "metadata": {
        "id": "2Q7bWFZxi82u"
      },
      "source": [
        "# Dữ liệu chuỗi"
      ]
    },
    {
      "cell_type": "code",
      "metadata": {
        "colab": {
          "base_uri": "https://localhost:8080/"
        },
        "id": "qVBOwgE4xc3j",
        "outputId": "1d233013-82d2-4e2e-a692-69b447cc7178"
      },
      "source": [
        "case = DataImporter(signal_summary = pinfo, \r\n",
        "                    data_path = PACK_FOLDER,\r\n",
        "                    pack_folder= 'Res_signal_samp')\r\n",
        "\r\n",
        "case"
      ],
      "execution_count": 21,
      "outputs": [
        {
          "output_type": "execute_result",
          "data": {
            "text/plain": [
              "Đây là data paser cho pack dữ liệu Res_signal_samp"
            ]
          },
          "metadata": {
            "tags": []
          },
          "execution_count": 21
        }
      ]
    },
    {
      "cell_type": "code",
      "metadata": {
        "colab": {
          "base_uri": "https://localhost:8080/"
        },
        "id": "1kKv-5qoi8e1",
        "outputId": "1a0b4dab-9032-4775-d1f4-5ba28b96c8fa"
      },
      "source": [
        "help(case.import_raw_data)"
      ],
      "execution_count": 22,
      "outputs": [
        {
          "output_type": "stream",
          "text": [
            "Help on method import_raw_data in module module1.raw_data_parser:\n",
            "\n",
            "import_raw_data(signal_type:str, n_lines=None, samp_freq=None) method of module1.raw_data_parser.DataImporter instance\n",
            "    Hàm cho phép tải bất kì dữ liệu nào thuộc loại 1 (raw data), \n",
            "    áp dụng tổng quát cho tất cả raw data\n",
            "    \n",
            "    :signal_type: tên viết tắt của loại dữ liệu, chú ý: luôn là chữ thường\n",
            "    :n_lines: số nguyên, giới hạn số hàng cần tải, thấp nhất là 5;\n",
            "    \n",
            "    Ghi chú: \n",
            "    1) Nếu n_lines = None, hàm sẽ xuất ra 3 kết quả:\n",
            "    :return 1: df_data, tín hiệu gốc, \n",
            "               pd.Series liên tục, có datetime index\n",
            "    :return 2: df_resampled, tín hiệu tái chọn mẫu; \n",
            "               pd.Series liên tục, có datetime index\n",
            "    :return 3: fs, giá trị tần số lấy mẫu gốc, int\n",
            "    \n",
            "    2) Nếu n_lines = 5, hàm chỉ xuất ra 2 kết quả:\n",
            "    :return 1: pd.Series gồm 2 hàng: thới điểm bắt đầu và kết thúc xét nghiệm\n",
            "    :return 2: fs: giá trị tần số lấy mẫu gốc, int\n",
            "    \n",
            "    3) Nếu không tìm thấy đường dẫn của loại tín hiệu:\n",
            "    Xuất ra 3 kết quả tương tự (1), nhưng tất cả đều rỗng (None)\n",
            "\n"
          ],
          "name": "stdout"
        }
      ]
    },
    {
      "cell_type": "markdown",
      "metadata": {
        "id": "IFMHJKrKjMco"
      },
      "source": [
        "Tra bảng kiểu tín hiệu có thể lựa chọn"
      ]
    },
    {
      "cell_type": "code",
      "metadata": {
        "colab": {
          "base_uri": "https://localhost:8080/"
        },
        "id": "UEMGRfLv6ie4",
        "outputId": "034551e1-9c77-462b-eee4-5fe37727456b"
      },
      "source": [
        "print(pinfo.signal_type.values)"
      ],
      "execution_count": 23,
      "outputs": [
        {
          "output_type": "stream",
          "text": [
            "['abd rip' 'avg ap' 'dia ap' 'ecg' 'emg1' 'emg2' 'emg3' 'emg4' 'emg5'\n",
            " 'emg6' 'flow pressure' 'flow th' 'microphone' 'hmm' 'vmm' 'oesp'\n",
            " 'pleth flowrate' 'plml' 'plmr' 'pulse' 'snoring p' 'spo2' 'sys ap'\n",
            " 'tx rip' 'respi_evt' 'raw_spo2' 'evt_spo2' 'ma' 'hypno' 'profile'\n",
            " 'fileid=1nqzjd4jsfnfquzhqc4o6h2uqr53dccpz-requirements']\n"
          ],
          "name": "stdout"
        }
      ]
    },
    {
      "cell_type": "code",
      "metadata": {
        "colab": {
          "base_uri": "https://localhost:8080/"
        },
        "id": "DoHmftKjjQrC",
        "outputId": "40a8bc2c-8208-4eb6-dc7c-7bda940e3c6f"
      },
      "source": [
        "sample_df, resampled_df, fs = case.import_raw_data(signal_type='some strange type', \r\n",
        "                                                   samp_freq=None)"
      ],
      "execution_count": 24,
      "outputs": [
        {
          "output_type": "stream",
          "text": [
            "Không tìm thấy data cho tín hiệu  some strange type ở bệnh nhân này !\n"
          ],
          "name": "stdout"
        }
      ]
    },
    {
      "cell_type": "code",
      "metadata": {
        "colab": {
          "base_uri": "https://localhost:8080/",
          "height": 442
        },
        "id": "VwaFHGu2jYxL",
        "outputId": "99d2f1ac-37d1-4848-d33d-c5aec0c01ba4"
      },
      "source": [
        "sample_df, resampled_df, fs = case.import_raw_data(signal_type='ecg', \r\n",
        "                                                   samp_freq=None)"
      ],
      "execution_count": 45,
      "outputs": [
        {
          "output_type": "error",
          "ename": "UnicodeDecodeError",
          "evalue": "ignored",
          "traceback": [
            "\u001b[0;31m---------------------------------------------------------------------------\u001b[0m",
            "\u001b[0;31mUnicodeDecodeError\u001b[0m                        Traceback (most recent call last)",
            "\u001b[0;32m<ipython-input-45-93adbcb08d66>\u001b[0m in \u001b[0;36m<module>\u001b[0;34m()\u001b[0m\n\u001b[1;32m      1\u001b[0m sample_df, resampled_df, fs = case.import_raw_data(signal_type='ecg', \n\u001b[0;32m----> 2\u001b[0;31m                                                    samp_freq=16)\n\u001b[0m",
            "\u001b[0;32m/content/Biosignal-analysis/Data wrangling-01-Importation/module1/raw_data_parser.py\u001b[0m in \u001b[0;36mimport_raw_data\u001b[0;34m(self, signal_type, n_lines, samp_freq)\u001b[0m\n\u001b[1;32m    255\u001b[0m                 \u001b[0mlines\u001b[0m \u001b[0;34m=\u001b[0m \u001b[0mlist\u001b[0m\u001b[0;34m(\u001b[0m\u001b[0mislice\u001b[0m\u001b[0;34m(\u001b[0m\u001b[0mfile\u001b[0m\u001b[0;34m,\u001b[0m \u001b[0mn_lines\u001b[0m\u001b[0;34m)\u001b[0m\u001b[0;34m)\u001b[0m\u001b[0;34m\u001b[0m\u001b[0;34m\u001b[0m\u001b[0m\n\u001b[1;32m    256\u001b[0m             \u001b[0;32melse\u001b[0m\u001b[0;34m:\u001b[0m\u001b[0;34m\u001b[0m\u001b[0;34m\u001b[0m\u001b[0m\n\u001b[0;32m--> 257\u001b[0;31m                 \u001b[0mlines\u001b[0m \u001b[0;34m=\u001b[0m \u001b[0mfile\u001b[0m\u001b[0;34m.\u001b[0m\u001b[0mreadlines\u001b[0m\u001b[0;34m(\u001b[0m\u001b[0;34m)\u001b[0m\u001b[0;34m\u001b[0m\u001b[0;34m\u001b[0m\u001b[0m\n\u001b[0m\u001b[1;32m    258\u001b[0m \u001b[0;34m\u001b[0m\u001b[0m\n\u001b[1;32m    259\u001b[0m         \u001b[0;31m# Xác định thời điểm bắt đầu ghi tín hiệu\u001b[0m\u001b[0;34m\u001b[0m\u001b[0;34m\u001b[0m\u001b[0;34m\u001b[0m\u001b[0m\n",
            "\u001b[0;32m/usr/lib/python3.6/codecs.py\u001b[0m in \u001b[0;36mdecode\u001b[0;34m(self, input, final)\u001b[0m\n\u001b[1;32m    319\u001b[0m         \u001b[0;31m# decode input (taking the buffer into account)\u001b[0m\u001b[0;34m\u001b[0m\u001b[0;34m\u001b[0m\u001b[0;34m\u001b[0m\u001b[0m\n\u001b[1;32m    320\u001b[0m         \u001b[0mdata\u001b[0m \u001b[0;34m=\u001b[0m \u001b[0mself\u001b[0m\u001b[0;34m.\u001b[0m\u001b[0mbuffer\u001b[0m \u001b[0;34m+\u001b[0m \u001b[0minput\u001b[0m\u001b[0;34m\u001b[0m\u001b[0;34m\u001b[0m\u001b[0m\n\u001b[0;32m--> 321\u001b[0;31m         \u001b[0;34m(\u001b[0m\u001b[0mresult\u001b[0m\u001b[0;34m,\u001b[0m \u001b[0mconsumed\u001b[0m\u001b[0;34m)\u001b[0m \u001b[0;34m=\u001b[0m \u001b[0mself\u001b[0m\u001b[0;34m.\u001b[0m\u001b[0m_buffer_decode\u001b[0m\u001b[0;34m(\u001b[0m\u001b[0mdata\u001b[0m\u001b[0;34m,\u001b[0m \u001b[0mself\u001b[0m\u001b[0;34m.\u001b[0m\u001b[0merrors\u001b[0m\u001b[0;34m,\u001b[0m \u001b[0mfinal\u001b[0m\u001b[0;34m)\u001b[0m\u001b[0;34m\u001b[0m\u001b[0;34m\u001b[0m\u001b[0m\n\u001b[0m\u001b[1;32m    322\u001b[0m         \u001b[0;31m# keep undecoded input until the next call\u001b[0m\u001b[0;34m\u001b[0m\u001b[0;34m\u001b[0m\u001b[0;34m\u001b[0m\u001b[0m\n\u001b[1;32m    323\u001b[0m         \u001b[0mself\u001b[0m\u001b[0;34m.\u001b[0m\u001b[0mbuffer\u001b[0m \u001b[0;34m=\u001b[0m \u001b[0mdata\u001b[0m\u001b[0;34m[\u001b[0m\u001b[0mconsumed\u001b[0m\u001b[0;34m:\u001b[0m\u001b[0;34m]\u001b[0m\u001b[0;34m\u001b[0m\u001b[0;34m\u001b[0m\u001b[0m\n",
            "\u001b[0;31mUnicodeDecodeError\u001b[0m: 'utf-8' codec can't decode byte 0xb5 in position 93: invalid start byte"
          ]
        }
      ]
    },
    {
      "cell_type": "code",
      "metadata": {
        "id": "UyJumnpDLyy8",
        "outputId": "0c3cd314-ebb6-4993-8bd5-d79552685751",
        "colab": {
          "base_uri": "https://localhost:8080/"
        }
      },
      "source": [
        "fs"
      ],
      "execution_count": 37,
      "outputs": [
        {
          "output_type": "execute_result",
          "data": {
            "text/plain": [
              "32"
            ]
          },
          "metadata": {
            "tags": []
          },
          "execution_count": 37
        }
      ]
    },
    {
      "cell_type": "code",
      "metadata": {
        "id": "KBNYFEU_L49W",
        "outputId": "5e3838b3-c0a3-442f-df8b-189d3708dcc7",
        "colab": {
          "base_uri": "https://localhost:8080/"
        }
      },
      "source": [
        "sample_df"
      ],
      "execution_count": 38,
      "outputs": [
        {
          "output_type": "execute_result",
          "data": {
            "text/plain": [
              "2017-09-30 22:52:18+02:00           133.0\n",
              "2017-09-30 22:52:18.031250+02:00    114.0\n",
              "2017-09-30 22:52:18.062500+02:00     96.0\n",
              "2017-09-30 22:52:18.093750+02:00     71.0\n",
              "2017-09-30 22:52:18.125000+02:00     48.0\n",
              "                                    ...  \n",
              "2017-10-01 06:19:23.843750+02:00    -79.0\n",
              "2017-10-01 06:19:23.875000+02:00    -97.0\n",
              "2017-10-01 06:19:23.906250+02:00   -113.0\n",
              "2017-10-01 06:19:23.937500+02:00   -127.0\n",
              "2017-10-01 06:19:23.968750+02:00   -137.0\n",
              "Name: flow th, Length: 858432, dtype: float64"
            ]
          },
          "metadata": {
            "tags": []
          },
          "execution_count": 38
        }
      ]
    },
    {
      "cell_type": "code",
      "metadata": {
        "id": "N4voiOIWjsTC"
      },
      "source": [
        "pinfo.full_paths"
      ],
      "execution_count": null,
      "outputs": []
    },
    {
      "cell_type": "code",
      "metadata": {
        "colab": {
          "base_uri": "https://localhost:8080/"
        },
        "id": "PpUcjxA1vPk3",
        "outputId": "ceaff2da-92d3-4542-8d7c-eefd608a4a94"
      },
      "source": [
        "help(case.import_adjacent_window_evt)"
      ],
      "execution_count": null,
      "outputs": [
        {
          "output_type": "stream",
          "text": [
            "Help on method import_adjacent_window_evt in module module1.raw_data_parser:\n",
            "\n",
            "import_adjacent_window_evt(signal_type='hypno', samp_freq=None, reshape=True) method of module1.raw_data_parser.DataImporter instance\n",
            "    Hàm tải dữ liệu chuỗi biến cố liên tục (loại 2A), thí dụ hypno; \n",
            "    hỗ trợ tái chọn mẫu và hoán chuyển ngược về loại 2B (danh sách biến cố không liên tục)\n",
            "    \n",
            "    :signal_type: tên viết tắt loại dữ liệu, Lưu ý: hàm này chỉ dùng cho 'hypno' hoặc 'spo2'\n",
            "    :reshape = True có nghĩa là sẽ hoán chuyển 2A thành 2B, và xuất ra cả 2; \n",
            "    : reshape = False có nghĩa là không cần hoán chuyển, chỉ xuất ra dữ liệu chuỗi liên tục 2A\n",
            "    :return 1: df_data: 1 pd.Series chứa dữ liệu chuỗi liên tục (gốc), có datetime index\n",
            "    :return 2: df_resampled: 1 pd.Series chứa dữ liệu chuỗi liên tục (đã được tái chọn mẫu), có datetime index\n",
            "    :return 3: dict_map: dictionary cho biết ý nghĩa các nhãn biến cố\n",
            "    :return 4: df_event: chỉ khi reshape = True, dataframe danh sách biến cố không liên tục (2B), \n",
            "    có cấu trúc mỗi hàng là 1 biến cố, và 4 cột:'evt_start, 'evt_stop', 'evt_info'(thời gian mỗi biến cố) \n",
            "    và 'evt_value' (nhãn kết quả).\n",
            "    :return 5: window_len: Độ dài của cửa sổ quan sát nếu cố định, = None nếu không cố định\n",
            "\n"
          ],
          "name": "stdout"
        }
      ]
    },
    {
      "cell_type": "code",
      "metadata": {
        "colab": {
          "base_uri": "https://localhost:8080/",
          "height": 35
        },
        "id": "hGvpV9ud1gnT",
        "outputId": "22679dd0-901d-492f-deef-0e3eb5e8f55f"
      },
      "source": [
        "file_summary = pinfo\r\n",
        "selected_paths = file_summary.loc[file_summary['signal_type']\r\n",
        "                                      == 'ecg', 'full_paths']\r\n",
        "selected_paths.values[0]                                     "
      ],
      "execution_count": 27,
      "outputs": [
        {
          "output_type": "execute_result",
          "data": {
            "application/vnd.google.colaboratory.intrinsic+json": {
              "type": "string"
            },
            "text/plain": [
              "'/content/drive/MyDrive/Dataset/Packs/Res_signal_samp/Raw data/ECG.txt'"
            ]
          },
          "metadata": {
            "tags": []
          },
          "execution_count": 27
        }
      ]
    },
    {
      "cell_type": "code",
      "metadata": {
        "id": "gOnQ-a2K01s-",
        "outputId": "f620c673-8547-4ec4-f4a4-659efbdcbfe1",
        "colab": {
          "base_uri": "https://localhost:8080/",
          "height": 35
        }
      },
      "source": [
        "case.data_path"
      ],
      "execution_count": 62,
      "outputs": [
        {
          "output_type": "execute_result",
          "data": {
            "application/vnd.google.colaboratory.intrinsic+json": {
              "type": "string"
            },
            "text/plain": [
              "'/content/drive/MyDrive/Dataset/Packs/Res_signal_samp'"
            ]
          },
          "metadata": {
            "tags": []
          },
          "execution_count": 62
        }
      ]
    },
    {
      "cell_type": "code",
      "metadata": {
        "id": "J2FiRAl_1H7O",
        "outputId": "37b45581-9760-4c66-8c32-1d768f806fa1",
        "colab": {
          "base_uri": "https://localhost:8080/",
          "height": 49
        }
      },
      "source": [
        "case.signal_summary"
      ],
      "execution_count": 63,
      "outputs": [
        {
          "output_type": "execute_result",
          "data": {
            "text/html": [
              "<div>\n",
              "<style scoped>\n",
              "    .dataframe tbody tr th:only-of-type {\n",
              "        vertical-align: middle;\n",
              "    }\n",
              "\n",
              "    .dataframe tbody tr th {\n",
              "        vertical-align: top;\n",
              "    }\n",
              "\n",
              "    .dataframe thead th {\n",
              "        text-align: right;\n",
              "    }\n",
              "</style>\n",
              "<table border=\"1\" class=\"dataframe\">\n",
              "  <thead>\n",
              "    <tr style=\"text-align: right;\">\n",
              "      <th></th>\n",
              "      <th>full_paths</th>\n",
              "      <th>pack</th>\n",
              "      <th>filename</th>\n",
              "      <th>signal_type</th>\n",
              "      <th>Size (Mb)</th>\n",
              "    </tr>\n",
              "  </thead>\n",
              "  <tbody>\n",
              "  </tbody>\n",
              "</table>\n",
              "</div>"
            ],
            "text/plain": [
              "Empty DataFrame\n",
              "Columns: [full_paths, pack, filename, signal_type, Size (Mb)]\n",
              "Index: []"
            ]
          },
          "metadata": {
            "tags": []
          },
          "execution_count": 63
        }
      ]
    },
    {
      "cell_type": "code",
      "metadata": {
        "id": "yXiwShfw5FpJ",
        "outputId": "73347d15-7574-4b7d-8f93-5f7588be5407",
        "colab": {
          "base_uri": "https://localhost:8080/"
        }
      },
      "source": [
        "type(pinfo)"
      ],
      "execution_count": 64,
      "outputs": [
        {
          "output_type": "execute_result",
          "data": {
            "text/plain": [
              "pandas.core.frame.DataFrame"
            ]
          },
          "metadata": {
            "tags": []
          },
          "execution_count": 64
        }
      ]
    },
    {
      "cell_type": "code",
      "metadata": {
        "id": "GBbAKtcO74tu",
        "outputId": "b450e708-a46f-4225-efdb-9c52806d74b0",
        "colab": {
          "base_uri": "https://localhost:8080/"
        }
      },
      "source": [
        "type(case.signal_summary)"
      ],
      "execution_count": 66,
      "outputs": [
        {
          "output_type": "execute_result",
          "data": {
            "text/plain": [
              "pandas.core.frame.DataFrame"
            ]
          },
          "metadata": {
            "tags": []
          },
          "execution_count": 66
        }
      ]
    },
    {
      "cell_type": "code",
      "metadata": {
        "id": "IK2pnXLM1Wf6",
        "outputId": "9aa78ce7-fd47-4468-b509-3908d56b7eb6",
        "colab": {
          "base_uri": "https://localhost:8080/",
          "height": 35
        }
      },
      "source": [
        "case.pack_folder"
      ],
      "execution_count": 28,
      "outputs": [
        {
          "output_type": "execute_result",
          "data": {
            "application/vnd.google.colaboratory.intrinsic+json": {
              "type": "string"
            },
            "text/plain": [
              "'Res_signal_samp'"
            ]
          },
          "metadata": {
            "tags": []
          },
          "execution_count": 28
        }
      ]
    },
    {
      "cell_type": "code",
      "metadata": {
        "id": "AsA6wE6F_OHK",
        "outputId": "b255605e-2eb4-47c3-b46f-7b3bbdde6d2d",
        "colab": {
          "base_uri": "https://localhost:8080/",
          "height": 204
        }
      },
      "source": [
        "pinfo.head()"
      ],
      "execution_count": 29,
      "outputs": [
        {
          "output_type": "execute_result",
          "data": {
            "text/html": [
              "<div>\n",
              "<style scoped>\n",
              "    .dataframe tbody tr th:only-of-type {\n",
              "        vertical-align: middle;\n",
              "    }\n",
              "\n",
              "    .dataframe tbody tr th {\n",
              "        vertical-align: top;\n",
              "    }\n",
              "\n",
              "    .dataframe thead th {\n",
              "        text-align: right;\n",
              "    }\n",
              "</style>\n",
              "<table border=\"1\" class=\"dataframe\">\n",
              "  <thead>\n",
              "    <tr style=\"text-align: right;\">\n",
              "      <th></th>\n",
              "      <th>full_paths</th>\n",
              "      <th>pack</th>\n",
              "      <th>filename</th>\n",
              "      <th>signal_type</th>\n",
              "      <th>Size (Mb)</th>\n",
              "    </tr>\n",
              "  </thead>\n",
              "  <tbody>\n",
              "    <tr>\n",
              "      <th>0</th>\n",
              "      <td>/content/drive/MyDrive/Dataset/Packs/Res_signa...</td>\n",
              "      <td>Res_signal_samp</td>\n",
              "      <td>Abd RIP.txt</td>\n",
              "      <td>abd rip</td>\n",
              "      <td>3.304411</td>\n",
              "    </tr>\n",
              "    <tr>\n",
              "      <th>1</th>\n",
              "      <td>/content/drive/MyDrive/Dataset/Packs/Res_signa...</td>\n",
              "      <td>Res_signal_samp</td>\n",
              "      <td>Avg AP.txt</td>\n",
              "      <td>avg ap</td>\n",
              "      <td>4.410931</td>\n",
              "    </tr>\n",
              "    <tr>\n",
              "      <th>2</th>\n",
              "      <td>/content/drive/MyDrive/Dataset/Packs/Res_signa...</td>\n",
              "      <td>Res_signal_samp</td>\n",
              "      <td>Dia AP.txt</td>\n",
              "      <td>dia ap</td>\n",
              "      <td>4.401841</td>\n",
              "    </tr>\n",
              "    <tr>\n",
              "      <th>3</th>\n",
              "      <td>/content/drive/MyDrive/Dataset/Packs/Res_signa...</td>\n",
              "      <td>Res_signal_samp</td>\n",
              "      <td>ECG.txt</td>\n",
              "      <td>ecg</td>\n",
              "      <td>67.016486</td>\n",
              "    </tr>\n",
              "    <tr>\n",
              "      <th>4</th>\n",
              "      <td>/content/drive/MyDrive/Dataset/Packs/Res_signa...</td>\n",
              "      <td>Res_signal_samp</td>\n",
              "      <td>EMG1.txt</td>\n",
              "      <td>emg1</td>\n",
              "      <td>48.448591</td>\n",
              "    </tr>\n",
              "  </tbody>\n",
              "</table>\n",
              "</div>"
            ],
            "text/plain": [
              "                                          full_paths  ...  Size (Mb)\n",
              "0  /content/drive/MyDrive/Dataset/Packs/Res_signa...  ...   3.304411\n",
              "1  /content/drive/MyDrive/Dataset/Packs/Res_signa...  ...   4.410931\n",
              "2  /content/drive/MyDrive/Dataset/Packs/Res_signa...  ...   4.401841\n",
              "3  /content/drive/MyDrive/Dataset/Packs/Res_signa...  ...  67.016486\n",
              "4  /content/drive/MyDrive/Dataset/Packs/Res_signa...  ...  48.448591\n",
              "\n",
              "[5 rows x 5 columns]"
            ]
          },
          "metadata": {
            "tags": []
          },
          "execution_count": 29
        }
      ]
    },
    {
      "cell_type": "code",
      "metadata": {
        "id": "NhISsgr0ECFa",
        "outputId": "c71734fc-2be7-4b75-bbbd-4c928420232f",
        "colab": {
          "base_uri": "https://localhost:8080/"
        }
      },
      "source": [
        "list(pinfo.columns)"
      ],
      "execution_count": 30,
      "outputs": [
        {
          "output_type": "execute_result",
          "data": {
            "text/plain": [
              "['full_paths', 'pack', 'filename', 'signal_type', 'Size (Mb)']"
            ]
          },
          "metadata": {
            "tags": []
          },
          "execution_count": 30
        }
      ]
    },
    {
      "cell_type": "code",
      "metadata": {
        "id": "iPu9DsqNFL9L"
      },
      "source": [
        "path = pinfo['full_paths'][0]"
      ],
      "execution_count": 31,
      "outputs": []
    },
    {
      "cell_type": "code",
      "metadata": {
        "id": "lYZFeMbGFqA3",
        "outputId": "104b8b3d-f5c0-4434-bdca-9c43db6fd623",
        "colab": {
          "base_uri": "https://localhost:8080/"
        }
      },
      "source": [
        "split_path = path.split(os.sep)\r\n",
        "split_path"
      ],
      "execution_count": 32,
      "outputs": [
        {
          "output_type": "execute_result",
          "data": {
            "text/plain": [
              "['',\n",
              " 'content',\n",
              " 'drive',\n",
              " 'MyDrive',\n",
              " 'Dataset',\n",
              " 'Packs',\n",
              " 'Res_signal_samp',\n",
              " 'Raw data',\n",
              " 'Abd RIP.txt']"
            ]
          },
          "metadata": {
            "tags": []
          },
          "execution_count": 32
        }
      ]
    },
    {
      "cell_type": "code",
      "metadata": {
        "id": "R4mjfZREG_wj",
        "outputId": "ba550dcd-9229-4586-ac34-b8d90ada7cf1",
        "colab": {
          "base_uri": "https://localhost:8080/",
          "height": 35
        }
      },
      "source": [
        "apack = split_path[-3]\r\n",
        "apack"
      ],
      "execution_count": 115,
      "outputs": [
        {
          "output_type": "execute_result",
          "data": {
            "application/vnd.google.colaboratory.intrinsic+json": {
              "type": "string"
            },
            "text/plain": [
              "'Res_signal_samp'"
            ]
          },
          "metadata": {
            "tags": []
          },
          "execution_count": 115
        }
      ]
    },
    {
      "cell_type": "code",
      "metadata": {
        "id": "yDa_txxiIWcE",
        "outputId": "dbe94f09-eb5d-4fd1-c016-8275c6739a5d",
        "colab": {
          "base_uri": "https://localhost:8080/"
        }
      },
      "source": [
        "pack.get_info_from_path(path)"
      ],
      "execution_count": 127,
      "outputs": [
        {
          "output_type": "execute_result",
          "data": {
            "text/plain": [
              "0        MyDrive\n",
              "1    Abd RIP.txt\n",
              "dtype: object"
            ]
          },
          "metadata": {
            "tags": []
          },
          "execution_count": 127
        }
      ]
    },
    {
      "cell_type": "code",
      "metadata": {
        "id": "wbAFKShvMhQk"
      },
      "source": [
        "sample_df, resampled_df, fs = case.import_raw_data(signal_type='flow th', \r\n",
        "                                                   samp_freq=16)"
      ],
      "execution_count": 39,
      "outputs": []
    },
    {
      "cell_type": "code",
      "metadata": {
        "id": "LOT97AxuMqlI",
        "outputId": "543ca43c-f5a8-4cb4-bab0-45fdcd5bbcb2",
        "colab": {
          "base_uri": "https://localhost:8080/"
        }
      },
      "source": [
        "resampled_df"
      ],
      "execution_count": 40,
      "outputs": [
        {
          "output_type": "execute_result",
          "data": {
            "text/plain": [
              "2017-09-30 22:52:18+02:00           133.0\n",
              "2017-09-30 22:52:18.062500+02:00     96.0\n",
              "2017-09-30 22:52:18.125000+02:00     48.0\n",
              "2017-09-30 22:52:18.187500+02:00      2.0\n",
              "2017-09-30 22:52:18.250000+02:00    -43.0\n",
              "                                    ...  \n",
              "2017-10-01 06:19:23.687500+02:00     13.0\n",
              "2017-10-01 06:19:23.750000+02:00    -27.0\n",
              "2017-10-01 06:19:23.812500+02:00    -65.0\n",
              "2017-10-01 06:19:23.875000+02:00    -97.0\n",
              "2017-10-01 06:19:23.937500+02:00   -127.0\n",
              "Freq: 62500U, Name: flow th, Length: 429216, dtype: float64"
            ]
          },
          "metadata": {
            "tags": []
          },
          "execution_count": 40
        }
      ]
    },
    {
      "cell_type": "code",
      "metadata": {
        "id": "rIAnkL9mMtqt",
        "outputId": "f415f06a-25bc-49eb-cefa-40a5e9100854",
        "colab": {
          "base_uri": "https://localhost:8080/"
        }
      },
      "source": [
        "sample_df.shape[0] / resampled_df.shape[0]"
      ],
      "execution_count": 41,
      "outputs": [
        {
          "output_type": "execute_result",
          "data": {
            "text/plain": [
              "2.0"
            ]
          },
          "metadata": {
            "tags": []
          },
          "execution_count": 41
        }
      ]
    },
    {
      "cell_type": "code",
      "metadata": {
        "id": "HCz06w6fMwTh",
        "outputId": "723b3647-6a61-45f6-e050-5295dcc20da1",
        "colab": {
          "base_uri": "https://localhost:8080/",
          "height": 178
        }
      },
      "source": [
        "import matplotlib.pyplot as plt\r\n",
        "\r\n",
        "plt.figure(figsize=(20,3))\r\n",
        "plt.plot(resampled_df[0:2000], 'b-', label = '16 Hz')\r\n",
        "plt.legend()"
      ],
      "execution_count": 42,
      "outputs": [
        {
          "output_type": "execute_result",
          "data": {
            "text/plain": [
              "<matplotlib.legend.Legend at 0x7f54558c0e48>"
            ]
          },
          "metadata": {
            "tags": []
          },
          "execution_count": 42
        },
        {
          "output_type": "display_data",
          "data": {
            "image/png": "[encoded data removed]",
            "text/plain": [
              "<Figure size 1440x216 with 1 Axes>"
            ]
          },
          "metadata": {
            "tags": [],
            "needs_background": "light"
          }
        }
      ]
    },
    {
      "cell_type": "code",
      "metadata": {
        "id": "S2kFdg1dMzYW",
        "outputId": "492dac6b-dac9-412f-c661-34fc6d94187d",
        "colab": {
          "base_uri": "https://localhost:8080/",
          "height": 178
        }
      },
      "source": [
        "plt.figure(figsize=(20,3))\r\n",
        "plt.plot(sample_df[0:4000], 'r-', label = '32 Hz')\r\n",
        "plt.legend()"
      ],
      "execution_count": 43,
      "outputs": [
        {
          "output_type": "execute_result",
          "data": {
            "text/plain": [
              "<matplotlib.legend.Legend at 0x7f545439e550>"
            ]
          },
          "metadata": {
            "tags": []
          },
          "execution_count": 43
        },
        {
          "output_type": "display_data",
          "data": {
            "image/png": "[encoded data removed]",
            "text/plain": [
              "<Figure size 1440x216 with 1 Axes>"
            ]
          },
          "metadata": {
            "tags": [],
            "needs_background": "light"
          }
        }
      ]
    }
  ]
}