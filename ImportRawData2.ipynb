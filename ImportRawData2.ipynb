{
  "nbformat": 4,
  "nbformat_minor": 0,
  "metadata": {
    "colab": {
      "name": "ImportRawData2.ipynb",
      "provenance": [],
      "mount_file_id": "1jOIxXDGANfcV6ahQ7Dy6WCACEC8Ea4e0",
      "authorship_tag": "ABX9TyO6UjR6M+BQSnsrZP4mkx+W",
      "include_colab_link": true
    },
    "kernelspec": {
      "name": "python3",
      "display_name": "Python 3"
    },
    "widgets": {
      "application/vnd.jupyter.widget-state+json": {
        "a4ccdff03ce54e39973ce784b477ec10": {
          "model_module": "@jupyter-widgets/controls",
          "model_name": "HBoxModel",
          "state": {
            "_view_name": "HBoxView",
            "_dom_classes": [],
            "_model_name": "HBoxModel",
            "_view_module": "@jupyter-widgets/controls",
            "_model_module_version": "1.5.0",
            "_view_count": null,
            "_view_module_version": "1.5.0",
            "box_style": "",
            "layout": "IPY_MODEL_1379cfcc95114d25a436556a9441e8c2",
            "_model_module": "@jupyter-widgets/controls",
            "children": [
              "IPY_MODEL_0112cbbdf7f24aff8d2d3a2f99b105cc",
              "IPY_MODEL_3a086c16965b4e92ac4bd60d34db64cb"
            ]
          }
        },
        "1379cfcc95114d25a436556a9441e8c2": {
          "model_module": "@jupyter-widgets/base",
          "model_name": "LayoutModel",
          "state": {
            "_view_name": "LayoutView",
            "grid_template_rows": null,
            "right": null,
            "justify_content": null,
            "_view_module": "@jupyter-widgets/base",
            "overflow": null,
            "_model_module_version": "1.2.0",
            "_view_count": null,
            "flex_flow": null,
            "width": null,
            "min_width": null,
            "border": null,
            "align_items": null,
            "bottom": null,
            "_model_module": "@jupyter-widgets/base",
            "top": null,
            "grid_column": null,
            "overflow_y": null,
            "overflow_x": null,
            "grid_auto_flow": null,
            "grid_area": null,
            "grid_template_columns": null,
            "flex": null,
            "_model_name": "LayoutModel",
            "justify_items": null,
            "grid_row": null,
            "max_height": null,
            "align_content": null,
            "visibility": null,
            "align_self": null,
            "height": null,
            "min_height": null,
            "padding": null,
            "grid_auto_rows": null,
            "grid_gap": null,
            "max_width": null,
            "order": null,
            "_view_module_version": "1.2.0",
            "grid_template_areas": null,
            "object_position": null,
            "object_fit": null,
            "grid_auto_columns": null,
            "margin": null,
            "display": null,
            "left": null
          }
        },
        "0112cbbdf7f24aff8d2d3a2f99b105cc": {
          "model_module": "@jupyter-widgets/controls",
          "model_name": "FloatProgressModel",
          "state": {
            "_view_name": "ProgressView",
            "style": "IPY_MODEL_338e104a7f864fb78e2df2ca307f830d",
            "_dom_classes": [],
            "description": "100%",
            "_model_name": "FloatProgressModel",
            "bar_style": "success",
            "max": 4,
            "_view_module": "@jupyter-widgets/controls",
            "_model_module_version": "1.5.0",
            "value": 4,
            "_view_count": null,
            "_view_module_version": "1.5.0",
            "orientation": "horizontal",
            "min": 0,
            "description_tooltip": null,
            "_model_module": "@jupyter-widgets/controls",
            "layout": "IPY_MODEL_e2f7a73bb54c428db3f66f30b054754e"
          }
        },
        "3a086c16965b4e92ac4bd60d34db64cb": {
          "model_module": "@jupyter-widgets/controls",
          "model_name": "HTMLModel",
          "state": {
            "_view_name": "HTMLView",
            "style": "IPY_MODEL_658ba2470d0d442298d8c7fc63427b1c",
            "_dom_classes": [],
            "description": "",
            "_model_name": "HTMLModel",
            "placeholder": "​",
            "_view_module": "@jupyter-widgets/controls",
            "_model_module_version": "1.5.0",
            "value": " 4/4 [01:25&lt;00:00, 21.27s/it]",
            "_view_count": null,
            "_view_module_version": "1.5.0",
            "description_tooltip": null,
            "_model_module": "@jupyter-widgets/controls",
            "layout": "IPY_MODEL_48fdf03f50da4638a06034bab016d71c"
          }
        },
        "338e104a7f864fb78e2df2ca307f830d": {
          "model_module": "@jupyter-widgets/controls",
          "model_name": "ProgressStyleModel",
          "state": {
            "_view_name": "StyleView",
            "_model_name": "ProgressStyleModel",
            "description_width": "initial",
            "_view_module": "@jupyter-widgets/base",
            "_model_module_version": "1.5.0",
            "_view_count": null,
            "_view_module_version": "1.2.0",
            "bar_color": null,
            "_model_module": "@jupyter-widgets/controls"
          }
        },
        "e2f7a73bb54c428db3f66f30b054754e": {
          "model_module": "@jupyter-widgets/base",
          "model_name": "LayoutModel",
          "state": {
            "_view_name": "LayoutView",
            "grid_template_rows": null,
            "right": null,
            "justify_content": null,
            "_view_module": "@jupyter-widgets/base",
            "overflow": null,
            "_model_module_version": "1.2.0",
            "_view_count": null,
            "flex_flow": null,
            "width": null,
            "min_width": null,
            "border": null,
            "align_items": null,
            "bottom": null,
            "_model_module": "@jupyter-widgets/base",
            "top": null,
            "grid_column": null,
            "overflow_y": null,
            "overflow_x": null,
            "grid_auto_flow": null,
            "grid_area": null,
            "grid_template_columns": null,
            "flex": null,
            "_model_name": "LayoutModel",
            "justify_items": null,
            "grid_row": null,
            "max_height": null,
            "align_content": null,
            "visibility": null,
            "align_self": null,
            "height": null,
            "min_height": null,
            "padding": null,
            "grid_auto_rows": null,
            "grid_gap": null,
            "max_width": null,
            "order": null,
            "_view_module_version": "1.2.0",
            "grid_template_areas": null,
            "object_position": null,
            "object_fit": null,
            "grid_auto_columns": null,
            "margin": null,
            "display": null,
            "left": null
          }
        },
        "658ba2470d0d442298d8c7fc63427b1c": {
          "model_module": "@jupyter-widgets/controls",
          "model_name": "DescriptionStyleModel",
          "state": {
            "_view_name": "StyleView",
            "_model_name": "DescriptionStyleModel",
            "description_width": "",
            "_view_module": "@jupyter-widgets/base",
            "_model_module_version": "1.5.0",
            "_view_count": null,
            "_view_module_version": "1.2.0",
            "_model_module": "@jupyter-widgets/controls"
          }
        },
        "48fdf03f50da4638a06034bab016d71c": {
          "model_module": "@jupyter-widgets/base",
          "model_name": "LayoutModel",
          "state": {
            "_view_name": "LayoutView",
            "grid_template_rows": null,
            "right": null,
            "justify_content": null,
            "_view_module": "@jupyter-widgets/base",
            "overflow": null,
            "_model_module_version": "1.2.0",
            "_view_count": null,
            "flex_flow": null,
            "width": null,
            "min_width": null,
            "border": null,
            "align_items": null,
            "bottom": null,
            "_model_module": "@jupyter-widgets/base",
            "top": null,
            "grid_column": null,
            "overflow_y": null,
            "overflow_x": null,
            "grid_auto_flow": null,
            "grid_area": null,
            "grid_template_columns": null,
            "flex": null,
            "_model_name": "LayoutModel",
            "justify_items": null,
            "grid_row": null,
            "max_height": null,
            "align_content": null,
            "visibility": null,
            "align_self": null,
            "height": null,
            "min_height": null,
            "padding": null,
            "grid_auto_rows": null,
            "grid_gap": null,
            "max_width": null,
            "order": null,
            "_view_module_version": "1.2.0",
            "grid_template_areas": null,
            "object_position": null,
            "object_fit": null,
            "grid_auto_columns": null,
            "margin": null,
            "display": null,
            "left": null
          }
        }
      }
    }
  },
  "cells": [
    {
      "cell_type": "markdown",
      "metadata": {
        "id": "view-in-github",
        "colab_type": "text"
      },
      "source": [
        "<a href=\"https://colab.research.google.com/github/LongNguyen1984/DeepLearning/blob/master/ImportRawData2.ipynb\" target=\"_parent\"><img src=\"https://colab.research.google.com/assets/colab-badge.svg\" alt=\"Open In Colab\"/></a>"
      ]
    },
    {
      "cell_type": "code",
      "metadata": {
        "colab": {
          "base_uri": "https://localhost:8080/"
        },
        "id": "7IGoeRgstvwr",
        "outputId": "b6bbb3b0-3f03-428e-804f-777bf50a93e4"
      },
      "source": [
        "!pip install sinfo"
      ],
      "execution_count": 1,
      "outputs": [
        {
          "output_type": "stream",
          "text": [
            "Collecting sinfo\n",
            "  Downloading https://files.pythonhosted.org/packages/e1/4c/aef8456284f1a1c3645b938d9ca72388c9c4878e6e67b8a349c7d22fac78/sinfo-0.3.1.tar.gz\n",
            "Collecting stdlib_list\n",
            "\u001b[?25l  Downloading https://files.pythonhosted.org/packages/7a/b1/52f59dcf31ead2f0ceff8976288449608d912972b911f55dff712cef5719/stdlib_list-0.8.0-py3-none-any.whl (63kB)\n",
            "\u001b[K     |████████████████████████████████| 71kB 3.9MB/s \n",
            "\u001b[?25hBuilding wheels for collected packages: sinfo\n",
            "  Building wheel for sinfo (setup.py) ... \u001b[?25l\u001b[?25hdone\n",
            "  Created wheel for sinfo: filename=sinfo-0.3.1-cp36-none-any.whl size=7018 sha256=3f54a2c0267afeb273374439958fba77d611e777ceaa6e69270c3b021d0f2fb6\n",
            "  Stored in directory: /root/.cache/pip/wheels/11/f0/23/347d6d8e59787c2bc272162d18223dc3b45bd6dc40aceee6af\n",
            "Successfully built sinfo\n",
            "Installing collected packages: stdlib-list, sinfo\n",
            "Successfully installed sinfo-0.3.1 stdlib-list-0.8.0\n"
          ],
          "name": "stdout"
        }
      ]
    },
    {
      "cell_type": "markdown",
      "metadata": {
        "id": "pkWMbefat_e-"
      },
      "source": [
        "### Cài đặt thư viện hàm module 1"
      ]
    },
    {
      "cell_type": "code",
      "metadata": {
        "colab": {
          "base_uri": "https://localhost:8080/"
        },
        "id": "Zb_nOX1Mt-B3",
        "outputId": "d9a037f4-5b6f-4a4b-9d6b-e09b9c7bda57"
      },
      "source": [
        "! git clone https://github.com/taile2007/Biosignal-analysis.git"
      ],
      "execution_count": 2,
      "outputs": [
        {
          "output_type": "stream",
          "text": [
            "Cloning into 'Biosignal-analysis'...\n",
            "remote: Enumerating objects: 155, done.\u001b[K\n",
            "remote: Counting objects: 100% (155/155), done.\u001b[K\n",
            "remote: Compressing objects: 100% (138/138), done.\u001b[K\n",
            "remote: Total 155 (delta 73), reused 17 (delta 5), pack-reused 0\u001b[K\n",
            "Receiving objects: 100% (155/155), 6.48 MiB | 15.96 MiB/s, done.\n",
            "Resolving deltas: 100% (73/73), done.\n"
          ],
          "name": "stdout"
        }
      ]
    },
    {
      "cell_type": "markdown",
      "metadata": {
        "id": "1vlsGRMRulCk"
      },
      "source": [
        "### Chuyển tới thư mục để nạp module 1"
      ]
    },
    {
      "cell_type": "code",
      "metadata": {
        "colab": {
          "base_uri": "https://localhost:8080/"
        },
        "id": "u4mcF5Z2uF5O",
        "outputId": "9475373c-f086-42b9-ebdd-94699d536713"
      },
      "source": [
        "%cd Biosignal-analysis/Data\\ wrangling-01-Importation"
      ],
      "execution_count": 3,
      "outputs": [
        {
          "output_type": "stream",
          "text": [
            "/content/Biosignal-analysis/Data wrangling-01-Importation\n"
          ],
          "name": "stdout"
        }
      ]
    },
    {
      "cell_type": "markdown",
      "metadata": {
        "id": "_3lfKaTCusp8"
      },
      "source": [
        "### Thông tin gói thực hành"
      ]
    },
    {
      "cell_type": "code",
      "metadata": {
        "id": "qAdfx2ReuqKl"
      },
      "source": [
        "import sys\r\n",
        "import re\r\n",
        "import numpy as np\r\n",
        "import pandas as pd\r\n",
        "from module1.raw_data_parser import *\r\n"
      ],
      "execution_count": 4,
      "outputs": []
    },
    {
      "cell_type": "code",
      "metadata": {
        "colab": {
          "base_uri": "https://localhost:8080/"
        },
        "id": "53qBhhCNuyQN",
        "outputId": "8d8907a0-4693-4c98-fa92-fe9742856486"
      },
      "source": [
        "from sinfo import sinfo\r\n",
        "sinfo()"
      ],
      "execution_count": 5,
      "outputs": [
        {
          "output_type": "stream",
          "text": [
            "-----\n",
            "module1     0.1\n",
            "numpy       1.19.5\n",
            "pandas      1.1.5\n",
            "pytz        2018.9\n",
            "sinfo       0.3.1\n",
            "tqdm        4.41.1\n",
            "-----\n",
            "IPython             5.5.0\n",
            "jupyter_client      5.3.5\n",
            "jupyter_core        4.7.0\n",
            "notebook            5.3.1\n",
            "-----\n",
            "Python 3.6.9 (default, Oct  8 2020, 12:12:24) [GCC 8.4.0]\n",
            "Linux-4.19.112+-x86_64-with-Ubuntu-18.04-bionic\n",
            "2 logical CPU cores, x86_64\n",
            "-----\n",
            "Session information updated at 2021-01-12 08:34\n"
          ],
          "name": "stdout"
        }
      ]
    },
    {
      "cell_type": "markdown",
      "metadata": {
        "id": "rYoUCoz4u9Ws"
      },
      "source": [
        "# Tái chọn mẫu dữ liệu"
      ]
    },
    {
      "cell_type": "code",
      "metadata": {
        "colab": {
          "base_uri": "https://localhost:8080/",
          "height": 275
        },
        "id": "rQSg54mfu04m",
        "outputId": "5e372eeb-b3e9-4dff-f306-b4ecdfc0d4a3"
      },
      "source": [
        "PACK_FOLDER = '/content/drive/MyDrive/Dataset/Packs'\r\n",
        "\r\n",
        "pack = Paths_Info_Summary(PACK_FOLDER)\r\n",
        "pinfo = pack.create_signal_summary()\r\n",
        "\r\n",
        "pinfo.head()"
      ],
      "execution_count": 7,
      "outputs": [
        {
          "output_type": "execute_result",
          "data": {
            "text/html": [
              "<div>\n",
              "<style scoped>\n",
              "    .dataframe tbody tr th:only-of-type {\n",
              "        vertical-align: middle;\n",
              "    }\n",
              "\n",
              "    .dataframe tbody tr th {\n",
              "        vertical-align: top;\n",
              "    }\n",
              "\n",
              "    .dataframe thead th {\n",
              "        text-align: right;\n",
              "    }\n",
              "</style>\n",
              "<table border=\"1\" class=\"dataframe\">\n",
              "  <thead>\n",
              "    <tr style=\"text-align: right;\">\n",
              "      <th></th>\n",
              "      <th>full_paths</th>\n",
              "      <th>pack</th>\n",
              "      <th>filename</th>\n",
              "      <th>signal_type</th>\n",
              "      <th>Size (Mb)</th>\n",
              "    </tr>\n",
              "  </thead>\n",
              "  <tbody>\n",
              "    <tr>\n",
              "      <th>0</th>\n",
              "      <td>/content/drive/MyDrive/Dataset/Packs/Res_signa...</td>\n",
              "      <td>Res_signal_samp</td>\n",
              "      <td>Abd RIP.txt</td>\n",
              "      <td>abd rip</td>\n",
              "      <td>3.304411</td>\n",
              "    </tr>\n",
              "    <tr>\n",
              "      <th>1</th>\n",
              "      <td>/content/drive/MyDrive/Dataset/Packs/Res_signa...</td>\n",
              "      <td>Res_signal_samp</td>\n",
              "      <td>Avg AP.txt</td>\n",
              "      <td>avg ap</td>\n",
              "      <td>4.410931</td>\n",
              "    </tr>\n",
              "    <tr>\n",
              "      <th>2</th>\n",
              "      <td>/content/drive/MyDrive/Dataset/Packs/Res_signa...</td>\n",
              "      <td>Res_signal_samp</td>\n",
              "      <td>Dia AP.txt</td>\n",
              "      <td>dia ap</td>\n",
              "      <td>4.401841</td>\n",
              "    </tr>\n",
              "    <tr>\n",
              "      <th>3</th>\n",
              "      <td>/content/drive/MyDrive/Dataset/Packs/Res_signa...</td>\n",
              "      <td>Res_signal_samp</td>\n",
              "      <td>ECG.txt</td>\n",
              "      <td>ecg</td>\n",
              "      <td>67.016486</td>\n",
              "    </tr>\n",
              "    <tr>\n",
              "      <th>4</th>\n",
              "      <td>/content/drive/MyDrive/Dataset/Packs/Res_signa...</td>\n",
              "      <td>Res_signal_samp</td>\n",
              "      <td>EMG1.txt</td>\n",
              "      <td>emg1</td>\n",
              "      <td>48.448591</td>\n",
              "    </tr>\n",
              "  </tbody>\n",
              "</table>\n",
              "</div>"
            ],
            "text/plain": [
              "                                          full_paths  ...  Size (Mb)\n",
              "0  /content/drive/MyDrive/Dataset/Packs/Res_signa...  ...   3.304411\n",
              "1  /content/drive/MyDrive/Dataset/Packs/Res_signa...  ...   4.410931\n",
              "2  /content/drive/MyDrive/Dataset/Packs/Res_signa...  ...   4.401841\n",
              "3  /content/drive/MyDrive/Dataset/Packs/Res_signa...  ...  67.016486\n",
              "4  /content/drive/MyDrive/Dataset/Packs/Res_signa...  ...  48.448591\n",
              "\n",
              "[5 rows x 5 columns]"
            ]
          },
          "metadata": {
            "tags": []
          },
          "execution_count": 7
        }
      ]
    },
    {
      "cell_type": "markdown",
      "metadata": {
        "id": "0JNkzFD1wBcj"
      },
      "source": [
        "# Chọn mẫu và dán nhãn bằng class DataSampler"
      ]
    },
    {
      "cell_type": "markdown",
      "metadata": {
        "id": "hxyvy1vrwKwj"
      },
      "source": [
        "Quy trình thí nghiệm gồm ba giải đoạn\r\n",
        "\r\n",
        "\r\n",
        "1.   Tần số lấy mẫu giảm từ 32Hz còn 10Hz\r\n",
        "2.   Cửa sổ quan sát là 10s\r\n",
        "3.   Lọc bỏ tất cả những phân đoạn trạng thải tỉnh\r\n",
        "\r\n",
        "\r\n",
        "\r\n",
        "\r\n"
      ]
    },
    {
      "cell_type": "markdown",
      "metadata": {
        "id": "XIdgncyewlvC"
      },
      "source": [
        "## Mô tả quy trình"
      ]
    },
    {
      "cell_type": "code",
      "metadata": {
        "colab": {
          "base_uri": "https://localhost:8080/",
          "height": 355,
          "referenced_widgets": [
            "a4ccdff03ce54e39973ce784b477ec10",
            "1379cfcc95114d25a436556a9441e8c2",
            "0112cbbdf7f24aff8d2d3a2f99b105cc",
            "3a086c16965b4e92ac4bd60d34db64cb",
            "338e104a7f864fb78e2df2ca307f830d",
            "e2f7a73bb54c428db3f66f30b054754e",
            "658ba2470d0d442298d8c7fc63427b1c",
            "48fdf03f50da4638a06034bab016d71c"
          ]
        },
        "id": "tx87qArGvhBm",
        "outputId": "4d539436-22ba-4912-c995-4f26c90198f2"
      },
      "source": [
        "db = Data_Sampler(samp_freq = 10,\r\n",
        "                 raw_data_folder = PACK_FOLDER,\r\n",
        "                 df_paths = pinfo,\r\n",
        "                 patient_id = 'Res_signal_samp',\r\n",
        "                  size = 100,\r\n",
        "                 overlap = 0.5)"
      ],
      "execution_count": 10,
      "outputs": [
        {
          "output_type": "stream",
          "text": [
            "Tải thành công kênh SpO2\n",
            "Tải thành công chuỗi Hypnogram\n",
            "Tải thành công chuỗi biến cố hô hấp\n",
            "Tải thành công chuỗi biến cố vi thức giấc\n",
            "Đồng bộ hóa thành công tất cả kết quả PSG scoring\n",
            "Khởi động tác vụ song song, tải 4 kênh tín hiệu\n"
          ],
          "name": "stdout"
        },
        {
          "output_type": "display_data",
          "data": {
            "application/vnd.jupyter.widget-view+json": {
              "model_id": "a4ccdff03ce54e39973ce784b477ec10",
              "version_minor": 0,
              "version_major": 2
            },
            "text/plain": [
              "HBox(children=(FloatProgress(value=0.0, max=4.0), HTML(value='')))"
            ]
          },
          "metadata": {
            "tags": []
          }
        },
        {
          "output_type": "stream",
          "text": [
            "Tải và tái chọn mẫu thành công kênh tx rip\n",
            "Tải và tái chọn mẫu thành công kênh flow th\n",
            "Tải và tái chọn mẫu thành công kênh abd rip\n",
            "Tải và tái chọn mẫu thành công kênh oesp\n",
            "\n",
            "Đã tải xong 4 kênh tín hiệu\n",
            "Hoàn tất tải dữ liệu thô\n",
            "Áp dụng lấy mẫu tăng cường, kích thước = 100, tỉ lệ overlap = 0.5\n",
            "Hoàn tất công đoạn lấy mẫu\n",
            "Dán nhãn xong cho Biến cố vi thức\n",
            "Dán nhãn xong cho Biến cố hô hấp\n",
            "Dán nhãn xong cho Hypnogram\n"
          ],
          "name": "stdout"
        }
      ]
    },
    {
      "cell_type": "code",
      "metadata": {
        "colab": {
          "base_uri": "https://localhost:8080/"
        },
        "id": "aPRRURmvyC_m",
        "outputId": "ab5ffece-e2a5-41d2-910d-6726768c9150"
      },
      "source": [
        "db"
      ],
      "execution_count": 11,
      "outputs": [
        {
          "output_type": "execute_result",
          "data": {
            "text/plain": [
              "Đây là data base cho pack dữ liệu Res_signal_samp"
            ]
          },
          "metadata": {
            "tags": []
          },
          "execution_count": 11
        }
      ]
    },
    {
      "cell_type": "code",
      "metadata": {
        "colab": {
          "base_uri": "https://localhost:8080/"
        },
        "id": "Y_K9XPkKyE57",
        "outputId": "a41bf4fe-9481-4b8a-c47e-849fd189183b"
      },
      "source": [
        "db.patient_db.keys()"
      ],
      "execution_count": 12,
      "outputs": [
        {
          "output_type": "execute_result",
          "data": {
            "text/plain": [
              "dict_keys(['ID', 'SpO2', 'Raw_signal', 'Resp_evt', 'Hypno', 'MA', 'Sampling'])"
            ]
          },
          "metadata": {
            "tags": []
          },
          "execution_count": 12
        }
      ]
    },
    {
      "cell_type": "markdown",
      "metadata": {
        "id": "AjhBn6XYyKji"
      },
      "source": [
        "### Cấu trúc dữ liệu chọn mẫu"
      ]
    },
    {
      "cell_type": "code",
      "metadata": {
        "colab": {
          "base_uri": "https://localhost:8080/",
          "height": 35
        },
        "id": "kuz2AJMDyNaT",
        "outputId": "bffc5e15-54ab-4b41-ab4a-4a5a608d2b0f"
      },
      "source": [
        "db.patient_db['ID']"
      ],
      "execution_count": 13,
      "outputs": [
        {
          "output_type": "execute_result",
          "data": {
            "application/vnd.google.colaboratory.intrinsic+json": {
              "type": "string"
            },
            "text/plain": [
              "'Res_signal_samp'"
            ]
          },
          "metadata": {
            "tags": []
          },
          "execution_count": 13
        }
      ]
    },
    {
      "cell_type": "code",
      "metadata": {
        "colab": {
          "base_uri": "https://localhost:8080/",
          "height": 35
        },
        "id": "nGwkPPW7yQlC",
        "outputId": "3ef4ef7a-dc99-4bc6-f3fb-d4b57dab3f59"
      },
      "source": [
        "db.patient_id"
      ],
      "execution_count": 14,
      "outputs": [
        {
          "output_type": "execute_result",
          "data": {
            "application/vnd.google.colaboratory.intrinsic+json": {
              "type": "string"
            },
            "text/plain": [
              "'Res_signal_samp'"
            ]
          },
          "metadata": {
            "tags": []
          },
          "execution_count": 14
        }
      ]
    },
    {
      "cell_type": "markdown",
      "metadata": {
        "id": "OxUWFrkfyTh6"
      },
      "source": [
        "### Tín hiệu SpO2"
      ]
    },
    {
      "cell_type": "code",
      "metadata": {
        "colab": {
          "base_uri": "https://localhost:8080/"
        },
        "id": "WQppG0poyV6t",
        "outputId": "c261e23d-50fe-4718-f81b-62dc72cd0d07"
      },
      "source": [
        "\r\n",
        "db.patient_db['SpO2']"
      ],
      "execution_count": 15,
      "outputs": [
        {
          "output_type": "execute_result",
          "data": {
            "text/plain": [
              "2017-09-30 22:52:18+02:00           97.0\n",
              "2017-09-30 22:52:18.100000+02:00    97.0\n",
              "2017-09-30 22:52:18.200000+02:00    97.0\n",
              "2017-09-30 22:52:18.300000+02:00    97.0\n",
              "2017-09-30 22:52:18.400000+02:00    97.0\n",
              "                                    ... \n",
              "2017-10-01 06:19:23.500000+02:00    96.0\n",
              "2017-10-01 06:19:23.600000+02:00    96.0\n",
              "2017-10-01 06:19:23.700000+02:00    96.0\n",
              "2017-10-01 06:19:23.800000+02:00    96.0\n",
              "2017-10-01 06:19:23.900000+02:00    96.0\n",
              "Freq: 100L, Name: spo2, Length: 268260, dtype: float64"
            ]
          },
          "metadata": {
            "tags": []
          },
          "execution_count": 15
        }
      ]
    },
    {
      "cell_type": "markdown",
      "metadata": {
        "id": "gU8ZJ1Xcycmq"
      },
      "source": [
        "### Dataframe 4 kênh tín hiệu hô hấp"
      ]
    },
    {
      "cell_type": "code",
      "metadata": {
        "colab": {
          "base_uri": "https://localhost:8080/",
          "height": 419
        },
        "id": "TU23zxSxygYs",
        "outputId": "a469fade-66a5-49b6-8e21-366338a4ea6a"
      },
      "source": [
        "db.patient_db['Raw_signal']"
      ],
      "execution_count": 16,
      "outputs": [
        {
          "output_type": "execute_result",
          "data": {
            "text/html": [
              "<div>\n",
              "<style scoped>\n",
              "    .dataframe tbody tr th:only-of-type {\n",
              "        vertical-align: middle;\n",
              "    }\n",
              "\n",
              "    .dataframe tbody tr th {\n",
              "        vertical-align: top;\n",
              "    }\n",
              "\n",
              "    .dataframe thead th {\n",
              "        text-align: right;\n",
              "    }\n",
              "</style>\n",
              "<table border=\"1\" class=\"dataframe\">\n",
              "  <thead>\n",
              "    <tr style=\"text-align: right;\">\n",
              "      <th></th>\n",
              "      <th>tx rip</th>\n",
              "      <th>flow th</th>\n",
              "      <th>abd rip</th>\n",
              "      <th>oesp</th>\n",
              "    </tr>\n",
              "  </thead>\n",
              "  <tbody>\n",
              "    <tr>\n",
              "      <th>2017-09-30 22:52:18+02:00</th>\n",
              "      <td>-351.0</td>\n",
              "      <td>133.0</td>\n",
              "      <td>-22.0</td>\n",
              "      <td>-99.3</td>\n",
              "    </tr>\n",
              "    <tr>\n",
              "      <th>2017-09-30 22:52:18.100000+02:00</th>\n",
              "      <td>-670.0</td>\n",
              "      <td>48.0</td>\n",
              "      <td>-20.0</td>\n",
              "      <td>-99.4</td>\n",
              "    </tr>\n",
              "    <tr>\n",
              "      <th>2017-09-30 22:52:18.200000+02:00</th>\n",
              "      <td>-813.0</td>\n",
              "      <td>-22.0</td>\n",
              "      <td>-16.0</td>\n",
              "      <td>-99.4</td>\n",
              "    </tr>\n",
              "    <tr>\n",
              "      <th>2017-09-30 22:52:18.300000+02:00</th>\n",
              "      <td>-908.0</td>\n",
              "      <td>-91.0</td>\n",
              "      <td>-12.0</td>\n",
              "      <td>-100.4</td>\n",
              "    </tr>\n",
              "    <tr>\n",
              "      <th>2017-09-30 22:52:18.400000+02:00</th>\n",
              "      <td>-946.0</td>\n",
              "      <td>-160.0</td>\n",
              "      <td>-8.0</td>\n",
              "      <td>-99.8</td>\n",
              "    </tr>\n",
              "    <tr>\n",
              "      <th>...</th>\n",
              "      <td>...</td>\n",
              "      <td>...</td>\n",
              "      <td>...</td>\n",
              "      <td>...</td>\n",
              "    </tr>\n",
              "    <tr>\n",
              "      <th>2017-10-01 06:19:23.500000+02:00</th>\n",
              "      <td>-111.0</td>\n",
              "      <td>135.0</td>\n",
              "      <td>260.0</td>\n",
              "      <td>-100.3</td>\n",
              "    </tr>\n",
              "    <tr>\n",
              "      <th>2017-10-01 06:19:23.600000+02:00</th>\n",
              "      <td>-94.0</td>\n",
              "      <td>55.0</td>\n",
              "      <td>148.0</td>\n",
              "      <td>-99.6</td>\n",
              "    </tr>\n",
              "    <tr>\n",
              "      <th>2017-10-01 06:19:23.700000+02:00</th>\n",
              "      <td>-74.0</td>\n",
              "      <td>-8.0</td>\n",
              "      <td>64.0</td>\n",
              "      <td>-99.4</td>\n",
              "    </tr>\n",
              "    <tr>\n",
              "      <th>2017-10-01 06:19:23.800000+02:00</th>\n",
              "      <td>-50.0</td>\n",
              "      <td>-65.0</td>\n",
              "      <td>-12.0</td>\n",
              "      <td>-99.8</td>\n",
              "    </tr>\n",
              "    <tr>\n",
              "      <th>2017-10-01 06:19:23.900000+02:00</th>\n",
              "      <td>-24.0</td>\n",
              "      <td>-113.0</td>\n",
              "      <td>-88.0</td>\n",
              "      <td>-98.5</td>\n",
              "    </tr>\n",
              "  </tbody>\n",
              "</table>\n",
              "<p>268260 rows × 4 columns</p>\n",
              "</div>"
            ],
            "text/plain": [
              "                                  tx rip  flow th  abd rip   oesp\n",
              "2017-09-30 22:52:18+02:00         -351.0    133.0    -22.0  -99.3\n",
              "2017-09-30 22:52:18.100000+02:00  -670.0     48.0    -20.0  -99.4\n",
              "2017-09-30 22:52:18.200000+02:00  -813.0    -22.0    -16.0  -99.4\n",
              "2017-09-30 22:52:18.300000+02:00  -908.0    -91.0    -12.0 -100.4\n",
              "2017-09-30 22:52:18.400000+02:00  -946.0   -160.0     -8.0  -99.8\n",
              "...                                  ...      ...      ...    ...\n",
              "2017-10-01 06:19:23.500000+02:00  -111.0    135.0    260.0 -100.3\n",
              "2017-10-01 06:19:23.600000+02:00   -94.0     55.0    148.0  -99.6\n",
              "2017-10-01 06:19:23.700000+02:00   -74.0     -8.0     64.0  -99.4\n",
              "2017-10-01 06:19:23.800000+02:00   -50.0    -65.0    -12.0  -99.8\n",
              "2017-10-01 06:19:23.900000+02:00   -24.0   -113.0    -88.0  -98.5\n",
              "\n",
              "[268260 rows x 4 columns]"
            ]
          },
          "metadata": {
            "tags": []
          },
          "execution_count": 16
        }
      ]
    },
    {
      "cell_type": "markdown",
      "metadata": {
        "id": "4lyzKCauzjLf"
      },
      "source": [
        "### Thông tin về các biến cố mục tiêu"
      ]
    },
    {
      "cell_type": "code",
      "metadata": {
        "colab": {
          "base_uri": "https://localhost:8080/"
        },
        "id": "P3XZs580zh0S",
        "outputId": "860ae755-be25-4740-9b74-6cd0c2168c04"
      },
      "source": [
        "db.patient_db['Resp_evt'].keys()"
      ],
      "execution_count": 17,
      "outputs": [
        {
          "output_type": "execute_result",
          "data": {
            "text/plain": [
              "dict_keys(['Evt_list', 'Raw', 'Label', 'Code'])"
            ]
          },
          "metadata": {
            "tags": []
          },
          "execution_count": 17
        }
      ]
    },
    {
      "cell_type": "code",
      "metadata": {
        "colab": {
          "base_uri": "https://localhost:8080/",
          "height": 419
        },
        "id": "1G2usfY-zl36",
        "outputId": "896e3962-7b2c-4757-93fc-706f63092f1b"
      },
      "source": [
        "db.patient_db['Resp_evt']['Evt_list']"
      ],
      "execution_count": 18,
      "outputs": [
        {
          "output_type": "execute_result",
          "data": {
            "text/html": [
              "<div>\n",
              "<style scoped>\n",
              "    .dataframe tbody tr th:only-of-type {\n",
              "        vertical-align: middle;\n",
              "    }\n",
              "\n",
              "    .dataframe tbody tr th {\n",
              "        vertical-align: top;\n",
              "    }\n",
              "\n",
              "    .dataframe thead th {\n",
              "        text-align: right;\n",
              "    }\n",
              "</style>\n",
              "<table border=\"1\" class=\"dataframe\">\n",
              "  <thead>\n",
              "    <tr style=\"text-align: right;\">\n",
              "      <th></th>\n",
              "      <th>evt_start</th>\n",
              "      <th>evt_stop</th>\n",
              "      <th>evt_info</th>\n",
              "      <th>evt_value</th>\n",
              "    </tr>\n",
              "  </thead>\n",
              "  <tbody>\n",
              "    <tr>\n",
              "      <th>0</th>\n",
              "      <td>2017-09-30 23:20:53.900000+02:00</td>\n",
              "      <td>2017-09-30 23:21:04.700000+02:00</td>\n",
              "      <td>10.9</td>\n",
              "      <td>4.0</td>\n",
              "    </tr>\n",
              "    <tr>\n",
              "      <th>1</th>\n",
              "      <td>2017-09-30 23:22:36.400000+02:00</td>\n",
              "      <td>2017-09-30 23:23:03.800000+02:00</td>\n",
              "      <td>27.5</td>\n",
              "      <td>3.0</td>\n",
              "    </tr>\n",
              "    <tr>\n",
              "      <th>2</th>\n",
              "      <td>2017-09-30 23:23:20.600000+02:00</td>\n",
              "      <td>2017-09-30 23:23:29.900000+02:00</td>\n",
              "      <td>9.4</td>\n",
              "      <td>4.0</td>\n",
              "    </tr>\n",
              "    <tr>\n",
              "      <th>3</th>\n",
              "      <td>2017-09-30 23:25:38.400000+02:00</td>\n",
              "      <td>2017-09-30 23:26:07.400000+02:00</td>\n",
              "      <td>29.1</td>\n",
              "      <td>2.0</td>\n",
              "    </tr>\n",
              "    <tr>\n",
              "      <th>4</th>\n",
              "      <td>2017-09-30 23:26:12.100000+02:00</td>\n",
              "      <td>2017-09-30 23:26:56.700000+02:00</td>\n",
              "      <td>44.7</td>\n",
              "      <td>2.0</td>\n",
              "    </tr>\n",
              "    <tr>\n",
              "      <th>...</th>\n",
              "      <td>...</td>\n",
              "      <td>...</td>\n",
              "      <td>...</td>\n",
              "      <td>...</td>\n",
              "    </tr>\n",
              "    <tr>\n",
              "      <th>81</th>\n",
              "      <td>2017-10-01 05:43:48.900000+02:00</td>\n",
              "      <td>2017-10-01 05:46:38+02:00</td>\n",
              "      <td>169.2</td>\n",
              "      <td>1.0</td>\n",
              "    </tr>\n",
              "    <tr>\n",
              "      <th>82</th>\n",
              "      <td>2017-10-01 05:46:38.400000+02:00</td>\n",
              "      <td>2017-10-01 05:46:55+02:00</td>\n",
              "      <td>16.7</td>\n",
              "      <td>3.0</td>\n",
              "    </tr>\n",
              "    <tr>\n",
              "      <th>83</th>\n",
              "      <td>2017-10-01 05:47:17.300000+02:00</td>\n",
              "      <td>2017-10-01 06:06:20.900000+02:00</td>\n",
              "      <td>1143.7</td>\n",
              "      <td>2.0</td>\n",
              "    </tr>\n",
              "    <tr>\n",
              "      <th>84</th>\n",
              "      <td>2017-10-01 06:06:28.400000+02:00</td>\n",
              "      <td>2017-10-01 06:06:40.300000+02:00</td>\n",
              "      <td>12.0</td>\n",
              "      <td>4.0</td>\n",
              "    </tr>\n",
              "    <tr>\n",
              "      <th>85</th>\n",
              "      <td>2017-10-01 06:08:02.500000+02:00</td>\n",
              "      <td>2017-10-01 06:15:29.900000+02:00</td>\n",
              "      <td>447.5</td>\n",
              "      <td>2.0</td>\n",
              "    </tr>\n",
              "  </tbody>\n",
              "</table>\n",
              "<p>86 rows × 4 columns</p>\n",
              "</div>"
            ],
            "text/plain": [
              "                          evt_start  ... evt_value\n",
              "0  2017-09-30 23:20:53.900000+02:00  ...       4.0\n",
              "1  2017-09-30 23:22:36.400000+02:00  ...       3.0\n",
              "2  2017-09-30 23:23:20.600000+02:00  ...       4.0\n",
              "3  2017-09-30 23:25:38.400000+02:00  ...       2.0\n",
              "4  2017-09-30 23:26:12.100000+02:00  ...       2.0\n",
              "..                              ...  ...       ...\n",
              "81 2017-10-01 05:43:48.900000+02:00  ...       1.0\n",
              "82 2017-10-01 05:46:38.400000+02:00  ...       3.0\n",
              "83 2017-10-01 05:47:17.300000+02:00  ...       2.0\n",
              "84 2017-10-01 06:06:28.400000+02:00  ...       4.0\n",
              "85 2017-10-01 06:08:02.500000+02:00  ...       2.0\n",
              "\n",
              "[86 rows x 4 columns]"
            ]
          },
          "metadata": {
            "tags": []
          },
          "execution_count": 18
        }
      ]
    },
    {
      "cell_type": "code",
      "metadata": {
        "colab": {
          "base_uri": "https://localhost:8080/",
          "height": 419
        },
        "id": "HNxTdVm7zqWj",
        "outputId": "8cf1baeb-f7c4-4f68-8e91-1fd8334e6560"
      },
      "source": [
        "db.patient_db['Resp_evt']['Raw']"
      ],
      "execution_count": 19,
      "outputs": [
        {
          "output_type": "execute_result",
          "data": {
            "text/html": [
              "<div>\n",
              "<style scoped>\n",
              "    .dataframe tbody tr th:only-of-type {\n",
              "        vertical-align: middle;\n",
              "    }\n",
              "\n",
              "    .dataframe tbody tr th {\n",
              "        vertical-align: top;\n",
              "    }\n",
              "\n",
              "    .dataframe thead th {\n",
              "        text-align: right;\n",
              "    }\n",
              "</style>\n",
              "<table border=\"1\" class=\"dataframe\">\n",
              "  <thead>\n",
              "    <tr style=\"text-align: right;\">\n",
              "      <th></th>\n",
              "      <th>value</th>\n",
              "    </tr>\n",
              "  </thead>\n",
              "  <tbody>\n",
              "    <tr>\n",
              "      <th>2017-09-30 23:00:00+02:00</th>\n",
              "      <td>0</td>\n",
              "    </tr>\n",
              "    <tr>\n",
              "      <th>2017-09-30 23:00:00.100000+02:00</th>\n",
              "      <td>0</td>\n",
              "    </tr>\n",
              "    <tr>\n",
              "      <th>2017-09-30 23:00:00.200000+02:00</th>\n",
              "      <td>0</td>\n",
              "    </tr>\n",
              "    <tr>\n",
              "      <th>2017-09-30 23:00:00.300000+02:00</th>\n",
              "      <td>0</td>\n",
              "    </tr>\n",
              "    <tr>\n",
              "      <th>2017-09-30 23:00:00.400000+02:00</th>\n",
              "      <td>0</td>\n",
              "    </tr>\n",
              "    <tr>\n",
              "      <th>...</th>\n",
              "      <td>...</td>\n",
              "    </tr>\n",
              "    <tr>\n",
              "      <th>2017-10-01 06:15:30.400000+02:00</th>\n",
              "      <td>2</td>\n",
              "    </tr>\n",
              "    <tr>\n",
              "      <th>2017-10-01 06:15:30.500000+02:00</th>\n",
              "      <td>2</td>\n",
              "    </tr>\n",
              "    <tr>\n",
              "      <th>2017-10-01 06:15:30.600000+02:00</th>\n",
              "      <td>2</td>\n",
              "    </tr>\n",
              "    <tr>\n",
              "      <th>2017-10-01 06:15:30.700000+02:00</th>\n",
              "      <td>2</td>\n",
              "    </tr>\n",
              "    <tr>\n",
              "      <th>2017-10-01 06:15:30.800000+02:00</th>\n",
              "      <td>2</td>\n",
              "    </tr>\n",
              "  </tbody>\n",
              "</table>\n",
              "<p>261309 rows × 1 columns</p>\n",
              "</div>"
            ],
            "text/plain": [
              "                                  value\n",
              "2017-09-30 23:00:00+02:00             0\n",
              "2017-09-30 23:00:00.100000+02:00      0\n",
              "2017-09-30 23:00:00.200000+02:00      0\n",
              "2017-09-30 23:00:00.300000+02:00      0\n",
              "2017-09-30 23:00:00.400000+02:00      0\n",
              "...                                 ...\n",
              "2017-10-01 06:15:30.400000+02:00      2\n",
              "2017-10-01 06:15:30.500000+02:00      2\n",
              "2017-10-01 06:15:30.600000+02:00      2\n",
              "2017-10-01 06:15:30.700000+02:00      2\n",
              "2017-10-01 06:15:30.800000+02:00      2\n",
              "\n",
              "[261309 rows x 1 columns]"
            ]
          },
          "metadata": {
            "tags": []
          },
          "execution_count": 19
        }
      ]
    },
    {
      "cell_type": "code",
      "metadata": {
        "colab": {
          "base_uri": "https://localhost:8080/",
          "height": 419
        },
        "id": "UBjV86CnztNS",
        "outputId": "c626dd5f-746a-4e82-9e47-2e11bef867e1"
      },
      "source": [
        "db.patient_db['Resp_evt']['Label']"
      ],
      "execution_count": 20,
      "outputs": [
        {
          "output_type": "execute_result",
          "data": {
            "text/html": [
              "<div>\n",
              "<style scoped>\n",
              "    .dataframe tbody tr th:only-of-type {\n",
              "        vertical-align: middle;\n",
              "    }\n",
              "\n",
              "    .dataframe tbody tr th {\n",
              "        vertical-align: top;\n",
              "    }\n",
              "\n",
              "    .dataframe thead th {\n",
              "        text-align: right;\n",
              "    }\n",
              "</style>\n",
              "<table border=\"1\" class=\"dataframe\">\n",
              "  <thead>\n",
              "    <tr style=\"text-align: right;\">\n",
              "      <th></th>\n",
              "      <th>Resp_score</th>\n",
              "      <th>Resp_lab</th>\n",
              "    </tr>\n",
              "  </thead>\n",
              "  <tbody>\n",
              "    <tr>\n",
              "      <th>0</th>\n",
              "      <td>0.0</td>\n",
              "      <td>0.0</td>\n",
              "    </tr>\n",
              "    <tr>\n",
              "      <th>1</th>\n",
              "      <td>0.0</td>\n",
              "      <td>0.0</td>\n",
              "    </tr>\n",
              "    <tr>\n",
              "      <th>2</th>\n",
              "      <td>0.0</td>\n",
              "      <td>0.0</td>\n",
              "    </tr>\n",
              "    <tr>\n",
              "      <th>3</th>\n",
              "      <td>0.0</td>\n",
              "      <td>0.0</td>\n",
              "    </tr>\n",
              "    <tr>\n",
              "      <th>4</th>\n",
              "      <td>0.0</td>\n",
              "      <td>0.0</td>\n",
              "    </tr>\n",
              "    <tr>\n",
              "      <th>...</th>\n",
              "      <td>...</td>\n",
              "      <td>...</td>\n",
              "    </tr>\n",
              "    <tr>\n",
              "      <th>5359</th>\n",
              "      <td>0.0</td>\n",
              "      <td>0.0</td>\n",
              "    </tr>\n",
              "    <tr>\n",
              "      <th>5360</th>\n",
              "      <td>0.0</td>\n",
              "      <td>0.0</td>\n",
              "    </tr>\n",
              "    <tr>\n",
              "      <th>5361</th>\n",
              "      <td>0.0</td>\n",
              "      <td>0.0</td>\n",
              "    </tr>\n",
              "    <tr>\n",
              "      <th>5362</th>\n",
              "      <td>0.0</td>\n",
              "      <td>0.0</td>\n",
              "    </tr>\n",
              "    <tr>\n",
              "      <th>5363</th>\n",
              "      <td>0.0</td>\n",
              "      <td>0.0</td>\n",
              "    </tr>\n",
              "  </tbody>\n",
              "</table>\n",
              "<p>5364 rows × 2 columns</p>\n",
              "</div>"
            ],
            "text/plain": [
              "      Resp_score  Resp_lab\n",
              "0            0.0       0.0\n",
              "1            0.0       0.0\n",
              "2            0.0       0.0\n",
              "3            0.0       0.0\n",
              "4            0.0       0.0\n",
              "...          ...       ...\n",
              "5359         0.0       0.0\n",
              "5360         0.0       0.0\n",
              "5361         0.0       0.0\n",
              "5362         0.0       0.0\n",
              "5363         0.0       0.0\n",
              "\n",
              "[5364 rows x 2 columns]"
            ]
          },
          "metadata": {
            "tags": []
          },
          "execution_count": 20
        }
      ]
    },
    {
      "cell_type": "code",
      "metadata": {
        "colab": {
          "base_uri": "https://localhost:8080/"
        },
        "id": "O3nwMVGpzw5q",
        "outputId": "36ecb19e-6c61-4f79-a3a0-3381dcfbf394"
      },
      "source": [
        "db.patient_db['Resp_evt']['Code']"
      ],
      "execution_count": 22,
      "outputs": [
        {
          "output_type": "execute_result",
          "data": {
            "text/plain": [
              "{'CA': 6, 'CH': 4, 'FL': 1, 'MA': 8, 'OA': 5, 'OH': 3, 'RERA': 2}"
            ]
          },
          "metadata": {
            "tags": []
          },
          "execution_count": 22
        }
      ]
    },
    {
      "cell_type": "markdown",
      "metadata": {
        "id": "B6XU3nyFzze_"
      },
      "source": [
        "### Thông tin về indexing và labelling"
      ]
    },
    {
      "cell_type": "code",
      "metadata": {
        "colab": {
          "base_uri": "https://localhost:8080/",
          "height": 419
        },
        "id": "v_RAkO6RzyxK",
        "outputId": "ebaf261d-7efd-43e7-d17f-b1d8eb75e0ff"
      },
      "source": [
        "db.patient_db['Sampling']['Label']"
      ],
      "execution_count": 23,
      "outputs": [
        {
          "output_type": "execute_result",
          "data": {
            "text/html": [
              "<div>\n",
              "<style scoped>\n",
              "    .dataframe tbody tr th:only-of-type {\n",
              "        vertical-align: middle;\n",
              "    }\n",
              "\n",
              "    .dataframe tbody tr th {\n",
              "        vertical-align: top;\n",
              "    }\n",
              "\n",
              "    .dataframe thead th {\n",
              "        text-align: right;\n",
              "    }\n",
              "</style>\n",
              "<table border=\"1\" class=\"dataframe\">\n",
              "  <thead>\n",
              "    <tr style=\"text-align: right;\">\n",
              "      <th></th>\n",
              "      <th>start</th>\n",
              "      <th>end</th>\n",
              "      <th>Hypno_score</th>\n",
              "      <th>Hypno_lab</th>\n",
              "      <th>Resp_score</th>\n",
              "      <th>Resp_lab</th>\n",
              "    </tr>\n",
              "  </thead>\n",
              "  <tbody>\n",
              "    <tr>\n",
              "      <th>0</th>\n",
              "      <td>16550</td>\n",
              "      <td>16650</td>\n",
              "      <td>30.0</td>\n",
              "      <td>1.0</td>\n",
              "      <td>0.0</td>\n",
              "      <td>0.0</td>\n",
              "    </tr>\n",
              "    <tr>\n",
              "      <th>1</th>\n",
              "      <td>16600</td>\n",
              "      <td>16700</td>\n",
              "      <td>80.0</td>\n",
              "      <td>1.0</td>\n",
              "      <td>0.0</td>\n",
              "      <td>0.0</td>\n",
              "    </tr>\n",
              "    <tr>\n",
              "      <th>2</th>\n",
              "      <td>16650</td>\n",
              "      <td>16750</td>\n",
              "      <td>100.0</td>\n",
              "      <td>1.0</td>\n",
              "      <td>0.0</td>\n",
              "      <td>0.0</td>\n",
              "    </tr>\n",
              "    <tr>\n",
              "      <th>3</th>\n",
              "      <td>16700</td>\n",
              "      <td>16800</td>\n",
              "      <td>100.0</td>\n",
              "      <td>1.0</td>\n",
              "      <td>0.0</td>\n",
              "      <td>0.0</td>\n",
              "    </tr>\n",
              "    <tr>\n",
              "      <th>4</th>\n",
              "      <td>16750</td>\n",
              "      <td>16850</td>\n",
              "      <td>100.0</td>\n",
              "      <td>1.0</td>\n",
              "      <td>0.0</td>\n",
              "      <td>0.0</td>\n",
              "    </tr>\n",
              "    <tr>\n",
              "      <th>...</th>\n",
              "      <td>...</td>\n",
              "      <td>...</td>\n",
              "      <td>...</td>\n",
              "      <td>...</td>\n",
              "      <td>...</td>\n",
              "      <td>...</td>\n",
              "    </tr>\n",
              "    <tr>\n",
              "      <th>4862</th>\n",
              "      <td>265650</td>\n",
              "      <td>265750</td>\n",
              "      <td>100.0</td>\n",
              "      <td>2.0</td>\n",
              "      <td>100.0</td>\n",
              "      <td>2.0</td>\n",
              "    </tr>\n",
              "    <tr>\n",
              "      <th>4863</th>\n",
              "      <td>265700</td>\n",
              "      <td>265800</td>\n",
              "      <td>100.0</td>\n",
              "      <td>2.0</td>\n",
              "      <td>100.0</td>\n",
              "      <td>2.0</td>\n",
              "    </tr>\n",
              "    <tr>\n",
              "      <th>4864</th>\n",
              "      <td>265750</td>\n",
              "      <td>265850</td>\n",
              "      <td>100.0</td>\n",
              "      <td>2.0</td>\n",
              "      <td>100.0</td>\n",
              "      <td>2.0</td>\n",
              "    </tr>\n",
              "    <tr>\n",
              "      <th>4865</th>\n",
              "      <td>265800</td>\n",
              "      <td>265900</td>\n",
              "      <td>100.0</td>\n",
              "      <td>2.0</td>\n",
              "      <td>100.0</td>\n",
              "      <td>2.0</td>\n",
              "    </tr>\n",
              "    <tr>\n",
              "      <th>4866</th>\n",
              "      <td>265850</td>\n",
              "      <td>265950</td>\n",
              "      <td>70.0</td>\n",
              "      <td>2.0</td>\n",
              "      <td>70.0</td>\n",
              "      <td>2.0</td>\n",
              "    </tr>\n",
              "  </tbody>\n",
              "</table>\n",
              "<p>4867 rows × 6 columns</p>\n",
              "</div>"
            ],
            "text/plain": [
              "       start     end  Hypno_score  Hypno_lab  Resp_score  Resp_lab\n",
              "0      16550   16650         30.0        1.0         0.0       0.0\n",
              "1      16600   16700         80.0        1.0         0.0       0.0\n",
              "2      16650   16750        100.0        1.0         0.0       0.0\n",
              "3      16700   16800        100.0        1.0         0.0       0.0\n",
              "4      16750   16850        100.0        1.0         0.0       0.0\n",
              "...      ...     ...          ...        ...         ...       ...\n",
              "4862  265650  265750        100.0        2.0       100.0       2.0\n",
              "4863  265700  265800        100.0        2.0       100.0       2.0\n",
              "4864  265750  265850        100.0        2.0       100.0       2.0\n",
              "4865  265800  265900        100.0        2.0       100.0       2.0\n",
              "4866  265850  265950         70.0        2.0        70.0       2.0\n",
              "\n",
              "[4867 rows x 6 columns]"
            ]
          },
          "metadata": {
            "tags": []
          },
          "execution_count": 23
        }
      ]
    },
    {
      "cell_type": "code",
      "metadata": {
        "colab": {
          "base_uri": "https://localhost:8080/",
          "height": 419
        },
        "id": "9PM78V_pz4hB",
        "outputId": "3a48e202-b775-42cd-8cbc-71c1d20a8f4e"
      },
      "source": [
        "db.patient_db['Sampling']['Windows']"
      ],
      "execution_count": 24,
      "outputs": [
        {
          "output_type": "execute_result",
          "data": {
            "text/html": [
              "<div>\n",
              "<style scoped>\n",
              "    .dataframe tbody tr th:only-of-type {\n",
              "        vertical-align: middle;\n",
              "    }\n",
              "\n",
              "    .dataframe tbody tr th {\n",
              "        vertical-align: top;\n",
              "    }\n",
              "\n",
              "    .dataframe thead th {\n",
              "        text-align: right;\n",
              "    }\n",
              "</style>\n",
              "<table border=\"1\" class=\"dataframe\">\n",
              "  <thead>\n",
              "    <tr style=\"text-align: right;\">\n",
              "      <th></th>\n",
              "      <th>start</th>\n",
              "      <th>end</th>\n",
              "    </tr>\n",
              "  </thead>\n",
              "  <tbody>\n",
              "    <tr>\n",
              "      <th>0</th>\n",
              "      <td>0</td>\n",
              "      <td>100</td>\n",
              "    </tr>\n",
              "    <tr>\n",
              "      <th>1</th>\n",
              "      <td>50</td>\n",
              "      <td>150</td>\n",
              "    </tr>\n",
              "    <tr>\n",
              "      <th>2</th>\n",
              "      <td>100</td>\n",
              "      <td>200</td>\n",
              "    </tr>\n",
              "    <tr>\n",
              "      <th>3</th>\n",
              "      <td>150</td>\n",
              "      <td>250</td>\n",
              "    </tr>\n",
              "    <tr>\n",
              "      <th>4</th>\n",
              "      <td>200</td>\n",
              "      <td>300</td>\n",
              "    </tr>\n",
              "    <tr>\n",
              "      <th>...</th>\n",
              "      <td>...</td>\n",
              "      <td>...</td>\n",
              "    </tr>\n",
              "    <tr>\n",
              "      <th>5359</th>\n",
              "      <td>267950</td>\n",
              "      <td>268050</td>\n",
              "    </tr>\n",
              "    <tr>\n",
              "      <th>5360</th>\n",
              "      <td>268000</td>\n",
              "      <td>268100</td>\n",
              "    </tr>\n",
              "    <tr>\n",
              "      <th>5361</th>\n",
              "      <td>268050</td>\n",
              "      <td>268150</td>\n",
              "    </tr>\n",
              "    <tr>\n",
              "      <th>5362</th>\n",
              "      <td>268100</td>\n",
              "      <td>268200</td>\n",
              "    </tr>\n",
              "    <tr>\n",
              "      <th>5363</th>\n",
              "      <td>268150</td>\n",
              "      <td>268250</td>\n",
              "    </tr>\n",
              "  </tbody>\n",
              "</table>\n",
              "<p>5364 rows × 2 columns</p>\n",
              "</div>"
            ],
            "text/plain": [
              "       start     end\n",
              "0          0     100\n",
              "1         50     150\n",
              "2        100     200\n",
              "3        150     250\n",
              "4        200     300\n",
              "...      ...     ...\n",
              "5359  267950  268050\n",
              "5360  268000  268100\n",
              "5361  268050  268150\n",
              "5362  268100  268200\n",
              "5363  268150  268250\n",
              "\n",
              "[5364 rows x 2 columns]"
            ]
          },
          "metadata": {
            "tags": []
          },
          "execution_count": 24
        }
      ]
    },
    {
      "cell_type": "markdown",
      "metadata": {
        "id": "3ZaavmeRz972"
      },
      "source": [
        "### Algorithm dán nhãn"
      ]
    },
    {
      "cell_type": "markdown",
      "metadata": {
        "id": "GA0VATLZ0Qay"
      },
      "source": [
        "### Lưu dữ liệu thành pickle file"
      ]
    },
    {
      "cell_type": "code",
      "metadata": {
        "colab": {
          "base_uri": "https://localhost:8080/"
        },
        "id": "YofjvuJ8z8_W",
        "outputId": "9f7ec7e5-ecb6-4730-c5f3-41ea07145fed"
      },
      "source": [
        "db.save_to_pickle()"
      ],
      "execution_count": 25,
      "outputs": [
        {
          "output_type": "stream",
          "text": [
            "Lưu thành công gói dữ liệu cho bệnh nhân Res_signal_samp\n"
          ],
          "name": "stdout"
        }
      ]
    }
  ]
}