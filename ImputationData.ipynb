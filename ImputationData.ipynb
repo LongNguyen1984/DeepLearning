{
  "nbformat": 4,
  "nbformat_minor": 0,
  "metadata": {
    "colab": {
      "name": "ImputationData.ipynb",
      "provenance": [],
      "authorship_tag": "ABX9TyO4+sTC8WEMY5Bgrrnej/oe",
      "include_colab_link": true
    },
    "kernelspec": {
      "name": "python3",
      "display_name": "Python 3"
    }
  },
  "cells": [
    {
      "cell_type": "markdown",
      "metadata": {
        "id": "view-in-github",
        "colab_type": "text"
      },
      "source": [
        "<a href=\"https://colab.research.google.com/github/LongNguyen1984/DeepLearning/blob/master/ImputationData.ipynb\" target=\"_parent\"><img src=\"https://colab.research.google.com/assets/colab-badge.svg\" alt=\"Open In Colab\"/></a>"
      ]
    },
    {
      "cell_type": "code",
      "metadata": {
        "id": "t-hBecadFZoo",
        "colab_type": "code",
        "colab": {}
      },
      "source": [
        "import numpy as np\n",
        "import pandas as pd\n",
        "\n",
        "df = pd.read_csv('https://raw.githubusercontent.com/jbrownlee/Datasets/master/horse-colic.csv', header = None, na_values='?')"
      ],
      "execution_count": 4,
      "outputs": []
    },
    {
      "cell_type": "code",
      "metadata": {
        "id": "f4p7kYNHdUCK",
        "colab_type": "code",
        "colab": {
          "base_uri": "https://localhost:8080/",
          "height": 34
        },
        "outputId": "a56ea184-ecc4-416e-e683-b0d07eda172a"
      },
      "source": [
        "df.shape[1]"
      ],
      "execution_count": 13,
      "outputs": [
        {
          "output_type": "execute_result",
          "data": {
            "text/plain": [
              "28"
            ]
          },
          "metadata": {
            "tags": []
          },
          "execution_count": 13
        }
      ]
    },
    {
      "cell_type": "code",
      "metadata": {
        "id": "nyPPcGECF99k",
        "colab_type": "code",
        "colab": {
          "base_uri": "https://localhost:8080/",
          "height": 153
        },
        "outputId": "0b87483d-3d05-42e4-c905-ceca2fb2e32e"
      },
      "source": [
        "print(df.head())"
      ],
      "execution_count": 5,
      "outputs": [
        {
          "output_type": "stream",
          "text": [
            "    0   1        2     3      4     5    6   ...   21   22  23     24  25  26  27\n",
            "0  2.0   1   530101  38.5   66.0  28.0  3.0  ...  NaN  2.0   2  11300   0   0   2\n",
            "1  1.0   1   534817  39.2   88.0  20.0  NaN  ...  2.0  3.0   2   2208   0   0   2\n",
            "2  2.0   1   530334  38.3   40.0  24.0  1.0  ...  NaN  1.0   2      0   0   0   1\n",
            "3  1.0   9  5290409  39.1  164.0  84.0  4.0  ...  5.3  2.0   1   2208   0   0   1\n",
            "4  2.0   1   530255  37.3  104.0  35.0  NaN  ...  NaN  2.0   2   4300   0   0   2\n",
            "\n",
            "[5 rows x 28 columns]\n"
          ],
          "name": "stdout"
        }
      ]
    },
    {
      "cell_type": "code",
      "metadata": {
        "id": "Ne_eF09Dc7Ht",
        "colab_type": "code",
        "colab": {
          "base_uri": "https://localhost:8080/",
          "height": 493
        },
        "outputId": "19a641b4-3d19-4dbf-894c-fb8f18e07c72"
      },
      "source": [
        "for i in range(df.shape[1]):\n",
        "  # count number of rows with missing values\n",
        "  n_miss = df[[i]].isnull().sum()\n",
        "  perc = n_miss / df.shape[0]*100\n",
        "  print('> %d Missing: %d (%.1f%%)' % (i, n_miss, perc))"
      ],
      "execution_count": 12,
      "outputs": [
        {
          "output_type": "stream",
          "text": [
            "> 0 Missing: 1 (0.3%)\n",
            "> 1 Missing: 0 (0.0%)\n",
            "> 2 Missing: 0 (0.0%)\n",
            "> 3 Missing: 60 (20.0%)\n",
            "> 4 Missing: 24 (8.0%)\n",
            "> 5 Missing: 58 (19.3%)\n",
            "> 6 Missing: 56 (18.7%)\n",
            "> 7 Missing: 69 (23.0%)\n",
            "> 8 Missing: 47 (15.7%)\n",
            "> 9 Missing: 32 (10.7%)\n",
            "> 10 Missing: 55 (18.3%)\n",
            "> 11 Missing: 44 (14.7%)\n",
            "> 12 Missing: 56 (18.7%)\n",
            "> 13 Missing: 104 (34.7%)\n",
            "> 14 Missing: 106 (35.3%)\n",
            "> 15 Missing: 247 (82.3%)\n",
            "> 16 Missing: 102 (34.0%)\n",
            "> 17 Missing: 118 (39.3%)\n",
            "> 18 Missing: 29 (9.7%)\n",
            "> 19 Missing: 33 (11.0%)\n",
            "> 20 Missing: 165 (55.0%)\n",
            "> 21 Missing: 198 (66.0%)\n",
            "> 22 Missing: 1 (0.3%)\n",
            "> 23 Missing: 0 (0.0%)\n",
            "> 24 Missing: 0 (0.0%)\n",
            "> 25 Missing: 0 (0.0%)\n",
            "> 26 Missing: 0 (0.0%)\n",
            "> 27 Missing: 0 (0.0%)\n"
          ],
          "name": "stdout"
        }
      ]
    },
    {
      "cell_type": "markdown",
      "metadata": {
        "id": "O1SVejqvfjID",
        "colab_type": "text"
      },
      "source": [
        "# Statistical Imputation with SimpleImputer"
      ]
    },
    {
      "cell_type": "code",
      "metadata": {
        "id": "9qnWoD0weI4s",
        "colab_type": "code",
        "colab": {
          "base_uri": "https://localhost:8080/",
          "height": 51
        },
        "outputId": "c00e544a-f1f6-44c1-bbc8-61a72b6df5c9"
      },
      "source": [
        "from numpy import isnan\n",
        "import pandas as pd\n",
        "from sklearn.impute import SimpleImputer\n",
        "# read dataset\n",
        "df = pd.read_csv('https://raw.githubusercontent.com/jbrownlee/Datasets/master/horse-colic.csv', header = None, na_values='?' )\n",
        "# split into input and output elements\n",
        "data =df.values\n",
        "ix = [i for i in range(data.shape[1]) if i !=23]\n",
        "X, y = data[:, ix], data[:, 23]\n",
        "# summarize total missing\n",
        "print('Missing: %d' % sum(isnan(X).flatten()))\n",
        "\n",
        "# define imputer\n",
        "imputer = SimpleImputer(strategy='mean')\n",
        "# fit on the dataset\n",
        "imputer.fit(X)\n",
        "# transform the dataset\n",
        "Xtrans = imputer.transform(X)\n",
        "# statistical imputation transform for the horse colic dataset\n",
        "print('Missing: %d' % sum(isnan(Xtrans).flatten()))"
      ],
      "execution_count": 17,
      "outputs": [
        {
          "output_type": "stream",
          "text": [
            "Missing: 1605\n",
            "Missing: 0\n"
          ],
          "name": "stdout"
        }
      ]
    },
    {
      "cell_type": "code",
      "metadata": {
        "id": "dwgbyQfQjMWC",
        "colab_type": "code",
        "colab": {
          "base_uri": "https://localhost:8080/",
          "height": 34
        },
        "outputId": "4366cf6f-0a23-469d-bfde-b83af8b0c2f0"
      },
      "source": [
        "from numpy import mean\n",
        "from numpy import std\n",
        "from pandas import read_csv\n",
        "from sklearn.ensemble import RandomForestClassifier\n",
        "from sklearn.impute import SimpleImputer\n",
        "from sklearn.model_selection import cross_val_score\n",
        "from sklearn.model_selection import RepeatedStratifiedKFold\n",
        "from sklearn.pipeline import Pipeline\n",
        "# load dataset\n",
        "df = read_csv('https://raw.githubusercontent.com/jbrownlee/Datasets/master/horse-colic.csv', header = None, na_values='?')\n",
        "#split into input and output elements\n",
        "data = df.values\n",
        "ix = [i for i in range(data.shape[1]) if i !=23]\n",
        "X, y = data[:, ix], data[:, 23]\n",
        "# define modeling pipeline\n",
        "model = RandomForestClassifier()\n",
        "imputer = SimpleImputer(strategy='mean')\n",
        "pipeline = Pipeline(steps=[('i', imputer),('m', model)])\n",
        "# define model evaluation\n",
        "cv = RepeatedStratifiedKFold(n_splits=10, n_repeats=5, random_state=1)\n",
        "# evaluate model\n",
        "scores = cross_val_score(pipeline, X, y, scoring='accuracy', cv = cv, n_jobs=-1)\n",
        "print('Mean Accuarcy: %.3f (%.3f)' % (mean(scores), std(scores)))"
      ],
      "execution_count": 21,
      "outputs": [
        {
          "output_type": "stream",
          "text": [
            "Mean Accuarcy: 0.867 (0.061)\n"
          ],
          "name": "stdout"
        }
      ]
    },
    {
      "cell_type": "markdown",
      "metadata": {
        "id": "Bm5kcHf3qbAZ",
        "colab_type": "text"
      },
      "source": [
        "# Comparing Different Imputed Statistics"
      ]
    },
    {
      "cell_type": "code",
      "metadata": {
        "id": "meuxURWnp1MV",
        "colab_type": "code",
        "colab": {
          "base_uri": "https://localhost:8080/",
          "height": 334
        },
        "outputId": "4770b3fb-eb37-4b9f-bb3a-d0af2c982774"
      },
      "source": [
        "# compare statistical imputation strategies for the horse colic dataset\n",
        "from numpy import mean\n",
        "from numpy import std\n",
        "from pandas import read_csv\n",
        "from sklearn.impute import SimpleImputer\n",
        "from sklearn.model_selection import cross_val_score\n",
        "from sklearn.model_selection import RepeatedStratifiedKFold\n",
        "from sklearn.pipeline import Pipeline\n",
        "from matplotlib import pyplot\n",
        "\n",
        "# load dataset\n",
        "df = read_csv('https://raw.githubusercontent.com/jbrownlee/Datasets/master/horse-colic.csv', header = None, na_values='?')\n",
        "# split into input and output elements\n",
        "data = df.values\n",
        "ix = [i for i in range(data.shape[1]) if i !=23]\n",
        "X, y = data[:, ix], data[:,23]\n",
        "# evaluate each strategy on the dataset\n",
        "results = list()\n",
        "strategies = ['mean', 'median', 'most_frequent', 'constant']\n",
        "for s in strategies:\n",
        "  # create the modeling pipeline\n",
        "  model = RandomForestClassifier()\n",
        "  imputer = SimpleImputer(strategy=s)\n",
        "  pipeline = Pipeline(steps=[('i', imputer),('m', model)])\n",
        "  # evaluate the model\n",
        "  cv = RepeatedStratifiedKFold(n_splits=10, n_repeats=5, random_state=1)\n",
        "  scores = cross_val_score(pipeline, X, y, scoring='accuracy', cv=cv, n_jobs=-1)\n",
        "  #store results\n",
        "  results.append(scores)\n",
        "  print('>%s %.3f (%.3f)' % (s, mean(scores), std(scores)))\n",
        "# plot model performance for comparison\n",
        "pyplot.boxplot(results, labels=strategies, showmeans=True)\n",
        "pyplot.show()"
      ],
      "execution_count": 31,
      "outputs": [
        {
          "output_type": "stream",
          "text": [
            ">mean 0.867 (0.057)\n",
            ">median 0.869 (0.061)\n",
            ">most_frequent 0.870 (0.057)\n",
            ">constant 0.881 (0.058)\n"
          ],
          "name": "stdout"
        },
        {
          "output_type": "display_data",
          "data": {
            "image/png": "[encoded data removed]",
            "text/plain": [
              "<Figure size 432x288 with 1 Axes>"
            ]
          },
          "metadata": {
            "tags": [],
            "needs_background": "light"
          }
        }
      ]
    },
    {
      "cell_type": "markdown",
      "metadata": {
        "id": "o5_KSkicxyvy",
        "colab_type": "text"
      },
      "source": [
        "# SimpleImputer Transform when Making a prediction"
      ]
    },
    {
      "cell_type": "code",
      "metadata": {
        "id": "ptuS4KZkxR9U",
        "colab_type": "code",
        "colab": {}
      },
      "source": [
        "# defnie new data with missing value\n",
        "row = [2, 1, 530101, 38.50, 66, 28, 3, 3, nan, 2, 5, 4, 4, nan, nan, nan, 3, 5, 45.00,\n",
        "8.40, nan, nan, 2, 11300, 00000, 00000, 2]"
      ],
      "execution_count": 34,
      "outputs": []
    },
    {
      "cell_type": "code",
      "metadata": {
        "id": "JIq6godHyIX8",
        "colab_type": "code",
        "colab": {
          "base_uri": "https://localhost:8080/",
          "height": 34
        },
        "outputId": "dd69fd35-ca9c-4e0c-9072-4d3cc33f3bc8"
      },
      "source": [
        "from numpy import nan\n",
        "from pandas import read_csv\n",
        "from sklearn.ensemble import RandomForestClassifier\n",
        "from sklearn.impute import SimpleImputer\n",
        "from sklearn.pipeline import Pipeline\n",
        "\n",
        "# load dataset\n",
        "df = read_csv('https://raw.githubusercontent.com/jbrownlee/Datasets/master/horse-colic.csv', header = None, na_values='?')\n",
        "# split into input and output elements\n",
        "data = df.values\n",
        "ix = [i for i in range(data.shape[1]) if i !=23]\n",
        "X, y = data[:,ix], data[:,23]\n",
        "# create modeling pipeline\n",
        "pipeline = Pipeline(steps=[('i', SimpleImputer(strategy='constant')),('m', RandomForestClassifier())])\n",
        "# fit the model\n",
        "pipeline.fit(X, y)\n",
        "# make prediction\n",
        "yhat = pipeline.predict([row])\n",
        "# summarize prediction\n",
        "print('Predicted Class: %d' % yhat[0])"
      ],
      "execution_count": 36,
      "outputs": [
        {
          "output_type": "stream",
          "text": [
            "Predicted Class: 2\n"
          ],
          "name": "stdout"
        }
      ]
    }
  ]
}