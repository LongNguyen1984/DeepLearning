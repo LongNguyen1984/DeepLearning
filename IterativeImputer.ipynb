{
  "nbformat": 4,
  "nbformat_minor": 0,
  "metadata": {
    "colab": {
      "name": "IterativeImputer.ipynb",
      "provenance": [],
      "authorship_tag": "ABX9TyNXn8PjPkym6UScA4Gc6OVz",
      "include_colab_link": true
    },
    "kernelspec": {
      "name": "python3",
      "display_name": "Python 3"
    }
  },
  "cells": [
    {
      "cell_type": "markdown",
      "metadata": {
        "id": "view-in-github",
        "colab_type": "text"
      },
      "source": [
        "<a href=\"https://colab.research.google.com/github/LongNguyen1984/DeepLearning/blob/master/IterativeImputer.ipynb\" target=\"_parent\"><img src=\"https://colab.research.google.com/assets/colab-badge.svg\" alt=\"Open In Colab\"/></a>"
      ]
    },
    {
      "cell_type": "code",
      "metadata": {
        "id": "kGmFJcmxZkCj",
        "colab_type": "code",
        "colab": {}
      },
      "source": [
        "import numpy as np\n",
        "import pandas as pd\n",
        "\n",
        "df = pd.read_csv('https://raw.githubusercontent.com/jbrownlee/Datasets/master/horse-colic.csv', header = None, na_values='?')"
      ],
      "execution_count": 1,
      "outputs": []
    },
    {
      "cell_type": "code",
      "metadata": {
        "id": "pUsOwwsOaHFS",
        "colab_type": "code",
        "colab": {
          "base_uri": "https://localhost:8080/",
          "height": 153
        },
        "outputId": "adac1d8f-c3f6-49d2-841a-3218bcac5796"
      },
      "source": [
        "# summarize the first few rows\n",
        "print(df.head())"
      ],
      "execution_count": 2,
      "outputs": [
        {
          "output_type": "stream",
          "text": [
            "    0   1        2     3      4     5    6   ...   21   22  23     24  25  26  27\n",
            "0  2.0   1   530101  38.5   66.0  28.0  3.0  ...  NaN  2.0   2  11300   0   0   2\n",
            "1  1.0   1   534817  39.2   88.0  20.0  NaN  ...  2.0  3.0   2   2208   0   0   2\n",
            "2  2.0   1   530334  38.3   40.0  24.0  1.0  ...  NaN  1.0   2      0   0   0   1\n",
            "3  1.0   9  5290409  39.1  164.0  84.0  4.0  ...  5.3  2.0   1   2208   0   0   1\n",
            "4  2.0   1   530255  37.3  104.0  35.0  NaN  ...  NaN  2.0   2   4300   0   0   2\n",
            "\n",
            "[5 rows x 28 columns]\n"
          ],
          "name": "stdout"
        }
      ]
    },
    {
      "cell_type": "code",
      "metadata": {
        "id": "VdATMysbazFg",
        "colab_type": "code",
        "colab": {
          "base_uri": "https://localhost:8080/",
          "height": 493
        },
        "outputId": "4d5e2632-aa27-4043-d0d6-cbd51011b114"
      },
      "source": [
        "\n",
        "# count missing values\n",
        "for i in range(df.shape[1]):\n",
        "  n_miss = df[[i]].isnull().sum()\n",
        "  perc = n_miss/df.shape[0]\n",
        "  print('> %d Missing: %d (%.1f%%)' %(i, n_miss, perc))"
      ],
      "execution_count": 5,
      "outputs": [
        {
          "output_type": "stream",
          "text": [
            "> 0 Missing: 1 (0.0%)\n",
            "> 1 Missing: 0 (0.0%)\n",
            "> 2 Missing: 0 (0.0%)\n",
            "> 3 Missing: 60 (0.2%)\n",
            "> 4 Missing: 24 (0.1%)\n",
            "> 5 Missing: 58 (0.2%)\n",
            "> 6 Missing: 56 (0.2%)\n",
            "> 7 Missing: 69 (0.2%)\n",
            "> 8 Missing: 47 (0.2%)\n",
            "> 9 Missing: 32 (0.1%)\n",
            "> 10 Missing: 55 (0.2%)\n",
            "> 11 Missing: 44 (0.1%)\n",
            "> 12 Missing: 56 (0.2%)\n",
            "> 13 Missing: 104 (0.3%)\n",
            "> 14 Missing: 106 (0.4%)\n",
            "> 15 Missing: 247 (0.8%)\n",
            "> 16 Missing: 102 (0.3%)\n",
            "> 17 Missing: 118 (0.4%)\n",
            "> 18 Missing: 29 (0.1%)\n",
            "> 19 Missing: 33 (0.1%)\n",
            "> 20 Missing: 165 (0.6%)\n",
            "> 21 Missing: 198 (0.7%)\n",
            "> 22 Missing: 1 (0.0%)\n",
            "> 23 Missing: 0 (0.0%)\n",
            "> 24 Missing: 0 (0.0%)\n",
            "> 25 Missing: 0 (0.0%)\n",
            "> 26 Missing: 0 (0.0%)\n",
            "> 27 Missing: 0 (0.0%)\n"
          ],
          "name": "stdout"
        }
      ]
    },
    {
      "cell_type": "markdown",
      "metadata": {
        "id": "qjEbdtNMcotO",
        "colab_type": "text"
      },
      "source": [
        "# Iterative Imputation With InterativeImputer"
      ]
    },
    {
      "cell_type": "code",
      "metadata": {
        "id": "9Py6lYR2bf03",
        "colab_type": "code",
        "colab": {
          "base_uri": "https://localhost:8080/",
          "height": 51
        },
        "outputId": "daa00475-064a-4948-e497-148fc153baed"
      },
      "source": [
        "from numpy import isnan\n",
        "from pandas import read_csv\n",
        "from sklearn.ensemble import RandomForestClassifier\n",
        "from sklearn.experimental import enable_iterative_imputer\n",
        "from sklearn.impute import IterativeImputer\n",
        "\n",
        "# load dataset\n",
        "df = read_csv('https://raw.githubusercontent.com/jbrownlee/Datasets/master/horse-colic.csv', header=None, na_values='?')\n",
        "data = df.values\n",
        "# split data into input and output\n",
        "ix = [i for i in range(data.shape[1]) if i!= 23]\n",
        "X, y = data[:,ix], data[:,23]\n",
        "# summarize total missing\n",
        "print('Missing: %d' % sum(isnan(X).flatten()))\n",
        "# define imputeter\n",
        "imputer = IterativeImputer()\n",
        "# fit the dataset\n",
        "imputer.fit(X)\n",
        "# transform the dataset\n",
        "Xtrans = imputer.transform(X)\n",
        "# summarize total missing\n",
        "print('Missing: %d' %sum(isnan(Xtrans).flatten()))"
      ],
      "execution_count": 12,
      "outputs": [
        {
          "output_type": "stream",
          "text": [
            "Missing: 1605\n",
            "Missing: 0\n"
          ],
          "name": "stdout"
        }
      ]
    },
    {
      "cell_type": "markdown",
      "metadata": {
        "id": "mxc4r3WAjmM-",
        "colab_type": "text"
      },
      "source": [
        "# IterativeImputer and Model Evaluation"
      ]
    },
    {
      "cell_type": "code",
      "metadata": {
        "id": "1i-EhisQjf8S",
        "colab_type": "code",
        "colab": {
          "base_uri": "https://localhost:8080/",
          "height": 34
        },
        "outputId": "7cbe8c75-42e7-4077-c3d2-ef5d93faa940"
      },
      "source": [
        "from pandas import read_csv\n",
        "from numpy import mean\n",
        "from numpy import std\n",
        "from sklearn.ensemble import RandomForestClassifier\n",
        "from sklearn.experimental import enable_iterative_imputer\n",
        "from sklearn.impute import IterativeImputer\n",
        "from sklearn.model_selection import cross_val_score\n",
        "from sklearn.model_selection import RepeatedStratifiedKFold\n",
        "from sklearn.pipeline import Pipeline\n",
        "# load dataset\n",
        "df = read_csv('https://raw.githubusercontent.com/jbrownlee/Datasets/master/horse-colic.csv', header = None, na_values='?')\n",
        "data = df.values\n",
        "# split data into input and output\n",
        "ix =[i for i in range(data.shape[1]) if i!=23]\n",
        "X, y = data[:,ix], data[:,23]\n",
        "# define the modeling \n",
        "model = RandomForestClassifier()\n",
        "imputer = IterativeImputer()\n",
        "pipeline = Pipeline(steps=[('i', imputer), ('m', model)])\n",
        "# define model evaluation\n",
        "cv= RepeatedStratifiedKFold(n_splits=10, n_repeats=3, random_state=1)\n",
        "# evaluate model\n",
        "scores = cross_val_score(pipeline, X, y, scoring='accuracy',cv=cv, n_jobs=-1)\n",
        "# print outcome\n",
        "print('Mean Accuarcy: %.3f (%.3f)'% (mean(scores),std(scores)))"
      ],
      "execution_count": 17,
      "outputs": [
        {
          "output_type": "stream",
          "text": [
            "Mean Accuarcy: 0.863 (0.050)\n"
          ],
          "name": "stdout"
        }
      ]
    },
    {
      "cell_type": "markdown",
      "metadata": {
        "id": "nvV0VGiqnkLs",
        "colab_type": "text"
      },
      "source": [
        "# IterativeImputer and Different Imputation Order"
      ]
    },
    {
      "cell_type": "code",
      "metadata": {
        "id": "50hwnxVOnZyu",
        "colab_type": "code",
        "colab": {
          "base_uri": "https://localhost:8080/",
          "height": 350
        },
        "outputId": "1b561af2-1337-4556-fd3e-7f8c3d40c3e6"
      },
      "source": [
        "# evaluation of imputer with different strategies: ascending, decending, right-to-left(Arabic)\n",
        "# left-to-right(Roman) and random\n",
        "from numpy import mean\n",
        "from numpy import std\n",
        "from pandas import read_csv\n",
        "from sklearn.ensemble import RandomForestClassifier\n",
        "from sklearn.experimental import enable_iterative_imputer\n",
        "from sklearn.model_selection import cross_val_score\n",
        "from sklearn.model_selection import RepeatedStratifiedKFold\n",
        "from sklearn.impute import IterativeImputer\n",
        "from sklearn.pipeline import Pipeline\n",
        "from matplotlib import pyplot\n",
        "# load dataset\n",
        "df = read_csv('https://raw.githubusercontent.com/jbrownlee/Datasets/master/horse-colic.csv', header=None, na_values='?')\n",
        "data = df.values\n",
        "# split data into input and output elements\n",
        "ix = [i for i in range(data.shape[1]) if i!=23]\n",
        "X, y = data[:,ix], data[:,23]\n",
        "# evaluate each strategy on the dataset\n",
        "results = list()\n",
        "strategies = ['ascending', 'descending','roman','arabic','random']\n",
        "for s in strategies:\n",
        "  # define model pipling\n",
        "  pipeline = Pipeline(steps=[('i',IterativeImputer(imputation_order=s)),('m',RandomForestClassifier())])\n",
        "  cv = RepeatedStratifiedKFold(n_splits=10, n_repeats=3, random_state=1)\n",
        "  scores = cross_val_score(pipeline,X,y,scoring='accuracy',cv=cv, n_jobs=-1)\n",
        "  # store results\n",
        "  results.append(scores)\n",
        "  print('>%s %.3f (%.3f)'% (s, mean(scores), std(scores)))\n",
        "# plot model performance for comparison\n",
        "pyplot.boxplot(results, labels=strategies, showmeans=True)\n",
        "pyplot.show()\n"
      ],
      "execution_count": 21,
      "outputs": [
        {
          "output_type": "stream",
          "text": [
            ">ascending 0.871 (0.054)\n",
            ">descending 0.867 (0.053)\n",
            ">roman 0.872 (0.054)\n",
            ">arabic 0.869 (0.052)\n",
            ">random 0.870 (0.053)\n"
          ],
          "name": "stdout"
        },
        {
          "output_type": "display_data",
          "data": {
            "image/png": "[encoded data removed]",
            "text/plain": [
              "<Figure size 432x288 with 1 Axes>"
            ]
          },
          "metadata": {
            "tags": [],
            "needs_background": "light"
          }
        }
      ]
    },
    {
      "cell_type": "markdown",
      "metadata": {
        "id": "z_jsjJwuw55D",
        "colab_type": "text"
      },
      "source": [
        "# IterativeImputer and Different Number of Iterations"
      ]
    },
    {
      "cell_type": "code",
      "metadata": {
        "id": "IAAn17PjxGPV",
        "colab_type": "code",
        "colab": {
          "base_uri": "https://localhost:8080/",
          "height": 605
        },
        "outputId": "70602932-988b-4748-8a28-11fa14f7f1f1"
      },
      "source": [
        "from numpy import mean\n",
        "from numpy import std\n",
        "from pandas import read_csv\n",
        "from sklearn.ensemble import RandomForestClassifier\n",
        "from sklearn.model_selection import cross_val_score\n",
        "from sklearn.model_selection import RepeatedStratifiedKFold\n",
        "from sklearn.experimental import enable_iterative_imputer\n",
        "from sklearn.impute import IterativeImputer\n",
        "from sklearn.pipeline import Pipeline\n",
        "from matplotlib import pyplot\n",
        "# load dataset\n",
        "df = read_csv('https://raw.githubusercontent.com/jbrownlee/Datasets/master/horse-colic.csv', header=None, na_values='?')\n",
        "data = df.values\n",
        "# split data into input and output elements\n",
        "ix = [i for i in range(data.shape[1]) if i !=23]\n",
        "X, y = data[:, ix], data[:,23]\n",
        "# evaluate each strategy on the dataset\n",
        "strategies = [str(i) for i in range(1,21)]\n",
        "results = list()\n",
        "for s in strategies:\n",
        "  # create the modeling pipline\n",
        "  pipeline = Pipeline(steps=[('i',IterativeImputer(max_iter=int(s))),('m',RandomForestClassifier())])\n",
        "  # evaluate the model\n",
        "  cv = RepeatedStratifiedKFold(n_splits=10, n_repeats=3, random_state=1)\n",
        "  scores = cross_val_score(pipeline,X, y, scoring='accuracy', cv=cv, n_jobs=-1)\n",
        "  #store results\n",
        "  results.append(scores)\n",
        "  print('>%s %.3f (%.3f)'% (s, mean(scores),std(scores)))\n",
        "# plot model performance for comparision\n",
        "pyplot.boxplot(results, labels=strategies, showmeans=True)\n",
        "pyplot.show()\n"
      ],
      "execution_count": 23,
      "outputs": [
        {
          "output_type": "stream",
          "text": [
            ">1 0.869 (0.050)\n",
            ">2 0.873 (0.052)\n",
            ">3 0.872 (0.060)\n",
            ">4 0.869 (0.056)\n",
            ">5 0.869 (0.054)\n",
            ">6 0.867 (0.054)\n",
            ">7 0.872 (0.050)\n",
            ">8 0.873 (0.053)\n",
            ">9 0.870 (0.055)\n",
            ">10 0.876 (0.052)\n",
            ">11 0.880 (0.048)\n",
            ">12 0.871 (0.055)\n",
            ">13 0.871 (0.056)\n",
            ">14 0.867 (0.049)\n",
            ">15 0.873 (0.055)\n",
            ">16 0.872 (0.052)\n",
            ">17 0.867 (0.052)\n",
            ">18 0.872 (0.056)\n",
            ">19 0.876 (0.054)\n",
            ">20 0.874 (0.048)\n"
          ],
          "name": "stdout"
        },
        {
          "output_type": "display_data",
          "data": {
            "image/png": "[encoded data removed]",
            "text/plain": [
              "<Figure size 432x288 with 1 Axes>"
            ]
          },
          "metadata": {
            "tags": [],
            "needs_background": "light"
          }
        }
      ]
    },
    {
      "cell_type": "markdown",
      "metadata": {
        "id": "xtQIQVgs1X5r",
        "colab_type": "text"
      },
      "source": [
        "# IterativeImputer Transoform When Making a Prediction"
      ]
    },
    {
      "cell_type": "code",
      "metadata": {
        "id": "qgtws2gjvzzZ",
        "colab_type": "code",
        "colab": {
          "base_uri": "https://localhost:8080/",
          "height": 34
        },
        "outputId": "68e9bcf2-772c-423e-aad2-c8a828b52d42"
      },
      "source": [
        "from numpy import nan\n",
        "from pandas import read_csv\n",
        "from sklearn.ensemble import RandomForestClassifier\n",
        "from sklearn.experimental import enable_iterative_imputer\n",
        "from sklearn.impute import IterativeImputer\n",
        "from sklearn.pipeline import Pipeline\n",
        "# load the dataset\n",
        "df = read_csv('https://raw.githubusercontent.com/jbrownlee/Datasets/master/horse-colic.csv', header=None, na_values='?')\n",
        "data = df.values\n",
        "# split data into input and output elements\n",
        "ix = [i for i in range(data.shape[1]) if i!=23]\n",
        "X, y = data[:,ix], data[:,23]\n",
        "# create the modeling pipeline\n",
        "pipeline=Pipeline(steps=[('i',IterativeImputer()),('m', RandomForestClassifier())])\n",
        "# fit the model\n",
        "pipeline.fit(X, y)\n",
        "# define new data\n",
        "row = [2, 1, 530101, 38.50, 66, 28, 3, 3, nan, 2, 5, 4, 4, nan, nan, nan, 3, 5, 45.00,\n",
        "8.40, nan, nan, 2, 11300, 00000, 00000, 2]\n",
        "# make prediction\n",
        "yhat = pipeline.predict([row])\n",
        "# summarize the prediction\n",
        "print('Predicted Class: %d' %yhat[0])"
      ],
      "execution_count": 24,
      "outputs": [
        {
          "output_type": "stream",
          "text": [
            "Predicted Class: 2\n"
          ],
          "name": "stdout"
        }
      ]
    }
  ]
}