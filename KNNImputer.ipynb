{
  "nbformat": 4,
  "nbformat_minor": 0,
  "metadata": {
    "colab": {
      "name": "KNNImputer.ipynb",
      "provenance": [],
      "authorship_tag": "ABX9TyMsy6MwnxVzF59pEPglu3jZ",
      "include_colab_link": true
    },
    "kernelspec": {
      "name": "python3",
      "display_name": "Python 3"
    }
  },
  "cells": [
    {
      "cell_type": "markdown",
      "metadata": {
        "id": "view-in-github",
        "colab_type": "text"
      },
      "source": [
        "<a href=\"https://colab.research.google.com/github/LongNguyen1984/DeepLearning/blob/master/KNNImputer.ipynb\" target=\"_parent\"><img src=\"https://colab.research.google.com/assets/colab-badge.svg\" alt=\"Open In Colab\"/></a>"
      ]
    },
    {
      "cell_type": "code",
      "metadata": {
        "id": "tjlSEhKIwJ-V",
        "colab_type": "code",
        "colab": {}
      },
      "source": [
        "import numpy as np\n",
        "import pandas as pd\n",
        "\n",
        "df = pd.read_csv('https://raw.githubusercontent.com/jbrownlee/Datasets/master/horse-colic.csv', header = None, na_values='?')"
      ],
      "execution_count": 1,
      "outputs": []
    },
    {
      "cell_type": "code",
      "metadata": {
        "id": "h1aEAt_w3tDM",
        "colab_type": "code",
        "colab": {
          "base_uri": "https://localhost:8080/",
          "height": 275
        },
        "outputId": "d34c99f4-b188-46ef-854a-1c651cbd40da"
      },
      "source": [
        "print(df.head)"
      ],
      "execution_count": 2,
      "outputs": [
        {
          "output_type": "stream",
          "text": [
            "<bound method NDFrame.head of       0   1        2     3      4     5    6   ...   21   22  23     24  25  26  27\n",
            "0    2.0   1   530101  38.5   66.0  28.0  3.0  ...  NaN  2.0   2  11300   0   0   2\n",
            "1    1.0   1   534817  39.2   88.0  20.0  NaN  ...  2.0  3.0   2   2208   0   0   2\n",
            "2    2.0   1   530334  38.3   40.0  24.0  1.0  ...  NaN  1.0   2      0   0   0   1\n",
            "3    1.0   9  5290409  39.1  164.0  84.0  4.0  ...  5.3  2.0   1   2208   0   0   1\n",
            "4    2.0   1   530255  37.3  104.0  35.0  NaN  ...  NaN  2.0   2   4300   0   0   2\n",
            "..   ...  ..      ...   ...    ...   ...  ...  ...  ...  ...  ..    ...  ..  ..  ..\n",
            "295  1.0   1   533886   NaN  120.0  70.0  4.0  ...  NaN  3.0   2   3205   0   0   2\n",
            "296  2.0   1   527702  37.2   72.0  24.0  3.0  ...  3.3  3.0   1   2208   0   0   1\n",
            "297  1.0   1   529386  37.5   72.0  30.0  4.0  ...  NaN  2.0   1   3205   0   0   2\n",
            "298  1.0   1   530612  36.5  100.0  24.0  3.0  ...  3.4  1.0   1   2208   0   0   1\n",
            "299  1.0   1   534618  37.2   40.0  20.0  NaN  ...  1.0  3.0   2   6112   0   0   2\n",
            "\n",
            "[300 rows x 28 columns]>\n"
          ],
          "name": "stdout"
        }
      ]
    },
    {
      "cell_type": "code",
      "metadata": {
        "id": "nfZNKUbF3z8n",
        "colab_type": "code",
        "colab": {
          "base_uri": "https://localhost:8080/",
          "height": 493
        },
        "outputId": "21b578cc-5431-4e84-fc3d-4a42a6449cca"
      },
      "source": [
        "# summarize the null value\n",
        "for i in range(df.shape[1]):\n",
        "  n_miss = df[[i]].isnull().sum()\n",
        "  perc = n_miss/df.shape[0]*100\n",
        "  print('> %d Missing: %d (%.1f%%)' %(i,n_miss,perc))"
      ],
      "execution_count": 3,
      "outputs": [
        {
          "output_type": "stream",
          "text": [
            "> 0 Missing: 1 (0.3%)\n",
            "> 1 Missing: 0 (0.0%)\n",
            "> 2 Missing: 0 (0.0%)\n",
            "> 3 Missing: 60 (20.0%)\n",
            "> 4 Missing: 24 (8.0%)\n",
            "> 5 Missing: 58 (19.3%)\n",
            "> 6 Missing: 56 (18.7%)\n",
            "> 7 Missing: 69 (23.0%)\n",
            "> 8 Missing: 47 (15.7%)\n",
            "> 9 Missing: 32 (10.7%)\n",
            "> 10 Missing: 55 (18.3%)\n",
            "> 11 Missing: 44 (14.7%)\n",
            "> 12 Missing: 56 (18.7%)\n",
            "> 13 Missing: 104 (34.7%)\n",
            "> 14 Missing: 106 (35.3%)\n",
            "> 15 Missing: 247 (82.3%)\n",
            "> 16 Missing: 102 (34.0%)\n",
            "> 17 Missing: 118 (39.3%)\n",
            "> 18 Missing: 29 (9.7%)\n",
            "> 19 Missing: 33 (11.0%)\n",
            "> 20 Missing: 165 (55.0%)\n",
            "> 21 Missing: 198 (66.0%)\n",
            "> 22 Missing: 1 (0.3%)\n",
            "> 23 Missing: 0 (0.0%)\n",
            "> 24 Missing: 0 (0.0%)\n",
            "> 25 Missing: 0 (0.0%)\n",
            "> 26 Missing: 0 (0.0%)\n",
            "> 27 Missing: 0 (0.0%)\n"
          ],
          "name": "stdout"
        }
      ]
    },
    {
      "cell_type": "markdown",
      "metadata": {
        "id": "byVctVYXIr4D",
        "colab_type": "text"
      },
      "source": [
        "# Nearest Neighbor Imputation with KNNImputer"
      ]
    },
    {
      "cell_type": "code",
      "metadata": {
        "id": "VWWR1ziR4sVl",
        "colab_type": "code",
        "colab": {
          "base_uri": "https://localhost:8080/",
          "height": 51
        },
        "outputId": "283b6f53-7965-49d3-d6c3-737acd02b874"
      },
      "source": [
        "import numpy as np\n",
        "import pandas as pd\n",
        "from sklearn.impute import KNNImputer\n",
        "# load dataset\n",
        "df = pd.read_csv('https://raw.githubusercontent.com/jbrownlee/Datasets/master/horse-colic.csv', header = None, na_values='?')\n",
        "# split data into input and output\n",
        "data = df.values\n",
        "xi = [i for i in range(data.shape[1]) if i!=23]\n",
        "X, y = data[:,xi], data[:,23]\n",
        "# summarize total missing\n",
        "print('Missing: %d' %sum(np.isnan(X).flatten()))\n",
        "# define imputer\n",
        "imputer = KNNImputer()\n",
        "# fit on the dataset\n",
        "imputer.fit(X)\n",
        "# transform the dataset\n",
        "Xtrans = imputer.transform(X)\n",
        "# summarize total missing\n",
        "print('Missng: %d' % sum(np.isnan(Xtrans).flatten()))"
      ],
      "execution_count": 9,
      "outputs": [
        {
          "output_type": "stream",
          "text": [
            "Missing: 1605\n",
            "Missng: 0\n"
          ],
          "name": "stdout"
        }
      ]
    },
    {
      "cell_type": "markdown",
      "metadata": {
        "id": "aJss3ExWK4kn",
        "colab_type": "text"
      },
      "source": [
        "# Model evaluation"
      ]
    },
    {
      "cell_type": "code",
      "metadata": {
        "id": "FheKGpP8KvWq",
        "colab_type": "code",
        "colab": {
          "base_uri": "https://localhost:8080/",
          "height": 34
        },
        "outputId": "628b506b-0d4e-4609-eab5-1eb817ade446"
      },
      "source": [
        "# evaluate knn imputation and random forest for the horse colic dataset\n",
        "from numpy import mean\n",
        "from numpy import std\n",
        "from pandas import read_csv\n",
        "from sklearn.ensemble import RandomForestClassifier\n",
        "from sklearn.impute import KNNImputer\n",
        "from sklearn.model_selection import cross_val_score\n",
        "from sklearn.model_selection import RepeatedStratifiedKFold\n",
        "from sklearn.pipeline import Pipeline\n",
        "# load dataset\n",
        "df = read_csv('https://raw.githubusercontent.com/jbrownlee/Datasets/master/horse-colic.csv', header = None, na_values='?')\n",
        "# split into input and output elements\n",
        "data = df.values\n",
        "ix = [i for i in range(data.shape[1]) if i!=23]\n",
        "X, y = data[:,ix], data[:,23]\n",
        "# define modeling pipeline\n",
        "model = RandomForestClassifier()\n",
        "imputer = KNNImputer()\n",
        "pipeline = Pipeline(steps=[('i', imputer),('m', model)])\n",
        "# define model evaluation\n",
        "cv = RepeatedStratifiedKFold(n_splits=10, n_repeats=3, random_state=1)\n",
        "# evaluation model\n",
        "scores = cross_val_score(pipeline, X, y, scoring='accuracy', cv=cv, n_jobs=-1)\n",
        "print('Mean Accuracy: %.3f (%.3f)' % (mean(scores), std(scores)))"
      ],
      "execution_count": 15,
      "outputs": [
        {
          "output_type": "stream",
          "text": [
            "Mean Accuracy: 0.867 (0.054)\n"
          ],
          "name": "stdout"
        }
      ]
    },
    {
      "cell_type": "markdown",
      "metadata": {
        "id": "vPW1kvS7Nh68",
        "colab_type": "text"
      },
      "source": [
        "# KNN with different number of *k* Neighbors"
      ]
    },
    {
      "cell_type": "code",
      "metadata": {
        "id": "1ocwNJDRNa4A",
        "colab_type": "code",
        "colab": {
          "base_uri": "https://localhost:8080/",
          "height": 401
        },
        "outputId": "e6d188d7-3fcd-47a9-e1c4-da82719b0faf"
      },
      "source": [
        "from numpy import mean\n",
        "from numpy import std\n",
        "from pandas import read_csv\n",
        "from sklearn.ensemble import RandomForestClassifier\n",
        "from sklearn.impute import KNNImputer\n",
        "from sklearn.model_selection import cross_val_score\n",
        "from sklearn.model_selection import RepeatedStratifiedKFold\n",
        "from sklearn.pipeline import Pipeline\n",
        "from matplotlib import pyplot\n",
        "# load dataset\n",
        "df = read_csv('https://raw.githubusercontent.com/jbrownlee/Datasets/master/horse-colic.csv',header=None, na_values='?')\n",
        "# split into input and output elements\n",
        "data = df.values\n",
        "xi = [i for i in range(data.shape[1]) if i!=23]\n",
        "X, y = data[:,xi], data[:,23]\n",
        "# evaluate each strategy on the dataset\n",
        "results = list()\n",
        "strategies = [str(i) for i in [1,3,5,7,9,15,18,21]]\n",
        "for s in strategies:\n",
        "  model = RandomForestClassifier()\n",
        "  imputer = KNNImputer(n_neighbors=int(s))\n",
        "  pipeline = Pipeline(steps=[('i',imputer),('m', model)])\n",
        "  #define model evaluation \n",
        "  cv = RepeatedStratifiedKFold(n_splits=10, n_repeats=3, random_state=1)\n",
        "  #evaluation model\n",
        "  scores = cross_val_score(pipeline, X, y, scoring='accuracy', cv=cv, n_jobs=-1)\n",
        "  results.append(scores)\n",
        "  print('>%s %.3f (%.3f)' % (s, mean(scores), std(scores)))\n",
        "# plot model performance for comparision\n",
        "pyplot.boxplot(results, labels = strategies, showmeans=True)\n",
        "pyplot.show()  \n"
      ],
      "execution_count": 19,
      "outputs": [
        {
          "output_type": "stream",
          "text": [
            ">1 0.858 (0.049)\n",
            ">3 0.856 (0.053)\n",
            ">5 0.859 (0.057)\n",
            ">7 0.869 (0.057)\n",
            ">9 0.860 (0.055)\n",
            ">15 0.867 (0.054)\n",
            ">18 0.863 (0.057)\n",
            ">21 0.856 (0.054)\n"
          ],
          "name": "stdout"
        },
        {
          "output_type": "display_data",
          "data": {
            "image/png": "[encoded data removed]",
            "text/plain": [
              "<Figure size 432x288 with 1 Axes>"
            ]
          },
          "metadata": {
            "tags": [],
            "needs_background": "light"
          }
        }
      ]
    },
    {
      "cell_type": "markdown",
      "metadata": {
        "id": "cnd-9DmFURj9",
        "colab_type": "text"
      },
      "source": [
        "# KNNImputer transform When Making a Prediction"
      ]
    },
    {
      "cell_type": "code",
      "metadata": {
        "id": "n6EFKKnBUOkh",
        "colab_type": "code",
        "colab": {}
      },
      "source": [
        "from numpy import nan\n",
        "# define new data\n",
        "row = [2, 1, 530101, 38.50, 66, 28, 3, 3, nan, 2, 5, 4, 4, nan, nan, nan, 3, 5, 45.00,\n",
        "8.40, nan, nan, 2, 11300, 00000, 00000, 2]"
      ],
      "execution_count": 18,
      "outputs": []
    },
    {
      "cell_type": "code",
      "metadata": {
        "id": "sHb7qme6UjjY",
        "colab_type": "code",
        "colab": {
          "base_uri": "https://localhost:8080/",
          "height": 34
        },
        "outputId": "02f558cb-9be8-4276-f5f3-b5ef7ef60756"
      },
      "source": [
        "# knn imputation strategy and prediction for the horse colic dataset\n",
        "from pandas import read_csv\n",
        "from sklearn.ensemble import RandomForestClassifier\n",
        "from sklearn.impute import KNNImputer\n",
        "from sklearn.pipeline import Pipeline\n",
        "# load dataset\n",
        "df = read_csv('https://raw.githubusercontent.com/jbrownlee/Datasets/master/horse-colic.csv',header=None, na_values='?')\n",
        "# split data into input and output elements\n",
        "data = df.values\n",
        "ix = [i for i in range(data.shape[1]) if i!=23]\n",
        "X, y = data[:,ix], data[:,23]\n",
        "# create model pipeline\n",
        "model = RandomForestClassifier()\n",
        "impute = KNNImputer(n_neighbors=21)\n",
        "pipeline = Pipeline(steps=[('i', impute),('m', model)])\n",
        "# fit the model\n",
        "pipeline.fit(X, y)\n",
        "# make a prediction\n",
        "yhat = pipeline.predict([row])\n",
        "# summarize prediction \n",
        "print('Predicted Class: %d' % yhat[0])\n"
      ],
      "execution_count": 23,
      "outputs": [
        {
          "output_type": "stream",
          "text": [
            "Predicted Class: 2\n"
          ],
          "name": "stdout"
        }
      ]
    }
  ]
}