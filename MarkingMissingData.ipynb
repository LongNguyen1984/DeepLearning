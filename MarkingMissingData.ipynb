{
  "nbformat": 4,
  "nbformat_minor": 0,
  "metadata": {
    "colab": {
      "name": "MarkingMissingData.ipynb",
      "provenance": [],
      "mount_file_id": "1MkdhNnATeDO_YnmKZKY89ezu7G_YJhJU",
      "authorship_tag": "ABX9TyPUrSV17lIZ88PiXSB8I8gM",
      "include_colab_link": true
    },
    "kernelspec": {
      "name": "python3",
      "display_name": "Python 3"
    }
  },
  "cells": [
    {
      "cell_type": "markdown",
      "metadata": {
        "id": "view-in-github",
        "colab_type": "text"
      },
      "source": [
        "<a href=\"https://colab.research.google.com/github/LongNguyen1984/DeepLearning/blob/master/MarkingMissingData.ipynb\" target=\"_parent\"><img src=\"https://colab.research.google.com/assets/colab-badge.svg\" alt=\"Open In Colab\"/></a>"
      ]
    },
    {
      "cell_type": "code",
      "metadata": {
        "id": "FIPWcTCFIbi2",
        "colab_type": "code",
        "colab": {}
      },
      "source": [
        ""
      ],
      "execution_count": null,
      "outputs": []
    },
    {
      "cell_type": "markdown",
      "metadata": {
        "id": "_a5law-QI0Do",
        "colab_type": "text"
      },
      "source": [
        "# Marking missing values"
      ]
    },
    {
      "cell_type": "code",
      "metadata": {
        "id": "SbeXadvDI3Nf",
        "colab_type": "code",
        "colab": {
          "base_uri": "https://localhost:8080/",
          "height": 204
        },
        "outputId": "10ee68eb-83f4-4054-f2ff-40630b8550ea"
      },
      "source": [
        "# load and summarize the dataset\n",
        "from pandas import read_csv\n",
        "# load the dataset\n",
        "dataset = read_csv('drive/My Drive/Dataset/diabetes.csv', header=None)\n",
        "# summarize the dataset\n",
        "print(dataset.describe())"
      ],
      "execution_count": 3,
      "outputs": [
        {
          "output_type": "stream",
          "text": [
            "                0           1           2  ...           6           7           8\n",
            "count  768.000000  768.000000  768.000000  ...  768.000000  768.000000  768.000000\n",
            "mean     3.845052  120.894531   69.105469  ...    0.471876   33.240885    0.348958\n",
            "std      3.369578   31.972618   19.355807  ...    0.331329   11.760232    0.476951\n",
            "min      0.000000    0.000000    0.000000  ...    0.078000   21.000000    0.000000\n",
            "25%      1.000000   99.000000   62.000000  ...    0.243750   24.000000    0.000000\n",
            "50%      3.000000  117.000000   72.000000  ...    0.372500   29.000000    0.000000\n",
            "75%      6.000000  140.250000   80.000000  ...    0.626250   41.000000    1.000000\n",
            "max     17.000000  199.000000  122.000000  ...    2.420000   81.000000    1.000000\n",
            "\n",
            "[8 rows x 9 columns]\n"
          ],
          "name": "stdout"
        }
      ]
    },
    {
      "cell_type": "code",
      "metadata": {
        "id": "ETYTVn15Kkax",
        "colab_type": "code",
        "colab": {
          "base_uri": "https://localhost:8080/",
          "height": 119
        },
        "outputId": "cf0a0e4f-e51e-43ee-9100-b470ed2d0811"
      },
      "source": [
        "# count the number of missing values for each column\n",
        "num_missing = (dataset[[1,2,3,4,5]]==0).sum()\n",
        "# report the results\n",
        "print(num_missing)"
      ],
      "execution_count": 5,
      "outputs": [
        {
          "output_type": "stream",
          "text": [
            "1      5\n",
            "2     35\n",
            "3    227\n",
            "4    374\n",
            "5     11\n",
            "dtype: int64\n"
          ],
          "name": "stdout"
        }
      ]
    },
    {
      "cell_type": "code",
      "metadata": {
        "id": "iR2Xcg4vK-9l",
        "colab_type": "code",
        "colab": {
          "base_uri": "https://localhost:8080/",
          "height": 187
        },
        "outputId": "ebbe6e21-b4c8-4ba2-e0d2-0e16c1d24d96"
      },
      "source": [
        "# example of marking missing values with nan values\n",
        "from numpy import nan\n",
        "from pandas import read_csv\n",
        "# load the dataset\n",
        "dataset = read_csv('drive/My Drive/Dataset/diabetes.csv', header=None)\n",
        "# repalce '0' values with 'nan'\n",
        "dataset[[1,2,3,4,5]] = dataset[[1,2,3,4,5]].replace(0,nan)\n",
        "#c count the number of nan values in each column\n",
        "print(dataset.isnull().sum())"
      ],
      "execution_count": 6,
      "outputs": [
        {
          "output_type": "stream",
          "text": [
            "0      0\n",
            "1      5\n",
            "2     35\n",
            "3    227\n",
            "4    374\n",
            "5     11\n",
            "6      0\n",
            "7      0\n",
            "8      0\n",
            "dtype: int64\n"
          ],
          "name": "stdout"
        }
      ]
    },
    {
      "cell_type": "code",
      "metadata": {
        "id": "mDNluOssMPIu",
        "colab_type": "code",
        "colab": {
          "base_uri": "https://localhost:8080/",
          "height": 374
        },
        "outputId": "82322935-c93c-465d-ed95-007b6918f727"
      },
      "source": [
        "print(dataset.head(20))"
      ],
      "execution_count": 7,
      "outputs": [
        {
          "output_type": "stream",
          "text": [
            "     0      1     2     3      4     5      6   7  8\n",
            "0    6  148.0  72.0  35.0    NaN  33.6  0.627  50  1\n",
            "1    1   85.0  66.0  29.0    NaN  26.6  0.351  31  0\n",
            "2    8  183.0  64.0   NaN    NaN  23.3  0.672  32  1\n",
            "3    1   89.0  66.0  23.0   94.0  28.1  0.167  21  0\n",
            "4    0  137.0  40.0  35.0  168.0  43.1  2.288  33  1\n",
            "5    5  116.0  74.0   NaN    NaN  25.6  0.201  30  0\n",
            "6    3   78.0  50.0  32.0   88.0  31.0  0.248  26  1\n",
            "7   10  115.0   NaN   NaN    NaN  35.3  0.134  29  0\n",
            "8    2  197.0  70.0  45.0  543.0  30.5  0.158  53  1\n",
            "9    8  125.0  96.0   NaN    NaN   NaN  0.232  54  1\n",
            "10   4  110.0  92.0   NaN    NaN  37.6  0.191  30  0\n",
            "11  10  168.0  74.0   NaN    NaN  38.0  0.537  34  1\n",
            "12  10  139.0  80.0   NaN    NaN  27.1  1.441  57  0\n",
            "13   1  189.0  60.0  23.0  846.0  30.1  0.398  59  1\n",
            "14   5  166.0  72.0  19.0  175.0  25.8  0.587  51  1\n",
            "15   7  100.0   NaN   NaN    NaN  30.0  0.484  32  1\n",
            "16   0  118.0  84.0  47.0  230.0  45.8  0.551  31  1\n",
            "17   7  107.0  74.0   NaN    NaN  29.6  0.254  31  1\n",
            "18   1  103.0  30.0  38.0   83.0  43.3  0.183  33  0\n",
            "19   1  115.0  70.0  30.0   96.0  34.6  0.529  32  1\n"
          ],
          "name": "stdout"
        }
      ]
    },
    {
      "cell_type": "markdown",
      "metadata": {
        "id": "nwejhY1tNEYE",
        "colab_type": "text"
      },
      "source": [
        "# An example of missing values effect"
      ]
    },
    {
      "cell_type": "code",
      "metadata": {
        "id": "6TB0FTp8NNHT",
        "colab_type": "code",
        "colab": {
          "base_uri": "https://localhost:8080/",
          "height": 238
        },
        "outputId": "f7650d7f-b18f-4d02-ce0d-e25d495e238a"
      },
      "source": [
        "# example where missing values cause errors\n",
        "from numpy import nan\n",
        "from pandas import read_csv\n",
        "from sklearn.discriminant_analysis import LinearDiscriminantAnalysis\n",
        "from sklearn.model_selection import KFold\n",
        "from sklearn.model_selection import cross_val_score\n",
        "# load the dataset\n",
        "dataset = read_csv('drive/My Drive/Dataset/diabetes.csv', header=None)\n",
        "# replace '0' values with 'nan'\n",
        "dataset[[1,2,3,4,5]] = dataset[[1,2,3,4,5]].replace(0,nan)\n",
        "# split dataset into inputs and output\n",
        "values = dataset.values\n",
        "X = values[:,0:8]\n",
        "y = values[:,8]\n",
        "# define the model\n",
        "model = LinearDiscriminantAnalysis()\n",
        "# define the model evaluation procedure\n",
        "cv = KFold(n_splits=3, shuffle=True, random_state=1)\n",
        "# evaluate the model\n",
        "result = cross_val_score(model, X, y,cv=cv,scoring ='accuracy')\n",
        "# report the mean performance\n",
        "print('Accuarcy: %.3f' %result.mean())\n"
      ],
      "execution_count": 8,
      "outputs": [
        {
          "output_type": "stream",
          "text": [
            "Accuarcy: nan\n"
          ],
          "name": "stdout"
        },
        {
          "output_type": "stream",
          "text": [
            "/usr/local/lib/python3.6/dist-packages/sklearn/model_selection/_validation.py:536: FitFailedWarning: Estimator fit failed. The score on this train-test partition for these parameters will be set to nan. Details: \n",
            "ValueError: Input contains NaN, infinity or a value too large for dtype('float64').\n",
            "\n",
            "  FitFailedWarning)\n",
            "/usr/local/lib/python3.6/dist-packages/sklearn/model_selection/_validation.py:536: FitFailedWarning: Estimator fit failed. The score on this train-test partition for these parameters will be set to nan. Details: \n",
            "ValueError: Input contains NaN, infinity or a value too large for dtype('float64').\n",
            "\n",
            "  FitFailedWarning)\n",
            "/usr/local/lib/python3.6/dist-packages/sklearn/model_selection/_validation.py:536: FitFailedWarning: Estimator fit failed. The score on this train-test partition for these parameters will be set to nan. Details: \n",
            "ValueError: Input contains NaN, infinity or a value too large for dtype('float64').\n",
            "\n",
            "  FitFailedWarning)\n"
          ],
          "name": "stderr"
        }
      ]
    },
    {
      "cell_type": "markdown",
      "metadata": {
        "id": "yfNtIp-MPUxi",
        "colab_type": "text"
      },
      "source": [
        "# Remove Rows With Missing Values"
      ]
    },
    {
      "cell_type": "code",
      "metadata": {
        "id": "7bm8obZpPI4s",
        "colab_type": "code",
        "colab": {
          "base_uri": "https://localhost:8080/",
          "height": 221
        },
        "outputId": "c76a9b6a-f71a-4b5f-a5fa-9863ad21bf15"
      },
      "source": [
        "# example of removing rows that contain missing value\n",
        "from numpy import nan\n",
        "from pandas import read_csv\n",
        "# load the dataset\n",
        "dataset = read_csv('drive/My Drive/Dataset/diabetes.csv', header=None)\n",
        "# summarize the shape of raw data\n",
        "print(dataset.shape)\n",
        "# replace '0' values with 'nan'\n",
        "dataset[[1,2,3,4,5]] = dataset[[1,2,3,4,5]].replace(0,nan)\n",
        "# drop rows with missing values\n",
        "dataset.dropna(inplace=True)\n",
        "# recheck the shape of dataset\n",
        "print(dataset.describe())"
      ],
      "execution_count": 11,
      "outputs": [
        {
          "output_type": "stream",
          "text": [
            "(768, 9)\n",
            "                0           1           2  ...           6           7           8\n",
            "count  392.000000  392.000000  392.000000  ...  392.000000  392.000000  392.000000\n",
            "mean     3.301020  122.627551   70.663265  ...    0.523046   30.864796    0.331633\n",
            "std      3.211424   30.860781   12.496092  ...    0.345488   10.200777    0.471401\n",
            "min      0.000000   56.000000   24.000000  ...    0.085000   21.000000    0.000000\n",
            "25%      1.000000   99.000000   62.000000  ...    0.269750   23.000000    0.000000\n",
            "50%      2.000000  119.000000   70.000000  ...    0.449500   27.000000    0.000000\n",
            "75%      5.000000  143.000000   78.000000  ...    0.687000   36.000000    1.000000\n",
            "max     17.000000  198.000000  110.000000  ...    2.420000   81.000000    1.000000\n",
            "\n",
            "[8 rows x 9 columns]\n"
          ],
          "name": "stdout"
        }
      ]
    },
    {
      "cell_type": "code",
      "metadata": {
        "id": "uOR1ZNbqRm_F",
        "colab_type": "code",
        "colab": {
          "base_uri": "https://localhost:8080/",
          "height": 34
        },
        "outputId": "36d05312-e5f6-46b2-c98f-7617f35267f0"
      },
      "source": [
        "# evalue model on data after rows with missing data are removed\n",
        "from numpy import nan\n",
        "from pandas import read_csv\n",
        "from sklearn.discriminant_analysis import LinearDiscriminantAnalysis\n",
        "from sklearn.model_selection import KFold\n",
        "from sklearn.model_selection import cross_val_score\n",
        "# load the dataset\n",
        "dataset = read_csv('drive/My Drive/Dataset/diabetes.csv', header=None)\n",
        "# replace '0' values with 'nan'\n",
        "dataset[[1,2,3,4,5]] = dataset[[1,2,3,4,5]].replace(0,nan)\n",
        "# drop rows with missing value\n",
        "dataset.dropna(inplace=True)\n",
        "# Split dataset into inputs and outpust\n",
        "X = dataset.values[:,0:8]\n",
        "y = dataset.values[:,8]\n",
        "# define the model\n",
        "model = LinearDiscriminantAnalysis()\n",
        "# define the model evaluation procedure\n",
        "cv = KFold(n_splits=3, shuffle=True, random_state=1)\n",
        "# evaluate the model\n",
        "result = cross_val_score(model, X,y, cv=cv, scoring='accuracy')\n",
        "# report the mean performance\n",
        "print('Accuarcy: %.3f' % result.mean())"
      ],
      "execution_count": 13,
      "outputs": [
        {
          "output_type": "stream",
          "text": [
            "Accuarcy: 0.781\n"
          ],
          "name": "stdout"
        }
      ]
    }
  ]
}