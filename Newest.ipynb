{
  "nbformat": 4,
  "nbformat_minor": 0,
  "metadata": {
    "colab": {
      "name": "Untitled6.ipynb",
      "provenance": [],
      "authorship_tag": "ABX9TyMOvM/+4EzIuDhIYKwg1GVb",
      "include_colab_link": true
    },
    "kernelspec": {
      "name": "python3",
      "display_name": "Python 3"
    }
  },
  "cells": [
    {
      "cell_type": "markdown",
      "metadata": {
        "id": "view-in-github",
        "colab_type": "text"
      },
      "source": [
        "<a href=\"https://colab.research.google.com/github/LongNguyen1984/DeepLearning/blob/master/Newest.ipynb\" target=\"_parent\"><img src=\"https://colab.research.google.com/assets/colab-badge.svg\" alt=\"Open In Colab\"/></a>"
      ]
    },
    {
      "cell_type": "code",
      "metadata": {
        "id": "VAnjh4zo9jdt",
        "colab_type": "code",
        "colab": {}
      },
      "source": [
        "import csv\n",
        "import numpy as np\n",
        "import torch \n",
        "\n",
        "wine_path = 'winequality-white.csv'\n",
        "wineq_numpy = np.loadtxt(wine_path, dtype=np.float32, delimiter=\";\", skiprows=1)\n",
        "\n"
      ],
      "execution_count": 0,
      "outputs": []
    },
    {
      "cell_type": "code",
      "metadata": {
        "id": "vDLYeOWM-G7V",
        "colab_type": "code",
        "outputId": "c9b0b2b8-2e3d-4f9c-8a72-fa125774b945",
        "colab": {
          "base_uri": "https://localhost:8080/",
          "height": 136
        }
      },
      "source": [
        "wineq_numpy"
      ],
      "execution_count": 3,
      "outputs": [
        {
          "output_type": "execute_result",
          "data": {
            "text/plain": [
              "array([[ 7.  ,  0.27,  0.36, ...,  0.45,  8.8 ,  6.  ],\n",
              "       [ 6.3 ,  0.3 ,  0.34, ...,  0.49,  9.5 ,  6.  ],\n",
              "       [ 8.1 ,  0.28,  0.4 , ...,  0.44, 10.1 ,  6.  ],\n",
              "       ...,\n",
              "       [ 6.5 ,  0.24,  0.19, ...,  0.46,  9.4 ,  6.  ],\n",
              "       [ 5.5 ,  0.29,  0.3 , ...,  0.38, 12.8 ,  7.  ],\n",
              "       [ 6.  ,  0.21,  0.38, ...,  0.32, 11.8 ,  6.  ]], dtype=float32)"
            ]
          },
          "metadata": {
            "tags": []
          },
          "execution_count": 3
        }
      ]
    },
    {
      "cell_type": "code",
      "metadata": {
        "id": "0ApXi4Xo-eGH",
        "colab_type": "code",
        "outputId": "b3a2c19e-2d13-48d0-e84f-0cb745f0370c",
        "colab": {
          "base_uri": "https://localhost:8080/",
          "height": 238
        }
      },
      "source": [
        "col_list = next(csv.reader(open(wine_path), delimiter=';'))\n",
        "\n",
        "wineq_numpy.shape, col_list"
      ],
      "execution_count": 4,
      "outputs": [
        {
          "output_type": "execute_result",
          "data": {
            "text/plain": [
              "((4898, 12),\n",
              " ['fixed acidity',\n",
              "  'volatile acidity',\n",
              "  'citric acid',\n",
              "  'residual sugar',\n",
              "  'chlorides',\n",
              "  'free sulfur dioxide',\n",
              "  'total sulfur dioxide',\n",
              "  'density',\n",
              "  'pH',\n",
              "  'sulphates',\n",
              "  'alcohol',\n",
              "  'quality'])"
            ]
          },
          "metadata": {
            "tags": []
          },
          "execution_count": 4
        }
      ]
    },
    {
      "cell_type": "code",
      "metadata": {
        "id": "oLdDzgOu3nHv",
        "colab_type": "code",
        "outputId": "ffb5af4f-f3bc-4e64-c63b-2cd41beb835a",
        "colab": {
          "base_uri": "https://localhost:8080/",
          "height": 34
        }
      },
      "source": [
        "#convert to Pytorch Tensor from NumPy\n",
        "wineq = torch.from_numpy(wineq_numpy)\n",
        "\n",
        "wineq.shape, wineq.dtype"
      ],
      "execution_count": 5,
      "outputs": [
        {
          "output_type": "execute_result",
          "data": {
            "text/plain": [
              "(torch.Size([4898, 12]), torch.float32)"
            ]
          },
          "metadata": {
            "tags": []
          },
          "execution_count": 5
        }
      ]
    },
    {
      "cell_type": "code",
      "metadata": {
        "id": "DQUFue6Z7kn5",
        "colab_type": "code",
        "outputId": "ec1ca8cf-c183-4586-931a-08eb8e6db3ad",
        "colab": {
          "base_uri": "https://localhost:8080/",
          "height": 153
        }
      },
      "source": [
        "#data \n",
        "data = wineq[:,:-1]\n",
        "data, data.shape"
      ],
      "execution_count": 6,
      "outputs": [
        {
          "output_type": "execute_result",
          "data": {
            "text/plain": [
              "(tensor([[ 7.0000,  0.2700,  0.3600,  ...,  3.0000,  0.4500,  8.8000],\n",
              "         [ 6.3000,  0.3000,  0.3400,  ...,  3.3000,  0.4900,  9.5000],\n",
              "         [ 8.1000,  0.2800,  0.4000,  ...,  3.2600,  0.4400, 10.1000],\n",
              "         ...,\n",
              "         [ 6.5000,  0.2400,  0.1900,  ...,  2.9900,  0.4600,  9.4000],\n",
              "         [ 5.5000,  0.2900,  0.3000,  ...,  3.3400,  0.3800, 12.8000],\n",
              "         [ 6.0000,  0.2100,  0.3800,  ...,  3.2600,  0.3200, 11.8000]]),\n",
              " torch.Size([4898, 11]))"
            ]
          },
          "metadata": {
            "tags": []
          },
          "execution_count": 6
        }
      ]
    },
    {
      "cell_type": "code",
      "metadata": {
        "id": "R0Kq_wNQ779x",
        "colab_type": "code",
        "colab": {}
      },
      "source": [
        "#target = wineq[:, -1].long()\n",
        "target = wineq[:, -1]\n",
        "\n",
        "#target.resize_((target.size(0),1)), target.shape"
      ],
      "execution_count": 0,
      "outputs": []
    },
    {
      "cell_type": "code",
      "metadata": {
        "id": "6ABkPCyZ-iMC",
        "colab_type": "code",
        "outputId": "eff8e375-9a8a-411a-f5d8-743a8f13c0cd",
        "colab": {
          "base_uri": "https://localhost:8080/",
          "height": 51
        }
      },
      "source": [
        "#caluculate mean and variance of data\n",
        "data_mean = torch.mean(data, dim = 0)\n",
        "data_mean"
      ],
      "execution_count": 8,
      "outputs": [
        {
          "output_type": "execute_result",
          "data": {
            "text/plain": [
              "tensor([6.8548e+00, 2.7824e-01, 3.3419e-01, 6.3914e+00, 4.5772e-02, 3.5308e+01,\n",
              "        1.3836e+02, 9.9403e-01, 3.1883e+00, 4.8985e-01, 1.0514e+01])"
            ]
          },
          "metadata": {
            "tags": []
          },
          "execution_count": 8
        }
      ]
    },
    {
      "cell_type": "code",
      "metadata": {
        "id": "14gZ7fRp-yCX",
        "colab_type": "code",
        "outputId": "5eae5a1b-9184-4c70-b137-0e83e6f53ec3",
        "colab": {
          "base_uri": "https://localhost:8080/",
          "height": 51
        }
      },
      "source": [
        "data_var = torch.var(data, dim = 0)\n",
        "data_var"
      ],
      "execution_count": 9,
      "outputs": [
        {
          "output_type": "execute_result",
          "data": {
            "text/plain": [
              "tensor([7.1211e-01, 1.0160e-02, 1.4646e-02, 2.5726e+01, 4.7733e-04, 2.8924e+02,\n",
              "        1.8061e+03, 8.9455e-06, 2.2801e-02, 1.3025e-02, 1.5144e+00])"
            ]
          },
          "metadata": {
            "tags": []
          },
          "execution_count": 9
        }
      ]
    },
    {
      "cell_type": "code",
      "metadata": {
        "id": "qgCcSr7V_AGu",
        "colab_type": "code",
        "outputId": "1265672b-a481-43cf-9484-d2f72aef7add",
        "colab": {
          "base_uri": "https://localhost:8080/",
          "height": 238
        }
      },
      "source": [
        "#normalized data\n",
        "data_normalized = (data - data_mean)/torch.sqrt(data_var)\n",
        "data_normalized"
      ],
      "execution_count": 10,
      "outputs": [
        {
          "output_type": "execute_result",
          "data": {
            "text/plain": [
              "tensor([[ 1.7209e-01, -8.1764e-02,  2.1325e-01,  ..., -1.2468e+00,\n",
              "         -3.4914e-01, -1.3930e+00],\n",
              "        [-6.5743e-01,  2.1587e-01,  4.7991e-02,  ...,  7.3992e-01,\n",
              "          1.3467e-03, -8.2418e-01],\n",
              "        [ 1.4756e+00,  1.7448e-02,  5.4378e-01,  ...,  4.7502e-01,\n",
              "         -4.3677e-01, -3.3662e-01],\n",
              "        ...,\n",
              "        [-4.2042e-01, -3.7940e-01, -1.1915e+00,  ..., -1.3131e+00,\n",
              "         -2.6152e-01, -9.0544e-01],\n",
              "        [-1.6054e+00,  1.1666e-01, -2.8253e-01,  ...,  1.0048e+00,\n",
              "         -9.6250e-01,  1.8574e+00],\n",
              "        [-1.0129e+00, -6.7703e-01,  3.7852e-01,  ...,  4.7502e-01,\n",
              "         -1.4882e+00,  1.0448e+00]])"
            ]
          },
          "metadata": {
            "tags": []
          },
          "execution_count": 10
        }
      ]
    },
    {
      "cell_type": "code",
      "metadata": {
        "id": "vpHVSMtY_P2W",
        "colab_type": "code",
        "outputId": "baa664b7-ce2e-4637-a63a-f8f0d33534cf",
        "colab": {
          "base_uri": "https://localhost:8080/",
          "height": 34
        }
      },
      "source": [
        "bad_indexes = target <= 3\n",
        "bad_indexes.shape, bad_indexes.dtype, bad_indexes.sum()"
      ],
      "execution_count": 11,
      "outputs": [
        {
          "output_type": "execute_result",
          "data": {
            "text/plain": [
              "(torch.Size([4898]), torch.bool, tensor(20))"
            ]
          },
          "metadata": {
            "tags": []
          },
          "execution_count": 11
        }
      ]
    },
    {
      "cell_type": "code",
      "metadata": {
        "id": "vZQhmydvAgvJ",
        "colab_type": "code",
        "outputId": "60c2df19-5b96-4045-d885-8962f3f17daa",
        "colab": {
          "base_uri": "https://localhost:8080/",
          "height": 204
        }
      },
      "source": [
        "bad_data = data[target <= 3]\n",
        "mid_data = data[(target > 3) & (target < 7)]\n",
        "good_data = data[target >= 7]\n",
        "\n",
        "bad_mean = torch.mean(bad_data, dim=0)\n",
        "mid_mean = torch.mean(mid_data, dim=0)\n",
        "good_mean = torch.mean(good_data, dim=0)\n",
        "\n",
        "for i, args in enumerate(zip(col_list, bad_mean, mid_mean, good_mean)):\n",
        "    print('{:2} {:20} {:6.2f} {:6.2f} {:6.2f}'.format(i, *args))"
      ],
      "execution_count": 12,
      "outputs": [
        {
          "output_type": "stream",
          "text": [
            " 0 fixed acidity          7.60   6.89   6.73\n",
            " 1 volatile acidity       0.33   0.28   0.27\n",
            " 2 citric acid            0.34   0.34   0.33\n",
            " 3 residual sugar         6.39   6.71   5.26\n",
            " 4 chlorides              0.05   0.05   0.04\n",
            " 5 free sulfur dioxide   53.33  35.42  34.55\n",
            " 6 total sulfur dioxide 170.60 141.83 125.25\n",
            " 7 density                0.99   0.99   0.99\n",
            " 8 pH                     3.19   3.18   3.22\n",
            " 9 sulphates              0.47   0.49   0.50\n",
            "10 alcohol               10.34  10.26  11.42\n"
          ],
          "name": "stdout"
        }
      ]
    },
    {
      "cell_type": "code",
      "metadata": {
        "id": "d4WfcxcJCydk",
        "colab_type": "code",
        "outputId": "794ba76e-88b5-435f-816c-43640d57c5ba",
        "colab": {
          "base_uri": "https://localhost:8080/",
          "height": 34
        }
      },
      "source": [
        "data.shape, target.shape\n"
      ],
      "execution_count": 13,
      "outputs": [
        {
          "output_type": "execute_result",
          "data": {
            "text/plain": [
              "(torch.Size([4898, 11]), torch.Size([4898]))"
            ]
          },
          "metadata": {
            "tags": []
          },
          "execution_count": 13
        }
      ]
    },
    {
      "cell_type": "code",
      "metadata": {
        "id": "yce9utcXHnnW",
        "colab_type": "code",
        "outputId": "168f19de-a8b4-4aea-b033-02c058f6c43c",
        "colab": {
          "base_uri": "https://localhost:8080/",
          "height": 51
        }
      },
      "source": [
        "data[1,:]"
      ],
      "execution_count": 14,
      "outputs": [
        {
          "output_type": "execute_result",
          "data": {
            "text/plain": [
              "tensor([6.3000e+00, 3.0000e-01, 3.4000e-01, 1.6000e+00, 4.9000e-02, 1.4000e+01,\n",
              "        1.3200e+02, 9.9400e-01, 3.3000e+00, 4.9000e-01, 9.5000e+00])"
            ]
          },
          "metadata": {
            "tags": []
          },
          "execution_count": 14
        }
      ]
    },
    {
      "cell_type": "code",
      "metadata": {
        "id": "-l-3OZNxG4Kx",
        "colab_type": "code",
        "outputId": "05b10ebd-3062-44bb-d39d-f0d9f115ac79",
        "colab": {
          "base_uri": "https://localhost:8080/",
          "height": 282
        }
      },
      "source": [
        "import matplotlib.pyplot as plt\n",
        "plt.scatter(data[:,10],target)"
      ],
      "execution_count": 103,
      "outputs": [
        {
          "output_type": "execute_result",
          "data": {
            "text/plain": [
              "<matplotlib.collections.PathCollection at 0x7fece270ec18>"
            ]
          },
          "metadata": {
            "tags": []
          },
          "execution_count": 103
        },
        {
          "output_type": "display_data",
          "data": {
            "image/png": "[encoded data removed]",
            "text/plain": [
              "<Figure size 432x288 with 1 Axes>"
            ]
          },
          "metadata": {
            "tags": [],
            "needs_background": "light"
          }
        }
      ]
    },
    {
      "cell_type": "code",
      "metadata": {
        "id": "k5dw72_-K64z",
        "colab_type": "code",
        "colab": {}
      },
      "source": [
        "import torch.nn as nn\n",
        "import torch.optim as optim\n",
        "\n",
        "\n",
        "\n",
        "#seperate data for traning and validate set\n",
        "n_samples = target.shape[0]\n",
        "n_val = int(0.2*n_samples)\n",
        "\n",
        "shuffled_indices = torch.randperm(n_samples)\n",
        "\n",
        "train_indices = shuffled_indices[:n_val]\n",
        "val_indices = shuffled_indices[-n_val:]\n",
        "\n",
        "# data for training\n",
        "train_data = data[train_indices]\n",
        "train_data_n = data_normalized[train_indices]\n",
        "train_target = target[train_indices]\n",
        "# data for validation\n",
        "val_data = data[val_indices]\n",
        "val_data_n = data_normalized[val_indices]\n",
        "val_target = target[val_indices]\n"
      ],
      "execution_count": 0,
      "outputs": []
    },
    {
      "cell_type": "code",
      "metadata": {
        "id": "zHBuEqnCVtsC",
        "colab_type": "code",
        "colab": {}
      },
      "source": [
        "num_features = 11\n",
        "model = nn.Linear(num_features,1) #\n",
        "#model(train_data).shape\n",
        "#model.weight, model.bias\n",
        "optimizer = optim.SGD(\n",
        "    model.parameters(),\n",
        "    lr=1e-3\n",
        ")"
      ],
      "execution_count": 0,
      "outputs": []
    },
    {
      "cell_type": "code",
      "metadata": {
        "id": "ljyPCE5QcYEj",
        "colab_type": "code",
        "outputId": "ef9e98b6-1bf9-433c-f45e-ee76bcfde0a1",
        "colab": {
          "base_uri": "https://localhost:8080/",
          "height": 102
        }
      },
      "source": [
        "model.parameters()\n",
        "list(model.parameters())"
      ],
      "execution_count": 72,
      "outputs": [
        {
          "output_type": "execute_result",
          "data": {
            "text/plain": [
              "[Parameter containing:\n",
              " tensor([[ 0.2404,  0.1469, -0.2491, -0.0234, -0.0072,  0.2540, -0.2285, -0.2662,\n",
              "          -0.0980,  0.2512, -0.0284]], requires_grad=True),\n",
              " Parameter containing:\n",
              " tensor([0.2162], requires_grad=True)]"
            ]
          },
          "metadata": {
            "tags": []
          },
          "execution_count": 72
        }
      ]
    },
    {
      "cell_type": "code",
      "metadata": {
        "id": "uW5nvKaEelQn",
        "colab_type": "code",
        "colab": {}
      },
      "source": [
        "def training_loop(n_epochs, optimizer, model, loss_fn, train_data, train_target, val_data, val_target):\n",
        "    for epoch in range(1, n_epochs+1): # one epoch: entire dataset is passed through NN once\n",
        "\n",
        "        # Attatching model and loss function\n",
        "        train_pred = model(train_data)  \n",
        "        loss_train = loss_fn(train_pred, train_target)\n",
        "\n",
        "        # To validate the model, we measure the testing error with testing data\n",
        "        val_pred = model(val_data)\n",
        "        loss_val = loss_fn(val_pred, val_target)\n",
        "\n",
        "        # Attach optimizer to train the model\n",
        "        optimizer.zero_grad() # should initialize gradient value at each iteration\n",
        "        loss_train.backward() # gradinet is calculated\n",
        "        optimizer.step() # parameter updates using gradient\n",
        "\n",
        "        if epoch==1 or epoch % 1000 ==0:\n",
        "          print('Epoch {}, Training loss {}, Validation loss {}'. format(\n",
        "              epoch, float(loss_train), float(loss_val)\n",
        "          ))"
      ],
      "execution_count": 0,
      "outputs": []
    },
    {
      "cell_type": "code",
      "metadata": {
        "id": "76tttHkrgnCz",
        "colab_type": "code",
        "outputId": "af8acf55-5284-48f7-a9b2-75cfe8e838eb",
        "colab": {
          "base_uri": "https://localhost:8080/",
          "height": 258
        }
      },
      "source": [
        "# Learning simple linear model\n",
        "import torch.nn as nn\n",
        "import torch.optim as optim\n",
        "\n",
        "# Simple Linear Model\n",
        "num_features = 11\n",
        "model = nn.Linear(num_features,1) # Simple Linear Model without Activation Function\n",
        "optimizer= optim.SGD(model.parameters(), lr=1e-3) # Stochastic Gradient Descent\n",
        "loss_fn =nn.MSELoss() # Mean Squared Error\n",
        "\n",
        "training_loop(\n",
        "    n_epochs = 10000,\n",
        "    optimizer = optimizer,\n",
        "    model=model,\n",
        "    loss_fn= loss_fn,\n",
        "    train_data = train_data_n,\n",
        "    train_target = train_target,\n",
        "    val_data = val_data_n,\n",
        "    val_target = val_target\n",
        ")\n"
      ],
      "execution_count": 75,
      "outputs": [
        {
          "output_type": "stream",
          "text": [
            "/usr/local/lib/python3.6/dist-packages/torch/nn/modules/loss.py:431: UserWarning: Using a target size (torch.Size([979])) that is different to the input size (torch.Size([979, 1])). This will likely lead to incorrect results due to broadcasting. Please ensure they have the same size.\n",
            "  return F.mse_loss(input, target, reduction=self.reduction)\n"
          ],
          "name": "stderr"
        },
        {
          "output_type": "stream",
          "text": [
            "Epoch 1, Training loss 36.771732330322266, Validation loss 36.14835739135742\n",
            "Epoch 1000, Training loss 1.4407377243041992, Validation loss 1.425511360168457\n",
            "Epoch 2000, Training loss 0.776051938533783, Validation loss 0.7688461542129517\n",
            "Epoch 3000, Training loss 0.76009202003479, Validation loss 0.7568496465682983\n",
            "Epoch 4000, Training loss 0.7591789960861206, Validation loss 0.7565187811851501\n",
            "Epoch 5000, Training loss 0.758979082107544, Validation loss 0.7563292384147644\n",
            "Epoch 6000, Training loss 0.7589055299758911, Validation loss 0.7562081217765808\n",
            "Epoch 7000, Training loss 0.7588693499565125, Validation loss 0.7561225891113281\n",
            "Epoch 8000, Training loss 0.7588489651679993, Validation loss 0.7560549974441528\n",
            "Epoch 9000, Training loss 0.7588257193565369, Validation loss 0.7560053467750549\n",
            "Epoch 10000, Training loss 0.7588234543800354, Validation loss 0.7559555172920227\n"
          ],
          "name": "stdout"
        }
      ]
    },
    {
      "cell_type": "markdown",
      "metadata": {
        "id": "wF0jwiBZoxY9",
        "colab_type": "text"
      },
      "source": [
        "#Model Training with Neural Network"
      ]
    },
    {
      "cell_type": "code",
      "metadata": {
        "id": "XwGrmV2mo6yC",
        "colab_type": "code",
        "outputId": "68fce3fb-dbaf-4a1c-efe4-8b9abada00f0",
        "colab": {
          "base_uri": "https://localhost:8080/",
          "height": 136
        }
      },
      "source": [
        "seq_model = nn.Sequential(\n",
        "    nn.Linear(num_features, 32),\n",
        "    nn.Tanh(),\n",
        "    nn.Linear(32, 4),\n",
        "    nn.ReLU(),\n",
        "    nn.Linear(4,1)\n",
        ")\n",
        "seq_model"
      ],
      "execution_count": 52,
      "outputs": [
        {
          "output_type": "execute_result",
          "data": {
            "text/plain": [
              "Sequential(\n",
              "  (0): Linear(in_features=11, out_features=32, bias=True)\n",
              "  (1): Tanh()\n",
              "  (2): Linear(in_features=32, out_features=4, bias=True)\n",
              "  (3): ReLU()\n",
              "  (4): Linear(in_features=4, out_features=1, bias=True)\n",
              ")"
            ]
          },
          "metadata": {
            "tags": []
          },
          "execution_count": 52
        }
      ]
    },
    {
      "cell_type": "code",
      "metadata": {
        "id": "eoMGngaxrbox",
        "colab_type": "code",
        "outputId": "fe76c36e-55cb-4cc2-cedd-0c67b5529969",
        "colab": {
          "base_uri": "https://localhost:8080/",
          "height": 173
        }
      },
      "source": [
        "optimizer = optim.SGD(seq_model.parameters(), lr=1e-3)\n",
        "training_loop(\n",
        "    n_epochs = 5000,\n",
        "    optimizer = optimizer,\n",
        "    model=seq_model,\n",
        "    loss_fn= loss_fn,\n",
        "    train_data = train_data_n,\n",
        "    train_target = train_target,\n",
        "    val_data = val_data_n,\n",
        "    val_target = val_target\n",
        ")"
      ],
      "execution_count": 53,
      "outputs": [
        {
          "output_type": "stream",
          "text": [
            "/usr/local/lib/python3.6/dist-packages/torch/nn/modules/loss.py:431: UserWarning: Using a target size (torch.Size([979])) that is different to the input size (torch.Size([979, 1])). This will likely lead to incorrect results due to broadcasting. Please ensure they have the same size.\n",
            "  return F.mse_loss(input, target, reduction=self.reduction)\n"
          ],
          "name": "stderr"
        },
        {
          "output_type": "stream",
          "text": [
            "Epoch 1, Training loss 35.236083984375, Validation loss 34.237361907958984\n",
            "Epoch 1000, Training loss 0.8018761277198792, Validation loss 0.8588002324104309\n",
            "Epoch 2000, Training loss 0.7844345569610596, Validation loss 0.8421185612678528\n",
            "Epoch 3000, Training loss 0.7816824913024902, Validation loss 0.8398268222808838\n",
            "Epoch 4000, Training loss 0.7800170183181763, Validation loss 0.8383466005325317\n",
            "Epoch 5000, Training loss 0.778697669506073, Validation loss 0.8371195197105408\n"
          ],
          "name": "stdout"
        }
      ]
    },
    {
      "cell_type": "markdown",
      "metadata": {
        "id": "Mo0K64IUx3kk",
        "colab_type": "text"
      },
      "source": [
        "#Alternate features for training"
      ]
    },
    {
      "cell_type": "code",
      "metadata": {
        "id": "9kQEr0ltuVgd",
        "colab_type": "code",
        "colab": {}
      },
      "source": [
        "Selected_features = [3, 4 , 5, 6, 7]\n",
        "# data for training\n",
        "train_X = data[:,Selected_features]\n",
        "train_X = train_X[train_indices]\n",
        "train_Xn = data_normalized[:, Selected_features]\n",
        "train_Xn = train_Xn[train_indices]\n",
        "train_Y = target[train_indices]\n",
        "# data for validation\n",
        "val_X = data[:,Selected_features]\n",
        "val_X = val_X[val_indices]\n",
        "val_Xn = data_normalized[:, Selected_features]\n",
        "val_Xn = val_Xn[val_indices]\n",
        "val_Y = target[val_indices]"
      ],
      "execution_count": 0,
      "outputs": []
    },
    {
      "cell_type": "code",
      "metadata": {
        "id": "U2yQZJ1kyCBz",
        "colab_type": "code",
        "outputId": "4d3bd0be-e996-4eff-c1d7-5d402fa72eb7",
        "colab": {
          "base_uri": "https://localhost:8080/",
          "height": 204
        }
      },
      "source": [
        "num_features = len(Selected_features)\n",
        "seq_model = nn.Sequential(\n",
        "    nn.Linear(num_features, 16),\n",
        "    nn.Tanh(),\n",
        "    nn.Linear(16, 8),\n",
        "    nn.LeakyReLU(negative_slope=0.01),\n",
        "    nn.Linear(8, 4),\n",
        "    nn.ReLU(),\n",
        "    nn.Linear(4, 2),\n",
        "    nn.ReLU(),\n",
        "    nn.Linear(2,1)\n",
        ")\n",
        "seq_model"
      ],
      "execution_count": 110,
      "outputs": [
        {
          "output_type": "execute_result",
          "data": {
            "text/plain": [
              "Sequential(\n",
              "  (0): Linear(in_features=5, out_features=16, bias=True)\n",
              "  (1): Tanh()\n",
              "  (2): Linear(in_features=16, out_features=8, bias=True)\n",
              "  (3): LeakyReLU(negative_slope=0.01)\n",
              "  (4): Linear(in_features=8, out_features=4, bias=True)\n",
              "  (5): ReLU()\n",
              "  (6): Linear(in_features=4, out_features=2, bias=True)\n",
              "  (7): ReLU()\n",
              "  (8): Linear(in_features=2, out_features=1, bias=True)\n",
              ")"
            ]
          },
          "metadata": {
            "tags": []
          },
          "execution_count": 110
        }
      ]
    },
    {
      "cell_type": "markdown",
      "metadata": {
        "id": "ubST1xpYzp68",
        "colab_type": "text"
      },
      "source": [
        "#Training and Validation"
      ]
    },
    {
      "cell_type": "code",
      "metadata": {
        "id": "5DlopGJVzpCq",
        "colab_type": "code",
        "outputId": "34bbddc8-d6e8-4fbe-ad96-bff7df38c390",
        "colab": {
          "base_uri": "https://localhost:8080/",
          "height": 173
        }
      },
      "source": [
        "optimizer = optim.SGD(seq_model.parameters(), lr=1e-3)\n",
        "training_loop(\n",
        "    n_epochs = 5000,\n",
        "    optimizer = optimizer,\n",
        "    model=seq_model,\n",
        "    loss_fn= loss_fn,\n",
        "    train_data = train_Xn,\n",
        "    train_target = train_Y,\n",
        "    val_data = val_Xn,\n",
        "    val_target = val_Y\n",
        ")"
      ],
      "execution_count": 111,
      "outputs": [
        {
          "output_type": "stream",
          "text": [
            "/usr/local/lib/python3.6/dist-packages/torch/nn/modules/loss.py:431: UserWarning: Using a target size (torch.Size([979])) that is different to the input size (torch.Size([979, 1])). This will likely lead to incorrect results due to broadcasting. Please ensure they have the same size.\n",
            "  return F.mse_loss(input, target, reduction=self.reduction)\n"
          ],
          "name": "stderr"
        },
        {
          "output_type": "stream",
          "text": [
            "Epoch 1, Training loss 38.08927536010742, Validation loss 37.75503921508789\n",
            "Epoch 1000, Training loss 1.4245073795318604, Validation loss 1.3760415315628052\n",
            "Epoch 2000, Training loss 0.7706736922264099, Validation loss 0.7611550688743591\n",
            "Epoch 3000, Training loss 0.7588997483253479, Validation loss 0.7546520829200745\n",
            "Epoch 4000, Training loss 0.7587037086486816, Validation loss 0.7551652789115906\n",
            "Epoch 5000, Training loss 0.758446991443634, Validation loss 0.7549996972084045\n"
          ],
          "name": "stdout"
        }
      ]
    },
    {
      "cell_type": "code",
      "metadata": {
        "id": "US-zbQXE1ZqM",
        "colab_type": "code",
        "outputId": "a4331cf9-d9d4-470a-866a-94cfd332d313",
        "colab": {
          "base_uri": "https://localhost:8080/",
          "height": 34
        }
      },
      "source": [
        "target.unsqueeze(0)\n",
        "#val_data.shape\n",
        "target.size(0)"
      ],
      "execution_count": 0,
      "outputs": [
        {
          "output_type": "execute_result",
          "data": {
            "text/plain": [
              "4898"
            ]
          },
          "metadata": {
            "tags": []
          },
          "execution_count": 139
        }
      ]
    },
    {
      "cell_type": "code",
      "metadata": {
        "id": "QGuLf2iT8I4O",
        "colab_type": "code",
        "outputId": "7bc6fd22-9c72-4182-d61a-b1d37fa8fa05",
        "colab": {
          "base_uri": "https://localhost:8080/",
          "height": 34
        }
      },
      "source": [
        "num = 215\n",
        "seq_model(val_Xn[num]), val_Y[num]"
      ],
      "execution_count": 87,
      "outputs": [
        {
          "output_type": "execute_result",
          "data": {
            "text/plain": [
              "(tensor([6.0217], grad_fn=<AddBackward0>), tensor(5.))"
            ]
          },
          "metadata": {
            "tags": []
          },
          "execution_count": 87
        }
      ]
    },
    {
      "cell_type": "code",
      "metadata": {
        "id": "8XNEtGe9_XNy",
        "colab_type": "code",
        "colab": {}
      },
      "source": [
        "val_Y <= 3\n"
      ],
      "execution_count": 0,
      "outputs": []
    },
    {
      "cell_type": "code",
      "metadata": {
        "id": "uqvJB5cjiGCM",
        "colab_type": "code",
        "colab": {
          "base_uri": "https://localhost:8080/",
          "height": 289
        },
        "outputId": "ba2b5225-b03a-4b33-a724-a48148649f4b"
      },
      "source": [
        "for idx, m in enumerate(seq_model.modules()):\n",
        "        print(idx, '->', m)"
      ],
      "execution_count": 85,
      "outputs": [
        {
          "output_type": "stream",
          "text": [
            "0 -> Sequential(\n",
            "  (0): Linear(in_features=4, out_features=16, bias=True)\n",
            "  (1): Tanh()\n",
            "  (2): Linear(in_features=16, out_features=8, bias=True)\n",
            "  (3): LeakyReLU(negative_slope=0.01)\n",
            "  (4): Linear(in_features=8, out_features=2, bias=True)\n",
            "  (5): ReLU()\n",
            "  (6): Linear(in_features=2, out_features=1, bias=True)\n",
            ")\n",
            "1 -> Linear(in_features=4, out_features=16, bias=True)\n",
            "2 -> Tanh()\n",
            "3 -> Linear(in_features=16, out_features=8, bias=True)\n",
            "4 -> LeakyReLU(negative_slope=0.01)\n",
            "5 -> Linear(in_features=8, out_features=2, bias=True)\n",
            "6 -> ReLU()\n",
            "7 -> Linear(in_features=2, out_features=1, bias=True)\n"
          ],
          "name": "stdout"
        }
      ]
    }
  ]
}