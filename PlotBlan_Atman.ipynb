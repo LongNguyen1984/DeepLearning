{
  "nbformat": 4,
  "nbformat_minor": 0,
  "metadata": {
    "colab": {
      "name": "Untitled12.ipynb",
      "provenance": [],
      "authorship_tag": "ABX9TyNMogegsuKqXtaX6Wwm7j3s",
      "include_colab_link": true
    },
    "kernelspec": {
      "name": "python3",
      "display_name": "Python 3"
    }
  },
  "cells": [
    {
      "cell_type": "markdown",
      "metadata": {
        "id": "view-in-github",
        "colab_type": "text"
      },
      "source": [
        "<a href=\"https://colab.research.google.com/github/LongNguyen1984/DeepLearning/blob/master/PlotBlan_Atman.ipynb\" target=\"_parent\"><img src=\"https://colab.research.google.com/assets/colab-badge.svg\" alt=\"Open In Colab\"/></a>"
      ]
    },
    {
      "cell_type": "code",
      "metadata": {
        "id": "gdYm7MN1he54",
        "colab_type": "code",
        "colab": {}
      },
      "source": [
        ""
      ],
      "execution_count": null,
      "outputs": []
    },
    {
      "cell_type": "code",
      "metadata": {
        "id": "c0AA-BmPg1UC",
        "colab_type": "code",
        "colab": {}
      },
      "source": [
        "import numpy as np\n",
        "import pandas as pd\n",
        "\n",
        "import matplotlib.pyplot as plt\n",
        "from matplotlib import gridspec\n",
        "\n",
        "import seaborn as sns\n",
        "import scipy.stats as st\n",
        "\n",
        "import warnings\n",
        "warnings.filterwarnings('ignore')"
      ],
      "execution_count": 2,
      "outputs": []
    },
    {
      "cell_type": "code",
      "metadata": {
        "id": "PNGa9jVBh1Ao",
        "colab_type": "code",
        "colab": {
          "base_uri": "https://localhost:8080/",
          "height": 417
        },
        "outputId": "63c66f9f-b61d-4f26-94bb-0993ffe15b07"
      },
      "source": [
        "ba_df = pd.DataFrame({'Class':[], 'Ref':[],})\n",
        "\n",
        "for m,c in zip([1,3,6],list('ABC')):\n",
        "  temp = pd.DataFrame({'Class':list(c*100),\n",
        "                       'Ref': np.random.gamma(m,0.5,100),\n",
        "                       'Target': np.random.gamma(m,0.5,100) - np.random.gamma(m/2,1,100)})\n",
        "  ba_df = pd.concat([ba_df, temp])\n",
        "\n",
        "ba_df['Difference'] = ba_df['Target'] - ba_df['Ref']\n",
        "\n",
        "ba_df"
      ],
      "execution_count": 6,
      "outputs": [
        {
          "output_type": "execute_result",
          "data": {
            "text/html": [
              "<div>\n",
              "<style scoped>\n",
              "    .dataframe tbody tr th:only-of-type {\n",
              "        vertical-align: middle;\n",
              "    }\n",
              "\n",
              "    .dataframe tbody tr th {\n",
              "        vertical-align: top;\n",
              "    }\n",
              "\n",
              "    .dataframe thead th {\n",
              "        text-align: right;\n",
              "    }\n",
              "</style>\n",
              "<table border=\"1\" class=\"dataframe\">\n",
              "  <thead>\n",
              "    <tr style=\"text-align: right;\">\n",
              "      <th></th>\n",
              "      <th>Class</th>\n",
              "      <th>Ref</th>\n",
              "      <th>Target</th>\n",
              "      <th>Difference</th>\n",
              "    </tr>\n",
              "  </thead>\n",
              "  <tbody>\n",
              "    <tr>\n",
              "      <th>0</th>\n",
              "      <td>A</td>\n",
              "      <td>0.135259</td>\n",
              "      <td>0.719251</td>\n",
              "      <td>0.583992</td>\n",
              "    </tr>\n",
              "    <tr>\n",
              "      <th>1</th>\n",
              "      <td>A</td>\n",
              "      <td>0.041699</td>\n",
              "      <td>-3.147344</td>\n",
              "      <td>-3.189044</td>\n",
              "    </tr>\n",
              "    <tr>\n",
              "      <th>2</th>\n",
              "      <td>A</td>\n",
              "      <td>0.849222</td>\n",
              "      <td>-0.805059</td>\n",
              "      <td>-1.654282</td>\n",
              "    </tr>\n",
              "    <tr>\n",
              "      <th>3</th>\n",
              "      <td>A</td>\n",
              "      <td>0.084980</td>\n",
              "      <td>0.222644</td>\n",
              "      <td>0.137664</td>\n",
              "    </tr>\n",
              "    <tr>\n",
              "      <th>4</th>\n",
              "      <td>A</td>\n",
              "      <td>0.252399</td>\n",
              "      <td>0.423729</td>\n",
              "      <td>0.171330</td>\n",
              "    </tr>\n",
              "    <tr>\n",
              "      <th>...</th>\n",
              "      <td>...</td>\n",
              "      <td>...</td>\n",
              "      <td>...</td>\n",
              "      <td>...</td>\n",
              "    </tr>\n",
              "    <tr>\n",
              "      <th>95</th>\n",
              "      <td>C</td>\n",
              "      <td>2.680721</td>\n",
              "      <td>0.986603</td>\n",
              "      <td>-1.694118</td>\n",
              "    </tr>\n",
              "    <tr>\n",
              "      <th>96</th>\n",
              "      <td>C</td>\n",
              "      <td>3.231299</td>\n",
              "      <td>-0.310933</td>\n",
              "      <td>-3.542232</td>\n",
              "    </tr>\n",
              "    <tr>\n",
              "      <th>97</th>\n",
              "      <td>C</td>\n",
              "      <td>3.589473</td>\n",
              "      <td>-1.475887</td>\n",
              "      <td>-5.065360</td>\n",
              "    </tr>\n",
              "    <tr>\n",
              "      <th>98</th>\n",
              "      <td>C</td>\n",
              "      <td>3.402574</td>\n",
              "      <td>-0.390504</td>\n",
              "      <td>-3.793078</td>\n",
              "    </tr>\n",
              "    <tr>\n",
              "      <th>99</th>\n",
              "      <td>C</td>\n",
              "      <td>0.866686</td>\n",
              "      <td>3.506130</td>\n",
              "      <td>2.639444</td>\n",
              "    </tr>\n",
              "  </tbody>\n",
              "</table>\n",
              "<p>300 rows × 4 columns</p>\n",
              "</div>"
            ],
            "text/plain": [
              "   Class       Ref    Target  Difference\n",
              "0      A  0.135259  0.719251    0.583992\n",
              "1      A  0.041699 -3.147344   -3.189044\n",
              "2      A  0.849222 -0.805059   -1.654282\n",
              "3      A  0.084980  0.222644    0.137664\n",
              "4      A  0.252399  0.423729    0.171330\n",
              "..   ...       ...       ...         ...\n",
              "95     C  2.680721  0.986603   -1.694118\n",
              "96     C  3.231299 -0.310933   -3.542232\n",
              "97     C  3.589473 -1.475887   -5.065360\n",
              "98     C  3.402574 -0.390504   -3.793078\n",
              "99     C  0.866686  3.506130    2.639444\n",
              "\n",
              "[300 rows x 4 columns]"
            ]
          },
          "metadata": {
            "tags": []
          },
          "execution_count": 6
        }
      ]
    },
    {
      "cell_type": "code",
      "metadata": {
        "id": "0me1pbB8itXK",
        "colab_type": "code",
        "colab": {
          "base_uri": "https://localhost:8080/",
          "height": 172
        },
        "outputId": "439b2b76-1832-4e6c-9083-683c006fe29f"
      },
      "source": [
        "ba_df.groupby('Class').describe(percentiles = [0.05,0.5,0.95])['Difference']\n"
      ],
      "execution_count": 7,
      "outputs": [
        {
          "output_type": "execute_result",
          "data": {
            "text/html": [
              "<div>\n",
              "<style scoped>\n",
              "    .dataframe tbody tr th:only-of-type {\n",
              "        vertical-align: middle;\n",
              "    }\n",
              "\n",
              "    .dataframe tbody tr th {\n",
              "        vertical-align: top;\n",
              "    }\n",
              "\n",
              "    .dataframe thead th {\n",
              "        text-align: right;\n",
              "    }\n",
              "</style>\n",
              "<table border=\"1\" class=\"dataframe\">\n",
              "  <thead>\n",
              "    <tr style=\"text-align: right;\">\n",
              "      <th></th>\n",
              "      <th>count</th>\n",
              "      <th>mean</th>\n",
              "      <th>std</th>\n",
              "      <th>min</th>\n",
              "      <th>5%</th>\n",
              "      <th>50%</th>\n",
              "      <th>95%</th>\n",
              "      <th>max</th>\n",
              "    </tr>\n",
              "    <tr>\n",
              "      <th>Class</th>\n",
              "      <th></th>\n",
              "      <th></th>\n",
              "      <th></th>\n",
              "      <th></th>\n",
              "      <th></th>\n",
              "      <th></th>\n",
              "      <th></th>\n",
              "      <th></th>\n",
              "    </tr>\n",
              "  </thead>\n",
              "  <tbody>\n",
              "    <tr>\n",
              "      <th>A</th>\n",
              "      <td>100.0</td>\n",
              "      <td>-0.461337</td>\n",
              "      <td>1.020073</td>\n",
              "      <td>-3.627352</td>\n",
              "      <td>-2.123913</td>\n",
              "      <td>-0.322295</td>\n",
              "      <td>0.850180</td>\n",
              "      <td>2.169829</td>\n",
              "    </tr>\n",
              "    <tr>\n",
              "      <th>B</th>\n",
              "      <td>100.0</td>\n",
              "      <td>-1.363477</td>\n",
              "      <td>1.683479</td>\n",
              "      <td>-6.465957</td>\n",
              "      <td>-4.476119</td>\n",
              "      <td>-1.215059</td>\n",
              "      <td>1.078863</td>\n",
              "      <td>2.157863</td>\n",
              "    </tr>\n",
              "    <tr>\n",
              "      <th>C</th>\n",
              "      <td>100.0</td>\n",
              "      <td>-2.973961</td>\n",
              "      <td>2.696700</td>\n",
              "      <td>-10.131785</td>\n",
              "      <td>-7.653065</td>\n",
              "      <td>-2.582053</td>\n",
              "      <td>0.900090</td>\n",
              "      <td>4.050394</td>\n",
              "    </tr>\n",
              "  </tbody>\n",
              "</table>\n",
              "</div>"
            ],
            "text/plain": [
              "       count      mean       std  ...       50%       95%       max\n",
              "Class                             ...                              \n",
              "A      100.0 -0.461337  1.020073  ... -0.322295  0.850180  2.169829\n",
              "B      100.0 -1.363477  1.683479  ... -1.215059  1.078863  2.157863\n",
              "C      100.0 -2.973961  2.696700  ... -2.582053  0.900090  4.050394\n",
              "\n",
              "[3 rows x 8 columns]"
            ]
          },
          "metadata": {
            "tags": []
          },
          "execution_count": 7
        }
      ]
    },
    {
      "cell_type": "code",
      "metadata": {
        "id": "P2KNzVK2lEdV",
        "colab_type": "code",
        "colab": {
          "base_uri": "https://localhost:8080/",
          "height": 34
        },
        "outputId": "eb65fac7-54ae-44ac-932e-ff488f710bea"
      },
      "source": [
        "# Kích thước font chữ\n",
        "plt.rcParams.update({'font.size': 15})\n",
        "\n",
        "# Thiết kế lưới biểu đồ 2x2, tỉ lệ rộng 3:1 và cao 1:3 dùng GridSpec:\n",
        "\n",
        "gs = gridspec.GridSpec(2, 2, width_ratios=[3,1], height_ratios=[1,3])\n",
        "gs.update(hspace=0.09, wspace=0.09)\n",
        "\n",
        "# Tạo object biểu đồ kích thước 16x10, nền trắng\n",
        "\n",
        "fig = plt.figure(figsize=(12,8))\n",
        "\n",
        "fig.patch.set_facecolor('white')\n",
        "\n",
        "# Tạo 2 phổ màu liên tục/rời rạc cho 3 phân nhóm\n",
        "fill = ['Greens','YlOrRd','Reds'] \n",
        "edge = ['#73cc06', '#fcba03', '#fc035a']\n",
        "\n"
      ],
      "execution_count": 8,
      "outputs": [
        {
          "output_type": "display_data",
          "data": {
            "text/plain": [
              "<Figure size 864x576 with 0 Axes>"
            ]
          },
          "metadata": {
            "tags": []
          }
        }
      ]
    },
    {
      "cell_type": "code",
      "metadata": {
        "id": "Ak6PzcdLmPiD",
        "colab_type": "code",
        "colab": {}
      },
      "source": [
        "# Tính 3 trị số Median, phân vị 5 và 95 của Difference cho toàn quần thể\n",
        "ba_stat = ba_df['Difference'].describe(percentiles = [0.05,0.5,0.95])[4:7].to_list()\n",
        "\n",
        "# Xác định giới hạn trên và dưới của trục hoành, trục tung\n",
        "\n",
        "xmin, xmax = min(ba_df['Ref'])-0.5, max(ba_df['Ref'])+0.5\n",
        "ymin, ymax = min(ba_df['Difference'])-1, max(ba_df['Difference'])+1"
      ],
      "execution_count": 11,
      "outputs": []
    },
    {
      "cell_type": "code",
      "metadata": {
        "id": "g19IXA5gmgRS",
        "colab_type": "code",
        "colab": {
          "base_uri": "https://localhost:8080/",
          "height": 252
        },
        "outputId": "34c16d44-7f00-4de1-f94b-f77d797ab878"
      },
      "source": [
        "# Thiết kế hệ trục cho panel chính (2D KDE và tán xạ)\n",
        "ax = plt.subplot(gs[1,0]) \n",
        "ax.set_xlim(xmin, xmax)\n",
        "ax.set_ylim(ymin, ymax)\n",
        "ax.grid(True)\n",
        "\n",
        "ax.set_ylabel('Sai biệt 2 phép đo')\n",
        "ax.set_xlabel('Thang đo tham chiếu')"
      ],
      "execution_count": 12,
      "outputs": [
        {
          "output_type": "execute_result",
          "data": {
            "text/plain": [
              "Text(0.5, 0, 'Thang đo tham chiếu')"
            ]
          },
          "metadata": {
            "tags": []
          },
          "execution_count": 12
        },
        {
          "output_type": "display_data",
          "data": {
            "image/png": "[encoded data removed]",
            "text/plain": [
              "<Figure size 432x288 with 1 Axes>"
            ]
          },
          "metadata": {
            "tags": [],
            "needs_background": "light"
          }
        }
      ]
    },
    {
      "cell_type": "code",
      "metadata": {
        "id": "paWuQ2Hommp6",
        "colab_type": "code",
        "colab": {
          "base_uri": "https://localhost:8080/",
          "height": 291
        },
        "outputId": "cac591d8-68fe-45fb-8a2f-b6dd8ae7774f"
      },
      "source": [
        "# Thiết kế hệ trục cho panel chính (2D KDE và tán xạ)\n",
        "ax = plt.subplot(gs[1,0]) \n",
        "ax.set_xlim(xmin, xmax)\n",
        "ax.set_ylim(ymin, ymax)\n",
        "ax.grid(True)\n",
        "\n",
        "ax.set_ylabel('Sai biệt 2 phép đo')\n",
        "ax.set_xlabel('Thang đo tham chiếu')\n",
        "# Vẽ KDE plots\n",
        "\n",
        "for s,fc,ec in zip(ba_df['Class'].unique(), fill, edge):\n",
        "    x = ba_df[ba_df['Class'] == s]['Ref'].values\n",
        "    y = ba_df[ba_df['Class'] == s]['Difference'].values\n",
        "    n = len(x)\n",
        "\n",
        "    # Ước tính kernel density 2D cho mỗi phân nhóm\n",
        "    \n",
        "    xx, yy = np.mgrid[xmin:xmax:100j, ymin:ymax:100j]\n",
        "    positions = np.vstack([xx.ravel(), yy.ravel()])\n",
        "    values = np.vstack([x, y])\n",
        "    kernel = st.gaussian_kde(values)\n",
        "    f = np.reshape(kernel(positions).T, xx.shape)\n",
        "    \n",
        "    # Vẽ 2D KDE plot (lớp nền của panel chính)\n",
        "    \n",
        "    cfset = ax.contourf(xx, yy, f, levels=5, cmap = fc, alpha = 0.2, extend = 'neither')\n",
        "    cset = ax.contour(xx, yy, f, colors = ec, levels=5, linewidths=0.5, alpha = 0.5)\n",
        "    \n",
        "    # Vẽ 2 1D KDE plot cho marginal distribution\n",
        "    \n",
        "    axl = plt.subplot(gs[0,0], sharex=ax) # Instantiate right KDE plot area\n",
        "    axl.get_xaxis().set_visible(False) \n",
        "    axl.get_yaxis().set_visible(False)\n",
        "    axl.spines[\"right\"].set_visible(False)\n",
        "    axl.spines[\"left\"].set_visible(False)\n",
        "    axl.spines[\"top\"].set_visible(False)\n",
        "    axl.spines[\"bottom\"].set_visible(False)\n",
        "    \n",
        "    axb = plt.subplot(gs[1,1], sharey=ax) # Instantiate top KDE plot area\n",
        "    axb.get_xaxis().set_visible(False) # Hide tick marks and spines\n",
        "    axb.get_yaxis().set_visible(False)\n",
        "    axb.spines[\"right\"].set_visible(False)\n",
        "    axb.spines[\"left\"].set_visible(False)\n",
        "    axb.spines[\"top\"].set_visible(False)\n",
        "    axb.spines[\"bottom\"].set_visible(False)\n",
        "    \n",
        "    # Trục tung\n",
        "    axb = sns.kdeplot(y, \n",
        "                      ax = axb, \n",
        "                      color = ec, \n",
        "                      shade = True, \n",
        "                      alpha = 0.3,\n",
        "                      vertical = True)\n",
        "    # trục hoành\n",
        "    axl = sns.kdeplot(x, \n",
        "                      ax = axl, \n",
        "                      color = ec, \n",
        "                      alpha = 0.3,\n",
        "                      shade = True, \n",
        "                      vertical = False)\n",
        "    \n",
        "# Vẽ biểu đồ tán xạ, hiển thị trị số thống kê\n",
        "\n",
        "for s,ec in zip(ba_df['Class'].unique(), edge):\n",
        "    x = ba_df[ba_df['Class'] == s]['Ref'].values\n",
        "    y = ba_df[ba_df['Class'] == s]['Difference'].values\n",
        "    \n",
        "    xm = np.median(x)\n",
        "    ym = np.median(y)\n",
        "    \n",
        "    # Trị số cho quần thể\n",
        "    ax.text(xmax + 0.2, ym, f'{ym:.3}', \n",
        "            ha='center', \n",
        "            va='center',\n",
        "            color= ec)\n",
        "    \n",
        "    axb.hlines(y = ym, xmin = 0, xmax=0.5,\n",
        "         linestyles = 'dashed',\n",
        "         alpha = 0.5,\n",
        "         color = ec)\n",
        "    \n",
        "    # Biểu đồ tán xạ\n",
        "    sns.scatterplot(x,y,\n",
        "                ax = ax, \n",
        "                alpha = 0.6, \n",
        "                color = ec, \n",
        "                s = 80,\n",
        "                label = s)\n",
        "# Legend panel chính\n",
        "ax.legend(loc = 'lower left')\n",
        "\n",
        "ax.hlines(y = ba_stat + [0],\n",
        "          xmin = xmin, \n",
        "          xmax = xmax,\n",
        "         linestyles = 'dashed',\n",
        "         alpha = 0.5)\n",
        "\n",
        "# Trị số cho phân nhóm\n",
        "for i in ba_stat:\n",
        "    ax.text(x = xmax - 0.8, \n",
        "            y = i,\n",
        "            s = f'{i:.3}',\n",
        "            color='k')\n",
        "    \n",
        "plt.show()\n"
      ],
      "execution_count": 19,
      "outputs": [
        {
          "output_type": "display_data",
          "data": {
            "image/png": "[encoded data removed]",
            "text/plain": [
              "<Figure size 432x288 with 3 Axes>"
            ]
          },
          "metadata": {
            "tags": [],
            "needs_background": "light"
          }
        }
      ]
    },
    {
      "cell_type": "code",
      "metadata": {
        "id": "-NyqpMGLpgRx",
        "colab_type": "code",
        "colab": {}
      },
      "source": [
        ""
      ],
      "execution_count": null,
      "outputs": []
    }
  ]
}