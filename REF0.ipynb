{
  "nbformat": 4,
  "nbformat_minor": 0,
  "metadata": {
    "colab": {
      "name": "REF0.ipynb",
      "provenance": [],
      "collapsed_sections": [],
      "authorship_tag": "ABX9TyPpP6DyoCeqO7bx18oIoPC+",
      "include_colab_link": true
    },
    "kernelspec": {
      "name": "python3",
      "display_name": "Python 3"
    }
  },
  "cells": [
    {
      "cell_type": "markdown",
      "metadata": {
        "id": "view-in-github",
        "colab_type": "text"
      },
      "source": [
        "<a href=\"https://colab.research.google.com/github/LongNguyen1984/DeepLearning/blob/master/REF0.ipynb\" target=\"_parent\"><img src=\"https://colab.research.google.com/assets/colab-badge.svg\" alt=\"Open In Colab\"/></a>"
      ]
    },
    {
      "cell_type": "code",
      "metadata": {
        "id": "7tEbkUXEv43A",
        "colab_type": "code",
        "colab": {
          "base_uri": "https://localhost:8080/",
          "height": 34
        },
        "outputId": "c49def9b-183b-4526-a4ac-dccfa47ff8d0"
      },
      "source": [
        "from numpy import mean\n",
        "from numpy import std\n",
        "from sklearn.datasets import make_classification\n",
        "from sklearn.model_selection import cross_val_score\n",
        "from sklearn.model_selection import RepeatedStratifiedKFold\n",
        "from sklearn.feature_selection import RFE\n",
        "from sklearn.tree import DecisionTreeClassifier\n",
        "from sklearn.pipeline import Pipeline\n",
        "\n",
        "# define dataset\n",
        "X, y = make_classification(n_samples=1000, n_features=10, n_informative=5,random_state=1 )\n",
        "# create pipeline\n",
        "rfe = RFE(estimator=DecisionTreeClassifier(), n_features_to_select=5)\n",
        "model=DecisionTreeClassifier()\n",
        "pipeline = Pipeline(steps=[('s',rfe),('m',model)])\n",
        "# evaluation model\n",
        "cv = RepeatedStratifiedKFold(n_splits=10, n_repeats=3, random_state=1)\n",
        "n_scores = cross_val_score(pipeline, X, y, scoring='accuracy', cv=cv, n_jobs=-1)\n",
        "# resort performance\n",
        "print('Accuracy: %.3f (%.3f)' % (mean(n_scores), std(n_scores)))"
      ],
      "execution_count": 3,
      "outputs": [
        {
          "output_type": "stream",
          "text": [
            "Accuracy: 0.856 (0.028)\n"
          ],
          "name": "stdout"
        }
      ]
    },
    {
      "cell_type": "markdown",
      "metadata": {
        "id": "gDqJu4D7y9QA",
        "colab_type": "text"
      },
      "source": [
        "Evaluate the model"
      ]
    },
    {
      "cell_type": "code",
      "metadata": {
        "id": "TnfAHpmXyrun",
        "colab_type": "code",
        "colab": {
          "base_uri": "https://localhost:8080/",
          "height": 34
        },
        "outputId": "4fe54a00-6517-478f-8d5d-282a6bfb767e"
      },
      "source": [
        "from sklearn.datasets import make_classification\n",
        "from sklearn.feature_selection import RFE\n",
        "from sklearn.tree import DecisionTreeClassifier\n",
        "from sklearn.pipeline import Pipeline\n",
        "\n",
        "# define dataset \n",
        "X, y = make_classification(n_samples=1000, n_features=10, n_informative=5,n_redundant=5, random_state=1)\n",
        "# create pipeline\n",
        "rfe = RFE(estimator=DecisionTreeClassifier(), n_features_to_select=5)\n",
        "model=DecisionTreeClassifier()\n",
        "pipeline = Pipeline(steps=[('s', rfe), ('m', model)])\n",
        "# fit the model on all available data\n",
        "pipeline.fit(X, y)\n",
        "# make a prediction for one example\n",
        "data = [[2.56999479, -0.13019997, 3.16075093, -4.35936352, -1.61271951, -1.39352057,\n",
        "-2.48924933, -1.93094078, 3.26130366, 2.05692145]]\n",
        "yhat = pipeline.predict(data)\n",
        "print('Predicted Class: %d' %(yhat))"
      ],
      "execution_count": 12,
      "outputs": [
        {
          "output_type": "stream",
          "text": [
            "Predicted Class: 1\n"
          ],
          "name": "stdout"
        }
      ]
    },
    {
      "cell_type": "markdown",
      "metadata": {
        "id": "RqwY03hw2JLp",
        "colab_type": "text"
      },
      "source": [
        "RFE for Regression"
      ]
    },
    {
      "cell_type": "code",
      "metadata": {
        "id": "574Mih731cDt",
        "colab_type": "code",
        "colab": {
          "base_uri": "https://localhost:8080/",
          "height": 34
        },
        "outputId": "468be42e-50a0-4e87-9a8b-1e5ebb62a512"
      },
      "source": [
        "from sklearn.datasets import make_regression\n",
        "from numpy import mean\n",
        "from numpy import std\n",
        "from sklearn.model_selection import cross_val_score\n",
        "from sklearn.model_selection import RepeatedKFold\n",
        "from sklearn.feature_selection import RFE\n",
        "from sklearn.tree import DecisionTreeRegressor\n",
        "from sklearn.pipeline import Pipeline\n",
        "# define dataset\n",
        "X, y = make_regression(n_samples=1000, n_features=10, n_informative=5, random_state=1)\n",
        "# create pipeline\n",
        "rfe = RFE(estimator=DecisionTreeRegressor(), n_features_to_select=5)\n",
        "model = DecisionTreeRegressor()\n",
        "pipeline = Pipeline(steps=[('s',rfe), ('m', model)])\n",
        "# evaluate model\n",
        "cv = RepeatedKFold(n_splits=10, n_repeats=3, random_state=1)\n",
        "n_scores = cross_val_score(pipeline, X, y, scoring='neg_mean_absolute_error', cv=cv, n_jobs=-1)\n",
        "# report performance\n",
        "print('MAE: %.3f (%.3f' %(mean(n_scores), std(n_scores)))"
      ],
      "execution_count": 4,
      "outputs": [
        {
          "output_type": "stream",
          "text": [
            "MAE: -27.300 (3.100\n"
          ],
          "name": "stdout"
        }
      ]
    },
    {
      "cell_type": "markdown",
      "metadata": {
        "id": "rrwu771yVU7R",
        "colab_type": "text"
      },
      "source": [
        "# Make prediction for example"
      ]
    },
    {
      "cell_type": "code",
      "metadata": {
        "id": "ANAlV3YqUli4",
        "colab_type": "code",
        "colab": {
          "base_uri": "https://localhost:8080/",
          "height": 34
        },
        "outputId": "db8b297e-87a9-4084-ae85-9d3d763c66a0"
      },
      "source": [
        "from sklearn.datasets import make_regression\n",
        "from sklearn.feature_selection import RFE\n",
        "from sklearn.tree import DecisionTreeRegressor\n",
        "from sklearn.pipeline import Pipeline\n",
        "# define dataset\n",
        "X, y = make_regression(n_samples=1000, n_features=10, n_informative=5, random_state=1)\n",
        "# create pipeline\n",
        "rfe = RFE(estimator=DecisionTreeRegressor(), n_features_to_select=5)\n",
        "model = DecisionTreeRegressor()\n",
        "pipeline= Pipeline(steps=[('s', rfe),('m',model)])\n",
        "# fit the model\n",
        "pipeline.fit(X, y)\n",
        "# make a prediction for example\n",
        "data = [[-2.02220122, 0.31563495, 0.82797464, -0.30620401, 0.16003707, -1.44411381,\n",
        "0.87616892, -0.50446586, 0.23009474, 0.76201118]]\n",
        "yhat = pipeline.predict(data)\n",
        "print('Predicted: %.3f'%(yhat))\n"
      ],
      "execution_count": 7,
      "outputs": [
        {
          "output_type": "stream",
          "text": [
            "Predicted: -84.288\n"
          ],
          "name": "stdout"
        }
      ]
    },
    {
      "cell_type": "markdown",
      "metadata": {
        "id": "lkLJKu28YYg4",
        "colab_type": "text"
      },
      "source": [
        "Explore # Features"
      ]
    },
    {
      "cell_type": "code",
      "metadata": {
        "id": "m7dCe8VOYXvL",
        "colab_type": "code",
        "colab": {
          "base_uri": "https://localhost:8080/",
          "height": 401
        },
        "outputId": "17bc73dd-068b-434f-e494-9d92795ff103"
      },
      "source": [
        "from sklearn.datasets import make_classification\n",
        "from sklearn.model_selection import cross_val_score\n",
        "from sklearn.model_selection import RepeatedStratifiedKFold\n",
        "from sklearn.feature_selection import RFE\n",
        "from sklearn.tree import DecisionTreeClassifier\n",
        "from sklearn.pipeline import Pipeline\n",
        "from matplotlib import pyplot\n",
        "\n",
        "# get the dataset\n",
        "def get_dataset():\n",
        "  X, y = make_classification(n_samples=1000, n_features=10, n_informative=5, n_redundant=5,random_state=1)\n",
        "  return X, y\n",
        "\n",
        "# get a list of models to evaluate\n",
        "def get_models():\n",
        "  models = dict()\n",
        "  for i in range(2, 10):\n",
        "    rfe = RFE(estimator=DecisionTreeClassifier(), n_features_to_select=i)\n",
        "    model = DecisionTreeClassifier()\n",
        "    models[str(i)] = Pipeline(steps=[('s', rfe),('m', model)])\n",
        "  return models\n",
        "\n",
        "# evaluate a given model using cross-validation\n",
        "def evaluate_model(model, X, y):\n",
        "  cv = RepeatedStratifiedKFold(n_splits=10, n_repeats=3, random_state=1)\n",
        "  scores = cross_val_score(model, X, y, scoring='accuracy', cv=cv, n_jobs=-1)\n",
        "  return scores\n",
        "\n",
        "# define dataset\n",
        "X, y = get_dataset()\n",
        "# get the models to evaluate\n",
        "models = get_models()\n",
        "# evaluate the models and store results\n",
        "results, names = list(), list()\n",
        "for name, model in models.items():\n",
        "  scores = evaluate_model(model, X, y)\n",
        "  results.append(scores)\n",
        "  names.append(name)\n",
        "  print('>%s %.3f (%.3f)' % (name, mean(scores),std(scores)))\n",
        "# plot model performance for comparison\n",
        "pyplot.boxplot(results, labels=names, showmeans=True)\n",
        "pyplot.show()"
      ],
      "execution_count": 10,
      "outputs": [
        {
          "output_type": "stream",
          "text": [
            ">2 0.713 (0.042)\n",
            ">3 0.826 (0.029)\n",
            ">4 0.871 (0.028)\n",
            ">5 0.890 (0.030)\n",
            ">6 0.883 (0.028)\n",
            ">7 0.888 (0.027)\n",
            ">8 0.887 (0.024)\n",
            ">9 0.885 (0.029)\n"
          ],
          "name": "stdout"
        },
        {
          "output_type": "display_data",
          "data": {
            "image/png": "[encoded data removed]",
            "text/plain": [
              "<Figure size 432x288 with 1 Axes>"
            ]
          },
          "metadata": {
            "tags": [],
            "needs_background": "light"
          }
        }
      ]
    },
    {
      "cell_type": "markdown",
      "metadata": {
        "id": "x1Q3Z1wOir5I",
        "colab_type": "text"
      },
      "source": [
        "Automatically select the number of Features"
      ]
    },
    {
      "cell_type": "code",
      "metadata": {
        "id": "HzYy9L5FhldE",
        "colab_type": "code",
        "colab": {
          "base_uri": "https://localhost:8080/",
          "height": 34
        },
        "outputId": "aad51cc3-94df-44a0-b529-e0eb92c390ec"
      },
      "source": [
        "# automatically choose the number of features\n",
        "from numpy import mean\n",
        "from numpy import std\n",
        "from sklearn.datasets import make_classification\n",
        "from sklearn.model_selection import cross_val_score\n",
        "from sklearn.model_selection import RepeatedStratifiedKFold\n",
        "from sklearn.feature_selection import RFECV\n",
        "from sklearn.tree import DecisionTreeClassifier\n",
        "from sklearn.pipeline import Pipeline\n",
        "# define dataset\n",
        "X, y = make_classification(n_samples=1000, n_features=10, n_informative=5, n_redundant=5, random_state=1)\n",
        "\n",
        "# create pipeline\n",
        "rfe = RFECV(estimator=DecisionTreeClassifier())\n",
        "model = DecisionTreeClassifier()\n",
        "pipeline = Pipeline(steps=[('s', rfe), ('m', model)])\n",
        "\n",
        "# evaluate model\n",
        "cv = RepeatedStratifiedKFold(n_splits=10, n_repeats=3, random_state=1)\n",
        "n_scores = cross_val_score(pipeline, X, y, scoring='accuracy', cv=cv, n_jobs=-1)\n",
        "# report performance\n",
        "print('Accuarcy: %.3f (%.3f)' %(mean(n_scores), std(n_scores)))\n",
        " "
      ],
      "execution_count": 13,
      "outputs": [
        {
          "output_type": "stream",
          "text": [
            "Accuarcy: 0.889 (0.032)\n"
          ],
          "name": "stdout"
        }
      ]
    },
    {
      "cell_type": "markdown",
      "metadata": {
        "id": "oQGYdMHImr2V",
        "colab_type": "text"
      },
      "source": [
        "Report features are selected"
      ]
    },
    {
      "cell_type": "code",
      "metadata": {
        "id": "VBxdR_MflfCJ",
        "colab_type": "code",
        "colab": {
          "base_uri": "https://localhost:8080/",
          "height": 187
        },
        "outputId": "f87f1539-a4d9-4dca-8325-f79e253ca59e"
      },
      "source": [
        "from sklearn.datasets import make_classification\n",
        "from sklearn.feature_selection import RFE\n",
        "from sklearn.tree import DecisionTreeClassifier\n",
        "\n",
        "# define dataset \n",
        "X, y = make_classification(n_samples=1000, n_features=10, n_informative=5, n_redundant=5, random_state=1)\n",
        "\n",
        "# define RFE\n",
        "rfe = RFE(estimator=DecisionTreeClassifier(), n_features_to_select=5)\n",
        "# fit RFE\n",
        "rfe.fit(X, y)\n",
        "for i in range(X.shape[1]):\n",
        "  print('Column: %d, Selected=%s, Rank: %d' %(i, rfe.support_[i], rfe.ranking_[i]))"
      ],
      "execution_count": 15,
      "outputs": [
        {
          "output_type": "stream",
          "text": [
            "Column: 0, Selected=False, Rank: 4\n",
            "Column: 1, Selected=False, Rank: 5\n",
            "Column: 2, Selected=True, Rank: 1\n",
            "Column: 3, Selected=True, Rank: 1\n",
            "Column: 4, Selected=True, Rank: 1\n",
            "Column: 5, Selected=False, Rank: 6\n",
            "Column: 6, Selected=True, Rank: 1\n",
            "Column: 7, Selected=False, Rank: 2\n",
            "Column: 8, Selected=True, Rank: 1\n",
            "Column: 9, Selected=False, Rank: 3\n"
          ],
          "name": "stdout"
        }
      ]
    },
    {
      "cell_type": "markdown",
      "metadata": {
        "id": "KhptVKugpDS8",
        "colab_type": "text"
      },
      "source": [
        "Explore Base Algorithm"
      ]
    },
    {
      "cell_type": "code",
      "metadata": {
        "id": "LYR23b6On7lI",
        "colab_type": "code",
        "colab": {
          "base_uri": "https://localhost:8080/",
          "height": 506
        },
        "outputId": "0dd46652-869f-4375-f456-0768667bb958"
      },
      "source": [
        "from numpy import mean\n",
        "from numpy import std\n",
        "from sklearn.datasets import make_classification\n",
        "from sklearn.model_selection import cross_val_score\n",
        "from sklearn.model_selection import RepeatedStratifiedKFold\n",
        "from sklearn.linear_model import LogisticRegression\n",
        "from sklearn.linear_model import Perceptron\n",
        "from sklearn.tree import DecisionTreeClassifier\n",
        "from sklearn.ensemble import RandomForestClassifier\n",
        "from sklearn.feature_selection import RFE\n",
        "from sklearn.ensemble import GradientBoostingClassifier\n",
        "from sklearn.pipeline import Pipeline\n",
        "from matplotlib import pyplot\n",
        "\n",
        "# get the dataset\n",
        "def get_dataset():\n",
        "  X, y = make_classification(n_samples=1000, n_features=10, n_informative=5, n_redundant=5, random_state=1)\n",
        "  return X, y\n",
        "\n",
        "# get a list model to evaluate\n",
        "def get_models():\n",
        "  models= dict()\n",
        "  # cart\n",
        "  rfe = RFE(estimator=DecisionTreeClassifier(), n_features_to_select= 5)\n",
        "  model = DecisionTreeClassifier()\n",
        "  models['cart'] = Pipeline(steps=[('s', rfe), ('m', model)])\n",
        "  # lr\n",
        "  rfe = RFE(estimator=LogisticRegression(), n_features_to_select=5)\n",
        "  model = DecisionTreeClassifier()\n",
        "  models['lr'] = Pipeline(steps=[('s', rfe), ('m', model)])\n",
        "  # perceptron\n",
        "  rfe = RFE(estimator=Perceptron, n_features_to_select= 5)\n",
        "  model = DecisionTreeClassifier()\n",
        "  models['per'] = Pipeline(steps=[('s', rfe),('m', model)])\n",
        "  # rf\n",
        "  rfe = RFE(estimator=RandomForestClassifier(), n_features_to_select= 5)\n",
        "  model = DecisionTreeClassifier()\n",
        "  models['rf'] = Pipeline(steps=[('s', rfe),('m', model)])\n",
        "  # gbm\n",
        "  rfe = RFE(estimator=GradientBoostingClassifier(), n_features_to_select= 5)\n",
        "  model = DecisionTreeClassifier()\n",
        "  models['gbm'] = Pipeline(steps=[('s',rfe), ('m', model)])\n",
        "  return models\n",
        "\n",
        "# evaluate a given model using cross-validation\n",
        "def evaluate_model(X, y, model):\n",
        "  cv = RepeatedStratifiedKFold(n_splits=10, n_repeats=3, random_state=1)\n",
        "  #scores = cross_val_score(model, X, y, scoring='accuracy', cv=cv, n_jobs=-1)\n",
        "  scores = cross_val_score(model, X, y, scoring='accuracy', cv=cv, n_jobs=-1)\n",
        "  return scores\n",
        "\n",
        "# define dataset\n",
        "X, y = get_dataset()\n",
        "models = get_models()\n",
        "# evaluate the models and store reults\n",
        "results, names = list(), list()\n",
        "for name, model  in models.items():\n",
        "  scores = evaluate_model(X, y, model)\n",
        "  results.append(scores)\n",
        "  names.append(name)\n",
        "  print('>%s %.3f (%.3f)'% (name, mean(scores),std(scores)))\n",
        "\n",
        "pyplot.boxplot(results, labels=names, showmeans=True)\n",
        "pyplot.show()"
      ],
      "execution_count": 28,
      "outputs": [
        {
          "output_type": "stream",
          "text": [
            ">cart 0.891 (0.034)\n",
            ">lr 0.895 (0.030)\n",
            ">per nan (nan)\n",
            ">rf 0.857 (0.037)\n",
            ">gbm 0.889 (0.027)\n"
          ],
          "name": "stdout"
        },
        {
          "output_type": "stream",
          "text": [
            "/usr/local/lib/python3.6/dist-packages/matplotlib/cbook/__init__.py:1239: RuntimeWarning: invalid value encountered in less_equal\n",
            "  wiskhi = x[x <= hival]\n",
            "/usr/local/lib/python3.6/dist-packages/matplotlib/cbook/__init__.py:1246: RuntimeWarning: invalid value encountered in greater_equal\n",
            "  wisklo = x[x >= loval]\n",
            "/usr/local/lib/python3.6/dist-packages/matplotlib/cbook/__init__.py:1254: RuntimeWarning: invalid value encountered in less\n",
            "  x[x < stats['whislo']],\n",
            "/usr/local/lib/python3.6/dist-packages/matplotlib/cbook/__init__.py:1255: RuntimeWarning: invalid value encountered in greater\n",
            "  x[x > stats['whishi']],\n"
          ],
          "name": "stderr"
        },
        {
          "output_type": "display_data",
          "data": {
            "image/png": "[encoded data removed]",
            "text/plain": [
              "<Figure size 432x288 with 1 Axes>"
            ]
          },
          "metadata": {
            "tags": [],
            "needs_background": "light"
          }
        }
      ]
    }
  ]
}