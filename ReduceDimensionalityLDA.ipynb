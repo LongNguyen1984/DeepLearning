{
  "nbformat": 4,
  "nbformat_minor": 0,
  "metadata": {
    "colab": {
      "name": "ReduceDimensionalityLDA.ipynb",
      "provenance": [],
      "authorship_tag": "ABX9TyMlck+4u29cvygFKI7JB3KY",
      "include_colab_link": true
    },
    "kernelspec": {
      "name": "python3",
      "display_name": "Python 3"
    }
  },
  "cells": [
    {
      "cell_type": "markdown",
      "metadata": {
        "id": "view-in-github",
        "colab_type": "text"
      },
      "source": [
        "<a href=\"https://colab.research.google.com/github/LongNguyen1984/DeepLearning/blob/master/ReduceDimensionalityLDA.ipynb\" target=\"_parent\"><img src=\"https://colab.research.google.com/assets/colab-badge.svg\" alt=\"Open In Colab\"/></a>"
      ]
    },
    {
      "cell_type": "markdown",
      "metadata": {
        "id": "vcYqutRCmIKW"
      },
      "source": [
        ""
      ]
    },
    {
      "cell_type": "markdown",
      "metadata": {
        "id": "4Xw2MJifmJXq"
      },
      "source": [
        "# LDA for Dimensionality"
      ]
    },
    {
      "cell_type": "code",
      "metadata": {
        "id": "G57Bs6Bhli9o",
        "outputId": "cd91cbea-8fc2-48ba-a5a5-99ac4132a382",
        "colab": {
          "base_uri": "https://localhost:8080/",
          "height": 34
        }
      },
      "source": [
        "from sklearn.datasets import make_classification\n",
        "# define dataset\n",
        "X, y = make_classification(n_samples=1000, n_features=20, n_informative=15, n_redundant=5, random_state=7, n_classes=10)\n",
        "# summarize the dataset\n",
        "print(X.shape, y.shape)"
      ],
      "execution_count": 1,
      "outputs": [
        {
          "output_type": "stream",
          "text": [
            "(1000, 20) (1000,)\n"
          ],
          "name": "stdout"
        }
      ]
    },
    {
      "cell_type": "code",
      "metadata": {
        "id": "MQKngGxWmsQS",
        "outputId": "25224d7e-379f-4fdd-ab95-b8762e26883a",
        "colab": {
          "base_uri": "https://localhost:8080/",
          "height": 317
        }
      },
      "source": [
        "from pandas import DataFrame\n",
        "\n",
        "data = DataFrame(X)\n",
        "\n",
        "data.describe()"
      ],
      "execution_count": 8,
      "outputs": [
        {
          "output_type": "execute_result",
          "data": {
            "text/html": [
              "<div>\n",
              "<style scoped>\n",
              "    .dataframe tbody tr th:only-of-type {\n",
              "        vertical-align: middle;\n",
              "    }\n",
              "\n",
              "    .dataframe tbody tr th {\n",
              "        vertical-align: top;\n",
              "    }\n",
              "\n",
              "    .dataframe thead th {\n",
              "        text-align: right;\n",
              "    }\n",
              "</style>\n",
              "<table border=\"1\" class=\"dataframe\">\n",
              "  <thead>\n",
              "    <tr style=\"text-align: right;\">\n",
              "      <th></th>\n",
              "      <th>0</th>\n",
              "      <th>1</th>\n",
              "      <th>2</th>\n",
              "      <th>3</th>\n",
              "      <th>4</th>\n",
              "      <th>5</th>\n",
              "      <th>6</th>\n",
              "      <th>7</th>\n",
              "      <th>8</th>\n",
              "      <th>9</th>\n",
              "      <th>10</th>\n",
              "      <th>11</th>\n",
              "      <th>12</th>\n",
              "      <th>13</th>\n",
              "      <th>14</th>\n",
              "      <th>15</th>\n",
              "      <th>16</th>\n",
              "      <th>17</th>\n",
              "      <th>18</th>\n",
              "      <th>19</th>\n",
              "    </tr>\n",
              "  </thead>\n",
              "  <tbody>\n",
              "    <tr>\n",
              "      <th>count</th>\n",
              "      <td>1000.000000</td>\n",
              "      <td>1000.000000</td>\n",
              "      <td>1000.000000</td>\n",
              "      <td>1000.000000</td>\n",
              "      <td>1000.000000</td>\n",
              "      <td>1000.000000</td>\n",
              "      <td>1000.000000</td>\n",
              "      <td>1000.000000</td>\n",
              "      <td>1000.000000</td>\n",
              "      <td>1000.000000</td>\n",
              "      <td>1000.000000</td>\n",
              "      <td>1000.000000</td>\n",
              "      <td>1000.000000</td>\n",
              "      <td>1000.000000</td>\n",
              "      <td>1000.000000</td>\n",
              "      <td>1000.000000</td>\n",
              "      <td>1000.000000</td>\n",
              "      <td>1000.000000</td>\n",
              "      <td>1000.000000</td>\n",
              "      <td>1000.000000</td>\n",
              "    </tr>\n",
              "    <tr>\n",
              "      <th>mean</th>\n",
              "      <td>0.018862</td>\n",
              "      <td>-0.043877</td>\n",
              "      <td>-0.057865</td>\n",
              "      <td>0.183645</td>\n",
              "      <td>0.206488</td>\n",
              "      <td>-0.193094</td>\n",
              "      <td>0.218815</td>\n",
              "      <td>-0.024705</td>\n",
              "      <td>0.296297</td>\n",
              "      <td>0.240362</td>\n",
              "      <td>-0.001164</td>\n",
              "      <td>-0.003211</td>\n",
              "      <td>-0.153293</td>\n",
              "      <td>0.082007</td>\n",
              "      <td>-0.051242</td>\n",
              "      <td>0.194310</td>\n",
              "      <td>0.256724</td>\n",
              "      <td>-0.149698</td>\n",
              "      <td>-0.088372</td>\n",
              "      <td>-0.076443</td>\n",
              "    </tr>\n",
              "    <tr>\n",
              "      <th>std</th>\n",
              "      <td>2.506608</td>\n",
              "      <td>2.350602</td>\n",
              "      <td>2.432945</td>\n",
              "      <td>2.524786</td>\n",
              "      <td>2.464224</td>\n",
              "      <td>2.413442</td>\n",
              "      <td>4.737338</td>\n",
              "      <td>2.392380</td>\n",
              "      <td>2.304274</td>\n",
              "      <td>2.517042</td>\n",
              "      <td>2.480857</td>\n",
              "      <td>2.396293</td>\n",
              "      <td>2.450081</td>\n",
              "      <td>2.456493</td>\n",
              "      <td>5.036228</td>\n",
              "      <td>3.991143</td>\n",
              "      <td>5.494851</td>\n",
              "      <td>2.348804</td>\n",
              "      <td>5.868931</td>\n",
              "      <td>2.412466</td>\n",
              "    </tr>\n",
              "    <tr>\n",
              "      <th>min</th>\n",
              "      <td>-7.675693</td>\n",
              "      <td>-8.107427</td>\n",
              "      <td>-8.830680</td>\n",
              "      <td>-6.837536</td>\n",
              "      <td>-8.567316</td>\n",
              "      <td>-7.905394</td>\n",
              "      <td>-15.018973</td>\n",
              "      <td>-7.852942</td>\n",
              "      <td>-7.491923</td>\n",
              "      <td>-7.804725</td>\n",
              "      <td>-7.861388</td>\n",
              "      <td>-8.128062</td>\n",
              "      <td>-8.391578</td>\n",
              "      <td>-7.922476</td>\n",
              "      <td>-20.048064</td>\n",
              "      <td>-12.165636</td>\n",
              "      <td>-17.901929</td>\n",
              "      <td>-6.457394</td>\n",
              "      <td>-18.004591</td>\n",
              "      <td>-8.166330</td>\n",
              "    </tr>\n",
              "    <tr>\n",
              "      <th>25%</th>\n",
              "      <td>-1.616194</td>\n",
              "      <td>-1.659523</td>\n",
              "      <td>-1.691041</td>\n",
              "      <td>-1.538337</td>\n",
              "      <td>-1.341500</td>\n",
              "      <td>-1.881793</td>\n",
              "      <td>-3.003704</td>\n",
              "      <td>-1.741144</td>\n",
              "      <td>-1.222793</td>\n",
              "      <td>-1.485641</td>\n",
              "      <td>-1.686387</td>\n",
              "      <td>-1.702637</td>\n",
              "      <td>-1.741146</td>\n",
              "      <td>-1.614412</td>\n",
              "      <td>-3.360856</td>\n",
              "      <td>-2.294772</td>\n",
              "      <td>-3.534891</td>\n",
              "      <td>-1.760968</td>\n",
              "      <td>-3.783395</td>\n",
              "      <td>-1.658864</td>\n",
              "    </tr>\n",
              "    <tr>\n",
              "      <th>50%</th>\n",
              "      <td>0.043652</td>\n",
              "      <td>-0.101637</td>\n",
              "      <td>-0.112116</td>\n",
              "      <td>0.061208</td>\n",
              "      <td>0.339598</td>\n",
              "      <td>-0.260319</td>\n",
              "      <td>0.178964</td>\n",
              "      <td>-0.051169</td>\n",
              "      <td>0.401475</td>\n",
              "      <td>0.293676</td>\n",
              "      <td>0.116502</td>\n",
              "      <td>0.041322</td>\n",
              "      <td>-0.155806</td>\n",
              "      <td>0.012360</td>\n",
              "      <td>-0.279802</td>\n",
              "      <td>0.166842</td>\n",
              "      <td>0.180549</td>\n",
              "      <td>-0.193503</td>\n",
              "      <td>0.059243</td>\n",
              "      <td>-0.015873</td>\n",
              "    </tr>\n",
              "    <tr>\n",
              "      <th>75%</th>\n",
              "      <td>1.719971</td>\n",
              "      <td>1.507719</td>\n",
              "      <td>1.638904</td>\n",
              "      <td>1.820311</td>\n",
              "      <td>1.836074</td>\n",
              "      <td>1.386881</td>\n",
              "      <td>3.393895</td>\n",
              "      <td>1.609771</td>\n",
              "      <td>1.771900</td>\n",
              "      <td>1.995521</td>\n",
              "      <td>1.720626</td>\n",
              "      <td>1.684899</td>\n",
              "      <td>1.527424</td>\n",
              "      <td>1.773075</td>\n",
              "      <td>3.263355</td>\n",
              "      <td>3.058610</td>\n",
              "      <td>3.870828</td>\n",
              "      <td>1.444916</td>\n",
              "      <td>3.578888</td>\n",
              "      <td>1.471422</td>\n",
              "    </tr>\n",
              "    <tr>\n",
              "      <th>max</th>\n",
              "      <td>9.142013</td>\n",
              "      <td>7.757881</td>\n",
              "      <td>9.121767</td>\n",
              "      <td>8.344221</td>\n",
              "      <td>8.262274</td>\n",
              "      <td>8.829394</td>\n",
              "      <td>16.561288</td>\n",
              "      <td>7.652723</td>\n",
              "      <td>9.937798</td>\n",
              "      <td>8.694329</td>\n",
              "      <td>7.806757</td>\n",
              "      <td>7.023117</td>\n",
              "      <td>7.432787</td>\n",
              "      <td>7.947612</td>\n",
              "      <td>16.874730</td>\n",
              "      <td>13.303366</td>\n",
              "      <td>16.857447</td>\n",
              "      <td>7.702123</td>\n",
              "      <td>23.817840</td>\n",
              "      <td>6.778958</td>\n",
              "    </tr>\n",
              "  </tbody>\n",
              "</table>\n",
              "</div>"
            ],
            "text/plain": [
              "                0            1   ...           18           19\n",
              "count  1000.000000  1000.000000  ...  1000.000000  1000.000000\n",
              "mean      0.018862    -0.043877  ...    -0.088372    -0.076443\n",
              "std       2.506608     2.350602  ...     5.868931     2.412466\n",
              "min      -7.675693    -8.107427  ...   -18.004591    -8.166330\n",
              "25%      -1.616194    -1.659523  ...    -3.783395    -1.658864\n",
              "50%       0.043652    -0.101637  ...     0.059243    -0.015873\n",
              "75%       1.719971     1.507719  ...     3.578888     1.471422\n",
              "max       9.142013     7.757881  ...    23.817840     6.778958\n",
              "\n",
              "[8 rows x 20 columns]"
            ]
          },
          "metadata": {
            "tags": []
          },
          "execution_count": 8
        }
      ]
    },
    {
      "cell_type": "code",
      "metadata": {
        "id": "-rOacNAPo_81"
      },
      "source": [
        "# correlation between collumn\n",
        "ccorr = data.corr(method ='pearson') "
      ],
      "execution_count": 10,
      "outputs": []
    },
    {
      "cell_type": "code",
      "metadata": {
        "id": "zHCcu_ymp2vY",
        "outputId": "71b01abd-e769-4ccf-d0b8-5c8c696a3c24",
        "colab": {
          "base_uri": "https://localhost:8080/",
          "height": 269
        }
      },
      "source": [
        "import seaborn as sns\n",
        "ax = sns.heatmap(ccorr)"
      ],
      "execution_count": 12,
      "outputs": [
        {
          "output_type": "display_data",
          "data": {
            "image/png": "[encoded data removed]",
            "text/plain": [
              "<Figure size 432x288 with 2 Axes>"
            ]
          },
          "metadata": {
            "tags": [],
            "needs_background": "light"
          }
        }
      ]
    },
    {
      "cell_type": "code",
      "metadata": {
        "id": "bPJLp7N9q7Hn",
        "outputId": "0d809eb7-d8ed-420a-b446-35ff218a990c",
        "colab": {
          "base_uri": "https://localhost:8080/",
          "height": 34
        }
      },
      "source": [
        "# evaluate lda with naive bayes algorithm for classification\n",
        "from numpy import  mean\n",
        "from numpy import std\n",
        "from sklearn.datasets import make_classification\n",
        "from sklearn.model_selection import cross_val_score\n",
        "from sklearn.model_selection import RepeatedStratifiedKFold\n",
        "from sklearn.pipeline import Pipeline\n",
        "from sklearn.discriminant_analysis import LinearDiscriminantAnalysis\n",
        "from sklearn.naive_bayes import GaussianNB\n",
        "# define dataset\n",
        "X, y = make_classification(n_samples=1000, n_features=20, n_informative=15, n_redundant=5, random_state=7, n_classes=10)\n",
        "# defune the pipeline\n",
        "steps = [('lda', LinearDiscriminantAnalysis(n_components=5)), ('m', GaussianNB())]\n",
        "model= Pipeline(steps=steps)\n",
        "# evaluate model\n",
        "cv = RepeatedStratifiedKFold(n_splits=10, n_repeats=3, random_state=1)\n",
        "n_scores = cross_val_score(model, X, y, scoring='accuracy', cv=cv, n_jobs=-1)\n",
        "# report performance\n",
        "print('Accuracy: %.3f (%.3f)' %(mean(n_scores), std(n_scores)))\n"
      ],
      "execution_count": 13,
      "outputs": [
        {
          "output_type": "stream",
          "text": [
            "Accuracy: 0.314 (0.049)\n"
          ],
          "name": "stdout"
        }
      ]
    },
    {
      "cell_type": "code",
      "metadata": {
        "id": "r1CushDZtAGB",
        "outputId": "3895e21f-e034-40af-85b4-2f3432aa1b72",
        "colab": {
          "base_uri": "https://localhost:8080/",
          "height": 418
        }
      },
      "source": [
        "# compare lda number of components with naive bayes algorithm for classification\n",
        "from numpy import mean\n",
        "from numpy import std\n",
        "from sklearn.datasets import make_classification\n",
        "from sklearn.model_selection import cross_val_score\n",
        "from sklearn.model_selection import RepeatedStratifiedKFold\n",
        "from sklearn.pipeline import Pipeline\n",
        "from sklearn.discriminant_analysis import LinearDiscriminantAnalysis\n",
        "from sklearn.naive_bayes import GaussianNB\n",
        "from matplotlib import pyplot\n",
        "# get the dataset\n",
        "def get_dataset():\n",
        "  X, y = make_classification(n_samples=1000, n_features=20, n_informative=15,\n",
        "  n_redundant=5, random_state=7, n_classes=10)\n",
        "  return X, y\n",
        "# get a list of models to evaluate\n",
        "def get_models():\n",
        "  models = dict()\n",
        "  for i in range(1,10):\n",
        "    steps = [('lda', LinearDiscriminantAnalysis(n_components=i)), ('m', GaussianNB())]\n",
        "    models[str(i)] = Pipeline(steps=steps)\n",
        "  return models\n",
        "# evaluate a given model using cross-validation\n",
        "def evaluate_model(model, X, y):\n",
        "  cv = RepeatedStratifiedKFold(n_splits=10, n_repeats=3, random_state=1)\n",
        "  scores = cross_val_score(model, X, y, scoring='accuracy', cv=cv, n_jobs=-1)\n",
        "  return scores\n",
        "\n",
        "# define dataset\n",
        "X, y = get_dataset()\n",
        "# get the models to evaluate\n",
        "models = get_models()\n",
        "# evaluate the models and store results\n",
        "results, names = list(), list()\n",
        "for name, model in models.items():\n",
        "  scores = evaluate_model(model, X, y)\n",
        "  results.append(scores)\n",
        "  names.append(name)\n",
        "  print('>%s %.3f (%.3f)' % (name, mean(scores), std(scores)))\n",
        "# plot model performance for comparison\n",
        "pyplot.boxplot(results, labels=names, showmeans=True)\n",
        "pyplot.show()"
      ],
      "execution_count": 15,
      "outputs": [
        {
          "output_type": "stream",
          "text": [
            ">1 0.182 (0.032)\n",
            ">2 0.235 (0.036)\n",
            ">3 0.267 (0.038)\n",
            ">4 0.303 (0.037)\n",
            ">5 0.314 (0.049)\n",
            ">6 0.314 (0.040)\n",
            ">7 0.329 (0.042)\n",
            ">8 0.343 (0.045)\n",
            ">9 0.358 (0.056)\n"
          ],
          "name": "stdout"
        },
        {
          "output_type": "display_data",
          "data": {
            "image/png": "[encoded data removed]",
            "text/plain": [
              "<Figure size 432x288 with 1 Axes>"
            ]
          },
          "metadata": {
            "tags": [],
            "needs_background": "light"
          }
        }
      ]
    },
    {
      "cell_type": "markdown",
      "metadata": {
        "id": "kBO-0zxKuDcL"
      },
      "source": [
        "# Predict with model"
      ]
    },
    {
      "cell_type": "code",
      "metadata": {
        "id": "swY4uKmSuCSM",
        "outputId": "f200f52c-5370-4c37-be95-bbc56b83e9de",
        "colab": {
          "base_uri": "https://localhost:8080/",
          "height": 34
        }
      },
      "source": [
        "from sklearn.datasets import make_classification\n",
        "from sklearn.pipeline import  Pipeline\n",
        "from sklearn.discriminant_analysis import LinearDiscriminantAnalysis\n",
        "from sklearn.naive_bayes import GaussianNB\n",
        "# define dataset\n",
        "X, y = make_classification(n_samples=1000, n_features=20, n_informative=15, n_redundant=5,\n",
        "random_state=7, n_classes=10)\n",
        "# define the model\n",
        "steps = [('lda', LinearDiscriminantAnalysis(n_components=9)), ('m', GaussianNB())]\n",
        "model = Pipeline(steps=steps)\n",
        "# fit the model on the whole dataset\n",
        "model.fit(X, y)\n",
        "# make a single prediction\n",
        "row = [[2.3548775, -1.69674567, 1.6193882, -1.19668862, -2.85422348, -2.00998376,\n",
        "16.56128782, 2.57257575, 9.93779782, 0.43415008, 6.08274911, 2.12689336, 1.70100279,\n",
        "3.32160983, 13.02048541, -3.05034488, 2.06346747, -3.33390362, 2.45147541, -1.23455205]]\n",
        "yhat = model.predict(row)\n",
        "print('Predicted Class: %d' % yhat[0])"
      ],
      "execution_count": 16,
      "outputs": [
        {
          "output_type": "stream",
          "text": [
            "Predicted Class: 6\n"
          ],
          "name": "stdout"
        }
      ]
    }
  ]
}