{
  "nbformat": 4,
  "nbformat_minor": 0,
  "metadata": {
    "colab": {
      "name": "SVMprocesing.ipynb",
      "provenance": [],
      "mount_file_id": "1xm-QlBEfQSpIvbliBuJDKhNFhwFqGu3b",
      "authorship_tag": "ABX9TyOgMWkjiF58ZaPFc4EE8eaa",
      "include_colab_link": true
    },
    "kernelspec": {
      "name": "python3",
      "display_name": "Python 3"
    }
  },
  "cells": [
    {
      "cell_type": "markdown",
      "metadata": {
        "id": "view-in-github",
        "colab_type": "text"
      },
      "source": [
        "<a href=\"https://colab.research.google.com/github/LongNguyen1984/DeepLearning/blob/master/SVMprocesing.ipynb\" target=\"_parent\"><img src=\"https://colab.research.google.com/assets/colab-badge.svg\" alt=\"Open In Colab\"/></a>"
      ]
    },
    {
      "cell_type": "markdown",
      "metadata": {
        "id": "HYxpwFi3sW8u"
      },
      "source": [
        "Implement SVM with Scikit-Learn"
      ]
    },
    {
      "cell_type": "code",
      "metadata": {
        "id": "iLDNs6lbsNk8"
      },
      "source": [
        "import pandas as pd\n",
        "import numpy as np\n",
        "import matplotlib.pyplot as plt\n",
        "%matplotlib inline\n",
        "\n"
      ],
      "execution_count": null,
      "outputs": []
    },
    {
      "cell_type": "markdown",
      "metadata": {
        "id": "pbo6SVTYsppp"
      },
      "source": [
        "Importing the Dataset"
      ]
    },
    {
      "cell_type": "code",
      "metadata": {
        "id": "CdNbgm1XsonK",
        "outputId": "bed14e27-e1cf-47d4-ca11-572dc550d280",
        "colab": {
          "base_uri": "https://localhost:8080/",
          "height": 268
        }
      },
      "source": [
        "dataset = pd.read_csv('drive/My Drive/Dataset/data_banknote_authentication.txt', header=None)\n",
        "fig = dataset.hist(xlabelsize=4, ylabelsize=4)\n",
        "[x.title.set_size(4) for x in fig.ravel()]\n",
        "# show the histograms\n",
        "plt.show()"
      ],
      "execution_count": null,
      "outputs": [
        {
          "output_type": "display_data",
          "data": {
            "image/png": "[encoded data removed]",
            "text/plain": [
              "<Figure size 432x288 with 6 Axes>"
            ]
          },
          "metadata": {
            "tags": [],
            "needs_background": "light"
          }
        }
      ]
    },
    {
      "cell_type": "code",
      "metadata": {
        "id": "br6997xvtfuk",
        "outputId": "b190532c-2946-481a-bf23-a19324c90a13",
        "colab": {
          "base_uri": "https://localhost:8080/",
          "height": 272
        }
      },
      "source": [
        "print(dataset.shape)\n",
        "print(dataset.describe)"
      ],
      "execution_count": null,
      "outputs": [
        {
          "output_type": "stream",
          "text": [
            "(1372, 5)\n",
            "<bound method NDFrame.describe of             0         1        2        3  4\n",
            "0     3.62160   8.66610  -2.8073 -0.44699  0\n",
            "1     4.54590   8.16740  -2.4586 -1.46210  0\n",
            "2     3.86600  -2.63830   1.9242  0.10645  0\n",
            "3     3.45660   9.52280  -4.0112 -3.59440  0\n",
            "4     0.32924  -4.45520   4.5718 -0.98880  0\n",
            "...       ...       ...      ...      ... ..\n",
            "1367  0.40614   1.34920  -1.4501 -0.55949  1\n",
            "1368 -1.38870  -4.87730   6.4774  0.34179  1\n",
            "1369 -3.75030 -13.45860  17.5932 -2.77710  1\n",
            "1370 -3.56370  -8.38270  12.3930 -1.28230  1\n",
            "1371 -2.54190  -0.65804   2.6842  1.19520  1\n",
            "\n",
            "[1372 rows x 5 columns]>\n"
          ],
          "name": "stdout"
        }
      ]
    },
    {
      "cell_type": "code",
      "metadata": {
        "id": "KnTpsXiIwz0i",
        "outputId": "4e386b92-fd6c-4464-89e2-16d15677a354",
        "colab": {
          "base_uri": "https://localhost:8080/",
          "height": 204
        }
      },
      "source": [
        "dataset.head()"
      ],
      "execution_count": null,
      "outputs": [
        {
          "output_type": "execute_result",
          "data": {
            "text/html": [
              "<div>\n",
              "<style scoped>\n",
              "    .dataframe tbody tr th:only-of-type {\n",
              "        vertical-align: middle;\n",
              "    }\n",
              "\n",
              "    .dataframe tbody tr th {\n",
              "        vertical-align: top;\n",
              "    }\n",
              "\n",
              "    .dataframe thead th {\n",
              "        text-align: right;\n",
              "    }\n",
              "</style>\n",
              "<table border=\"1\" class=\"dataframe\">\n",
              "  <thead>\n",
              "    <tr style=\"text-align: right;\">\n",
              "      <th></th>\n",
              "      <th>0</th>\n",
              "      <th>1</th>\n",
              "      <th>2</th>\n",
              "      <th>3</th>\n",
              "      <th>4</th>\n",
              "    </tr>\n",
              "  </thead>\n",
              "  <tbody>\n",
              "    <tr>\n",
              "      <th>0</th>\n",
              "      <td>3.62160</td>\n",
              "      <td>8.6661</td>\n",
              "      <td>-2.8073</td>\n",
              "      <td>-0.44699</td>\n",
              "      <td>0</td>\n",
              "    </tr>\n",
              "    <tr>\n",
              "      <th>1</th>\n",
              "      <td>4.54590</td>\n",
              "      <td>8.1674</td>\n",
              "      <td>-2.4586</td>\n",
              "      <td>-1.46210</td>\n",
              "      <td>0</td>\n",
              "    </tr>\n",
              "    <tr>\n",
              "      <th>2</th>\n",
              "      <td>3.86600</td>\n",
              "      <td>-2.6383</td>\n",
              "      <td>1.9242</td>\n",
              "      <td>0.10645</td>\n",
              "      <td>0</td>\n",
              "    </tr>\n",
              "    <tr>\n",
              "      <th>3</th>\n",
              "      <td>3.45660</td>\n",
              "      <td>9.5228</td>\n",
              "      <td>-4.0112</td>\n",
              "      <td>-3.59440</td>\n",
              "      <td>0</td>\n",
              "    </tr>\n",
              "    <tr>\n",
              "      <th>4</th>\n",
              "      <td>0.32924</td>\n",
              "      <td>-4.4552</td>\n",
              "      <td>4.5718</td>\n",
              "      <td>-0.98880</td>\n",
              "      <td>0</td>\n",
              "    </tr>\n",
              "  </tbody>\n",
              "</table>\n",
              "</div>"
            ],
            "text/plain": [
              "         0       1       2        3  4\n",
              "0  3.62160  8.6661 -2.8073 -0.44699  0\n",
              "1  4.54590  8.1674 -2.4586 -1.46210  0\n",
              "2  3.86600 -2.6383  1.9242  0.10645  0\n",
              "3  3.45660  9.5228 -4.0112 -3.59440  0\n",
              "4  0.32924 -4.4552  4.5718 -0.98880  0"
            ]
          },
          "metadata": {
            "tags": []
          },
          "execution_count": 19
        }
      ]
    },
    {
      "cell_type": "markdown",
      "metadata": {
        "id": "rgD9WsyVxclw"
      },
      "source": [
        "# Data Preprocessing"
      ]
    },
    {
      "cell_type": "code",
      "metadata": {
        "id": "Sds3goopxKJX"
      },
      "source": [
        "data = dataset.values\n",
        "X, y = data[:,:-1], data[:,-1]"
      ],
      "execution_count": null,
      "outputs": []
    },
    {
      "cell_type": "code",
      "metadata": {
        "id": "00YY_mT9x1Lw"
      },
      "source": [
        "from sklearn.model_selection import train_test_split\n",
        "X_train, X_test, y_train, y_test = train_test_split(X, y, test_size=0.2)"
      ],
      "execution_count": null,
      "outputs": []
    },
    {
      "cell_type": "markdown",
      "metadata": {
        "id": "_77bBOzjyNB2"
      },
      "source": [
        "# Training the alogorithm"
      ]
    },
    {
      "cell_type": "code",
      "metadata": {
        "id": "SZVhlaazyJ7A",
        "outputId": "437f8b5d-2e1f-441f-99c9-9731988d1a7a",
        "colab": {
          "base_uri": "https://localhost:8080/",
          "height": 85
        }
      },
      "source": [
        "from sklearn.svm import SVC\n",
        "svclassifier = SVC(C=1,kernel='linear')\n",
        "svclassifier.fit(X_train, y_train)"
      ],
      "execution_count": null,
      "outputs": [
        {
          "output_type": "execute_result",
          "data": {
            "text/plain": [
              "SVC(C=1, break_ties=False, cache_size=200, class_weight=None, coef0=0.0,\n",
              "    decision_function_shape='ovr', degree=3, gamma='scale', kernel='linear',\n",
              "    max_iter=-1, probability=False, random_state=None, shrinking=True,\n",
              "    tol=0.001, verbose=False)"
            ]
          },
          "metadata": {
            "tags": []
          },
          "execution_count": 25
        }
      ]
    },
    {
      "cell_type": "markdown",
      "metadata": {
        "id": "i2eC0u8Hy6aI"
      },
      "source": [
        "# making Prediction"
      ]
    },
    {
      "cell_type": "code",
      "metadata": {
        "id": "u1yeQUyxzFXf",
        "outputId": "c9fe6d77-906d-4d57-c2d1-3c5c167e9241",
        "colab": {
          "base_uri": "https://localhost:8080/",
          "height": 282
        }
      },
      "source": [
        "y_pred = svclassifier.predict(X_test)\n",
        "plt.plot(y_pred)"
      ],
      "execution_count": null,
      "outputs": [
        {
          "output_type": "execute_result",
          "data": {
            "text/plain": [
              "[<matplotlib.lines.Line2D at 0x7f0bada8e438>]"
            ]
          },
          "metadata": {
            "tags": []
          },
          "execution_count": 27
        },
        {
          "output_type": "display_data",
          "data": {
            "image/png": "[encoded data removed]",
            "text/plain": [
              "<Figure size 432x288 with 1 Axes>"
            ]
          },
          "metadata": {
            "tags": [],
            "needs_background": "light"
          }
        }
      ]
    },
    {
      "cell_type": "code",
      "metadata": {
        "id": "wwR7SBtey44Z",
        "outputId": "c2c03dc2-3e4f-4c4c-99ae-c8f3b4e45df4",
        "colab": {
          "base_uri": "https://localhost:8080/",
          "height": 204
        }
      },
      "source": [
        "from sklearn.metrics import classification_report, confusion_matrix\n",
        "print(confusion_matrix(y_test,y_pred))\n",
        "print(classification_report(y_test,y_pred))"
      ],
      "execution_count": null,
      "outputs": [
        {
          "output_type": "stream",
          "text": [
            "[[154   3]\n",
            " [  1 117]]\n",
            "              precision    recall  f1-score   support\n",
            "\n",
            "         0.0       0.99      0.98      0.99       157\n",
            "         1.0       0.97      0.99      0.98       118\n",
            "\n",
            "    accuracy                           0.99       275\n",
            "   macro avg       0.98      0.99      0.99       275\n",
            "weighted avg       0.99      0.99      0.99       275\n",
            "\n"
          ],
          "name": "stdout"
        }
      ]
    },
    {
      "cell_type": "markdown",
      "metadata": {
        "id": "4mJOc1x53uu7"
      },
      "source": [
        "# Plot Decision Boudary of Classifier"
      ]
    },
    {
      "cell_type": "code",
      "metadata": {
        "id": "MZ7DkniI13lQ"
      },
      "source": [
        "import matplotlib.cm as cm\n",
        "from matplotlib.colors import ListedColormap, BoundaryNorm\n",
        "import matplotlib.patches as mpatches\n",
        "import matplotlib.patches as mpatches\n",
        "\n",
        "X_mat = np.asmatrix(X_train[:,0:2])\n",
        "y_mat = np.asmatrix(y_train)\n",
        "mesh_step_size = .01  # step size in the mesh\n",
        "plot_symbol_size = 50\n",
        "    \n",
        "x_min, x_max = X_mat[:, 0].min() - 1, X_mat[:, 0].max() + 1\n",
        "y_min, y_max = X_mat[:, 1].min() - 1, X_mat[:, 1].max() + 1\n",
        "\n",
        "xx, yy = np.meshgrid(np.arange(x_min, x_max, mesh_step_size),\n",
        "                         np.arange(y_min, y_max, mesh_step_size))\n",
        "xx1 = np.asmatrix([xx,X_train[2:4]])\n",
        "#Z = svclassifier.predict(np.c_[xx1.ravel(),yy.ravel()])"
      ],
      "execution_count": null,
      "outputs": []
    },
    {
      "cell_type": "code",
      "metadata": {
        "id": "yBjHYeE_6UpV",
        "outputId": "813fc40f-6b79-4450-bbce-9868834e2688",
        "colab": {
          "base_uri": "https://localhost:8080/",
          "height": 51
        }
      },
      "source": [
        "print(xx.shape)\n",
        "print(X_mat.shape)"
      ],
      "execution_count": null,
      "outputs": [
        {
          "output_type": "stream",
          "text": [
            "(2873, 1587)\n",
            "(1097, 2)\n"
          ],
          "name": "stdout"
        }
      ]
    },
    {
      "cell_type": "code",
      "metadata": {
        "id": "8k2RMrAfBhNe"
      },
      "source": [
        "cmap_bold  = ListedColormap(['#FF0000', '#00FF00', '#0000FF','#AFAFAF'])\n",
        "plt.scatter(X_mat[:, 0], X_mat[:, 1], s=plot_symbol_size, c=y_train, cmap=cmap_bold, edgecolor = 'black')\n",
        "plt.xlim(xx.min(), xx.max())\n",
        "plt.ylim(yy.min(), yy.max())\n",
        "plt.show()"
      ],
      "execution_count": null,
      "outputs": []
    },
    {
      "cell_type": "markdown",
      "metadata": {
        "id": "wfVqyu_oby3Y"
      },
      "source": [
        "# SVM analysis"
      ]
    },
    {
      "cell_type": "code",
      "metadata": {
        "id": "mQrYVlXhb2Pe"
      },
      "source": [
        "from pandas import read_csv\n",
        "\n",
        "dataset = read_csv('drive/My Drive/InvertPhaseLong2.csv', header=0)"
      ],
      "execution_count": null,
      "outputs": []
    },
    {
      "cell_type": "code",
      "metadata": {
        "id": "8HTRCZyQgOZt",
        "outputId": "d7827802-ef2d-446c-e1fb-b5f60ef1d507",
        "colab": {
          "base_uri": "https://localhost:8080/",
          "height": 452
        }
      },
      "source": [
        "from matplotlib import pyplot\n",
        "\n",
        "print(dataset.describe())\n",
        "data = dataset.values\n",
        "ppg1 = data[:,0]\n",
        "pyplot.plot(ppg1[1:70])\n",
        "pyplot.show()"
      ],
      "execution_count": null,
      "outputs": [
        {
          "output_type": "stream",
          "text": [
            "               850nm          640nm  ...  Channel 7  Channel 8\n",
            "count   20665.000000   20665.000000  ...    20665.0    20665.0\n",
            "mean   817663.068764 -777540.398306  ...        0.0        0.0\n",
            "std     26649.696060   13677.458630  ...        0.0        0.0\n",
            "min         0.000000 -823380.000000  ...        0.0        0.0\n",
            "25%    808706.000000 -785469.000000  ...        0.0        0.0\n",
            "50%    826957.000000 -773174.000000  ...        0.0        0.0\n",
            "75%    834737.000000 -767922.000000  ...        0.0        0.0\n",
            "max    857234.000000 -752898.000000  ...        0.0        0.0\n",
            "\n",
            "[8 rows x 8 columns]\n"
          ],
          "name": "stdout"
        },
        {
          "output_type": "display_data",
          "data": {
            "image/png": "[encoded data removed]",
            "text/plain": [
              "<Figure size 432x288 with 1 Axes>"
            ]
          },
          "metadata": {
            "tags": [],
            "needs_background": "light"
          }
        }
      ]
    },
    {
      "cell_type": "markdown",
      "metadata": {
        "id": "b2Wv3gQY8H8X"
      },
      "source": [
        "Test extract features"
      ]
    },
    {
      "cell_type": "code",
      "metadata": {
        "id": "kxE32b9Sjpwl",
        "outputId": "b3d670c4-6796-4c46-d217-e599a0232466",
        "colab": {
          "base_uri": "https://localhost:8080/",
          "height": 119
        }
      },
      "source": [
        "from numpy import mean, std\n",
        "import numpy as np\n",
        "from scipy.stats import kurtosis, skew\n",
        "\n",
        "x = np.random.normal(0, 2, 10000)\n",
        "\n",
        "print(mean(x))\n",
        "print(std(x))\n",
        "print(skew(x))\n",
        "print(kurtosis(x))\n",
        "print(min(x))\n",
        "print(max(x))"
      ],
      "execution_count": null,
      "outputs": [
        {
          "output_type": "stream",
          "text": [
            "0.018521602951116035\n",
            "1.9770646329646602\n",
            "0.045455208253299885\n",
            "0.03387777211976406\n",
            "-7.683995471748225\n",
            "7.508306472303726\n"
          ],
          "name": "stdout"
        }
      ]
    },
    {
      "cell_type": "code",
      "metadata": {
        "id": "t0Ulqf3-8F_K"
      },
      "source": [
        "from pandas import read_csv\n",
        "from pandas import DataFrame\n",
        "import numpy as np\n",
        "\n",
        "def load_data(filename):\n",
        "  dataset = read_csv(filename, header=0);\n",
        "  data = dataset.values;\n",
        "  return data\n",
        "def segment_data(signal, distance, overlap):\n",
        "  i = 1;\n",
        "  s = list()\n",
        "  while int(i+distance)<len(signal):\n",
        "    a = signal[int(i):int(i+distance)];\n",
        "    #a = [x for x in t]\n",
        "    #a = DataFrame.transpose(DataFrame(t))\n",
        "    #a = np.split(a,int(distance-1)\n",
        "    s.append(a)\n",
        "    i = i + distance*overlap\n",
        "    \n",
        "  return np.asarray(s) # return a nd array\n",
        "\n",
        "data = load_data('drive/My Drive/InvertPhaseLong2.csv')  \n",
        "ppg = segment_data(data[:,0],70,0.5)\n",
        "ppg1 = segment_data(data[:,2],70,0.5)\n",
        "ppg2 = segment_data(data[:,1],70,0.5)"
      ],
      "execution_count": null,
      "outputs": []
    },
    {
      "cell_type": "markdown",
      "metadata": {
        "id": "ToxLSO-jFgiT"
      },
      "source": [
        "# Prepare Data"
      ]
    },
    {
      "cell_type": "code",
      "metadata": {
        "id": "V3pddisBFgAM",
        "outputId": "23a6f7ee-b8d6-4981-9927-87aeb6857f39",
        "colab": {
          "base_uri": "https://localhost:8080/",
          "height": 34
        }
      },
      "source": [
        "# label for first group of Data\n",
        "y1 = [1]*ppg.shape[0];  #inphase output 1\n",
        "y2 = [0]*ppg1.shape[0]  #inphase output 0\n",
        "y1 = np.asarray(y1)\n",
        "y2 = np.asarray(y2)\n",
        "y1.shape, y2.shape\n",
        "#ydf1 = DataFrame(y1)\n",
        "#ydf2 = DataFrame(y2)\n",
        "# Concatenate data\n",
        "X = np.concatenate((ppg, ppg1))\n",
        "y = np.concatenate((y1, y2))\n",
        "print(X.shape)\n",
        "\n",
        "# rescale data\n",
        "from sklearn.preprocessing import MinMaxScaler\n",
        "\n",
        "# define min max scaler\n",
        "def scaling(signal):\n",
        "  scaler = MinMaxScaler()\n",
        "  s_trans = signal.transpose()\n",
        "  Xscaled = scaler.fit_transform(s_trans)\n",
        "  Xscaled = Xscaled.transpose()\n",
        "  return Xscaled  \n",
        "# Scaling Input Data \n",
        "Xscaled = scaling(X)\n",
        "Xscaled2 = scaling(ppg2)"
      ],
      "execution_count": null,
      "outputs": [
        {
          "output_type": "stream",
          "text": [
            "(1178, 70)\n"
          ],
          "name": "stdout"
        }
      ]
    },
    {
      "cell_type": "markdown",
      "metadata": {
        "id": "uSl_cLpRG0xf"
      },
      "source": [
        "# Extract features"
      ]
    },
    {
      "cell_type": "code",
      "metadata": {
        "id": "DAfbviXd98wD"
      },
      "source": [
        "\n",
        "def feature_extraction(data):\n",
        "  feats = list()\n",
        "  for x in data:\n",
        "     Smax = max(x)\n",
        "     Smin = min(x)\n",
        "     Smean = mean(x)\n",
        "     Sstd = std(x)\n",
        "     Sskew = skew(x)\n",
        "     Skur = kurtosis(x)\n",
        "     feat = [Smax, Smin, Smean, Sstd, Sskew, Skur]\n",
        "     feats.append(feat)\n",
        "  return feats\n"
      ],
      "execution_count": null,
      "outputs": []
    },
    {
      "cell_type": "code",
      "metadata": {
        "id": "7vDDUt0xDEmT"
      },
      "source": [
        "Xfeats = np.asarray(feature_extraction(Xscaled))\n",
        "\n",
        "Xfeats[1:10],Xfeats[1000:1010]"
      ],
      "execution_count": null,
      "outputs": []
    },
    {
      "cell_type": "code",
      "metadata": {
        "id": "2ccQhYxOTEji",
        "outputId": "e761e868-c9cf-4691-8c7a-b42e84620cdd",
        "colab": {
          "base_uri": "https://localhost:8080/",
          "height": 994
        }
      },
      "source": [
        "from pandas import DataFrame\n",
        "import matplotlib.pyplot as plt\n",
        "\n",
        "#plt.figure(figsize=(12,8), dpi= 100, facecolor='w', edgecolor='k')\n",
        "featnames = [\"max\", \"min\",\"mean\",\"std\",\"skew\",\"kurtosis\"]\n",
        "# show historgram of features\n",
        "featset = DataFrame(Xfeats, columns= featnames)\n",
        "#plt.figure(figsize=(18, 18))\n",
        "fig = featset.hist(xlabelsize=10, ylabelsize=10,figsize=[12,12],layout=[2,3],)\n",
        "[x.title.set_size(10) for x in fig.ravel()]\n",
        "\n",
        "# show the histograms\n",
        "#plt.suptitle(\"This is Figure title\")\n",
        "plt.show()\n",
        "featset.describe()\n",
        "\n"
      ],
      "execution_count": null,
      "outputs": [
        {
          "output_type": "display_data",
          "data": {
            "image/png": "[encoded data removed]",
            "text/plain": [
              "<Figure size 864x864 with 6 Axes>"
            ]
          },
          "metadata": {
            "tags": [],
            "needs_background": "light"
          }
        },
        {
          "output_type": "execute_result",
          "data": {
            "text/html": [
              "<div>\n",
              "<style scoped>\n",
              "    .dataframe tbody tr th:only-of-type {\n",
              "        vertical-align: middle;\n",
              "    }\n",
              "\n",
              "    .dataframe tbody tr th {\n",
              "        vertical-align: top;\n",
              "    }\n",
              "\n",
              "    .dataframe thead th {\n",
              "        text-align: right;\n",
              "    }\n",
              "</style>\n",
              "<table border=\"1\" class=\"dataframe\">\n",
              "  <thead>\n",
              "    <tr style=\"text-align: right;\">\n",
              "      <th></th>\n",
              "      <th>max</th>\n",
              "      <th>min</th>\n",
              "      <th>mean</th>\n",
              "      <th>std</th>\n",
              "      <th>skew</th>\n",
              "      <th>kurtosis</th>\n",
              "    </tr>\n",
              "  </thead>\n",
              "  <tbody>\n",
              "    <tr>\n",
              "      <th>count</th>\n",
              "      <td>1.178000e+03</td>\n",
              "      <td>1178.0</td>\n",
              "      <td>1178.000000</td>\n",
              "      <td>1178.000000</td>\n",
              "      <td>1178.000000</td>\n",
              "      <td>1178.000000</td>\n",
              "    </tr>\n",
              "    <tr>\n",
              "      <th>mean</th>\n",
              "      <td>1.000000e+00</td>\n",
              "      <td>0.0</td>\n",
              "      <td>0.561396</td>\n",
              "      <td>0.278874</td>\n",
              "      <td>-0.349056</td>\n",
              "      <td>-0.559928</td>\n",
              "    </tr>\n",
              "    <tr>\n",
              "      <th>std</th>\n",
              "      <td>9.291160e-16</td>\n",
              "      <td>0.0</td>\n",
              "      <td>0.099584</td>\n",
              "      <td>0.022379</td>\n",
              "      <td>0.588377</td>\n",
              "      <td>0.684774</td>\n",
              "    </tr>\n",
              "    <tr>\n",
              "      <th>min</th>\n",
              "      <td>1.000000e+00</td>\n",
              "      <td>0.0</td>\n",
              "      <td>0.332811</td>\n",
              "      <td>0.198585</td>\n",
              "      <td>-1.960548</td>\n",
              "      <td>-1.492377</td>\n",
              "    </tr>\n",
              "    <tr>\n",
              "      <th>25%</th>\n",
              "      <td>1.000000e+00</td>\n",
              "      <td>0.0</td>\n",
              "      <td>0.481437</td>\n",
              "      <td>0.263498</td>\n",
              "      <td>-0.822758</td>\n",
              "      <td>-1.031637</td>\n",
              "    </tr>\n",
              "    <tr>\n",
              "      <th>50%</th>\n",
              "      <td>1.000000e+00</td>\n",
              "      <td>0.0</td>\n",
              "      <td>0.565767</td>\n",
              "      <td>0.277893</td>\n",
              "      <td>-0.347247</td>\n",
              "      <td>-0.781377</td>\n",
              "    </tr>\n",
              "    <tr>\n",
              "      <th>75%</th>\n",
              "      <td>1.000000e+00</td>\n",
              "      <td>0.0</td>\n",
              "      <td>0.644792</td>\n",
              "      <td>0.295246</td>\n",
              "      <td>0.110448</td>\n",
              "      <td>-0.276269</td>\n",
              "    </tr>\n",
              "    <tr>\n",
              "      <th>max</th>\n",
              "      <td>1.000000e+00</td>\n",
              "      <td>0.0</td>\n",
              "      <td>0.776932</td>\n",
              "      <td>0.355401</td>\n",
              "      <td>0.864645</td>\n",
              "      <td>3.084405</td>\n",
              "    </tr>\n",
              "  </tbody>\n",
              "</table>\n",
              "</div>"
            ],
            "text/plain": [
              "                max     min         mean          std         skew     kurtosis\n",
              "count  1.178000e+03  1178.0  1178.000000  1178.000000  1178.000000  1178.000000\n",
              "mean   1.000000e+00     0.0     0.561396     0.278874    -0.349056    -0.559928\n",
              "std    9.291160e-16     0.0     0.099584     0.022379     0.588377     0.684774\n",
              "min    1.000000e+00     0.0     0.332811     0.198585    -1.960548    -1.492377\n",
              "25%    1.000000e+00     0.0     0.481437     0.263498    -0.822758    -1.031637\n",
              "50%    1.000000e+00     0.0     0.565767     0.277893    -0.347247    -0.781377\n",
              "75%    1.000000e+00     0.0     0.644792     0.295246     0.110448    -0.276269\n",
              "max    1.000000e+00     0.0     0.776932     0.355401     0.864645     3.084405"
            ]
          },
          "metadata": {
            "tags": []
          },
          "execution_count": 53
        }
      ]
    },
    {
      "cell_type": "markdown",
      "metadata": {
        "id": "mxy7QbefLFkE"
      },
      "source": [
        "# Data Processing"
      ]
    },
    {
      "cell_type": "code",
      "metadata": {
        "id": "8AyvOzTdKvti"
      },
      "source": [
        "from sklearn.model_selection import train_test_split\n",
        "X_train, X_test, y_train, y_test = train_test_split(Xfeats, y, test_size=0.4, random_state=1)"
      ],
      "execution_count": null,
      "outputs": []
    },
    {
      "cell_type": "markdown",
      "metadata": {
        "id": "hiwCcQXlMBFG"
      },
      "source": [
        "Train Data"
      ]
    },
    {
      "cell_type": "code",
      "metadata": {
        "id": "I2EbAIG0MAGp",
        "outputId": "4c17b6b8-ef5c-4e17-8efa-a83fb0e73243",
        "colab": {
          "base_uri": "https://localhost:8080/",
          "height": 85
        }
      },
      "source": [
        "from sklearn.svm import SVC\n",
        "svclassifier = SVC(C=1,kernel='linear')\n",
        "svclassifier.fit(X_train, y_train)"
      ],
      "execution_count": null,
      "outputs": [
        {
          "output_type": "execute_result",
          "data": {
            "text/plain": [
              "SVC(C=1, break_ties=False, cache_size=200, class_weight=None, coef0=0.0,\n",
              "    decision_function_shape='ovr', degree=3, gamma='scale', kernel='linear',\n",
              "    max_iter=-1, probability=False, random_state=None, shrinking=True,\n",
              "    tol=0.001, verbose=False)"
            ]
          },
          "metadata": {
            "tags": []
          },
          "execution_count": 85
        }
      ]
    },
    {
      "cell_type": "markdown",
      "metadata": {
        "id": "j5pRBCefMNPO"
      },
      "source": [
        "Confuse matrix"
      ]
    },
    {
      "cell_type": "code",
      "metadata": {
        "id": "SjpLUi_TMMFP",
        "outputId": "3e449d03-cb71-414e-a5ea-28fe09db452d",
        "colab": {
          "base_uri": "https://localhost:8080/",
          "height": 761
        }
      },
      "source": [
        "from sklearn.metrics import classification_report, confusion_matrix\n",
        "from sklearn.metrics import plot_confusion_matrix\n",
        "# making prediction\n",
        "y_pred = svclassifier.predict(X_test)\n",
        "\n",
        "# confuse matrix\n",
        "print(confusion_matrix(y_test,y_pred))\n",
        "print(classification_report(y_test,y_pred))\n",
        "# plot confuse matrix\n",
        "fig, (ax1, ax2) = plt.subplots(1,2,figsize=(20,10))\n",
        "#_, ax = plt.subplots(figsize=(10, 10))\n",
        "class_names = [\"in-phase\", \"invert-phase\"]\n",
        "plot_confusion_matrix(svclassifier, X_test, y_test,display_labels=class_names, values_format='d' ,\n",
        "                                            ax=ax1)\n",
        "#_, bx = plt.subplots(figsize=(10, 10))\n",
        "plot_confusion_matrix(svclassifier, X_test, y_test,\n",
        "                                 display_labels=class_names,\n",
        "                                 cmap=plt.cm.Blues,\n",
        "                                 normalize='true', values_format='.2g',ax=ax2)\n",
        "#plt.figure(figsize=(12,8), dpi= 100, facecolor='w', edgecolor='k')\n",
        "plt.show()"
      ],
      "execution_count": null,
      "outputs": [
        {
          "output_type": "stream",
          "text": [
            "[[222  12]\n",
            " [ 25 213]]\n",
            "              precision    recall  f1-score   support\n",
            "\n",
            "           0       0.90      0.95      0.92       234\n",
            "           1       0.95      0.89      0.92       238\n",
            "\n",
            "    accuracy                           0.92       472\n",
            "   macro avg       0.92      0.92      0.92       472\n",
            "weighted avg       0.92      0.92      0.92       472\n",
            "\n"
          ],
          "name": "stdout"
        },
        {
          "output_type": "display_data",
          "data": {
            "image/png": "[encoded data removed]",
            "text/plain": [
              "<Figure size 1440x720 with 4 Axes>"
            ]
          },
          "metadata": {
            "tags": [],
            "needs_background": "light"
          }
        }
      ]
    }
  ]
}