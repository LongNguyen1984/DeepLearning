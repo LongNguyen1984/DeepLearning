{
  "nbformat": 4,
  "nbformat_minor": 0,
  "metadata": {
    "colab": {
      "name": "SegmentData.ipynb",
      "provenance": [],
      "toc_visible": true,
      "authorship_tag": "ABX9TyMh1ctIGR82x/cdAHUDnKmP",
      "include_colab_link": true
    },
    "kernelspec": {
      "name": "python3",
      "display_name": "Python 3"
    }
  },
  "cells": [
    {
      "cell_type": "markdown",
      "metadata": {
        "id": "view-in-github",
        "colab_type": "text"
      },
      "source": [
        "<a href=\"https://colab.research.google.com/github/LongNguyen1984/DeepLearning/blob/master/SegmentData.ipynb\" target=\"_parent\"><img src=\"https://colab.research.google.com/assets/colab-badge.svg\" alt=\"Open In Colab\"/></a>"
      ]
    },
    {
      "cell_type": "markdown",
      "metadata": {
        "id": "euv9Tfv5Sq36",
        "colab_type": "text"
      },
      "source": [
        "# Segment"
      ]
    },
    {
      "cell_type": "code",
      "metadata": {
        "id": "ga7ezOOZUW6f",
        "colab_type": "code",
        "colab": {
          "base_uri": "https://localhost:8080/",
          "height": 170
        },
        "outputId": "a1779e75-57a8-4d46-d478-a0a741e04d60"
      },
      "source": [
        "!pip install -U seglearn"
      ],
      "execution_count": null,
      "outputs": [
        {
          "output_type": "stream",
          "text": [
            "Collecting seglearn\n",
            "\u001b[?25l  Downloading https://files.pythonhosted.org/packages/ca/ed/434d43124650e14c5ae1f79618faa5dfd80ebc59eb7850185f7a9f5fbb2d/seglearn-1.2.1-py3-none-any.whl (11.3MB)\n",
            "\u001b[K     |████████████████████████████████| 11.3MB 6.7MB/s \n",
            "\u001b[?25hRequirement already satisfied, skipping upgrade: numpy in /usr/local/lib/python3.6/dist-packages (from seglearn) (1.18.5)\n",
            "Requirement already satisfied, skipping upgrade: scipy in /usr/local/lib/python3.6/dist-packages (from seglearn) (1.4.1)\n",
            "Requirement already satisfied, skipping upgrade: scikit-learn>=0.21.3 in /usr/local/lib/python3.6/dist-packages (from seglearn) (0.22.2.post1)\n",
            "Requirement already satisfied, skipping upgrade: joblib>=0.11 in /usr/local/lib/python3.6/dist-packages (from scikit-learn>=0.21.3->seglearn) (0.16.0)\n",
            "Installing collected packages: seglearn\n",
            "Successfully installed seglearn-1.2.1\n"
          ],
          "name": "stdout"
        }
      ]
    },
    {
      "cell_type": "code",
      "metadata": {
        "id": "HAbomjMXKaEY",
        "colab_type": "code",
        "colab": {}
      },
      "source": [
        "from numpy import array\n",
        "from numpy.random import rand\n",
        "\n",
        "# multivariate time series data\n",
        "X = [rand(100,5), rand(200,5),rand(50,5)]\n",
        "\n",
        "X = array([rand(100,5), rand(200,5), rand(50,5)])"
      ],
      "execution_count": null,
      "outputs": []
    },
    {
      "cell_type": "code",
      "metadata": {
        "id": "wx0PYzB2So-s",
        "colab_type": "code",
        "colab": {
          "base_uri": "https://localhost:8080/",
          "height": 34
        },
        "outputId": "526d3eaf-d802-441f-b641-11ce077e733a"
      },
      "source": [
        "y = [2,1,3]\n",
        "# or\n",
        "y = array([2,1,3])\n"
      ],
      "execution_count": null,
      "outputs": [
        {
          "output_type": "execute_result",
          "data": {
            "text/plain": [
              "array([2, 1, 3])"
            ]
          },
          "metadata": {
            "tags": []
          },
          "execution_count": 5
        }
      ]
    },
    {
      "cell_type": "code",
      "metadata": {
        "id": "YPfSv-IbTfmu",
        "colab_type": "code",
        "colab": {}
      },
      "source": [
        "y = [rand(100), rand(200), rand(50)]\n"
      ],
      "execution_count": null,
      "outputs": []
    },
    {
      "cell_type": "code",
      "metadata": {
        "id": "wmT_wOdUUBjp",
        "colab_type": "code",
        "colab": {
          "base_uri": "https://localhost:8080/",
          "height": 231
        },
        "outputId": "4f5f3ae3-bceb-42b3-a79a-13c2f5b9407d"
      },
      "source": [
        "from seglearn.base import TS_Data\n",
        "Xt = array([rand(100,5), rand(200,5), rand(50,5)])\n",
        "Xc = rand(3,2)\n",
        "X = TS_Data(Xt, Xc)\n",
        "X"
      ],
      "execution_count": null,
      "outputs": [
        {
          "output_type": "error",
          "ename": "NameError",
          "evalue": "ignored",
          "traceback": [
            "\u001b[0;31m---------------------------------------------------------------------------\u001b[0m",
            "\u001b[0;31mNameError\u001b[0m                                 Traceback (most recent call last)",
            "\u001b[0;32m<ipython-input-4-f742b7ba5f54>\u001b[0m in \u001b[0;36m<module>\u001b[0;34m()\u001b[0m\n\u001b[1;32m      1\u001b[0m \u001b[0;32mfrom\u001b[0m \u001b[0mseglearn\u001b[0m\u001b[0;34m.\u001b[0m\u001b[0mbase\u001b[0m \u001b[0;32mimport\u001b[0m \u001b[0mTS_Data\u001b[0m\u001b[0;34m\u001b[0m\u001b[0;34m\u001b[0m\u001b[0m\n\u001b[0;32m----> 2\u001b[0;31m \u001b[0mXt\u001b[0m \u001b[0;34m=\u001b[0m \u001b[0marray\u001b[0m\u001b[0;34m(\u001b[0m\u001b[0;34m[\u001b[0m\u001b[0mrand\u001b[0m\u001b[0;34m(\u001b[0m\u001b[0;36m100\u001b[0m\u001b[0;34m,\u001b[0m\u001b[0;36m5\u001b[0m\u001b[0;34m)\u001b[0m\u001b[0;34m,\u001b[0m \u001b[0mrand\u001b[0m\u001b[0;34m(\u001b[0m\u001b[0;36m200\u001b[0m\u001b[0;34m,\u001b[0m\u001b[0;36m5\u001b[0m\u001b[0;34m)\u001b[0m\u001b[0;34m,\u001b[0m \u001b[0mrand\u001b[0m\u001b[0;34m(\u001b[0m\u001b[0;36m50\u001b[0m\u001b[0;34m,\u001b[0m\u001b[0;36m5\u001b[0m\u001b[0;34m)\u001b[0m\u001b[0;34m]\u001b[0m\u001b[0;34m)\u001b[0m\u001b[0;34m\u001b[0m\u001b[0;34m\u001b[0m\u001b[0m\n\u001b[0m\u001b[1;32m      3\u001b[0m \u001b[0mXc\u001b[0m \u001b[0;34m=\u001b[0m \u001b[0mrand\u001b[0m\u001b[0;34m(\u001b[0m\u001b[0;36m3\u001b[0m\u001b[0;34m,\u001b[0m\u001b[0;36m2\u001b[0m\u001b[0;34m)\u001b[0m\u001b[0;34m\u001b[0m\u001b[0;34m\u001b[0m\u001b[0m\n\u001b[1;32m      4\u001b[0m \u001b[0mX\u001b[0m \u001b[0;34m=\u001b[0m \u001b[0mTS_Data\u001b[0m\u001b[0;34m(\u001b[0m\u001b[0mXt\u001b[0m\u001b[0;34m,\u001b[0m \u001b[0mXc\u001b[0m\u001b[0;34m)\u001b[0m\u001b[0;34m\u001b[0m\u001b[0;34m\u001b[0m\u001b[0m\n\u001b[1;32m      5\u001b[0m \u001b[0mX\u001b[0m\u001b[0;34m\u001b[0m\u001b[0;34m\u001b[0m\u001b[0m\n",
            "\u001b[0;31mNameError\u001b[0m: name 'array' is not defined"
          ]
        }
      ]
    },
    {
      "cell_type": "code",
      "metadata": {
        "id": "crKh35k1VrEY",
        "colab_type": "code",
        "colab": {}
      },
      "source": [
        "import pandas as pd\n",
        "df = pd.DataFrame(Xc)\n",
        "df['ts_data'] = Xt\n",
        "X = TS_Data.from_df(df)"
      ],
      "execution_count": null,
      "outputs": []
    },
    {
      "cell_type": "code",
      "metadata": {
        "id": "A2-r11QSWWOW",
        "colab_type": "code",
        "colab": {}
      },
      "source": [
        "X = [rand(1000,10)]\n",
        "y = [rand(1000)]"
      ],
      "execution_count": null,
      "outputs": []
    },
    {
      "cell_type": "code",
      "metadata": {
        "id": "76Q-qBbvXPzm",
        "colab_type": "code",
        "colab": {
          "base_uri": "https://localhost:8080/",
          "height": 276
        },
        "outputId": "4e1c747e-b561-4654-ee65-e99fcb9421b9"
      },
      "source": [
        "from seglearn.transform import Segment, FeatureRep, FeatureRepMix\n",
        "from seglearn.feature_functions import minimum, maximum\n",
        "from seglearn.base import TS_Data\n",
        "\n",
        "import numpy as np\n",
        "import pandas as pd\n",
        "from matplotlib import pyplot\n",
        "dataset = pd.read_csv('fits.csv', header=0) # header = 0 means first row is header\n",
        "\n",
        "data = dataset.values.astype(float)\n",
        "\n",
        "size = data.shape[0];\n",
        "X = data[1:size,1];\n",
        "n = range(100,1000)\n",
        "#pyplot.plot(n,X[n])\n",
        "pyplot.plot(X[500:850])\n",
        "pyplot.show()"
      ],
      "execution_count": null,
      "outputs": [
        {
          "output_type": "display_data",
          "data": {
            "image/png": "[encoded data removed]",
            "text/plain": [
              "<Figure size 432x288 with 1 Axes>"
            ]
          },
          "metadata": {
            "tags": [],
            "needs_background": "light"
          }
        }
      ]
    },
    {
      "cell_type": "code",
      "metadata": {
        "id": "kKkA4BawFh-p",
        "colab_type": "code",
        "colab": {
          "base_uri": "https://localhost:8080/",
          "height": 34
        },
        "outputId": "151f8889-f3be-4f33-98c9-5b85f6ab3f11"
      },
      "source": [
        "X1 = X[1000:2000];\n",
        "X2 = X[2000:3000];\n",
        "X3 = X[3000:4000];\n",
        "X.shape"
      ],
      "execution_count": null,
      "outputs": [
        {
          "output_type": "execute_result",
          "data": {
            "text/plain": [
              "(8433,)"
            ]
          },
          "metadata": {
            "tags": []
          },
          "execution_count": 6
        }
      ]
    },
    {
      "cell_type": "code",
      "metadata": {
        "id": "-64xdQiWGo9h",
        "colab_type": "code",
        "colab": {
          "base_uri": "https://localhost:8080/",
          "height": 34
        },
        "outputId": "4d278339-8b90-4ddf-cf9c-c381a593b175"
      },
      "source": [
        "Xa= np.array([X1, X2,X3])\n",
        "print(Xa.shape)\n",
        "\n",
        "np.savetxt('fitseg.txt',Xa)"
      ],
      "execution_count": null,
      "outputs": [
        {
          "output_type": "stream",
          "text": [
            "(3, 1000)\n"
          ],
          "name": "stdout"
        }
      ]
    },
    {
      "cell_type": "code",
      "metadata": {
        "id": "VVXtXEzoH0wu",
        "colab_type": "code",
        "colab": {
          "base_uri": "https://localhost:8080/",
          "height": 34
        },
        "outputId": "5812b4ca-ea82-4b09-b345-357f74709406"
      },
      "source": [
        "Xr = np.loadtxt('fitseg.txt')\n",
        "Xr.shape"
      ],
      "execution_count": null,
      "outputs": [
        {
          "output_type": "execute_result",
          "data": {
            "text/plain": [
              "(3, 1000)"
            ]
          },
          "metadata": {
            "tags": []
          },
          "execution_count": 14
        }
      ]
    },
    {
      "cell_type": "code",
      "metadata": {
        "id": "CfakOIWpG8JE",
        "colab_type": "code",
        "colab": {
          "base_uri": "https://localhost:8080/",
          "height": 204
        },
        "outputId": "334dad67-369e-4c8b-ecb2-b13896b8c95e"
      },
      "source": [
        "# display header of dataset\n",
        "dataset.head()"
      ],
      "execution_count": null,
      "outputs": [
        {
          "output_type": "execute_result",
          "data": {
            "text/html": [
              "<div>\n",
              "<style scoped>\n",
              "    .dataframe tbody tr th:only-of-type {\n",
              "        vertical-align: middle;\n",
              "    }\n",
              "\n",
              "    .dataframe tbody tr th {\n",
              "        vertical-align: top;\n",
              "    }\n",
              "\n",
              "    .dataframe thead th {\n",
              "        text-align: right;\n",
              "    }\n",
              "</style>\n",
              "<table border=\"1\" class=\"dataframe\">\n",
              "  <thead>\n",
              "    <tr style=\"text-align: right;\">\n",
              "      <th></th>\n",
              "      <th>850nm</th>\n",
              "      <th>640nm</th>\n",
              "      <th>940nm</th>\n",
              "      <th>580nm</th>\n",
              "      <th>Channel 5</th>\n",
              "      <th>Channel 6</th>\n",
              "      <th>Channel 7</th>\n",
              "      <th>Channel 8</th>\n",
              "    </tr>\n",
              "  </thead>\n",
              "  <tbody>\n",
              "    <tr>\n",
              "      <th>0</th>\n",
              "      <td>0.0</td>\n",
              "      <td>-1115420.0</td>\n",
              "      <td>962200.0</td>\n",
              "      <td>-1250630.0</td>\n",
              "      <td>0</td>\n",
              "      <td>0</td>\n",
              "      <td>0</td>\n",
              "      <td>0</td>\n",
              "    </tr>\n",
              "    <tr>\n",
              "      <th>1</th>\n",
              "      <td>342173.0</td>\n",
              "      <td>-1115330.0</td>\n",
              "      <td>962714.0</td>\n",
              "      <td>-1251730.0</td>\n",
              "      <td>0</td>\n",
              "      <td>0</td>\n",
              "      <td>0</td>\n",
              "      <td>0</td>\n",
              "    </tr>\n",
              "    <tr>\n",
              "      <th>2</th>\n",
              "      <td>342042.0</td>\n",
              "      <td>-1114790.0</td>\n",
              "      <td>962405.0</td>\n",
              "      <td>-1250810.0</td>\n",
              "      <td>0</td>\n",
              "      <td>0</td>\n",
              "      <td>0</td>\n",
              "      <td>0</td>\n",
              "    </tr>\n",
              "    <tr>\n",
              "      <th>3</th>\n",
              "      <td>341707.0</td>\n",
              "      <td>-1115100.0</td>\n",
              "      <td>962623.0</td>\n",
              "      <td>-1251190.0</td>\n",
              "      <td>0</td>\n",
              "      <td>0</td>\n",
              "      <td>0</td>\n",
              "      <td>0</td>\n",
              "    </tr>\n",
              "    <tr>\n",
              "      <th>4</th>\n",
              "      <td>341200.0</td>\n",
              "      <td>-1114490.0</td>\n",
              "      <td>961944.0</td>\n",
              "      <td>-1251580.0</td>\n",
              "      <td>0</td>\n",
              "      <td>0</td>\n",
              "      <td>0</td>\n",
              "      <td>0</td>\n",
              "    </tr>\n",
              "  </tbody>\n",
              "</table>\n",
              "</div>"
            ],
            "text/plain": [
              "      850nm      640nm     940nm  ...  Channel 6  Channel 7  Channel 8\n",
              "0       0.0 -1115420.0  962200.0  ...          0          0          0\n",
              "1  342173.0 -1115330.0  962714.0  ...          0          0          0\n",
              "2  342042.0 -1114790.0  962405.0  ...          0          0          0\n",
              "3  341707.0 -1115100.0  962623.0  ...          0          0          0\n",
              "4  341200.0 -1114490.0  961944.0  ...          0          0          0\n",
              "\n",
              "[5 rows x 8 columns]"
            ]
          },
          "metadata": {
            "tags": []
          },
          "execution_count": 114
        }
      ]
    },
    {
      "cell_type": "code",
      "metadata": {
        "id": "8Zusy1vbh7cr",
        "colab_type": "code",
        "colab": {
          "base_uri": "https://localhost:8080/",
          "height": 68
        },
        "outputId": "c2b05fc2-f70a-423e-dc1d-742f3a1886fe"
      },
      "source": [
        "data_mean = np.mean(X)\n",
        "data_std = np.std(X)\n",
        "cut_off = data_std*3\n",
        "lower, upper = data_mean - cut_off, data_mean + cut_off;\n",
        "# identify outliers\n",
        "outliers = [x for x in X if x <lower or x > upper]\n",
        "loc = [i for i in range(len(X)) if X[i] <lower or X[i] > upper]\n",
        "print('Identify outliers: %d' %len(outliers))\n",
        "print('Outliers location: %d' %len(loc))\n",
        "loc"
      ],
      "execution_count": null,
      "outputs": [
        {
          "output_type": "stream",
          "text": [
            "Identify outliers: 4\n",
            "Outliers location: 4\n"
          ],
          "name": "stdout"
        },
        {
          "output_type": "execute_result",
          "data": {
            "text/plain": [
              "[505, 506, 1736, 7870]"
            ]
          },
          "metadata": {
            "tags": []
          },
          "execution_count": 111
        }
      ]
    }
  ]
}