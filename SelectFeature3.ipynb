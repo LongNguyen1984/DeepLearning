{
  "nbformat": 4,
  "nbformat_minor": 0,
  "metadata": {
    "colab": {
      "name": "SelectFeature3.ipynb",
      "provenance": [],
      "authorship_tag": "ABX9TyMhjl5SAQjBMqBCHbC3Svyw",
      "include_colab_link": true
    },
    "kernelspec": {
      "name": "python3",
      "display_name": "Python 3"
    }
  },
  "cells": [
    {
      "cell_type": "markdown",
      "metadata": {
        "id": "view-in-github",
        "colab_type": "text"
      },
      "source": [
        "<a href=\"https://colab.research.google.com/github/LongNguyen1984/DeepLearning/blob/master/SelectFeature3.ipynb\" target=\"_parent\"><img src=\"https://colab.research.google.com/assets/colab-badge.svg\" alt=\"Open In Colab\"/></a>"
      ]
    },
    {
      "cell_type": "markdown",
      "metadata": {
        "id": "_TgrIHPddXMe",
        "colab_type": "text"
      },
      "source": [
        "# Regression Dataset"
      ]
    },
    {
      "cell_type": "code",
      "metadata": {
        "id": "Y2D8pt8UQVdr",
        "colab_type": "code",
        "colab": {
          "base_uri": "https://localhost:8080/",
          "height": 51
        },
        "outputId": "d39f803d-27fc-4116-9a0f-a778ec51bcd3"
      },
      "source": [
        "from sklearn.datasets import make_regression\n",
        "from sklearn.model_selection import train_test_split\n",
        "\n",
        "# generative regression dataset\n",
        "X, y = make_regression(n_samples=1000, n_features=100, n_informative=10, noise=0.1, random_state=2)\n",
        "# split into train and test sets\n",
        "X_train, X_test, y_train, y_test = train_test_split(X,y, test_size=0.33, random_state=1)\n",
        "# summarize\n",
        "print('Train:', X_train.shape, y_train.shape)\n",
        "print('Test:', X_test.shape, y_test.shape)"
      ],
      "execution_count": null,
      "outputs": [
        {
          "output_type": "stream",
          "text": [
            "Train: (670, 100) (670,)\n",
            "Test: (330, 100) (330,)\n"
          ],
          "name": "stdout"
        }
      ]
    },
    {
      "cell_type": "markdown",
      "metadata": {
        "id": "Ep88_Qjog_O9",
        "colab_type": "text"
      },
      "source": [
        "# Correlation Feature Selection"
      ]
    },
    {
      "cell_type": "code",
      "metadata": {
        "id": "EY7DsuxefBiH",
        "colab_type": "code",
        "colab": {
          "base_uri": "https://localhost:8080/",
          "height": 1000
        },
        "outputId": "748b3fa7-67f1-443b-c566-d5fa7847dd4a"
      },
      "source": [
        "from sklearn.feature_selection import SelectKBest\n",
        "from sklearn.feature_selection import f_regression\n",
        "from matplotlib import pyplot\n",
        "\n",
        "def select_feature(X_train, y_train, X_test):\n",
        "  # configure to select all features\n",
        "  fs = SelectKBest(score_func=f_regression, k='all')\n",
        "  # learn relationship from training data\n",
        "  fs.fit(X_train, y_train)\n",
        "  # transform train input data\n",
        "  X_train_fs = fs.transform(X_train)\n",
        "  # transform test input data\n",
        "  X_test_fs = fs.transform(X_test)\n",
        "  return X_train_fs, X_test, fs\n",
        "\n",
        "X_train_fs, X_test_fs, fs = select_feature(X_train, y_train, X_test)\n",
        "# what are scores for the features\n",
        "for i in range(len(fs.scores_)):\n",
        "  print('Feature %d: %f'% (i, fs.scores_[i]))\n",
        "# plot the scores\n",
        "pyplot.bar([i for i in range(len(fs.scores_))], fs.scores_)\n",
        "pyplot.show()"
      ],
      "execution_count": null,
      "outputs": [
        {
          "output_type": "stream",
          "text": [
            "Feature 0: 5.368584\n",
            "Feature 1: 1.566624\n",
            "Feature 2: 0.236732\n",
            "Feature 3: 3.388985\n",
            "Feature 4: 2.056797\n",
            "Feature 5: 0.049078\n",
            "Feature 6: 293.180588\n",
            "Feature 7: 4.518362\n",
            "Feature 8: 0.322056\n",
            "Feature 9: 3.708477\n",
            "Feature 10: 0.114445\n",
            "Feature 11: 0.298357\n",
            "Feature 12: 1.344983\n",
            "Feature 13: 2.011087\n",
            "Feature 14: 8.519665\n",
            "Feature 15: 0.125895\n",
            "Feature 16: 0.165482\n",
            "Feature 17: 0.080711\n",
            "Feature 18: 0.053044\n",
            "Feature 19: 1.018474\n",
            "Feature 20: 0.193852\n",
            "Feature 21: 0.737906\n",
            "Feature 22: 34.224565\n",
            "Feature 23: 0.026552\n",
            "Feature 24: 296.363764\n",
            "Feature 25: 1.340994\n",
            "Feature 26: 5.286970\n",
            "Feature 27: 2.051134\n",
            "Feature 28: 0.094554\n",
            "Feature 29: 0.033993\n",
            "Feature 30: 0.135794\n",
            "Feature 31: 0.008228\n",
            "Feature 32: 0.501513\n",
            "Feature 33: 12.923386\n",
            "Feature 34: 0.288883\n",
            "Feature 35: 0.562624\n",
            "Feature 36: 1.574279\n",
            "Feature 37: 4.976176\n",
            "Feature 38: 4.295759\n",
            "Feature 39: 0.158423\n",
            "Feature 40: 0.001658\n",
            "Feature 41: 0.244266\n",
            "Feature 42: 0.385002\n",
            "Feature 43: 0.701786\n",
            "Feature 44: 0.757261\n",
            "Feature 45: 0.056633\n",
            "Feature 46: 0.891275\n",
            "Feature 47: 0.617872\n",
            "Feature 48: 1.333569\n",
            "Feature 49: 0.003746\n",
            "Feature 50: 0.937931\n",
            "Feature 51: 0.285173\n",
            "Feature 52: 1.112084\n",
            "Feature 53: 2.604403\n",
            "Feature 54: 0.099620\n",
            "Feature 55: 0.292888\n",
            "Feature 56: 0.033095\n",
            "Feature 57: 1.195504\n",
            "Feature 58: 0.076240\n",
            "Feature 59: 0.180812\n",
            "Feature 60: 3.037502\n",
            "Feature 61: 0.085963\n",
            "Feature 62: 22.717956\n",
            "Feature 63: 1.868602\n",
            "Feature 64: 0.000009\n",
            "Feature 65: 0.075581\n",
            "Feature 66: 0.635623\n",
            "Feature 67: 0.205177\n",
            "Feature 68: 1.773693\n",
            "Feature 69: 0.669225\n",
            "Feature 70: 0.094662\n",
            "Feature 71: 0.009562\n",
            "Feature 72: 5.595139\n",
            "Feature 73: 0.320371\n",
            "Feature 74: 0.649532\n",
            "Feature 75: 9.977594\n",
            "Feature 76: 1.955287\n",
            "Feature 77: 6.373246\n",
            "Feature 78: 0.065319\n",
            "Feature 79: 0.457804\n",
            "Feature 80: 0.647856\n",
            "Feature 81: 0.000063\n",
            "Feature 82: 2.671547\n",
            "Feature 83: 0.093322\n",
            "Feature 84: 0.113804\n",
            "Feature 85: 3.601069\n",
            "Feature 86: 0.026056\n",
            "Feature 87: 0.579766\n",
            "Feature 88: 177.054350\n",
            "Feature 89: 3.974441\n",
            "Feature 90: 0.387337\n",
            "Feature 91: 0.342353\n",
            "Feature 92: 2.357645\n",
            "Feature 93: 1.960542\n",
            "Feature 94: 0.140774\n",
            "Feature 95: 0.003221\n",
            "Feature 96: 48.577854\n",
            "Feature 97: 0.046828\n",
            "Feature 98: 0.090753\n",
            "Feature 99: 0.008832\n"
          ],
          "name": "stdout"
        },
        {
          "output_type": "display_data",
          "data": {
            "image/png": "[encoded data removed]",
            "text/plain": [
              "<Figure size 432x288 with 1 Axes>"
            ]
          },
          "metadata": {
            "tags": [],
            "needs_background": "light"
          }
        }
      ]
    },
    {
      "cell_type": "markdown",
      "metadata": {
        "id": "PsQfVS1flSah",
        "colab_type": "text"
      },
      "source": [
        "# Mutual Information Feature Selection"
      ]
    },
    {
      "cell_type": "code",
      "metadata": {
        "id": "L3oBxuhplRqK",
        "colab_type": "code",
        "colab": {
          "base_uri": "https://localhost:8080/",
          "height": 1000
        },
        "outputId": "ae54fbbe-e54b-42e6-cfb2-85d6ac8f00c8"
      },
      "source": [
        "from sklearn.feature_selection import SelectKBest\n",
        "from sklearn.feature_selection import mutual_info_regression\n",
        "from matplotlib import pyplot\n",
        "\n",
        "def select_features(X_train, y_train, X_test):\n",
        "  # configure to select all features\n",
        "  fs = SelectKBest(score_func=mutual_info_regression, k='all')\n",
        "  # learn relationship from training data\n",
        "  fs.fit(X_train, y_train)\n",
        "  # transform train input data\n",
        "  X_train_fs = fs.transform(X_train)\n",
        "  # transform test input data\n",
        "  X_test_fs = fs.transform(X_test)\n",
        "  return X_train, X_test, fs\n",
        "\n",
        "X_train_fs, X_test_fs, fs = select_features(X_train, y_train, X_test)\n",
        "# what are scores for the features\n",
        "for i in range(len(fs.scores_)):\n",
        "  print('Feature %d: %f'%(i, fs.scores_[i]))\n",
        "# Plot the scores\n",
        "pyplot.bar([i for i in range(len(fs.scores_))], fs.scores_)\n",
        "pyplot.show()"
      ],
      "execution_count": null,
      "outputs": [
        {
          "output_type": "stream",
          "text": [
            "Feature 0: 0.004781\n",
            "Feature 1: 0.077062\n",
            "Feature 2: 0.008502\n",
            "Feature 3: 0.000000\n",
            "Feature 4: 0.007299\n",
            "Feature 5: 0.005391\n",
            "Feature 6: 0.197879\n",
            "Feature 7: 0.005893\n",
            "Feature 8: 0.000000\n",
            "Feature 9: 0.025730\n",
            "Feature 10: 0.000000\n",
            "Feature 11: 0.000000\n",
            "Feature 12: 0.021203\n",
            "Feature 13: 0.016562\n",
            "Feature 14: 0.046674\n",
            "Feature 15: 0.007196\n",
            "Feature 16: 0.000000\n",
            "Feature 17: 0.047186\n",
            "Feature 18: 0.010420\n",
            "Feature 19: 0.010053\n",
            "Feature 20: 0.000000\n",
            "Feature 21: 0.006820\n",
            "Feature 22: 0.049997\n",
            "Feature 23: 0.000000\n",
            "Feature 24: 0.166759\n",
            "Feature 25: 0.041085\n",
            "Feature 26: 0.000000\n",
            "Feature 27: 0.077396\n",
            "Feature 28: 0.000000\n",
            "Feature 29: 0.008724\n",
            "Feature 30: 0.000000\n",
            "Feature 31: 0.036081\n",
            "Feature 32: 0.006974\n",
            "Feature 33: 0.017426\n",
            "Feature 34: 0.027997\n",
            "Feature 35: 0.000000\n",
            "Feature 36: 0.000000\n",
            "Feature 37: 0.026869\n",
            "Feature 38: 0.000000\n",
            "Feature 39: 0.000000\n",
            "Feature 40: 0.004438\n",
            "Feature 41: 0.007363\n",
            "Feature 42: 0.036565\n",
            "Feature 43: 0.014667\n",
            "Feature 44: 0.011853\n",
            "Feature 45: 0.039146\n",
            "Feature 46: 0.021186\n",
            "Feature 47: 0.000000\n",
            "Feature 48: 0.000000\n",
            "Feature 49: 0.005514\n",
            "Feature 50: 0.024309\n",
            "Feature 51: 0.000000\n",
            "Feature 52: 0.033053\n",
            "Feature 53: 0.045377\n",
            "Feature 54: 0.015577\n",
            "Feature 55: 0.016344\n",
            "Feature 56: 0.000000\n",
            "Feature 57: 0.030325\n",
            "Feature 58: 0.059326\n",
            "Feature 59: 0.012434\n",
            "Feature 60: 0.001639\n",
            "Feature 61: 0.000000\n",
            "Feature 62: 0.035554\n",
            "Feature 63: 0.038622\n",
            "Feature 64: 0.005375\n",
            "Feature 65: 0.000000\n",
            "Feature 66: 0.000000\n",
            "Feature 67: 0.005875\n",
            "Feature 68: 0.000000\n",
            "Feature 69: 0.007073\n",
            "Feature 70: 0.014212\n",
            "Feature 71: 0.006749\n",
            "Feature 72: 0.072547\n",
            "Feature 73: 0.000000\n",
            "Feature 74: 0.000000\n",
            "Feature 75: 0.022645\n",
            "Feature 76: 0.002674\n",
            "Feature 77: 0.040135\n",
            "Feature 78: 0.044363\n",
            "Feature 79: 0.030279\n",
            "Feature 80: 0.032874\n",
            "Feature 81: 0.000000\n",
            "Feature 82: 0.000000\n",
            "Feature 83: 0.025618\n",
            "Feature 84: 0.000000\n",
            "Feature 85: 0.000000\n",
            "Feature 86: 0.000000\n",
            "Feature 87: 0.044481\n",
            "Feature 88: 0.151577\n",
            "Feature 89: 0.000000\n",
            "Feature 90: 0.019914\n",
            "Feature 91: 0.030688\n",
            "Feature 92: 0.000000\n",
            "Feature 93: 0.000000\n",
            "Feature 94: 0.000000\n",
            "Feature 95: 0.000000\n",
            "Feature 96: 0.000000\n",
            "Feature 97: 0.022777\n",
            "Feature 98: 0.013424\n",
            "Feature 99: 0.049704\n"
          ],
          "name": "stdout"
        },
        {
          "output_type": "display_data",
          "data": {
            "image/png": "[encoded data removed]",
            "text/plain": [
              "<Figure size 432x288 with 1 Axes>"
            ]
          },
          "metadata": {
            "tags": [],
            "needs_background": "light"
          }
        }
      ]
    },
    {
      "cell_type": "markdown",
      "metadata": {
        "id": "ldoRksfIs1NB",
        "colab_type": "text"
      },
      "source": [
        "# Model Built Using All Features"
      ]
    },
    {
      "cell_type": "code",
      "metadata": {
        "id": "CL8-fmkWr-ci",
        "colab_type": "code",
        "colab": {
          "base_uri": "https://localhost:8080/",
          "height": 34
        },
        "outputId": "53826a85-f521-4bd6-d23f-830b9202bd73"
      },
      "source": [
        "from sklearn.datasets import make_regression\n",
        "from sklearn.model_selection import train_test_split\n",
        "from sklearn.linear_model import LinearRegression\n",
        "from sklearn.metrics import mean_absolute_error\n",
        "\n",
        "# load the dataset\n",
        "X, y = make_regression(n_samples=1000, n_features=100, n_informative=10,noise=0.1, random_state=1)\n",
        "# split into train and test sets\n",
        "X_train, X_test, y_train, y_test = train_test_split(X,y, test_size=0.33, random_state=1)\n",
        "# fit the model\n",
        "model = LinearRegression()\n",
        "model.fit(X_train, y_train)\n",
        "# evaluation the model\n",
        "yhat = model.predict(X_test)\n",
        "# evaluate predictions\n",
        "mae = mean_absolute_error(y_test, yhat)\n",
        "print('MAEL %.3f' %mae)"
      ],
      "execution_count": 14,
      "outputs": [
        {
          "output_type": "stream",
          "text": [
            "MAEL 0.086\n"
          ],
          "name": "stdout"
        }
      ]
    },
    {
      "cell_type": "markdown",
      "metadata": {
        "id": "PUT-r_TwuLHg",
        "colab_type": "text"
      },
      "source": [
        "# Model built using correlation features"
      ]
    },
    {
      "cell_type": "code",
      "metadata": {
        "id": "yCefqLhJuJdW",
        "colab_type": "code",
        "colab": {
          "base_uri": "https://localhost:8080/",
          "height": 34
        },
        "outputId": "d0c1bd7f-b9ca-4c33-87f9-2020fbac1be9"
      },
      "source": [
        "from sklearn.datasets import make_regression\n",
        "from sklearn.model_selection import train_test_split\n",
        "from sklearn.linear_model import LinearRegression\n",
        "from sklearn.metrics import mean_absolute_error\n",
        "from sklearn.feature_selection import SelectKBest\n",
        "from sklearn.feature_selection import f_regression\n",
        "from sklearn.metrics import mean_absolute_error\n",
        "\n",
        "# load the dataset\n",
        "X, y = make_regression(n_samples=1000, n_features=100, n_informative=10, noise=0.1, random_state=1)\n",
        "# split into train and test sets\n",
        "X_train, X_test, y_train, y_test = train_test_split(X,y, test_size=0.33, random_state=1)\n",
        "\n",
        "# Select feature\n",
        "def select_features(X_train, y_train, X_test):\n",
        "  fs = SelectKBest(score_func=f_regression, k =10)\n",
        "  # learn relationship from training data\n",
        "  fs.fit(X_train, y_train)\n",
        "  # transform train input data\n",
        "  X_train_fs = fs.transform(X_train) \n",
        "  # transform test input data\n",
        "  X_test_fs = fs.transform(X_test)\n",
        "  return X_train_fs, X_test_fs, fs\n",
        "\n",
        "# select features\n",
        "X_train_fs, X_test_fs, fs = select_features(X_train, y_train, X_test)\n",
        "# fit the model\n",
        "model = LinearRegression()\n",
        "model.fit(X_train_fs, y_train)\n",
        "# evaluate the model\n",
        "yhat = model.predict(X_test_fs)\n",
        "# evalute the predictions\n",
        "mae = mean_absolute_error(y_test, yhat)\n",
        "print('Mae: %.3f' %mae)"
      ],
      "execution_count": 35,
      "outputs": [
        {
          "output_type": "stream",
          "text": [
            "Mae: 2.740\n"
          ],
          "name": "stdout"
        }
      ]
    },
    {
      "cell_type": "markdown",
      "metadata": {
        "id": "ienrShuv2Rym",
        "colab_type": "text"
      },
      "source": [
        "# Tune the Number of Selected Features"
      ]
    },
    {
      "cell_type": "code",
      "metadata": {
        "id": "Gm57S83c2Wd1",
        "colab_type": "code",
        "colab": {
          "base_uri": "https://localhost:8080/",
          "height": 408
        },
        "outputId": "0f4bf9b7-c15c-4020-8fec-b3423e54a9f5"
      },
      "source": [
        "from sklearn.model_selection import RepeatedKFold\n",
        "from sklearn.datasets import make_regression\n",
        "from sklearn.feature_selection import SelectKBest\n",
        "from sklearn.feature_selection import mutual_info_regression\n",
        "from sklearn.linear_model import LinearRegression\n",
        "from sklearn.pipeline import Pipeline\n",
        "from sklearn.model_selection import GridSearchCV\n",
        "\n",
        "# define dataset\n",
        "X, y = make_regression(n_samples=1000, n_features=100, n_informative=10, noise=0.1, random_state=1)\n",
        "\n",
        "# define the evaluation method\n",
        "cv = RepeatedKFold(n_splits=10, n_repeats=3, random_state=1)\n",
        "# define the pipeline to evaluate\n",
        "model = LinearRegression()\n",
        "fs = SelectKBest(score_func=mutual_info_regression)\n",
        "pipeline = Pipeline(steps=[('sel',fs), ('lr', model)])\n",
        "# define the grid\n",
        "grid = dict()\n",
        "grid['sel__k']=[i for i in range(X.shape[1]-20, X.shape[1] + 1)]\n",
        "# define the grid search\n",
        "search = GridSearchCV(pipeline, grid, scoring='neg_mean_absolute_error', n_jobs=-1, cv=cv)\n",
        "# perform the search\n",
        "results = search.fit(X,y)\n",
        "# summarize the best\n",
        "print('Best MAE: %.3f' % results.best_score_)\n",
        "print('Best Config: %s'% results.best_params_)\n",
        "# summarize all\n",
        "means = results.cv_results_['mean_test_score']\n",
        "params = results.cv_results_['params']\n",
        "for mean, param in zip(means, params):\n",
        "  print('>%.3f with %r' %(mean, param))"
      ],
      "execution_count": 37,
      "outputs": [
        {
          "output_type": "stream",
          "text": [
            "Best MAE: -0.082\n",
            "Best Config: {'sel__k': 81}\n",
            ">-1.100 with {'sel__k': 80}\n",
            ">-0.082 with {'sel__k': 81}\n",
            ">-0.082 with {'sel__k': 82}\n",
            ">-0.082 with {'sel__k': 83}\n",
            ">-0.082 with {'sel__k': 84}\n",
            ">-0.082 with {'sel__k': 85}\n",
            ">-0.082 with {'sel__k': 86}\n",
            ">-0.082 with {'sel__k': 87}\n",
            ">-0.082 with {'sel__k': 88}\n",
            ">-0.083 with {'sel__k': 89}\n",
            ">-0.083 with {'sel__k': 90}\n",
            ">-0.083 with {'sel__k': 91}\n",
            ">-0.083 with {'sel__k': 92}\n",
            ">-0.083 with {'sel__k': 93}\n",
            ">-0.083 with {'sel__k': 94}\n",
            ">-0.083 with {'sel__k': 95}\n",
            ">-0.083 with {'sel__k': 96}\n",
            ">-0.083 with {'sel__k': 97}\n",
            ">-0.083 with {'sel__k': 98}\n",
            ">-0.083 with {'sel__k': 99}\n",
            ">-0.083 with {'sel__k': 100}\n"
          ],
          "name": "stdout"
        }
      ]
    },
    {
      "cell_type": "code",
      "metadata": {
        "id": "DpcWuVSuBcae",
        "colab_type": "code",
        "colab": {
          "base_uri": "https://localhost:8080/",
          "height": 605
        },
        "outputId": "1a8012e2-e993-44b1-dbf4-e52f53e96672"
      },
      "source": [
        "from numpy import mean\n",
        "from numpy import std\n",
        "from sklearn.datasets import make_regression\n",
        "from sklearn.model_selection import cross_val_score\n",
        "from sklearn.model_selection import RepeatedKFold\n",
        "from sklearn.feature_selection import SelectKBest\n",
        "from sklearn.feature_selection import mutual_info_regression\n",
        "from sklearn.linear_model import LinearRegression\n",
        "from sklearn.pipeline import Pipeline\n",
        "from matplotlib import pyplot\n",
        "# define dataset\n",
        "X, y = make_regression(n_samples=1000, n_features=100, n_informative=10, noise=0.1, random_state=1)\n",
        "# define number of features to evaluate\n",
        "num_features = [i for i in range(X.shape[1]-19,X.shape[1]+1)]\n",
        "# enumerate each number of features\n",
        "results = list()\n",
        "for k in num_features:\n",
        "  # create pipeline\n",
        "  model = LinearRegression()\n",
        "  fs=SelectKBest(score_func=mutual_info_regression, k=k)\n",
        "  pipeline = Pipeline(steps=[('sel',fs),('lr',model)])\n",
        "  # evaluate the model\n",
        "  cv= RepeatedKFold(n_splits=10, n_repeats=3, random_state=1)\n",
        "  scores=cross_val_score(pipeline,X,y,scoring='neg_mean_absolute_error', cv=cv, n_jobs=-1)\n",
        "  results.append(scores)\n",
        "  # summarize the results\n",
        "  print('>%d %.3f (%.3f)' %(k, mean(scores),std(scores)))\n",
        "# plot model perforamnce for comparison\n",
        "pyplot.boxplot(results, labels=num_features, showmeans=True)\n",
        "pyplot.show()"
      ],
      "execution_count": 38,
      "outputs": [
        {
          "output_type": "stream",
          "text": [
            ">81 -0.082 (0.006)\n",
            ">82 -0.082 (0.006)\n",
            ">83 -0.082 (0.006)\n",
            ">84 -0.082 (0.006)\n",
            ">85 -0.082 (0.006)\n",
            ">86 -0.082 (0.006)\n",
            ">87 -0.082 (0.006)\n",
            ">88 -0.082 (0.006)\n",
            ">89 -0.083 (0.006)\n",
            ">90 -0.083 (0.006)\n",
            ">91 -0.083 (0.006)\n",
            ">92 -0.083 (0.006)\n",
            ">93 -0.083 (0.006)\n",
            ">94 -0.083 (0.006)\n",
            ">95 -0.083 (0.006)\n",
            ">96 -0.083 (0.006)\n",
            ">97 -0.083 (0.006)\n",
            ">98 -0.083 (0.006)\n",
            ">99 -0.083 (0.006)\n",
            ">100 -0.083 (0.006)\n"
          ],
          "name": "stdout"
        },
        {
          "output_type": "display_data",
          "data": {
            "image/png": "[encoded data removed]",
            "text/plain": [
              "<Figure size 432x288 with 1 Axes>"
            ]
          },
          "metadata": {
            "tags": [],
            "needs_background": "light"
          }
        }
      ]
    }
  ]
}