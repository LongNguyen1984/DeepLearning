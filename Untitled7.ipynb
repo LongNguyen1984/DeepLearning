{
  "nbformat": 4,
  "nbformat_minor": 0,
  "metadata": {
    "colab": {
      "name": "Untitled7.ipynb",
      "provenance": [],
      "collapsed_sections": [],
      "authorship_tag": "ABX9TyPVahNUSxWjz2egMoW7N8vu",
      "include_colab_link": true
    },
    "kernelspec": {
      "name": "python3",
      "display_name": "Python 3"
    }
  },
  "cells": [
    {
      "cell_type": "markdown",
      "metadata": {
        "id": "view-in-github",
        "colab_type": "text"
      },
      "source": [
        "<a href=\"https://colab.research.google.com/github/LongNguyen1984/DeepLearning/blob/master/Untitled7.ipynb\" target=\"_parent\"><img src=\"https://colab.research.google.com/assets/colab-badge.svg\" alt=\"Open In Colab\"/></a>"
      ]
    },
    {
      "cell_type": "code",
      "metadata": {
        "id": "P9tiTdbYTl9b",
        "colab_type": "code",
        "outputId": "522355fc-ab0c-480b-ac1e-edd8f72bdde9",
        "colab": {
          "base_uri": "https://localhost:8080/",
          "height": 54
        }
      },
      "source": [
        "from torchvision import datasets\n",
        "from torchvision import transforms\n",
        "\n",
        "data_path = '../drive/My Drive/data/'\n",
        "# importing image directly\n",
        "train_tensor = datasets.CIFAR10(data_path, train=True, download=True, transform=transforms.ToTensor())\n",
        "test_tensor = datasets.CIFAR10(data_path, train=False, download=True, transform=transforms.ToTensor())"
      ],
      "execution_count": 8,
      "outputs": [
        {
          "output_type": "stream",
          "text": [
            "Files already downloaded and verified\n",
            "Files already downloaded and verified\n"
          ],
          "name": "stdout"
        }
      ]
    },
    {
      "cell_type": "code",
      "metadata": {
        "id": "fueQHlNG2VPz",
        "colab_type": "code",
        "colab": {}
      },
      "source": [
        "# stacking tensors\n",
        "# 50000x(cxwxh)\n",
        "import torch\n",
        "imgs = torch.stack([img_t for img_t, _ in train_tensor], dim=3) # list.append in python\n",
        "\n",
        "mean = imgs.view(3,-1).mean(dim=1)\n",
        "std = imgs.view(3,-1).std(dim=1)"
      ],
      "execution_count": 0,
      "outputs": []
    },
    {
      "cell_type": "code",
      "metadata": {
        "id": "5-dbIvnO0epN",
        "colab_type": "code",
        "colab": {}
      },
      "source": [
        "\n",
        "\n",
        "#Import transforms and apply RandomCrop for trainning data set\n",
        "from torchvision import transforms\n",
        "\n",
        "crop_size =20\n",
        "transformer = transforms.Compose([\n",
        "                                  #transforms.RandomCrop([crop_size,crop_size],padding= 5, pad_if_needed=True, fill=0, padding_mode='constant'), # apply random crop \n",
        "                                  transforms.RandomCrop([crop_size,crop_size]), # apply random crop \n",
        "                                  transforms.ToTensor(),# convert to tensor\n",
        "                                  transforms.Normalize(mean,std) # tensor to normalized tensor\n",
        "                                  ])\n",
        "\n",
        "transformed_train = datasets.CIFAR10(data_path, train=True, download=False,transform=transformer)\n",
        "transformed_test = datasets.CIFAR10(data_path, train=False, download=False,transform=transformer)"
      ],
      "execution_count": 0,
      "outputs": []
    },
    {
      "cell_type": "markdown",
      "metadata": {
        "id": "ws8tLbEL4s57",
        "colab_type": "text"
      },
      "source": [
        "#Extract Dataset for 'Bird' and 'Airplane'"
      ]
    },
    {
      "cell_type": "code",
      "metadata": {
        "id": "kLYLqQ7r0vXT",
        "colab_type": "code",
        "colab": {}
      },
      "source": [
        "# this step will repeat random cropping\n",
        "label_map ={0:0, 2:1} # mapping label 0 -> 0, label 2 => 1\n",
        "#label_map ={0:[1.0,0.0], 2:[0.0, 1.0]} # mapping label 0 => 0, label 2 => 1\n",
        "class_names = {'airplane', 'bird'}\n",
        "train2 = [(img,label_map[label]) for img, label in transformed_train if label in [0,2]]\n",
        "test2 = [(img,label_map[label]) for img, label in transformed_test if label in [0,2]]\n",
        "\n"
      ],
      "execution_count": 0,
      "outputs": []
    },
    {
      "cell_type": "code",
      "metadata": {
        "id": "3SRXGXDJ92Xf",
        "colab_type": "code",
        "outputId": "266dafa1-2b3b-400e-d655-7e52df205418",
        "colab": {
          "base_uri": "https://localhost:8080/",
          "height": 35
        }
      },
      "source": [
        "img, label = train2[64]\n",
        "#train2\n",
        "#label_map1 ={0:[1.0, 0.0], 1:[0.0, 1.0]}\n",
        "#for label in labels:\n",
        "#   print(label)\n",
        "label"
      ],
      "execution_count": 211,
      "outputs": [
        {
          "output_type": "execute_result",
          "data": {
            "text/plain": [
              "0"
            ]
          },
          "metadata": {
            "tags": []
          },
          "execution_count": 211
        }
      ]
    },
    {
      "cell_type": "code",
      "metadata": {
        "id": "8rXMlQGC6qIJ",
        "colab_type": "code",
        "outputId": "260365ff-e1f2-46e9-91ec-ff57eeb3fa3e",
        "colab": {
          "base_uri": "https://localhost:8080/",
          "height": 303
        }
      },
      "source": [
        "import matplotlib.pyplot as plt\n",
        "img, _ = train2[10]\n",
        "plt.imshow(img.permute(1, 2, 0))\n",
        "plt.show()"
      ],
      "execution_count": 212,
      "outputs": [
        {
          "output_type": "stream",
          "text": [
            "Clipping input data to the valid range for imshow with RGB data ([0..1] for floats or [0..255] for integers).\n"
          ],
          "name": "stderr"
        },
        {
          "output_type": "display_data",
          "data": {
            "image/png": "[encoded data removed]",
            "text/plain": [
              "<Figure size 432x288 with 1 Axes>"
            ]
          },
          "metadata": {
            "tags": [],
            "needs_background": "light"
          }
        }
      ]
    },
    {
      "cell_type": "code",
      "metadata": {
        "id": "dS18hLCTDQdk",
        "colab_type": "code",
        "colab": {
          "base_uri": "https://localhost:8080/",
          "height": 35
        },
        "outputId": "81c80eea-6d18-401f-cf3e-3be7b0598651"
      },
      "source": [
        "img_batch = img.view(-1).unsqueeze(0)\n",
        "out = model(img_batch)\n",
        "out"
      ],
      "execution_count": 172,
      "outputs": [
        {
          "output_type": "execute_result",
          "data": {
            "text/plain": [
              "tensor([[0.4994, 0.5006]], grad_fn=<SoftmaxBackward>)"
            ]
          },
          "metadata": {
            "tags": []
          },
          "execution_count": 172
        }
      ]
    },
    {
      "cell_type": "code",
      "metadata": {
        "id": "MsWmXCTWDbuq",
        "colab_type": "code",
        "colab": {
          "base_uri": "https://localhost:8080/",
          "height": 35
        },
        "outputId": "c24174ce-e21d-473f-8a8f-8785e6763b9e"
      },
      "source": [
        "_, index = torch.max(out, dim=1)\n",
        "index.item()\n"
      ],
      "execution_count": 173,
      "outputs": [
        {
          "output_type": "execute_result",
          "data": {
            "text/plain": [
              "1"
            ]
          },
          "metadata": {
            "tags": []
          },
          "execution_count": 173
        }
      ]
    },
    {
      "cell_type": "code",
      "metadata": {
        "id": "si7x-jQ0II_Z",
        "colab_type": "code",
        "colab": {}
      },
      "source": [
        "outputs"
      ],
      "execution_count": 0,
      "outputs": []
    },
    {
      "cell_type": "markdown",
      "metadata": {
        "id": "d2tKjR77kFCr",
        "colab_type": "text"
      },
      "source": [
        "#Build up the Training Model"
      ]
    },
    {
      "cell_type": "markdown",
      "metadata": {
        "id": "Bimw2ssmys1A",
        "colab_type": "text"
      },
      "source": [
        "Just declare for the first time\n",
        "\n",
        "---\n",
        "\n"
      ]
    },
    {
      "cell_type": "code",
      "metadata": {
        "id": "KSzdxB05BxwD",
        "colab_type": "code",
        "colab": {}
      },
      "source": [
        "import torch\n",
        "import torch.nn as nn\n",
        "\n",
        "# batch learning\n",
        "# epoch 1, ...., 50000 \n",
        "# batch (1~64) -> batch 1, (65~128) -> batch 2,\n",
        "# we usually shuffle the data for each epoch\n",
        "# SO, we may have different batch data for each epoch \n",
        "# enhance the effecitiveness of the parameter learning\n",
        "\n",
        "train_loader = torch.utils.data.DataLoader(train2,batch_size=64,shuffle=True)#64\n",
        "param_size_input = 3*crop_size*crop_size\n",
        "# model = nn.Sequential(\n",
        "#     nn.Linear(3072,512),\n",
        "#     nn.Tanh(),\n",
        "#     nn.Linear(512,2),\n",
        "#     nn.LogSoftmax(dim=1)\n",
        "# )\n",
        "model = nn.Sequential(\n",
        "    nn.Linear(param_size_input,1024),\n",
        "    nn.Tanh(),\n",
        "    nn.Linear(1024,512),\n",
        "    nn.Tanh(),\n",
        "    nn.Linear(512,128),\n",
        "    nn.Tanh(),\n",
        "    nn.Linear(128,2),\n",
        "    nn.Softmax(dim=1)\n",
        ")\n",
        "\n",
        "\n"
      ],
      "execution_count": 0,
      "outputs": []
    },
    {
      "cell_type": "markdown",
      "metadata": {
        "id": "Yr_kAPM20Mtn",
        "colab_type": "text"
      },
      "source": [
        "\n",
        "\n",
        "---\n",
        "\n"
      ]
    },
    {
      "cell_type": "markdown",
      "metadata": {
        "id": "2hZlHqa5kL40",
        "colab_type": "text"
      },
      "source": [
        "Tranning Model; Repeat serveral time when regenerate dataset through random cropping"
      ]
    },
    {
      "cell_type": "code",
      "metadata": {
        "id": "1lOyS_t3jt31",
        "colab_type": "code",
        "outputId": "f55ffe1a-91e5-4194-eede-af075f8b9a22",
        "colab": {
          "base_uri": "https://localhost:8080/",
          "height": 1000
        }
      },
      "source": [
        "label_map1 = {0:[1.0,0.0], 1:[0.0,1.0]}\n",
        "\n",
        "learning_rate=1e-2\n",
        "\n",
        "optimizer = torch.optim.SGD(model.parameters(), lr=learning_rate)\n",
        "\n",
        "#loss_fn = nn.NLLLoss() # used with LogSoftMax Function -> loss function for classifcaiton\n",
        "loss_fn = nn.MSELoss()\n",
        "n_epochs = 100\n",
        "\n",
        "for epoch in range(n_epochs):\n",
        "    for imgs,labels in train_loader: # for each iteration, 64 random picture will be passed \n",
        "        batch_size = imgs.shape[0]\n",
        "        outputs = model(imgs.view(batch_size,-1)) # 64 picture -> model -> (64,2)\n",
        "        \n",
        "        var = []\n",
        "        for label in labels:\n",
        "          var.append(label_map1[label.item()])\n",
        "        var =torch.FloatTensor(var)\n",
        "        loss = loss_fn(outputs, var)\n",
        "        #loss = loss_fn(outputs, labels)\n",
        "\n",
        "        optimizer.zero_grad()\n",
        "        loss.backward()\n",
        "        optimizer.step()\n",
        "    \n",
        "    print(\"Epoch: %d, Loss: %f\" % (epoch, float(loss)))"
      ],
      "execution_count": 216,
      "outputs": [
        {
          "output_type": "stream",
          "text": [
            "Epoch: 0, Loss: 0.061916\n",
            "Epoch: 1, Loss: 0.013803\n",
            "Epoch: 2, Loss: 0.027146\n",
            "Epoch: 3, Loss: 0.045679\n",
            "Epoch: 4, Loss: 0.018507\n",
            "Epoch: 5, Loss: 0.034221\n",
            "Epoch: 6, Loss: 0.072852\n",
            "Epoch: 7, Loss: 0.043742\n",
            "Epoch: 8, Loss: 0.133404\n",
            "Epoch: 9, Loss: 0.067049\n",
            "Epoch: 10, Loss: 0.028419\n",
            "Epoch: 11, Loss: 0.039892\n",
            "Epoch: 12, Loss: 0.045490\n",
            "Epoch: 13, Loss: 0.007891\n",
            "Epoch: 14, Loss: 0.124880\n",
            "Epoch: 15, Loss: 0.007742\n",
            "Epoch: 16, Loss: 0.073878\n",
            "Epoch: 17, Loss: 0.022001\n",
            "Epoch: 18, Loss: 0.008315\n",
            "Epoch: 19, Loss: 0.005864\n",
            "Epoch: 20, Loss: 0.002045\n",
            "Epoch: 21, Loss: 0.074041\n",
            "Epoch: 22, Loss: 0.075924\n",
            "Epoch: 23, Loss: 0.017474\n",
            "Epoch: 24, Loss: 0.017662\n",
            "Epoch: 25, Loss: 0.006091\n",
            "Epoch: 26, Loss: 0.106221\n",
            "Epoch: 27, Loss: 0.029797\n",
            "Epoch: 28, Loss: 0.007443\n",
            "Epoch: 29, Loss: 0.006702\n",
            "Epoch: 30, Loss: 0.162079\n",
            "Epoch: 31, Loss: 0.013643\n",
            "Epoch: 32, Loss: 0.064246\n",
            "Epoch: 33, Loss: 0.007738\n",
            "Epoch: 34, Loss: 0.129102\n",
            "Epoch: 35, Loss: 0.080439\n",
            "Epoch: 36, Loss: 0.000788\n",
            "Epoch: 37, Loss: 0.021152\n",
            "Epoch: 38, Loss: 0.000859\n",
            "Epoch: 39, Loss: 0.016300\n",
            "Epoch: 40, Loss: 0.018701\n",
            "Epoch: 41, Loss: 0.063827\n",
            "Epoch: 42, Loss: 0.002426\n",
            "Epoch: 43, Loss: 0.064115\n",
            "Epoch: 44, Loss: 0.009811\n",
            "Epoch: 45, Loss: 0.050645\n",
            "Epoch: 46, Loss: 0.022383\n",
            "Epoch: 47, Loss: 0.133017\n",
            "Epoch: 48, Loss: 0.000587\n",
            "Epoch: 49, Loss: 0.000619\n",
            "Epoch: 50, Loss: 0.004805\n",
            "Epoch: 51, Loss: 0.000882\n",
            "Epoch: 52, Loss: 0.078696\n",
            "Epoch: 53, Loss: 0.065531\n",
            "Epoch: 54, Loss: 0.003266\n",
            "Epoch: 55, Loss: 0.001998\n",
            "Epoch: 56, Loss: 0.000086\n",
            "Epoch: 57, Loss: 0.064075\n",
            "Epoch: 58, Loss: 0.063438\n",
            "Epoch: 59, Loss: 0.004487\n",
            "Epoch: 60, Loss: 0.000280\n",
            "Epoch: 61, Loss: 0.062509\n",
            "Epoch: 62, Loss: 0.001105\n",
            "Epoch: 63, Loss: 0.001154\n",
            "Epoch: 64, Loss: 0.001315\n",
            "Epoch: 65, Loss: 0.000154\n",
            "Epoch: 66, Loss: 0.059378\n",
            "Epoch: 67, Loss: 0.008733\n",
            "Epoch: 68, Loss: 0.000296\n",
            "Epoch: 69, Loss: 0.001111\n",
            "Epoch: 70, Loss: 0.000376\n",
            "Epoch: 71, Loss: 0.000856\n",
            "Epoch: 72, Loss: 0.000973\n",
            "Epoch: 73, Loss: 0.062665\n",
            "Epoch: 74, Loss: 0.003643\n",
            "Epoch: 75, Loss: 0.001622\n",
            "Epoch: 76, Loss: 0.000164\n",
            "Epoch: 77, Loss: 0.001206\n",
            "Epoch: 78, Loss: 0.001643\n",
            "Epoch: 79, Loss: 0.000735\n",
            "Epoch: 80, Loss: 0.000474\n",
            "Epoch: 81, Loss: 0.000118\n",
            "Epoch: 82, Loss: 0.000106\n",
            "Epoch: 83, Loss: 0.003754\n",
            "Epoch: 84, Loss: 0.000446\n",
            "Epoch: 85, Loss: 0.000169\n",
            "Epoch: 86, Loss: 0.000332\n",
            "Epoch: 87, Loss: 0.058251\n",
            "Epoch: 88, Loss: 0.063090\n",
            "Epoch: 89, Loss: 0.000813\n",
            "Epoch: 90, Loss: 0.001149\n",
            "Epoch: 91, Loss: 0.000068\n",
            "Epoch: 92, Loss: 0.000862\n",
            "Epoch: 93, Loss: 0.062603\n",
            "Epoch: 94, Loss: 0.009575\n",
            "Epoch: 95, Loss: 0.000898\n",
            "Epoch: 96, Loss: 0.000249\n",
            "Epoch: 97, Loss: 0.000378\n",
            "Epoch: 98, Loss: 0.011187\n",
            "Epoch: 99, Loss: 0.000133\n"
          ],
          "name": "stdout"
        }
      ]
    },
    {
      "cell_type": "code",
      "metadata": {
        "id": "pNebD5EmFYO4",
        "colab_type": "code",
        "outputId": "198ddb8b-6708-4860-b81d-bfb1f2ba8916",
        "colab": {
          "base_uri": "https://localhost:8080/",
          "height": 35
        }
      },
      "source": [
        "#def loss_fn(t_p, t_c):\n",
        "#  squared_diffs = (t_p - t_c)**2\n",
        "#  return squared_diffs.mean()\n",
        "a = ([1 ,0],[0,1.5])\n",
        "a1 = ([1,0],[0,1])\n",
        "a = torch.FloatTensor(a)\n",
        "a1 = torch.FloatTensor(a1)\n",
        "loss_fn = nn.MSELoss()\n",
        "loss_fn(a,a1)\n",
        "\n",
        "\n",
        "\n"
      ],
      "execution_count": 181,
      "outputs": [
        {
          "output_type": "execute_result",
          "data": {
            "text/plain": [
              "tensor(0.0625)"
            ]
          },
          "metadata": {
            "tags": []
          },
          "execution_count": 181
        }
      ]
    },
    {
      "cell_type": "code",
      "metadata": {
        "id": "0aYI-Z5zGaIy",
        "colab_type": "code",
        "colab": {}
      },
      "source": [
        "outputs"
      ],
      "execution_count": 0,
      "outputs": []
    },
    {
      "cell_type": "code",
      "metadata": {
        "id": "2ynNRl_eDGrU",
        "colab_type": "code",
        "outputId": "2a008d5c-153e-4656-aa3d-0c97d22c5a3e",
        "colab": {
          "base_uri": "https://localhost:8080/",
          "height": 35
        }
      },
      "source": [
        "#Convert labels to vector \n",
        "label_map1 = {0:[1.0,0.0], 1:[0.0,1.0]}\n",
        "var = []\n",
        "for label in labels:\n",
        "  var.append(label_map1[label.item()])\n",
        "  #var.append = ([ ])\n",
        "#label1 = torch.tensor([label_map1[label] for label in labels])\n",
        "#label_map1[]\n",
        "  #print(label.item())\n",
        "var =torch.FloatTensor(var)\n",
        "#loss_fn(outputs,var)\n",
        "outputs.size(), var.size()\n",
        "#print(torch.max(outputs,dim=1))\n",
        "loss_fn = nn.MSELoss()\n",
        "loss_fn(outputs,var)\n",
        "#outputs.item()\n",
        "#outputs, var\n",
        "#sum(torch.log(-outputs))"
      ],
      "execution_count": 197,
      "outputs": [
        {
          "output_type": "execute_result",
          "data": {
            "text/plain": [
              "tensor(0.0638, grad_fn=<MseLossBackward>)"
            ]
          },
          "metadata": {
            "tags": []
          },
          "execution_count": 197
        }
      ]
    },
    {
      "cell_type": "code",
      "metadata": {
        "id": "5lEY379BERtw",
        "colab_type": "code",
        "colab": {}
      },
      "source": [
        ""
      ],
      "execution_count": 0,
      "outputs": []
    },
    {
      "cell_type": "code",
      "metadata": {
        "id": "nSHSWYTvSQwl",
        "colab_type": "code",
        "outputId": "fe1bf125-d8cb-4d3b-e4b2-8387bd153b74",
        "colab": {
          "base_uri": "https://localhost:8080/",
          "height": 35
        }
      },
      "source": [
        "\n",
        "img_batch = img.view(-1).unsqueeze(0)\n",
        "imgs.shape[0]\n",
        "#outputs, labels"
      ],
      "execution_count": 57,
      "outputs": [
        {
          "output_type": "execute_result",
          "data": {
            "text/plain": [
              "32"
            ]
          },
          "metadata": {
            "tags": []
          },
          "execution_count": 57
        }
      ]
    },
    {
      "cell_type": "code",
      "metadata": {
        "id": "aVwrM7VwVfKa",
        "colab_type": "code",
        "outputId": "074b457c-27f6-4218-8270-703d15aeda13",
        "colab": {
          "base_uri": "https://localhost:8080/",
          "height": 72
        }
      },
      "source": [
        "out = model(img_batch)\n",
        "out\n",
        "labels\n",
        "#torch.max(out,dim=1)"
      ],
      "execution_count": 0,
      "outputs": [
        {
          "output_type": "execute_result",
          "data": {
            "text/plain": [
              "tensor([1, 1, 1, 0, 0, 0, 0, 0, 0, 0, 1, 1, 0, 0, 1, 1, 1, 1, 0, 0, 1, 0, 1, 0,\n",
              "        1, 1, 0, 1, 1, 0, 1, 1, 0, 1, 1, 1, 1, 0, 1, 1, 0, 0, 1, 0, 1, 1, 0, 0,\n",
              "        1, 1, 0, 0, 0, 1, 0, 1, 1, 0, 1, 1, 0, 0, 0, 1])"
            ]
          },
          "metadata": {
            "tags": []
          },
          "execution_count": 182
        }
      ]
    },
    {
      "cell_type": "markdown",
      "metadata": {
        "id": "FqDa9Vd6kKjj",
        "colab_type": "text"
      },
      "source": [
        ""
      ]
    },
    {
      "cell_type": "code",
      "metadata": {
        "id": "7m-IhZbLEKHa",
        "colab_type": "code",
        "outputId": "e72785b0-795b-40e8-e1f4-3e645be53b9a",
        "colab": {
          "base_uri": "https://localhost:8080/",
          "height": 35
        }
      },
      "source": [
        "val_loader = torch.utils.data.DataLoader(test2,batch_size=64,shuffle=False)\n",
        "\n",
        "correct = 0\n",
        "total = 0\n",
        "\n",
        "with torch.no_grad():\n",
        "    for imgs, labels in val_loader:\n",
        "        batch_size = imgs.shape[0]\n",
        "        outputs = model(imgs.view(batch_size,-1)) # will generate probability \n",
        "        _,predicted = torch.max(outputs,dim=1) # we pick the category that has maximum probability\n",
        "        total += labels.shape[0] # true labels\n",
        "        correct += int( (predicted == labels).sum())\n",
        "\n",
        "print(\"Accuracy: %f\", correct/total)"
      ],
      "execution_count": 217,
      "outputs": [
        {
          "output_type": "stream",
          "text": [
            "Accuracy: %f 0.776\n"
          ],
          "name": "stdout"
        }
      ]
    },
    {
      "cell_type": "code",
      "metadata": {
        "id": "S5pFgGkfj6uo",
        "colab_type": "code",
        "outputId": "8cb79b63-f193-40c6-8862-3aca8c870821",
        "colab": {
          "base_uri": "https://localhost:8080/",
          "height": 35
        }
      },
      "source": [
        "numel_list = [p.numel() for p in model.parameters() if p.requires_grad == True]\n",
        "sum(numel_list), numel_list"
      ],
      "execution_count": 185,
      "outputs": [
        {
          "output_type": "execute_result",
          "data": {
            "text/plain": [
              "(3737474, [3145728, 1024, 524288, 512, 65536, 128, 256, 2])"
            ]
          },
          "metadata": {
            "tags": []
          },
          "execution_count": 185
        }
      ]
    },
    {
      "cell_type": "code",
      "metadata": {
        "id": "69fpW9MA8zQZ",
        "colab_type": "code",
        "outputId": "b948e3d6-2c49-47a7-d011-6f828f81d3ce",
        "colab": {
          "base_uri": "https://localhost:8080/",
          "height": 54
        }
      },
      "source": [
        "predicted, labels"
      ],
      "execution_count": 184,
      "outputs": [
        {
          "output_type": "execute_result",
          "data": {
            "text/plain": [
              "(tensor([0, 0, 0, 0, 0, 0, 0, 1, 1, 0, 0, 1, 1, 0, 1, 0]),\n",
              " tensor([0, 0, 0, 0, 1, 1, 1, 1, 1, 0, 0, 1, 0, 0, 1, 0]))"
            ]
          },
          "metadata": {
            "tags": []
          },
          "execution_count": 184
        }
      ]
    }
  ]
}