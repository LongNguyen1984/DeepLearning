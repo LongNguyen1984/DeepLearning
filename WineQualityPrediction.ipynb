{
  "nbformat": 4,
  "nbformat_minor": 0,
  "metadata": {
    "colab": {
      "name": "Untitled6.ipynb",
      "provenance": [],
      "authorship_tag": "ABX9TyMY6lOHfwgvGZ/l0shtH7x4",
      "include_colab_link": true
    },
    "kernelspec": {
      "name": "python3",
      "display_name": "Python 3"
    }
  },
  "cells": [
    {
      "cell_type": "markdown",
      "metadata": {
        "id": "view-in-github",
        "colab_type": "text"
      },
      "source": [
        "<a href=\"https://colab.research.google.com/github/LongNguyen1984/DeepLearning/blob/master/WineQualityPrediction.ipynb\" target=\"_parent\"><img src=\"https://colab.research.google.com/assets/colab-badge.svg\" alt=\"Open In Colab\"/></a>"
      ]
    },
    {
      "cell_type": "code",
      "metadata": {
        "id": "VAnjh4zo9jdt",
        "colab_type": "code",
        "colab": {}
      },
      "source": [
        "import csv\n",
        "import numpy as np\n",
        "import torch \n",
        "\n",
        "wine_path = 'winequality-white.csv'\n",
        "wineq_numpy = np.loadtxt(wine_path, dtype=np.float32, delimiter=\";\", skiprows=1)\n",
        "\n"
      ],
      "execution_count": 0,
      "outputs": []
    },
    {
      "cell_type": "code",
      "metadata": {
        "id": "vDLYeOWM-G7V",
        "colab_type": "code",
        "colab": {
          "base_uri": "https://localhost:8080/",
          "height": 136
        },
        "outputId": "233abfe2-5b6e-4d14-bca2-c252336294b5"
      },
      "source": [
        "wineq_numpy"
      ],
      "execution_count": 2,
      "outputs": [
        {
          "output_type": "execute_result",
          "data": {
            "text/plain": [
              "array([[ 7.  ,  0.27,  0.36, ...,  0.45,  8.8 ,  6.  ],\n",
              "       [ 6.3 ,  0.3 ,  0.34, ...,  0.49,  9.5 ,  6.  ],\n",
              "       [ 8.1 ,  0.28,  0.4 , ...,  0.44, 10.1 ,  6.  ],\n",
              "       ...,\n",
              "       [ 6.5 ,  0.24,  0.19, ...,  0.46,  9.4 ,  6.  ],\n",
              "       [ 5.5 ,  0.29,  0.3 , ...,  0.38, 12.8 ,  7.  ],\n",
              "       [ 6.  ,  0.21,  0.38, ...,  0.32, 11.8 ,  6.  ]], dtype=float32)"
            ]
          },
          "metadata": {
            "tags": []
          },
          "execution_count": 2
        }
      ]
    },
    {
      "cell_type": "code",
      "metadata": {
        "id": "0ApXi4Xo-eGH",
        "colab_type": "code",
        "colab": {
          "base_uri": "https://localhost:8080/",
          "height": 238
        },
        "outputId": "065a0e32-40aa-45da-d843-777b03d60ce4"
      },
      "source": [
        "col_list = next(csv.reader(open(wine_path), delimiter=';'))\n",
        "\n",
        "wineq_numpy.shape, col_list"
      ],
      "execution_count": 3,
      "outputs": [
        {
          "output_type": "execute_result",
          "data": {
            "text/plain": [
              "((4898, 12),\n",
              " ['fixed acidity',\n",
              "  'volatile acidity',\n",
              "  'citric acid',\n",
              "  'residual sugar',\n",
              "  'chlorides',\n",
              "  'free sulfur dioxide',\n",
              "  'total sulfur dioxide',\n",
              "  'density',\n",
              "  'pH',\n",
              "  'sulphates',\n",
              "  'alcohol',\n",
              "  'quality'])"
            ]
          },
          "metadata": {
            "tags": []
          },
          "execution_count": 3
        }
      ]
    },
    {
      "cell_type": "code",
      "metadata": {
        "id": "oLdDzgOu3nHv",
        "colab_type": "code",
        "colab": {
          "base_uri": "https://localhost:8080/",
          "height": 34
        },
        "outputId": "f57440c3-01a3-449d-fdb0-3c645ea4f267"
      },
      "source": [
        "#convert to Pytorch Tensor from NumPy\n",
        "wineq = torch.from_numpy(wineq_numpy)\n",
        "\n",
        "wineq.shape, wineq.dtype"
      ],
      "execution_count": 4,
      "outputs": [
        {
          "output_type": "execute_result",
          "data": {
            "text/plain": [
              "(torch.Size([4898, 12]), torch.float32)"
            ]
          },
          "metadata": {
            "tags": []
          },
          "execution_count": 4
        }
      ]
    },
    {
      "cell_type": "code",
      "metadata": {
        "id": "DQUFue6Z7kn5",
        "colab_type": "code",
        "colab": {
          "base_uri": "https://localhost:8080/",
          "height": 153
        },
        "outputId": "484bda86-764a-4125-e8fb-58c70c5560a6"
      },
      "source": [
        "#data \n",
        "data = wineq[:,:-1]\n",
        "data, data.shape"
      ],
      "execution_count": 5,
      "outputs": [
        {
          "output_type": "execute_result",
          "data": {
            "text/plain": [
              "(tensor([[ 7.0000,  0.2700,  0.3600,  ...,  3.0000,  0.4500,  8.8000],\n",
              "         [ 6.3000,  0.3000,  0.3400,  ...,  3.3000,  0.4900,  9.5000],\n",
              "         [ 8.1000,  0.2800,  0.4000,  ...,  3.2600,  0.4400, 10.1000],\n",
              "         ...,\n",
              "         [ 6.5000,  0.2400,  0.1900,  ...,  2.9900,  0.4600,  9.4000],\n",
              "         [ 5.5000,  0.2900,  0.3000,  ...,  3.3400,  0.3800, 12.8000],\n",
              "         [ 6.0000,  0.2100,  0.3800,  ...,  3.2600,  0.3200, 11.8000]]),\n",
              " torch.Size([4898, 11]))"
            ]
          },
          "metadata": {
            "tags": []
          },
          "execution_count": 5
        }
      ]
    },
    {
      "cell_type": "code",
      "metadata": {
        "id": "R0Kq_wNQ779x",
        "colab_type": "code",
        "colab": {
          "base_uri": "https://localhost:8080/",
          "height": 34
        },
        "outputId": "34245166-0c21-4aa0-9cfc-578bee3d56fd"
      },
      "source": [
        "#target = wineq[:, -1].long()\n",
        "target = wineq[:, -1]\n",
        "target, target.shape"
      ],
      "execution_count": 63,
      "outputs": [
        {
          "output_type": "execute_result",
          "data": {
            "text/plain": [
              "(tensor([6., 6., 6.,  ..., 6., 7., 6.]), torch.Size([4898]))"
            ]
          },
          "metadata": {
            "tags": []
          },
          "execution_count": 63
        }
      ]
    },
    {
      "cell_type": "code",
      "metadata": {
        "id": "6ABkPCyZ-iMC",
        "colab_type": "code",
        "colab": {
          "base_uri": "https://localhost:8080/",
          "height": 51
        },
        "outputId": "1a34c989-524b-4ea6-c0a5-82f975fb44af"
      },
      "source": [
        "#caluculate mean and variance of data\n",
        "data_mean = torch.mean(data, dim = 0)\n",
        "data_mean"
      ],
      "execution_count": 7,
      "outputs": [
        {
          "output_type": "execute_result",
          "data": {
            "text/plain": [
              "tensor([6.8548e+00, 2.7824e-01, 3.3419e-01, 6.3914e+00, 4.5772e-02, 3.5308e+01,\n",
              "        1.3836e+02, 9.9403e-01, 3.1883e+00, 4.8985e-01, 1.0514e+01])"
            ]
          },
          "metadata": {
            "tags": []
          },
          "execution_count": 7
        }
      ]
    },
    {
      "cell_type": "code",
      "metadata": {
        "id": "14gZ7fRp-yCX",
        "colab_type": "code",
        "colab": {
          "base_uri": "https://localhost:8080/",
          "height": 51
        },
        "outputId": "71d7c77b-f9ff-4a60-c84b-4994ae5a4f7f"
      },
      "source": [
        "data_var = torch.var(data, dim = 0)\n",
        "data_var"
      ],
      "execution_count": 8,
      "outputs": [
        {
          "output_type": "execute_result",
          "data": {
            "text/plain": [
              "tensor([7.1211e-01, 1.0160e-02, 1.4646e-02, 2.5726e+01, 4.7733e-04, 2.8924e+02,\n",
              "        1.8061e+03, 8.9455e-06, 2.2801e-02, 1.3025e-02, 1.5144e+00])"
            ]
          },
          "metadata": {
            "tags": []
          },
          "execution_count": 8
        }
      ]
    },
    {
      "cell_type": "code",
      "metadata": {
        "id": "qgCcSr7V_AGu",
        "colab_type": "code",
        "colab": {
          "base_uri": "https://localhost:8080/",
          "height": 238
        },
        "outputId": "835c9c11-dc50-4b90-b919-8e021046bf6e"
      },
      "source": [
        "#normalized data\n",
        "data_normalized = (data - data_mean)/torch.sqrt(data_var)\n",
        "data_normalized"
      ],
      "execution_count": 64,
      "outputs": [
        {
          "output_type": "execute_result",
          "data": {
            "text/plain": [
              "tensor([[ 1.7209e-01, -8.1764e-02,  2.1325e-01,  ..., -1.2468e+00,\n",
              "         -3.4914e-01, -1.3930e+00],\n",
              "        [-6.5743e-01,  2.1587e-01,  4.7991e-02,  ...,  7.3992e-01,\n",
              "          1.3467e-03, -8.2418e-01],\n",
              "        [ 1.4756e+00,  1.7448e-02,  5.4378e-01,  ...,  4.7502e-01,\n",
              "         -4.3677e-01, -3.3662e-01],\n",
              "        ...,\n",
              "        [-4.2042e-01, -3.7940e-01, -1.1915e+00,  ..., -1.3131e+00,\n",
              "         -2.6152e-01, -9.0544e-01],\n",
              "        [-1.6054e+00,  1.1666e-01, -2.8253e-01,  ...,  1.0048e+00,\n",
              "         -9.6250e-01,  1.8574e+00],\n",
              "        [-1.0129e+00, -6.7703e-01,  3.7852e-01,  ...,  4.7502e-01,\n",
              "         -1.4882e+00,  1.0448e+00]])"
            ]
          },
          "metadata": {
            "tags": []
          },
          "execution_count": 64
        }
      ]
    },
    {
      "cell_type": "code",
      "metadata": {
        "id": "vpHVSMtY_P2W",
        "colab_type": "code",
        "colab": {
          "base_uri": "https://localhost:8080/",
          "height": 34
        },
        "outputId": "245b9faf-1cc4-4a20-e048-c42d0e9102f7"
      },
      "source": [
        "bad_indexes = target <= 3\n",
        "bad_indexes.shape, bad_indexes.dtype, bad_indexes.sum()"
      ],
      "execution_count": 10,
      "outputs": [
        {
          "output_type": "execute_result",
          "data": {
            "text/plain": [
              "(torch.Size([4898]), torch.bool, tensor(20))"
            ]
          },
          "metadata": {
            "tags": []
          },
          "execution_count": 10
        }
      ]
    },
    {
      "cell_type": "code",
      "metadata": {
        "id": "vZQhmydvAgvJ",
        "colab_type": "code",
        "colab": {
          "base_uri": "https://localhost:8080/",
          "height": 204
        },
        "outputId": "711c84ed-f630-4c96-d292-6b2a0b36eb1b"
      },
      "source": [
        "bad_data = data[target <= 3]\n",
        "mid_data = data[(target > 3) & (target < 7)]\n",
        "good_data = data[target >= 7]\n",
        "\n",
        "bad_mean = torch.mean(bad_data, dim=0)\n",
        "mid_mean = torch.mean(mid_data, dim=0)\n",
        "good_mean = torch.mean(good_data, dim=0)\n",
        "\n",
        "for i, args in enumerate(zip(col_list, bad_mean, mid_mean, good_mean)):\n",
        "    print('{:2} {:20} {:6.2f} {:6.2f} {:6.2f}'.format(i, *args))"
      ],
      "execution_count": 11,
      "outputs": [
        {
          "output_type": "stream",
          "text": [
            " 0 fixed acidity          7.60   6.89   6.73\n",
            " 1 volatile acidity       0.33   0.28   0.27\n",
            " 2 citric acid            0.34   0.34   0.33\n",
            " 3 residual sugar         6.39   6.71   5.26\n",
            " 4 chlorides              0.05   0.05   0.04\n",
            " 5 free sulfur dioxide   53.33  35.42  34.55\n",
            " 6 total sulfur dioxide 170.60 141.83 125.25\n",
            " 7 density                0.99   0.99   0.99\n",
            " 8 pH                     3.19   3.18   3.22\n",
            " 9 sulphates              0.47   0.49   0.50\n",
            "10 alcohol               10.34  10.26  11.42\n"
          ],
          "name": "stdout"
        }
      ]
    },
    {
      "cell_type": "code",
      "metadata": {
        "id": "d4WfcxcJCydk",
        "colab_type": "code",
        "colab": {
          "base_uri": "https://localhost:8080/",
          "height": 34
        },
        "outputId": "34cd8e9d-5675-4730-eca9-bedf2d7b9bde"
      },
      "source": [
        "data.shape, target.shape\n"
      ],
      "execution_count": 16,
      "outputs": [
        {
          "output_type": "execute_result",
          "data": {
            "text/plain": [
              "(torch.Size([4898, 11]), torch.Size([4898]))"
            ]
          },
          "metadata": {
            "tags": []
          },
          "execution_count": 16
        }
      ]
    },
    {
      "cell_type": "code",
      "metadata": {
        "id": "yce9utcXHnnW",
        "colab_type": "code",
        "colab": {
          "base_uri": "https://localhost:8080/",
          "height": 51
        },
        "outputId": "f901e39a-d56f-471b-e631-65f85b4a09cf"
      },
      "source": [
        "data[1,:]"
      ],
      "execution_count": 20,
      "outputs": [
        {
          "output_type": "execute_result",
          "data": {
            "text/plain": [
              "tensor([6.3000e+00, 3.0000e-01, 3.4000e-01, 1.6000e+00, 4.9000e-02, 1.4000e+01,\n",
              "        1.3200e+02, 9.9400e-01, 3.3000e+00, 4.9000e-01, 9.5000e+00])"
            ]
          },
          "metadata": {
            "tags": []
          },
          "execution_count": 20
        }
      ]
    },
    {
      "cell_type": "code",
      "metadata": {
        "id": "-l-3OZNxG4Kx",
        "colab_type": "code",
        "colab": {
          "base_uri": "https://localhost:8080/",
          "height": 282
        },
        "outputId": "256c2c6e-1891-4d75-e8f8-6894c104d76f"
      },
      "source": [
        "import matplotlib.pyplot as plt\n",
        "plt.scatter(data[:,1],target)"
      ],
      "execution_count": 23,
      "outputs": [
        {
          "output_type": "execute_result",
          "data": {
            "text/plain": [
              "<matplotlib.collections.PathCollection at 0x7f64a03046a0>"
            ]
          },
          "metadata": {
            "tags": []
          },
          "execution_count": 23
        },
        {
          "output_type": "display_data",
          "data": {
            "image/png": "[encoded data removed]",
            "text/plain": [
              "<Figure size 432x288 with 1 Axes>"
            ]
          },
          "metadata": {
            "tags": [],
            "needs_background": "light"
          }
        }
      ]
    },
    {
      "cell_type": "code",
      "metadata": {
        "id": "k5dw72_-K64z",
        "colab_type": "code",
        "colab": {}
      },
      "source": [
        "import torch.nn as nn\n",
        "import torch.optim as optim\n",
        "\n",
        "\n",
        "\n",
        "#seperate data for traning and validate set\n",
        "n_samples = target.shape[0]\n",
        "n_val = int(0.2*n_samples)\n",
        "\n",
        "shuffled_indices = torch.randperm(n_samples)\n",
        "\n",
        "train_indices = shuffled_indices[:n_val]\n",
        "val_indices = shuffled_indices[-n_val:]\n",
        "\n",
        "# data for training\n",
        "train_data = data[train_indices]\n",
        "train_data_n = data_normalized[train_indices]\n",
        "train_target = target[train_indices]\n",
        "# data for validation\n",
        "val_data = data[val_indices]\n",
        "val_data_n = data_normalized[val_indices]\n",
        "val_target = target[val_indices]\n"
      ],
      "execution_count": 0,
      "outputs": []
    },
    {
      "cell_type": "code",
      "metadata": {
        "id": "zHBuEqnCVtsC",
        "colab_type": "code",
        "colab": {}
      },
      "source": [
        "num_features = 11\n",
        "model = nn.Linear(num_features,1) #\n",
        "#model(train_data).shape\n",
        "#model.weight, model.bias\n",
        "optimizer = optim.SGD(\n",
        "    model.parameters(),\n",
        "    lr=1e-2\n",
        ")"
      ],
      "execution_count": 0,
      "outputs": []
    },
    {
      "cell_type": "code",
      "metadata": {
        "id": "ljyPCE5QcYEj",
        "colab_type": "code",
        "colab": {
          "base_uri": "https://localhost:8080/",
          "height": 102
        },
        "outputId": "5b52bc69-491b-4782-cb77-c4d62dc3bbbe"
      },
      "source": [
        "model.parameters()\n",
        "list(model.parameters())"
      ],
      "execution_count": 58,
      "outputs": [
        {
          "output_type": "execute_result",
          "data": {
            "text/plain": [
              "[Parameter containing:\n",
              " tensor([[ 0.0835, -0.2269,  0.1669, -0.1559,  0.2006,  0.1495,  0.2227,  0.0961,\n",
              "           0.1960,  0.2933, -0.0413]], requires_grad=True),\n",
              " Parameter containing:\n",
              " tensor([0.1286], requires_grad=True)]"
            ]
          },
          "metadata": {
            "tags": []
          },
          "execution_count": 58
        }
      ]
    },
    {
      "cell_type": "code",
      "metadata": {
        "id": "uW5nvKaEelQn",
        "colab_type": "code",
        "colab": {}
      },
      "source": [
        "def training_loop(n_epochs, optimizer, model, loss_fn, train_data, train_target, val_data, val_target):\n",
        "    for epoch in range(1, n_epochs+1): # one epoch: entire dataset is passed through NN once\n",
        "\n",
        "        # Attatching model and loss function\n",
        "        train_pred = model(train_data)  \n",
        "        loss_train = loss_fn(train_pred, train_target)\n",
        "\n",
        "        # To validate the model, we measure the testing error with testing data\n",
        "        val_pred = model(val_data)\n",
        "        loss_val = loss_fn(val_pred, val_target)\n",
        "\n",
        "        # Attach optimizer to train the model\n",
        "        optimizer.zero_grad() # should initialize gradient value at each iteration\n",
        "        loss_train.backward() # gradinet is calculated\n",
        "        optimizer.step() # parameter updates using gradient\n",
        "\n",
        "        if epoch==1 or epoch % 1000 ==0:\n",
        "          print('Epoch {}, Training loss {}, Validation loss {}'. format(\n",
        "              epoch, float(loss_train), float(loss_val)\n",
        "          ))"
      ],
      "execution_count": 0,
      "outputs": []
    },
    {
      "cell_type": "code",
      "metadata": {
        "id": "76tttHkrgnCz",
        "colab_type": "code",
        "colab": {
          "base_uri": "https://localhost:8080/",
          "height": 173
        },
        "outputId": "0f47eb1d-769f-4b8b-f426-f49138cc24a8"
      },
      "source": [
        "# Learning simple linear model\n",
        "import torch.nn as nn\n",
        "import torch.optim as optim\n",
        "\n",
        "# Simple Linear Model\n",
        "num_features = 11\n",
        "model = nn.Linear(num_features,1) # Simple Linear Model without Activation Function\n",
        "optimizer= optim.SGD(model.parameters(), lr=1e-1) # Stochastic Gradient Descent\n",
        "loss_fn =nn.MSELoss() # Mean Squared Error\n",
        "\n",
        "training_loop(\n",
        "    n_epochs = 5000,\n",
        "    optimizer = optimizer,\n",
        "    model=model,\n",
        "    loss_fn= loss_fn,\n",
        "    train_data = train_data_n,\n",
        "    train_target = train_target,\n",
        "    val_data = val_data_n,\n",
        "    val_target = val_target\n",
        ")\n"
      ],
      "execution_count": 70,
      "outputs": [
        {
          "output_type": "stream",
          "text": [
            "/usr/local/lib/python3.6/dist-packages/torch/nn/modules/loss.py:431: UserWarning: Using a target size (torch.Size([979])) that is different to the input size (torch.Size([979, 1])). This will likely lead to incorrect results due to broadcasting. Please ensure they have the same size.\n",
            "  return F.mse_loss(input, target, reduction=self.reduction)\n"
          ],
          "name": "stderr"
        },
        {
          "output_type": "stream",
          "text": [
            "Epoch 1, Training loss 35.17997741699219, Validation loss 35.079673767089844\n",
            "Epoch 1000, Training loss 0.8065207600593567, Validation loss 0.7961960434913635\n",
            "Epoch 2000, Training loss 0.8064256906509399, Validation loss 0.7961021661758423\n",
            "Epoch 3000, Training loss 0.8064193725585938, Validation loss 0.7960962653160095\n",
            "Epoch 4000, Training loss 0.8064193725585938, Validation loss 0.7960962653160095\n",
            "Epoch 5000, Training loss 0.8064193725585938, Validation loss 0.7960962653160095\n"
          ],
          "name": "stdout"
        }
      ]
    },
    {
      "cell_type": "markdown",
      "metadata": {
        "id": "wF0jwiBZoxY9",
        "colab_type": "text"
      },
      "source": [
        "#Model Training with Neural Network"
      ]
    },
    {
      "cell_type": "code",
      "metadata": {
        "id": "XwGrmV2mo6yC",
        "colab_type": "code",
        "colab": {
          "base_uri": "https://localhost:8080/",
          "height": 136
        },
        "outputId": "ec6ce5b1-1666-4efc-b5d4-0ff4c375ab8e"
      },
      "source": [
        "seq_model = nn.Sequential(\n",
        "    nn.Linear(num_features, 32),\n",
        "    nn.Tanh(),\n",
        "    nn.Linear(32, 4),\n",
        "    nn.ReLU(),\n",
        "    nn.Linear(4,1)\n",
        ")\n",
        "seq_model"
      ],
      "execution_count": 85,
      "outputs": [
        {
          "output_type": "execute_result",
          "data": {
            "text/plain": [
              "Sequential(\n",
              "  (0): Linear(in_features=11, out_features=32, bias=True)\n",
              "  (1): Tanh()\n",
              "  (2): Linear(in_features=32, out_features=4, bias=True)\n",
              "  (3): ReLU()\n",
              "  (4): Linear(in_features=4, out_features=1, bias=True)\n",
              ")"
            ]
          },
          "metadata": {
            "tags": []
          },
          "execution_count": 85
        }
      ]
    },
    {
      "cell_type": "code",
      "metadata": {
        "id": "eoMGngaxrbox",
        "colab_type": "code",
        "colab": {
          "base_uri": "https://localhost:8080/",
          "height": 173
        },
        "outputId": "bc87b1ed-ff59-4190-c710-66fd5145f592"
      },
      "source": [
        "optimizer = optim.SGD(seq_model.parameters(), lr=1e-2)\n",
        "training_loop(\n",
        "    n_epochs = 5000,\n",
        "    optimizer = optimizer,\n",
        "    model=seq_model,\n",
        "    loss_fn= loss_fn,\n",
        "    train_data = train_data_n,\n",
        "    train_target = train_target,\n",
        "    val_data = val_data_n,\n",
        "    val_target = val_target\n",
        ")"
      ],
      "execution_count": 86,
      "outputs": [
        {
          "output_type": "stream",
          "text": [
            "/usr/local/lib/python3.6/dist-packages/torch/nn/modules/loss.py:431: UserWarning: Using a target size (torch.Size([979])) that is different to the input size (torch.Size([979, 1])). This will likely lead to incorrect results due to broadcasting. Please ensure they have the same size.\n",
            "  return F.mse_loss(input, target, reduction=self.reduction)\n"
          ],
          "name": "stderr"
        },
        {
          "output_type": "stream",
          "text": [
            "Epoch 1, Training loss 32.53366470336914, Validation loss 33.183937072753906\n",
            "Epoch 1000, Training loss 0.8152031898498535, Validation loss 0.8075206875801086\n",
            "Epoch 2000, Training loss 0.8103567361831665, Validation loss 0.8023004531860352\n",
            "Epoch 3000, Training loss 0.8088628649711609, Validation loss 0.8002991080284119\n",
            "Epoch 4000, Training loss 0.8081519603729248, Validation loss 0.7992321848869324\n",
            "Epoch 5000, Training loss 0.8077348470687866, Validation loss 0.7985573410987854\n"
          ],
          "name": "stdout"
        }
      ]
    },
    {
      "cell_type": "markdown",
      "metadata": {
        "id": "Mo0K64IUx3kk",
        "colab_type": "text"
      },
      "source": [
        "#Alternate features for training"
      ]
    },
    {
      "cell_type": "code",
      "metadata": {
        "id": "9kQEr0ltuVgd",
        "colab_type": "code",
        "colab": {}
      },
      "source": [
        "Selected_features = [0, 1, 6, 9]\n",
        "# data for training\n",
        "train_X = data[:,Selected_features]\n",
        "train_X = train_X[train_indices]\n",
        "train_Xn = data_normalized[:, Selected_features]\n",
        "train_Xn = train_Xn[train_indices]\n",
        "train_Y = target[train_indices]\n",
        "# data for validation\n",
        "val_X = data[:,Selected_features]\n",
        "val_X = val_X[val_indices]\n",
        "val_Xn = data_normalized[:, Selected_features]\n",
        "val_Xn = val_Xn[val_indices]\n",
        "val_Y = target[val_indices]"
      ],
      "execution_count": 0,
      "outputs": []
    },
    {
      "cell_type": "code",
      "metadata": {
        "id": "U2yQZJ1kyCBz",
        "colab_type": "code",
        "colab": {
          "base_uri": "https://localhost:8080/",
          "height": 136
        },
        "outputId": "ce8863cd-bd6a-4d9f-d64d-ba4a70048e60"
      },
      "source": [
        "num_features = len(Selected_features)\n",
        "seq_model = nn.Sequential(\n",
        "    nn.Linear(num_features, 8),\n",
        "    nn.Tanh(),\n",
        "    nn.Linear(8, 4),\n",
        "    nn.ReLU(),\n",
        "    nn.Linear(4,1)\n",
        ")\n",
        "seq_model"
      ],
      "execution_count": 119,
      "outputs": [
        {
          "output_type": "execute_result",
          "data": {
            "text/plain": [
              "Sequential(\n",
              "  (0): Linear(in_features=4, out_features=8, bias=True)\n",
              "  (1): Tanh()\n",
              "  (2): Linear(in_features=8, out_features=4, bias=True)\n",
              "  (3): ReLU()\n",
              "  (4): Linear(in_features=4, out_features=1, bias=True)\n",
              ")"
            ]
          },
          "metadata": {
            "tags": []
          },
          "execution_count": 119
        }
      ]
    },
    {
      "cell_type": "markdown",
      "metadata": {
        "id": "ubST1xpYzp68",
        "colab_type": "text"
      },
      "source": [
        "#Training and Validation"
      ]
    },
    {
      "cell_type": "code",
      "metadata": {
        "id": "5DlopGJVzpCq",
        "colab_type": "code",
        "colab": {
          "base_uri": "https://localhost:8080/",
          "height": 173
        },
        "outputId": "55e515c8-9020-4048-dcd8-94fdb1355b3f"
      },
      "source": [
        "optimizer = optim.SGD(seq_model.parameters(), lr=1e-3)\n",
        "training_loop(\n",
        "    n_epochs = 5000,\n",
        "    optimizer = optimizer,\n",
        "    model=seq_model,\n",
        "    loss_fn= loss_fn,\n",
        "    train_data = train_Xn,\n",
        "    train_target = train_Y,\n",
        "    val_data = val_Xn,\n",
        "    val_target = val_Y\n",
        ")"
      ],
      "execution_count": 121,
      "outputs": [
        {
          "output_type": "stream",
          "text": [
            "/usr/local/lib/python3.6/dist-packages/torch/nn/modules/loss.py:431: UserWarning: Using a target size (torch.Size([979])) that is different to the input size (torch.Size([979, 1])). This will likely lead to incorrect results due to broadcasting. Please ensure they have the same size.\n",
            "  return F.mse_loss(input, target, reduction=self.reduction)\n"
          ],
          "name": "stderr"
        },
        {
          "output_type": "stream",
          "text": [
            "Epoch 1, Training loss 0.8069146871566772, Validation loss 0.7967742681503296\n",
            "Epoch 1000, Training loss 0.806910514831543, Validation loss 0.7967740297317505\n",
            "Epoch 2000, Training loss 0.8069095611572266, Validation loss 0.7967537045478821\n",
            "Epoch 3000, Training loss 0.80689537525177, Validation loss 0.7967445254325867\n",
            "Epoch 4000, Training loss 0.8068940043449402, Validation loss 0.796735942363739\n",
            "Epoch 5000, Training loss 0.8068898916244507, Validation loss 0.7967324256896973\n"
          ],
          "name": "stdout"
        }
      ]
    }
  ]
}