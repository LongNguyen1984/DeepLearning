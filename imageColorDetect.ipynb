{
  "nbformat": 4,
  "nbformat_minor": 0,
  "metadata": {
    "colab": {
      "name": "Untitled1.ipynb",
      "provenance": [],
      "authorship_tag": "ABX9TyO9mvWJP3R6owij/V0IdH37",
      "include_colab_link": true
    },
    "kernelspec": {
      "name": "python3",
      "display_name": "Python 3"
    }
  },
  "cells": [
    {
      "cell_type": "markdown",
      "metadata": {
        "id": "view-in-github",
        "colab_type": "text"
      },
      "source": [
        "<a href=\"https://colab.research.google.com/github/LongNguyen1984/DeepLearning/blob/master/imageColorDetect.ipynb\" target=\"_parent\"><img src=\"https://colab.research.google.com/assets/colab-badge.svg\" alt=\"Open In Colab\"/></a>"
      ]
    },
    {
      "cell_type": "code",
      "metadata": {
        "id": "GbRpWJ0UKckb",
        "colab_type": "code",
        "outputId": "d1dbbfb9-3bec-4a83-e874-b45584048e27",
        "colab": {
          "base_uri": "https://localhost:8080/",
          "height": 221
        }
      },
      "source": [
        "\n",
        "import torch\n",
        "import imageio\n",
        "import numpy as np\n",
        "\n",
        "\n",
        "img_arg = imageio.imread('Mydata/Red.jpg')\n",
        "img_arg1 = imageio.imread('Green1.jpg')\n",
        "img_arg.size, img_arg.shape, img_arg.dtype\n",
        "#using .copy() to avoid stride negatie value\n",
        "img_t = torch.from_numpy(img_arg.copy())\n",
        "#img_arg.strides \n",
        "#test = img_arg > 100\n",
        "#test.dtype, test.sum()\n",
        "img_arg.__array_interface__, img_arg1.__array_interface__,\n"
      ],
      "execution_count": 0,
      "outputs": [
        {
          "output_type": "execute_result",
          "data": {
            "text/plain": [
              "({'data': (96905344, False),\n",
              "  'descr': [('', '|u1')],\n",
              "  'shape': (640, 480, 3),\n",
              "  'strides': (3, -1920, 1),\n",
              "  'typestr': '|u1',\n",
              "  'version': 3},\n",
              " {'data': (100098048, False),\n",
              "  'descr': [('', '|u1')],\n",
              "  'shape': (480, 640, 3),\n",
              "  'strides': None,\n",
              "  'typestr': '|u1',\n",
              "  'version': 3})"
            ]
          },
          "metadata": {
            "tags": []
          },
          "execution_count": 97
        }
      ]
    },
    {
      "cell_type": "code",
      "metadata": {
        "id": "A4ruWmjirKN3",
        "colab_type": "code",
        "outputId": "7f817202-c939-487a-88b0-9b5789258b64",
        "colab": {
          "base_uri": "https://localhost:8080/",
          "height": 153
        }
      },
      "source": [
        "import os\n",
        "\n",
        "batch_size = 10\n",
        "batch = torch.zeros(10, 3, 640, 480, dtype=torch.uint8)\n",
        "\n",
        "data_dir = 'Mydata/'\n",
        "filenames = [name for name in os.listdir(data_dir) if os.path.splitext(name)[-1] == '.jpg']\n",
        "filenames"
      ],
      "execution_count": 137,
      "outputs": [
        {
          "output_type": "execute_result",
          "data": {
            "text/plain": [
              "['Red2.jpg',\n",
              " 'Red.jpg',\n",
              " 'Red4.jpg',\n",
              " 'Blue.jpg',\n",
              " 'Green2 .jpg',\n",
              " 'Green.jpg',\n",
              " 'Blue2.jpg',\n",
              " 'Red3.jpg']"
            ]
          },
          "metadata": {
            "tags": []
          },
          "execution_count": 137
        }
      ]
    },
    {
      "cell_type": "code",
      "metadata": {
        "id": "2x2vbN5Mt9Cr",
        "colab_type": "code",
        "colab": {}
      },
      "source": [
        "for i, filename in enumerate(filenames):\n",
        "  img_arr = imageio.imread(os.path.join(data_dir, filename))\n",
        "  img_t = torch.from_numpy(img_arr.copy())\n",
        "  img_t = img_t.permute(2, 0, 1)\n",
        "  img_t = img_t[:3]\n",
        "  batch[i] = img_t\n",
        "  "
      ],
      "execution_count": 0,
      "outputs": []
    },
    {
      "cell_type": "code",
      "metadata": {
        "id": "wm6Zros3_J9g",
        "colab_type": "code",
        "colab": {
          "base_uri": "https://localhost:8080/",
          "height": 408
        },
        "outputId": "0af5d2f1-9702-4585-d494-1662966a64ec"
      },
      "source": [
        "batch[7]"
      ],
      "execution_count": 145,
      "outputs": [
        {
          "output_type": "execute_result",
          "data": {
            "text/plain": [
              "tensor([[[149., 193., 201.,  ..., 195., 165., 177.],\n",
              "         [173., 245., 231.,  ..., 159., 178., 181.],\n",
              "         [245., 254., 255.,  ..., 179., 178., 167.],\n",
              "         ...,\n",
              "         [ 40.,  41.,  41.,  ..., 255., 255., 255.],\n",
              "         [ 39.,  39.,  41.,  ..., 255., 255., 255.],\n",
              "         [ 39.,  39.,  39.,  ..., 255., 255., 255.]],\n",
              "\n",
              "        [[ 16.,  51.,  54.,  ...,  85.,  56.,  68.],\n",
              "         [ 46., 112.,  93.,  ...,  49.,  69.,  72.],\n",
              "         [116., 125., 136.,  ...,  69.,  69.,  58.],\n",
              "         ...,\n",
              "         [ 14.,  15.,  15.,  ..., 245., 245., 245.],\n",
              "         [ 14.,  14.,  15.,  ..., 245., 245., 245.],\n",
              "         [ 14.,  14.,  14.,  ..., 245., 245., 245.]],\n",
              "\n",
              "        [[ 37.,  75.,  80.,  ..., 114.,  85.,  97.],\n",
              "         [ 65., 133., 116.,  ...,  78.,  98., 101.],\n",
              "         [136., 145., 156.,  ...,  98.,  98.,  87.],\n",
              "         ...,\n",
              "         [ 17.,  18.,  18.,  ..., 220., 220., 220.],\n",
              "         [ 17.,  17.,  18.,  ..., 220., 220., 220.],\n",
              "         [ 17.,  17.,  17.,  ..., 220., 220., 220.]]])"
            ]
          },
          "metadata": {
            "tags": []
          },
          "execution_count": 145
        }
      ]
    },
    {
      "cell_type": "code",
      "metadata": {
        "id": "9pSGvBwJ_in3",
        "colab_type": "code",
        "colab": {}
      },
      "source": [
        "#normal lize data images\n",
        "batch = batch.float()\n",
        "batch /=255.0\n"
      ],
      "execution_count": 0,
      "outputs": []
    },
    {
      "cell_type": "code",
      "metadata": {
        "id": "a-qXmAKX_7ha",
        "colab_type": "code",
        "colab": {}
      },
      "source": [
        "n_channels = batch.shape[1]\n",
        "means = np.zeros(batch_size)\n",
        "stds = np.zeros(batch_size)\n",
        "for c in range(n_channels):\n",
        "  mean = torch.mean(batch[:, c])\n",
        "  means[c] = mean\n",
        "  std = torch.std(batch[:, c])\n",
        "  stds[c] = std\n",
        "  batch[:, c] = (batch[:, c] - mean) / std"
      ],
      "execution_count": 0,
      "outputs": []
    },
    {
      "cell_type": "code",
      "metadata": {
        "id": "DlAJbpfFDUoY",
        "colab_type": "code",
        "outputId": "90feb669-ee50-4f0d-d056-ab896b870b59",
        "colab": {
          "base_uri": "https://localhost:8080/",
          "height": 85
        }
      },
      "source": [
        "means , stds\n"
      ],
      "execution_count": 147,
      "outputs": [
        {
          "output_type": "execute_result",
          "data": {
            "text/plain": [
              "(array([0.44048196, 0.30501676, 0.28940129, 0.        , 0.        ,\n",
              "        0.        , 0.        , 0.        , 0.        , 0.        ]),\n",
              " array([0.34404677, 0.31353411, 0.24589187, 0.        , 0.        ,\n",
              "        0.        , 0.        , 0.        , 0.        , 0.        ]))"
            ]
          },
          "metadata": {
            "tags": []
          },
          "execution_count": 147
        }
      ]
    },
    {
      "cell_type": "code",
      "metadata": {
        "id": "GdYtivrxPkwf",
        "colab_type": "code",
        "colab": {
          "base_uri": "https://localhost:8080/",
          "height": 34
        },
        "outputId": "3fb9be16-1eec-4733-b4fe-04c9311b4f35"
      },
      "source": [
        "batch[:,:,1].shape"
      ],
      "execution_count": 157,
      "outputs": [
        {
          "output_type": "execute_result",
          "data": {
            "text/plain": [
              "torch.Size([10, 3, 480])"
            ]
          },
          "metadata": {
            "tags": []
          },
          "execution_count": 157
        }
      ]
    },
    {
      "cell_type": "code",
      "metadata": {
        "id": "N4CNx5iSQsQb",
        "colab_type": "code",
        "colab": {
          "base_uri": "https://localhost:8080/",
          "height": 187
        },
        "outputId": "18d71819-ee66-48cc-9c4d-d650ec7baf99"
      },
      "source": [
        "img_mean = np.zeros(batch_size)\n",
        "for i in range(batch_size):\n",
        " img_mean[i] = torch.mean(batch[i])\n",
        "\n",
        "filenames, img_mean"
      ],
      "execution_count": 158,
      "outputs": [
        {
          "output_type": "execute_result",
          "data": {
            "text/plain": [
              "(['Red2.jpg',\n",
              "  'Red.jpg',\n",
              "  'Red4.jpg',\n",
              "  'Blue.jpg',\n",
              "  'Green2 .jpg',\n",
              "  'Green.jpg',\n",
              "  'Blue2.jpg',\n",
              "  'Red3.jpg'],\n",
              " array([ 0.38049492,  0.40471682,  0.42150396,  0.44228148,  0.60769951,\n",
              "         0.4573001 ,  0.29742435,  0.43822178, -0.00448356, -0.00448356]))"
            ]
          },
          "metadata": {
            "tags": []
          },
          "execution_count": 158
        }
      ]
    },
    {
      "cell_type": "code",
      "metadata": {
        "id": "a5Q1MrkgTV5a",
        "colab_type": "code",
        "colab": {
          "base_uri": "https://localhost:8080/",
          "height": 323
        },
        "outputId": "016cedc4-b718-4130-8eb3-b168c00ad37a"
      },
      "source": [
        "n_channels = batch.shape[1]\n",
        "means = np.zeros((batch_size, n_channels))\n",
        "for i in range(batch_size):\n",
        "  for c in range(n_channels):\n",
        "    means[i,c] = torch.mean(batch[i,c])\n",
        "filenames, means  "
      ],
      "execution_count": 162,
      "outputs": [
        {
          "output_type": "execute_result",
          "data": {
            "text/plain": [
              "(['Red2.jpg',\n",
              "  'Red.jpg',\n",
              "  'Red4.jpg',\n",
              "  'Blue.jpg',\n",
              "  'Green2 .jpg',\n",
              "  'Green.jpg',\n",
              "  'Blue2.jpg',\n",
              "  'Red3.jpg'],\n",
              " array([[ 0.57404929,  0.2865119 ,  0.28088257],\n",
              "        [ 0.71674198,  0.25741708,  0.24009438],\n",
              "        [ 0.80554676,  0.19138214,  0.26761603],\n",
              "        [ 0.41066438,  0.4390097 ,  0.47718659],\n",
              "        [ 0.6443339 ,  0.72085959,  0.45775092],\n",
              "        [ 0.32717112,  0.67579567,  0.36901465],\n",
              "        [ 0.22784866,  0.21142176,  0.4530063 ],\n",
              "        [ 0.69846368,  0.26776963,  0.34846145],\n",
              "        [-0.00502039, -0.00381478, -0.00461571],\n",
              "        [-0.00502039, -0.00381478, -0.00461571]]))"
            ]
          },
          "metadata": {
            "tags": []
          },
          "execution_count": 162
        }
      ]
    }
  ]
}